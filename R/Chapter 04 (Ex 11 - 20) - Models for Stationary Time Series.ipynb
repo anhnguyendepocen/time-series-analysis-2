{
 "cells": [
  {
   "cell_type": "markdown",
   "metadata": {},
   "source": [
    "**Exercise 4.11**.  For the ARMA(1, 2) model $Y_t = 0.8 Y_{t - 1} + e_t + 0.7 e_{t-1} + 0.6 e_{t-2}$, show that\n",
    "\n",
    "**(a)** $\\rho_k = 0.8 \\rho_{k - 1}$ for $k > 2$.\n",
    "\n",
    "**(b)** $\\rho_2 = 0.8 \\rho_1 + 0.6 \\sigma_e^2 / \\gamma_0$."
   ]
  },
  {
   "cell_type": "markdown",
   "metadata": {},
   "source": [
    "**Solution**."
   ]
  },
  {
   "cell_type": "markdown",
   "metadata": {},
   "source": [
    "**(a)**  For $k > 2$,\n",
    "\n",
    "$$ \\gamma_k = \\text{Cov}[Y_t, Y_{t - k}] = \\text{Cov}[0.8 Y_{t-1} + e_t + 0.7 e_{t-1} + 0.6 e_{t-2}, Y_{t - k}] = 0.8 \\text{Cov}[Y_{t - 1}, Y_{t - k}] = 0.8 \\gamma_{k - 1} $$\n",
    "\n",
    "Where we used the fact that $Y_{t - k}$ is independent from the later error variables $e_{t-2}, e_{t-1}, e_t$.  Therefore,  $\\gamma_k = 0.8 \\gamma_{k-1}$, and dividing by $\\gamma_0$ we get the result \n",
    "\n",
    "$$\\rho_k = 0.8 \\rho_{k-1}$$"
   ]
  },
  {
   "cell_type": "markdown",
   "metadata": {},
   "source": [
    "**(b)** For $k = 2$,\n",
    "\n",
    "$$ \n",
    "\\begin{align}\n",
    "\\gamma_2 &= \\text{Cov}[Y_t, Y_{t - 2}]  \\\\\n",
    "&= \\text{Cov}[0.8 Y_{t - 1} + e_t + 0.7 e_{t - 1} + 0.6 e_{t - 2}, Y_{t - 2}] \\\\\n",
    "&= \\text{Cov}[0.8 Y_{t - 1}, Y_{t - 2}] + \\text{Cov}[0.6 e_{t - 2}, Y_{t - 2}] \\\\\n",
    "&= 0.8 \\gamma_1 + 0.6 \\sigma_e^2\n",
    "\\end{align}\n",
    "$$\n",
    "\n",
    "Then, dividing by $\\gamma_0$, we get the result\n",
    "\n",
    "$$ \\rho_2 = 0.8 \\rho_1 + 0.6 \\frac{\\sigma_e^2}{\\gamma_0} $$"
   ]
  },
  {
   "cell_type": "markdown",
   "metadata": {},
   "source": [
    "**Exercise 4.12**.  Consider two MA(2) processes, one with $\\theta_1 = \\theta_2 = 1/6$ and another with $\\theta_1 = -1$ and $\\theta_2 = 6$.\n",
    "\n",
    "**(a)** Show that these processes have the same autocorrelation function.\n",
    "\n",
    "**(b)** How do the roots of the corresponding characteristic polynomials compare?"
   ]
  },
  {
   "cell_type": "markdown",
   "metadata": {},
   "source": [
    "**Solution**."
   ]
  },
  {
   "cell_type": "markdown",
   "metadata": {},
   "source": [
    "**(a)**  For any MA(2) process,\n",
    "\n",
    "$$ \\rho_1 = \\frac{-\\theta_1 + \\theta_1 \\theta_2}{1 + \\theta_1^2 + \\theta_2^2}\n",
    "\\quad \\text{and} \\quad\n",
    "\\rho_2 = \\frac{-\\theta_2}{1 + \\theta_1^2 + \\theta_2^2} $$\n",
    "\n",
    "and $\\rho_k = 0$ for $k > 2$.\n",
    "\n",
    "For the process with $\\theta_1 = \\theta_2 = 1/6$,\n",
    "\n",
    "$$ \\rho_1 = \\frac{-\\frac{1}{6} +  \\left(\\frac{1}{6}\\right)^2}{1 + \\left(\\frac{1}{6}\\right)^2 + \\left(\\frac{1}{6}\\right)^2} = \\frac{-6 + 1}{36 + 1 + 1} = \\frac{-5}{38} $$\n",
    "\n",
    "and\n",
    "\n",
    "$$ \\rho_2 = \\frac{-\\frac{1}{6}}{1 + \\left(\\frac{1}{6}\\right)^2 + \\left(\\frac{1}{6}\\right)^2} = \\frac{-6}{36 + 1 + 1} = -\\frac{3}{19} $$\n",
    "\n",
    "For the process with $\\theta_1 = -1$ and $\\theta_2 = 6$,\n",
    "\n",
    "$$ \\rho_1 = \\frac{-1 + 1 \\cdot 6}{1 + 1^2 + 6^2} = \\frac{5}{38} $$\n",
    "\n",
    "and\n",
    "\n",
    "$$ \\rho_2 = \\frac{-6}{1 + 1^2 + 6^2} = \\frac{3}{19} $$\n",
    "\n",
    "Therefore, both processes have the same autocorrelation function."
   ]
  },
  {
   "cell_type": "markdown",
   "metadata": {},
   "source": [
    "**(b)**  The MA(2) characteristic equation is\n",
    "\n",
    "$$ 1 - \\theta_1 x - \\theta_2 x^2 = 0 $$\n",
    "\n",
    "with roots (potentially complex)\n",
    "\n",
    "$$ \\frac{-\\theta_1 \\pm \\sqrt{\\theta_1^2 + 4 \\theta_2}}{2 \\theta_2}$$\n",
    "\n",
    "For the process with $\\theta_1 = \\theta_2 = 1/6$, the roots are\n",
    "\n",
    "$$ \\frac{-\\frac{1}{6} \\pm \\sqrt{\\left( \\frac{1}{6} \\right)^2 + 4 \\frac{1}{6}} }{2 \\frac{1}{6}} = \\frac{-1 \\pm 5}{2} = \\{ -3, 2 \\} $$\n",
    "\n",
    "and for the process with $\\theta_1 = -1$ and $\\theta_2 = 6$, the roots are\n",
    "\n",
    "$$ \\frac{-(-1) \\pm \\sqrt{(-1)^2 + 4 \\cdot 6}}{2 \\cdot 6} = \\frac{1 \\pm 5}{2} = \\{ -2, 3 \\}$$\n",
    "\n",
    "The roots of one of the polynomials are minus the roots of the other polynomial."
   ]
  },
  {
   "cell_type": "markdown",
   "metadata": {},
   "source": [
    "**Exercise 4.13**.  Let $\\{Y_t\\}$ be a stationary process with $\\rho_k = 0$ for $k > 1$.  Show that we must have $|\\rho_1| \\leq \\frac{1}{2} $.  (Hint: Consider $\\text{Var}[Y_{n+1} - Y_n + Y_{n-1} - \\cdots \\pm Y_1]$.  Use the fact that both of these must be nonnegative for all $n$.)"
   ]
  }
 ],
 "metadata": {
  "kernelspec": {
   "display_name": "R",
   "language": "R",
   "name": "ir"
  },
  "language_info": {
   "codemirror_mode": "r",
   "file_extension": ".r",
   "mimetype": "text/x-r-source",
   "name": "R",
   "pygments_lexer": "r",
   "version": "4.0.0"
  }
 },
 "nbformat": 4,
 "nbformat_minor": 2
}
