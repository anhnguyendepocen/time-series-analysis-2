{
 "cells": [
  {
   "cell_type": "markdown",
   "metadata": {},
   "source": [
    "**Exercise 4.11**.  For the ARMA(1, 2) model $Y_t = 0.8 Y_{t - 1} + e_t + 0.7 e_{t-1} + 0.6 e_{t-2}$, show that\n",
    "\n",
    "**(a)** $\\rho_k = 0.8 \\rho_{k - 1}$ for $k > 2$.\n",
    "\n",
    "**(b)** $\\rho_2 = 0.8 \\rho_1 + 0.6 \\sigma_e^2 / \\gamma_0$."
   ]
  },
  {
   "cell_type": "markdown",
   "metadata": {},
   "source": [
    "**Solution**."
   ]
  },
  {
   "cell_type": "markdown",
   "metadata": {},
   "source": [
    "**(a)**  For $k > 2$,\n",
    "\n",
    "$$ \\gamma_k = \\text{Cov}[Y_t, Y_{t - k}] = \\text{Cov}[0.8 Y_{t-1} + e_t + 0.7 e_{t-1} + 0.6 e_{t-2}, Y_{t - k}] = 0.8 \\text{Cov}[Y_{t - 1}, Y_{t - k}] = 0.8 \\gamma_{k - 1} $$\n",
    "\n",
    "Where we used the fact that $Y_{t - k}$ is independent from the later error variables $e_{t-2}, e_{t-1}, e_t$.  Therefore,  $\\gamma_k = 0.8 \\gamma_{k-1}$, and dividing by $\\gamma_0$ we get the result \n",
    "\n",
    "$$\\rho_k = 0.8 \\rho_{k-1}$$"
   ]
  },
  {
   "cell_type": "markdown",
   "metadata": {},
   "source": [
    "**(b)** For $k = 2$,\n",
    "\n",
    "$$ \n",
    "\\begin{align}\n",
    "\\gamma_2 &= \\text{Cov}[Y_t, Y_{t - 2}]  \\\\\n",
    "&= \\text{Cov}[0.8 Y_{t - 1} + e_t + 0.7 e_{t - 1} + 0.6 e_{t - 2}, Y_{t - 2}] \\\\\n",
    "&= \\text{Cov}[0.8 Y_{t - 1}, Y_{t - 2}] + \\text{Cov}[0.6 e_{t - 2}, Y_{t - 2}] \\\\\n",
    "&= 0.8 \\gamma_1 + 0.6 \\sigma_e^2\n",
    "\\end{align}\n",
    "$$\n",
    "\n",
    "Then, dividing by $\\gamma_0$, we get the result\n",
    "\n",
    "$$ \\rho_2 = 0.8 \\rho_1 + 0.6 \\frac{\\sigma_e^2}{\\gamma_0} $$"
   ]
  },
  {
   "cell_type": "markdown",
   "metadata": {},
   "source": [
    "**Exercise 4.12**.  Consider two MA(2) processes, one with $\\theta_1 = \\theta_2 = 1/6$ and another with $\\theta_1 = -1$ and $\\theta_2 = 6$.\n",
    "\n",
    "**(a)** Show that these processes have the same autocorrelation function.\n",
    "\n",
    "**(b)** How do the roots of the corresponding characteristic polynomials compare?"
   ]
  },
  {
   "cell_type": "markdown",
   "metadata": {},
   "source": [
    "**Solution**."
   ]
  },
  {
   "cell_type": "markdown",
   "metadata": {},
   "source": [
    "**(a)**  For any MA(2) process,\n",
    "\n",
    "$$ \\rho_1 = \\frac{-\\theta_1 + \\theta_1 \\theta_2}{1 + \\theta_1^2 + \\theta_2^2}\n",
    "\\quad \\text{and} \\quad\n",
    "\\rho_2 = \\frac{-\\theta_2}{1 + \\theta_1^2 + \\theta_2^2} $$\n",
    "\n",
    "and $\\rho_k = 0$ for $k > 2$.\n",
    "\n",
    "For the process with $\\theta_1 = \\theta_2 = 1/6$,\n",
    "\n",
    "$$ \\rho_1 = \\frac{-\\frac{1}{6} +  \\left(\\frac{1}{6}\\right)^2}{1 + \\left(\\frac{1}{6}\\right)^2 + \\left(\\frac{1}{6}\\right)^2} = \\frac{-6 + 1}{36 + 1 + 1} = \\frac{-5}{38} $$\n",
    "\n",
    "and\n",
    "\n",
    "$$ \\rho_2 = \\frac{-\\frac{1}{6}}{1 + \\left(\\frac{1}{6}\\right)^2 + \\left(\\frac{1}{6}\\right)^2} = \\frac{-6}{36 + 1 + 1} = -\\frac{3}{19} $$\n",
    "\n",
    "For the process with $\\theta_1 = -1$ and $\\theta_2 = 6$,\n",
    "\n",
    "$$ \\rho_1 = \\frac{-1 + 1 \\cdot 6}{1 + 1^2 + 6^2} = \\frac{5}{38} $$\n",
    "\n",
    "and\n",
    "\n",
    "$$ \\rho_2 = \\frac{-6}{1 + 1^2 + 6^2} = \\frac{3}{19} $$\n",
    "\n",
    "Therefore, both processes have the same autocorrelation function."
   ]
  },
  {
   "cell_type": "markdown",
   "metadata": {},
   "source": [
    "**(b)**  The MA(2) characteristic equation is\n",
    "\n",
    "$$ 1 - \\theta_1 x - \\theta_2 x^2 = 0 $$\n",
    "\n",
    "with roots (potentially complex)\n",
    "\n",
    "$$ \\frac{-\\theta_1 \\pm \\sqrt{\\theta_1^2 + 4 \\theta_2}}{2 \\theta_2}$$\n",
    "\n",
    "For the process with $\\theta_1 = \\theta_2 = 1/6$, the roots are\n",
    "\n",
    "$$ \\frac{-\\frac{1}{6} \\pm \\sqrt{\\left( \\frac{1}{6} \\right)^2 + 4 \\frac{1}{6}} }{2 \\frac{1}{6}} = \\frac{-1 \\pm 5}{2} = \\{ -3, 2 \\} $$\n",
    "\n",
    "and for the process with $\\theta_1 = -1$ and $\\theta_2 = 6$, the roots are\n",
    "\n",
    "$$ \\frac{-(-1) \\pm \\sqrt{(-1)^2 + 4 \\cdot 6}}{2 \\cdot 6} = \\frac{1 \\pm 5}{12} = \\left\\{ -\\frac{1}{3}, \\frac{1}{2} \\right\\}$$"
   ]
  },
  {
   "cell_type": "markdown",
   "metadata": {},
   "source": [
    "**Exercise 4.13**.  Let $\\{Y_t\\}$ be a stationary process with $\\rho_k = 0$ for $k > 1$.  Show that we must have $|\\rho_1| \\leq \\frac{1}{2} $.  (Hint: Consider  $\\text{Var}[Y_{n+1} + Y_n + Y_{n-1} + \\cdots \\pm Y_1]$ and then $\\text{Var}[Y_{n+1} - Y_n + Y_{n-1} - \\cdots \\pm Y_1]$.  Use the fact that both of these must be nonnegative for all $n$.)"
   ]
  },
  {
   "cell_type": "markdown",
   "metadata": {},
   "source": [
    "**Solution**.  We have:\n",
    "\n",
    "$$ \\text{Var}\\left[ \\sum_{k=0}^t Y_{t - k} \\right] = \\sum_{i=0}^t \\sum_{j=0}^t \\text{Cov}[Y_{t - i}, Y_{t - j}] = t \\gamma_0 + 2(t - 1) \\gamma_1 $$\n",
    "\n",
    "and\n",
    "\n",
    "$$ \\text{Var}\\left[ \\sum_{k=0}^t (-1)^k Y_{t - k} \\right] = \\sum_{i=0}^t \\sum_{j=0}^t (-1)^{i+j}\\text{Cov}[Y_{t - i}, Y_{t - j}] = t \\gamma_0 - 2(t - 1) \\gamma_1 $$\n",
    "\n",
    "since all terms $\\text{Cov}[Y_{t - i}, Y_{t - j}] = \\gamma_{|i - j|}$ are zero for $|i - j| > 1$, and there are $t$ terms with $|i - j| = 0$ and $2(t - 1)$ terms with $|i - j| = 1$.\n",
    "\n",
    "As hinted, the variances must be non-negative, so\n",
    "\n",
    "$$ \n",
    "t \\gamma_0 + 2(t - 1) \\gamma_1 \\geq 0 \n",
    "\\quad \\text{and} \\quad\n",
    "t \\gamma_0 - 2(t - 1) \\gamma_1 \\geq 0 \n",
    "$$\n",
    "\n",
    "Dividing by $ \\text{Var}[Y_t] = \\gamma_0 \\geq 0$, we get\n",
    "\n",
    "$$ \n",
    "t + 2(t - 1) \\rho_1 \\geq 0 \n",
    "\\quad \\text{and} \\quad\n",
    "t - 2(t - 1) \\rho_1 \\geq 0 \n",
    "$$\n",
    "\n",
    "from where we bound $\\rho_1$ as\n",
    "\n",
    "$$ -\\frac{1}{2} \\frac{t}{t - 1} \\rho_1 \\leq \\frac{1}{2} \\frac{t}{t - 1}$$\n",
    "\n",
    "Since this is valid for all $t$, we can take the limits, obtaining\n",
    "\n",
    "$$ -\\frac{1}{2} \\leq \\rho_1 \\leq \\frac{1}{2} $$\n",
    "\n",
    "Proof:  if $\\rho_1 = \\frac{1}{2} + \\epsilon$, for some $\\epsilon > 0$, then we can pick sufficiently large $t$ to falsify $\\rho_1 \\leq \\frac{1}{2} \\frac{t}{t - 1}$, a contradiction.  An analogous argument applies for $\\rho_1 = -\\frac{1}{2} - \\epsilon$, for some $\\epsilon > 0$, and $ -\\frac{1}{2} \\frac{t}{t - 1} \\rho_1 $.\n",
    "\n",
    "Therefore, we have shown that\n",
    "\n",
    "$$ | \\rho_1 | < \\frac{1}{2} $$"
   ]
  },
  {
   "cell_type": "markdown",
   "metadata": {},
   "source": [
    "**Exercise 4.14**.  Suppose that $\\{Y_t\\}$ is a zero mean, stationary process with $| \\rho_1 | < 0.5$ and $\\rho_k = 0$ for all $k > 1$.  Show that $\\{Y_t\\}$ must be representable as a MA(1) process.  That is, show that there is a white noise sequence $\\{e_t\\}$ such that $Y_t = e_t - \\theta e_{t - 1}$, where $\\rho_1$ is correct and $e_t$ is uncorrelated with $Y_{t - k}$ for $k > 0$.  (Hint:  Choose $\\theta$ such that $|\\theta| < 1$ and $\\rho_1 = -\\theta / (1 + \\theta^2)$; then let $e_t = \\sum_{j=0}^\\infty \\theta^j Y_{t - j}$.  If we assume that $\\{Y_t\\}$ is a normal process, $e_t$ will also be normal, and zero correlation is equivalent to independence.)"
   ]
  },
  {
   "cell_type": "markdown",
   "metadata": {},
   "source": [
    "**Solution**.  Note that the roots of $\\theta^2 \\rho_1 + \\theta + \\rho_1 = 0$ (assuming $\\rho_1 \\neq 0$) are\n",
    "\n",
    "$$ \\frac{-1 \\pm \\sqrt{1 - 4 \\rho_1}}{2 \\rho_1} $$\n",
    "\n",
    "which are real since $| \\rho_1 | < 0.5$.  Also note that $-1 + \\sqrt{1 - 4 \\rho_1} < |2 \\rho_1|$ and so the root\n",
    "\n",
    "$$ \\theta = \\frac{-1 + \\sqrt{1 - 4 \\rho_1}}{2 \\rho_1} $$\n",
    "\n",
    "satisfies $|\\theta| < 1$.  Choosing such $\\theta$, we get as hinted $\\rho_1 = -\\theta / (1 + \\theta^2)$ and $|\\theta| < 1$.\n",
    "\n",
    "Now, given the sequence $\\{Y_t\\}$ and this choice of $\\theta$, define the sequence $\\{e_t\\}$ by \n",
    "\n",
    "$$e_t = \\sum_{k=0}^t \\theta^k Y_{t - k}$$\n",
    "\n",
    "By construction, \n",
    "\n",
    "$$Y_t = e_t - \\theta e_{t - 1}$$\n",
    "\n",
    "The process $\\{e_t\\}$ has zero mean:\n",
    "\n",
    "$$ \\text{E}[e_t] = \\sum_{k=0}^t \\theta^k \\text{E}[Y_{t - k}] = \\sum_{k=0}^t \\theta^k \\cdot 0 = 0 $$\n",
    "\n",
    "For $k > 0$, the autocovariance is\n",
    "\n",
    "$$\n",
    "\\begin{align}\n",
    "\\text{Cov}[e_t, e_{t-k}] &= \\text{Cov}\\left[\\sum_{j=0}^t \\theta^j Y_{t-j}, \\sum_{j=0}^{t-k} \\theta^j Y_{t-j-k} \\right] \\\\ \n",
    "&= \\sum_{i=0}^t \\sum_{j=0}^{t-k} \\theta^{i+j} \\text{Cov}[Y_{t - i}, Y_{t - j - k}] \\\\\n",
    "&= \\sum_{\\ell=0}^{t-k+1} \\theta^{2\\ell + 1} \\gamma_0 + \\sum_{\\ell=0}^{t-k+1} \\theta^{2\\ell} \\gamma_1 + \\sum_{\\ell=0}^{t-k+1} \\theta^{2\\ell+2} \\gamma_1\n",
    "\\end{align}\n",
    "$$\n",
    "\n",
    "where the first sum corresponds to the terms where $i = j = \\ell$, the second sum corresponds to the terms where $i = j + 1 = \\ell$, and the third sum correpsonds to the terms where $i = j + 2 = \\ell$; all other covariance terms involve $Y_a, Y_b$ with $|a - b| > 1$, and so $\\text{Cov}[Y_a, Y_b]$ is zero.\n",
    "\n",
    "We can now factor the geometric sums and use $\\gamma_1 = \\gamma_0 \\rho_1$:\n",
    "\n",
    "$$\n",
    "\\begin{align}\n",
    "\\text{Cov}[e_t, e_{t-k}] \n",
    "&= \\theta \\gamma_0 \\left(\\sum_{\\ell=0}^{t-k+1} \\theta^{2\\ell} \\right) + \\gamma_0 \\rho_1 \\left(\\sum_{\\ell=0}^{t-k+1} \\theta^{2\\ell} \\right) + \\theta^2 \\gamma_0 \\rho_1 \\left( \\sum_{\\ell=0}^{t-k+1} \\theta^{2\\ell} \\right) \\\\\n",
    "&= \\left( \\sum_{\\ell=0}^{t-k+1} \\theta^{2\\ell} \\right) \\gamma_0 \\left( \\theta + \\rho_1 + \\theta^2 \\rho_1 \\right)\n",
    "\\end{align}\n",
    "$$\n",
    "\n",
    "Since selected $\\theta$ such that $\\theta + \\rho_1 + \\theta^2 \\rho_1 = 0$, the covariance above is 0.\n",
    "\n",
    "Therefore, $\\{e_t\\}$ has autocorrelation function $\\rho^{\\{e_t\\}}_k = 0$ for $k > 0$ and mean 0, and so it can be considered white noise -- and thus $\\{Y_t\\}$ can be represented as a MA(1) process, namely $Y_t = e_t - \\theta e_{t-1}$."
   ]
  },
  {
   "cell_type": "markdown",
   "metadata": {},
   "source": [
    "**Exercise 4.15**.  Consider the AR(1) model $Y_t = \\phi Y_{t-1} + e_t$.  Show that if $|\\phi| = 1$ the process cannot be stationary.  (Hint: Take variances on both sides.)"
   ]
  },
  {
   "cell_type": "markdown",
   "metadata": {},
   "source": [
    "**Solution**.  Assuming the process is stationary, taking variance on both sides we get\n",
    "\n",
    "$$ \\gamma_0 = \\phi^2 \\gamma_0 + \\sigma_e^2 $$\n",
    "\n",
    "But if $|\\phi| = 1$, the above reduces to $0 = \\sigma_e^2$, a contradiction."
   ]
  },
  {
   "cell_type": "markdown",
   "metadata": {},
   "source": [
    "**Exercise 4.16**.   Consider the \"nonstationary\" AR(1) model $Y_t = 3 Y_{t-1} + e_t$.\n",
    "\n",
    "**(a)** Show that $Y_t = -\\sum_{j=1}^\\infty \\left( \\frac{1}{3} \\right)^j e_{t + j}$ satisfies the AR(1) equation.\n",
    "\n",
    "**(b)** Show that the process defined in part (a) is stationary.\n",
    "\n",
    "**(c)** In what way is this solution unsatisfactory?"
   ]
  },
  {
   "cell_type": "markdown",
   "metadata": {},
   "source": [
    "**Solution**."
   ]
  },
  {
   "cell_type": "markdown",
   "metadata": {},
   "source": [
    "**(a)**\n",
    "\n",
    "$$ 3 Y_{t - 1} + e_t = 3 \\left( -\\sum_{j=1}^\\infty 3^{-j} e_{t-1+j} \\right) + e_t = -\\sum_{j=1}^\\infty 3^{-j} e_{t+j} = Y_t $$"
   ]
  },
  {
   "cell_type": "markdown",
   "metadata": {},
   "source": [
    "**(b)**  The mean of the process is\n",
    "\n",
    "$$ \\text{E}\\left[  -\\sum_{j=1}^\\infty 3^{-j} e_{t + j} \\right] = -\\sum_{j=1}^\\infty 3^{-j} \\text{E}[e_{t+j}] = -\\sum_{j=1}^\\infty 3^{-j} \\cdot 0 = 0 $$\n",
    "\n",
    "and the autocovariance for $k > 0$ is\n",
    "\n",
    "$$ \n",
    "\\begin{align}\n",
    "\\text{Cov}[Y_t, Y_{t-k}] &= \\text{Cov}\\left[-\\sum_{j=1}^\\infty 3^{-j} e_{t + j}, -\\sum_{j=1}^\\infty 3^{-j} e_{t + j - k} \\right] \\\\\n",
    "&= \\sum_{i=0}^\\infty \\sum_{j=0}^\\infty 3^{-(i+j)} \\text{Cov}[e_{t+i}, e_{t+j-k}] \\\\\n",
    "&= \\sum_{\\ell=0}^\\infty 3^{-2\\ell-k} \\sigma_e^2\n",
    "\\end{align}\n",
    "$$\n",
    "\n",
    "which is not dependent on $t$, so the process as defined is stationary."
   ]
  },
  {
   "cell_type": "markdown",
   "metadata": {},
   "source": [
    "**(c)** The process is not causal: the definition of $Y_t$ depends on future error terms $e_{t+j}$."
   ]
  },
  {
   "cell_type": "markdown",
   "metadata": {},
   "source": [
    "**Exercise 4.17**.  Consider a process that satisfies the AR(1) equation $Y_t = \\frac{1}{2} Y_{t-1} + e_t$.\n",
    "\n",
    "**(a)**  Show that $Y_t = 10 \\left( \\frac{1}{2} \\right)^t + e_t + \\frac{1}{2} e_{t-1} +  \\left(\\frac{1}{2}\\right)^2 e_{t-2} + \\cdots $ is a solution of the AR(1) equation.\n",
    "\n",
    "**(b)**  Is the solution given in (a) stationary?"
   ]
  },
  {
   "cell_type": "markdown",
   "metadata": {},
   "source": [
    "**Solution**."
   ]
  },
  {
   "cell_type": "markdown",
   "metadata": {},
   "source": [
    "**(a)**\n",
    "\n",
    "$$ \\frac{1}{2} Y_{t-1} + e_t \n",
    "= \\frac{1}{2} \\left( 10 \\cdot 2^{-(t-1)} + \\sum_{j=0}^\\infty 2^{-j} e_{t-1-j} \\right) + e_t\n",
    "= 10 \\cdot 2^{-t} + \\sum_{j=0}^\\infty 2^{-j} e_{t-j} = Y_t\n",
    "$$"
   ]
  },
  {
   "cell_type": "markdown",
   "metadata": {},
   "source": [
    "**(b)**  No.  The mean of the process is\n",
    "\n",
    "$$ \\text{E}[Y_t] = \\text{E}\\left[ 10 \\cdot 2^{-t} + \\sum_{j=0}^\\infty 2^{-j} e_{t-j} \\right] = 10 \\cdot 2^{-t} $$\n",
    "\n",
    "which is dependent on $t$."
   ]
  },
  {
   "cell_type": "markdown",
   "metadata": {},
   "source": [
    "**Exercise 4.18**.  Consider a process that satisfies the zero mean, \"stationary\" AR(1) equation $Y_t = \\phi Y_{t-1} + e_t$ with $-1 < \\phi < 1$.  Let $c$ be any non-zero constant, and define $W_t = Y_t + c \\phi^t$.\n",
    "\n",
    "**(a)** Show that $\\text{E}[W_t] = c \\phi^t$.\n",
    "\n",
    "**(b)** Show that $\\{W_t\\}$ satifies the \"stationary\" AR(1) equation $W_t = \\phi W_{t-1} + e_t$.\n",
    "\n",
    "**(c)** Is $\\{W_t\\}$ stationary?"
   ]
  },
  {
   "cell_type": "markdown",
   "metadata": {},
   "source": [
    "**Solution**."
   ]
  },
  {
   "cell_type": "markdown",
   "metadata": {},
   "source": [
    "**(a)**\n",
    "\n",
    "$$ \\text{E}[W_t] = \\text{E}[Y_t + c \\phi^t] = \\text{E}[Y_t] + c \\phi^t = c \\phi^t $$"
   ]
  },
  {
   "cell_type": "markdown",
   "metadata": {},
   "source": [
    "**(b)**\n",
    "\n",
    "$$ \\phi W_{t-1} + e_t = \\phi (Y_{t - 1} + c\\phi^{t-1}) + e_t = \\phi Y_{t - 1} + e_t + c\\phi^t = Y_t + c\\phi^t = W_t $$"
   ]
  },
  {
   "cell_type": "markdown",
   "metadata": {},
   "source": [
    "**(c)**  No, because $\\text{E}[W_t]$ is dependent on $t$."
   ]
  },
  {
   "cell_type": "markdown",
   "metadata": {},
   "source": [
    "**Exercise 4.19**.  Consider an MA(6) model with $\\theta_1 = 0.5$, $\\theta_2 = -0.25$, $\\theta_3 = 0.125$, $\\theta_4 = -0.0625$, $\\theta_5 = 0.03125$ and $\\theta_6 = -0.015625$.  Find a much simpler model that has nearly the same $\\psi$-weights."
   ]
  },
  {
   "cell_type": "markdown",
   "metadata": {},
   "source": [
    "**Solution**.  The provided weights are $\\theta_k = -(-0.5)^k$ for $1 \\leq k \\leq 6$.  This suggests using a AR model with $\\phi = -0.5$, as that one would have $\\psi_k = \\phi^k$ for all $k$, and not only $1 \\leq k \\leq 6$."
   ]
  },
  {
   "cell_type": "code",
   "execution_count": 1,
   "metadata": {},
   "outputs": [
    {
     "name": "stderr",
     "output_type": "stream",
     "text": [
      "Loading required package: ggplot2\n",
      "\n",
      "Loading required package: latex2exp\n",
      "\n"
     ]
    }
   ],
   "source": [
    "require(ggplot2)\n",
    "require(latex2exp)"
   ]
  },
  {
   "cell_type": "code",
   "execution_count": 2,
   "metadata": {},
   "outputs": [],
   "source": [
    "# Function to plot provided autocorrelations\n",
    "plot_acf <- function(acf, title='ACF') {\n",
    "    max_k = length(acf)\n",
    "    k = seq(1, max_k)\n",
    "    \n",
    "    options(repr.plot.width=12, repr.plot.height=4)\n",
    "    p = ggplot() +\n",
    "        geom_point(aes(x=k, y=acf), color='blue')\n",
    "    for (i in 1:max_k) {\n",
    "        p = p + geom_line(aes_string(x=k[i], y=c(0, acf[i])), color='blue')\n",
    "    }\n",
    "    p + geom_line(aes(x=k, y=0), color='blue', linetype='dashed') +\n",
    "        xlab('Lag') + ylab(TeX('$\\\\rho_k$')) +\n",
    "        ggtitle(title) +\n",
    "        theme_bw() + theme(text = element_text(size=16), plot.title = element_text(hjust = 0.5))\n",
    "}"
   ]
  },
  {
   "cell_type": "code",
   "execution_count": 3,
   "metadata": {},
   "outputs": [
    {
     "data": {
      "image/png": "[encoded data removed]",
      "text/plain": [
       "plot without title"
      ]
     },
     "metadata": {
      "image/png": {
       "height": 240,
       "width": 720
      }
     },
     "output_type": "display_data"
    },
    {
     "data": {
      "image/png": "[encoded data removed]",
      "text/plain": [
       "plot without title"
      ]
     },
     "metadata": {
      "image/png": {
       "height": 240,
       "width": 720
      }
     },
     "output_type": "display_data"
    }
   ],
   "source": [
    "plot_acf(ARMAacf(ma=(-0.5)**seq(5), lag.max=10), title='ACF for MA(6)')\n",
    "plot_acf(ARMAacf(ar=-0.5, lag.max=10), title='ACF for AR(1)')"
   ]
  },
  {
   "cell_type": "markdown",
   "metadata": {},
   "source": [
    "**Exercise 4.20**.  Consider an MA(7) model with $\\theta_1 = 1, \\theta_2 = -0.5, \\theta_3 = 0.25, \\theta_4 = -0.125, \\theta_5 = 0.0625, \\theta_6 = -0.03125$, and $\\theta_7 = 0.015625$.  Find a much simpler model that has nearly the same $\\psi$-weights."
   ]
  },
  {
   "cell_type": "markdown",
   "metadata": {},
   "source": [
    "**Solution**.  This is similar to Exercise 4.19, but now the decay starts from a different point.  This suggests using an ARMA(1, 1) model; namely, one with $\\phi = -0.5$ and $\\theta = 0.5$.  For this model,\n",
    "\n",
    "$$ \\psi_k = (\\phi - \\theta) \\phi^{k-1} = (-0.5)^{k-1}$$\n",
    "\n",
    "or, with our parameter choice, $ \\psi_k = -(-0.5)^{k-1}$, which is a good approximation of the MA(7) model."
   ]
  },
  {
   "cell_type": "code",
   "execution_count": 4,
   "metadata": {},
   "outputs": [
    {
     "data": {
      "image/png": "[encoded data removed]",
      "text/plain": [
       "plot without title"
      ]
     },
     "metadata": {
      "image/png": {
       "height": 240,
       "width": 720
      }
     },
     "output_type": "display_data"
    },
    {
     "data": {
      "image/png": "[encoded data removed]",
      "text/plain": [
       "plot without title"
      ]
     },
     "metadata": {
      "image/png": {
       "height": 240,
       "width": 720
      }
     },
     "output_type": "display_data"
    }
   ],
   "source": [
    "plot_acf(ARMAacf(ma=-(-0.5)**seq(0, 6), lag.max=10), title='ACF for MA(7)')\n",
    "plot_acf(ARMAacf(ar=-0.5, ma=-0.5, lag.max=10), title='ACF for ARMA(1, 1)')"
   ]
  }
 ],
 "metadata": {
  "kernelspec": {
   "display_name": "R",
   "language": "R",
   "name": "ir"
  },
  "language_info": {
   "codemirror_mode": "r",
   "file_extension": ".r",
   "mimetype": "text/x-r-source",
   "name": "R",
   "pygments_lexer": "r",
   "version": "4.0.0"
  }
 },
 "nbformat": 4,
 "nbformat_minor": 2
}
