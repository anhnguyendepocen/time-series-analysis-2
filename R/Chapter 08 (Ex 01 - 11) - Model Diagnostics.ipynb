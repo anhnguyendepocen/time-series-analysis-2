{
 "cells": [
  {
   "cell_type": "markdown",
   "metadata": {},
   "source": [
    "## 8. Model Diagnostics"
   ]
  },
  {
   "cell_type": "markdown",
   "metadata": {},
   "source": [
    "**Exercise 8.1**.  For an AR(1) model with $\\phi \\approx 0.5$ and $n = 100$, the lag 1 sample autocorrelation of the residuals is 0.5.  Should we consider this unusual?  Why or why not?"
   ]
  },
  {
   "cell_type": "markdown",
   "metadata": {},
   "source": [
    "**Solution**.  From Equation (8.1.5),\n",
    "\n",
    "$$ \\text{Var}[\\hat{r}_1] \\approx \\frac{\\phi^2}{n} $$\n",
    "\n",
    "so the standard error of the sample correlation to be approximately 0.05, and we should expect the lag 1 sample autocorrelation to be within 2 standard errors, $\\pm 0.1$.  A value of 0.5 is unusual."
   ]
  },
  {
   "cell_type": "markdown",
   "metadata": {},
   "source": [
    "**Exercise 8.2**.  Repeat Exercise 8.1 for an MA(1) model with $\\theta \\approx 0.5$ and and $n = 100$."
   ]
  },
  {
   "cell_type": "markdown",
   "metadata": {},
   "source": [
    "**Solution**.  Page 183 indicates that we can replace $\\phi$ with $\\theta$ for MA(1) models, so\n",
    "\n",
    "$$ \\text{Var}[\\hat{r}_1] \\approx \\frac{\\theta^2}{n} $$\n",
    "\n",
    "Once again the standard error of the sample correlation is approximately 0.05, and we should expect the lag 1 sample autocorrelation to be within 2 standard errors, $\\pm 0.1$.  A value of 0.5 is unusual."
   ]
  },
  {
   "cell_type": "markdown",
   "metadata": {},
   "source": [
    "**Exercise 8.3**.  Based on a series of length $n = 200$, we fit an AR(2) model and obtain residual autocorrelations of $\\hat{r}_1 = 0.13$, $\\hat{r}_2 = 0.13$, and $\\hat{r}_3 = 0.12$.  If $\\hat{\\phi}_1 = 1.1$ and $\\hat{\\phi}_2 = −0.8$, do these residual autocorrelations support the AR(2) specification?  Individually  Jointly?"
   ]
  },
  {
   "cell_type": "markdown",
   "metadata": {},
   "source": [
    "**Solution**.  Equations (8.1.8), (8.1.9) and (8.1.10) state that, for the AR(2) model,\n",
    "\n",
    "$$\n",
    "\\text{Var}[\\hat{r}_1] \\approx \\frac{\\phi_2^2}{n},\n",
    "\\quad\n",
    "\\text{Var}[\\hat{r}_2] \\approx \\frac{\\phi_2^2 + \\phi_1^2(1 + \\phi_2)^2}{n},\n",
    "\\quad\n",
    "\\text{Var}[\\hat{r}_k] \\approx \\frac{1}{n} \\quad \\text{for } k \\geq 3\n",
    "$$\n",
    "\n",
    "Replacing in the given values, we get\n",
    "\n",
    "$$\n",
    "2 \\sqrt{\\text{Var}[\\hat{r}_1]} \\approx 0.113,\n",
    "\\quad\n",
    "2 \\sqrt{\\text{Var}[\\hat{r}_2]} \\approx 0.117,\n",
    "\\quad\n",
    "2 \\sqrt{\\text{Var}[\\hat{r}_k]} \\approx 0.141 \\quad \\text{for } k \\geq 3\n",
    "$$\n",
    "\n",
    "The residual autocorrelations for $\\hat{r}_1$ and $\\hat{r}_2$ are above those thresholds, while the residual autocorrelation for $\\hat{r}_3$ is under the corresponding threshold.\n",
    "\n",
    "The Ljung-Box statistic is\n",
    "\n",
    "$$ Q_* = n(n+2) \\left( \\frac{\\hat{r}_1^2}{n - 1} + \\frac{\\hat{r}_2^2}{n - 2} + \\frac{\\hat{r}_3^2}{n - 3} \\right) $$\n",
    "\n",
    "which, replacing values, gives $Q_* \\approx 9.832$.  If the AR(2) speficication is correct, then $Q_*$ should have approximately a chi-square distribution with 3 - 2 = 1 degree of freedom.  But $\\text{Pr}[\\chi_1^2 > Q_*] \\approx 0.0017$, so the residual correlations are jointly too large to support the AR(2) specification at p-value 0.01."
   ]
  },
  {
   "cell_type": "code",
   "execution_count": 1,
   "metadata": {},
   "outputs": [
    {
     "name": "stdout",
     "output_type": "stream",
     "text": [
      "[1] 9.832334\n"
     ]
    }
   ],
   "source": [
    "n = 200\n",
    "r1 = 0.13\n",
    "r2 = 0.13\n",
    "r3 = 0.12\n",
    "Qstar = n * (n + 2) * (r1**2/(n-1) + r2**2/(n-2) + r3**2/(n-3))\n",
    "print(Qstar)"
   ]
  },
  {
   "cell_type": "code",
   "execution_count": 2,
   "metadata": {},
   "outputs": [
    {
     "name": "stdout",
     "output_type": "stream",
     "text": [
      "[1] 0.001714706\n"
     ]
    }
   ],
   "source": [
    "print(1 - pchisq(Qstar, df=1))"
   ]
  },
  {
   "cell_type": "markdown",
   "metadata": {},
   "source": [
    "**Exercise 8.4**.  Simulate an AR(1) model with $n = 30$ and $\\phi = 0.5$.\n",
    "\n",
    "**(a)** Fit the correctly specified AR(1) model and look at a time series plot of the residuals.  Does the plot support the AR(1) specification?\n",
    "\n",
    "**(b)** Display a normal quantile-quantile plot of the standardized residuals.  Does the plot support the AR(1) specification?\n",
    "\n",
    "**(c)** Display the sample ACF of the residuals.  Does the plot support the AR(1) specification?\n",
    "\n",
    "**(d)** Calculate the Ljung-Box statistic summing to $K = 8$.  Does this statistic support the AR(1) specification?"
   ]
  },
  {
   "cell_type": "markdown",
   "metadata": {},
   "source": [
    "**Solution**."
   ]
  },
  {
   "cell_type": "code",
   "execution_count": 3,
   "metadata": {},
   "outputs": [],
   "source": [
    "set.seed(1000)\n",
    "Y = arima.sim(model=list(ar=0.5), n=30)"
   ]
  },
  {
   "cell_type": "markdown",
   "metadata": {},
   "source": [
    "**(a)**"
   ]
  },
  {
   "cell_type": "code",
   "execution_count": 4,
   "metadata": {},
   "outputs": [],
   "source": [
    "model = arima(Y, order=c(1,0,0), method='ML')"
   ]
  },
  {
   "cell_type": "code",
   "execution_count": 5,
   "metadata": {},
   "outputs": [
    {
     "name": "stderr",
     "output_type": "stream",
     "text": [
      "Loading required package: ggplot2\n",
      "\n",
      "Loading required package: latex2exp\n",
      "\n"
     ]
    }
   ],
   "source": [
    "require(ggplot2)\n",
    "require(latex2exp)"
   ]
  },
  {
   "cell_type": "code",
   "execution_count": 6,
   "metadata": {},
   "outputs": [
    {
     "data": {
      "image/png": "[encoded data removed]",
      "text/plain": [
       "plot without title"
      ]
     },
     "metadata": {
      "image/png": {
       "height": 240,
       "width": 720
      }
     },
     "output_type": "display_data"
    }
   ],
   "source": [
    "options(repr.plot.width=12, repr.plot.height=4)\n",
    "\n",
    "ggplot() + \n",
    "  geom_line(aes(x=1:length(Y), y=c(model$resid)), color='blue', na.rm=T) +\n",
    "  xlab('') + ylab('Residuals') +\n",
    "  theme_bw() + theme(text = element_text(size=16))"
   ]
  },
  {
   "cell_type": "markdown",
   "metadata": {},
   "source": [
    "Residuals look random."
   ]
  },
  {
   "cell_type": "markdown",
   "metadata": {},
   "source": [
    "**(b)**"
   ]
  },
  {
   "cell_type": "code",
   "execution_count": 7,
   "metadata": {},
   "outputs": [
    {
     "data": {
      "image/png": "[encoded data removed]",
      "text/plain": [
       "Plot with title \"Normal Q-Q Plot\""
      ]
     },
     "metadata": {
      "image/png": {
       "height": 480,
       "width": 720
      }
     },
     "output_type": "display_data"
    }
   ],
   "source": [
    "options(repr.plot.width=12, repr.plot.height=8)\n",
    "qqnorm(model$resid); qqline(model$resid)"
   ]
  },
  {
   "cell_type": "markdown",
   "metadata": {},
   "source": [
    "Tails look suspect on both ends.  Let's do Shapiro-Wilk to verify normality:"
   ]
  },
  {
   "cell_type": "code",
   "execution_count": 8,
   "metadata": {},
   "outputs": [
    {
     "data": {
      "text/plain": [
       "\n",
       "\tShapiro-Wilk normality test\n",
       "\n",
       "data:  model$resid\n",
       "W = 0.96858, p-value = 0.5011\n"
      ]
     },
     "metadata": {},
     "output_type": "display_data"
    }
   ],
   "source": [
    "shapiro.test(model$resid)"
   ]
  },
  {
   "cell_type": "markdown",
   "metadata": {},
   "source": [
    "The test fails to reject normality."
   ]
  },
  {
   "cell_type": "markdown",
   "metadata": {},
   "source": [
    "**(c)**"
   ]
  },
  {
   "cell_type": "code",
   "execution_count": 9,
   "metadata": {},
   "outputs": [],
   "source": [
    "plot_acf_with_bounds <- function(acf, lower, upper, title='ACF') {\n",
    "    max_k = length(acf)\n",
    "    k = seq(1, max_k)\n",
    "    \n",
    "    options(repr.plot.width=12, repr.plot.height=4)\n",
    "    p = ggplot() + geom_ribbon(aes(x=k, ymin=lower, ymax=upper), fill='blue', alpha=0.1) +\n",
    "        geom_point(aes(x=k, y=acf), color='blue')\n",
    "    for (i in 1:max_k) {\n",
    "        p = p + geom_line(aes_string(x=k[i], y=c(0, acf[i])), color='blue')\n",
    "    }\n",
    "    p + geom_line(aes(x=k, y=0), color='blue', linetype='dashed') +\n",
    "        xlab('Lag') + ylab(TeX('$\\\\rho_k$')) +\n",
    "        ggtitle(title) +\n",
    "        theme_bw() + theme(text = element_text(size=16), plot.title = element_text(hjust = 0.5))\n",
    "}"
   ]
  },
  {
   "cell_type": "code",
   "execution_count": 10,
   "metadata": {},
   "outputs": [
    {
     "data": {
      "image/png": "[encoded data removed]",
      "text/plain": [
       "plot without title"
      ]
     },
     "metadata": {
      "image/png": {
       "height": 240,
       "width": 720
      }
     },
     "output_type": "display_data"
    }
   ],
   "source": [
    "r = acf(model$resid, lag.max=15, plot=F)$acf[-1]\n",
    "se = 1 / sqrt(length(Y))\n",
    "plot_acf_with_bounds(r, - 2 * se, + 2*se, title='Sample ACF for residuals')"
   ]
  },
  {
   "cell_type": "markdown",
   "metadata": {},
   "source": [
    "ACF indicates residuals are random."
   ]
  },
  {
   "cell_type": "markdown",
   "metadata": {},
   "source": [
    "**(d)**"
   ]
  },
  {
   "cell_type": "code",
   "execution_count": 11,
   "metadata": {},
   "outputs": [],
   "source": [
    "ljung.box.test <- function(r, n, k_ar=0, k_ma=0) {\n",
    "    nlags = length(r)\n",
    "    denominators = (n-1):(n-nlags)\n",
    "    Qstar = n * (n-2) * sum(r**2 / denominators)\n",
    "    df = nlags - k_ar - k_ma\n",
    "    p_value = 1 - pchisq(Qstar, df=df)\n",
    "    \n",
    "    list('X-squared'=Qstar, df=df, 'p-value'=p_value)\n",
    "}"
   ]
  },
  {
   "cell_type": "code",
   "execution_count": 12,
   "metadata": {},
   "outputs": [
    {
     "data": {
      "text/html": [
       "<dl>\n",
       "\t<dt>$`X-squared`</dt>\n",
       "\t\t<dd>4.27915977814229</dd>\n",
       "\t<dt>$df</dt>\n",
       "\t\t<dd>7</dd>\n",
       "\t<dt>$`p-value`</dt>\n",
       "\t\t<dd>0.747120620189247</dd>\n",
       "</dl>\n"
      ],
      "text/latex": [
       "\\begin{description}\n",
       "\\item[\\$`X-squared`] 4.27915977814229\n",
       "\\item[\\$df] 7\n",
       "\\item[\\$`p-value`] 0.747120620189247\n",
       "\\end{description}\n"
      ],
      "text/markdown": [
       "$`X-squared`\n",
       ":   4.27915977814229\n",
       "$df\n",
       ":   7\n",
       "$`p-value`\n",
       ":   0.747120620189247\n",
       "\n",
       "\n"
      ],
      "text/plain": [
       "$`X-squared`\n",
       "[1] 4.27916\n",
       "\n",
       "$df\n",
       "[1] 7\n",
       "\n",
       "$`p-value`\n",
       "[1] 0.7471206\n"
      ]
     },
     "metadata": {},
     "output_type": "display_data"
    }
   ],
   "source": [
    "ljung.box.test(acf(model$resid, lag.max=8, plot=F)$acf[-1], n=length(Y), k_ar=1)"
   ]
  },
  {
   "cell_type": "markdown",
   "metadata": {},
   "source": [
    "The test does not reject randomness of error based on the first 8 autocorrelations."
   ]
  },
  {
   "cell_type": "markdown",
   "metadata": {},
   "source": [
    "**Exercise 8.5**. Simulate an MA(1) model with $n = 36$ and $\\theta = −0.5$.\n",
    "\n",
    "**(a)** Fit the correctly specified MA(1) model and look at a time series plot of the residuals.  Does the plot support the MA(1) specification?\n",
    "\n",
    "**(b)** Display a normal quantile-quantile plot of the standardized residuals.  Does the plot support the MA(1) specification?\n",
    "\n",
    "**(c)** Display the sample ACF of the residuals.  Does the plot support the MA(1) specification?\n",
    "\n",
    "**(d)** Calculate the Ljung-Box statistic summing to K = 6.  Does this statistic support the MA(1) specification?"
   ]
  },
  {
   "cell_type": "markdown",
   "metadata": {},
   "source": [
    "**Solution**."
   ]
  },
  {
   "cell_type": "code",
   "execution_count": 13,
   "metadata": {},
   "outputs": [],
   "source": [
    "set.seed(2000)\n",
    "Y = arima.sim(model=list(ma=-0.5), n=36)"
   ]
  },
  {
   "cell_type": "markdown",
   "metadata": {},
   "source": [
    "**(a)**"
   ]
  },
  {
   "cell_type": "code",
   "execution_count": 14,
   "metadata": {},
   "outputs": [],
   "source": [
    "model = arima(Y, order=c(0,0,1), method='ML')"
   ]
  },
  {
   "cell_type": "code",
   "execution_count": 15,
   "metadata": {},
   "outputs": [
    {
     "data": {
      "image/png": "[encoded data removed]",
      "text/plain": [
       "plot without title"
      ]
     },
     "metadata": {
      "image/png": {
       "height": 240,
       "width": 720
      }
     },
     "output_type": "display_data"
    }
   ],
   "source": [
    "options(repr.plot.width=12, repr.plot.height=4)\n",
    "\n",
    "ggplot() + \n",
    "  geom_line(aes(x=1:length(Y), y=c(model$resid)), color='blue', na.rm=T) +\n",
    "  xlab('') + ylab('Residuals') +\n",
    "  theme_bw() + theme(text = element_text(size=16))"
   ]
  },
  {
   "cell_type": "markdown",
   "metadata": {},
   "source": [
    "Residuals look random."
   ]
  },
  {
   "cell_type": "markdown",
   "metadata": {},
   "source": [
    "**(b)**"
   ]
  },
  {
   "cell_type": "code",
   "execution_count": 16,
   "metadata": {},
   "outputs": [
    {
     "data": {
      "image/png": "[encoded data removed]",
      "text/plain": [
       "Plot with title \"Normal Q-Q Plot\""
      ]
     },
     "metadata": {
      "image/png": {
       "height": 480,
       "width": 720
      }
     },
     "output_type": "display_data"
    }
   ],
   "source": [
    "options(repr.plot.width=12, repr.plot.height=8)\n",
    "qqnorm(model$resid); qqline(model$resid)"
   ]
  },
  {
   "cell_type": "markdown",
   "metadata": {},
   "source": [
    "The residuals look normal, except maybe for the first point in the lower tail.  Let's do a Shapiro-Wilk test anyhow:"
   ]
  },
  {
   "cell_type": "code",
   "execution_count": 17,
   "metadata": {},
   "outputs": [
    {
     "data": {
      "text/plain": [
       "\n",
       "\tShapiro-Wilk normality test\n",
       "\n",
       "data:  model$resid\n",
       "W = 0.97292, p-value = 0.5105\n"
      ]
     },
     "metadata": {},
     "output_type": "display_data"
    }
   ],
   "source": [
    "shapiro.test(model$resid)"
   ]
  },
  {
   "cell_type": "markdown",
   "metadata": {},
   "source": [
    "The Shapiro-Wilk test fails to reject normality."
   ]
  },
  {
   "cell_type": "markdown",
   "metadata": {},
   "source": [
    "**(c)**"
   ]
  },
  {
   "cell_type": "code",
   "execution_count": 18,
   "metadata": {},
   "outputs": [
    {
     "data": {
      "image/png": "[encoded data removed]",
      "text/plain": [
       "plot without title"
      ]
     },
     "metadata": {
      "image/png": {
       "height": 240,
       "width": 720
      }
     },
     "output_type": "display_data"
    }
   ],
   "source": [
    "r = acf(model$resid, lag.max=15, plot=F)$acf[-1]\n",
    "se = 1 / sqrt(length(Y))\n",
    "plot_acf_with_bounds(r, - 2 * se, + 2*se, title='Sample ACF for residuals')"
   ]
  },
  {
   "cell_type": "markdown",
   "metadata": {},
   "source": [
    "ACF suggests the residuals are white noise."
   ]
  },
  {
   "cell_type": "markdown",
   "metadata": {},
   "source": [
    "**(d)**"
   ]
  },
  {
   "cell_type": "code",
   "execution_count": 19,
   "metadata": {},
   "outputs": [
    {
     "data": {
      "text/html": [
       "<dl>\n",
       "\t<dt>$`X-squared`</dt>\n",
       "\t\t<dd>3.66827616463407</dd>\n",
       "\t<dt>$df</dt>\n",
       "\t\t<dd>5</dd>\n",
       "\t<dt>$`p-value`</dt>\n",
       "\t\t<dd>0.598091946584623</dd>\n",
       "</dl>\n"
      ],
      "text/latex": [
       "\\begin{description}\n",
       "\\item[\\$`X-squared`] 3.66827616463407\n",
       "\\item[\\$df] 5\n",
       "\\item[\\$`p-value`] 0.598091946584623\n",
       "\\end{description}\n"
      ],
      "text/markdown": [
       "$`X-squared`\n",
       ":   3.66827616463407\n",
       "$df\n",
       ":   5\n",
       "$`p-value`\n",
       ":   0.598091946584623\n",
       "\n",
       "\n"
      ],
      "text/plain": [
       "$`X-squared`\n",
       "[1] 3.668276\n",
       "\n",
       "$df\n",
       "[1] 5\n",
       "\n",
       "$`p-value`\n",
       "[1] 0.5980919\n"
      ]
     },
     "metadata": {},
     "output_type": "display_data"
    }
   ],
   "source": [
    "ljung.box.test(acf(model$resid, lag.max=6, plot=F)$acf[-1], n=length(Y), k_ma=1)"
   ]
  },
  {
   "cell_type": "markdown",
   "metadata": {},
   "source": [
    "The test does not reject randomness of error based on the first 6 autocorrelations."
   ]
  },
  {
   "cell_type": "markdown",
   "metadata": {},
   "source": [
    "**Exercise 8.6**.  Simulate an AR(2) model with $n = 48$, $\\phi_1 = 1.5$, and $\\phi_2 = −0.75$.\n",
    "\n",
    "**(a)** Fit the correctly specified AR(2) model and look at a time series plot of the residuals.  Does the plot support the AR(2) specification?\n",
    "\n",
    "**(b)** Display a normal quantile-quantile plot of the standardized residuals.  Does the plot support the AR(2) specification?\n",
    "\n",
    "**(c)** Display the sample ACF of the residuals.  Does the plot support the AR(2) specification?\n",
    "\n",
    "**(d)** Calculate the Ljung-Box statistic summing to K = 12.  Does this statistic support the AR(2) specification?"
   ]
  },
  {
   "cell_type": "markdown",
   "metadata": {},
   "source": [
    "**Solution**."
   ]
  },
  {
   "cell_type": "code",
   "execution_count": 20,
   "metadata": {},
   "outputs": [],
   "source": [
    "set.seed(2000)\n",
    "Y = arima.sim(model=list(ar=c(1.5, -0.75)), n=48)"
   ]
  },
  {
   "cell_type": "markdown",
   "metadata": {},
   "source": [
    "**(a)**"
   ]
  },
  {
   "cell_type": "code",
   "execution_count": 21,
   "metadata": {},
   "outputs": [],
   "source": [
    "model = arima(Y, order=c(2,0,0), method='ML')"
   ]
  },
  {
   "cell_type": "code",
   "execution_count": 22,
   "metadata": {},
   "outputs": [
    {
     "data": {
      "image/png": "[encoded data removed]",
      "text/plain": [
       "plot without title"
      ]
     },
     "metadata": {
      "image/png": {
       "height": 240,
       "width": 720
      }
     },
     "output_type": "display_data"
    }
   ],
   "source": [
    "options(repr.plot.width=12, repr.plot.height=4)\n",
    "\n",
    "ggplot() + \n",
    "  geom_line(aes(x=1:length(Y), y=c(model$resid)), color='blue', na.rm=T) +\n",
    "  xlab('') + ylab('Residuals') +\n",
    "  theme_bw() + theme(text = element_text(size=16))"
   ]
  },
  {
   "cell_type": "markdown",
   "metadata": {},
   "source": [
    "Residuals look random."
   ]
  },
  {
   "cell_type": "markdown",
   "metadata": {},
   "source": [
    "**(b)**"
   ]
  },
  {
   "cell_type": "code",
   "execution_count": 23,
   "metadata": {},
   "outputs": [
    {
     "data": {
      "image/png": "[encoded data removed]",
      "text/plain": [
       "Plot with title \"Normal Q-Q Plot\""
      ]
     },
     "metadata": {
      "image/png": {
       "height": 480,
       "width": 720
      }
     },
     "output_type": "display_data"
    }
   ],
   "source": [
    "options(repr.plot.width=12, repr.plot.height=8)\n",
    "qqnorm(model$resid); qqline(model$resid)"
   ]
  },
  {
   "cell_type": "markdown",
   "metadata": {},
   "source": [
    "The upper tail of the plot looks suspect.  Let's do a Shapiro-Wilk test for normality on the residuals:"
   ]
  },
  {
   "cell_type": "code",
   "execution_count": 24,
   "metadata": {},
   "outputs": [
    {
     "data": {
      "text/plain": [
       "\n",
       "\tShapiro-Wilk normality test\n",
       "\n",
       "data:  model$resid\n",
       "W = 0.97261, p-value = 0.3191\n"
      ]
     },
     "metadata": {},
     "output_type": "display_data"
    }
   ],
   "source": [
    "shapiro.test(model$resid)"
   ]
  },
  {
   "cell_type": "markdown",
   "metadata": {},
   "source": [
    "The Shapiro-Wilk test fails to reject normality."
   ]
  },
  {
   "cell_type": "markdown",
   "metadata": {},
   "source": [
    "**(c)**"
   ]
  },
  {
   "cell_type": "code",
   "execution_count": 25,
   "metadata": {},
   "outputs": [
    {
     "data": {
      "image/png": "[encoded data removed]",
      "text/plain": [
       "plot without title"
      ]
     },
     "metadata": {
      "image/png": {
       "height": 240,
       "width": 720
      }
     },
     "output_type": "display_data"
    }
   ],
   "source": [
    "r = acf(model$resid, lag.max=15, plot=F)$acf[-1]\n",
    "se = 1 / sqrt(length(Y))\n",
    "plot_acf_with_bounds(r, - 2 * se, + 2*se, title='Sample ACF for residuals')"
   ]
  },
  {
   "cell_type": "markdown",
   "metadata": {},
   "source": [
    "ACF suggests the residuals are white noise."
   ]
  },
  {
   "cell_type": "markdown",
   "metadata": {},
   "source": [
    "**(d)**"
   ]
  },
  {
   "cell_type": "code",
   "execution_count": 26,
   "metadata": {},
   "outputs": [
    {
     "data": {
      "text/html": [
       "<dl>\n",
       "\t<dt>$`X-squared`</dt>\n",
       "\t\t<dd>6.40807992192511</dd>\n",
       "\t<dt>$df</dt>\n",
       "\t\t<dd>10</dd>\n",
       "\t<dt>$`p-value`</dt>\n",
       "\t\t<dd>0.779892660465856</dd>\n",
       "</dl>\n"
      ],
      "text/latex": [
       "\\begin{description}\n",
       "\\item[\\$`X-squared`] 6.40807992192511\n",
       "\\item[\\$df] 10\n",
       "\\item[\\$`p-value`] 0.779892660465856\n",
       "\\end{description}\n"
      ],
      "text/markdown": [
       "$`X-squared`\n",
       ":   6.40807992192511\n",
       "$df\n",
       ":   10\n",
       "$`p-value`\n",
       ":   0.779892660465856\n",
       "\n",
       "\n"
      ],
      "text/plain": [
       "$`X-squared`\n",
       "[1] 6.40808\n",
       "\n",
       "$df\n",
       "[1] 10\n",
       "\n",
       "$`p-value`\n",
       "[1] 0.7798927\n"
      ]
     },
     "metadata": {},
     "output_type": "display_data"
    }
   ],
   "source": [
    "ljung.box.test(acf(model$resid, lag.max=12, plot=F)$acf[-1], n=length(Y), k_ar=2)"
   ]
  },
  {
   "cell_type": "markdown",
   "metadata": {},
   "source": [
    "The test does not reject randomness of error based on the first 12 autocorrelations."
   ]
  },
  {
   "cell_type": "markdown",
   "metadata": {},
   "source": [
    "**Exercise 8.7**.  Fit an AR(3) model by maximum likelihood to the square root of the hare abundance series (filename `hare`).\n",
    "\n",
    "**(a)** Plot the sample ACF of the residuals. Comment on the size of the correlations.\n",
    "\n",
    "**(b)** Calculate the Ljung-Box statistic summing to $K = 9$.  Does this statistic support the AR(3) specification?\n",
    "\n",
    "**(c)** Perform a runs test on the residuals and comment on the results.\n",
    "\n",
    "**(d)** Display the quantile-quantile normal plot of the residuals. Comment on the plot.\n",
    "\n",
    "**(e)** Perform the Shapiro-Wilk test of normality on the residuals."
   ]
  },
  {
   "cell_type": "markdown",
   "metadata": {},
   "source": [
    "**Solution**."
   ]
  },
  {
   "cell_type": "code",
   "execution_count": 27,
   "metadata": {},
   "outputs": [],
   "source": [
    "Y <- read.csv('../data/hare.dat')[['hare']]\n",
    "model = arima(Y, order=c(3,0,0), method='ML')"
   ]
  },
  {
   "cell_type": "markdown",
   "metadata": {},
   "source": [
    "**(a)**"
   ]
  },
  {
   "cell_type": "code",
   "execution_count": 28,
   "metadata": {},
   "outputs": [
    {
     "data": {
      "image/png": "[encoded data removed]",
      "text/plain": [
       "plot without title"
      ]
     },
     "metadata": {
      "image/png": {
       "height": 240,
       "width": 720
      }
     },
     "output_type": "display_data"
    }
   ],
   "source": [
    "r = acf(model$resid, lag.max=15, plot=F)$acf[-1]\n",
    "se = 1 / sqrt(length(Y))\n",
    "plot_acf_with_bounds(r, - 2 * se, + 2*se, title='Sample ACF for residuals')"
   ]
  },
  {
   "cell_type": "markdown",
   "metadata": {},
   "source": [
    "Autocorrelation on residuals are small, and suggest no significant values."
   ]
  },
  {
   "cell_type": "markdown",
   "metadata": {},
   "source": [
    "**(b)**"
   ]
  },
  {
   "cell_type": "code",
   "execution_count": 29,
   "metadata": {},
   "outputs": [
    {
     "data": {
      "text/html": [
       "<dl>\n",
       "\t<dt>$`X-squared`</dt>\n",
       "\t\t<dd>6.21171849398965</dd>\n",
       "\t<dt>$df</dt>\n",
       "\t\t<dd>6</dd>\n",
       "\t<dt>$`p-value`</dt>\n",
       "\t\t<dd>0.399896165452281</dd>\n",
       "</dl>\n"
      ],
      "text/latex": [
       "\\begin{description}\n",
       "\\item[\\$`X-squared`] 6.21171849398965\n",
       "\\item[\\$df] 6\n",
       "\\item[\\$`p-value`] 0.399896165452281\n",
       "\\end{description}\n"
      ],
      "text/markdown": [
       "$`X-squared`\n",
       ":   6.21171849398965\n",
       "$df\n",
       ":   6\n",
       "$`p-value`\n",
       ":   0.399896165452281\n",
       "\n",
       "\n"
      ],
      "text/plain": [
       "$`X-squared`\n",
       "[1] 6.211718\n",
       "\n",
       "$df\n",
       "[1] 6\n",
       "\n",
       "$`p-value`\n",
       "[1] 0.3998962\n"
      ]
     },
     "metadata": {},
     "output_type": "display_data"
    }
   ],
   "source": [
    "ljung.box.test(acf(model$resid, lag.max=9, plot=F)$acf[-1], n=length(Y), k_ar=3)"
   ]
  },
  {
   "cell_type": "markdown",
   "metadata": {},
   "source": [
    "The statistic supports the specification."
   ]
  },
  {
   "cell_type": "markdown",
   "metadata": {},
   "source": [
    "**(c)**"
   ]
  },
  {
   "cell_type": "code",
   "execution_count": 30,
   "metadata": {},
   "outputs": [
    {
     "name": "stderr",
     "output_type": "stream",
     "text": [
      "Loading required package: tseries\n",
      "\n",
      "Registered S3 method overwritten by 'quantmod':\n",
      "  method            from\n",
      "  as.zoo.data.frame zoo \n",
      "\n"
     ]
    }
   ],
   "source": [
    "require(tseries)"
   ]
  },
  {
   "cell_type": "code",
   "execution_count": 31,
   "metadata": {},
   "outputs": [
    {
     "data": {
      "text/plain": [
       "\n",
       "\tRuns Test\n",
       "\n",
       "data:  factor(sign(model$resid - mean(model$resid)))\n",
       "Standard Normal = 0.71458, p-value = 0.4749\n",
       "alternative hypothesis: two.sided\n"
      ]
     },
     "metadata": {},
     "output_type": "display_data"
    }
   ],
   "source": [
    "runs.test(factor(sign(model$resid - mean(model$resid))))"
   ]
  },
  {
   "cell_type": "markdown",
   "metadata": {},
   "source": [
    "The p-value does not reject independence of terms."
   ]
  },
  {
   "cell_type": "markdown",
   "metadata": {},
   "source": [
    "**(d)**"
   ]
  },
  {
   "cell_type": "code",
   "execution_count": 32,
   "metadata": {},
   "outputs": [
    {
     "data": {
      "image/png": "[encoded data removed]",
      "text/plain": [
       "Plot with title \"Normal Q-Q Plot\""
      ]
     },
     "metadata": {
      "image/png": {
       "height": 480,
       "width": 720
      }
     },
     "output_type": "display_data"
    }
   ],
   "source": [
    "options(repr.plot.width=12, repr.plot.height=8)\n",
    "qqnorm(model$resid); qqline(model$resid)"
   ]
  },
  {
   "cell_type": "markdown",
   "metadata": {},
   "source": [
    "Residuals look normal."
   ]
  },
  {
   "cell_type": "markdown",
   "metadata": {},
   "source": [
    "**(e)**"
   ]
  },
  {
   "cell_type": "code",
   "execution_count": 33,
   "metadata": {},
   "outputs": [
    {
     "data": {
      "text/plain": [
       "\n",
       "\tShapiro-Wilk normality test\n",
       "\n",
       "data:  model$resid\n",
       "W = 0.99068, p-value = 0.9932\n"
      ]
     },
     "metadata": {},
     "output_type": "display_data"
    }
   ],
   "source": [
    "shapiro.test(model$resid)"
   ]
  },
  {
   "cell_type": "markdown",
   "metadata": {},
   "source": [
    "Shapiro-Wilk fails to reject normality of residuals."
   ]
  },
  {
   "cell_type": "markdown",
   "metadata": {},
   "source": [
    "**Exercise 8.8**.  Consider the oil filter sales data shown in Exhibit 1.8 on page 7.  The data are in the file named `oilfilters`.\n",
    "\n",
    "**(a)** Fit an AR(1) model to this series. Is the estimate of the $\\phi$ parameter significantly different from zero statistically?\n",
    "\n",
    "**(b)** Display the sample ACF of the residuals from the AR(1) fitted model. Comment on the display."
   ]
  },
  {
   "cell_type": "markdown",
   "metadata": {},
   "source": [
    "**Solution**."
   ]
  },
  {
   "cell_type": "code",
   "execution_count": 34,
   "metadata": {},
   "outputs": [
    {
     "name": "stdout",
     "output_type": "stream",
     "text": [
      "\n",
      "Call:\n",
      "arima(x = Y, order = c(1, 0, 0), method = \"ML\")\n",
      "\n",
      "Coefficients:\n",
      "         ar1  intercept\n",
      "      0.3115   3370.680\n",
      "s.e.  0.1368    253.153\n",
      "\n",
      "sigma^2 estimated as 1482801:  log likelihood = -409.19,  aic = 824.37\n"
     ]
    }
   ],
   "source": [
    "Y <- read.csv('../data/oilfilters.dat')[['oilfilters']]\n",
    "model = arima(Y, order=c(1,0,0), method='ML')\n",
    "print(model)"
   ]
  },
  {
   "cell_type": "markdown",
   "metadata": {},
   "source": [
    "Yes -- the estimate for $\\phi$ is more than 2 standard errors away from zero."
   ]
  },
  {
   "cell_type": "markdown",
   "metadata": {},
   "source": [
    "**(b)**"
   ]
  },
  {
   "cell_type": "code",
   "execution_count": 35,
   "metadata": {},
   "outputs": [
    {
     "data": {
      "image/png": "[encoded data removed]",
      "text/plain": [
       "plot without title"
      ]
     },
     "metadata": {
      "image/png": {
       "height": 240,
       "width": 720
      }
     },
     "output_type": "display_data"
    }
   ],
   "source": [
    "r = acf(model$resid, lag.max=15, plot=F)$acf[-1]\n",
    "se = 1 / sqrt(length(Y))\n",
    "plot_acf_with_bounds(r, - 2 * se, + 2*se, title='Sample ACF for residuals')"
   ]
  },
  {
   "cell_type": "markdown",
   "metadata": {},
   "source": [
    "There is a significant autocorrelation lag at 12. This suggests the series may contain seasonality not captured by the model."
   ]
  },
  {
   "cell_type": "markdown",
   "metadata": {},
   "source": [
    "**Exercise 8.9**.  The data file named `robot` contains a time series obtained from an industrial robot.  The robot was put through a sequence of maneuvers, and the distance from a desired ending point was recorded in inches.  This was repeated 324 times to form the time series.  Compare the fits of an AR(1) model and an IMA(1, 1) model for these data in terms of the diagnostic tests discussed in this chapter."
   ]
  },
  {
   "cell_type": "markdown",
   "metadata": {},
   "source": [
    "**Solution**."
   ]
  },
  {
   "cell_type": "code",
   "execution_count": 36,
   "metadata": {},
   "outputs": [],
   "source": [
    "Y <- read.csv('../data/robot.dat')[['robot']]"
   ]
  },
  {
   "cell_type": "code",
   "execution_count": 37,
   "metadata": {},
   "outputs": [
    {
     "name": "stdout",
     "output_type": "stream",
     "text": [
      "\n",
      "Call:\n",
      "arima(x = Y, order = c(1, 0, 0), method = \"ML\")\n",
      "\n",
      "Coefficients:\n",
      "         ar1  intercept\n",
      "      0.3076     0.0015\n",
      "s.e.  0.0528     0.0002\n",
      "\n",
      "sigma^2 estimated as 6.482e-06:  log likelihood = 1475.54,  aic = -2945.08\n"
     ]
    }
   ],
   "source": [
    "model.ar1 = arima(Y, order=c(1,0,0), method='ML')\n",
    "print(model.ar1)"
   ]
  },
  {
   "cell_type": "code",
   "execution_count": 38,
   "metadata": {},
   "outputs": [
    {
     "name": "stdout",
     "output_type": "stream",
     "text": [
      "\n",
      "Call:\n",
      "arima(x = Y, order = c(0, 1, 1), method = \"ML\")\n",
      "\n",
      "Coefficients:\n",
      "          ma1\n",
      "      -0.8713\n",
      "s.e.   0.0389\n",
      "\n",
      "sigma^2 estimated as 6.069e-06:  log likelihood = 1480.95,  aic = -2957.9\n"
     ]
    }
   ],
   "source": [
    "model.ima11 = arima(Y, order=c(0,1,1), method='ML')\n",
    "print(model.ima11)"
   ]
  },
  {
   "cell_type": "markdown",
   "metadata": {},
   "source": [
    "Both models have significant estimates for their coefficients. The AIC score for the IMA(1, 1) model is slightly smaller."
   ]
  },
  {
   "cell_type": "code",
   "execution_count": 39,
   "metadata": {},
   "outputs": [
    {
     "data": {
      "image/png": "[encoded data removed]",
      "text/plain": [
       "plot without title"
      ]
     },
     "metadata": {
      "image/png": {
       "height": 240,
       "width": 720
      }
     },
     "output_type": "display_data"
    },
    {
     "data": {
      "image/png": "[encoded data removed]",
      "text/plain": [
       "plot without title"
      ]
     },
     "metadata": {
      "image/png": {
       "height": 240,
       "width": 720
      }
     },
     "output_type": "display_data"
    }
   ],
   "source": [
    "plot_residuals_acf <- function(resid, title, nlags=15) {\n",
    "    r = acf(resid, lag.max=nlags, plot=F)$acf[-1]\n",
    "    se = 1 / sqrt(length(resid))\n",
    "    plot_acf_with_bounds(r, - 2 * se, + 2*se, title=title)\n",
    "}\n",
    "\n",
    "plot_residuals_acf(model.ar1$resid, 'AR(1) residuals ACF')\n",
    "plot_residuals_acf(model.ima11$resid, 'IMA(1, 1) residuals ACF')"
   ]
  },
  {
   "cell_type": "markdown",
   "metadata": {},
   "source": [
    "The residuals for the AR(1) model have too much autocorrelation; the residuals for the IMA(1, 1) model show too much correlation only at lag 10.\n",
    "\n",
    "This conclusion is confirmed by the Ljung-Box tests: the AR(1) residuals have, collectively, too much correlation, while the residuals from the IMA(1, 1) fit do not."
   ]
  },
  {
   "cell_type": "code",
   "execution_count": 40,
   "metadata": {},
   "outputs": [
    {
     "data": {
      "text/html": [
       "<dl>\n",
       "\t<dt>$`X-squared`</dt>\n",
       "\t\t<dd>51.8330868282629</dd>\n",
       "\t<dt>$df</dt>\n",
       "\t\t<dd>11</dd>\n",
       "\t<dt>$`p-value`</dt>\n",
       "\t\t<dd>2.92294638937207e-07</dd>\n",
       "</dl>\n"
      ],
      "text/latex": [
       "\\begin{description}\n",
       "\\item[\\$`X-squared`] 51.8330868282629\n",
       "\\item[\\$df] 11\n",
       "\\item[\\$`p-value`] 2.92294638937207e-07\n",
       "\\end{description}\n"
      ],
      "text/markdown": [
       "$`X-squared`\n",
       ":   51.8330868282629\n",
       "$df\n",
       ":   11\n",
       "$`p-value`\n",
       ":   2.92294638937207e-07\n",
       "\n",
       "\n"
      ],
      "text/plain": [
       "$`X-squared`\n",
       "[1] 51.83309\n",
       "\n",
       "$df\n",
       "[1] 11\n",
       "\n",
       "$`p-value`\n",
       "[1] 2.922946e-07\n"
      ]
     },
     "metadata": {},
     "output_type": "display_data"
    }
   ],
   "source": [
    "ljung.box.test(acf(model.ar1$resid, lag.max=12, plot=F)$acf[-1], n=length(Y), k_ar=1)"
   ]
  },
  {
   "cell_type": "code",
   "execution_count": 41,
   "metadata": {},
   "outputs": [
    {
     "data": {
      "text/html": [
       "<dl>\n",
       "\t<dt>$`X-squared`</dt>\n",
       "\t\t<dd>16.9210658585195</dd>\n",
       "\t<dt>$df</dt>\n",
       "\t\t<dd>11</dd>\n",
       "\t<dt>$`p-value`</dt>\n",
       "\t\t<dd>0.110232221584884</dd>\n",
       "</dl>\n"
      ],
      "text/latex": [
       "\\begin{description}\n",
       "\\item[\\$`X-squared`] 16.9210658585195\n",
       "\\item[\\$df] 11\n",
       "\\item[\\$`p-value`] 0.110232221584884\n",
       "\\end{description}\n"
      ],
      "text/markdown": [
       "$`X-squared`\n",
       ":   16.9210658585195\n",
       "$df\n",
       ":   11\n",
       "$`p-value`\n",
       ":   0.110232221584884\n",
       "\n",
       "\n"
      ],
      "text/plain": [
       "$`X-squared`\n",
       "[1] 16.92107\n",
       "\n",
       "$df\n",
       "[1] 11\n",
       "\n",
       "$`p-value`\n",
       "[1] 0.1102322\n"
      ]
     },
     "metadata": {},
     "output_type": "display_data"
    }
   ],
   "source": [
    "ljung.box.test(acf(model.ima11$resid, lag.max=12, plot=F)$acf[-1], n=length(Y), k_ma=1)"
   ]
  },
  {
   "cell_type": "markdown",
   "metadata": {},
   "source": [
    "Finally, Shapiro-Wilk test p-values do not reject normality in either of the residuals:"
   ]
  },
  {
   "cell_type": "code",
   "execution_count": 42,
   "metadata": {},
   "outputs": [
    {
     "data": {
      "text/plain": [
       "\n",
       "\tShapiro-Wilk normality test\n",
       "\n",
       "data:  model.ar1$resid\n",
       "W = 0.99758, p-value = 0.9193\n"
      ]
     },
     "metadata": {},
     "output_type": "display_data"
    }
   ],
   "source": [
    "shapiro.test(model.ar1$resid)"
   ]
  },
  {
   "cell_type": "code",
   "execution_count": 43,
   "metadata": {},
   "outputs": [
    {
     "data": {
      "text/plain": [
       "\n",
       "\tShapiro-Wilk normality test\n",
       "\n",
       "data:  model.ima11$resid\n",
       "W = 0.99689, p-value = 0.791\n"
      ]
     },
     "metadata": {},
     "output_type": "display_data"
    }
   ],
   "source": [
    "shapiro.test(model.ima11$resid)"
   ]
  },
  {
   "cell_type": "markdown",
   "metadata": {},
   "source": [
    "**Exercise 8.10**.  The data file named `deere3` contains 57 consecutive values from a complex machine tool at Deere & Co.  The values given are deviations from a target value in units of ten millionths of an inch.  The process employs a control mechanism\n",
    "that resets some of the parameters of the machine tool depending on the magnitude of deviation from target of the last item produced.  Diagnose the fit of an AR(1) model for these data in terms of the tests discussed in this chapter."
   ]
  },
  {
   "cell_type": "markdown",
   "metadata": {},
   "source": [
    "**Solution**."
   ]
  },
  {
   "cell_type": "code",
   "execution_count": 44,
   "metadata": {},
   "outputs": [],
   "source": [
    "Y <- read.csv('../data/deere3.dat')[['deere3']]"
   ]
  },
  {
   "cell_type": "code",
   "execution_count": 45,
   "metadata": {},
   "outputs": [
    {
     "name": "stdout",
     "output_type": "stream",
     "text": [
      "\n",
      "Call:\n",
      "arima(x = Y, order = c(1, 0, 0), method = \"ML\")\n",
      "\n",
      "Coefficients:\n",
      "         ar1  intercept\n",
      "      0.5256   124.3524\n",
      "s.e.  0.1108   394.2320\n",
      "\n",
      "sigma^2 estimated as 2069354:  log likelihood = -495.51,  aic = 997.02\n"
     ]
    }
   ],
   "source": [
    "model = arima(Y, order=c(1,0,0), method='ML')\n",
    "print(model)"
   ]
  },
  {
   "cell_type": "markdown",
   "metadata": {},
   "source": [
    "Coefficient appears to be significant."
   ]
  },
  {
   "cell_type": "code",
   "execution_count": 46,
   "metadata": {},
   "outputs": [
    {
     "data": {
      "image/png": "[encoded data removed]",
      "text/plain": [
       "plot without title"
      ]
     },
     "metadata": {
      "image/png": {
       "height": 240,
       "width": 720
      }
     },
     "output_type": "display_data"
    }
   ],
   "source": [
    "plot_residuals_acf(model$resid, 'AR(1) residuals ACF')"
   ]
  },
  {
   "cell_type": "markdown",
   "metadata": {},
   "source": [
    "Residuals do not display significant autocorrelation individually."
   ]
  },
  {
   "cell_type": "code",
   "execution_count": 47,
   "metadata": {},
   "outputs": [
    {
     "data": {
      "text/html": [
       "<dl>\n",
       "\t<dt>$`X-squared`</dt>\n",
       "\t\t<dd>6.48613710889183</dd>\n",
       "\t<dt>$df</dt>\n",
       "\t\t<dd>11</dd>\n",
       "\t<dt>$`p-value`</dt>\n",
       "\t\t<dd>0.839041799291112</dd>\n",
       "</dl>\n"
      ],
      "text/latex": [
       "\\begin{description}\n",
       "\\item[\\$`X-squared`] 6.48613710889183\n",
       "\\item[\\$df] 11\n",
       "\\item[\\$`p-value`] 0.839041799291112\n",
       "\\end{description}\n"
      ],
      "text/markdown": [
       "$`X-squared`\n",
       ":   6.48613710889183\n",
       "$df\n",
       ":   11\n",
       "$`p-value`\n",
       ":   0.839041799291112\n",
       "\n",
       "\n"
      ],
      "text/plain": [
       "$`X-squared`\n",
       "[1] 6.486137\n",
       "\n",
       "$df\n",
       "[1] 11\n",
       "\n",
       "$`p-value`\n",
       "[1] 0.8390418\n"
      ]
     },
     "metadata": {},
     "output_type": "display_data"
    }
   ],
   "source": [
    "ljung.box.test(acf(model$resid, lag.max=12, plot=F)$acf[-1], n=length(Y), k_ar=1)"
   ]
  },
  {
   "cell_type": "markdown",
   "metadata": {},
   "source": [
    "Residuals do not display significant autocorrelation collectively."
   ]
  },
  {
   "cell_type": "code",
   "execution_count": 48,
   "metadata": {},
   "outputs": [
    {
     "data": {
      "image/png": "[encoded data removed]",
      "text/plain": [
       "Plot with title \"Normal Q-Q Plot\""
      ]
     },
     "metadata": {
      "image/png": {
       "height": 480,
       "width": 720
      }
     },
     "output_type": "display_data"
    }
   ],
   "source": [
    "options(repr.plot.width=12, repr.plot.height=8)\n",
    "qqnorm(model$resid); qqline(model$resid)"
   ]
  },
  {
   "cell_type": "markdown",
   "metadata": {},
   "source": [
    "Q-Q plot is a bit questionable near the bottom tail."
   ]
  },
  {
   "cell_type": "code",
   "execution_count": 49,
   "metadata": {},
   "outputs": [
    {
     "data": {
      "text/plain": [
       "\n",
       "\tShapiro-Wilk normality test\n",
       "\n",
       "data:  model$resid\n",
       "W = 0.98261, p-value = 0.5827\n"
      ]
     },
     "metadata": {},
     "output_type": "display_data"
    }
   ],
   "source": [
    "shapiro.test(model$resid)"
   ]
  },
  {
   "cell_type": "markdown",
   "metadata": {},
   "source": [
    "Shapiro-Wilk does not reject the hypothesis that residuals are normally distributed."
   ]
  },
  {
   "cell_type": "markdown",
   "metadata": {},
   "source": [
    "**Exercise 8.11**  Exhibit 6.31 on page 139, suggested specifying either an AR(1) or possibly an AR(4) model for the difference of the logarithms of the oil price series. (The filename is `oil.price`).\n",
    "\n",
    "**(a)** Estimate both of these models using maximum likelihood and compare the results using the diagnostic tests considered in this chapter.\n",
    "\n",
    "**(b)** Exhibit 6.32 on page 140, suggested specifying an MA(1) model for the difference of the logs. Estimate this model by maximum likelihood and perform the diagnostic tests considered in this chapter.\n",
    "\n",
    "**(c)** Which of the three models AR(1), AR(4), or MA(1) would you prefer given the results of parts (a) and (b)?"
   ]
  },
  {
   "cell_type": "markdown",
   "metadata": {},
   "source": [
    "**Solution**."
   ]
  },
  {
   "cell_type": "code",
   "execution_count": 50,
   "metadata": {},
   "outputs": [],
   "source": [
    "Y <- read.csv('../data/oil.price.dat')[['oil.price']]\n",
    "Y <- diff(log(Y))"
   ]
  },
  {
   "cell_type": "code",
   "execution_count": 51,
   "metadata": {},
   "outputs": [
    {
     "name": "stdout",
     "output_type": "stream",
     "text": [
      "\n",
      "Call:\n",
      "arima(x = Y, order = c(1, 0, 0), method = \"ML\")\n",
      "\n",
      "Coefficients:\n",
      "         ar1  intercept\n",
      "      0.2337     0.0040\n",
      "s.e.  0.0661     0.0069\n",
      "\n",
      "sigma^2 estimated as 0.006778:  log likelihood = 258.72,  aic = -511.43\n"
     ]
    }
   ],
   "source": [
    "model.ar1 = arima(Y, order=c(1,0,0), method='ML')\n",
    "print(model.ar1)"
   ]
  },
  {
   "cell_type": "code",
   "execution_count": 52,
   "metadata": {},
   "outputs": [
    {
     "name": "stdout",
     "output_type": "stream",
     "text": [
      "\n",
      "Call:\n",
      "arima(x = Y, order = c(4, 0, 0), method = \"ML\")\n",
      "\n",
      "Coefficients:\n",
      "         ar1      ar2     ar3      ar4  intercept\n",
      "      0.2638  -0.1583  0.0203  -0.1008     0.0045\n",
      "s.e.  0.0669   0.0691  0.0692   0.0681     0.0054\n",
      "\n",
      "sigma^2 estimated as 0.006584:  log likelihood = 262.16,  aic = -512.32\n"
     ]
    }
   ],
   "source": [
    "model.ar4 = arima(Y, order=c(4,0,0), method='ML')\n",
    "print(model.ar4)"
   ]
  },
  {
   "cell_type": "markdown",
   "metadata": {},
   "source": [
    "AR(4) presents a lower AIC, but the coefficients for  𝜙3  and  𝜙4  are not significant in the AR(4) model. Let's try an AR(2) model:"
   ]
  },
  {
   "cell_type": "code",
   "execution_count": 53,
   "metadata": {},
   "outputs": [
    {
     "name": "stdout",
     "output_type": "stream",
     "text": [
      "\n",
      "Call:\n",
      "arima(x = Y, order = c(2, 0, 0), method = \"ML\")\n",
      "\n",
      "Coefficients:\n",
      "         ar1      ar2  intercept\n",
      "      0.2603  -0.1470     0.0043\n",
      "s.e.  0.0666   0.0674     0.0059\n",
      "\n",
      "sigma^2 estimated as 0.006645:  log likelihood = 261.07,  aic = -514.14\n"
     ]
    }
   ],
   "source": [
    "model.ar2 = arima(Y, order=c(2,0,0), method='ML')\n",
    "print(model.ar2)"
   ]
  },
  {
   "cell_type": "markdown",
   "metadata": {},
   "source": [
    "Let's also look at the MA(1) model:"
   ]
  },
  {
   "cell_type": "code",
   "execution_count": 54,
   "metadata": {},
   "outputs": [
    {
     "name": "stdout",
     "output_type": "stream",
     "text": [
      "\n",
      "Call:\n",
      "arima(x = Y, order = c(0, 0, 1), method = \"ML\")\n",
      "\n",
      "Coefficients:\n",
      "         ma1  intercept\n",
      "      0.2939     0.0041\n",
      "s.e.  0.0696     0.0068\n",
      "\n",
      "sigma^2 estimated as 0.006679:  log likelihood = 260.47,  aic = -514.94\n"
     ]
    }
   ],
   "source": [
    "model.ma1 = arima(Y, order=c(0,0,1), method='ML')\n",
    "print(model.ma1)"
   ]
  },
  {
   "cell_type": "markdown",
   "metadata": {},
   "source": [
    "Coefficients are also significant, and this model presents the smallest AIC.\n",
    "\n",
    "Let's look at the residuals ACF for each model:"
   ]
  },
  {
   "cell_type": "code",
   "execution_count": 55,
   "metadata": {},
   "outputs": [
    {
     "data": {
      "image/png": "[encoded data removed]",
      "text/plain": [
       "plot without title"
      ]
     },
     "metadata": {
      "image/png": {
       "height": 240,
       "width": 720
      }
     },
     "output_type": "display_data"
    },
    {
     "data": {
      "image/png": "[encoded data removed]",
      "text/plain": [
       "plot without title"
      ]
     },
     "metadata": {
      "image/png": {
       "height": 240,
       "width": 720
      }
     },
     "output_type": "display_data"
    },
    {
     "data": {
      "image/png": "[encoded data removed]",
      "text/plain": [
       "plot without title"
      ]
     },
     "metadata": {
      "image/png": {
       "height": 240,
       "width": 720
      }
     },
     "output_type": "display_data"
    },
    {
     "data": {
      "image/png": "[encoded data removed]",
      "text/plain": [
       "plot without title"
      ]
     },
     "metadata": {
      "image/png": {
       "height": 240,
       "width": 720
      }
     },
     "output_type": "display_data"
    }
   ],
   "source": [
    "plot_residuals_acf(model.ar1$resid, 'AR(1) residuals ACF', nlags=25)\n",
    "plot_residuals_acf(model.ar2$resid, 'AR(2) residuals ACF', nlags=25)\n",
    "plot_residuals_acf(model.ar4$resid, 'AR(4) residuals ACF', nlags=25)\n",
    "plot_residuals_acf(model.ma1$resid, 'MA(1) residuals ACF', nlags=25)"
   ]
  },
  {
   "cell_type": "markdown",
   "metadata": {},
   "source": [
    "Residuals for the AR(1) model display significant autocorrelation at lag 2. This is not the issue for all other models. Residuals do appear to present significant autocorrelation at lags 13, 15, and 20 in all models."
   ]
  },
  {
   "cell_type": "code",
   "execution_count": 56,
   "metadata": {},
   "outputs": [
    {
     "data": {
      "text/html": [
       "<dl>\n",
       "\t<dt>$`X-squared`</dt>\n",
       "\t\t<dd>12.3075087897867</dd>\n",
       "\t<dt>$df</dt>\n",
       "\t\t<dd>11</dd>\n",
       "\t<dt>$`p-value`</dt>\n",
       "\t\t<dd>0.340978243881196</dd>\n",
       "</dl>\n"
      ],
      "text/latex": [
       "\\begin{description}\n",
       "\\item[\\$`X-squared`] 12.3075087897867\n",
       "\\item[\\$df] 11\n",
       "\\item[\\$`p-value`] 0.340978243881196\n",
       "\\end{description}\n"
      ],
      "text/markdown": [
       "$`X-squared`\n",
       ":   12.3075087897867\n",
       "$df\n",
       ":   11\n",
       "$`p-value`\n",
       ":   0.340978243881196\n",
       "\n",
       "\n"
      ],
      "text/plain": [
       "$`X-squared`\n",
       "[1] 12.30751\n",
       "\n",
       "$df\n",
       "[1] 11\n",
       "\n",
       "$`p-value`\n",
       "[1] 0.3409782\n"
      ]
     },
     "metadata": {},
     "output_type": "display_data"
    }
   ],
   "source": [
    "ljung.box.test(acf(model.ar1$resid, lag.max=12, plot=F)$acf[-1], n=length(Y), k_ar=1)"
   ]
  },
  {
   "cell_type": "code",
   "execution_count": 57,
   "metadata": {},
   "outputs": [
    {
     "data": {
      "text/html": [
       "<dl>\n",
       "\t<dt>$`X-squared`</dt>\n",
       "\t\t<dd>8.8298638162848</dd>\n",
       "\t<dt>$df</dt>\n",
       "\t\t<dd>10</dd>\n",
       "\t<dt>$`p-value`</dt>\n",
       "\t\t<dd>0.548322787887419</dd>\n",
       "</dl>\n"
      ],
      "text/latex": [
       "\\begin{description}\n",
       "\\item[\\$`X-squared`] 8.8298638162848\n",
       "\\item[\\$df] 10\n",
       "\\item[\\$`p-value`] 0.548322787887419\n",
       "\\end{description}\n"
      ],
      "text/markdown": [
       "$`X-squared`\n",
       ":   8.8298638162848\n",
       "$df\n",
       ":   10\n",
       "$`p-value`\n",
       ":   0.548322787887419\n",
       "\n",
       "\n"
      ],
      "text/plain": [
       "$`X-squared`\n",
       "[1] 8.829864\n",
       "\n",
       "$df\n",
       "[1] 10\n",
       "\n",
       "$`p-value`\n",
       "[1] 0.5483228\n"
      ]
     },
     "metadata": {},
     "output_type": "display_data"
    }
   ],
   "source": [
    "ljung.box.test(acf(model.ar2$resid, lag.max=12, plot=F)$acf[-1], n=length(Y), k_ar=2)"
   ]
  },
  {
   "cell_type": "code",
   "execution_count": 58,
   "metadata": {},
   "outputs": [
    {
     "data": {
      "text/html": [
       "<dl>\n",
       "\t<dt>$`X-squared`</dt>\n",
       "\t\t<dd>5.54312030127211</dd>\n",
       "\t<dt>$df</dt>\n",
       "\t\t<dd>8</dd>\n",
       "\t<dt>$`p-value`</dt>\n",
       "\t\t<dd>0.698258086910419</dd>\n",
       "</dl>\n"
      ],
      "text/latex": [
       "\\begin{description}\n",
       "\\item[\\$`X-squared`] 5.54312030127211\n",
       "\\item[\\$df] 8\n",
       "\\item[\\$`p-value`] 0.698258086910419\n",
       "\\end{description}\n"
      ],
      "text/markdown": [
       "$`X-squared`\n",
       ":   5.54312030127211\n",
       "$df\n",
       ":   8\n",
       "$`p-value`\n",
       ":   0.698258086910419\n",
       "\n",
       "\n"
      ],
      "text/plain": [
       "$`X-squared`\n",
       "[1] 5.54312\n",
       "\n",
       "$df\n",
       "[1] 8\n",
       "\n",
       "$`p-value`\n",
       "[1] 0.6982581\n"
      ]
     },
     "metadata": {},
     "output_type": "display_data"
    }
   ],
   "source": [
    "ljung.box.test(acf(model.ar4$resid, lag.max=12, plot=F)$acf[-1], n=length(Y), k_ar=4)"
   ]
  },
  {
   "cell_type": "code",
   "execution_count": 59,
   "metadata": {},
   "outputs": [
    {
     "data": {
      "text/html": [
       "<dl>\n",
       "\t<dt>$`X-squared`</dt>\n",
       "\t\t<dd>9.41084408352995</dd>\n",
       "\t<dt>$df</dt>\n",
       "\t\t<dd>11</dd>\n",
       "\t<dt>$`p-value`</dt>\n",
       "\t\t<dd>0.584025571724635</dd>\n",
       "</dl>\n"
      ],
      "text/latex": [
       "\\begin{description}\n",
       "\\item[\\$`X-squared`] 9.41084408352995\n",
       "\\item[\\$df] 11\n",
       "\\item[\\$`p-value`] 0.584025571724635\n",
       "\\end{description}\n"
      ],
      "text/markdown": [
       "$`X-squared`\n",
       ":   9.41084408352995\n",
       "$df\n",
       ":   11\n",
       "$`p-value`\n",
       ":   0.584025571724635\n",
       "\n",
       "\n"
      ],
      "text/plain": [
       "$`X-squared`\n",
       "[1] 9.410844\n",
       "\n",
       "$df\n",
       "[1] 11\n",
       "\n",
       "$`p-value`\n",
       "[1] 0.5840256\n"
      ]
     },
     "metadata": {},
     "output_type": "display_data"
    }
   ],
   "source": [
    "ljung.box.test(acf(model.ma1$resid, lag.max=12, plot=F)$acf[-1], n=length(Y), k_ma=1)"
   ]
  },
  {
   "cell_type": "markdown",
   "metadata": {},
   "source": [
    "Residuals do not appear to collectively display too much autocorrelation in any of the models."
   ]
  },
  {
   "cell_type": "code",
   "execution_count": 60,
   "metadata": {},
   "outputs": [
    {
     "data": {
      "text/plain": [
       "\n",
       "\tShapiro-Wilk normality test\n",
       "\n",
       "data:  model.ar1$resid\n",
       "W = 0.96683, p-value = 2.221e-05\n"
      ]
     },
     "metadata": {},
     "output_type": "display_data"
    }
   ],
   "source": [
    "shapiro.test(model.ar1$resid)"
   ]
  },
  {
   "cell_type": "code",
   "execution_count": 61,
   "metadata": {},
   "outputs": [
    {
     "data": {
      "text/plain": [
       "\n",
       "\tShapiro-Wilk normality test\n",
       "\n",
       "data:  model.ar2$resid\n",
       "W = 0.96898, p-value = 4.295e-05\n"
      ]
     },
     "metadata": {},
     "output_type": "display_data"
    }
   ],
   "source": [
    "shapiro.test(model.ar2$resid)"
   ]
  },
  {
   "cell_type": "code",
   "execution_count": 62,
   "metadata": {},
   "outputs": [
    {
     "data": {
      "text/plain": [
       "\n",
       "\tShapiro-Wilk normality test\n",
       "\n",
       "data:  model.ar4$resid\n",
       "W = 0.96983, p-value = 5.597e-05\n"
      ]
     },
     "metadata": {},
     "output_type": "display_data"
    }
   ],
   "source": [
    "shapiro.test(model.ar4$resid)"
   ]
  },
  {
   "cell_type": "code",
   "execution_count": 63,
   "metadata": {},
   "outputs": [
    {
     "data": {
      "text/plain": [
       "\n",
       "\tShapiro-Wilk normality test\n",
       "\n",
       "data:  model.ma1$resid\n",
       "W = 0.96883, p-value = 4.095e-05\n"
      ]
     },
     "metadata": {},
     "output_type": "display_data"
    }
   ],
   "source": [
    "shapiro.test(model.ma1$resid)"
   ]
  },
  {
   "cell_type": "markdown",
   "metadata": {},
   "source": [
    "Shapiro-Wilk p-value rejects normality on residuals for all models, however -- indicating there are more patterns not captured."
   ]
  },
  {
   "cell_type": "markdown",
   "metadata": {},
   "source": [
    "Based on these results, we'd select the MA(1) model for the difference of log prices -- keeping in mind that more modeling may be needed to achieve residual normality."
   ]
  }
 ],
 "metadata": {
  "kernelspec": {
   "display_name": "R",
   "language": "R",
   "name": "ir"
  },
  "language_info": {
   "codemirror_mode": "r",
   "file_extension": ".r",
   "mimetype": "text/x-r-source",
   "name": "R",
   "pygments_lexer": "r",
   "version": "4.0.0"
  }
 },
 "nbformat": 4,
 "nbformat_minor": 2
}
