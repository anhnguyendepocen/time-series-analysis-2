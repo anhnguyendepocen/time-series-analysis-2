{
 "cells": [
  {
   "cell_type": "markdown",
   "metadata": {},
   "source": [
    "## 8. Model Diagnostics"
   ]
  },
  {
   "cell_type": "markdown",
   "metadata": {},
   "source": [
    "**Exercise 8.1**.  For an AR(1) model with $\\phi \\approx 0.5$ and $n = 100$, the lag 1 sample autocorrelation of the residuals is 0.5.  Should we consider this unusual?  Why or why not?"
   ]
  },
  {
   "cell_type": "markdown",
   "metadata": {},
   "source": [
    "**Solution**.  From Equation (8.1.5),\n",
    "\n",
    "$$ \\text{Var}[\\hat{r}_1] \\approx \\frac{\\phi^2}{n} $$\n",
    "\n",
    "so the standard error of the sample correlation to be approximately 0.05, and we should expect the lag 1 sample autocorrelation to be within 2 standard errors, $\\pm 0.1$.  A value of 0.5 is unusual."
   ]
  },
  {
   "cell_type": "markdown",
   "metadata": {},
   "source": [
    "**Exercise 8.2**.  Repeat Exercise 8.1 for an MA(1) model with $\\theta \\approx 0.5$ and and $n = 100$."
   ]
  },
  {
   "cell_type": "markdown",
   "metadata": {},
   "source": [
    "**Solution**.  Page 183 indicates that we can replace $\\phi$ with $\\theta$ for MA(1) models, so\n",
    "\n",
    "$$ \\text{Var}[\\hat{r}_1] \\approx \\frac{\\theta^2}{n} $$\n",
    "\n",
    "Once again the standard error of the sample correlation is approximately 0.05, and we should expect the lag 1 sample autocorrelation to be within 2 standard errors, $\\pm 0.1$.  A value of 0.5 is unusual."
   ]
  },
  {
   "cell_type": "markdown",
   "metadata": {},
   "source": [
    "**Exercise 8.3**.  Based on a series of length $n = 200$, we fit an AR(2) model and obtain residual autocorrelations of $\\hat{r}_1 = 0.13$, $\\hat{r}_2 = 0.13$, and $\\hat{r}_3 = 0.12$.  If $\\hat{\\phi}_1 = 1.1$ and $\\hat{\\phi}_2 = −0.8$, do these residual autocorrelations support the AR(2) specification?  Individually  Jointly?"
   ]
  },
  {
   "cell_type": "markdown",
   "metadata": {},
   "source": [
    "**Solution**.  Equations (8.1.8), (8.1.9) and (8.1.10) state that, for the AR(2) model,\n",
    "\n",
    "$$\n",
    "\\text{Var}[\\hat{r}_1] \\approx \\frac{\\phi_2^2}{n},\n",
    "\\quad\n",
    "\\text{Var}[\\hat{r}_2] \\approx \\frac{\\phi_2^2 + \\phi_1^2(1 + \\phi_2)^2}{n},\n",
    "\\quad\n",
    "\\text{Var}[\\hat{r}_k] \\approx \\frac{1}{n} \\quad \\text{for } k \\geq 3\n",
    "$$\n",
    "\n",
    "Replacing in the given values, we get\n",
    "\n",
    "$$\n",
    "2 \\sqrt{\\text{Var}[\\hat{r}_1]} \\approx 0.113,\n",
    "\\quad\n",
    "2 \\sqrt{\\text{Var}[\\hat{r}_2]} \\approx 0.117,\n",
    "\\quad\n",
    "2 \\sqrt{\\text{Var}[\\hat{r}_k]} \\approx 0.141 \\quad \\text{for } k \\geq 3\n",
    "$$\n",
    "\n",
    "The residual autocorrelations for $\\hat{r}_1$ and $\\hat{r}_2$ are above those thresholds, while the residual autocorrelation for $\\hat{r}_3$ is under the corresponding threshold.\n",
    "\n",
    "The Ljung-Box statistic is\n",
    "\n",
    "$$ Q_* = n(n+2) \\left( \\frac{\\hat{r}_1^2}{n - 1} + \\frac{\\hat{r}_2^2}{n - 2} + \\frac{\\hat{r}_3^2}{n - 3} \\right) $$\n",
    "\n",
    "which, replacing values, gives $Q_* \\approx 9.832$.  If the AR(2) speficication is correct, then $Q_*$ should have approximately a chi-square distribution with 3 - 2 = 1 degree of freedom.  But $\\text{Pr}[\\chi_1^2 > Q_*] \\approx 0.0017$, so the residual correlations are jointly too large to support the AR(2) specification at p-value 0.01."
   ]
  },
  {
   "cell_type": "code",
   "execution_count": 1,
   "metadata": {},
   "outputs": [
    {
     "name": "stdout",
     "output_type": "stream",
     "text": [
      "[1] 9.832334\n"
     ]
    }
   ],
   "source": [
    "n = 200\n",
    "r1 = 0.13\n",
    "r2 = 0.13\n",
    "r3 = 0.12\n",
    "Qstar = n * (n + 2) * (r1**2/(n-1) + r2**2/(n-2) + r3**2/(n-3))\n",
    "print(Qstar)"
   ]
  },
  {
   "cell_type": "code",
   "execution_count": 2,
   "metadata": {},
   "outputs": [
    {
     "name": "stdout",
     "output_type": "stream",
     "text": [
      "[1] 0.001714706\n"
     ]
    }
   ],
   "source": [
    "print(1 - pchisq(Qstar, df=1))"
   ]
  },
  {
   "cell_type": "markdown",
   "metadata": {},
   "source": [
    "**Exercise 8.4**.  Simulate an AR(1) model with $n = 30$ and $\\phi = 0.5$.\n",
    "\n",
    "**(a)** Fit the correctly specified AR(1) model and look at a time series plot of the residuals.  Does the plot support the AR(1) specification?\n",
    "\n",
    "**(b)** Display a normal quantile-quantile plot of the standardized residuals.  Does the plot support the AR(1) specification?\n",
    "\n",
    "**(c)** Display the sample ACF of the residuals.  Does the plot support the AR(1) specification?\n",
    "\n",
    "**(d)** Calculate the Ljung-Box statistic summing to $K = 8$.  Does this statistic support the AR(1) specification?"
   ]
  },
  {
   "cell_type": "markdown",
   "metadata": {},
   "source": [
    "**Solution**."
   ]
  },
  {
   "cell_type": "code",
   "execution_count": 3,
   "metadata": {},
   "outputs": [],
   "source": [
    "set.seed(1000)\n",
    "Y = arima.sim(model=list(ar=0.5), n=30)"
   ]
  },
  {
   "cell_type": "markdown",
   "metadata": {},
   "source": [
    "**(a)**"
   ]
  },
  {
   "cell_type": "code",
   "execution_count": 4,
   "metadata": {},
   "outputs": [],
   "source": [
    "model = arima(Y, order=c(1,0,0), method='ML')"
   ]
  },
  {
   "cell_type": "code",
   "execution_count": 5,
   "metadata": {},
   "outputs": [
    {
     "name": "stderr",
     "output_type": "stream",
     "text": [
      "Loading required package: ggplot2\n",
      "\n",
      "Loading required package: latex2exp\n",
      "\n"
     ]
    }
   ],
   "source": [
    "require(ggplot2)\n",
    "require(latex2exp)"
   ]
  },
  {
   "cell_type": "code",
   "execution_count": 6,
   "metadata": {},
   "outputs": [
    {
     "data": {
      "image/png": "[encoded data removed]",
      "text/plain": [
       "plot without title"
      ]
     },
     "metadata": {
      "image/png": {
       "height": 240,
       "width": 720
      }
     },
     "output_type": "display_data"
    }
   ],
   "source": [
    "options(repr.plot.width=12, repr.plot.height=4)\n",
    "\n",
    "ggplot() + \n",
    "  geom_line(aes(x=1:length(Y), y=c(model$resid)), color='blue', na.rm=T) +\n",
    "  xlab('') + ylab('Residuals') +\n",
    "  theme_bw() + theme(text = element_text(size=16))"
   ]
  },
  {
   "cell_type": "markdown",
   "metadata": {},
   "source": [
    "Residuals look random."
   ]
  },
  {
   "cell_type": "markdown",
   "metadata": {},
   "source": [
    "**(b)**"
   ]
  },
  {
   "cell_type": "code",
   "execution_count": 7,
   "metadata": {},
   "outputs": [
    {
     "data": {
      "image/png": "[encoded data removed]",
      "text/plain": [
       "Plot with title \"Normal Q-Q Plot\""
      ]
     },
     "metadata": {
      "image/png": {
       "height": 480,
       "width": 720
      }
     },
     "output_type": "display_data"
    }
   ],
   "source": [
    "options(repr.plot.width=12, repr.plot.height=8)\n",
    "qqnorm(model$resid); qqline(model$resid)"
   ]
  },
  {
   "cell_type": "markdown",
   "metadata": {},
   "source": [
    "Tails look suspect on both ends.  Let's do Shapiro-Wilk to verify normality:"
   ]
  },
  {
   "cell_type": "code",
   "execution_count": 8,
   "metadata": {},
   "outputs": [
    {
     "data": {
      "text/plain": [
       "\n",
       "\tShapiro-Wilk normality test\n",
       "\n",
       "data:  model$resid\n",
       "W = 0.96858, p-value = 0.5011\n"
      ]
     },
     "metadata": {},
     "output_type": "display_data"
    }
   ],
   "source": [
    "shapiro.test(model$resid)"
   ]
  },
  {
   "cell_type": "markdown",
   "metadata": {},
   "source": [
    "The test fails to reject normality."
   ]
  },
  {
   "cell_type": "markdown",
   "metadata": {},
   "source": [
    "**(c)**"
   ]
  },
  {
   "cell_type": "code",
   "execution_count": 9,
   "metadata": {},
   "outputs": [],
   "source": [
    "plot_acf_with_bounds <- function(acf, lower, upper, title='ACF') {\n",
    "    max_k = length(acf)\n",
    "    k = seq(1, max_k)\n",
    "    \n",
    "    options(repr.plot.width=12, repr.plot.height=4)\n",
    "    p = ggplot() + geom_ribbon(aes(x=k, ymin=lower, ymax=upper), fill='blue', alpha=0.1) +\n",
    "        geom_point(aes(x=k, y=acf), color='blue')\n",
    "    for (i in 1:max_k) {\n",
    "        p = p + geom_line(aes_string(x=k[i], y=c(0, acf[i])), color='blue')\n",
    "    }\n",
    "    p + geom_line(aes(x=k, y=0), color='blue', linetype='dashed') +\n",
    "        xlab('Lag') + ylab(TeX('$\\\\rho_k$')) +\n",
    "        ggtitle(title) +\n",
    "        theme_bw() + theme(text = element_text(size=16), plot.title = element_text(hjust = 0.5))\n",
    "}"
   ]
  },
  {
   "cell_type": "code",
   "execution_count": 10,
   "metadata": {},
   "outputs": [
    {
     "data": {
      "image/png": "[encoded data removed]",
      "text/plain": [
       "plot without title"
      ]
     },
     "metadata": {
      "image/png": {
       "height": 240,
       "width": 720
      }
     },
     "output_type": "display_data"
    }
   ],
   "source": [
    "r = acf(model$resid, lag.max=15, plot=F)$acf[-1]\n",
    "se = 1 / sqrt(length(Y))\n",
    "plot_acf_with_bounds(r, - 2 * se, + 2*se, title='Sample ACF for residuals')"
   ]
  },
  {
   "cell_type": "markdown",
   "metadata": {},
   "source": [
    "ACF indicates residuals are random."
   ]
  },
  {
   "cell_type": "markdown",
   "metadata": {},
   "source": [
    "**(d)**"
   ]
  },
  {
   "cell_type": "code",
   "execution_count": 11,
   "metadata": {},
   "outputs": [],
   "source": [
    "ljung.box.test <- function(r, n, k_ar=0, k_ma=0) {\n",
    "    nlags = length(r)\n",
    "    denominators = (n-1):(n-nlags)\n",
    "    Qstar = n * (n-2) * sum(r**2 / denominators)\n",
    "    df = nlags - k_ar - k_ma\n",
    "    p_value = 1 - pchisq(Qstar, df=df)\n",
    "    \n",
    "    list('X-squared'=Qstar, df=df, 'p-value'=p_value)\n",
    "}"
   ]
  },
  {
   "cell_type": "code",
   "execution_count": 12,
   "metadata": {},
   "outputs": [
    {
     "data": {
      "text/html": [
       "<dl>\n",
       "\t<dt>$`X-squared`</dt>\n",
       "\t\t<dd>4.27915977814229</dd>\n",
       "\t<dt>$df</dt>\n",
       "\t\t<dd>7</dd>\n",
       "\t<dt>$`p-value`</dt>\n",
       "\t\t<dd>0.747120620189247</dd>\n",
       "</dl>\n"
      ],
      "text/latex": [
       "\\begin{description}\n",
       "\\item[\\$`X-squared`] 4.27915977814229\n",
       "\\item[\\$df] 7\n",
       "\\item[\\$`p-value`] 0.747120620189247\n",
       "\\end{description}\n"
      ],
      "text/markdown": [
       "$`X-squared`\n",
       ":   4.27915977814229\n",
       "$df\n",
       ":   7\n",
       "$`p-value`\n",
       ":   0.747120620189247\n",
       "\n",
       "\n"
      ],
      "text/plain": [
       "$`X-squared`\n",
       "[1] 4.27916\n",
       "\n",
       "$df\n",
       "[1] 7\n",
       "\n",
       "$`p-value`\n",
       "[1] 0.7471206\n"
      ]
     },
     "metadata": {},
     "output_type": "display_data"
    }
   ],
   "source": [
    "ljung.box.test(acf(model$resid, lag.max=8, plot=F)$acf[-1], n=length(Y), k_ar=1)"
   ]
  },
  {
   "cell_type": "markdown",
   "metadata": {},
   "source": [
    "The test does not reject randomness of error based on the first 8 autocorrelations."
   ]
  },
  {
   "cell_type": "markdown",
   "metadata": {},
   "source": [
    "**Exercise 8.5**. Simulate an MA(1) model with $n = 36$ and $\\theta = −0.5$.\n",
    "\n",
    "**(a)** Fit the correctly specified MA(1) model and look at a time series plot of the residuals.  Does the plot support the MA(1) specification?\n",
    "\n",
    "**(b)** Display a normal quantile-quantile plot of the standardized residuals.  Does the plot support the MA(1) specification?\n",
    "\n",
    "**(c)** Display the sample ACF of the residuals.  Does the plot support the MA(1) specification?\n",
    "\n",
    "**(d)** Calculate the Ljung-Box statistic summing to K = 6.  Does this statistic support the MA(1) specification?"
   ]
  },
  {
   "cell_type": "markdown",
   "metadata": {},
   "source": [
    "**Solution**."
   ]
  },
  {
   "cell_type": "code",
   "execution_count": 13,
   "metadata": {},
   "outputs": [],
   "source": [
    "set.seed(2000)\n",
    "Y = arima.sim(model=list(ma=-0.5), n=36)"
   ]
  },
  {
   "cell_type": "markdown",
   "metadata": {},
   "source": [
    "**(a)**"
   ]
  },
  {
   "cell_type": "code",
   "execution_count": 14,
   "metadata": {},
   "outputs": [],
   "source": [
    "model = arima(Y, order=c(0,0,1), method='ML')"
   ]
  },
  {
   "cell_type": "code",
   "execution_count": 15,
   "metadata": {},
   "outputs": [
    {
     "data": {
      "image/png": "[encoded data removed]",
      "text/plain": [
       "plot without title"
      ]
     },
     "metadata": {
      "image/png": {
       "height": 240,
       "width": 720
      }
     },
     "output_type": "display_data"
    }
   ],
   "source": [
    "options(repr.plot.width=12, repr.plot.height=4)\n",
    "\n",
    "ggplot() + \n",
    "  geom_line(aes(x=1:length(Y), y=c(model$resid)), color='blue', na.rm=T) +\n",
    "  xlab('') + ylab('Residuals') +\n",
    "  theme_bw() + theme(text = element_text(size=16))"
   ]
  },
  {
   "cell_type": "markdown",
   "metadata": {},
   "source": [
    "Residuals look random."
   ]
  },
  {
   "cell_type": "markdown",
   "metadata": {},
   "source": [
    "**(b)**"
   ]
  },
  {
   "cell_type": "code",
   "execution_count": 16,
   "metadata": {},
   "outputs": [
    {
     "data": {
      "image/png": "[encoded data removed]",
      "text/plain": [
       "Plot with title \"Normal Q-Q Plot\""
      ]
     },
     "metadata": {
      "image/png": {
       "height": 480,
       "width": 720
      }
     },
     "output_type": "display_data"
    }
   ],
   "source": [
    "options(repr.plot.width=12, repr.plot.height=8)\n",
    "qqnorm(model$resid); qqline(model$resid)"
   ]
  },
  {
   "cell_type": "markdown",
   "metadata": {},
   "source": [
    "The residuals look normal, except maybe for the first point in the lower tail.  Let's do a Shapiro-Wilk test anyhow:"
   ]
  },
  {
   "cell_type": "code",
   "execution_count": 17,
   "metadata": {},
   "outputs": [
    {
     "data": {
      "text/plain": [
       "\n",
       "\tShapiro-Wilk normality test\n",
       "\n",
       "data:  model$resid\n",
       "W = 0.97292, p-value = 0.5105\n"
      ]
     },
     "metadata": {},
     "output_type": "display_data"
    }
   ],
   "source": [
    "shapiro.test(model$resid)"
   ]
  },
  {
   "cell_type": "markdown",
   "metadata": {},
   "source": [
    "The Shapiro-Wilk test fails to reject normality."
   ]
  },
  {
   "cell_type": "markdown",
   "metadata": {},
   "source": [
    "**(c)**"
   ]
  },
  {
   "cell_type": "code",
   "execution_count": 18,
   "metadata": {},
   "outputs": [
    {
     "data": {
      "image/png": "[encoded data removed]",
      "text/plain": [
       "plot without title"
      ]
     },
     "metadata": {
      "image/png": {
       "height": 240,
       "width": 720
      }
     },
     "output_type": "display_data"
    }
   ],
   "source": [
    "r = acf(model$resid, lag.max=15, plot=F)$acf[-1]\n",
    "se = 1 / sqrt(length(Y))\n",
    "plot_acf_with_bounds(r, - 2 * se, + 2*se, title='Sample ACF for residuals')"
   ]
  },
  {
   "cell_type": "markdown",
   "metadata": {},
   "source": [
    "ACF suggests the residuals are white noise."
   ]
  },
  {
   "cell_type": "markdown",
   "metadata": {},
   "source": [
    "**(d)**"
   ]
  },
  {
   "cell_type": "code",
   "execution_count": 19,
   "metadata": {},
   "outputs": [
    {
     "data": {
      "text/html": [
       "<dl>\n",
       "\t<dt>$`X-squared`</dt>\n",
       "\t\t<dd>3.66827616463407</dd>\n",
       "\t<dt>$df</dt>\n",
       "\t\t<dd>5</dd>\n",
       "\t<dt>$`p-value`</dt>\n",
       "\t\t<dd>0.598091946584623</dd>\n",
       "</dl>\n"
      ],
      "text/latex": [
       "\\begin{description}\n",
       "\\item[\\$`X-squared`] 3.66827616463407\n",
       "\\item[\\$df] 5\n",
       "\\item[\\$`p-value`] 0.598091946584623\n",
       "\\end{description}\n"
      ],
      "text/markdown": [
       "$`X-squared`\n",
       ":   3.66827616463407\n",
       "$df\n",
       ":   5\n",
       "$`p-value`\n",
       ":   0.598091946584623\n",
       "\n",
       "\n"
      ],
      "text/plain": [
       "$`X-squared`\n",
       "[1] 3.668276\n",
       "\n",
       "$df\n",
       "[1] 5\n",
       "\n",
       "$`p-value`\n",
       "[1] 0.5980919\n"
      ]
     },
     "metadata": {},
     "output_type": "display_data"
    }
   ],
   "source": [
    "ljung.box.test(acf(model$resid, lag.max=6, plot=F)$acf[-1], n=length(Y), k_ma=1)"
   ]
  },
  {
   "cell_type": "markdown",
   "metadata": {},
   "source": [
    "The test does not reject randomness of error based on the first 6 autocorrelations."
   ]
  },
  {
   "cell_type": "markdown",
   "metadata": {},
   "source": [
    "**Exercise 8.6**.  Simulate an AR(2) model with $n = 48$, $\\phi_1 = 1.5$, and $\\phi_2 = −0.75$.\n",
    "\n",
    "**(a)** Fit the correctly specified AR(2) model and look at a time series plot of the residuals.  Does the plot support the AR(2) specification?\n",
    "\n",
    "**(b)** Display a normal quantile-quantile plot of the standardized residuals.  Does the plot support the AR(2) specification?\n",
    "\n",
    "**(c)** Display the sample ACF of the residuals.  Does the plot support the AR(2) specification?\n",
    "\n",
    "**(d)** Calculate the Ljung-Box statistic summing to K = 12.  Does this statistic support the AR(2) specification?"
   ]
  },
  {
   "cell_type": "markdown",
   "metadata": {},
   "source": [
    "**Solution**."
   ]
  },
  {
   "cell_type": "code",
   "execution_count": 20,
   "metadata": {},
   "outputs": [],
   "source": [
    "set.seed(2000)\n",
    "Y = arima.sim(model=list(ar=c(1.5, -0.75)), n=48)"
   ]
  },
  {
   "cell_type": "markdown",
   "metadata": {},
   "source": [
    "**(a)**"
   ]
  },
  {
   "cell_type": "code",
   "execution_count": 21,
   "metadata": {},
   "outputs": [],
   "source": [
    "model = arima(Y, order=c(2,0,0), method='ML')"
   ]
  },
  {
   "cell_type": "code",
   "execution_count": 22,
   "metadata": {},
   "outputs": [
    {
     "data": {
      "image/png": "[encoded data removed]",
      "text/plain": [
       "plot without title"
      ]
     },
     "metadata": {
      "image/png": {
       "height": 240,
       "width": 720
      }
     },
     "output_type": "display_data"
    }
   ],
   "source": [
    "options(repr.plot.width=12, repr.plot.height=4)\n",
    "\n",
    "ggplot() + \n",
    "  geom_line(aes(x=1:length(Y), y=c(model$resid)), color='blue', na.rm=T) +\n",
    "  xlab('') + ylab('Residuals') +\n",
    "  theme_bw() + theme(text = element_text(size=16))"
   ]
  },
  {
   "cell_type": "markdown",
   "metadata": {},
   "source": [
    "Residuals look random."
   ]
  },
  {
   "cell_type": "markdown",
   "metadata": {},
   "source": [
    "**(b)**"
   ]
  },
  {
   "cell_type": "code",
   "execution_count": 23,
   "metadata": {},
   "outputs": [
    {
     "data": {
      "image/png": "[encoded data removed]",
      "text/plain": [
       "Plot with title \"Normal Q-Q Plot\""
      ]
     },
     "metadata": {
      "image/png": {
       "height": 480,
       "width": 720
      }
     },
     "output_type": "display_data"
    }
   ],
   "source": [
    "options(repr.plot.width=12, repr.plot.height=8)\n",
    "qqnorm(model$resid); qqline(model$resid)"
   ]
  },
  {
   "cell_type": "markdown",
   "metadata": {},
   "source": [
    "The upper tail of the plot looks suspect.  Let's do a Shapiro-Wilk test for normality on the residuals:"
   ]
  },
  {
   "cell_type": "code",
   "execution_count": 24,
   "metadata": {},
   "outputs": [
    {
     "data": {
      "text/plain": [
       "\n",
       "\tShapiro-Wilk normality test\n",
       "\n",
       "data:  model$resid\n",
       "W = 0.97261, p-value = 0.3191\n"
      ]
     },
     "metadata": {},
     "output_type": "display_data"
    }
   ],
   "source": [
    "shapiro.test(model$resid)"
   ]
  },
  {
   "cell_type": "markdown",
   "metadata": {},
   "source": [
    "The Shapiro-Wilk test fails to reject normality."
   ]
  },
  {
   "cell_type": "markdown",
   "metadata": {},
   "source": [
    "**(c)**"
   ]
  },
  {
   "cell_type": "code",
   "execution_count": 25,
   "metadata": {},
   "outputs": [
    {
     "data": {
      "image/png": "[encoded data removed]",
      "text/plain": [
       "plot without title"
      ]
     },
     "metadata": {
      "image/png": {
       "height": 240,
       "width": 720
      }
     },
     "output_type": "display_data"
    }
   ],
   "source": [
    "r = acf(model$resid, lag.max=15, plot=F)$acf[-1]\n",
    "se = 1 / sqrt(length(Y))\n",
    "plot_acf_with_bounds(r, - 2 * se, + 2*se, title='Sample ACF for residuals')"
   ]
  },
  {
   "cell_type": "markdown",
   "metadata": {},
   "source": [
    "ACF suggests the residuals are white noise."
   ]
  },
  {
   "cell_type": "markdown",
   "metadata": {},
   "source": [
    "**(d)**"
   ]
  },
  {
   "cell_type": "code",
   "execution_count": 26,
   "metadata": {},
   "outputs": [
    {
     "data": {
      "text/html": [
       "<dl>\n",
       "\t<dt>$`X-squared`</dt>\n",
       "\t\t<dd>6.40807992192511</dd>\n",
       "\t<dt>$df</dt>\n",
       "\t\t<dd>10</dd>\n",
       "\t<dt>$`p-value`</dt>\n",
       "\t\t<dd>0.779892660465856</dd>\n",
       "</dl>\n"
      ],
      "text/latex": [
       "\\begin{description}\n",
       "\\item[\\$`X-squared`] 6.40807992192511\n",
       "\\item[\\$df] 10\n",
       "\\item[\\$`p-value`] 0.779892660465856\n",
       "\\end{description}\n"
      ],
      "text/markdown": [
       "$`X-squared`\n",
       ":   6.40807992192511\n",
       "$df\n",
       ":   10\n",
       "$`p-value`\n",
       ":   0.779892660465856\n",
       "\n",
       "\n"
      ],
      "text/plain": [
       "$`X-squared`\n",
       "[1] 6.40808\n",
       "\n",
       "$df\n",
       "[1] 10\n",
       "\n",
       "$`p-value`\n",
       "[1] 0.7798927\n"
      ]
     },
     "metadata": {},
     "output_type": "display_data"
    }
   ],
   "source": [
    "ljung.box.test(acf(model$resid, lag.max=12, plot=F)$acf[-1], n=length(Y), k_ar=2)"
   ]
  },
  {
   "cell_type": "markdown",
   "metadata": {},
   "source": [
    "The test does not reject randomness of error based on the first 12 autocorrelations."
   ]
  }
 ],
 "metadata": {
  "kernelspec": {
   "display_name": "R",
   "language": "R",
   "name": "ir"
  },
  "language_info": {
   "codemirror_mode": "r",
   "file_extension": ".r",
   "mimetype": "text/x-r-source",
   "name": "R",
   "pygments_lexer": "r",
   "version": "4.0.0"
  }
 },
 "nbformat": 4,
 "nbformat_minor": 2
}
