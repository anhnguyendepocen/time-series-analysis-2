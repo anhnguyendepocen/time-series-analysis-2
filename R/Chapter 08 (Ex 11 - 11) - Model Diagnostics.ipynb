{
 "cells": [
  {
   "cell_type": "markdown",
   "metadata": {},
   "source": [
    "**Exercise 8.11**  Exhibit 6.31 on page 139, suggested specifying either an AR(1) or possibly an AR(4) model for the difference of the logarithms of the oil price series. (The filename is `oil.price`).\n",
    "\n",
    "**(a)** Estimate both of these models using maximum likelihood and compare the results using the diagnostic tests considered in this chapter.\n",
    "\n",
    "**(b)** Exhibit 6.32 on page 140, suggested specifying an MA(1) model for the difference of the logs. Estimate this model by maximum likelihood and perform the diagnostic tests considered in this chapter.\n",
    "\n",
    "**(c)** Which of the three models AR(1), AR(4), or MA(1) would you prefer given the results of parts (a) and (b)?"
   ]
  },
  {
   "cell_type": "markdown",
   "metadata": {},
   "source": [
    "**Solution**."
   ]
  },
  {
   "cell_type": "code",
   "execution_count": 1,
   "metadata": {},
   "outputs": [
    {
     "name": "stderr",
     "output_type": "stream",
     "text": [
      "Loading required package: ggplot2\n",
      "\n",
      "Loading required package: latex2exp\n",
      "\n",
      "Loading required package: tseries\n",
      "\n",
      "Registered S3 method overwritten by 'quantmod':\n",
      "  method            from\n",
      "  as.zoo.data.frame zoo \n",
      "\n"
     ]
    }
   ],
   "source": [
    "require(ggplot2)\n",
    "require(latex2exp)\n",
    "require(tseries)"
   ]
  },
  {
   "cell_type": "code",
   "execution_count": 2,
   "metadata": {},
   "outputs": [],
   "source": [
    "plot_acf_with_bounds <- function(acf, lower, upper, title='ACF') {\n",
    "    max_k = length(acf)\n",
    "    k = seq(1, max_k)\n",
    "    \n",
    "    options(repr.plot.width=12, repr.plot.height=4)\n",
    "    p = ggplot() + geom_ribbon(aes(x=k, ymin=lower, ymax=upper), fill='blue', alpha=0.1) +\n",
    "        geom_point(aes(x=k, y=acf), color='blue')\n",
    "    for (i in 1:max_k) {\n",
    "        p = p + geom_line(aes_string(x=k[i], y=c(0, acf[i])), color='blue')\n",
    "    }\n",
    "    p + geom_line(aes(x=k, y=0), color='blue', linetype='dashed') +\n",
    "        xlab('Lag') + ylab(TeX('$\\\\rho_k$')) +\n",
    "        ggtitle(title) +\n",
    "        theme_bw() + theme(text = element_text(size=16), plot.title = element_text(hjust = 0.5))\n",
    "}\n",
    "\n",
    "plot_residuals_acf <- function(resid, title, nlags=15) {\n",
    "    r = acf(resid, lag.max=nlags, plot=F)$acf[-1]\n",
    "    se = 1 / sqrt(length(resid))\n",
    "    plot_acf_with_bounds(r, - 2 * se, + 2*se, title=title)\n",
    "}\n",
    "\n",
    "ljung.box.test <- function(r, n, k_ar=0, k_ma=0) {\n",
    "    nlags = length(r)\n",
    "    denominators = (n-1):(n-nlags)\n",
    "    Qstar = n * (n-2) * sum(r**2 / denominators)\n",
    "    df = nlags - k_ar - k_ma\n",
    "    p_value = 1 - pchisq(Qstar, df=df)\n",
    "    \n",
    "    list('X-squared'=Qstar, df=df, 'p-value'=p_value)\n",
    "}"
   ]
  },
  {
   "cell_type": "code",
   "execution_count": 3,
   "metadata": {},
   "outputs": [],
   "source": [
    "Y <- read.csv('../data/oil.price.dat')[['oil.price']]\n",
    "Y <- diff(log(Y))"
   ]
  },
  {
   "cell_type": "code",
   "execution_count": 4,
   "metadata": {},
   "outputs": [
    {
     "name": "stdout",
     "output_type": "stream",
     "text": [
      "\n",
      "Call:\n",
      "arima(x = Y, order = c(1, 0, 0), method = \"ML\")\n",
      "\n",
      "Coefficients:\n",
      "         ar1  intercept\n",
      "      0.2337     0.0040\n",
      "s.e.  0.0661     0.0069\n",
      "\n",
      "sigma^2 estimated as 0.006778:  log likelihood = 258.72,  aic = -511.43\n"
     ]
    }
   ],
   "source": [
    "model.ar1 = arima(Y, order=c(1,0,0), method='ML')\n",
    "print(model.ar1)"
   ]
  },
  {
   "cell_type": "code",
   "execution_count": 5,
   "metadata": {},
   "outputs": [
    {
     "name": "stdout",
     "output_type": "stream",
     "text": [
      "\n",
      "Call:\n",
      "arima(x = Y, order = c(4, 0, 0), method = \"ML\")\n",
      "\n",
      "Coefficients:\n",
      "         ar1      ar2     ar3      ar4  intercept\n",
      "      0.2638  -0.1583  0.0203  -0.1008     0.0045\n",
      "s.e.  0.0669   0.0691  0.0692   0.0681     0.0054\n",
      "\n",
      "sigma^2 estimated as 0.006584:  log likelihood = 262.16,  aic = -512.32\n"
     ]
    }
   ],
   "source": [
    "model.ar4 = arima(Y, order=c(4,0,0), method='ML')\n",
    "print(model.ar4)"
   ]
  },
  {
   "cell_type": "markdown",
   "metadata": {},
   "source": [
    "AR(4) presents a lower AIC, but the coefficients for  𝜙3  and  𝜙4  are not significant in the AR(4) model. Let's try an AR(2) model:"
   ]
  },
  {
   "cell_type": "code",
   "execution_count": 6,
   "metadata": {},
   "outputs": [
    {
     "name": "stdout",
     "output_type": "stream",
     "text": [
      "\n",
      "Call:\n",
      "arima(x = Y, order = c(2, 0, 0), method = \"ML\")\n",
      "\n",
      "Coefficients:\n",
      "         ar1      ar2  intercept\n",
      "      0.2603  -0.1470     0.0043\n",
      "s.e.  0.0666   0.0674     0.0059\n",
      "\n",
      "sigma^2 estimated as 0.006645:  log likelihood = 261.07,  aic = -514.14\n"
     ]
    }
   ],
   "source": [
    "model.ar2 = arima(Y, order=c(2,0,0), method='ML')\n",
    "print(model.ar2)"
   ]
  },
  {
   "cell_type": "markdown",
   "metadata": {},
   "source": [
    "Let's also look at the MA(1) model:"
   ]
  },
  {
   "cell_type": "code",
   "execution_count": 7,
   "metadata": {},
   "outputs": [
    {
     "name": "stdout",
     "output_type": "stream",
     "text": [
      "\n",
      "Call:\n",
      "arima(x = Y, order = c(0, 0, 1), method = \"ML\")\n",
      "\n",
      "Coefficients:\n",
      "         ma1  intercept\n",
      "      0.2939     0.0041\n",
      "s.e.  0.0696     0.0068\n",
      "\n",
      "sigma^2 estimated as 0.006679:  log likelihood = 260.47,  aic = -514.94\n"
     ]
    }
   ],
   "source": [
    "model.ma1 = arima(Y, order=c(0,0,1), method='ML')\n",
    "print(model.ma1)"
   ]
  },
  {
   "cell_type": "markdown",
   "metadata": {},
   "source": [
    "Coefficients are also significant, and this model presents the smallest AIC.\n",
    "\n",
    "Let's look at the residuals ACF for each model:"
   ]
  },
  {
   "cell_type": "code",
   "execution_count": 8,
   "metadata": {},
   "outputs": [
    {
     "data": {
      "image/png": "[encoded data removed]",
      "text/plain": [
       "plot without title"
      ]
     },
     "metadata": {
      "image/png": {
       "height": 240,
       "width": 720
      }
     },
     "output_type": "display_data"
    },
    {
     "data": {
      "image/png": "[encoded data removed]",
      "text/plain": [
       "plot without title"
      ]
     },
     "metadata": {
      "image/png": {
       "height": 240,
       "width": 720
      }
     },
     "output_type": "display_data"
    },
    {
     "data": {
      "image/png": "[encoded data removed]",
      "text/plain": [
       "plot without title"
      ]
     },
     "metadata": {
      "image/png": {
       "height": 240,
       "width": 720
      }
     },
     "output_type": "display_data"
    },
    {
     "data": {
      "image/png": "[encoded data removed]",
      "text/plain": [
       "plot without title"
      ]
     },
     "metadata": {
      "image/png": {
       "height": 240,
       "width": 720
      }
     },
     "output_type": "display_data"
    }
   ],
   "source": [
    "plot_residuals_acf(model.ar1$resid, 'AR(1) residuals ACF', nlags=25)\n",
    "plot_residuals_acf(model.ar2$resid, 'AR(2) residuals ACF', nlags=25)\n",
    "plot_residuals_acf(model.ar4$resid, 'AR(4) residuals ACF', nlags=25)\n",
    "plot_residuals_acf(model.ma1$resid, 'MA(1) residuals ACF', nlags=25)"
   ]
  },
  {
   "cell_type": "markdown",
   "metadata": {},
   "source": [
    "Residuals for the AR(1) model display significant autocorrelation at lag 2. This is not the issue for all other models. Residuals do appear to present significant autocorrelation at lags 13, 15, and 20 in all models."
   ]
  },
  {
   "cell_type": "code",
   "execution_count": 9,
   "metadata": {},
   "outputs": [
    {
     "data": {
      "text/html": [
       "<dl>\n",
       "\t<dt>$`X-squared`</dt>\n",
       "\t\t<dd>12.3075087897867</dd>\n",
       "\t<dt>$df</dt>\n",
       "\t\t<dd>11</dd>\n",
       "\t<dt>$`p-value`</dt>\n",
       "\t\t<dd>0.340978243881196</dd>\n",
       "</dl>\n"
      ],
      "text/latex": [
       "\\begin{description}\n",
       "\\item[\\$`X-squared`] 12.3075087897867\n",
       "\\item[\\$df] 11\n",
       "\\item[\\$`p-value`] 0.340978243881196\n",
       "\\end{description}\n"
      ],
      "text/markdown": [
       "$`X-squared`\n",
       ":   12.3075087897867\n",
       "$df\n",
       ":   11\n",
       "$`p-value`\n",
       ":   0.340978243881196\n",
       "\n",
       "\n"
      ],
      "text/plain": [
       "$`X-squared`\n",
       "[1] 12.30751\n",
       "\n",
       "$df\n",
       "[1] 11\n",
       "\n",
       "$`p-value`\n",
       "[1] 0.3409782\n"
      ]
     },
     "metadata": {},
     "output_type": "display_data"
    }
   ],
   "source": [
    "ljung.box.test(acf(model.ar1$resid, lag.max=12, plot=F)$acf[-1], n=length(Y), k_ar=1)"
   ]
  },
  {
   "cell_type": "code",
   "execution_count": 10,
   "metadata": {},
   "outputs": [
    {
     "data": {
      "text/html": [
       "<dl>\n",
       "\t<dt>$`X-squared`</dt>\n",
       "\t\t<dd>8.8298638162848</dd>\n",
       "\t<dt>$df</dt>\n",
       "\t\t<dd>10</dd>\n",
       "\t<dt>$`p-value`</dt>\n",
       "\t\t<dd>0.548322787887419</dd>\n",
       "</dl>\n"
      ],
      "text/latex": [
       "\\begin{description}\n",
       "\\item[\\$`X-squared`] 8.8298638162848\n",
       "\\item[\\$df] 10\n",
       "\\item[\\$`p-value`] 0.548322787887419\n",
       "\\end{description}\n"
      ],
      "text/markdown": [
       "$`X-squared`\n",
       ":   8.8298638162848\n",
       "$df\n",
       ":   10\n",
       "$`p-value`\n",
       ":   0.548322787887419\n",
       "\n",
       "\n"
      ],
      "text/plain": [
       "$`X-squared`\n",
       "[1] 8.829864\n",
       "\n",
       "$df\n",
       "[1] 10\n",
       "\n",
       "$`p-value`\n",
       "[1] 0.5483228\n"
      ]
     },
     "metadata": {},
     "output_type": "display_data"
    }
   ],
   "source": [
    "ljung.box.test(acf(model.ar2$resid, lag.max=12, plot=F)$acf[-1], n=length(Y), k_ar=2)"
   ]
  },
  {
   "cell_type": "code",
   "execution_count": 11,
   "metadata": {},
   "outputs": [
    {
     "data": {
      "text/html": [
       "<dl>\n",
       "\t<dt>$`X-squared`</dt>\n",
       "\t\t<dd>5.54312030127211</dd>\n",
       "\t<dt>$df</dt>\n",
       "\t\t<dd>8</dd>\n",
       "\t<dt>$`p-value`</dt>\n",
       "\t\t<dd>0.698258086910419</dd>\n",
       "</dl>\n"
      ],
      "text/latex": [
       "\\begin{description}\n",
       "\\item[\\$`X-squared`] 5.54312030127211\n",
       "\\item[\\$df] 8\n",
       "\\item[\\$`p-value`] 0.698258086910419\n",
       "\\end{description}\n"
      ],
      "text/markdown": [
       "$`X-squared`\n",
       ":   5.54312030127211\n",
       "$df\n",
       ":   8\n",
       "$`p-value`\n",
       ":   0.698258086910419\n",
       "\n",
       "\n"
      ],
      "text/plain": [
       "$`X-squared`\n",
       "[1] 5.54312\n",
       "\n",
       "$df\n",
       "[1] 8\n",
       "\n",
       "$`p-value`\n",
       "[1] 0.6982581\n"
      ]
     },
     "metadata": {},
     "output_type": "display_data"
    }
   ],
   "source": [
    "ljung.box.test(acf(model.ar4$resid, lag.max=12, plot=F)$acf[-1], n=length(Y), k_ar=4)"
   ]
  },
  {
   "cell_type": "code",
   "execution_count": 12,
   "metadata": {},
   "outputs": [
    {
     "data": {
      "text/html": [
       "<dl>\n",
       "\t<dt>$`X-squared`</dt>\n",
       "\t\t<dd>9.41084408352995</dd>\n",
       "\t<dt>$df</dt>\n",
       "\t\t<dd>11</dd>\n",
       "\t<dt>$`p-value`</dt>\n",
       "\t\t<dd>0.584025571724635</dd>\n",
       "</dl>\n"
      ],
      "text/latex": [
       "\\begin{description}\n",
       "\\item[\\$`X-squared`] 9.41084408352995\n",
       "\\item[\\$df] 11\n",
       "\\item[\\$`p-value`] 0.584025571724635\n",
       "\\end{description}\n"
      ],
      "text/markdown": [
       "$`X-squared`\n",
       ":   9.41084408352995\n",
       "$df\n",
       ":   11\n",
       "$`p-value`\n",
       ":   0.584025571724635\n",
       "\n",
       "\n"
      ],
      "text/plain": [
       "$`X-squared`\n",
       "[1] 9.410844\n",
       "\n",
       "$df\n",
       "[1] 11\n",
       "\n",
       "$`p-value`\n",
       "[1] 0.5840256\n"
      ]
     },
     "metadata": {},
     "output_type": "display_data"
    }
   ],
   "source": [
    "ljung.box.test(acf(model.ma1$resid, lag.max=12, plot=F)$acf[-1], n=length(Y), k_ma=1)"
   ]
  },
  {
   "cell_type": "markdown",
   "metadata": {},
   "source": [
    "Residuals do not appear to collectively display too much autocorrelation in any of the models."
   ]
  },
  {
   "cell_type": "code",
   "execution_count": 13,
   "metadata": {},
   "outputs": [
    {
     "data": {
      "text/plain": [
       "\n",
       "\tShapiro-Wilk normality test\n",
       "\n",
       "data:  model.ar1$resid\n",
       "W = 0.96683, p-value = 2.221e-05\n"
      ]
     },
     "metadata": {},
     "output_type": "display_data"
    }
   ],
   "source": [
    "shapiro.test(model.ar1$resid)"
   ]
  },
  {
   "cell_type": "code",
   "execution_count": 14,
   "metadata": {},
   "outputs": [
    {
     "data": {
      "text/plain": [
       "\n",
       "\tShapiro-Wilk normality test\n",
       "\n",
       "data:  model.ar2$resid\n",
       "W = 0.96898, p-value = 4.295e-05\n"
      ]
     },
     "metadata": {},
     "output_type": "display_data"
    }
   ],
   "source": [
    "shapiro.test(model.ar2$resid)"
   ]
  },
  {
   "cell_type": "code",
   "execution_count": 15,
   "metadata": {},
   "outputs": [
    {
     "data": {
      "text/plain": [
       "\n",
       "\tShapiro-Wilk normality test\n",
       "\n",
       "data:  model.ar4$resid\n",
       "W = 0.96983, p-value = 5.597e-05\n"
      ]
     },
     "metadata": {},
     "output_type": "display_data"
    }
   ],
   "source": [
    "shapiro.test(model.ar4$resid)"
   ]
  },
  {
   "cell_type": "code",
   "execution_count": 16,
   "metadata": {},
   "outputs": [
    {
     "data": {
      "text/plain": [
       "\n",
       "\tShapiro-Wilk normality test\n",
       "\n",
       "data:  model.ma1$resid\n",
       "W = 0.96883, p-value = 4.095e-05\n"
      ]
     },
     "metadata": {},
     "output_type": "display_data"
    }
   ],
   "source": [
    "shapiro.test(model.ma1$resid)"
   ]
  },
  {
   "cell_type": "markdown",
   "metadata": {},
   "source": [
    "Shapiro-Wilk p-value rejects normality on residuals for all models, however -- indicating there are more patterns not captured."
   ]
  },
  {
   "cell_type": "markdown",
   "metadata": {},
   "source": [
    "Based on these results, we'd select the MA(1) model for the difference of log prices -- keeping in mind that more modeling may be needed to achieve residual normality."
   ]
  }
 ],
 "metadata": {
  "kernelspec": {
   "display_name": "R",
   "language": "R",
   "name": "ir"
  },
  "language_info": {
   "codemirror_mode": "r",
   "file_extension": ".r",
   "mimetype": "text/x-r-source",
   "name": "R",
   "pygments_lexer": "r",
   "version": "4.0.0"
  }
 },
 "nbformat": 4,
 "nbformat_minor": 2
}
