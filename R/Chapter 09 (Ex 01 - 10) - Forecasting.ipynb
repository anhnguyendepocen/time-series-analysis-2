{
 "cells": [
  {
   "cell_type": "markdown",
   "metadata": {},
   "source": [
    "## 9. Forecasting"
   ]
  },
  {
   "cell_type": "markdown",
   "metadata": {},
   "source": [
    "**Exercise 9.1**. For an AR(1) model with $Y_t = 12.2$, $\\phi = −0.5$, and $\\mu = 10.8$,\n",
    "\n",
    "**(a)** Find $\\hat{Y}_t(1)$.\n",
    "\n",
    "**(b)** Calculate $\\hat{Y}_t(2)$ in two different ways.\n",
    "\n",
    "**(c)** Calculate $\\hat{Y}_t(10)$."
   ]
  },
  {
   "cell_type": "markdown",
   "metadata": {},
   "source": [
    "**Solution**."
   ]
  },
  {
   "cell_type": "markdown",
   "metadata": {},
   "source": [
    "**(a)**  $$\\hat{Y}_t(1) = \\mu + \\phi (Y_t - \\mu) = 10.09 $$"
   ]
  },
  {
   "cell_type": "markdown",
   "metadata": {},
   "source": [
    "**(b)**  Calculating the estimate from the previous estimate,\n",
    "\n",
    "$$ \\hat{Y}_t(2) = \\mu + \\phi (\\hat{Y}_t(1) - \\mu) = 11.155 $$\n",
    "\n",
    "Alternatively, calculating it directly,\n",
    "\n",
    "$$ \\hat{Y}_t(2) = \\mu + \\phi^2 (Y_t - \\mu) = 11.155 $$"
   ]
  },
  {
   "cell_type": "markdown",
   "metadata": {},
   "source": [
    "**(c)**  Calculating it directly,\n",
    "\n",
    "$$ \\hat{Y}_t(10) = \\mu + \\phi^{10} (Y_t - \\mu) \\approx 10.801367 \\approx \\mu $$"
   ]
  },
  {
   "cell_type": "markdown",
   "metadata": {},
   "source": [
    "**Exercise 9.2**.  Suppose that annual sales (in millions of dollars) of the Acme Corporation follow the AR(2) model $Y_t = 5  + 1.1 Y_{t-1} - 0.5 Y_{t-2} + e_t$ with $\\sigma_e^2 = 2$.\n",
    "\n",
    "**(a)** If sales for 2005, 2006, and 2007 were \\\\$9 million, \\\\$11 million, and \\\\$10 million, respectively, forecast sales for 2008 and 2009.\n",
    "\n",
    "**(b)** Show that $\\psi_1 = 1.1$ for this model.\n",
    "\n",
    "**(c)** Calculate 95% prediction limits for your forecast in part (a) for 2008.\n",
    "\n",
    "**(d)** If sales in 2008 turn out to be \\\\$12 million, update your forecast for 2009."
   ]
  },
  {
   "cell_type": "markdown",
   "metadata": {},
   "source": [
    "**Solution**."
   ]
  },
  {
   "cell_type": "markdown",
   "metadata": {},
   "source": [
    "**(a)**  Forecasts are:\n",
    "\n",
    "$$ \\hat{Y}_{2008} = 5 + 1.1 Y_{2007} - 0.5 Y_{2006} = 10.5 $$\n",
    "\n",
    "and\n",
    "\n",
    "$$ \\hat{Y}_{2009} = 5 + 1.1 \\hat{Y}_{2008} - 0.5 Y_{2007} = 11.55 $$"
   ]
  },
  {
   "cell_type": "markdown",
   "metadata": {},
   "source": [
    "**(b)**  From Equation (4.3.21) for the AR(2) model, $\\psi_1 - \\phi_1 \\psi_0 = 0$ and $\\psi_0 = 1$.  For this model, $\\phi_1 = 1.1$, so $\\psi_1 = 1.1$."
   ]
  },
  {
   "cell_type": "markdown",
   "metadata": {},
   "source": [
    "**(c)**   We have:\n",
    "\n",
    "$$ \\text{Var}[e_t(\\ell)] = \\sigma_e^2 \\sum_{j=0}^{\\ell-1} \\psi_j^2 $$\n",
    "\n",
    "so, in particular, $\\text{Var}[e_t(1)] = \\sigma_e^2 = 2$ for the one-lag prediction of 2008.  The prediction bounds are $\\pm z_{\\alpha / 2} \\sigma_e = \\pm \\Phi(0.975) \\sqrt{2} \\approx 2.7718$, so a 95% confidence interval would be \n",
    "\n",
    "$$ (\\hat{Y}_{2008} - z_{\\alpha / 2} \\sigma_e, \\hat{Y}_{2008} - z_{\\alpha / 2} \\sigma_e ) \\approx (7.7282, 13.2718) $$"
   ]
  },
  {
   "cell_type": "markdown",
   "metadata": {},
   "source": [
    "**(d)**  We can update the forecast according to Equation (9.6.1),\n",
    "\n",
    "$$ \\hat{Y}_{t+1}(\\ell) = \\hat{Y}_{t}(\\ell + 1) + \\psi_\\ell [Y_{t+1} - \\hat{Y}_t(1)] $$\n",
    "\n",
    "In our case,\n",
    "\n",
    "$$ \\hat{Y}_{2008}(1) = \\hat{Y}_{2007}(2) + \\psi_1 [Y_{2008} - \\hat{Y}_{2007}(1)] = 11.55 + 1.1 \\cdot [12 - 10.5] = 13.2 $$"
   ]
  },
  {
   "cell_type": "markdown",
   "metadata": {},
   "source": [
    "**Exercise 9.3**.  Using the estimated cosine trend on page 192:\n",
    "\n",
    "**(a)** Forecast the average monthly temperature in Dubuque, Iowa, for April 1976.\n",
    "\n",
    "**(b)** Find a 95% prediction interval for that April forecast. (The estimate of $\\sqrt{\\gamma_0}$ for this model is 3.719°F.)\n",
    "\n",
    "**(c)** What is the forecast for April, 1977? For April 2009?"
   ]
  },
  {
   "cell_type": "markdown",
   "metadata": {},
   "source": [
    "**Solution**.  The cosine trend is given as\n",
    "\n",
    "$$ \\hat{\\mu}_t = 46.2660 + (-26.7079) \\cos (2 \\pi t) + (-2.1697) \\sin (2 \\pi t) $$\n",
    "\n",
    "where time $t$ is measured in years, with $t = 0$ for January 1964, frequency $f = 1$ per year, and the final observed value is for December 1975."
   ]
  },
  {
   "cell_type": "markdown",
   "metadata": {},
   "source": [
    "**(a)**  There are 12 years and 3 months from Jan 1964 until Apr 1976; so we can use $t = 12 + 3/12$."
   ]
  },
  {
   "cell_type": "code",
   "execution_count": 1,
   "metadata": {},
   "outputs": [
    {
     "name": "stdout",
     "output_type": "stream",
     "text": [
      "[1] \"44.1°F or 6.7°C\"\n"
     ]
    }
   ],
   "source": [
    "mu_t <- function(t) {\n",
    "    46.2660 + (-26.7079) * cos(2 * pi * t) + (-2.1697) * sin(2 * pi * t)\n",
    "}\n",
    "\n",
    "farenheit_to_celsius <- function(t_f) {\n",
    "    (t_f - 32) * 5 / 9\n",
    "}\n",
    "\n",
    "temperature_to_string <- function(t_f) {\n",
    "    paste(c(round(t_f, 1), '°F or ', round(farenheit_to_celsius(t_f), 1), '°C'), collapse='')\n",
    "}\n",
    "\n",
    "t = 12 + 3/12\n",
    "estimate = mu_t(t)\n",
    "print(temperature_to_string(estimate))"
   ]
  },
  {
   "cell_type": "markdown",
   "metadata": {},
   "source": [
    "The forecast is 44.1°F or 6.7°C. "
   ]
  },
  {
   "cell_type": "markdown",
   "metadata": {},
   "source": [
    "**(b)**  The 95% prediction limits are $\\hat{\\mu}_t \\pm z_{\\alpha/2} \\sqrt{\\gamma_0} $"
   ]
  },
  {
   "cell_type": "code",
   "execution_count": 2,
   "metadata": {},
   "outputs": [
    {
     "name": "stdout",
     "output_type": "stream",
     "text": [
      "[1] Lower estimate:  36.8°F or 2.7°C \n",
      "[1] Upper estimate:  51.4°F or 10.8°C\n"
     ]
    }
   ],
   "source": [
    "z = qnorm(0.975)\n",
    "se = 3.719\n",
    "\n",
    "estimate = mu_t(t)\n",
    "lower_estimate = estimate - z * se\n",
    "upper_estimate = estimate + z * se\n",
    "\n",
    "print(c('Lower estimate: ', temperature_to_string(lower_estimate)), quote=F)\n",
    "print(c('Upper estimate: ', temperature_to_string(upper_estimate)), quote=F)"
   ]
  },
  {
   "cell_type": "markdown",
   "metadata": {},
   "source": [
    "The 95\\% confidence interval is from 36.8°F to 51.4°F, or 2.7°C to 10.8°C."
   ]
  },
  {
   "cell_type": "markdown",
   "metadata": {},
   "source": [
    "**(c)**  All forecasts for April are the same, 44.1°F or 6.7°C."
   ]
  },
  {
   "cell_type": "markdown",
   "metadata": {},
   "source": [
    "**Exercise 9.4**.  Using the estimated cosine trend on page 192:\n",
    "\n",
    "**(a)** Forecast the average monthly temperature in Dubuque, Iowa, for May 1976.\n",
    "\n",
    "**(b)** Find a 95% prediction interval for that May 1976 forecast. (The estimate of for this model is 3.719°F.)"
   ]
  },
  {
   "cell_type": "markdown",
   "metadata": {},
   "source": [
    "**Solution**."
   ]
  },
  {
   "cell_type": "markdown",
   "metadata": {},
   "source": [
    "**(a)**"
   ]
  },
  {
   "cell_type": "code",
   "execution_count": 3,
   "metadata": {},
   "outputs": [
    {
     "name": "stdout",
     "output_type": "stream",
     "text": [
      "[1] \"57.7°F or 14.3°C\"\n"
     ]
    }
   ],
   "source": [
    "t = 12 + 4/12\n",
    "estimate = mu_t(t)\n",
    "print(temperature_to_string(estimate))"
   ]
  },
  {
   "cell_type": "markdown",
   "metadata": {},
   "source": [
    "The forecast temperature is 57.7°F or 14.3°C."
   ]
  },
  {
   "cell_type": "markdown",
   "metadata": {},
   "source": [
    "**(b)**"
   ]
  },
  {
   "cell_type": "code",
   "execution_count": 4,
   "metadata": {},
   "outputs": [
    {
     "name": "stdout",
     "output_type": "stream",
     "text": [
      "[1] Lower estimate:  50.5°F or 10.3°C\n",
      "[1] Upper estimate:  65°F or 18.4°C  \n"
     ]
    }
   ],
   "source": [
    "estimate = mu_t(t)\n",
    "lower_estimate = estimate - z * se\n",
    "upper_estimate = estimate + z * se\n",
    "\n",
    "print(c('Lower estimate: ', temperature_to_string(lower_estimate)), quote=F)\n",
    "print(c('Upper estimate: ', temperature_to_string(upper_estimate)), quote=F)"
   ]
  },
  {
   "cell_type": "markdown",
   "metadata": {},
   "source": [
    "The 95\\% confidence interval is from 50.5°F to 65.5°F, or 10.3°C to 18.4°C."
   ]
  },
  {
   "cell_type": "markdown",
   "metadata": {},
   "source": [
    "**Exercise 9.5**.  Using the seasonal means model without an intercept shown in Exhibit 3.3 on page 32:\n",
    "\n",
    "**(a)** Forecast the average monthly temperature in Dubuque, Iowa, for April, 1976.\n",
    "\n",
    "**(b)** Find a 95% prediction interval for that April forecast. (The estimate of $\\sqrt{\\gamma_0}$ for this model is 3.419°F.)\n",
    "\n",
    "**(c)** Compare your forecast with the one obtained in Exercise 9.3.\n",
    "\n",
    "**(d)** What is the forecast for April 1977? April 2009?"
   ]
  },
  {
   "cell_type": "markdown",
   "metadata": {},
   "source": [
    "**Solution**.  The model is:\n",
    "\n",
    "$$\n",
    "\\begin{array}{lcccc}\n",
    " & \\text{Estimate} & \\text{Std. Error} & t\\text{-value} & \\text{Pr}[>|t|] \\\\\n",
    "\\hline\n",
    "\\text{January}   & 16.608 & 0.987 & 16.8 & < 0.0001 \\\\\n",
    "\\text{February}  & 20.650 & 0.987 & 20.9 & < 0.0001 \\\\\n",
    "\\text{March}     & 32.475 & 0.987 & 32.9 & < 0.0001 \\\\\n",
    "\\text{April}     & 46.525 & 0.987 & 47.1 & < 0.0001 \\\\\n",
    "\\text{May}       & 58.092 & 0.987 & 58.9 & < 0.0001 \\\\\n",
    "\\text{June}      & 67.500 & 0.987 & 68.4 & < 0.0001 \\\\\n",
    "\\text{July}      & 71.717 & 0.987 & 72.7 & < 0.0001 \\\\\n",
    "\\text{August}    & 69.333 & 0.987 & 70.2 & < 0.0001 \\\\\n",
    "\\text{September} & 61.025 & 0.987 & 61.8 & < 0.0001 \\\\\n",
    "\\text{October}   & 50.975 & 0.987 & 51.6 & < 0.0001 \\\\\n",
    "\\text{November}  & 36.650 & 0.987 & 37.1 & < 0.0001 \\\\\n",
    "\\text{December}  & 23.642 & 0.987 & 24.0 & < 0.0001\n",
    "\\end{array}\n",
    "$$"
   ]
  },
  {
   "cell_type": "markdown",
   "metadata": {},
   "source": [
    "**(a)**"
   ]
  },
  {
   "cell_type": "code",
   "execution_count": 5,
   "metadata": {},
   "outputs": [
    {
     "data": {
      "text/html": [
       "'46.5°F or 8.1°C'"
      ],
      "text/latex": [
       "'46.5°F or 8.1°C'"
      ],
      "text/markdown": [
       "'46.5°F or 8.1°C'"
      ],
      "text/plain": [
       "[1] \"46.5°F or 8.1°C\""
      ]
     },
     "metadata": {},
     "output_type": "display_data"
    }
   ],
   "source": [
    "temperature_to_string(46.525)"
   ]
  },
  {
   "cell_type": "markdown",
   "metadata": {},
   "source": [
    "The estimate for April is just the coefficient for April, 46.5°F or 8.1°C."
   ]
  },
  {
   "cell_type": "markdown",
   "metadata": {},
   "source": [
    "**(b)**"
   ]
  },
  {
   "cell_type": "code",
   "execution_count": 6,
   "metadata": {},
   "outputs": [
    {
     "name": "stdout",
     "output_type": "stream",
     "text": [
      "[1] Lower estimate:  39.8°F or 4.3°C \n",
      "[1] Upper estimate:  53.2°F or 11.8°C\n"
     ]
    }
   ],
   "source": [
    "z = qnorm(0.975)\n",
    "se = 3.419\n",
    "\n",
    "estimate = 46.525\n",
    "lower_estimate = estimate - z * se\n",
    "upper_estimate = estimate + z * se\n",
    "\n",
    "print(c('Lower estimate: ', temperature_to_string(lower_estimate)), quote=F)\n",
    "print(c('Upper estimate: ', temperature_to_string(upper_estimate)), quote=F)"
   ]
  },
  {
   "cell_type": "markdown",
   "metadata": {},
   "source": [
    "The 95% prediction interval for the April forecast is 39.8°F to 53.2°F, or 4.3°C to 11.8°C."
   ]
  },
  {
   "cell_type": "markdown",
   "metadata": {},
   "source": [
    "**(c)**  This model predicts a slightly higher temperature, with a slightly smaller prediction interval."
   ]
  },
  {
   "cell_type": "markdown",
   "metadata": {},
   "source": [
    "**(d)** Forecast for all April months are the same: 46.5°F or 8.1°C."
   ]
  },
  {
   "cell_type": "markdown",
   "metadata": {},
   "source": [
    "**Exercise 9.6**.  Using the seasonal means model with an intercept shown in Exhibit 3.4 on page 33:\n",
    "\n",
    "**(a)** Forecast the average monthly temperature in Dubuque, Iowa, for April 1976.\n",
    "\n",
    "**(b)** Find a 95% prediction interval for that April forecast. (The estimate of $\\sqrt{\\gamma_0}$ for this model is 3.419°F.)\n",
    "\n",
    "**(c)** Compare your forecast with the one obtained in Exercise 9.5."
   ]
  },
  {
   "cell_type": "markdown",
   "metadata": {},
   "source": [
    "**Solution**.  The model is:\n",
    "\n",
    "$$\n",
    "\\begin{array}{lcccc}\n",
    " & \\text{Estimate} & \\text{Std. Error} & t\\text{-value} & \\text{Pr}[>|t|] \\\\\n",
    "\\hline\n",
    "\\text{Intercept} & 16.608 & 0.987 & 16.83 & < 0.0001 \\\\\n",
    "\\text{February}  &  4.042 & 1.396 &  2.90 &  0.00443 \\\\\n",
    "\\text{March}     & 15.867 & 1.396 & 11.37 & < 0.0001 \\\\\n",
    "\\text{April}     & 29.917 & 1.396 & 21.43 & < 0.0001 \\\\\n",
    "\\text{May}       & 41.483 & 1.396 & 29.72 & < 0.0001 \\\\\n",
    "\\text{June}      & 50.892 & 1.396 & 36.46 & < 0.0001 \\\\\n",
    "\\text{July}      & 55.108 & 1.396 & 39.48 & < 0.0001 \\\\\n",
    "\\text{August}    & 52.725 & 1.396 & 37.78 & < 0.0001 \\\\\n",
    "\\text{September} & 44.417 & 1.396 & 31.82 & < 0.0001 \\\\\n",
    "\\text{October}   & 34.367 & 1.396 & 24.62 & < 0.0001 \\\\\n",
    "\\text{November}  & 20.042 & 1.396 & 14.36 & < 0.0001 \\\\\n",
    "\\text{December}  &  7.033 & 1.396 &  5.04 & < 0.0001\n",
    "\\end{array}\n",
    "$$"
   ]
  },
  {
   "cell_type": "markdown",
   "metadata": {},
   "source": [
    "**(a)**"
   ]
  },
  {
   "cell_type": "code",
   "execution_count": 7,
   "metadata": {},
   "outputs": [
    {
     "data": {
      "text/html": [
       "'46.5°F or 8.1°C'"
      ],
      "text/latex": [
       "'46.5°F or 8.1°C'"
      ],
      "text/markdown": [
       "'46.5°F or 8.1°C'"
      ],
      "text/plain": [
       "[1] \"46.5°F or 8.1°C\""
      ]
     },
     "metadata": {},
     "output_type": "display_data"
    }
   ],
   "source": [
    "temperature_to_string(16.608 + 29.917)"
   ]
  },
  {
   "cell_type": "markdown",
   "metadata": {},
   "source": [
    "The estimate for April is 46.5°F or 8.1°C."
   ]
  },
  {
   "cell_type": "markdown",
   "metadata": {},
   "source": [
    "**(b)**"
   ]
  },
  {
   "cell_type": "code",
   "execution_count": 8,
   "metadata": {},
   "outputs": [
    {
     "name": "stdout",
     "output_type": "stream",
     "text": [
      "[1] Lower estimate:  39.8°F or 4.3°C \n",
      "[1] Upper estimate:  53.2°F or 11.8°C\n"
     ]
    }
   ],
   "source": [
    "z = qnorm(0.975)\n",
    "se = 3.419\n",
    "\n",
    "estimate = 16.608 + 29.917\n",
    "lower_estimate = estimate - z * se\n",
    "upper_estimate = estimate + z * se\n",
    "\n",
    "print(c('Lower estimate: ', temperature_to_string(lower_estimate)), quote=F)\n",
    "print(c('Upper estimate: ', temperature_to_string(upper_estimate)), quote=F)"
   ]
  },
  {
   "cell_type": "markdown",
   "metadata": {},
   "source": [
    "The 95% prediction interval for the April forecast is 39.8°F to 53.2°F, or 4.3°C to 11.8°C."
   ]
  },
  {
   "cell_type": "markdown",
   "metadata": {},
   "source": [
    "**(c)**  The forecasts between the two models are always identical."
   ]
  },
  {
   "cell_type": "markdown",
   "metadata": {},
   "source": [
    "**Exercise 9.7**.  Using the seasonal means model with an intercept shown in Exhibit 3.4 on page 33\n",
    "\n",
    "**(a)** Forecast the average monthly temperature in Dubuque, Iowa, for January 1976.\n",
    "\n",
    "**(b)** Find a 95% prediction interval for that January forecast. (The estimate of $\\sqrt{\\gamma_0}$ for this model is 3.419°F.)"
   ]
  },
  {
   "cell_type": "markdown",
   "metadata": {},
   "source": [
    "**Solution**."
   ]
  },
  {
   "cell_type": "markdown",
   "metadata": {},
   "source": [
    "**(a)**"
   ]
  },
  {
   "cell_type": "code",
   "execution_count": 9,
   "metadata": {},
   "outputs": [
    {
     "data": {
      "text/html": [
       "'16.6°F or -8.6°C'"
      ],
      "text/latex": [
       "'16.6°F or -8.6°C'"
      ],
      "text/markdown": [
       "'16.6°F or -8.6°C'"
      ],
      "text/plain": [
       "[1] \"16.6°F or -8.6°C\""
      ]
     },
     "metadata": {},
     "output_type": "display_data"
    }
   ],
   "source": [
    "temperature_to_string(16.608)"
   ]
  },
  {
   "cell_type": "markdown",
   "metadata": {},
   "source": [
    "The estimate for January is 16.6°F or -8.6°C."
   ]
  },
  {
   "cell_type": "markdown",
   "metadata": {},
   "source": [
    "**(b)**"
   ]
  },
  {
   "cell_type": "code",
   "execution_count": 10,
   "metadata": {},
   "outputs": [
    {
     "name": "stdout",
     "output_type": "stream",
     "text": [
      "[1] Lower estimate:  9.9°F or -12.3°C\n",
      "[1] Upper estimate:  23.3°F or -4.8°C\n"
     ]
    }
   ],
   "source": [
    "z = qnorm(0.975)\n",
    "se = 3.419\n",
    "\n",
    "estimate = 16.608\n",
    "lower_estimate = estimate - z * se\n",
    "upper_estimate = estimate + z * se\n",
    "\n",
    "print(c('Lower estimate: ', temperature_to_string(lower_estimate)), quote=F)\n",
    "print(c('Upper estimate: ', temperature_to_string(upper_estimate)), quote=F)"
   ]
  },
  {
   "cell_type": "markdown",
   "metadata": {},
   "source": [
    "The 95% prediction interval for the January forecast is 9.9°F to 23.3°F, or -12.3°C to -4.8°C."
   ]
  },
  {
   "cell_type": "markdown",
   "metadata": {},
   "source": [
    "**Exercise 9.8**.  Consider the monthly electricity generation time series shown in Exhibit 5.8 on page 99. The data are in the file named `electricity`.\n",
    "\n",
    "**(a)** Fit a deterministic trend model containing seasonal means together with a linear time trend to the logarithms of the electricity values.\n",
    "\n",
    "**(b)** Plot the last five years of the series together with two years of forecasts and the 95% forecast limits. Interpret the plot."
   ]
  },
  {
   "cell_type": "markdown",
   "metadata": {},
   "source": [
    "**Solution**."
   ]
  },
  {
   "cell_type": "code",
   "execution_count": 11,
   "metadata": {},
   "outputs": [
    {
     "name": "stderr",
     "output_type": "stream",
     "text": [
      "Loading required package: zoo\n",
      "\n",
      "\n",
      "Attaching package: 'zoo'\n",
      "\n",
      "\n",
      "The following objects are masked from 'package:base':\n",
      "\n",
      "    as.Date, as.Date.numeric\n",
      "\n",
      "\n"
     ]
    }
   ],
   "source": [
    "require(zoo)"
   ]
  },
  {
   "cell_type": "code",
   "execution_count": 12,
   "metadata": {},
   "outputs": [],
   "source": [
    "data <- read.table(\"../data/electricity.dat\", header=TRUE)\n",
    "data['date'] = time(zooreg(1:nrow(data), as.yearmon(\"1973-01\"), freq = 12))\n",
    "data['t'] = as.numeric(format(data[['date']], \"%Y\")) + as.numeric(format(data[['date']], \"%m\"))/12\n",
    "data['month'] = as.factor(format(data[['date']], \"%m\"))"
   ]
  },
  {
   "cell_type": "code",
   "execution_count": 13,
   "metadata": {},
   "outputs": [
    {
     "data": {
      "text/plain": [
       "\n",
       "Call:\n",
       "lm(formula = log(electricity) ~ t + month, data = data)\n",
       "\n",
       "Residuals:\n",
       "      Min        1Q    Median        3Q       Max \n",
       "-0.096274 -0.029189  0.000315  0.025507  0.134976 \n",
       "\n",
       "Coefficients:\n",
       "              Estimate Std. Error t value Pr(>|t|)    \n",
       "(Intercept) -3.783e+01  4.283e-01 -88.323  < 2e-16 ***\n",
       "t            2.526e-02  2.153e-04 117.310  < 2e-16 ***\n",
       "month02     -1.246e-01  1.004e-02 -12.408  < 2e-16 ***\n",
       "month03     -9.080e-02  1.004e-02  -9.040  < 2e-16 ***\n",
       "month04     -1.642e-01  1.004e-02 -16.344  < 2e-16 ***\n",
       "month05     -1.000e-01  1.004e-02  -9.959  < 2e-16 ***\n",
       "month06     -2.016e-02  1.004e-02  -2.007   0.0455 *  \n",
       "month07      7.675e-02  1.004e-02   7.641 1.75e-13 ***\n",
       "month08      7.368e-02  1.004e-02   7.335 1.33e-12 ***\n",
       "month09     -6.473e-02  1.004e-02  -6.444 3.49e-10 ***\n",
       "month10     -1.148e-01  1.005e-02 -11.431  < 2e-16 ***\n",
       "month11     -1.346e-01  1.005e-02 -13.400  < 2e-16 ***\n",
       "month12     -4.481e-02  1.005e-02  -4.460 1.08e-05 ***\n",
       "---\n",
       "Signif. codes:  0 '***' 0.001 '**' 0.01 '*' 0.05 '.' 0.1 ' ' 1\n",
       "\n",
       "Residual standard error: 0.0408 on 383 degrees of freedom\n",
       "Multiple R-squared:  0.9753,\tAdjusted R-squared:  0.9746 \n",
       "F-statistic:  1262 on 12 and 383 DF,  p-value: < 2.2e-16\n"
      ]
     },
     "metadata": {},
     "output_type": "display_data"
    }
   ],
   "source": [
    "model = lm(log(electricity)~ t + month, data=data)\n",
    "summary(model)"
   ]
  },
  {
   "cell_type": "markdown",
   "metadata": {},
   "source": [
    "**(b)**"
   ]
  },
  {
   "cell_type": "code",
   "execution_count": 14,
   "metadata": {},
   "outputs": [],
   "source": [
    "sigma_e = summary(model)$sigma\n",
    "z = qnorm(0.975)"
   ]
  },
  {
   "cell_type": "code",
   "execution_count": 15,
   "metadata": {},
   "outputs": [
    {
     "name": "stderr",
     "output_type": "stream",
     "text": [
      "Loading required package: ggplot2\n",
      "\n",
      "Loading required package: data.table\n",
      "\n"
     ]
    }
   ],
   "source": [
    "require(ggplot2)\n",
    "require(data.table)"
   ]
  },
  {
   "cell_type": "code",
   "execution_count": 16,
   "metadata": {},
   "outputs": [],
   "source": [
    "t = time(zooreg(1:(2*12), as.yearmon(\"2006-01\"), freq = 12))\n",
    "new_data = data.table(\n",
    "    'date' = t,\n",
    "    't' = as.numeric(format(t, \"%Y\")) + as.numeric(format(t, \"%m\"))/12,\n",
    "    'month' = as.factor(format(t, \"%m\"))\n",
    ")\n",
    "new_data[, 'electricity' := exp(predict.lm(model, new_data))]"
   ]
  },
  {
   "cell_type": "code",
   "execution_count": 17,
   "metadata": {},
   "outputs": [
    {
     "data": {
      "image/png": "[encoded data removed]",
      "text/plain": [
       "plot without title"
      ]
     },
     "metadata": {
      "image/png": {
       "height": 240,
       "width": 720
      }
     },
     "output_type": "display_data"
    }
   ],
   "source": [
    "options(repr.plot.width=12, repr.plot.height=4)\n",
    "\n",
    "index = data['t'] >= 2001\n",
    "\n",
    "# Prepend last element so line is continuous\n",
    "plot_data = rbind(last(data), new_data)\n",
    "\n",
    "ggplot() + \n",
    "  geom_line(aes(x=data[['t']][index], y=log(data[['electricity']][index])), color='blue') +\n",
    "  geom_point(aes(x=data[['t']][index], y=log(data[['electricity']][index])), color='blue') +\n",
    "  geom_line(aes(x=plot_data[['t']], y=log(plot_data[['electricity']])), color='orange') +\n",
    "  geom_point(aes(x=plot_data[['t']], y=log(plot_data[['electricity']])), color='orange') +\n",
    "  geom_ribbon(aes(\n",
    "      x=new_data[['t']], \n",
    "      ymin=log(new_data[['electricity']]) - z * sigma_e, \n",
    "      ymax=log(new_data[['electricity']]) + z * sigma_e\n",
    "  ), fill='orange', alpha=0.2) + \n",
    "  xlab('Date') + ylab('log Electricity') +\n",
    "  theme_bw() + theme(text = element_text(size=16))"
   ]
  },
  {
   "cell_type": "markdown",
   "metadata": {},
   "source": [
    "The forecast seems to follow the seasonality and trend of the series well, with a tight confidence interval."
   ]
  },
  {
   "cell_type": "markdown",
   "metadata": {},
   "source": [
    "**Exercise 9.9**.  Simulate an AR(1) process with $\\phi = 0.8$ and $\\mu = 100$. Simulate 48 values but set aside the last 8 values to compare forecasts to actual values.\n",
    "\n",
    "**(a)** Using the first 40 values of the series, find the values for the maximum likelihood estimates of $\\phi$ and $\\mu$.\n",
    "\n",
    "**(b)** Using the estimated model, forecast the next eight values of the series.  Plot the series together with the eight forecasts. Place a horizontal line at the estimate of the process mean.\n",
    "\n",
    "**(c)** Compare the eight forecasts with the actual values that you set aside.\n",
    "\n",
    "**(d)** Plot the forecasts together with 95% forecast limits. Do the actual values fall within the forecast limits?\n",
    "\n",
    "**(e)** Repeat parts (a) through (d) with a new simulated series using the same values of the parameters and the same sample size."
   ]
  },
  {
   "cell_type": "markdown",
   "metadata": {},
   "source": [
    "**Solution**."
   ]
  },
  {
   "cell_type": "code",
   "execution_count": 18,
   "metadata": {},
   "outputs": [],
   "source": [
    "set.seed(2000)\n",
    "Y = arima.sim(model=list(ar=0.8), n=48) + 100"
   ]
  },
  {
   "cell_type": "markdown",
   "metadata": {},
   "source": [
    "**(a)**"
   ]
  },
  {
   "cell_type": "code",
   "execution_count": 19,
   "metadata": {},
   "outputs": [
    {
     "name": "stdout",
     "output_type": "stream",
     "text": [
      "\n",
      "Call:\n",
      "arima(x = Y[1:40], order = c(1, 0, 0), method = \"ML\")\n",
      "\n",
      "Coefficients:\n",
      "         ar1  intercept\n",
      "      0.8433    99.7043\n",
      "s.e.  0.0821     0.7337\n",
      "\n",
      "sigma^2 estimated as 0.6705:  log likelihood = -49.38,  aic = 104.77\n"
     ]
    }
   ],
   "source": [
    "model = arima(Y[1:40], order=c(1, 0, 0), method='ML')\n",
    "print(model)"
   ]
  },
  {
   "cell_type": "markdown",
   "metadata": {},
   "source": [
    "**(b)**"
   ]
  },
  {
   "cell_type": "code",
   "execution_count": 20,
   "metadata": {},
   "outputs": [],
   "source": [
    "pred = predict(model, n.ahead=8, se.fit=TRUE)\n",
    "Y_pred = pred$pred\n",
    "se = pred$se\n",
    "z = qnorm(0.975)"
   ]
  },
  {
   "cell_type": "code",
   "execution_count": 21,
   "metadata": {},
   "outputs": [
    {
     "data": {
      "image/png": "[encoded data removed]",
      "text/plain": [
       "plot without title"
      ]
     },
     "metadata": {
      "image/png": {
       "height": 240,
       "width": 720
      }
     },
     "output_type": "display_data"
    }
   ],
   "source": [
    "options(repr.plot.width=12, repr.plot.height=4)\n",
    "\n",
    "m = model$nobs\n",
    "n = length(Y)\n",
    "ggplot() + \n",
    "  geom_line(aes(x=1:n, y=mean(Y)), linetype='dashed') +\n",
    "  geom_line(aes(x=1:n, y=c(Y)), color='blue') +\n",
    "  geom_point(aes(x=1:n, y=c(Y)), color='blue') +\n",
    "  geom_line(aes(x=(m+1):n, y=Y_pred), color='orange') +\n",
    "  geom_point(aes(x=(m+1):n, y=Y_pred), color='orange') +\n",
    "  geom_ribbon(aes(\n",
    "      x=(m+1):n, \n",
    "      ymin=Y_pred - z * se, \n",
    "      ymax=Y_pred + z * se\n",
    "  ), fill='orange', alpha=0.2) + \n",
    "  xlab('') + ylab('') +\n",
    "  theme_bw() + theme(text = element_text(size=16))"
   ]
  },
  {
   "cell_type": "markdown",
   "metadata": {},
   "source": [
    "**(c)**  Most of the values are within the 95% confidence interval."
   ]
  },
  {
   "cell_type": "markdown",
   "metadata": {},
   "source": [
    "**(d)**  See (b)."
   ]
  },
  {
   "cell_type": "markdown",
   "metadata": {},
   "source": [
    "**(e)**"
   ]
  },
  {
   "cell_type": "code",
   "execution_count": 22,
   "metadata": {
    "scrolled": false
   },
   "outputs": [
    {
     "name": "stdout",
     "output_type": "stream",
     "text": [
      "\n",
      "Call:\n",
      "arima(x = Y[1:40], order = c(1, 0, 0), method = \"ML\")\n",
      "\n",
      "Coefficients:\n",
      "         ar1  intercept\n",
      "      0.7887    99.6842\n",
      "s.e.  0.0946     0.7475\n",
      "\n",
      "sigma^2 estimated as 1.153:  log likelihood = -60.09,  aic = 126.18\n"
     ]
    },
    {
     "data": {
      "image/png": "[encoded data removed]",
      "text/plain": [
       "plot without title"
      ]
     },
     "metadata": {
      "image/png": {
       "height": 240,
       "width": 720
      }
     },
     "output_type": "display_data"
    }
   ],
   "source": [
    "set.seed(3000)\n",
    "Y = arima.sim(model=list(ar=0.8), n=48) + 100\n",
    "model = arima(Y[1:40], order=c(1, 0, 0), method='ML')\n",
    "print(model)\n",
    "\n",
    "pred = predict(model, n.ahead=8, se.fit=TRUE)\n",
    "Y_pred = pred$pred\n",
    "se = pred$se\n",
    "z = qnorm(0.975)\n",
    "\n",
    "options(repr.plot.width=12, repr.plot.height=4)\n",
    "\n",
    "m = model$nobs\n",
    "n = length(Y)\n",
    "ggplot() + \n",
    "  geom_line(aes(x=1:n, y=mean(Y)), linetype='dashed') +\n",
    "  geom_line(aes(x=1:n, y=c(Y)), color='blue') +\n",
    "  geom_point(aes(x=1:n, y=c(Y)), color='blue') +\n",
    "  geom_line(aes(x=(m+1):n, y=Y_pred), color='orange') +\n",
    "  geom_point(aes(x=(m+1):n, y=Y_pred), color='orange') +\n",
    "  geom_ribbon(aes(\n",
    "      x=(m+1):n, \n",
    "      ymin=Y_pred - z * se, \n",
    "      ymax=Y_pred + z * se\n",
    "  ), fill='orange', alpha=0.2) + \n",
    "  xlab('') + ylab('') +\n",
    "  theme_bw() + theme(text = element_text(size=16))"
   ]
  },
  {
   "cell_type": "markdown",
   "metadata": {},
   "source": [
    "Results are again within the 95% confidence interval."
   ]
  },
  {
   "cell_type": "markdown",
   "metadata": {},
   "source": [
    "**Exercise 9.10**.  Simulate an AR(2) process with $\\phi_1 = 1.5$, $\\phi_2 = −0.75$, and $\\mu = 100$.  Simulate 52 values but set aside the last 12 values to compare forecasts to actual values.\n",
    "\n",
    "**(a)** Using the first 40 values of the series, find the values for the maximum likelihood estimates of the $\\phi$'s and $\\mu$.\n",
    "\n",
    "**(b)** Using the estimated model, forecast the next 12 values of the series.  Plot the series together with the 12 forecasts. Place a horizontal line at the estimate of the process mean.\n",
    "\n",
    "**(c)** Compare the 12 forecasts with the actual values that you set aside.\n",
    "\n",
    "**(d)** Plot the forecasts together with 95% forecast limits. Do the actual values fall within the forecast limits?\n",
    "\n",
    "**(e)** Repeat parts (a) through (d) with a new simulated series using the same values of the parameters and same sample size."
   ]
  },
  {
   "cell_type": "markdown",
   "metadata": {},
   "source": [
    "**Solution**."
   ]
  },
  {
   "cell_type": "code",
   "execution_count": 23,
   "metadata": {},
   "outputs": [],
   "source": [
    "set.seed(2000)\n",
    "Y = arima.sim(model=list(ar=c(1.5, -0.75)), n=52) + 100"
   ]
  },
  {
   "cell_type": "markdown",
   "metadata": {},
   "source": [
    "**(a)**"
   ]
  },
  {
   "cell_type": "code",
   "execution_count": 24,
   "metadata": {},
   "outputs": [
    {
     "name": "stdout",
     "output_type": "stream",
     "text": [
      "\n",
      "Call:\n",
      "arima(x = Y[1:40], order = c(2, 0, 0), method = \"ML\")\n",
      "\n",
      "Coefficients:\n",
      "         ar1      ar2  intercept\n",
      "      1.5793  -0.8337    99.8318\n",
      "s.e.  0.0796   0.0779     0.5009\n",
      "\n",
      "sigma^2 estimated as 0.6325:  log likelihood = -49.46,  aic = 106.92\n"
     ]
    }
   ],
   "source": [
    "model = arima(Y[1:40], order=c(2, 0, 0), method='ML')\n",
    "print(model)"
   ]
  },
  {
   "cell_type": "markdown",
   "metadata": {},
   "source": [
    "**(b)**"
   ]
  },
  {
   "cell_type": "code",
   "execution_count": 25,
   "metadata": {},
   "outputs": [],
   "source": [
    "pred = predict(model, n.ahead=12, se.fit=TRUE)\n",
    "Y_pred = pred$pred\n",
    "se = pred$se\n",
    "z = qnorm(0.975)"
   ]
  },
  {
   "cell_type": "code",
   "execution_count": 26,
   "metadata": {},
   "outputs": [
    {
     "data": {
      "image/png": "[encoded data removed]",
      "text/plain": [
       "plot without title"
      ]
     },
     "metadata": {
      "image/png": {
       "height": 240,
       "width": 720
      }
     },
     "output_type": "display_data"
    }
   ],
   "source": [
    "options(repr.plot.width=12, repr.plot.height=4)\n",
    "\n",
    "m = model$nobs\n",
    "n = length(Y)\n",
    "ggplot() + \n",
    "  geom_line(aes(x=1:n, y=mean(Y)), linetype='dashed') +\n",
    "  geom_line(aes(x=1:n, y=c(Y)), color='blue') +\n",
    "  geom_point(aes(x=1:n, y=c(Y)), color='blue') +\n",
    "  geom_line(aes(x=(m+1):n, y=Y_pred), color='orange') +\n",
    "  geom_point(aes(x=(m+1):n, y=Y_pred), color='orange') +\n",
    "  geom_ribbon(aes(\n",
    "      x=(m+1):n, \n",
    "      ymin=Y_pred - z * se, \n",
    "      ymax=Y_pred + z * se\n",
    "  ), fill='orange', alpha=0.2) + \n",
    "  xlab('') + ylab('') +\n",
    "  theme_bw() + theme(text = element_text(size=16))"
   ]
  },
  {
   "cell_type": "markdown",
   "metadata": {},
   "source": [
    "**(c)**  The actual values all fall within the confidence interval."
   ]
  },
  {
   "cell_type": "markdown",
   "metadata": {},
   "source": [
    "**(d)**  See (b)."
   ]
  },
  {
   "cell_type": "markdown",
   "metadata": {},
   "source": [
    "**(e)**"
   ]
  },
  {
   "cell_type": "code",
   "execution_count": 27,
   "metadata": {},
   "outputs": [
    {
     "name": "stdout",
     "output_type": "stream",
     "text": [
      "\n",
      "Call:\n",
      "arima(x = Y[1:40], order = c(2, 0, 0), method = \"ML\")\n",
      "\n",
      "Coefficients:\n",
      "         ar1      ar2  intercept\n",
      "      1.6788  -0.8754    99.8661\n",
      "s.e.  0.0728   0.0712     0.7727\n",
      "\n",
      "sigma^2 estimated as 0.8956:  log likelihood = -56.81,  aic = 121.63\n"
     ]
    },
    {
     "data": {
      "image/png": "[encoded data removed]",
      "text/plain": [
       "plot without title"
      ]
     },
     "metadata": {
      "image/png": {
       "height": 240,
       "width": 720
      }
     },
     "output_type": "display_data"
    }
   ],
   "source": [
    "set.seed(2001)\n",
    "Y = arima.sim(model=list(ar=c(1.5, -0.75)), n=52) + 100\n",
    "\n",
    "model = arima(Y[1:40], order=c(2, 0, 0), method='ML')\n",
    "print(model)\n",
    "\n",
    "pred = predict(model, n.ahead=12, se.fit=TRUE)\n",
    "Y_pred = pred$pred\n",
    "se = pred$se\n",
    "z = qnorm(0.975)\n",
    "\n",
    "options(repr.plot.width=12, repr.plot.height=4)\n",
    "\n",
    "m = model$nobs\n",
    "n = length(Y)\n",
    "ggplot() + \n",
    "  geom_line(aes(x=1:n, y=mean(Y)), linetype='dashed') +\n",
    "  geom_line(aes(x=1:n, y=c(Y)), color='blue') +\n",
    "  geom_point(aes(x=1:n, y=c(Y)), color='blue') +\n",
    "  geom_line(aes(x=(m+1):n, y=Y_pred), color='orange') +\n",
    "  geom_point(aes(x=(m+1):n, y=Y_pred), color='orange') +\n",
    "  geom_ribbon(aes(\n",
    "      x=(m+1):n, \n",
    "      ymin=Y_pred - z * se, \n",
    "      ymax=Y_pred + z * se\n",
    "  ), fill='orange', alpha=0.2) + \n",
    "  xlab('') + ylab('') +\n",
    "  theme_bw() + theme(text = element_text(size=16))"
   ]
  },
  {
   "cell_type": "markdown",
   "metadata": {},
   "source": [
    "The actual values again fall within the confidence interval."
   ]
  }
 ],
 "metadata": {
  "kernelspec": {
   "display_name": "R",
   "language": "R",
   "name": "ir"
  },
  "language_info": {
   "codemirror_mode": "r",
   "file_extension": ".r",
   "mimetype": "text/x-r-source",
   "name": "R",
   "pygments_lexer": "r",
   "version": "4.0.0"
  }
 },
 "nbformat": 4,
 "nbformat_minor": 2
}
