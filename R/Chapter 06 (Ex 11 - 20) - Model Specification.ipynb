{
 "cells": [
  {
   "cell_type": "markdown",
   "metadata": {},
   "source": [
    "**Exercise 6.11**. Use Equation (6.2.8) on page 114, to find the (theoretical) partial autocorrelation function for an AR(2) model in terms of $\\phi_1$ and $\\phi_2$ and lag $k = 1, 2, 3, \\dots$."
   ]
  },
  {
   "cell_type": "markdown",
   "metadata": {},
   "source": [
    "**Solution**.  Equation (6.2.8), the Yule-Walker equations, state that\n",
    "\n",
    "$$ \\begin{bmatrix}\n",
    "\\rho_1 \\\\\n",
    "\\rho_2 \\\\\n",
    "\\rho_3 \\\\\n",
    "\\vdots \\\\\n",
    "\\rho_k\n",
    "\\end{bmatrix} = \\begin{bmatrix}\n",
    "1 & \\rho_1 & \\rho_2 & \\cdots & \\rho_{k-1} \\\\\n",
    "\\rho_1 & 1 & \\rho_1 & \\cdots & \\rho_{k-2} \\\\\n",
    "\\rho_2 & \\rho_1 & 1 & \\cdots & \\rho_{k-3} \\\\\n",
    "\\vdots & \\vdots & \\vdots & \\ddots & \\vdots \\\\\n",
    "\\rho_{k-1} & \\rho_{k-2} & \\rho_{k-3} & \\cdots & 1\n",
    "\\end{bmatrix} \\begin{bmatrix}\n",
    "\\phi_{k1} \\\\\n",
    "\\phi_{k2} \\\\\n",
    "\\phi_{k3} \\\\\n",
    "\\vdots \\\\\n",
    "\\phi_{kk}\n",
    "\\end{bmatrix}\n",
    "$$\n",
    "\n",
    "For $k = 1$, we get $\\phi_{11} = \\rho_1 = \\phi_1$.\n",
    "\n",
    "For $k = 2$, we get \n",
    "\n",
    "$$\n",
    "\\begin{align}\n",
    "\\rho_1 = \\phi_{21} + \\phi_{22} \\rho_1 \\\\\n",
    "\\rho_2 = \\phi_{21} \\rho_1 + \\phi_{22}\n",
    "\\end{align}\n",
    "$$\n",
    "\n",
    "But since the process is AR(2), we have\n",
    "\n",
    "$$\n",
    "\\begin{align}\n",
    "\\rho_1 = \\phi_1 + \\phi_2 \\rho_1 \\\\\n",
    "\\rho_2 = \\phi_1 \\rho_1 + \\phi_2\n",
    "\\end{align}\n",
    "$$\n",
    "\n",
    "we must have $\\phi_{22} = \\phi_2$.\n",
    "\n",
    "In general, if we know that $\\phi_{kk} = \\phi_k$ for $k \\leq n - 1$, we have\n",
    "\n",
    "$$ \\begin{bmatrix}\n",
    "\\rho_1 \\\\\n",
    "\\rho_2 \\\\\n",
    "\\rho_3 \\\\\n",
    "\\vdots \\\\\n",
    "\\rho_n\n",
    "\\end{bmatrix} = \\begin{bmatrix}\n",
    "1 & \\rho_1 & \\rho_2 & \\cdots & \\rho_{n-1} \\\\\n",
    "\\rho_1 & 1 & \\rho_1 & \\cdots & \\rho_{n-2} \\\\\n",
    "\\rho_2 & \\rho_1 & 1 & \\cdots & \\rho_{n-3} \\\\\n",
    "\\vdots & \\vdots & \\vdots & \\ddots & \\vdots \\\\\n",
    "\\rho_{n-1} & \\rho_{n-2} & \\rho_{n-3} & \\cdots & 1\n",
    "\\end{bmatrix} \\begin{bmatrix}\n",
    "\\phi_{n1} \\\\\n",
    "\\phi_{n2} \\\\\n",
    "\\phi_{n3} \\\\\n",
    "\\vdots \\\\\n",
    "\\phi_{nn}\n",
    "\\end{bmatrix}\n",
    "$$\n",
    "\n",
    "but since the process is AR(2) we know hat\n",
    "\n",
    "$$ \\begin{bmatrix}\n",
    "\\rho_1 \\\\\n",
    "\\rho_2 \\\\\n",
    "\\rho_3 \\\\\n",
    "\\vdots \\\\\n",
    "\\rho_n\n",
    "\\end{bmatrix} = \\begin{bmatrix}\n",
    "1 & \\rho_1 & \\rho_2 & \\cdots & \\rho_{n-1} \\\\\n",
    "\\rho_1 & 1 & \\rho_1 & \\cdots & \\rho_{n-2} \\\\\n",
    "\\rho_2 & \\rho_1 & 1 & \\cdots & \\rho_{n-3} \\\\\n",
    "\\vdots & \\vdots & \\vdots & \\ddots & \\vdots \\\\\n",
    "\\rho_{n-1} & \\rho_{n-2} & \\rho_{n-3} & \\cdots & 1\n",
    "\\end{bmatrix} \\begin{bmatrix}\n",
    "\\phi_1 \\\\\n",
    "\\phi_2 \\\\\n",
    "\\phi_3 \\\\\n",
    "\\vdots \\\\\n",
    "\\phi_n\n",
    "\\end{bmatrix}\n",
    "$$\n",
    "\n",
    "and so $\\phi_{nn} = \\phi_n = 0$ for $n > 2$."
   ]
  },
  {
   "cell_type": "markdown",
   "metadata": {},
   "source": [
    "**Exercise 6.12**.  From a time series of 100 observations, we calculate $r_1 = -0.49$, $r_2 = 0.31$, $r_3 = -0.21$, $r_4 = 0.11$, and $|r_k| < 0.09$ for $k > 4$.  On this basis alone, what ARIMA model would we tentatively specify for the series?"
   ]
  },
  {
   "cell_type": "markdown",
   "metadata": {},
   "source": [
    "**Solution**.  Using $2 / \\sqrt{n} = 2 / 10 = 0.2$ as a guideline, $|r_i| > 0.2$ for $i = 1, 2, 3$ and $|r_i| < 0.2$ for $i > 3$, so we would consider MA(2) and MA(3).  Assuming MA(2), Equation (6.1.11) gives $\\text{Var}[r_3] \\approx (100)^{-1}(1 + 2(-0.49)^2 + 2(0.31)^2) \\approx 0.016724$, so $r_3 / \\sqrt{\\text{Var}[r_3]} = \\approx -1.62$, and MA(2) is not rejected."
   ]
  },
  {
   "cell_type": "markdown",
   "metadata": {},
   "source": [
    "**Exercise 6.13**.  A stationary time series of length 121 produced sample partial autocorrelation of $\\hat{\\phi}_{11} = 0.8$, $\\hat{\\phi}_{22} = -0.6$, $\\hat{\\phi}_{33} = 0.08$, and $\\hat{\\phi}_{44} = 0.0$.  Based on this information alone, what model would we tentatively specify for the series?"
   ]
  },
  {
   "cell_type": "markdown",
   "metadata": {},
   "source": [
    "**Solution**.  The guideline threshold is $2 / \\sqrt{n} = 2 / 11 \\approx 0.181$, and since $|\\hat{\\phi}_{jj}| > 0.181$ for $j \\leq 2$ and $|\\hat{\\phi}_{jj}| < 0.181$ for $j > 2$, an AR(2) model should be selected."
   ]
  },
  {
   "cell_type": "markdown",
   "metadata": {},
   "source": [
    "**Exercise 6.14**.  For a series of length 169, we find that $r_1 = 0.41$, $r_2 = 0.32$, $r_3 = 0.26$, $r_4 = 0.21$, and $r_5 = 0.16$.  What ARIMA model fits this pattern of observations?"
   ]
  },
  {
   "cell_type": "markdown",
   "metadata": {},
   "source": [
    "**Solution**.  Using $2 / \\sqrt{n} = 2 / 13 \\approx 0.154$ as a guideline, $|r_k| > 0.154$ for all measured lags, so no small MA model is suggested.  We do note that $r_k$ does seems to follow an exponential decay like $r_k = \\theta \\phi^k$, since\n",
    "\n",
    "$$ \\frac{r_2}{r_1} \\approx 0.78\n",
    "\\quad\n",
    "\\frac{r_3}{r_2} \\approx 0.81\n",
    "\\quad\n",
    "\\frac{r_4}{r_3} \\approx 0.80\n",
    "\\quad\n",
    "\\frac{r_5}{r_4} \\approx 0.76\n",
    "\\quad\n",
    "$$\n",
    "\n",
    "Therefore we'd consider fitting the series as ARMA(1, 1), with $\\theta = 0.5$ and $\\phi = 0.8$."
   ]
  },
  {
   "cell_type": "markdown",
   "metadata": {},
   "source": [
    "**Exercise 6.15**.  The sample ACF for a series and its first difference are given in the following table.  Here $n = 100$.\n",
    "\n",
    "$$\n",
    "\\begin{array}{crrrrrr}\n",
    "\\text{lag} & 1 & 2 & 3 & 4 & 5 & 6 \\\\\n",
    "\\text{ACF for } Y_t        & 0.97  & 0.97 & 0.93  & 0.85 &  0.80 & 0.71 \\\\\n",
    "\\text{ACF for } \\nabla Y_t & -0.42 & 0.18 & -0.02 & 0.07 & -0.10 & -0.09\n",
    "\\end{array}\n",
    "$$\n",
    "\n",
    "Based on this information alone, which ARIMA model(s) would we consider for the series?"
   ]
  },
  {
   "cell_type": "markdown",
   "metadata": {},
   "source": [
    "**Solution**.  The guideline threshold for MA model selection would be $2 / \\sqrt{n} = 2 / 10 = 0.2$; all lags for $Y_t$ presented are over that threshold, but only the first lag for $\\nabla Y_t$ is over that threshold (in absolute value).  Therefore we'd consider a IMA(1, 1) model for this series.  In particular, $\\text{Var}[r_2] \\approx (100)^{-1}(1 + 2(-0.42)^2) = 0.013528$ and so $r_2 / \\sqrt{\\text{Var}[r_2]} \\approx 1.55$, not rejecting MA(1) for the $\\{ \\nabla Y_t\\}$ series."
   ]
  },
  {
   "cell_type": "markdown",
   "metadata": {},
   "source": [
    "**Exercise 6.16**.  For a series of length 64, the sample partial autocorrelations are given as:\n",
    "\n",
    "$$\n",
    "\\begin{array}{crrrrr}\n",
    "\\text{lag}  & 1 & 2 & 3 & 4 & 5 \\\\\n",
    "\\text{PACF} & 0.47 & -0.34 & 0.20 & 0.02 & -0.06\n",
    "\\end{array}\n",
    "$$\n",
    "\n",
    "Which models would you consider in this case?"
   ]
  },
  {
   "cell_type": "markdown",
   "metadata": {},
   "source": [
    "**Solution**.  Using $2 / \\sqrt{n} = 2/8 = 0.25$ as a guideline threshold, the first two lags are over the threshold, and the remaining lags are not, suggesting an AR(2) model."
   ]
  },
  {
   "cell_type": "markdown",
   "metadata": {},
   "source": [
    "**Exercise 6.17**.  Consider an AR(1) series of length 100 with $\\phi = 0.7$.\n",
    "\n",
    "**(a)**  Would you be surprised if $r_1 = 0.6$?\n",
    "\n",
    "**(b)**  Would $r_{10} = -0.15$ be unusual?"
   ]
  },
  {
   "cell_type": "markdown",
   "metadata": {},
   "source": [
    "**Solution**."
   ]
  },
  {
   "cell_type": "markdown",
   "metadata": {},
   "source": [
    "**(a)**  From Exhibit 6.1, the standard deviation $\\sqrt{\\text{Var}[r_1]}$ for $\\phi = 0.7$ is $0.71 / \\sqrt{n} = 0.071$. The theoretical value for $r_1$ is $\\phi^1 = 0.7$.  The sample value is at a distance of $0.7 - 0.6 = 0.1$, under two standard deviations, so the result is not particularly surprising."
   ]
  },
  {
   "cell_type": "markdown",
   "metadata": {},
   "source": [
    "**(b)**  From Exhibit 6.1, the standard deviation $\\sqrt{\\text{Var}[r_{10}]}$ for $\\phi = 0.7$ is $1.7 / \\sqrt{n} = 0.17$.  The theoretical value for $r_{10}$ is $\\phi^{10} \\approx 0.028$.  The sample value is at a distance of $0.028 - 0.15 = -0.122$, under a standard deviation, so the result is not surprising."
   ]
  },
  {
   "cell_type": "markdown",
   "metadata": {},
   "source": [
    "**Exercise 6.18**.  Suppose the $\\{ X_t \\}$ is a stationary AR(1) process with parameter $\\phi$ but that we can only observe $Y_t = X_t + N_t$ where $\\{N_t\\}$ is the white noise measurement error independent of $\\{X_t\\}$.\n",
    "\n",
    "**(a)**  Find the autocorrelation function for the observed process in terms of $\\phi$, $\\sigma_X^2$, and $\\sigma_N^2$.\n",
    "\n",
    "**(b)**  Which ARIMA model might we specify for $\\{Y_t\\}$?"
   ]
  },
  {
   "cell_type": "markdown",
   "metadata": {},
   "source": [
    "**Solution**."
   ]
  },
  {
   "cell_type": "markdown",
   "metadata": {},
   "source": [
    "**(a)**  We have:\n",
    "\n",
    "$$ \\text{Var}[Y_t] = \\text{Var}[X_t] + \\text{Var}[N_t] = \\sigma_X^2 + \\sigma_N^2$$\n",
    "\n",
    "and more generally, for $k > 0$,\n",
    "\n",
    "$$ \\text{Cov}[Y_t, Y_{t - k}] = \\text{Cov}[X_t + N_t, X_{t - k} + N_{t - k}] = \\gamma_k = \\phi^k \\sigma_X^2$$\n",
    "\n",
    "Therefore,\n",
    "\n",
    "$$ \\text{Corr}[Y_t, Y_{t-k}] = \\frac{\\phi^k}{1 + \\sigma_N^2 / \\sigma_X^2} $$"
   ]
  },
  {
   "cell_type": "markdown",
   "metadata": {},
   "source": [
    "**(b)**  Since the autocorrelation for $Y_t$ has shape $\\theta \\phi^k$, where $\\theta = (1 + \\sigma_N^2 / \\sigma_X^2)^{-1}$, we would specify an ARMA(1, 1) model."
   ]
  },
  {
   "cell_type": "markdown",
   "metadata": {},
   "source": [
    "**Exercise 6.19**.  The time plots of two series are shown below.\n",
    "\n",
    "**(a)** For each of the series, describe $r_1$ using the terms strongly positive, moderately positive, near zero, moderately negative, or strongly negative.  Do you need to know the scale of measurement for the series to answer this?\n",
    "\n",
    "**(b)** Repeat part (a) for $r_2$."
   ]
  },
  {
   "attachments": {
    "image.png": {
     "image/png": "[encoded data removed]"
    }
   },
   "cell_type": "markdown",
   "metadata": {},
   "source": [
    "![image.png](attachment:image.png)"
   ]
  },
  {
   "cell_type": "markdown",
   "metadata": {},
   "source": [
    "**Solution**."
   ]
  },
  {
   "cell_type": "markdown",
   "metadata": {},
   "source": [
    "**(a)**  Series A seems to have a strongly positive $r_1$, since neighboring points are almost always in the same side of the mean.  Series B seems to have a strongly negative $r_1$, since neighboring points are almost always in the opposide side of the mean.  The scale of measurement is not relevant for these conclusions."
   ]
  },
  {
   "cell_type": "markdown",
   "metadata": {},
   "source": [
    "**(b)** Series A seems to have a strongly positive $r_2$ since points at a distance 2 are almost always on the same side of the mean.  Series B also seems to have a strongly positive $r_2$ since points at distance 2 are always in the same side of the mean.  The scale of measurement is again not relevant for this."
   ]
  },
  {
   "cell_type": "markdown",
   "metadata": {},
   "source": [
    "**Exercise 6.20**.  Simulate an AR(1) time series with $n = 48$ and with $\\phi = 7$.\n",
    "\n",
    "**(a)**  Calculate the theoretical autocorrelations at lag 1 and lag 5 for this model.\n",
    "\n",
    "**(b)**  Calculate the sample autocorrelations at lag 1 and lag 5 and compare the values with their theoretical values.  Use Equations (6.1.5) and (6.1.6) page 111, to quantify the comparisons.\n",
    "\n",
    "**(c)**  Repeat part (b) with a new simulation.  Describe how the precision of the estimate varies with different samples selected under identical conditions.\n",
    "\n",
    "**(d)**  If software permits, repeat the simulations of the series and calculation of $r_1$ and $r_5$ many times and form the sampling distributions of $r_1$ and $r_5$.  Describe how the precision of the estimate varies with different samples selected under identical conditions.  How well does the large-sample variance given in Equation (6.1.5) on page 111, approximate the variance in your sampling distribution?"
   ]
  }
 ],
 "metadata": {
  "kernelspec": {
   "display_name": "R",
   "language": "R",
   "name": "ir"
  },
  "language_info": {
   "codemirror_mode": "r",
   "file_extension": ".r",
   "mimetype": "text/x-r-source",
   "name": "R",
   "pygments_lexer": "r",
   "version": "4.0.0"
  }
 },
 "nbformat": 4,
 "nbformat_minor": 2
}
