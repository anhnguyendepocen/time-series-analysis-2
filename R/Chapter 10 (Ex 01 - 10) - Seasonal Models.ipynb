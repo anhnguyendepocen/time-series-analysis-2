{
 "cells": [
  {
   "cell_type": "markdown",
   "metadata": {},
   "source": [
    "## 10. Seasonal Models"
   ]
  },
  {
   "cell_type": "markdown",
   "metadata": {},
   "source": [
    "**Exercise 10.1**.  Based on quarterly data, a seasonal model of the form\n",
    "\n",
    "$$ Y_t = Y_{t-4} + e_t - \\theta_1 e_{t-1} - \\theta_2 e_{t-2} $$\n",
    "\n",
    "has been fit to a certain time series.\n",
    "\n",
    "**(a)**  Find the first four $\\psi$-weights of the model.\n",
    "\n",
    "**(b)**  Suppose that $\\theta_1 = 0.5$, $\\theta_2 = -0.25$, and $\\sigma_e = 1$.  Find forecasts for the next four quarters if data for the last four quarters are\n",
    "\n",
    "$$\n",
    "\\begin{array}{ccccc}\n",
    "\\textbf{Quarter} & \\textbf{I} & \\textbf{II} & \\textbf{III} & \\textbf{IV} \\\\\n",
    "\\text{Series}    & 25         & 20          & 25           & 40          \\\\\n",
    "\\text{Residuals} & 2          & 1           & 2            & 3 \n",
    "\\end{array}\n",
    "$$\n",
    "\n",
    "**(c)**  Find 95% prediction intervals for the forecasts in part (b)."
   ]
  },
  {
   "cell_type": "markdown",
   "metadata": {},
   "source": [
    "**Solution**."
   ]
  },
  {
   "cell_type": "markdown",
   "metadata": {},
   "source": [
    "**(a)**  Expanding the recursion, we get\n",
    "\n",
    "$$\n",
    "\\begin{align}\n",
    "Y_t &= Y_{t-4} + e_t - \\theta_1 e_{t-1} - \\theta_2 e_{t-2} \\\\\n",
    "&= (Y_{t-8} + e_{t-4} - \\theta_1 e_{t-5} - \\theta_2 e_{t-6}) + e_t - \\theta_1 e_{t-1} - \\theta_2 e_{t-2} \\\\\n",
    "&= e_t - \\theta_1 e_{t-1} - \\theta_2 e_{t-2} + e_{t-4} - \\theta_1 e_{t-5} - \\theta_2 e_{t-6} + Y_{t-8}\n",
    "\\end{align}\n",
    "$$\n",
    "\n",
    "and so $(\\psi_0, \\psi_1, \\psi_2, \\psi_3, \\psi_4) = (1, -\\theta_1, -\\theta_2, 0, 1)$."
   ]
  },
  {
   "cell_type": "markdown",
   "metadata": {},
   "source": [
    "**(b)**\n",
    "\n",
    "Forecast for quarter V:\n",
    "\n",
    "$$ \\hat{Y}_5 = \\hat{Y}_4(1) = Y_1 - \\theta_1 e_4 - \\theta_2 e_3 = 25 - 0.5 \\cdot 3 - (-0.25) \\cdot 2 = 24 $$\n",
    "\n",
    "Forecast for quarter VI:\n",
    "\n",
    "$$ \\hat{Y}_6 = \\hat{Y}_4(2) = Y_2 - \\theta_2 e_4 = 20 -(-0.25) \\cdot 3 = 20.75 $$\n",
    "\n",
    "Forecast for quarter VII:\n",
    "\n",
    "$$ \\hat{Y}_7 = \\hat{Y}_4(3) = Y_3 = 25 $$\n",
    "\n",
    "Forecast for quarter VIII:\n",
    "\n",
    "$$ \\hat{Y}_8 = \\hat{Y}_4(4) = Y_4 = 40 $$"
   ]
  },
  {
   "cell_type": "markdown",
   "metadata": {},
   "source": [
    "**(c)**  The variance for each forecast is\n",
    "\n",
    "$$ \\text{Var}[\\hat{Y}_t(\\ell)] = \\sigma_e^2 \\sum_{j=0}^{\\ell - 1} \\psi_j^2 $$\n",
    "\n",
    "so the variances are\n",
    "\n",
    "$$\n",
    "\\begin{array}{cll}\n",
    "\\text{Var}[\\hat{Y}_5] & = \\sigma_e^2 \\left( \\psi_0^2 \\right) & = 1 \\\\\n",
    "\\text{Var}[\\hat{Y}_6] & = \\sigma_e^2 \\left( \\psi_0^2 + \\psi_1^2 \\right) & = 1.25 \\\\\n",
    "\\text{Var}[\\hat{Y}_7] & = \\sigma_e^2 \\left( \\psi_0^2 + \\psi_1^2 + \\psi_2^2 \\right) & = 1.3125 \\\\\n",
    "\\text{Var}[\\hat{Y}_8] & = \\sigma_e^2 \\left( \\psi_0^2 + \\psi_1^2 + \\psi_2^2 + \\psi_3^2 \\right) & = 1.3125 \\\\\n",
    "\\end{array}\n",
    "$$\n",
    "\n",
    "and so the prediction forecast intervals with $1 - \\alpha = $ 95% confidence are $\\hat{Y}_j \\pm z_{\\alpha / 2} \\sqrt{\\text{Var}[\\hat{Y}_j]}$, or\n",
    "\n",
    "$$\n",
    "\\begin{array}{cll}\n",
    "\\text{Forecast} & \\text{Interval} & \\\\\n",
    "\\hat{Y}_5 &  24 \\pm \\Phi(0.975) \\sqrt{1}      & 22.04 \\text{ to } 25.96 \\\\\n",
    "\\hat{Y}_6 & 20.75 \\pm \\Phi(0.975) \\sqrt{1.25} & 18.56 \\text{ to } 22.94 \\\\\n",
    "\\hat{Y}_7 & 25 \\pm \\Phi(0.975) \\sqrt{1.3125}  & 22.75 \\text{ to } 27.25 \\\\\n",
    "\\hat{Y}_8 & 40 \\pm \\Phi(0.975) \\sqrt{1.3125}  & 37.75 \\text{ to } 42.25\n",
    "\\end{array}\n",
    "$$"
   ]
  },
  {
   "cell_type": "markdown",
   "metadata": {},
   "source": [
    "**Exercise 10.2**.  An AR model has AR characteristic polynomial\n",
    "\n",
    "$$ (1 - 1.6x + 0.7x^2) (1 - 0.8x^{12}) $$\n",
    "\n",
    "**(a)**  Is the model stationary?\n",
    "\n",
    "**(b)**  Identify the model as a certain seasonal ARIMA model."
   ]
  },
  {
   "cell_type": "markdown",
   "metadata": {},
   "source": [
    "**Solution**."
   ]
  },
  {
   "cell_type": "markdown",
   "metadata": {},
   "source": [
    "**(a)**  Yes.  The seasonal part of the model has $\\Phi = 0.8$, and it is stationary.  The non-seasonal part of the model has $\\phi_1 = 1.6$ and $\\phi_2 = -0.7$, which satisfy the stationary conditions.  Therefore the product of the models is stationary."
   ]
  },
  {
   "cell_type": "markdown",
   "metadata": {},
   "source": [
    "**(b)**  This is a seasonal ARIMA model with $p = 2$, $d = 0$, $q = 0$, $P = 1$, $D = 0$, $Q = 0$, and period $s = 12$, or ARIMA $(2, 0, 0)\\times(1, 0, 0)_{12}$."
   ]
  },
  {
   "cell_type": "markdown",
   "metadata": {},
   "source": [
    "**Exercise 10.3**.  Suppose that $\\{Y_t\\}$ satisfies\n",
    "\n",
    "$$ Y_t = a + bt + S_t + X_t $$\n",
    "\n",
    "where $S_t$ is deterministic and periodic with period $s$ and $\\{X_t\\}$ is a seasonal ARIMA$(p,0,q)\\times(P,1,Q)_s$ series. What is the model for $W_t = Y_t −Y_{t − s}$?"
   ]
  },
  {
   "cell_type": "markdown",
   "metadata": {},
   "source": [
    "**Solution**.  We have:\n",
    "\n",
    "$$ \n",
    "\\begin{align}\n",
    "W_t &= \\nabla_s Y_t\\\\\n",
    "&= (a + bt + S_t + X_t) - (a + b(t - s) + S_{t-s} + X_{t-s}) \\\\\n",
    "&= bs + (S_t - S_{t-s}) + (X_t - X_{t-s}) \\\\\n",
    "&= bs + \\nabla_s X_t\n",
    "\\end{align}\n",
    "$$\n",
    "\n",
    "since $S_t = S_{t-s}$ due to $\\{S_t\\}$ being deterministic and periodic.  Therefore $W_t$ is ARMA$(p, q) \\times (P, Q)_s$ plus a constant term $bs$."
   ]
  },
  {
   "cell_type": "markdown",
   "metadata": {},
   "source": [
    "**Exercise 10.4**.  For the seasonal model $Y_t = \\Phi Y_{t-4} + e_t - \\theta e_{t-1}$ with $|\\Phi| < 1$, find $\\gamma_0$ and $\\rho_k$."
   ]
  },
  {
   "cell_type": "markdown",
   "metadata": {},
   "source": [
    "**Solution**.  We have:\n",
    "\n",
    "$$ \\gamma_0 = \\text{Var}[Y_t] = \\Phi^2 \\text{Var}[Y_{t-4}] + \\text{Var}[e_t] + \\theta^2 \\text{Var}[e_{t-1}] = \\Phi^2 \\gamma_0 + (1 + \\theta^2) \\sigma_e^2 $$\n",
    "\n",
    "and so\n",
    "\n",
    "$$ \\gamma_0 = \\frac{1 + \\theta^2}{1 - \\Phi^2} \\sigma_e^2 $$\n",
    "\n",
    "The first covariance is:\n",
    "\n",
    "$$ \n",
    "\\begin{align}\n",
    "\\gamma_1 &= \\text{Cov}[Y_t, Y_{t-1}] \\\\\n",
    "&= \\text{Cov}[\\Phi Y_{t-4} + e_t - \\theta e_{t-1}, \\Phi Y_{t-5} + e_{t-1} - \\theta e_{t-2} ] \\\\\n",
    "&= \\Phi^2 \\gamma_1 - \\theta \\sigma_e^2\n",
    "\\end{align}\n",
    "$$\n",
    "\n",
    "and so \n",
    "\n",
    "$$ \\gamma_1 = \\frac{-\\theta}{1 - \\Phi^2} \\sigma_e^2 \\quad \\text{and} \\quad \\rho_1 = \\frac{\\gamma_1}{\\gamma_0} = \\frac{-\\theta}{1 + \\theta^2} $$\n",
    "\n",
    "The second covariance is:\n",
    "\n",
    "$$ \n",
    "\\begin{align}\n",
    "\\gamma_2 &= \\text{Cov}[Y_t, Y_{t-2}] \\\\\n",
    "&= \\text{Cov}[\\Phi Y_{t-4} + e_t - \\theta e_{t-1}, \\Phi Y_{t-6} + e_{t-2} - \\theta e_{t-3} ] \\\\\n",
    "&= \\Phi^2 \\gamma_2\n",
    "\\end{align}\n",
    "$$\n",
    "\n",
    "and so\n",
    "\n",
    "$$ \\gamma_2 = 0 \\quad \\text{and} \\quad \\rho_2 = \\frac{\\gamma_2}{\\gamma_0} = 0 $$\n",
    "\n",
    "For iterating, looking at a period of 4,\n",
    "\n",
    "$$\n",
    "\\begin{align}\n",
    "\\gamma_{x+4} &= \\text{Cov}[Y_t, Y_{t-x-4}] \\\\\n",
    "&= \\text{Cov}[\\Phi Y_{t-4} + e_t - \\theta e_{t-1},  Y_{t-x-4}] \\\\\n",
    "&= \\Phi \\text{Cov}[Y_{t-4}, Y_{t-x-4}] \\\\\n",
    "&= \\Phi \\gamma_x\n",
    "\\end{align}\n",
    "$$\n",
    "\n",
    "which gives us the covariance of period 3,\n",
    "\n",
    "$$ \\gamma_3 = \\Phi \\gamma_{-1} = \\Phi \\gamma_1 = \\Phi \\left( \\frac{-\\theta}{1 - \\Phi^2} \\right) \\sigma_e^2\n",
    "\\quad \\text{and} \\quad\n",
    "\\rho_3 = \\frac{\\gamma_3}{\\gamma_0} = \\Phi \\left(\\frac{-\\theta}{1 + \\theta^2}\\right)\n",
    "$$\n",
    "\n",
    "and so the autocovariance is\n",
    "\n",
    "$$ \\gamma_k = \\begin{cases}\n",
    "\\Phi^a \\left( \\frac{1 + \\theta^2}{1 - \\Phi^2}  \\right) \\sigma_e^2 &\\text{for } k = 4a , a \\geq 0\\\\\n",
    "\\Phi^a \\left( \\frac{-\\theta}{1 - \\Phi^2} \\right) \\sigma_e^2  &\\text{for } k = 4a + 1, a \\geq 0 \\\\\n",
    "0 & \\text{for } k = 4a + 2, a \\geq 0 \\\\\n",
    "\\Phi^{a+1} \\left( \\frac{-\\theta}{1 - \\Phi^2} \\right) \\sigma_e^2  &\\text{for } k = 4a + 3, a \\geq 0\n",
    "\\end{cases} $$\n",
    "\n",
    "and the autocorrelation is\n",
    "\n",
    "$$ \\rho_k = \\begin{cases}\n",
    "\\Phi^a &\\text{for } k = 4a , a \\geq 0\\\\\n",
    "\\Phi^a \\left( \\frac{-\\theta}{1 + \\theta^2} \\right)  &\\text{for } k = 4a + 1, a \\geq 0 \\\\\n",
    "0 & \\text{for } k = 4a + 2, a \\geq 0 \\\\\n",
    "\\Phi^{a+1} \\left( \\frac{-\\theta}{1 + \\theta^2} \\right)  &\\text{for } k = 4a + 3, a \\geq 0\n",
    "\\end{cases} $$"
   ]
  },
  {
   "cell_type": "markdown",
   "metadata": {},
   "source": [
    "**Exercise 10.5**.  Identify the following as certain multiplicative seasonal ARIMA models:\n",
    "\n",
    "**(a)** $Y_t = 0.5 Y_{t-1} + Y_{t-4} - 0.5 Y_{t-5} + e_t - 0.3 e_{t-1} $\n",
    "\n",
    "**(b)** $Y_t = Y_{t-1} + Y_{t-12} - Y_{t-13} + e_t - 0.5 e_{t-1} - 0.5 e_{t-12} + 0.25 e_{t-13} $"
   ]
  },
  {
   "cell_type": "markdown",
   "metadata": {},
   "source": [
    "**Solution**."
   ]
  },
  {
   "cell_type": "markdown",
   "metadata": {},
   "source": [
    "**(a)**  The AR characteristic polynomial is\n",
    "\n",
    "$$ 1 - 0.5x - x^4 + 0.5x^5 = (1 - 0.5x)(1 - x^4) $$\n",
    "\n",
    "while the MA characteristic polynomial is\n",
    "\n",
    "$$ 1 - 0.3 x $$\n",
    "\n",
    "and so this is an ARIMA$(1,0,1)\\times(0,1,0)_4$ model, with AR coefficient $\\phi_1 = 0.5$ and MA coefficient $\\theta_1 = 0.3$."
   ]
  },
  {
   "cell_type": "markdown",
   "metadata": {},
   "source": [
    "**(b)**  The AR characteristic polynomial is\n",
    "\n",
    "$$ 1 - x - x^{12} + x^{13} = (1 - x)(1 - x^{12}) $$\n",
    "\n",
    "while the MA characteristic polynomial is\n",
    "\n",
    "$$ 1 - 0.5x - 0.5x^{12} - 0.25x^{13} = (1 - 0.5x)(1 - 0.5x^{12}) $$\n",
    "\n",
    "so this is an ARIMA$(0, 1, 1)\\times(0, 1, 1)_{12}$ model, with MA coefficients $\\theta_1 = 0.5$ and $\\Theta_1 = 0.5$."
   ]
  },
  {
   "cell_type": "markdown",
   "metadata": {},
   "source": [
    "**Exercise 10.6**.  Verify Equations (10.2.11) on page 232."
   ]
  },
  {
   "cell_type": "markdown",
   "metadata": {},
   "source": [
    "**Solution**.  Equations (10.2.11) state that, for a seasonal ARMA model with $P = q = 1$ and $p = Q = 0$ with $s = 12$, that is,\n",
    "\n",
    "$$ Y_t = \\Phi Y_{t-12} + e_t - \\theta e_{t-1} \\tag{10.2.8} $$\n",
    "\n",
    "we have\n",
    "\n",
    "$$ \n",
    "\\begin{array}{rcl}\n",
    "\\gamma_0 &=& \\left[ \\frac{1 + \\theta^2}{1 - \\Phi^2} \\right] \\sigma_e^2 \\\\\n",
    "\\rho_{12k} &=& \\Phi^k \\quad \\text{for } k \\geq 1 \\\\\n",
    "\\rho_{12k-1} = \\rho_{12k+1} &=& -\\frac{\\theta}{1 + \\theta^2} \\Phi^k \\quad \\text{for } k \\geq 0\n",
    "\\end{array}\n",
    "$$\n",
    "\n",
    "The deduction is analogous to the solution of Exercise 10.4, replacing the period with 12:\n",
    "\n",
    "$$ \\gamma_0 = \\text{Var}[Y_t] = \\Phi^2 \\text{Var}[Y_{t-12}] + \\text{Var}[e_t] + \\theta^2 \\text{Var}[e_{t-1}] = \\Phi^2 \\gamma_0 + (1 + \\theta^2) \\sigma_e^2 $$\n",
    "\n",
    "and so\n",
    "\n",
    "$$ \\gamma_0 = \\frac{1 + \\theta^2}{1 - \\Phi^2} \\sigma_e^2 $$\n",
    "\n",
    "The first covariance is:\n",
    "\n",
    "$$ \n",
    "\\begin{align}\n",
    "\\gamma_1 &= \\text{Cov}[Y_t, Y_{t-1}] \\\\\n",
    "&= \\text{Cov}[\\Phi Y_{t-12} + e_t - \\theta e_{t-1}, \\Phi Y_{t-13} + e_{t-1} - \\theta e_{t-2} ] \\\\\n",
    "&= \\Phi^2 \\gamma_1 - \\theta \\sigma_e^2\n",
    "\\end{align}\n",
    "$$\n",
    "\n",
    "and so \n",
    "\n",
    "$$ \\gamma_1 = \\frac{-\\theta}{1 - \\Phi^2} \\sigma_e^2 \\quad \\text{and} \\quad \\rho_1 = \\frac{\\gamma_1}{\\gamma_0} = \\frac{-\\theta}{1 + \\theta^2} $$\n",
    "\n",
    "The autocovariances with lags $\\ell$ between 2 and 10 is:\n",
    "\n",
    "$$ \n",
    "\\begin{align}\n",
    "\\gamma_\\ell &= \\text{Cov}[Y_t, Y_{t-\\ell}] \\\\\n",
    "&= \\text{Cov}[\\Phi Y_{t-12} + e_t - \\theta e_{t-1}, \\Phi Y_{t-\\ell-12} + e_{t-2} - \\theta e_{t-3} ] \\\\\n",
    "&= \\Phi^2 \\gamma_\\ell\n",
    "\\end{align}\n",
    "$$\n",
    "\n",
    "and so \n",
    "\n",
    "$$ \\gamma_\\ell = 0 \\quad \\text{and} \\quad \\rho_\\ell = \\frac{\\gamma_\\ell}{\\gamma_0} = 0 $$\n",
    "\n",
    "For period 12, we have\n",
    "\n",
    "$$\n",
    "\\begin{align}\n",
    "\\gamma_{x+12} &= \\text{Cov}[Y_t, Y_{t-x-12}] \\\\\n",
    "&= \\text{Cov}[\\Phi Y_{t-12} + e_t - \\theta e_{t-1},  Y_{t-x-12}] \\\\\n",
    "&= \\Phi \\text{Cov}[Y_{t-12}, Y_{t-x-12}] \\\\\n",
    "&= \\Phi \\gamma_x\n",
    "\\end{align}\n",
    "$$\n",
    "\n",
    "and so $\\gamma_{x+12} = \\Phi \\gamma_x$ and $\\rho_{x+12} = \\Phi \\rho_x$.\n",
    "\n",
    "Finally, for period 11,\n",
    "\n",
    "$$ \\gamma_{11} = \\Phi \\gamma_{-1} = \\Phi \\gamma_1 = \\Phi \\left( \\frac{-\\theta}{1 - \\Phi^2} \\right) \\sigma_e^2\n",
    "\\quad \\text{and} \\quad\n",
    "\\rho_{11} = \\frac{\\gamma_{11}}{\\gamma_0} = \\Phi \\left(\\frac{-\\theta}{1 + \\theta^2}\\right)\n",
    "$$\n",
    "\n",
    "The results follow."
   ]
  },
  {
   "cell_type": "markdown",
   "metadata": {},
   "source": [
    "**Exercise 10.7**.  Suppose that the process $\\{Y_t\\}$ develops according to $Y_t = Y_{t-4} + e_t$ with $Y_t = e_t$ for $t = 1, 2, 3, 4$.\n",
    "\n",
    "**(a)**  Find the variance function for $\\{Y_t\\}$.\n",
    "\n",
    "**(b)**  Find the autocorrelation function for $\\{Y_t\\}$.\n",
    "\n",
    "**(c)**  Identify the model for $\\{Y_t\\}$ as a certain seasonal ARIMA model."
   ]
  },
  {
   "cell_type": "markdown",
   "metadata": {},
   "source": [
    "**Solution**."
   ]
  },
  {
   "cell_type": "markdown",
   "metadata": {},
   "source": [
    "**(a)**  Expanding the recursion,\n",
    "\n",
    "$$ Y_t = e_t + e_{t-4} + \\cdots = \\sum_{j=0}^{4\\lfloor t/4\\rfloor} e_{t-j} $$\n",
    "\n",
    "and so\n",
    "\n",
    "$$ \\text{Var}[Y_t] = \\sum_{j=0}^{4\\lfloor t/4\\rfloor} \\text{Var}[e_{t-j}] = (\\lfloor t/4\\rfloor + 1) \\sigma_e^2 $$"
   ]
  },
  {
   "cell_type": "markdown",
   "metadata": {},
   "source": [
    "**(b)** The autocovariance is:\n",
    "\n",
    "$$ \\text{Cov}[Y_t, Y_s] = \\text{Cov}[e_t + e_{t-4} + e_{t-8} + \\cdots, e_s + e_{s-4} + e_{s-8} + \\cdots ] $$\n",
    "\n",
    "If $t$ and $s$ have different values mod 4, then no error terms appear on both sides, and the autocovariance is zero.  If we assume, without loss of generality, $t \\geq s$, and we have $t = 4k + s$, then the covariance has in common all error terms from $Y_s$, and its value is just $\\text{Var}[Y_s]$.  Therefore:\n",
    "\n",
    "$$ \\text{Cov}[Y_t, Y_s] = \\begin{cases}\n",
    "(\\lfloor \\min(t, s) / 4\\rfloor + 1) \\sigma_e^2 &\\text{for } t = s \\text{ mod } 4 \\\\\n",
    "0 &\\text{for } t \\neq s \\text{ mod } 4\n",
    "\\end{cases} $$\n",
    "\n",
    "and the autocorrelation is\n",
    "\n",
    "$$ \\text{Corr}[Y_t, Y_s] = \\frac{\\text{Cov}[Y_t, Y_s]}{\\sqrt{\\text{Var}[Y_t] \\text{Var}[Y_s]}} $$\n",
    "\n",
    "therefore\n",
    "\n",
    "$$ \\text{Corr}[Y_t, Y_s] = \\begin{cases}\n",
    "\\sqrt{\\frac{(4\\lfloor \\min(t, s) / 4\\rfloor + 1)}{(4\\lfloor \\max(t, s) / 4\\rfloor + 1)}} &\\text{for } t = s \\text{ mod } 4 \\\\\n",
    "0 &\\text{for } t \\neq s \\text{ mod } 4\n",
    "\\end{cases}$$"
   ]
  },
  {
   "cell_type": "markdown",
   "metadata": {},
   "source": [
    "**(c)**  The AR characteristic equation for the process is $1 - x^4$, while the MA characteristic equation is $1$.  This makes the process ARIMA$(0, 0, 0)\\times(0, 1, 0)_4$ -- the period 4 difference is white noise."
   ]
  },
  {
   "cell_type": "markdown",
   "metadata": {},
   "source": [
    "**Exercise 10.8**.  Consider the Alert, Canada, monthly carbon dioxide time series shown in Exhibit 10.1 on page 227.  The data are in the file named `co2`.\n",
    "\n",
    "**(a)**  Fit a deterministic seasonal means plus linear time trend model to these data.  Are any of the regression coefficients \"statistically significant\"?\n",
    "\n",
    "**(b)**  What is the multiple R-squared for this model?\n",
    "\n",
    "**(c)**  Now calculate the sample autocorrelation of the residuals from this model.  Interpret the results."
   ]
  },
  {
   "cell_type": "markdown",
   "metadata": {},
   "source": [
    "**Solution**."
   ]
  },
  {
   "cell_type": "code",
   "execution_count": 1,
   "metadata": {},
   "outputs": [
    {
     "name": "stderr",
     "output_type": "stream",
     "text": [
      "Loading required package: ggplot2\n",
      "\n",
      "Loading required package: latex2exp\n",
      "\n",
      "Loading required package: zoo\n",
      "\n",
      "\n",
      "Attaching package: 'zoo'\n",
      "\n",
      "\n",
      "The following objects are masked from 'package:base':\n",
      "\n",
      "    as.Date, as.Date.numeric\n",
      "\n",
      "\n",
      "Loading required package: data.table\n",
      "\n"
     ]
    }
   ],
   "source": [
    "require(ggplot2)\n",
    "require(latex2exp)\n",
    "require(zoo)\n",
    "require(data.table)"
   ]
  },
  {
   "cell_type": "code",
   "execution_count": 2,
   "metadata": {},
   "outputs": [],
   "source": [
    "data <- read.table(\"../data/co2.dat\", header=TRUE)\n",
    "data['date'] = time(zooreg(1:nrow(data), as.yearmon(\"1994-01\"), freq = 12))\n",
    "data['t'] = as.numeric(format(data[['date']], \"%Y\")) + as.numeric(format(data[['date']], \"%m\"))/12\n",
    "data['month'] = as.factor(format(data[['date']], \"%m\"))"
   ]
  },
  {
   "cell_type": "markdown",
   "metadata": {},
   "source": [
    "**(a)**"
   ]
  },
  {
   "cell_type": "code",
   "execution_count": 3,
   "metadata": {},
   "outputs": [
    {
     "data": {
      "text/plain": [
       "\n",
       "Call:\n",
       "lm(formula = co2 ~ t + month, data = data)\n",
       "\n",
       "Residuals:\n",
       "     Min       1Q   Median       3Q      Max \n",
       "-1.73874 -0.59689 -0.06947  0.54086  2.15539 \n",
       "\n",
       "Coefficients:\n",
       "              Estimate Std. Error t value Pr(>|t|)    \n",
       "(Intercept) -3290.6939    44.1809 -74.482  < 2e-16 ***\n",
       "t               1.8321     0.0221  82.899  < 2e-16 ***\n",
       "month02         0.6682     0.3424   1.952 0.053320 .  \n",
       "month03         0.9637     0.3424   2.815 0.005715 ** \n",
       "month04         1.2311     0.3424   3.595 0.000473 ***\n",
       "month05         1.5275     0.3424   4.460 1.87e-05 ***\n",
       "month06        -0.6761     0.3425  -1.974 0.050696 .  \n",
       "month07        -7.2851     0.3426 -21.267  < 2e-16 ***\n",
       "month08       -13.4414     0.3426 -39.232  < 2e-16 ***\n",
       "month09       -12.8205     0.3427 -37.411  < 2e-16 ***\n",
       "month10        -8.2604     0.3428 -24.099  < 2e-16 ***\n",
       "month11        -3.9277     0.3429 -11.455  < 2e-16 ***\n",
       "month12        -1.3367     0.3430  -3.897 0.000161 ***\n",
       "---\n",
       "Signif. codes:  0 '***' 0.001 '**' 0.01 '*' 0.05 '.' 0.1 ' ' 1\n",
       "\n",
       "Residual standard error: 0.8029 on 119 degrees of freedom\n",
       "Multiple R-squared:  0.9902,\tAdjusted R-squared:  0.9892 \n",
       "F-statistic: 997.7 on 12 and 119 DF,  p-value: < 2.2e-16\n"
      ]
     },
     "metadata": {},
     "output_type": "display_data"
    }
   ],
   "source": [
    "model = lm(co2 ~ t + month, data=data)\n",
    "summary(model)"
   ]
  },
  {
   "cell_type": "markdown",
   "metadata": {},
   "source": [
    "Yes -- all coefficients, except the ones for February and June, are statistically significant at $p = 0.05$."
   ]
  },
  {
   "cell_type": "markdown",
   "metadata": {},
   "source": [
    "**(b)**  The multiple R-square for this model is 0.9902."
   ]
  },
  {
   "cell_type": "code",
   "execution_count": 4,
   "metadata": {},
   "outputs": [
    {
     "data": {
      "text/html": [
       "0.9902"
      ],
      "text/latex": [
       "0.9902"
      ],
      "text/markdown": [
       "0.9902"
      ],
      "text/plain": [
       "[1] 0.9902"
      ]
     },
     "metadata": {},
     "output_type": "display_data"
    }
   ],
   "source": [
    "round(summary(model)$r.squared, 4)"
   ]
  },
  {
   "cell_type": "markdown",
   "metadata": {},
   "source": [
    "**(c)**"
   ]
  },
  {
   "cell_type": "code",
   "execution_count": 5,
   "metadata": {},
   "outputs": [
    {
     "data": {
      "image/png": "[encoded data removed]",
      "text/plain": [
       "Plot with title \"Series  model$resid\""
      ]
     },
     "metadata": {
      "image/png": {
       "height": 240,
       "width": 720
      }
     },
     "output_type": "display_data"
    }
   ],
   "source": [
    "options(repr.plot.width=12, repr.plot.height=4)\n",
    "acf(model$resid, plot=T)"
   ]
  },
  {
   "cell_type": "markdown",
   "metadata": {},
   "source": [
    "The autocorrelation was not captured by this model -- plenty of values are still statistically significant."
   ]
  },
  {
   "cell_type": "markdown",
   "metadata": {},
   "source": [
    "**Exercise 10.9**.  The monthly airline passenger time series, first investigated in Box and Jenkins (1976), is considered a classic time series.  The data are in the file named `airpass`.\n",
    "\n",
    "**(a)**  Display the time series plots of both the original series and the logarithms of the series.  Argue that taking logs is an appropriate transformation.\n",
    "\n",
    "**(b)**  Display and interpret the time series plots of the first difference of the logged series.\n",
    "\n",
    "**(c)**  Display and interpret the time series plot of the seasonal difference of the first difference of the logged series.\n",
    "\n",
    "**(d)**  Calculate and interpret the sample ACF of the seasonal difference of the first difference of the logged series.\n",
    "\n",
    "**(e)**  Fit the \"airline model\" (ARIMA$(0,1,1)\\times(0,1,1)_{12}$ ) to the logged series.\n",
    "\n",
    "**(f)**  Investigate diagnostics for this model, including autocorrelation and normality of the residuals.\n",
    "\n",
    "**(g)**  Produce forecasts for this series with a lead time of two years. Be sure to include forecast limits."
   ]
  },
  {
   "cell_type": "markdown",
   "metadata": {},
   "source": [
    "**Solution**."
   ]
  },
  {
   "cell_type": "code",
   "execution_count": 6,
   "metadata": {},
   "outputs": [],
   "source": [
    "Y <- read.csv('../data/airpass.dat')[['airpass']]"
   ]
  },
  {
   "cell_type": "markdown",
   "metadata": {},
   "source": [
    "**(a)**"
   ]
  },
  {
   "cell_type": "code",
   "execution_count": 7,
   "metadata": {},
   "outputs": [
    {
     "data": {
      "image/png": "[encoded data removed]",
      "text/plain": [
       "plot without title"
      ]
     },
     "metadata": {
      "image/png": {
       "height": 240,
       "width": 720
      }
     },
     "output_type": "display_data"
    },
    {
     "data": {
      "image/png": "[encoded data removed]",
      "text/plain": [
       "plot without title"
      ]
     },
     "metadata": {
      "image/png": {
       "height": 240,
       "width": 720
      }
     },
     "output_type": "display_data"
    }
   ],
   "source": [
    "options(repr.plot.width=12, repr.plot.height=4)\n",
    "\n",
    "n = length(Y)\n",
    "\n",
    "ggplot() + \n",
    "  geom_line(aes(x=1:n, y=Y), color='blue') +\n",
    "  geom_point(aes(x=1:n, y=Y), color='blue') +\n",
    "  xlab('') + ylab(TeX('$Y$')) +\n",
    "  theme_bw() + theme(text = element_text(size=16))\n",
    "\n",
    "ggplot() + \n",
    "  geom_line(aes(x=1:n, y=log(Y)), color='blue') +\n",
    "  geom_point(aes(x=1:n, y=log(Y)), color='blue') +\n",
    "  xlab('') + ylab(TeX('$\\\\log Y$')) +\n",
    "  theme_bw() + theme(text = element_text(size=16))"
   ]
  },
  {
   "cell_type": "markdown",
   "metadata": {},
   "source": [
    "Taking the logs makes the changes within each seasonal cycle have closer sizes, suggesting it will be an appropriate transformation."
   ]
  },
  {
   "cell_type": "markdown",
   "metadata": {},
   "source": [
    "**(b)**"
   ]
  },
  {
   "cell_type": "code",
   "execution_count": 8,
   "metadata": {},
   "outputs": [
    {
     "data": {
      "image/png": "[encoded data removed]",
      "text/plain": [
       "plot without title"
      ]
     },
     "metadata": {
      "image/png": {
       "height": 240,
       "width": 720
      }
     },
     "output_type": "display_data"
    }
   ],
   "source": [
    "Z = diff(log(Y))\n",
    "\n",
    "ggplot() + \n",
    "  geom_line(aes(x=1:(n-1), y=Z), color='blue') +\n",
    "  geom_point(aes(x=1:(n-1), y=Z), color='blue') +\n",
    "  xlab('') + ylab(TeX('$\\\\nabla \\\\; \\\\log Y$')) +\n",
    "  theme_bw() + theme(text = element_text(size=16))"
   ]
  },
  {
   "cell_type": "markdown",
   "metadata": {},
   "source": [
    "The apparently linear growth trend has been removed from the series."
   ]
  },
  {
   "cell_type": "markdown",
   "metadata": {},
   "source": [
    "**(c)**"
   ]
  },
  {
   "cell_type": "code",
   "execution_count": 9,
   "metadata": {},
   "outputs": [
    {
     "data": {
      "image/png": "[encoded data removed]",
      "text/plain": [
       "plot without title"
      ]
     },
     "metadata": {
      "image/png": {
       "height": 240,
       "width": 720
      }
     },
     "output_type": "display_data"
    }
   ],
   "source": [
    "W = diff(Z, lag=12)\n",
    "\n",
    "ggplot() + \n",
    "  geom_line(aes(x=1:length(W), y=W), color='blue') +\n",
    "  geom_point(aes(x=1:length(W), y=W), color='blue') +\n",
    "  xlab('') + ylab(TeX('$\\\\nabla_{12} \\\\; \\\\nabla \\\\; \\\\log Y$')) +\n",
    "  theme_bw() + theme(text = element_text(size=16))"
   ]
  },
  {
   "cell_type": "markdown",
   "metadata": {},
   "source": [
    "Seasonality is less obvious now."
   ]
  },
  {
   "cell_type": "markdown",
   "metadata": {},
   "source": [
    "**(d)**"
   ]
  },
  {
   "cell_type": "code",
   "execution_count": 10,
   "metadata": {},
   "outputs": [
    {
     "data": {
      "image/png": "[encoded data removed]",
      "text/plain": [
       "Plot with title \"Series  W\""
      ]
     },
     "metadata": {
      "image/png": {
       "height": 240,
       "width": 720
      }
     },
     "output_type": "display_data"
    }
   ],
   "source": [
    "options(repr.plot.width=12, repr.plot.height=4)\n",
    "acf(W, plot=T)"
   ]
  },
  {
   "cell_type": "markdown",
   "metadata": {},
   "source": [
    "The autocorrelation at lag 12 suggests we should investigate a seasonal ARIMA with season 12."
   ]
  },
  {
   "cell_type": "markdown",
   "metadata": {},
   "source": [
    "**(e)**"
   ]
  },
  {
   "cell_type": "code",
   "execution_count": 11,
   "metadata": {
    "scrolled": true
   },
   "outputs": [
    {
     "data": {
      "text/plain": [
       "\n",
       "Call:\n",
       "arima(x = log(Y), order = c(0, 1, 1), seasonal = list(order = c(0, 1, 1), period = 12))\n",
       "\n",
       "Coefficients:\n",
       "          ma1     sma1\n",
       "      -0.4018  -0.5569\n",
       "s.e.   0.0896   0.0731\n",
       "\n",
       "sigma^2 estimated as 0.001348:  log likelihood = 244.7,  aic = -483.4"
      ]
     },
     "metadata": {},
     "output_type": "display_data"
    }
   ],
   "source": [
    "model = arima(log(Y), order=c(0,1,1), seasonal=list(order=c(0,1,1), period=12))\n",
    "model"
   ]
  },
  {
   "cell_type": "markdown",
   "metadata": {},
   "source": [
    "**(f)**"
   ]
  },
  {
   "cell_type": "code",
   "execution_count": 12,
   "metadata": {},
   "outputs": [
    {
     "data": {
      "image/png": "[encoded data removed]",
      "text/plain": [
       "Plot with title \"p values for Ljung-Box statistic\""
      ]
     },
     "metadata": {
      "image/png": {
       "height": 720,
       "width": 720
      }
     },
     "output_type": "display_data"
    }
   ],
   "source": [
    "options(repr.plot.width=12, repr.plot.height=12)\n",
    "tsdiag(model)"
   ]
  },
  {
   "cell_type": "markdown",
   "metadata": {},
   "source": [
    "**(g)**"
   ]
  },
  {
   "cell_type": "code",
   "execution_count": 13,
   "metadata": {
    "scrolled": true
   },
   "outputs": [
    {
     "data": {
      "image/png": "[encoded data removed]",
      "text/plain": [
       "plot without title"
      ]
     },
     "metadata": {
      "image/png": {
       "height": 240,
       "width": 720
      }
     },
     "output_type": "display_data"
    }
   ],
   "source": [
    "pred = predict(model, n.ahead=24, se.fit=TRUE)\n",
    "Y_pred = pred$pred\n",
    "se = pred$se\n",
    "z = qnorm(0.975)\n",
    "\n",
    "options(repr.plot.width=12, repr.plot.height=4)\n",
    "\n",
    "m = length(Y_pred)\n",
    "n = length(Y)\n",
    "\n",
    "# Prepend last element so line is continuous\n",
    "plot_data = c(log(tail(Y, n=1)), Y_pred)\n",
    "\n",
    "ggplot() + \n",
    "  geom_line(aes(x=n:(n+m), y=exp(plot_data)), color='orange') +\n",
    "  geom_point(aes(x=n:(n+m), y=exp(plot_data)), color='orange') +\n",
    "  geom_line(aes(x=1:n, y=Y), color='blue') +\n",
    "  geom_point(aes(x=1:n, y=Y), color='blue') +\n",
    "  geom_ribbon(aes(\n",
    "      x=(n+1):(n+m), \n",
    "      ymin=exp(Y_pred - z * se), \n",
    "      ymax=exp(Y_pred + z * se)\n",
    "  ), fill='orange', alpha=0.2) + \n",
    "  xlab('') + ylab('') +\n",
    "  theme_bw() + theme(text = element_text(size=16))"
   ]
  },
  {
   "cell_type": "markdown",
   "metadata": {},
   "source": [
    "**Exercise 10.10**.  Exhibit 5.8 on page 99 displayed the monthly electricity generated in the United States.  We argued there that taking logarithms was appropriate for modeling.  Exhibit 5.10 on page 100 showed the time series plot of the first differences for this series.  The filename is `electricity`.\n",
    "\n",
    "**(a)**  Calculate the sample ACF of the first difference of the logged series.  Is the seasonality visible in this display?\n",
    "\n",
    "**(b)**  Plot the time series of seasonal difference and first difference of the logged series.  Does a stationary model seem appropriate now?\n",
    "\n",
    "**(c)**  Display the sample ACF of the series after a seasonal difference and a first difference have been taken of the logged series.  What model(s) might you consider for the electricity series?"
   ]
  },
  {
   "cell_type": "markdown",
   "metadata": {},
   "source": [
    "**Solution**."
   ]
  },
  {
   "cell_type": "code",
   "execution_count": 14,
   "metadata": {},
   "outputs": [],
   "source": [
    "Y <- read.csv('../data/electricity.dat')[['electricity']]"
   ]
  },
  {
   "cell_type": "markdown",
   "metadata": {},
   "source": [
    "**(a)**"
   ]
  },
  {
   "cell_type": "code",
   "execution_count": 15,
   "metadata": {},
   "outputs": [
    {
     "data": {
      "image/png": "[encoded data removed]",
      "text/plain": [
       "Plot with title \"Series  diff(log(Y))\""
      ]
     },
     "metadata": {
      "image/png": {
       "height": 480,
       "width": 720
      }
     },
     "output_type": "display_data"
    }
   ],
   "source": [
    "options(repr.plot.width=12, repr.plot.height=8)\n",
    "acf(diff(log(Y)), plot=T, lag.max=40)"
   ]
  },
  {
   "cell_type": "markdown",
   "metadata": {},
   "source": [
    "Yes -- very visible lags at periods 12, 24, and 36 suggest seasonality with period 12."
   ]
  },
  {
   "cell_type": "markdown",
   "metadata": {},
   "source": [
    "**(b)**"
   ]
  },
  {
   "cell_type": "code",
   "execution_count": 16,
   "metadata": {},
   "outputs": [
    {
     "data": {
      "image/png": "[encoded data removed]",
      "text/plain": [
       "plot without title"
      ]
     },
     "metadata": {
      "image/png": {
       "height": 480,
       "width": 720
      }
     },
     "output_type": "display_data"
    }
   ],
   "source": [
    "Z = diff(log(Y))\n",
    "W = diff(Z, lag=12)\n",
    "\n",
    "ggplot() + \n",
    "  geom_line(aes(x=1:length(W), y=W), color='blue') +\n",
    "  geom_point(aes(x=1:length(W), y=W), color='blue') +\n",
    "  xlab('') + ylab(TeX('$\\\\nabla_{12} \\\\; \\\\nabla \\\\; \\\\log Y$')) +\n",
    "  theme_bw() + theme(text = element_text(size=16))"
   ]
  },
  {
   "cell_type": "markdown",
   "metadata": {},
   "source": [
    "Stationarity appears applicable."
   ]
  },
  {
   "cell_type": "markdown",
   "metadata": {},
   "source": [
    "**(c)**"
   ]
  },
  {
   "cell_type": "code",
   "execution_count": 17,
   "metadata": {},
   "outputs": [
    {
     "data": {
      "image/png": "[encoded data removed]",
      "text/plain": [
       "Plot with title \"Series  W\""
      ]
     },
     "metadata": {
      "image/png": {
       "height": 480,
       "width": 720
      }
     },
     "output_type": "display_data"
    }
   ],
   "source": [
    "options(repr.plot.width=12, repr.plot.height=8)\n",
    "acf(W, plot=T, lag.max=40)"
   ]
  },
  {
   "cell_type": "markdown",
   "metadata": {},
   "source": [
    "The autocorrelations at 24 and 36 are now gone.  We could consider the \"airline\" model, ARIMA$(0, 1, 1) \\times (0, 1, 1)_{12}$."
   ]
  }
 ],
 "metadata": {
  "kernelspec": {
   "display_name": "R",
   "language": "R",
   "name": "ir"
  },
  "language_info": {
   "codemirror_mode": "r",
   "file_extension": ".r",
   "mimetype": "text/x-r-source",
   "name": "R",
   "pygments_lexer": "r",
   "version": "4.0.0"
  }
 },
 "nbformat": 4,
 "nbformat_minor": 2
}
