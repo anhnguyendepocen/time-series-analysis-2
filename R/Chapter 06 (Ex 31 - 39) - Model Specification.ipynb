{
 "cells": [
  {
   "cell_type": "markdown",
   "metadata": {},
   "source": [
    "**Exercise 6.31**. Simulate a nonstationary time series with $n = 60$ according to the model ARIMA(0,1,1) with $\\theta = 0.8$. \n",
    "\n",
    "**(a)** Perform the (augmented) Dickey-Fuller test on the series with $k = 0$ in Equation (6.4.1) on page 128. (With $k = 0$, this is the Dickey-Fuller test and is not augmented.) Comment on the results. \n",
    "\n",
    "**(b)** Perform the augmented Dickey-Fuller test on the series with $k$ chosen by the software—that is, the “best” value for $k$. Comment on the results. \n",
    "\n",
    "**(c)** Repeat parts (a) and (b) but use the differences of the simulated series. Comment on the results. (Here, of course, you should reject the unit root hypothesis.) "
   ]
  },
  {
   "cell_type": "markdown",
   "metadata": {},
   "source": [
    "**Solution**.\n",
    "\n",
    "The conclusions for this exercise are more intuitive if we instead use $\\theta = -0.8$.  We will solve with the original value of $\\theta = 0.8$, obtain insatisfactory conclusions, and then repeat the exercise with $\\theta = -0.8$."
   ]
  },
  {
   "cell_type": "code",
   "execution_count": 1,
   "metadata": {},
   "outputs": [],
   "source": [
    "set.seed(0)\n",
    "Y = arima.sim(model=list(ma=-0.8, order=c(0, 1, 1)), n=60)"
   ]
  },
  {
   "cell_type": "markdown",
   "metadata": {},
   "source": [
    "Observe the series is not obviously nonstationary by visual inspection:"
   ]
  },
  {
   "cell_type": "code",
   "execution_count": 2,
   "metadata": {},
   "outputs": [
    {
     "name": "stderr",
     "output_type": "stream",
     "text": [
      "Loading required package: ggplot2\n",
      "\n",
      "Loading required package: latex2exp\n",
      "\n"
     ]
    }
   ],
   "source": [
    "require(ggplot2)\n",
    "require(latex2exp)"
   ]
  },
  {
   "cell_type": "code",
   "execution_count": 3,
   "metadata": {},
   "outputs": [
    {
     "data": {
      "image/png": "[encoded data removed]",
      "text/plain": [
       "plot without title"
      ]
     },
     "metadata": {
      "image/png": {
       "height": 240,
       "width": 720
      }
     },
     "output_type": "display_data"
    }
   ],
   "source": [
    "options(repr.plot.width=12, repr.plot.height=4)\n",
    "\n",
    "ggplot() +\n",
    "    geom_line(aes(x=1:length(Y), y=c(Y)), color='blue') +\n",
    "    xlab('') + ylab('') +\n",
    "    theme_bw() + theme(text = element_text(size=16), plot.title = element_text(hjust = 0.5))"
   ]
  },
  {
   "cell_type": "markdown",
   "metadata": {},
   "source": [
    "**(a)**"
   ]
  },
  {
   "cell_type": "code",
   "execution_count": 4,
   "metadata": {},
   "outputs": [
    {
     "name": "stderr",
     "output_type": "stream",
     "text": [
      "Loading required package: tseries\n",
      "\n",
      "Registered S3 method overwritten by 'quantmod':\n",
      "  method            from\n",
      "  as.zoo.data.frame zoo \n",
      "\n"
     ]
    }
   ],
   "source": [
    "require(tseries)"
   ]
  },
  {
   "cell_type": "code",
   "execution_count": 5,
   "metadata": {},
   "outputs": [
    {
     "name": "stderr",
     "output_type": "stream",
     "text": [
      "Warning message in adf.test(Y, k = 0, alternative = \"stationary\"):\n",
      "\"p-value smaller than printed p-value\"\n"
     ]
    },
    {
     "data": {
      "text/plain": [
       "\n",
       "\tAugmented Dickey-Fuller Test\n",
       "\n",
       "data:  Y\n",
       "Dickey-Fuller = -6.0808, Lag order = 0, p-value = 0.01\n",
       "alternative hypothesis: stationary\n"
      ]
     },
     "metadata": {},
     "output_type": "display_data"
    }
   ],
   "source": [
    "adf.test(Y, k=0, alternative=\"stationary\")"
   ]
  },
  {
   "cell_type": "markdown",
   "metadata": {},
   "source": [
    "The Dick-Fuller test does reject nonstationarity (unit root). This disagrees with the series being nonstationary."
   ]
  },
  {
   "cell_type": "markdown",
   "metadata": {},
   "source": [
    "**(b)**"
   ]
  },
  {
   "cell_type": "code",
   "execution_count": 6,
   "metadata": {},
   "outputs": [
    {
     "name": "stderr",
     "output_type": "stream",
     "text": [
      "Warning message in adf.test(Y):\n",
      "\"p-value smaller than printed p-value\"\n"
     ]
    },
    {
     "data": {
      "text/plain": [
       "\n",
       "\tAugmented Dickey-Fuller Test\n",
       "\n",
       "data:  Y\n",
       "Dickey-Fuller = -4.21, Lag order = 3, p-value = 0.01\n",
       "alternative hypothesis: stationary\n"
      ]
     },
     "metadata": {},
     "output_type": "display_data"
    }
   ],
   "source": [
    "adf.test(Y)"
   ]
  },
  {
   "cell_type": "markdown",
   "metadata": {},
   "source": [
    "The Augmented Dick-Fuller test still rejects nonstationarity."
   ]
  },
  {
   "cell_type": "markdown",
   "metadata": {},
   "source": [
    "**(c)**"
   ]
  },
  {
   "cell_type": "code",
   "execution_count": 7,
   "metadata": {},
   "outputs": [
    {
     "name": "stderr",
     "output_type": "stream",
     "text": [
      "Warning message in adf.test(diff(Y), k = 0):\n",
      "\"p-value smaller than printed p-value\"\n"
     ]
    },
    {
     "data": {
      "text/plain": [
       "\n",
       "\tAugmented Dickey-Fuller Test\n",
       "\n",
       "data:  diff(Y)\n",
       "Dickey-Fuller = -10.883, Lag order = 0, p-value = 0.01\n",
       "alternative hypothesis: stationary\n"
      ]
     },
     "metadata": {},
     "output_type": "display_data"
    }
   ],
   "source": [
    "adf.test(diff(Y), k=0)"
   ]
  },
  {
   "cell_type": "code",
   "execution_count": 8,
   "metadata": {},
   "outputs": [
    {
     "name": "stderr",
     "output_type": "stream",
     "text": [
      "Warning message in adf.test(diff(Y)):\n",
      "\"p-value smaller than printed p-value\"\n"
     ]
    },
    {
     "data": {
      "text/plain": [
       "\n",
       "\tAugmented Dickey-Fuller Test\n",
       "\n",
       "data:  diff(Y)\n",
       "Dickey-Fuller = -6.3878, Lag order = 3, p-value = 0.01\n",
       "alternative hypothesis: stationary\n"
      ]
     },
     "metadata": {},
     "output_type": "display_data"
    }
   ],
   "source": [
    "adf.test(diff(Y))"
   ]
  },
  {
   "cell_type": "markdown",
   "metadata": {},
   "source": [
    "Both the Dick-Fuller nor the Augmented Dick-Fuller tests reject nonstationarity on the time series difference (now in agreement with the model.)"
   ]
  },
  {
   "cell_type": "markdown",
   "metadata": {},
   "source": [
    "Now, repeating the exercise with $\\theta = -0.8$:"
   ]
  },
  {
   "cell_type": "code",
   "execution_count": 9,
   "metadata": {},
   "outputs": [],
   "source": [
    "set.seed(0)\n",
    "Y = arima.sim(model=list(ma=0.8, order=c(0, 1, 1)), n=60)"
   ]
  },
  {
   "cell_type": "markdown",
   "metadata": {},
   "source": [
    "The series is more obviously non-stationary, visually:"
   ]
  },
  {
   "cell_type": "code",
   "execution_count": 10,
   "metadata": {},
   "outputs": [
    {
     "data": {
      "image/png": "[encoded data removed]",
      "text/plain": [
       "plot without title"
      ]
     },
     "metadata": {
      "image/png": {
       "height": 240,
       "width": 720
      }
     },
     "output_type": "display_data"
    }
   ],
   "source": [
    "options(repr.plot.width=12, repr.plot.height=4)\n",
    "\n",
    "ggplot() +\n",
    "    geom_line(aes(x=1:length(Y), y=c(Y)), color='blue') +\n",
    "    xlab('') + ylab('') +\n",
    "    theme_bw() + theme(text = element_text(size=16), plot.title = element_text(hjust = 0.5))"
   ]
  },
  {
   "cell_type": "code",
   "execution_count": 11,
   "metadata": {},
   "outputs": [
    {
     "data": {
      "text/plain": [
       "\n",
       "\tAugmented Dickey-Fuller Test\n",
       "\n",
       "data:  Y\n",
       "Dickey-Fuller = -2.0941, Lag order = 0, p-value = 0.5368\n",
       "alternative hypothesis: stationary\n"
      ]
     },
     "metadata": {},
     "output_type": "display_data"
    }
   ],
   "source": [
    "adf.test(Y, k=0)"
   ]
  },
  {
   "cell_type": "markdown",
   "metadata": {},
   "source": [
    "Now the Dick-Fuller test correctly does not reject stationarity (p-value over 0.05)."
   ]
  },
  {
   "cell_type": "code",
   "execution_count": 12,
   "metadata": {},
   "outputs": [
    {
     "data": {
      "text/plain": [
       "\n",
       "\tAugmented Dickey-Fuller Test\n",
       "\n",
       "data:  Y\n",
       "Dickey-Fuller = -3.3391, Lag order = 3, p-value = 0.07387\n",
       "alternative hypothesis: stationary\n"
      ]
     },
     "metadata": {},
     "output_type": "display_data"
    }
   ],
   "source": [
    "adf.test(Y)"
   ]
  },
  {
   "cell_type": "markdown",
   "metadata": {},
   "source": [
    "Augmented Dick-Fuller also does not reject non-stationarity (p-value still over 0.05, though only slightly)."
   ]
  },
  {
   "cell_type": "code",
   "execution_count": 13,
   "metadata": {},
   "outputs": [
    {
     "data": {
      "text/plain": [
       "\n",
       "\tAugmented Dickey-Fuller Test\n",
       "\n",
       "data:  diff(Y)\n",
       "Dickey-Fuller = -4.0458, Lag order = 0, p-value = 0.01369\n",
       "alternative hypothesis: stationary\n"
      ]
     },
     "metadata": {},
     "output_type": "display_data"
    }
   ],
   "source": [
    "adf.test(diff(Y), k=0)"
   ]
  },
  {
   "cell_type": "code",
   "execution_count": 14,
   "metadata": {},
   "outputs": [
    {
     "name": "stderr",
     "output_type": "stream",
     "text": [
      "Warning message in adf.test(diff(Y)):\n",
      "\"p-value smaller than printed p-value\"\n"
     ]
    },
    {
     "data": {
      "text/plain": [
       "\n",
       "\tAugmented Dickey-Fuller Test\n",
       "\n",
       "data:  diff(Y)\n",
       "Dickey-Fuller = -4.1844, Lag order = 3, p-value = 0.01\n",
       "alternative hypothesis: stationary\n"
      ]
     },
     "metadata": {},
     "output_type": "display_data"
    }
   ],
   "source": [
    "adf.test(diff(Y))"
   ]
  },
  {
   "cell_type": "markdown",
   "metadata": {},
   "source": [
    "For the series of differences, both the Dick-Fuller and the Augmented Dick-Fuller tests reject nonstationarity (correctly)."
   ]
  },
  {
   "cell_type": "markdown",
   "metadata": {},
   "source": [
    "**Exercise 6.32**. Simulate a stationary time series of length $n = 36$ according to an AR(1) model with $\\phi = 0.95$. This model is stationary, but just barely so. With such a series and a short history, it will be difficult if not impossible to distinguish between stationary and nonstationary with a unit root.\n",
    "\n",
    "**(a)** Plot the series and calculate the sample ACF and PACF and describe what you see.\n",
    "\n",
    "**(b)** Perform the (augmented) Dickey-Fuller test on the series with $k = 0$ in Equation (6.4.1) on page 128. (With $k = 0$ this is the Dickey-Fuller test and is not augmented.) Comment on the results.\n",
    "\n",
    "**(c)** Perform the augmented Dickey-Fuller test on the series with $k$ chosen by the software—that is, the “best” value for $k$. Comment on the results.\n",
    "\n",
    "**(d)** Repeat parts (a), (b), and (c) but with a new simulation with $n = 100$."
   ]
  },
  {
   "cell_type": "markdown",
   "metadata": {},
   "source": [
    "**Solution**."
   ]
  },
  {
   "cell_type": "code",
   "execution_count": 15,
   "metadata": {},
   "outputs": [],
   "source": [
    "set.seed(0)\n",
    "Y = arima.sim(model=list(ar=0.95), n=36)"
   ]
  },
  {
   "cell_type": "markdown",
   "metadata": {},
   "source": [
    "**(a)**"
   ]
  },
  {
   "cell_type": "code",
   "execution_count": 16,
   "metadata": {},
   "outputs": [],
   "source": [
    "# Function to plot provided autocorrelations\n",
    "plot_acf <- function(acf, title='ACF') {\n",
    "    max_k = length(acf)\n",
    "    k = seq(1, max_k)\n",
    "    \n",
    "    options(repr.plot.width=12, repr.plot.height=4)\n",
    "    p = ggplot() +\n",
    "        geom_point(aes(x=k, y=acf), color='blue')\n",
    "    for (i in 1:max_k) {\n",
    "        p = p + geom_line(aes_string(x=k[i], y=c(0, acf[i])), color='blue')\n",
    "    }\n",
    "    p + geom_line(aes(x=k, y=0), color='blue', linetype='dashed') +\n",
    "        xlab('Lag') + ylab(TeX('$\\\\rho_k$')) +\n",
    "        ggtitle(title) +\n",
    "        theme_bw() + theme(text = element_text(size=16), plot.title = element_text(hjust = 0.5))\n",
    "}\n",
    "\n",
    "plot_acf_with_bounds <- function(acf, lower, upper, title='ACF') {\n",
    "    max_k = length(acf)\n",
    "    k = seq(1, max_k)\n",
    "    \n",
    "    options(repr.plot.width=12, repr.plot.height=4)\n",
    "    p = ggplot() + geom_ribbon(aes(x=k, ymin=lower, ymax=upper), fill='blue', alpha=0.1) +\n",
    "        geom_point(aes(x=k, y=acf), color='blue')\n",
    "    for (i in 1:max_k) {\n",
    "        p = p + geom_line(aes_string(x=k[i], y=c(0, acf[i])), color='blue')\n",
    "    }\n",
    "    p + geom_line(aes(x=k, y=0), color='blue', linetype='dashed') +\n",
    "        xlab('Lag') + ylab(TeX('$\\\\rho_k$')) +\n",
    "        ggtitle(title) +\n",
    "        theme_bw() + theme(text = element_text(size=16), plot.title = element_text(hjust = 0.5))\n",
    "}"
   ]
  },
  {
   "cell_type": "code",
   "execution_count": 17,
   "metadata": {},
   "outputs": [
    {
     "data": {
      "image/png": "[encoded data removed]",
      "text/plain": [
       "plot without title"
      ]
     },
     "metadata": {
      "image/png": {
       "height": 240,
       "width": 720
      }
     },
     "output_type": "display_data"
    }
   ],
   "source": [
    "options(repr.plot.width=12, repr.plot.height=4)\n",
    "\n",
    "ggplot() +\n",
    "    geom_line(aes(x=1:length(Y), y=c(Y)), color='blue') +\n",
    "    xlab('') + ylab('') +\n",
    "    theme_bw() + theme(text = element_text(size=16), plot.title = element_text(hjust = 0.5))"
   ]
  },
  {
   "cell_type": "code",
   "execution_count": 18,
   "metadata": {},
   "outputs": [
    {
     "data": {
      "image/png": "[encoded data removed]",
      "text/plain": [
       "plot without title"
      ]
     },
     "metadata": {
      "image/png": {
       "height": 240,
       "width": 720
      }
     },
     "output_type": "display_data"
    },
    {
     "data": {
      "image/png": "[encoded data removed]",
      "text/plain": [
       "plot without title"
      ]
     },
     "metadata": {
      "image/png": {
       "height": 240,
       "width": 720
      }
     },
     "output_type": "display_data"
    }
   ],
   "source": [
    "bound = 2 / sqrt(length(Y))\n",
    "plot_acf_with_bounds(acf(Y, lag.max=20, plot=F)$acf[-1], bound, -bound, title='ACF')\n",
    "plot_acf_with_bounds(pacf(Y, lag.max=20, plot=F)$acf, bound, -bound, title='PACF')"
   ]
  },
  {
   "cell_type": "markdown",
   "metadata": {},
   "source": [
    "The PACF suggests an AR(1) model, but the series is not obviously stationary from the timeseries."
   ]
  },
  {
   "cell_type": "markdown",
   "metadata": {},
   "source": [
    "**(b)**"
   ]
  },
  {
   "cell_type": "code",
   "execution_count": 19,
   "metadata": {},
   "outputs": [
    {
     "data": {
      "text/plain": [
       "\n",
       "\tAugmented Dickey-Fuller Test\n",
       "\n",
       "data:  Y\n",
       "Dickey-Fuller = -1.8258, Lag order = 0, p-value = 0.6409\n",
       "alternative hypothesis: stationary\n"
      ]
     },
     "metadata": {},
     "output_type": "display_data"
    }
   ],
   "source": [
    "adf.test(Y, k=0)"
   ]
  },
  {
   "cell_type": "markdown",
   "metadata": {},
   "source": [
    "The Dick-Fuller test fails to reject nonstationarity."
   ]
  },
  {
   "cell_type": "markdown",
   "metadata": {},
   "source": [
    "**(c)**"
   ]
  },
  {
   "cell_type": "code",
   "execution_count": 20,
   "metadata": {},
   "outputs": [
    {
     "data": {
      "text/plain": [
       "\n",
       "\tAugmented Dickey-Fuller Test\n",
       "\n",
       "data:  Y\n",
       "Dickey-Fuller = -1.6356, Lag order = 3, p-value = 0.7149\n",
       "alternative hypothesis: stationary\n"
      ]
     },
     "metadata": {},
     "output_type": "display_data"
    }
   ],
   "source": [
    "adf.test(Y)"
   ]
  },
  {
   "cell_type": "markdown",
   "metadata": {},
   "source": [
    "The Augmented Dick-Fuller test fails to reject nonstationarity."
   ]
  },
  {
   "cell_type": "markdown",
   "metadata": {},
   "source": [
    "**(d)**"
   ]
  },
  {
   "cell_type": "code",
   "execution_count": 21,
   "metadata": {},
   "outputs": [],
   "source": [
    "set.seed(0)\n",
    "Y = arima.sim(model=list(ar=0.95), n=100)"
   ]
  },
  {
   "cell_type": "code",
   "execution_count": 22,
   "metadata": {},
   "outputs": [
    {
     "data": {
      "image/png": "[encoded data removed]",
      "text/plain": [
       "plot without title"
      ]
     },
     "metadata": {
      "image/png": {
       "height": 240,
       "width": 720
      }
     },
     "output_type": "display_data"
    }
   ],
   "source": [
    "options(repr.plot.width=12, repr.plot.height=4)\n",
    "\n",
    "ggplot() +\n",
    "    geom_line(aes(x=1:length(Y), y=c(Y)), color='blue') +\n",
    "    xlab('') + ylab('') +\n",
    "    theme_bw() + theme(text = element_text(size=16), plot.title = element_text(hjust = 0.5))"
   ]
  },
  {
   "cell_type": "code",
   "execution_count": 23,
   "metadata": {},
   "outputs": [
    {
     "data": {
      "image/png": "[encoded data removed]",
      "text/plain": [
       "plot without title"
      ]
     },
     "metadata": {
      "image/png": {
       "height": 240,
       "width": 720
      }
     },
     "output_type": "display_data"
    },
    {
     "data": {
      "image/png": "[encoded data removed]",
      "text/plain": [
       "plot without title"
      ]
     },
     "metadata": {
      "image/png": {
       "height": 240,
       "width": 720
      }
     },
     "output_type": "display_data"
    }
   ],
   "source": [
    "bound = 2 / sqrt(length(Y))\n",
    "plot_acf_with_bounds(acf(Y, lag.max=20, plot=F)$acf[-1], bound, -bound, title='ACF')\n",
    "plot_acf_with_bounds(pacf(Y, lag.max=20, plot=F)$acf, bound, -bound, title='PACF')"
   ]
  },
  {
   "cell_type": "code",
   "execution_count": 24,
   "metadata": {},
   "outputs": [
    {
     "data": {
      "text/plain": [
       "\n",
       "\tAugmented Dickey-Fuller Test\n",
       "\n",
       "data:  Y\n",
       "Dickey-Fuller = -2.2681, Lag order = 0, p-value = 0.4656\n",
       "alternative hypothesis: stationary\n"
      ]
     },
     "metadata": {},
     "output_type": "display_data"
    }
   ],
   "source": [
    "adf.test(Y, k=0)"
   ]
  },
  {
   "cell_type": "code",
   "execution_count": 25,
   "metadata": {},
   "outputs": [
    {
     "data": {
      "text/plain": [
       "\n",
       "\tAugmented Dickey-Fuller Test\n",
       "\n",
       "data:  Y\n",
       "Dickey-Fuller = -2.3702, Lag order = 4, p-value = 0.4233\n",
       "alternative hypothesis: stationary\n"
      ]
     },
     "metadata": {},
     "output_type": "display_data"
    }
   ],
   "source": [
    "adf.test(Y)"
   ]
  },
  {
   "cell_type": "markdown",
   "metadata": {},
   "source": [
    "Results look similar."
   ]
  },
  {
   "cell_type": "markdown",
   "metadata": {},
   "source": [
    "**Exercise 6.33**. The data file named `deere1` contains 82 consecutive values for the amount of deviation (in 0.000025 inch units) from a specified target value that an industrial machining process at Deere & Co. produced under certain specified operating conditions.\n",
    "\n",
    "**(a)** Display the time series plot of this series and comment on any unusual points.\n",
    "\n",
    "**(b)** Calculate the sample ACF for this series and comment on the results.\n",
    "\n",
    "**(c)** Now replace the unusual value by a much more typical value and recalculate the sample ACF. Comment on the change from what you saw in part (b).\n",
    "\n",
    "**(d)** Calculate the sample PACF based on the revised series that you used in part (c). What model would you specify for the revised series? (Later we will investigate other ways to handle outliers in time series modeling.)"
   ]
  },
  {
   "cell_type": "markdown",
   "metadata": {},
   "source": [
    "**Solution**"
   ]
  },
  {
   "cell_type": "markdown",
   "metadata": {},
   "source": [
    "**(a)**"
   ]
  },
  {
   "cell_type": "code",
   "execution_count": 26,
   "metadata": {},
   "outputs": [],
   "source": [
    "Y <- read.table(\"../data/deere1.dat\", header=TRUE)[['deere1']]"
   ]
  },
  {
   "cell_type": "code",
   "execution_count": 27,
   "metadata": {},
   "outputs": [
    {
     "data": {
      "image/png": "[encoded data removed]",
      "text/plain": [
       "plot without title"
      ]
     },
     "metadata": {
      "image/png": {
       "height": 240,
       "width": 720
      }
     },
     "output_type": "display_data"
    }
   ],
   "source": [
    "options(repr.plot.width=12, repr.plot.height=4)\n",
    "\n",
    "ggplot() +\n",
    "    geom_line(aes(x=1:length(Y), y=c(Y)), color='blue') +\n",
    "    xlab('') + ylab('') +\n",
    "    theme_bw() + theme(text = element_text(size=16), plot.title = element_text(hjust = 0.5))"
   ]
  },
  {
   "cell_type": "markdown",
   "metadata": {},
   "source": [
    "The point at  𝑡=27  with value 30 seems like an outlier; otherwise the series seems stationary."
   ]
  },
  {
   "cell_type": "markdown",
   "metadata": {},
   "source": [
    "**(b)**"
   ]
  },
  {
   "cell_type": "code",
   "execution_count": 28,
   "metadata": {},
   "outputs": [
    {
     "data": {
      "image/png": "[encoded data removed]",
      "text/plain": [
       "plot without title"
      ]
     },
     "metadata": {
      "image/png": {
       "height": 240,
       "width": 720
      }
     },
     "output_type": "display_data"
    }
   ],
   "source": [
    "bound = 2 / sqrt(length(Y))\n",
    "plot_acf_with_bounds(acf(Y, lag.max=20, plot=F)$acf[-1], bound, -bound, title='ACF')"
   ]
  },
  {
   "cell_type": "markdown",
   "metadata": {},
   "source": [
    "It looks like there is a significant autocorrelation at lag 2."
   ]
  },
  {
   "cell_type": "markdown",
   "metadata": {},
   "source": [
    "**(c)**"
   ]
  },
  {
   "cell_type": "code",
   "execution_count": 29,
   "metadata": {},
   "outputs": [
    {
     "data": {
      "image/png": "[encoded data removed]",
      "text/plain": [
       "plot without title"
      ]
     },
     "metadata": {
      "image/png": {
       "height": 240,
       "width": 720
      }
     },
     "output_type": "display_data"
    }
   ],
   "source": [
    "Y[27] = 1\n",
    "plot_acf_with_bounds(acf(Y, lag.max=20, plot=F)$acf[-1], bound, -bound, title='ACF')"
   ]
  },
  {
   "cell_type": "markdown",
   "metadata": {},
   "source": [
    "This doesn't seem to have had a large impact on the sample ACF for lag 2."
   ]
  },
  {
   "cell_type": "markdown",
   "metadata": {},
   "source": [
    "**(d)**"
   ]
  },
  {
   "cell_type": "code",
   "execution_count": 30,
   "metadata": {},
   "outputs": [
    {
     "data": {
      "image/png": "[encoded data removed]",
      "text/plain": [
       "plot without title"
      ]
     },
     "metadata": {
      "image/png": {
       "height": 240,
       "width": 720
      }
     },
     "output_type": "display_data"
    }
   ],
   "source": [
    "plot_acf_with_bounds(pacf(Y, lag.max=20, plot=F)$acf, bound, -bound, title='PACF')"
   ]
  },
  {
   "cell_type": "markdown",
   "metadata": {},
   "source": [
    "This suggests an AR(2) model."
   ]
  },
  {
   "cell_type": "markdown",
   "metadata": {},
   "source": [
    "**Exercise 6.34**. The data file named `deere2` contains 102 consecutive values for the amount of deviation (in 0.0000025 inch units) from a specified target value that another industrial machining process produced at Deere & Co.\n",
    "\n",
    "**(a)** Display the time series plot of this series and comment on its appearance. Would a stationary model seem to be appropriate?\n",
    "\n",
    "**(b)** Display the sample ACF and PACF for this series and select tentative orders for an ARMA model for the series."
   ]
  },
  {
   "cell_type": "markdown",
   "metadata": {},
   "source": [
    "**Solution**."
   ]
  },
  {
   "cell_type": "code",
   "execution_count": 31,
   "metadata": {},
   "outputs": [],
   "source": [
    "Y <- read.table(\"../data/deere2.dat\", header=TRUE)[['deere2']]"
   ]
  },
  {
   "cell_type": "markdown",
   "metadata": {},
   "source": [
    "**(a)**"
   ]
  },
  {
   "cell_type": "code",
   "execution_count": 32,
   "metadata": {},
   "outputs": [
    {
     "data": {
      "image/png": "[encoded data removed]",
      "text/plain": [
       "plot without title"
      ]
     },
     "metadata": {
      "image/png": {
       "height": 240,
       "width": 720
      }
     },
     "output_type": "display_data"
    }
   ],
   "source": [
    "options(repr.plot.width=12, repr.plot.height=4)\n",
    "\n",
    "ggplot() +\n",
    "    geom_line(aes(x=1:length(Y), y=c(Y)), color='blue') +\n",
    "    xlab('') + ylab('') +\n",
    "    theme_bw() + theme(text = element_text(size=16), plot.title = element_text(hjust = 0.5))"
   ]
  },
  {
   "cell_type": "markdown",
   "metadata": {},
   "source": [
    "This series could be stationary. Let's do the ADF test to get a better sense:"
   ]
  },
  {
   "cell_type": "code",
   "execution_count": 33,
   "metadata": {},
   "outputs": [
    {
     "name": "stderr",
     "output_type": "stream",
     "text": [
      "Warning message in adf.test(Y):\n",
      "\"p-value smaller than printed p-value\"\n"
     ]
    },
    {
     "data": {
      "text/plain": [
       "\n",
       "\tAugmented Dickey-Fuller Test\n",
       "\n",
       "data:  Y\n",
       "Dickey-Fuller = -4.9934, Lag order = 4, p-value = 0.01\n",
       "alternative hypothesis: stationary\n"
      ]
     },
     "metadata": {},
     "output_type": "display_data"
    }
   ],
   "source": [
    "adf.test(Y)"
   ]
  },
  {
   "cell_type": "markdown",
   "metadata": {},
   "source": [
    "ADF rejects nonstationarity, agreeing with the intuition above."
   ]
  },
  {
   "cell_type": "markdown",
   "metadata": {},
   "source": [
    "**(b)**"
   ]
  },
  {
   "cell_type": "code",
   "execution_count": 34,
   "metadata": {},
   "outputs": [
    {
     "data": {
      "image/png": "[encoded data removed]",
      "text/plain": [
       "plot without title"
      ]
     },
     "metadata": {
      "image/png": {
       "height": 240,
       "width": 720
      }
     },
     "output_type": "display_data"
    },
    {
     "data": {
      "image/png": "[encoded data removed]",
      "text/plain": [
       "plot without title"
      ]
     },
     "metadata": {
      "image/png": {
       "height": 240,
       "width": 720
      }
     },
     "output_type": "display_data"
    }
   ],
   "source": [
    "bound = 2 / sqrt(length(Y))\n",
    "plot_acf_with_bounds(acf(Y, lag.max=20, plot=F)$acf[-1], bound, -bound, title='ACF')\n",
    "plot_acf_with_bounds(pacf(Y, lag.max=20, plot=F)$acf, bound, -bound, title='PACF')"
   ]
  },
  {
   "cell_type": "markdown",
   "metadata": {},
   "source": [
    "PACF appears to suggest an AR(1) model.  Let's also look at EACF:"
   ]
  },
  {
   "cell_type": "code",
   "execution_count": 35,
   "metadata": {},
   "outputs": [],
   "source": [
    "source('eacf.R')"
   ]
  },
  {
   "cell_type": "code",
   "execution_count": 36,
   "metadata": {},
   "outputs": [
    {
     "name": "stdout",
     "output_type": "stream",
     "text": [
      "AR/MA\n",
      "   0 1 2 3 4 5 6 7 8 9 10 11 12 13\n",
      "0  x x x o o o x o o o o  o  o  o \n",
      "1  o o x o o o o o o o o  o  o  o \n",
      "2  x o o x o o o o o o o  o  o  o \n",
      "3  x o o x o o o o o o o  o  o  o \n",
      "4  x o x x o o o o o o o  o  o  o \n",
      "5  x x o o o o o o o o o  o  o  o \n",
      "6  o o x o o o o o o o o  o  o  o \n",
      "7  x o o o o o o o o o o  o  o  o \n",
      "8  x x o o o o o o o o o  o  o  o \n",
      "9  x o o o o o o o o o o  o  o  o \n",
      "10 o x x o o o o o o o o  o  o  o \n",
      "11 x o x o o o o o o o o  o  o  o \n",
      "12 x o x o x o o o o o o  o  o  o \n",
      "13 x x x x x o o o o o o  o  o  o \n"
     ]
    }
   ],
   "source": [
    "eacf(Y, ar.max=13, ma.max=13)"
   ]
  },
  {
   "cell_type": "markdown",
   "metadata": {},
   "source": [
    "EACF also appears to suggest an AR(1) model."
   ]
  },
  {
   "cell_type": "markdown",
   "metadata": {},
   "source": [
    "**Exercise 6.35**. The data file named deere3 contains 57 consecutive measurements recorded from a complex machine tool at Deere & Co. The values given are deviations from a target value in units of ten millionths of an inch. The process employs a control mechanism that resets some of the parameters of the machine tool depending on the magnitude of deviation from target of the last item produced.\n",
    "\n",
    "**(a)** Display the time series plot of this series and comment on its appearance.  Would a stationary model be appropriate here?\n",
    "\n",
    "**(b)** Display the sample ACF and PACF for this series and select tentative orders for an ARMA model for the series."
   ]
  },
  {
   "cell_type": "markdown",
   "metadata": {},
   "source": [
    "**Solution**."
   ]
  },
  {
   "cell_type": "code",
   "execution_count": 37,
   "metadata": {},
   "outputs": [],
   "source": [
    "Y <- read.table(\"../data/deere3.dat\", header=TRUE)[['deere3']]"
   ]
  },
  {
   "cell_type": "markdown",
   "metadata": {},
   "source": [
    "**(a)**"
   ]
  },
  {
   "cell_type": "code",
   "execution_count": 38,
   "metadata": {},
   "outputs": [
    {
     "data": {
      "image/png": "[encoded data removed]",
      "text/plain": [
       "plot without title"
      ]
     },
     "metadata": {
      "image/png": {
       "height": 240,
       "width": 720
      }
     },
     "output_type": "display_data"
    }
   ],
   "source": [
    "options(repr.plot.width=12, repr.plot.height=4)\n",
    "\n",
    "ggplot() +\n",
    "    geom_line(aes(x=1:length(Y), y=c(Y)), color='blue') +\n",
    "    xlab('') + ylab('') +\n",
    "    theme_bw() + theme(text = element_text(size=16), plot.title = element_text(hjust = 0.5))"
   ]
  },
  {
   "cell_type": "markdown",
   "metadata": {},
   "source": [
    "This series still seems to be stationary -- though the intuition is also partly driven by the fact that this is a process mediated by a control mechanism, rather than just plain measurement error. Let's look at the ADF test:"
   ]
  },
  {
   "cell_type": "code",
   "execution_count": 39,
   "metadata": {},
   "outputs": [
    {
     "name": "stderr",
     "output_type": "stream",
     "text": [
      "Warning message in adf.test(Y):\n",
      "\"p-value smaller than printed p-value\"\n"
     ]
    },
    {
     "data": {
      "text/plain": [
       "\n",
       "\tAugmented Dickey-Fuller Test\n",
       "\n",
       "data:  Y\n",
       "Dickey-Fuller = -4.2521, Lag order = 3, p-value = 0.01\n",
       "alternative hypothesis: stationary\n"
      ]
     },
     "metadata": {},
     "output_type": "display_data"
    }
   ],
   "source": [
    "adf.test(Y)"
   ]
  },
  {
   "cell_type": "markdown",
   "metadata": {},
   "source": [
    "The ADF test rejects nonstationarity."
   ]
  },
  {
   "cell_type": "markdown",
   "metadata": {},
   "source": [
    "**(b)**"
   ]
  },
  {
   "cell_type": "code",
   "execution_count": 40,
   "metadata": {},
   "outputs": [
    {
     "data": {
      "image/png": "[encoded data removed]",
      "text/plain": [
       "plot without title"
      ]
     },
     "metadata": {
      "image/png": {
       "height": 240,
       "width": 720
      }
     },
     "output_type": "display_data"
    },
    {
     "data": {
      "image/png": "[encoded data removed]",
      "text/plain": [
       "plot without title"
      ]
     },
     "metadata": {
      "image/png": {
       "height": 240,
       "width": 720
      }
     },
     "output_type": "display_data"
    }
   ],
   "source": [
    "bound = 2 / sqrt(length(Y))\n",
    "plot_acf_with_bounds(acf(Y, lag.max=20, plot=F)$acf[-1], bound, -bound, title='ACF')\n",
    "plot_acf_with_bounds(pacf(Y, lag.max=20, plot=F)$acf, bound, -bound, title='PACF')"
   ]
  },
  {
   "cell_type": "markdown",
   "metadata": {},
   "source": [
    "Once again, an AR(1) model seems reasonable from the PACF. Let's also look at the EACF:"
   ]
  },
  {
   "cell_type": "code",
   "execution_count": 41,
   "metadata": {},
   "outputs": [
    {
     "name": "stdout",
     "output_type": "stream",
     "text": [
      "AR/MA\n",
      "   0 1 2 3 4 5 6 7 8 9 10 11 12 13\n",
      "0  x x o o o o o o o o o  o  o  o \n",
      "1  o o o o o o o o o o o  o  o  o \n",
      "2  o o o o o o o o o o o  o  o  o \n",
      "3  x o o o o o o o o o o  o  o  o \n",
      "4  o x o o o o o o o o o  o  o  o \n",
      "5  o x o x o o o o o o o  o  o  o \n",
      "6  o x o x o o o o o o o  o  o  o \n",
      "7  o x x o o o o o o o o  o  o  o \n",
      "8  x o o o o o o o o o o  o  o  o \n",
      "9  x o x o o o o o o o o  o  o  o \n",
      "10 x x o o o o o o o o o  o  o  o \n",
      "11 o x o o o o o o o o o  o  o  o \n",
      "12 o o o o o o o o o o o  o  o  o \n",
      "13 x o o o o o o o o o o  o  o  o \n"
     ]
    }
   ],
   "source": [
    "eacf(Y, ar.max=13, ma.max=13)"
   ]
  },
  {
   "cell_type": "markdown",
   "metadata": {},
   "source": [
    "EACF also appears to suggest an AR(1) model."
   ]
  },
  {
   "cell_type": "markdown",
   "metadata": {},
   "source": [
    "**Exercise 6.36**. The data file named `robot` contains a time series obtained from an industrial robot.  The robot was put through a sequence of maneuvers, and the distance from a desired ending point was recorded in inches. This was repeated 324 times to form the time series.\n",
    "\n",
    "**(a)** Display the time series plot of the data. Based on this information, do these data appear to come from a stationary or nonstationary process?\n",
    "\n",
    "**(b)** Calculate and plot the sample ACF and PACF for these data. Based on this additional information, do these data appear to come from a stationary or nonstationary process?\n",
    "\n",
    "**(c)** Calculate and interpret the sample EACF.\n",
    "\n",
    "**(d)** Use the best subsets ARMA approach to specify a model for these data. Compare these results with what you discovered in parts (a), (b), and (c)."
   ]
  },
  {
   "cell_type": "markdown",
   "metadata": {},
   "source": [
    "**Solution**."
   ]
  },
  {
   "cell_type": "code",
   "execution_count": 42,
   "metadata": {},
   "outputs": [],
   "source": [
    "Y <- read.table(\"../data/robot.dat\", header=TRUE)[['robot']]"
   ]
  },
  {
   "cell_type": "markdown",
   "metadata": {},
   "source": [
    "**(a)**"
   ]
  },
  {
   "cell_type": "code",
   "execution_count": 43,
   "metadata": {},
   "outputs": [
    {
     "data": {
      "image/png": "[encoded data removed]",
      "text/plain": [
       "plot without title"
      ]
     },
     "metadata": {
      "image/png": {
       "height": 240,
       "width": 720
      }
     },
     "output_type": "display_data"
    }
   ],
   "source": [
    "options(repr.plot.width=12, repr.plot.height=4)\n",
    "\n",
    "ggplot() +\n",
    "    geom_line(aes(x=1:length(Y), y=c(Y)), color='blue') +\n",
    "    xlab('') + ylab('') +\n",
    "    theme_bw() + theme(text = element_text(size=16), plot.title = element_text(hjust = 0.5))"
   ]
  },
  {
   "cell_type": "markdown",
   "metadata": {},
   "source": [
    "This series does appear stationary, though there is perhaps some \"drift\" in the later half.  Let's look at the ADF:"
   ]
  },
  {
   "cell_type": "code",
   "execution_count": 44,
   "metadata": {},
   "outputs": [
    {
     "name": "stderr",
     "output_type": "stream",
     "text": [
      "Warning message in adf.test(Y):\n",
      "\"p-value smaller than printed p-value\"\n"
     ]
    },
    {
     "data": {
      "text/plain": [
       "\n",
       "\tAugmented Dickey-Fuller Test\n",
       "\n",
       "data:  Y\n",
       "Dickey-Fuller = -4.6522, Lag order = 6, p-value = 0.01\n",
       "alternative hypothesis: stationary\n"
      ]
     },
     "metadata": {},
     "output_type": "display_data"
    }
   ],
   "source": [
    "adf.test(Y)"
   ]
  },
  {
   "cell_type": "markdown",
   "metadata": {},
   "source": [
    "ADF does test rejects nonstationarity.  Perhaps the series is stationary."
   ]
  },
  {
   "cell_type": "markdown",
   "metadata": {},
   "source": [
    "**(b)**"
   ]
  },
  {
   "cell_type": "code",
   "execution_count": 45,
   "metadata": {},
   "outputs": [
    {
     "data": {
      "image/png": "[encoded data removed]",
      "text/plain": [
       "plot without title"
      ]
     },
     "metadata": {
      "image/png": {
       "height": 240,
       "width": 720
      }
     },
     "output_type": "display_data"
    },
    {
     "data": {
      "image/png": "[encoded data removed]",
      "text/plain": [
       "plot without title"
      ]
     },
     "metadata": {
      "image/png": {
       "height": 240,
       "width": 720
      }
     },
     "output_type": "display_data"
    }
   ],
   "source": [
    "bound = 2 / sqrt(length(Y))\n",
    "plot_acf_with_bounds(acf(Y, lag.max=20, plot=F)$acf[-1], bound, -bound, title='ACF')\n",
    "plot_acf_with_bounds(pacf(Y, lag.max=20, plot=F)$acf, bound, -bound, title='PACF')"
   ]
  },
  {
   "cell_type": "markdown",
   "metadata": {},
   "source": [
    "The PACF plot suggests an AR(3) model for the series."
   ]
  },
  {
   "cell_type": "markdown",
   "metadata": {},
   "source": [
    "**(c)**"
   ]
  },
  {
   "cell_type": "code",
   "execution_count": 46,
   "metadata": {},
   "outputs": [
    {
     "name": "stdout",
     "output_type": "stream",
     "text": [
      "AR/MA\n",
      "  0 1 2 3 4 5 6 7 8 9 10 11 12 13\n",
      "0 x x x x x x x x x o x  x  x  x \n",
      "1 x o o o o o o o o o o  o  o  o \n",
      "2 x x o o o o o o o o o  o  o  o \n",
      "3 x x o o o o o o o o o  o  o  o \n",
      "4 x x x x o o o o o o o  o  x  o \n",
      "5 x x x o o o o o o o o  o  x  o \n",
      "6 x o o o o x o o o o o  o  o  o \n",
      "7 x o o x o x x o o o o  o  o  o \n"
     ]
    }
   ],
   "source": [
    "eacf(Y)"
   ]
  },
  {
   "cell_type": "markdown",
   "metadata": {},
   "source": [
    "The EACF suggests an ARMA(1, 1) process for the series."
   ]
  },
  {
   "cell_type": "markdown",
   "metadata": {},
   "source": [
    "**(d)**"
   ]
  },
  {
   "cell_type": "code",
   "execution_count": 47,
   "metadata": {
    "scrolled": true
   },
   "outputs": [],
   "source": [
    "source('armasubsets.R')"
   ]
  },
  {
   "cell_type": "code",
   "execution_count": 48,
   "metadata": {},
   "outputs": [
    {
     "data": {
      "image/png": "[encoded data removed]",
      "text/plain": [
       "plot without title"
      ]
     },
     "metadata": {
      "image/png": {
       "height": 480,
       "width": 720
      }
     },
     "output_type": "display_data"
    }
   ],
   "source": [
    "options(repr.plot.width=12, repr.plot.height=8)\n",
    "\n",
    "plot(armasubsets(y=Y, nar=7, nma=7, y.name='Robot', ar.method='ols'))"
   ]
  },
  {
   "cell_type": "markdown",
   "metadata": {},
   "source": [
    "The best subsets approach also suggests an ARMA(1, 1) model (looking at the darker cells in the topmost row / with best BIC)."
   ]
  }
 ],
 "metadata": {
  "kernelspec": {
   "display_name": "R",
   "language": "R",
   "name": "ir"
  },
  "language_info": {
   "codemirror_mode": "r",
   "file_extension": ".r",
   "mimetype": "text/x-r-source",
   "name": "R",
   "pygments_lexer": "r",
   "version": "4.0.0"
  }
 },
 "nbformat": 4,
 "nbformat_minor": 2
}
