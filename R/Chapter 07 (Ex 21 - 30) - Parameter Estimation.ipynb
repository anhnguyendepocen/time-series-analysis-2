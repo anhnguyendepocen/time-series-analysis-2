{
 "cells": [
  {
   "cell_type": "markdown",
   "metadata": {},
   "source": [
    "**Exercise 7.21**. Simulate an ARMA(1,1) series with $\\phi = 0.7$, $\\theta = −0.6$, $n = 48$ but with error terms from a t-distribution with 6 degrees of freedom.\n",
    "\n",
    "**(a)** Display the sample EACF of the series. Is an ARMA(1,1) model suggested?\n",
    "\n",
    "**(b)** Estimate $\\phi$ and $\\theta$ from the series and comment on the results.\n",
    "\n",
    "**(c)** Repeat parts (a) and (b) with a new simulated series under the same conditions."
   ]
  },
  {
   "cell_type": "markdown",
   "metadata": {},
   "source": [
    "**Solution**."
   ]
  },
  {
   "cell_type": "code",
   "execution_count": 1,
   "metadata": {},
   "outputs": [
    {
     "name": "stderr",
     "output_type": "stream",
     "text": [
      "Loading required package: ggplot2\n",
      "\n",
      "Loading required package: latex2exp\n",
      "\n"
     ]
    }
   ],
   "source": [
    "require(ggplot2)\n",
    "require(latex2exp)"
   ]
  },
  {
   "cell_type": "code",
   "execution_count": 2,
   "metadata": {},
   "outputs": [],
   "source": [
    "set.seed(10000)\n",
    "Y = arima.sim(model=list(phi=0.7, ma=0.6), n=48, innov=rt(48, 6))"
   ]
  },
  {
   "cell_type": "markdown",
   "metadata": {},
   "source": [
    "**(a)**"
   ]
  },
  {
   "cell_type": "code",
   "execution_count": 3,
   "metadata": {},
   "outputs": [],
   "source": [
    "source('eacf.R')"
   ]
  },
  {
   "cell_type": "code",
   "execution_count": 4,
   "metadata": {},
   "outputs": [
    {
     "name": "stdout",
     "output_type": "stream",
     "text": [
      "AR/MA\n",
      "  0 1 2 3 4 5 6 7 8 9 10 11 12 13\n",
      "0 x o o o o o o o o o o  o  o  o \n",
      "1 x o o o o o o o o o o  o  o  o \n",
      "2 o o o o o o o o o o o  o  o  o \n",
      "3 o x x o o o o o o o o  o  o  o \n",
      "4 x o o x o o o o o o o  o  o  o \n",
      "5 x o o o o o o o o o o  o  o  o \n",
      "6 x o o o o o o o o o o  o  o  o \n",
      "7 x o o o o o o o o o o  o  o  o \n"
     ]
    }
   ],
   "source": [
    "eacf(Y)"
   ]
  },
  {
   "cell_type": "markdown",
   "metadata": {},
   "source": [
    "No -- the EACF suggests a MA(1) model instead of an ARMA(1, 1) model."
   ]
  },
  {
   "cell_type": "markdown",
   "metadata": {},
   "source": [
    "**(b)**"
   ]
  },
  {
   "cell_type": "code",
   "execution_count": 5,
   "metadata": {},
   "outputs": [],
   "source": [
    "estimate.arma11.mom <- function(x) {\n",
    "    # estimate of phi:  r2 / r1\n",
    "    # estimate of theta: solve r1 = (1 - theta phi) (phi - theta) / (1 - 2 theta phi + theta^2)\n",
    "    #    (if it has real roots)\n",
    "    \n",
    "    r = acf(x, lag.max=2, plot=F)$acf[-1]\n",
    "    r1 = r[1]\n",
    "    r2 = r[2]\n",
    "    phi = r2 / r1\n",
    "    delta = (phi**2 - 1)*(phi**2 - 4 *phi *r1 + 4*r1**2 - 1)\n",
    "    if (delta < 0) {\n",
    "        theta = NA\n",
    "    } else {\n",
    "        theta = ((phi**2 - 2 * phi * r1 + 1) - sqrt(delta)) / (2 * (phi - r1))\n",
    "    }\n",
    "    return(c(phi, theta))\n",
    "}"
   ]
  },
  {
   "cell_type": "code",
   "execution_count": 6,
   "metadata": {},
   "outputs": [
    {
     "name": "stdout",
     "output_type": "stream",
     "text": [
      "[1] Method of moments estimate (phi):  -0.03963                          \n",
      "[1] Method of moments estimate (theta):  -0.3751                             \n",
      "[1] Maximum likelihood estimate (phi):  -0.37204                           \n",
      "[1] Maximum likelihood estimate (theta):  -0.75518                             \n"
     ]
    }
   ],
   "source": [
    "res = estimate.arma11.mom(Y)\n",
    "print(c('Method of moments estimate (phi): ', round(res[1], 5)), quote=F)\n",
    "print(c('Method of moments estimate (theta): ', round(res[2], 5)), quote=F)\n",
    "\n",
    "res = arima(Y, order=c(1,0,1), method='ML')$coef\n",
    "print(c('Maximum likelihood estimate (phi): ', round(res[[1]], 5)), quote=F)\n",
    "print(c('Maximum likelihood estimate (theta): ', round(-res[[2]], 5)), quote=F)"
   ]
  },
  {
   "cell_type": "markdown",
   "metadata": {},
   "source": [
    "Estimates are wildly different from the true values on both the method of moments and the maximum likelihood estimate."
   ]
  },
  {
   "cell_type": "markdown",
   "metadata": {},
   "source": [
    "**(c)**"
   ]
  },
  {
   "cell_type": "code",
   "execution_count": 7,
   "metadata": {},
   "outputs": [],
   "source": [
    "set.seed(10001)\n",
    "Y = arima.sim(model=list(phi=0.7, ma=0.6), n=48, innov=rt(48, 6))"
   ]
  },
  {
   "cell_type": "code",
   "execution_count": 8,
   "metadata": {},
   "outputs": [
    {
     "name": "stdout",
     "output_type": "stream",
     "text": [
      "AR/MA\n",
      "  0 1 2 3 4 5 6 7 8 9 10 11 12 13\n",
      "0 o o o o o o o o o o o  o  o  o \n",
      "1 x o o o o o o o o o o  o  o  o \n",
      "2 x o o o o o o o o o o  o  o  o \n",
      "3 o o o o o o o o o o o  o  o  o \n",
      "4 x o o o o o o o o o o  o  o  o \n",
      "5 x o o o o o o o o o o  o  o  o \n",
      "6 x x o o o o o o o o o  o  o  o \n",
      "7 o x o o o o o o o o o  o  o  o \n"
     ]
    }
   ],
   "source": [
    "eacf(Y)"
   ]
  },
  {
   "cell_type": "code",
   "execution_count": 9,
   "metadata": {},
   "outputs": [
    {
     "name": "stdout",
     "output_type": "stream",
     "text": [
      "[1] Method of moments estimate (phi):  -0.59111                          \n",
      "[1] Method of moments estimate (theta):  <NA>                                \n",
      "[1] Maximum likelihood estimate (phi):  -0.34182                           \n",
      "[1] Maximum likelihood estimate (theta):  0.6904                               \n"
     ]
    }
   ],
   "source": [
    "res = estimate.arma11.mom(Y)\n",
    "print(c('Method of moments estimate (phi): ', round(res[1], 5)), quote=F)\n",
    "print(c('Method of moments estimate (theta): ', round(res[2], 5)), quote=F)\n",
    "\n",
    "res = arima(Y, order=c(1,0,1), method='ML')$coef\n",
    "print(c('Maximum likelihood estimate (phi): ', round(res[[1]], 5)), quote=F)\n",
    "print(c('Maximum likelihood estimate (theta): ', round(res[[2]], 5)), quote=F)"
   ]
  },
  {
   "cell_type": "markdown",
   "metadata": {},
   "source": [
    "This time EACF suggests white noise, rather than an ARMA(1, 1) process.  The method of moments estimate even fails to provide an estimate for $\\theta$, while the estimates otherwise provided are all off the true values."
   ]
  },
  {
   "cell_type": "markdown",
   "metadata": {},
   "source": [
    "**Exercise 7.22**.  Simulate an AR(1) series with $\\phi = 0.6$, $n = 36$ but with error terms from a chi-square distribution with 6 degrees of freedom.\n",
    "\n",
    "**(a)** Display the sample PACF of the series. Is an AR(1) model suggested?\n",
    "\n",
    "**(b)** Estimate $\\phi$ from the series and comment on the results.\n",
    "\n",
    "**(c)** Repeat parts (a) and (b) with a new simulated series under the same conditions."
   ]
  },
  {
   "cell_type": "markdown",
   "metadata": {},
   "source": [
    "**Solution**."
   ]
  },
  {
   "cell_type": "code",
   "execution_count": 10,
   "metadata": {},
   "outputs": [],
   "source": [
    "set.seed(2000)\n",
    "Y = arima.sim(model=list(phi=0.6), n=36, innov=rchisq(36, 6))"
   ]
  },
  {
   "cell_type": "markdown",
   "metadata": {},
   "source": [
    "**(a)**"
   ]
  },
  {
   "cell_type": "code",
   "execution_count": 11,
   "metadata": {},
   "outputs": [],
   "source": [
    "plot_acf_with_bounds <- function(acf, lower, upper, title='ACF') {\n",
    "    max_k = length(acf)\n",
    "    k = seq(1, max_k)\n",
    "    \n",
    "    options(repr.plot.width=12, repr.plot.height=4)\n",
    "    p = ggplot() + geom_ribbon(aes(x=k, ymin=lower, ymax=upper), fill='blue', alpha=0.1) +\n",
    "        geom_point(aes(x=k, y=acf), color='blue')\n",
    "    for (i in 1:max_k) {\n",
    "        p = p + geom_line(aes_string(x=k[i], y=c(0, acf[i])), color='blue')\n",
    "    }\n",
    "    p + geom_line(aes(x=k, y=0), color='blue', linetype='dashed') +\n",
    "        xlab('Lag') + ylab(TeX('$\\\\rho_k$')) +\n",
    "        ggtitle(title) +\n",
    "        theme_bw() + theme(text = element_text(size=16), plot.title = element_text(hjust = 0.5))\n",
    "}"
   ]
  },
  {
   "cell_type": "code",
   "execution_count": 12,
   "metadata": {},
   "outputs": [
    {
     "data": {
      "image/png": "[encoded data removed]",
      "text/plain": [
       "plot without title"
      ]
     },
     "metadata": {
      "image/png": {
       "height": 240,
       "width": 720
      }
     },
     "output_type": "display_data"
    }
   ],
   "source": [
    "r = pacf(Y, lag.max=15, plot=F)$acf\n",
    "se = 1 / sqrt(length(Y))\n",
    "plot_acf_with_bounds(r, - 2 * se, + 2*se, title='Sample PACF for AR(1)')"
   ]
  },
  {
   "cell_type": "markdown",
   "metadata": {},
   "source": [
    "No -- PACF suggests a white noise process."
   ]
  },
  {
   "cell_type": "code",
   "execution_count": 13,
   "metadata": {},
   "outputs": [],
   "source": [
    "estimate.ar1.mom <- function(x) {\n",
    "    acf(x, lag.max=1, plot=F)$acf[2]\n",
    "}"
   ]
  },
  {
   "cell_type": "code",
   "execution_count": 14,
   "metadata": {
    "scrolled": true
   },
   "outputs": [
    {
     "name": "stdout",
     "output_type": "stream",
     "text": [
      "[1] Method of moments estimate:   0.13605                      \n",
      "[1] Maximum likelihood estimate:  0.13792                      \n"
     ]
    }
   ],
   "source": [
    "print(c('Method of moments estimate:  ', round(estimate.ar1.mom(Y), 5)), quote=F)\n",
    "print(c('Maximum likelihood estimate: ', round(arima(Y, order=c(1,0,0), method='ML')$coef[[1]], 5)), quote=F)"
   ]
  },
  {
   "cell_type": "markdown",
   "metadata": {},
   "source": [
    "Both estimates provide values far away from the true value."
   ]
  },
  {
   "cell_type": "markdown",
   "metadata": {},
   "source": [
    "**(c)**"
   ]
  },
  {
   "cell_type": "code",
   "execution_count": 15,
   "metadata": {},
   "outputs": [
    {
     "name": "stdout",
     "output_type": "stream",
     "text": [
      "[1] Method of moments estimate:   0.10424                      \n",
      "[1] Maximum likelihood estimate:  0.10154                      \n"
     ]
    },
    {
     "data": {
      "image/png": "[encoded data removed]",
      "text/plain": [
       "plot without title"
      ]
     },
     "metadata": {
      "image/png": {
       "height": 240,
       "width": 720
      }
     },
     "output_type": "display_data"
    }
   ],
   "source": [
    "set.seed(2001)\n",
    "Y = arima.sim(model=list(phi=0.6), n=36, innov=rchisq(36, 6))\n",
    "\n",
    "r = pacf(Y, lag.max=15, plot=F)$acf\n",
    "se = 1 / sqrt(length(Y))\n",
    "plot_acf_with_bounds(r, - 2 * se, + 2*se, title='Sample PACF for AR(1)')\n",
    "\n",
    "print(c('Method of moments estimate:  ', round(estimate.ar1.mom(Y), 5)), quote=F)\n",
    "print(c('Maximum likelihood estimate: ', round(arima(Y, order=c(1,0,0), method='ML')$coef[[1]], 5)), quote=F)"
   ]
  },
  {
   "cell_type": "markdown",
   "metadata": {},
   "source": [
    "PACF still suggests white noise, and the estimates are still very far away from the true value."
   ]
  },
  {
   "cell_type": "markdown",
   "metadata": {},
   "source": [
    "**Exercise 7.23**.  Simulate an MA(1) series with $\\theta = −0.8$, $n = 60$ but with error terms from a chi-square distribution with 7 degrees of freedom.\n",
    "\n",
    "**(a)** Display the sample ACF of the series. Is an MA(1) model suggested?\n",
    "\n",
    "**(b)** Estimate $\\theta$ from the series and comment on the results.\n",
    "\n",
    "**(c)** Repeat parts (a) and (b) with a new simulated series under the same conditions."
   ]
  },
  {
   "cell_type": "markdown",
   "metadata": {},
   "source": [
    "**Solution**."
   ]
  },
  {
   "cell_type": "code",
   "execution_count": 16,
   "metadata": {},
   "outputs": [],
   "source": [
    "set.seed(100000)\n",
    "Y = arima.sim(model=list(ma=0.8), n=60, innov=rchisq(60, 7))"
   ]
  },
  {
   "cell_type": "markdown",
   "metadata": {},
   "source": [
    "**(a)**"
   ]
  },
  {
   "cell_type": "code",
   "execution_count": 17,
   "metadata": {},
   "outputs": [
    {
     "data": {
      "image/png": "[encoded data removed]",
      "text/plain": [
       "plot without title"
      ]
     },
     "metadata": {
      "image/png": {
       "height": 240,
       "width": 720
      }
     },
     "output_type": "display_data"
    }
   ],
   "source": [
    "r = acf(Y, lag.max=15, plot=F)$acf[-1]\n",
    "se = 1 / sqrt(length(Y))\n",
    "plot_acf_with_bounds(r, - 2 * se, + 2*se, title='Sample ACF for MA(1)')"
   ]
  },
  {
   "cell_type": "markdown",
   "metadata": {},
   "source": [
    "ACF suggests an MA(1) process, though oscillations suggest investigating lags at 3, 4, 10, and 13."
   ]
  },
  {
   "cell_type": "markdown",
   "metadata": {},
   "source": [
    "**(b)**"
   ]
  },
  {
   "cell_type": "code",
   "execution_count": 18,
   "metadata": {},
   "outputs": [],
   "source": [
    "estimate.ma1.mom <- function(x) {\n",
    "    r = acf(x, lag.max=1, plot=F)$acf[2]; \n",
    "    if (abs(r) < 0.5) {\n",
    "        return((-1+sqrt(1-4*r^2))/(2*r)) \n",
    "    } else {\n",
    "        return(NA)\n",
    "    }\n",
    "}"
   ]
  },
  {
   "cell_type": "code",
   "execution_count": 19,
   "metadata": {},
   "outputs": [
    {
     "name": "stdout",
     "output_type": "stream",
     "text": [
      "[1] Method of moments estimate:   -0.65849                     \n",
      "[1] Maximum likelihood estimate:  -0.67828                     \n"
     ]
    }
   ],
   "source": [
    "print(c('Method of moments estimate:  ', round(estimate.ma1.mom(Y), 5)), quote=F)\n",
    "print(c('Maximum likelihood estimate: ', round(-arima(Y, order=c(0,0,1), method='ML')$coef[[1]], 5)), quote=F)"
   ]
  },
  {
   "cell_type": "markdown",
   "metadata": {},
   "source": [
    "Both estimates are somewhat close to the true value of $\\theta = -0.8$."
   ]
  },
  {
   "cell_type": "markdown",
   "metadata": {},
   "source": [
    "**(c)**"
   ]
  },
  {
   "cell_type": "code",
   "execution_count": 20,
   "metadata": {},
   "outputs": [
    {
     "name": "stdout",
     "output_type": "stream",
     "text": [
      "[1] Method of moments estimate:   -0.41975                     \n",
      "[1] Maximum likelihood estimate:  -0.75858                     \n"
     ]
    },
    {
     "data": {
      "image/png": "[encoded data removed]",
      "text/plain": [
       "plot without title"
      ]
     },
     "metadata": {
      "image/png": {
       "height": 240,
       "width": 720
      }
     },
     "output_type": "display_data"
    }
   ],
   "source": [
    "set.seed(100001)\n",
    "Y = arima.sim(model=list(ma=0.8), n=60, innov=rchisq(60, 7))\n",
    "\n",
    "r = acf(Y, lag.max=15, plot=F)$acf[-1]\n",
    "se = 1 / sqrt(length(Y))\n",
    "plot_acf_with_bounds(r, - 2 * se, + 2*se, title='Sample ACF for MA(1)')\n",
    "\n",
    "print(c('Method of moments estimate:  ', round(estimate.ma1.mom(Y), 5)), quote=F)\n",
    "print(c('Maximum likelihood estimate: ', round(-arima(Y, order=c(0,0,1), method='ML')$coef[[1]], 5)), quote=F)"
   ]
  },
  {
   "cell_type": "markdown",
   "metadata": {},
   "source": [
    "This time the ACF does suggest an MA(1) process, and the maximum likelihood estimate is closer to the true value of $\\theta = -0.8$."
   ]
  },
  {
   "cell_type": "markdown",
   "metadata": {},
   "source": [
    "**Exercise 7.24**.  Simulate an AR(2) series with $\\phi_1 = 1.0$, $\\phi_2 = −0.6$, $n = 48$ but with error terms from a chi-square distribution with 8 degrees of freedom.\n",
    "\n",
    "**(a)** Display the sample PACF of the series. Is an AR(2) model suggested?\n",
    "\n",
    "**(b)** Estimate $\\phi_1$ and $\\phi_2$ from the series and comment on the results.\n",
    "\n",
    "**(c)** Repeat parts (a) and (b) with a new simulated series under the same conditions"
   ]
  },
  {
   "cell_type": "markdown",
   "metadata": {},
   "source": [
    "**Solution**."
   ]
  },
  {
   "cell_type": "code",
   "execution_count": 21,
   "metadata": {},
   "outputs": [],
   "source": [
    "set.seed(2000)\n",
    "Y = arima.sim(model=list(ar=c(1, -0.6)), n=48, innov=rchisq(60, 8))"
   ]
  },
  {
   "cell_type": "markdown",
   "metadata": {},
   "source": [
    "**(a)**"
   ]
  },
  {
   "cell_type": "code",
   "execution_count": 22,
   "metadata": {},
   "outputs": [
    {
     "data": {
      "image/png": "[encoded data removed]",
      "text/plain": [
       "plot without title"
      ]
     },
     "metadata": {
      "image/png": {
       "height": 240,
       "width": 720
      }
     },
     "output_type": "display_data"
    }
   ],
   "source": [
    "r = pacf(Y, lag.max=15, plot=F)$acf\n",
    "se = 1 / sqrt(length(Y))\n",
    "plot_acf_with_bounds(r, - 2 * se, + 2*se, title='Sample PACF for AR(2)')"
   ]
  },
  {
   "cell_type": "markdown",
   "metadata": {},
   "source": [
    "Yes -- the PACF does suggest an AR(2) process."
   ]
  },
  {
   "cell_type": "markdown",
   "metadata": {},
   "source": [
    "**(b)**"
   ]
  },
  {
   "cell_type": "code",
   "execution_count": 23,
   "metadata": {},
   "outputs": [],
   "source": [
    "estimate.ar2.mom <- function(x) {\n",
    "    ar(x, aic=F, order.max=2, method='yw')[[2]]\n",
    "}"
   ]
  },
  {
   "cell_type": "code",
   "execution_count": 24,
   "metadata": {},
   "outputs": [
    {
     "name": "stdout",
     "output_type": "stream",
     "text": [
      "[1] Method of moments estimate (phi1):  0.91107                            \n",
      "[1] Method of moments estimate (phi2):  -0.39085                           \n",
      "[1] Maximum likelihood estimate (phi1):  0.98565                             \n",
      "[1] Maximum likelihood estimate (phi2):  -0.45385                            \n"
     ]
    }
   ],
   "source": [
    "phi = estimate.ar2.mom(Y)\n",
    "print(c('Method of moments estimate (phi1): ', round(phi[1], 5)), quote=F)\n",
    "print(c('Method of moments estimate (phi2): ', round(phi[2], 5)), quote=F)\n",
    "\n",
    "phi = arima(Y, order=c(2,0,0), method='ML')$coef[-3]\n",
    "print(c('Maximum likelihood estimate (phi1): ', round(phi[[1]], 5)), quote=F)\n",
    "print(c('Maximum likelihood estimate (phi2): ', round(phi[[2]], 5)), quote=F)"
   ]
  },
  {
   "cell_type": "markdown",
   "metadata": {},
   "source": [
    "The estimates for $\\phi_1$ are close to the true value of $\\phi_1 = 1$, while the estimates for $\\phi_2$ are not as close to the true value of $\\phi_2 = -0.6$."
   ]
  },
  {
   "cell_type": "markdown",
   "metadata": {},
   "source": [
    "**(c)**"
   ]
  },
  {
   "cell_type": "code",
   "execution_count": 25,
   "metadata": {},
   "outputs": [
    {
     "name": "stdout",
     "output_type": "stream",
     "text": [
      "[1] Method of moments estimate (phi1):  0.93905                            \n",
      "[1] Method of moments estimate (phi2):  -0.61723                           \n",
      "[1] Maximum likelihood estimate (phi1):  0.98172                             \n",
      "[1] Maximum likelihood estimate (phi2):  -0.64633                            \n"
     ]
    },
    {
     "data": {
      "image/png": "[encoded data removed]",
      "text/plain": [
       "plot without title"
      ]
     },
     "metadata": {
      "image/png": {
       "height": 240,
       "width": 720
      }
     },
     "output_type": "display_data"
    }
   ],
   "source": [
    "set.seed(2001)\n",
    "Y = arima.sim(model=list(ar=c(1, -0.6)), n=48, innov=rchisq(60, 8))\n",
    "\n",
    "r = pacf(Y, lag.max=15, plot=F)$acf\n",
    "se = 1 / sqrt(length(Y))\n",
    "plot_acf_with_bounds(r, - 2 * se, + 2*se, title='Sample PACF for AR(2)')\n",
    "\n",
    "phi = estimate.ar2.mom(Y)\n",
    "print(c('Method of moments estimate (phi1): ', round(phi[1], 5)), quote=F)\n",
    "print(c('Method of moments estimate (phi2): ', round(phi[2], 5)), quote=F)\n",
    "\n",
    "phi = arima(Y, order=c(2,0,0), method='ML')$coef[-3]\n",
    "print(c('Maximum likelihood estimate (phi1): ', round(phi[[1]], 5)), quote=F)\n",
    "print(c('Maximum likelihood estimate (phi2): ', round(phi[[2]], 5)), quote=F)"
   ]
  },
  {
   "cell_type": "markdown",
   "metadata": {},
   "source": [
    "The PACF again indicates an AR(2) process.\n",
    "\n",
    "The estimates are this time closer to the true value, with the method of moments providing a better estimate for $\\phi_2$ and the maximum likelihood providing a better estimate for $\\phi_1$."
   ]
  },
  {
   "cell_type": "markdown",
   "metadata": {},
   "source": [
    "**Exercise 7.25**.  Simulate an ARMA(1,1) series with $\\phi = 0.7$, $\\theta = −0.6$, $n = 48$ but with error terms from a chi-square distribution with 9 degrees of freedom.\n",
    "\n",
    "**(a)** Display the sample EACF of the series. Is an ARMA(1,1) model suggested?\n",
    "\n",
    "**(b)** Estimate $\\phi$ and $\\theta$ from the series and comment on the results.\n",
    "\n",
    "**(c)** Repeat parts (a) and (b) with a new series under the same conditions."
   ]
  },
  {
   "cell_type": "markdown",
   "metadata": {},
   "source": [
    "**Solution**."
   ]
  },
  {
   "cell_type": "code",
   "execution_count": 26,
   "metadata": {},
   "outputs": [],
   "source": [
    "set.seed(10000)\n",
    "Y = arima.sim(model=list(phi=0.7, ma=0.6), n=48, innov=rchisq(48, 9))"
   ]
  },
  {
   "cell_type": "markdown",
   "metadata": {},
   "source": [
    "**(a)**"
   ]
  },
  {
   "cell_type": "code",
   "execution_count": 27,
   "metadata": {},
   "outputs": [
    {
     "name": "stdout",
     "output_type": "stream",
     "text": [
      "AR/MA\n",
      "  0 1 2 3 4 5 6 7 8 9 10 11 12 13\n",
      "0 x x x o o o o o o o o  o  o  o \n",
      "1 x x x o o o o o o o o  o  o  o \n",
      "2 o o o o o o o o o o o  o  o  o \n",
      "3 o o o o o o o o o o o  o  o  o \n",
      "4 o x o o o o o o o o o  o  o  o \n",
      "5 o x o o o o o o o o o  o  o  o \n",
      "6 x o o o o o o o o o o  o  o  o \n",
      "7 x o o o o o o o o o o  o  o  o \n"
     ]
    }
   ],
   "source": [
    "eacf(Y)"
   ]
  },
  {
   "cell_type": "markdown",
   "metadata": {},
   "source": [
    "No -- EACF suggests an AR(2) model instead of an ARMA(1, 1) model."
   ]
  },
  {
   "cell_type": "markdown",
   "metadata": {},
   "source": [
    "**(b)**"
   ]
  },
  {
   "cell_type": "code",
   "execution_count": 28,
   "metadata": {},
   "outputs": [
    {
     "name": "stdout",
     "output_type": "stream",
     "text": [
      "[1] Method of moments estimate (phi):  -1.12766                          \n",
      "[1] Method of moments estimate (theta):  -0.77289                            \n",
      "[1] Maximum likelihood estimate (phi):  -0.13138                           \n",
      "[1] Maximum likelihood estimate (theta):  -0.72356                             \n"
     ]
    }
   ],
   "source": [
    "res = estimate.arma11.mom(Y)\n",
    "print(c('Method of moments estimate (phi): ', round(res[1], 5)), quote=F)\n",
    "print(c('Method of moments estimate (theta): ', round(res[2], 5)), quote=F)\n",
    "\n",
    "res = arima(Y, order=c(1,0,1), method='ML')$coef\n",
    "print(c('Maximum likelihood estimate (phi): ', round(res[[1]], 5)), quote=F)\n",
    "print(c('Maximum likelihood estimate (theta): ', round(-res[[2]], 5)), quote=F)"
   ]
  },
  {
   "cell_type": "markdown",
   "metadata": {},
   "source": [
    "Estimates on both methods seem to be fairly off the true value for $\\phi$, but to provide a reasonable value for $\\theta$."
   ]
  },
  {
   "cell_type": "markdown",
   "metadata": {},
   "source": [
    "**(c)**"
   ]
  },
  {
   "cell_type": "code",
   "execution_count": 29,
   "metadata": {},
   "outputs": [
    {
     "name": "stdout",
     "output_type": "stream",
     "text": [
      "AR/MA\n",
      "  0 1 2 3 4 5 6 7 8 9 10 11 12 13\n",
      "0 x o o o o o o o o o o  o  o  o \n",
      "1 x x o o o o o o o o o  o  o  o \n",
      "2 x o o o o o o o o o o  o  o  o \n",
      "3 o o o o o o o o o o o  o  o  o \n",
      "4 o x x o o o o o o o o  o  o  o \n",
      "5 o x x o o o o o o o o  o  o  o \n",
      "6 o o x o o o o o o o o  o  o  o \n",
      "7 x o x o o o o o o o o  o  o  o \n",
      "[1] Method of moments estimate (phi):  0.04604                           \n",
      "[1] Method of moments estimate (theta):  -0.55119                            \n",
      "[1] Maximum likelihood estimate (phi):  0.15409                            \n",
      "[1] Maximum likelihood estimate (theta):  -0.50511                             \n"
     ]
    }
   ],
   "source": [
    "set.seed(10001)\n",
    "Y = arima.sim(model=list(phi=0.7, ma=0.6), n=48, innov=rchisq(48, 9))\n",
    "\n",
    "eacf(Y)\n",
    "\n",
    "res = estimate.arma11.mom(Y)\n",
    "print(c('Method of moments estimate (phi): ', round(res[1], 5)), quote=F)\n",
    "print(c('Method of moments estimate (theta): ', round(res[2], 5)), quote=F)\n",
    "\n",
    "res = arima(Y, order=c(1,0,1), method='ML')$coef\n",
    "print(c('Maximum likelihood estimate (phi): ', round(res[[1]], 5)), quote=F)\n",
    "print(c('Maximum likelihood estimate (theta): ', round(-res[[2]], 5)), quote=F)"
   ]
  },
  {
   "cell_type": "markdown",
   "metadata": {},
   "source": [
    "Again EACF suggests a MA(1) model.\n",
    "\n",
    "Estimates for $\\phi$ are very far from the true value, while thee estimates for $\\theta$ are not too far from the true value."
   ]
  },
  {
   "cell_type": "markdown",
   "metadata": {},
   "source": [
    "**Exercise 7.26**.  Consider the AR(1) model specified for the color property time series displayed in Exhibit 1.3 on page 3.  The data are in the file named `color`.\n",
    "\n",
    "**(a)** Find the method-of-moments estimate of $\\phi$.\n",
    "\n",
    "**(b)** Find the maximum likelihood estimate of $\\phi$ and compare it with part (a)."
   ]
  },
  {
   "cell_type": "markdown",
   "metadata": {},
   "source": [
    "**Solution**."
   ]
  },
  {
   "cell_type": "code",
   "execution_count": 30,
   "metadata": {},
   "outputs": [],
   "source": [
    "Y <- read.table(\"../data/color.dat\", header=TRUE)[['color']]"
   ]
  },
  {
   "cell_type": "markdown",
   "metadata": {},
   "source": [
    "**(a)**"
   ]
  },
  {
   "cell_type": "code",
   "execution_count": 31,
   "metadata": {},
   "outputs": [
    {
     "name": "stdout",
     "output_type": "stream",
     "text": [
      "[1] Method of moments estimate:   0.52821                      \n"
     ]
    }
   ],
   "source": [
    "print(c('Method of moments estimate:  ', round(estimate.ar1.mom(Y), 5)), quote=F)"
   ]
  },
  {
   "cell_type": "markdown",
   "metadata": {},
   "source": [
    "**(b)**"
   ]
  },
  {
   "cell_type": "code",
   "execution_count": 32,
   "metadata": {},
   "outputs": [
    {
     "name": "stdout",
     "output_type": "stream",
     "text": [
      "[1] Maximum likelihood estimate:  0.57055                      \n"
     ]
    }
   ],
   "source": [
    "print(c('Maximum likelihood estimate: ', round(arima(Y, order=c(1,0,0), method='ML')$coef[[1]], 5)), quote=F)"
   ]
  },
  {
   "cell_type": "markdown",
   "metadata": {},
   "source": [
    "The estimates are within 10% of each other."
   ]
  },
  {
   "cell_type": "markdown",
   "metadata": {},
   "source": [
    "**Exercise 7.27**.  Exhibit 6.31 on page 139 suggested specifying either an AR(1) or possibly an AR(4) model for the difference of the logarithms of the oil price series.  The data are in the file named `oil.price`.\n",
    "\n",
    "**(a)** Estimate both of these models using maximum likelihood and compare it with the results using the AIC criteria.\n",
    "\n",
    "**(b)** Exhibit 6.32 on page 140 suggested specifying an MA(1) model for the difference of the logs. Estimate this model by maximum likelihood and compare to your results in part (a)."
   ]
  },
  {
   "cell_type": "markdown",
   "metadata": {},
   "source": [
    "**Solution**."
   ]
  },
  {
   "cell_type": "code",
   "execution_count": 33,
   "metadata": {},
   "outputs": [],
   "source": [
    "Y <- read.table(\"../data/oil.price.dat\", header=TRUE)[['oil.price']]\n",
    "Y <- diff(log(Y))"
   ]
  },
  {
   "cell_type": "markdown",
   "metadata": {},
   "source": [
    "**(a)**"
   ]
  },
  {
   "cell_type": "code",
   "execution_count": 34,
   "metadata": {},
   "outputs": [
    {
     "name": "stdout",
     "output_type": "stream",
     "text": [
      "[1] AR(1) AIC:  -511.434   \n",
      "[1] AR(4) AIC:  -512.321   \n"
     ]
    }
   ],
   "source": [
    "model.ar1 = arima(Y, order=c(1,0,0), method='ML')\n",
    "model.ar4 = arima(Y, order=c(4,0,0), method='ML')\n",
    "\n",
    "print(c('AR(1) AIC: ', round(model.ar1$aic, 3)), quote=F)\n",
    "print(c('AR(4) AIC: ', round(model.ar4$aic, 3)), quote=F)"
   ]
  },
  {
   "cell_type": "markdown",
   "metadata": {},
   "source": [
    "The models have almost identical AIC -- but the smallest one is for the AR(4) model."
   ]
  },
  {
   "cell_type": "markdown",
   "metadata": {},
   "source": [
    "**(b)**"
   ]
  },
  {
   "cell_type": "code",
   "execution_count": 35,
   "metadata": {},
   "outputs": [
    {
     "name": "stdout",
     "output_type": "stream",
     "text": [
      "[1] MA(1) AIC:  -514.936   \n"
     ]
    }
   ],
   "source": [
    "model.ma1 = arima(Y, order=c(0,0,1), method='ML')\n",
    "\n",
    "print(c('MA(1) AIC: ', round(model.ma1$aic, 3)), quote=F)"
   ]
  },
  {
   "cell_type": "markdown",
   "metadata": {},
   "source": [
    "This model has lower AIC than both the AR models -- we should select this model according to this criteria."
   ]
  },
  {
   "cell_type": "markdown",
   "metadata": {},
   "source": [
    "**Exercise 7.28**.  The data file named `deere3` contains 57 consecutive values from a complex machine tool at Deere & Co.  The values given are deviations from a target value in units of ten millionths of an inch.  The process employs a control mechanism\n",
    "that resets some of the parameters of the machine tool depending on the magnitude of deviation from target of the last item produced.\n",
    "\n",
    "**(a)** Estimate the parameters of an AR(1) model for this series.\n",
    "\n",
    "**(b)** Estimate the parameters of an AR(2) model for this series and compare the results with those in part (a)."
   ]
  },
  {
   "cell_type": "markdown",
   "metadata": {},
   "source": [
    "**Solution**."
   ]
  },
  {
   "cell_type": "code",
   "execution_count": 36,
   "metadata": {},
   "outputs": [],
   "source": [
    "Y <- read.table(\"../data/deere3.dat\", header=TRUE)[['deere3']]"
   ]
  },
  {
   "cell_type": "markdown",
   "metadata": {},
   "source": [
    "**(a)**"
   ]
  },
  {
   "cell_type": "code",
   "execution_count": 37,
   "metadata": {},
   "outputs": [
    {
     "name": "stdout",
     "output_type": "stream",
     "text": [
      "\n",
      "Call:\n",
      "arima(x = Y, order = c(1, 0, 0), method = \"ML\")\n",
      "\n",
      "Coefficients:\n",
      "         ar1  intercept\n",
      "      0.5256   124.3524\n",
      "s.e.  0.1108   394.2320\n",
      "\n",
      "sigma^2 estimated as 2069354:  log likelihood = -495.51,  aic = 997.02\n"
     ]
    }
   ],
   "source": [
    "model.ar1 = arima(Y, order=c(1,0,0), method='ML')\n",
    "print(model.ar1)"
   ]
  },
  {
   "cell_type": "markdown",
   "metadata": {},
   "source": [
    "**(b)**"
   ]
  },
  {
   "cell_type": "code",
   "execution_count": 38,
   "metadata": {},
   "outputs": [
    {
     "name": "stdout",
     "output_type": "stream",
     "text": [
      "\n",
      "Call:\n",
      "arima(x = Y, order = c(2, 0, 0), method = \"ML\")\n",
      "\n",
      "Coefficients:\n",
      "         ar1     ar2  intercept\n",
      "      0.5211  0.0083   123.2418\n",
      "s.e.  0.1310  0.1315   397.5995\n",
      "\n",
      "sigma^2 estimated as 2069209:  log likelihood = -495.51,  aic = 999.01\n"
     ]
    }
   ],
   "source": [
    "model.ar2 = arima(Y, order=c(2,0,0), method='ML')\n",
    "print(model.ar2)"
   ]
  },
  {
   "cell_type": "markdown",
   "metadata": {},
   "source": [
    "The AR(1) model has lower AIC, and should be preferred."
   ]
  },
  {
   "cell_type": "markdown",
   "metadata": {},
   "source": [
    "**Exercise 7.29**.  The data file named `robot` contains a time series obtained from an industrial robot.  The robot was put through a sequence of maneuvers, and the distance from a desired ending point was recorded in inches. This was repeated 324 times to form the time series.\n",
    "\n",
    "**(a)** Estimate the parameters of an AR(1) model for these data.\n",
    "\n",
    "**(b)** Estimate the parameters of an IMA(1,1) model for these data.\n",
    "\n",
    "**(c)** Compare the results from parts (a) and (b) in terms of AIC."
   ]
  },
  {
   "cell_type": "markdown",
   "metadata": {},
   "source": [
    "**Solution**."
   ]
  },
  {
   "cell_type": "code",
   "execution_count": 39,
   "metadata": {},
   "outputs": [],
   "source": [
    "Y <- read.table(\"../data/robot.dat\", header=TRUE)[['robot']]"
   ]
  },
  {
   "cell_type": "markdown",
   "metadata": {},
   "source": [
    "**(a)**"
   ]
  },
  {
   "cell_type": "code",
   "execution_count": 40,
   "metadata": {},
   "outputs": [
    {
     "name": "stdout",
     "output_type": "stream",
     "text": [
      "\n",
      "Call:\n",
      "arima(x = Y, order = c(1, 0, 0), method = \"ML\")\n",
      "\n",
      "Coefficients:\n",
      "         ar1  intercept\n",
      "      0.3076     0.0015\n",
      "s.e.  0.0528     0.0002\n",
      "\n",
      "sigma^2 estimated as 6.482e-06:  log likelihood = 1475.54,  aic = -2945.08\n"
     ]
    }
   ],
   "source": [
    "model.ar1 = arima(Y, order=c(1,0,0), method='ML')\n",
    "print(model.ar1)"
   ]
  },
  {
   "cell_type": "markdown",
   "metadata": {},
   "source": [
    "**(b)**"
   ]
  },
  {
   "cell_type": "code",
   "execution_count": 41,
   "metadata": {},
   "outputs": [
    {
     "name": "stdout",
     "output_type": "stream",
     "text": [
      "\n",
      "Call:\n",
      "arima(x = Y, order = c(0, 1, 1), method = \"ML\")\n",
      "\n",
      "Coefficients:\n",
      "          ma1\n",
      "      -0.8713\n",
      "s.e.   0.0389\n",
      "\n",
      "sigma^2 estimated as 6.069e-06:  log likelihood = 1480.95,  aic = -2957.9\n"
     ]
    }
   ],
   "source": [
    "model.ima11 = arima(Y, order=c(0,1,1), method='ML')\n",
    "print(model.ima11)"
   ]
  },
  {
   "cell_type": "markdown",
   "metadata": {},
   "source": [
    "**(c)**  The IMA(1, 1) model has lower AIC, and should be selected between these two."
   ]
  },
  {
   "cell_type": "markdown",
   "metadata": {},
   "source": [
    "**Exercise 7.30**.  The data file named `days` contains accounting data from the Winegard Co. of Burlington, Iowa. The data are the number of days until Winegard receives payment for 130 consecutive orders from a particular distributor of Winegard products.  (The name of the distributor must remain anonymous for confidentiality reasons.)  The time series contains outliers that are quite obvious in the time series plot.\n",
    "\n",
    "**(a)** Replace each of the unusual values with a value of 35 days, a much more typical value, and then estimate the parameters of an MA(2) model.\n",
    "\n",
    "**(b)** Now assume an MA(5) model and estimate the parameters. Compare these results with those obtained in part (a)."
   ]
  },
  {
   "cell_type": "markdown",
   "metadata": {},
   "source": [
    "**Solution**."
   ]
  },
  {
   "cell_type": "code",
   "execution_count": 42,
   "metadata": {},
   "outputs": [],
   "source": [
    "Y <- read.table(\"../data/days.dat\", header=TRUE)[['days']]"
   ]
  },
  {
   "cell_type": "markdown",
   "metadata": {},
   "source": [
    "**(a)**"
   ]
  },
  {
   "cell_type": "code",
   "execution_count": 43,
   "metadata": {},
   "outputs": [
    {
     "name": "stdout",
     "output_type": "stream",
     "text": [
      "\n",
      "Call:\n",
      "arima(x = Y, order = c(0, 0, 2), method = \"ML\")\n",
      "\n",
      "Coefficients:\n",
      "         ma1     ma2  intercept\n",
      "      0.1893  0.1958    28.1957\n",
      "s.e.  0.0894  0.0740     0.6980\n",
      "\n",
      "sigma^2 estimated as 33.22:  log likelihood = -412.23,  aic = 832.45\n"
     ]
    }
   ],
   "source": [
    "Y[Y > 48] = 35\n",
    "\n",
    "model.ma2 = arima(Y, order=c(0,0,2), method='ML')\n",
    "print(model.ma2)"
   ]
  },
  {
   "cell_type": "markdown",
   "metadata": {},
   "source": [
    "**(b)**"
   ]
  },
  {
   "cell_type": "code",
   "execution_count": 44,
   "metadata": {},
   "outputs": [
    {
     "name": "stdout",
     "output_type": "stream",
     "text": [
      "\n",
      "Call:\n",
      "arima(x = Y, order = c(0, 0, 5), method = \"ML\")\n",
      "\n",
      "Coefficients:\n",
      "         ma1     ma2     ma3     ma4      ma5  intercept\n",
      "      0.1844  0.2680  0.0305  0.1717  -0.0859    28.2351\n",
      "s.e.  0.0898  0.0929  0.1033  0.0850   0.0932     0.7755\n",
      "\n",
      "sigma^2 estimated as 32.02:  log likelihood = -409.93,  aic = 833.86\n"
     ]
    }
   ],
   "source": [
    "model.ma5 = arima(Y, order=c(0,0,5), method='ML')\n",
    "print(model.ma5)"
   ]
  },
  {
   "cell_type": "markdown",
   "metadata": {},
   "source": [
    "The MA(5) model has have higher AIC, and should be selected compared to the MA(2) model."
   ]
  }
 ],
 "metadata": {
  "kernelspec": {
   "display_name": "R",
   "language": "R",
   "name": "ir"
  },
  "language_info": {
   "codemirror_mode": "r",
   "file_extension": ".r",
   "mimetype": "text/x-r-source",
   "name": "R",
   "pygments_lexer": "r",
   "version": "4.0.0"
  }
 },
 "nbformat": 4,
 "nbformat_minor": 2
}
