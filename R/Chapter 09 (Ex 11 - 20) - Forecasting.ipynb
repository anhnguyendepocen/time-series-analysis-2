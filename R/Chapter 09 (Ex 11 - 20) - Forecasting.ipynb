{
 "cells": [
  {
   "cell_type": "markdown",
   "metadata": {},
   "source": [
    "**Exercise 9.11**.  Simulate an MA(1) process with $\\theta = 0.6$ and $\\mu = 100$.  Simulate 36 values but set aside the last 4 values to compare forecasts to actual values.\n",
    "\n",
    "**(a)** Using the first 32 values of the series, find the values for the maximum likelihood estimates of the $\\theta$ and $\\mu$.\n",
    "\n",
    "**(b)** Using the estimated model, forecast the next four values of the series. Plot the series together with the four forecasts. Place a horizontal line at the estimate of the process mean.\n",
    "\n",
    "**(c)** Compare the four forecasts with the actual values that you set aside.\n",
    "\n",
    "**(d)** Plot the forecasts together with 95% forecast limits. Do the actual values fall within the forecast limits?\n",
    "\n",
    "**(e)** Repeat parts (a) through (d) with a new simulated series using the same values of the parameters and same sample size."
   ]
  },
  {
   "cell_type": "markdown",
   "metadata": {},
   "source": [
    "**Solution**."
   ]
  },
  {
   "cell_type": "code",
   "execution_count": 1,
   "metadata": {},
   "outputs": [
    {
     "name": "stderr",
     "output_type": "stream",
     "text": [
      "Loading required package: ggplot2\n",
      "\n"
     ]
    }
   ],
   "source": [
    "require(ggplot2)"
   ]
  },
  {
   "cell_type": "code",
   "execution_count": 2,
   "metadata": {},
   "outputs": [],
   "source": [
    "set.seed(2000)\n",
    "Y = arima.sim(model=list(ma=c(-0.6)), n=36) + 100"
   ]
  },
  {
   "cell_type": "markdown",
   "metadata": {},
   "source": [
    "**(a)**"
   ]
  },
  {
   "cell_type": "code",
   "execution_count": 3,
   "metadata": {},
   "outputs": [
    {
     "name": "stdout",
     "output_type": "stream",
     "text": [
      "\n",
      "Call:\n",
      "arima(x = Y[1:32], order = c(0, 0, 1), method = \"ML\")\n",
      "\n",
      "Coefficients:\n",
      "          ma1  intercept\n",
      "      -0.4871   100.0268\n",
      "s.e.   0.1812     0.1029\n",
      "\n",
      "sigma^2 estimated as 1.212:  log likelihood = -48.62,  aic = 103.23\n"
     ]
    }
   ],
   "source": [
    "model = arima(Y[1:32], order=c(0, 0, 1), method='ML')\n",
    "print(model)"
   ]
  },
  {
   "cell_type": "markdown",
   "metadata": {},
   "source": [
    "**(b)**"
   ]
  },
  {
   "cell_type": "code",
   "execution_count": 4,
   "metadata": {},
   "outputs": [],
   "source": [
    "pred = predict(model, n.ahead=4, se.fit=TRUE)\n",
    "Y_pred = pred$pred\n",
    "se = pred$se\n",
    "z = qnorm(0.975)"
   ]
  },
  {
   "cell_type": "code",
   "execution_count": 5,
   "metadata": {},
   "outputs": [
    {
     "data": {
      "image/png": "[encoded data removed]",
      "text/plain": [
       "plot without title"
      ]
     },
     "metadata": {
      "image/png": {
       "height": 240,
       "width": 720
      }
     },
     "output_type": "display_data"
    }
   ],
   "source": [
    "options(repr.plot.width=12, repr.plot.height=4)\n",
    "\n",
    "m = model$nobs\n",
    "n = length(Y)\n",
    "ggplot() + \n",
    "  geom_line(aes(x=1:n, y=mean(Y)), linetype='dashed') +\n",
    "  geom_line(aes(x=1:n, y=c(Y)), color='blue') +\n",
    "  geom_point(aes(x=1:n, y=c(Y)), color='blue') +\n",
    "  geom_line(aes(x=(m+1):n, y=Y_pred), color='orange') +\n",
    "  geom_point(aes(x=(m+1):n, y=Y_pred), color='orange') +\n",
    "  geom_ribbon(aes(\n",
    "      x=(m+1):n, \n",
    "      ymin=Y_pred - z * se, \n",
    "      ymax=Y_pred + z * se\n",
    "  ), fill='orange', alpha=0.2) + \n",
    "  xlab('') + ylab('') +\n",
    "  theme_bw() + theme(text = element_text(size=16))"
   ]
  },
  {
   "cell_type": "markdown",
   "metadata": {},
   "source": [
    "**(c)** The actual values are within the predicted values -- also note that the predictions are just the process mean beyond the first lag."
   ]
  },
  {
   "cell_type": "markdown",
   "metadata": {},
   "source": [
    "**(d)**  See (b)."
   ]
  },
  {
   "cell_type": "markdown",
   "metadata": {},
   "source": [
    "**(e)**"
   ]
  },
  {
   "cell_type": "code",
   "execution_count": 6,
   "metadata": {},
   "outputs": [
    {
     "name": "stdout",
     "output_type": "stream",
     "text": [
      "\n",
      "Call:\n",
      "arima(x = Y[1:32], order = c(0, 0, 1), method = \"ML\")\n",
      "\n",
      "Coefficients:\n",
      "          ma1  intercept\n",
      "      -1.0000   100.0348\n",
      "s.e.   0.1183     0.0115\n",
      "\n",
      "sigma^2 estimated as 0.3966:  log likelihood = -32.36,  aic = 70.72\n"
     ]
    },
    {
     "data": {
      "image/png": "[encoded data removed]",
      "text/plain": [
       "plot without title"
      ]
     },
     "metadata": {
      "image/png": {
       "height": 240,
       "width": 720
      }
     },
     "output_type": "display_data"
    }
   ],
   "source": [
    "set.seed(2001)\n",
    "Y = arima.sim(model=list(ma=c(-0.6)), n=36) + 100\n",
    "\n",
    "model = arima(Y[1:32], order=c(0, 0, 1), method='ML')\n",
    "print(model)\n",
    "\n",
    "pred = predict(model, n.ahead=4, se.fit=TRUE)\n",
    "Y_pred = pred$pred\n",
    "se = pred$se\n",
    "z = qnorm(0.975)\n",
    "\n",
    "options(repr.plot.width=12, repr.plot.height=4)\n",
    "\n",
    "m = model$nobs\n",
    "n = length(Y)\n",
    "ggplot() + \n",
    "  geom_line(aes(x=1:n, y=mean(Y)), linetype='dashed') +\n",
    "  geom_line(aes(x=1:n, y=c(Y)), color='blue') +\n",
    "  geom_point(aes(x=1:n, y=c(Y)), color='blue') +\n",
    "  geom_line(aes(x=(m+1):n, y=Y_pred), color='orange') +\n",
    "  geom_point(aes(x=(m+1):n, y=Y_pred), color='orange') +\n",
    "  geom_ribbon(aes(\n",
    "      x=(m+1):n, \n",
    "      ymin=Y_pred - z * se, \n",
    "      ymax=Y_pred + z * se\n",
    "  ), fill='orange', alpha=0.2) + \n",
    "  xlab('') + ylab('') +\n",
    "  theme_bw() + theme(text = element_text(size=16))"
   ]
  },
  {
   "cell_type": "markdown",
   "metadata": {},
   "source": [
    "Some of the values seem to be outside of the confidence range -- and they also seem to disagree with most of the process."
   ]
  },
  {
   "cell_type": "markdown",
   "metadata": {},
   "source": [
    "**Exercise 9.12**.  Simulate an MA(2) process with $\\theta_1 = 1$, $\\theta_2 = −0.6$, and $\\mu = 100$.  Simulate 36 values but set aside the last 4 values with compare forecasts to actual values.\n",
    "\n",
    "**(a)** Using the first 32 values of the series, find the values for the maximum likelihood estimates of the $\\theta$'s and $\\mu$.\n",
    "\n",
    "**(b)** Using the estimated model, forecast the next four values of the series.  Plot the series together with the four forecasts. Place a horizontal line at the estimate of the process mean.\n",
    "\n",
    "**(c)** What is special about the forecasts at lead times 3 and 4?\n",
    "\n",
    "**(d)** Compare the four forecasts with the actual values that you set aside.\n",
    "\n",
    "**(e)** Plot the forecasts together with 95% forecast limits. Do the actual values fall within the forecast limits?\n",
    "\n",
    "**(f)** Repeat parts (a) through (e) with a new simulated series using the same values\n",
    "of the parameters and same sample size."
   ]
  },
  {
   "cell_type": "markdown",
   "metadata": {},
   "source": [
    "**Solution**."
   ]
  },
  {
   "cell_type": "code",
   "execution_count": 7,
   "metadata": {},
   "outputs": [],
   "source": [
    "set.seed(2000)\n",
    "Y = arima.sim(model=list(ma=c(-1, 0.6)), n=36) + 100"
   ]
  },
  {
   "cell_type": "markdown",
   "metadata": {},
   "source": [
    "**(a)**"
   ]
  },
  {
   "cell_type": "code",
   "execution_count": 8,
   "metadata": {},
   "outputs": [
    {
     "name": "stdout",
     "output_type": "stream",
     "text": [
      "\n",
      "Call:\n",
      "arima(x = Y[1:32], order = c(0, 0, 2), method = \"ML\")\n",
      "\n",
      "Coefficients:\n",
      "          ma1     ma2  intercept\n",
      "      -0.9917  0.6122    99.9926\n",
      "s.e.   0.1996  0.1752     0.1136\n",
      "\n",
      "sigma^2 estimated as 1.085:  log likelihood = -47.42,  aic = 102.83\n"
     ]
    }
   ],
   "source": [
    "model = arima(Y[1:32], order=c(0, 0, 2), method='ML')\n",
    "print(model)"
   ]
  },
  {
   "cell_type": "markdown",
   "metadata": {},
   "source": [
    "**(b)**"
   ]
  },
  {
   "cell_type": "code",
   "execution_count": 9,
   "metadata": {},
   "outputs": [],
   "source": [
    "pred = predict(model, n.ahead=4, se.fit=TRUE)\n",
    "Y_pred = pred$pred\n",
    "se = pred$se\n",
    "z = qnorm(0.975)"
   ]
  },
  {
   "cell_type": "code",
   "execution_count": 10,
   "metadata": {},
   "outputs": [
    {
     "data": {
      "image/png": "[encoded data removed]",
      "text/plain": [
       "plot without title"
      ]
     },
     "metadata": {
      "image/png": {
       "height": 240,
       "width": 720
      }
     },
     "output_type": "display_data"
    }
   ],
   "source": [
    "options(repr.plot.width=12, repr.plot.height=4)\n",
    "\n",
    "m = model$nobs\n",
    "n = length(Y)\n",
    "ggplot() + \n",
    "  geom_line(aes(x=1:n, y=mean(Y)), linetype='dashed') +\n",
    "  geom_line(aes(x=1:n, y=c(Y)), color='blue') +\n",
    "  geom_point(aes(x=1:n, y=c(Y)), color='blue') +\n",
    "  geom_line(aes(x=(m+1):n, y=Y_pred), color='orange') +\n",
    "  geom_point(aes(x=(m+1):n, y=Y_pred), color='orange') +\n",
    "  geom_ribbon(aes(\n",
    "      x=(m+1):n, \n",
    "      ymin=Y_pred - z * se, \n",
    "      ymax=Y_pred + z * se\n",
    "  ), fill='orange', alpha=0.2) + \n",
    "  xlab('') + ylab('') +\n",
    "  theme_bw() + theme(text = element_text(size=16))"
   ]
  },
  {
   "cell_type": "markdown",
   "metadata": {},
   "source": [
    "**(c, d, e)** The values are within the confidence interval.  The predicted values past lag 2 are the process mean."
   ]
  },
  {
   "cell_type": "markdown",
   "metadata": {},
   "source": [
    "**(f)**"
   ]
  },
  {
   "cell_type": "code",
   "execution_count": 11,
   "metadata": {},
   "outputs": [
    {
     "name": "stdout",
     "output_type": "stream",
     "text": [
      "\n",
      "Call:\n",
      "arima(x = Y[1:32], order = c(0, 0, 2), method = \"ML\")\n",
      "\n",
      "Coefficients:\n",
      "          ma1     ma2  intercept\n",
      "      -1.0840  0.7097   100.0983\n",
      "s.e.   0.1407  0.1626     0.0650\n",
      "\n",
      "sigma^2 estimated as 0.3526:  log likelihood = -29.69,  aic = 67.37\n"
     ]
    },
    {
     "data": {
      "image/png": "[encoded data removed]",
      "text/plain": [
       "plot without title"
      ]
     },
     "metadata": {
      "image/png": {
       "height": 240,
       "width": 720
      }
     },
     "output_type": "display_data"
    }
   ],
   "source": [
    "set.seed(2001)\n",
    "Y = arima.sim(model=list(ma=c(-1, 0.6)), n=36) + 100\n",
    "\n",
    "model = arima(Y[1:32], order=c(0, 0, 2), method='ML')\n",
    "print(model)\n",
    "\n",
    "pred = predict(model, n.ahead=4, se.fit=TRUE)\n",
    "Y_pred = pred$pred\n",
    "se = pred$se\n",
    "z = qnorm(0.975)\n",
    "\n",
    "options(repr.plot.width=12, repr.plot.height=4)\n",
    "\n",
    "m = model$nobs\n",
    "n = length(Y)\n",
    "ggplot() + \n",
    "  geom_line(aes(x=1:n, y=mean(Y)), linetype='dashed') +\n",
    "  geom_line(aes(x=1:n, y=c(Y)), color='blue') +\n",
    "  geom_point(aes(x=1:n, y=c(Y)), color='blue') +\n",
    "  geom_line(aes(x=(m+1):n, y=Y_pred), color='orange') +\n",
    "  geom_point(aes(x=(m+1):n, y=Y_pred), color='orange') +\n",
    "  geom_ribbon(aes(\n",
    "      x=(m+1):n, \n",
    "      ymin=Y_pred - z * se, \n",
    "      ymax=Y_pred + z * se\n",
    "  ), fill='orange', alpha=0.2) + \n",
    "  xlab('') + ylab('') +\n",
    "  theme_bw() + theme(text = element_text(size=16))"
   ]
  },
  {
   "cell_type": "markdown",
   "metadata": {},
   "source": [
    "Once again, a few of the values seem like outliers -- and disagree with the remainder of the process."
   ]
  },
  {
   "cell_type": "markdown",
   "metadata": {},
   "source": [
    "**Exercise 9.13**. Simulate an ARMA(1,1) process with $\\phi = 0.7$, $\\theta = −0.5$, and $\\mu = 100$.  Simulate 50 values but set aside the last 10 values to compare forecasts with actual values.\n",
    "\n",
    "**(a)** Using the first 40 values of the series, find the values for the maximum likelihood estimates of $\\phi$, $\\theta$, and $\\mu$.\n",
    "\n",
    "**(b)** Using the estimated model, forecast the next ten values of the series.  Plot the series together with the ten forecasts. Place a horizontal line at the estimate of the process mean.\n",
    "\n",
    "**(c)** Compare the ten forecasts with the actual values that you set aside.\n",
    "\n",
    "**(d)** Plot the forecasts together with 95% forecast limits.  Do the actual values fall within the forecast limits?\n",
    "\n",
    "**(e)** Repeat parts (a) through (d) with a new simulated series using the same values of the parameters and same sample size."
   ]
  },
  {
   "cell_type": "markdown",
   "metadata": {},
   "source": [
    "**Solution**."
   ]
  },
  {
   "cell_type": "code",
   "execution_count": 12,
   "metadata": {},
   "outputs": [],
   "source": [
    "set.seed(2000)\n",
    "Y = arima.sim(model=list(are=c(0.7), ma=c(0.5)), n=50) + 100"
   ]
  },
  {
   "cell_type": "markdown",
   "metadata": {},
   "source": [
    "**(a)**"
   ]
  },
  {
   "cell_type": "code",
   "execution_count": 13,
   "metadata": {},
   "outputs": [
    {
     "name": "stdout",
     "output_type": "stream",
     "text": [
      "\n",
      "Call:\n",
      "arima(x = Y[1:40], order = c(1, 0, 1), method = \"ML\")\n",
      "\n",
      "Coefficients:\n",
      "         ar1     ma1  intercept\n",
      "      0.6892  0.6600    99.3218\n",
      "s.e.  0.1149  0.1109     0.6671\n",
      "\n",
      "sigma^2 estimated as 0.7041:  log likelihood = -50.73,  aic = 109.45\n"
     ]
    }
   ],
   "source": [
    "model = arima(Y[1:40], order=c(1, 0, 1), method='ML')\n",
    "print(model)"
   ]
  },
  {
   "cell_type": "markdown",
   "metadata": {},
   "source": [
    "**(b)**"
   ]
  },
  {
   "cell_type": "code",
   "execution_count": 14,
   "metadata": {},
   "outputs": [],
   "source": [
    "pred = predict(model, n.ahead=10, se.fit=TRUE)\n",
    "Y_pred = pred$pred\n",
    "se = pred$se\n",
    "z = qnorm(0.975)"
   ]
  },
  {
   "cell_type": "code",
   "execution_count": 15,
   "metadata": {},
   "outputs": [
    {
     "data": {
      "image/png": "[encoded data removed]",
      "text/plain": [
       "plot without title"
      ]
     },
     "metadata": {
      "image/png": {
       "height": 240,
       "width": 720
      }
     },
     "output_type": "display_data"
    }
   ],
   "source": [
    "options(repr.plot.width=12, repr.plot.height=4)\n",
    "\n",
    "m = model$nobs\n",
    "n = length(Y)\n",
    "ggplot() + \n",
    "  geom_line(aes(x=1:n, y=mean(Y)), linetype='dashed') +\n",
    "  geom_line(aes(x=1:n, y=c(Y)), color='blue') +\n",
    "  geom_point(aes(x=1:n, y=c(Y)), color='blue') +\n",
    "  geom_line(aes(x=(m+1):n, y=Y_pred), color='orange') +\n",
    "  geom_point(aes(x=(m+1):n, y=Y_pred), color='orange') +\n",
    "  geom_ribbon(aes(\n",
    "      x=(m+1):n, \n",
    "      ymin=Y_pred - z * se, \n",
    "      ymax=Y_pred + z * se\n",
    "  ), fill='orange', alpha=0.2) + \n",
    "  xlab('') + ylab('') +\n",
    "  theme_bw() + theme(text = element_text(size=16))"
   ]
  },
  {
   "cell_type": "markdown",
   "metadata": {},
   "source": [
    "**(c)**  The actual values all fall within the confidence interval."
   ]
  },
  {
   "cell_type": "markdown",
   "metadata": {},
   "source": [
    "**(d)**  See (b)."
   ]
  },
  {
   "cell_type": "markdown",
   "metadata": {},
   "source": [
    "**(e)**"
   ]
  },
  {
   "cell_type": "code",
   "execution_count": 16,
   "metadata": {},
   "outputs": [
    {
     "name": "stdout",
     "output_type": "stream",
     "text": [
      "\n",
      "Call:\n",
      "arima(x = Y[1:40], order = c(1, 0, 1), method = \"ML\")\n",
      "\n",
      "Coefficients:\n",
      "         ar1     ma1  intercept\n",
      "      0.7697  0.3700   100.2685\n",
      "s.e.  0.1059  0.1654     0.8813\n",
      "\n",
      "sigma^2 estimated as 1.032:  log likelihood = -58.17,  aic = 124.34\n"
     ]
    },
    {
     "data": {
      "image/png": "[encoded data removed]",
      "text/plain": [
       "plot without title"
      ]
     },
     "metadata": {
      "image/png": {
       "height": 240,
       "width": 720
      }
     },
     "output_type": "display_data"
    }
   ],
   "source": [
    "set.seed(2001)\n",
    "Y = arima.sim(model=list(are=c(0.7), ma=c(0.5)), n=50) + 100\n",
    "\n",
    "model = arima(Y[1:40], order=c(1, 0, 1), method='ML')\n",
    "print(model)\n",
    "\n",
    "pred = predict(model, n.ahead=10, se.fit=TRUE)\n",
    "Y_pred = pred$pred\n",
    "se = pred$se\n",
    "z = qnorm(0.975)\n",
    "\n",
    "options(repr.plot.width=12, repr.plot.height=4)\n",
    "\n",
    "m = model$nobs\n",
    "n = length(Y)\n",
    "ggplot() + \n",
    "  geom_line(aes(x=1:n, y=mean(Y)), linetype='dashed') +\n",
    "  geom_line(aes(x=1:n, y=c(Y)), color='blue') +\n",
    "  geom_point(aes(x=1:n, y=c(Y)), color='blue') +\n",
    "  geom_line(aes(x=(m+1):n, y=Y_pred), color='orange') +\n",
    "  geom_point(aes(x=(m+1):n, y=Y_pred), color='orange') +\n",
    "  geom_ribbon(aes(\n",
    "      x=(m+1):n, \n",
    "      ymin=Y_pred - z * se, \n",
    "      ymax=Y_pred + z * se\n",
    "  ), fill='orange', alpha=0.2) + \n",
    "  xlab('') + ylab('') +\n",
    "  theme_bw() + theme(text = element_text(size=16))"
   ]
  },
  {
   "cell_type": "markdown",
   "metadata": {},
   "source": [
    "All of the actual values fall within the confidence interval for the prediction."
   ]
  }
 ],
 "metadata": {
  "kernelspec": {
   "display_name": "R",
   "language": "R",
   "name": "ir"
  },
  "language_info": {
   "codemirror_mode": "r",
   "file_extension": ".r",
   "mimetype": "text/x-r-source",
   "name": "R",
   "pygments_lexer": "r",
   "version": "4.0.0"
  }
 },
 "nbformat": 4,
 "nbformat_minor": 2
}
