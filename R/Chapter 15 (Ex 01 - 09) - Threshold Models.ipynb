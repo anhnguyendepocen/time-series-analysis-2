{
 "cells": [
  {
   "cell_type": "markdown",
   "metadata": {},
   "source": [
    "## 15. Threshold Models"
   ]
  },
  {
   "cell_type": "markdown",
   "metadata": {},
   "source": [
    "**Exercise 15.1**. Fit a TAR model for the predator series with delay set to 2, and interpret the findings by making use of the framework studied in Stenseth et al. (1998, 1999). (You may first want to check whether or not their framework is approximately valid for the TAR model.) Also, compare the fitted model with the TAR(2;1,4) model with delay 3 reported in the text. (The data file is named `veilleux`.)"
   ]
  },
  {
   "cell_type": "markdown",
   "metadata": {},
   "source": [
    "**Solution**."
   ]
  },
  {
   "cell_type": "markdown",
   "metadata": {},
   "source": [
    "Let's fit the data series for the predator numbers (without its starting points) to a TAR model with $d = 2$ and with $d = 3$, using the same methodology as in the text."
   ]
  },
  {
   "cell_type": "code",
   "execution_count": 1,
   "metadata": {},
   "outputs": [
    {
     "name": "stderr",
     "output_type": "stream",
     "text": [
      "Loading required package: data.table\n",
      "\n",
      "Loading required package: TSA\n",
      "\n",
      "\n",
      "Attaching package: 'TSA'\n",
      "\n",
      "\n",
      "The following objects are masked from 'package:stats':\n",
      "\n",
      "    acf, arima\n",
      "\n",
      "\n",
      "The following object is masked from 'package:utils':\n",
      "\n",
      "    tar\n",
      "\n",
      "\n"
     ]
    }
   ],
   "source": [
    "require(data.table)\n",
    "require(TSA)"
   ]
  },
  {
   "cell_type": "code",
   "execution_count": 2,
   "metadata": {},
   "outputs": [],
   "source": [
    "# Load and select the predator data series\n",
    "Y <- fread('../data/veilleux.dat')[['Didinium']]\n",
    "\n",
    "# Filter out quasiperiodic start\n",
    "Y <- Y[15:length(Y)]"
   ]
  },
  {
   "cell_type": "code",
   "execution_count": 3,
   "metadata": {},
   "outputs": [
    {
     "name": "stdout",
     "output_type": "stream",
     "text": [
      "time series included in this analysis is:  log(Y) \n",
      "SETAR(2, 1 , 4 ) model delay = 2 \n",
      "estimated threshold =  4.048  from a Minimum AIC  fit with thresholds \n",
      "searched from the  17  percentile to the   81  percentile of all data.\n",
      "The estimated threshold is the  26.4  percentile of\n",
      "all data.\n",
      "lower regime: \n",
      "Residual Standard Error=0.2445\n",
      "R-Square=0.997\n",
      "F-statistic (df=2, 12)=2023.065\n",
      "p-value=0\n",
      "\n",
      "                 Estimate Std.Err t-value Pr(>|t|)\n",
      "intercept-log(Y)   0.9526  0.7856  1.2125   0.2487\n",
      "lag1-log(Y)        0.8230  0.2016  4.0817   0.0015\n",
      "\n",
      "\n",
      "\n",
      "\n",
      " (unbiased) RMS \n",
      "0.05979 \n",
      " with no of data falling in the regime being \n",
      "log(Y) 14 \n",
      "\n",
      "\n",
      " (max. likelihood) RMS for each series (denominator=sample size in the regime) \n",
      "log(Y) 0.05125 \n",
      "\n",
      "\n",
      " upper regime: \n",
      "Residual Standard Error=0.2526\n",
      "R-Square=0.9976\n",
      "F-statistic (df=5, 34)=2830.15\n",
      "p-value=0\n",
      "\n",
      "                 Estimate Std.Err t-value Pr(>|t|)\n",
      "intercept-log(Y)   4.0579  0.5716  7.0990   0.0000\n",
      "lag1-log(Y)        0.9122  0.1432  6.3692   0.0000\n",
      "lag2-log(Y)       -0.2616  0.2108 -1.2410   0.2231\n",
      "lag3-log(Y)       -0.1989  0.2024 -0.9825   0.3328\n",
      "lag4-log(Y)       -0.3178  0.1486 -2.1383   0.0398\n",
      "\n",
      "\n",
      "\n",
      "\n",
      " (unbiased) RMS \n",
      "0.06382 \n",
      " with no of data falling in the regime being \n",
      "39 \n",
      "\n",
      "\n",
      " (max. likelihood) RMS for each series (denominator=sample size in the regime)\n",
      "0.05564 \n",
      "\n",
      " Nominal AIC is  12.15 \n"
     ]
    }
   ],
   "source": [
    "model.d2 = tar(y=log(Y), p1=4, p2=4, d=2, a=.1, b=.9, print=T)"
   ]
  },
  {
   "cell_type": "code",
   "execution_count": 4,
   "metadata": {},
   "outputs": [
    {
     "name": "stdout",
     "output_type": "stream",
     "text": [
      "time series included in this analysis is:  log(Y) \n",
      "SETAR(2, 1 , 4 ) model delay = 3 \n",
      "estimated threshold =  4.661  from a Minimum AIC  fit with thresholds \n",
      "searched from the  17  percentile to the   81  percentile of all data.\n",
      "The estimated threshold is the  56.6  percentile of\n",
      "all data.\n",
      "lower regime: \n",
      "Residual Standard Error=0.2341\n",
      "R-Square=0.9978\n",
      "F-statistic (df=2, 28)=6355.76\n",
      "p-value=0\n",
      "\n",
      "                 Estimate Std.Err t-value Pr(>|t|)\n",
      "intercept-log(Y)   0.2621  0.3156  0.8305   0.4133\n",
      "lag1-log(Y)        1.0175  0.0704 14.4455   0.0000\n",
      "\n",
      "\n",
      "\n",
      "\n",
      " (unbiased) RMS \n",
      "0.05479 \n",
      " with no of data falling in the regime being \n",
      "log(Y) 30 \n",
      "\n",
      "\n",
      " (max. likelihood) RMS for each series (denominator=sample size in the regime) \n",
      "log(Y) 0.05114 \n",
      "\n",
      "\n",
      " upper regime: \n",
      "Residual Standard Error=0.2676\n",
      "R-Square=0.9971\n",
      "F-statistic (df=5, 18)=1253.556\n",
      "p-value=0\n",
      "\n",
      "                 Estimate Std.Err t-value Pr(>|t|)\n",
      "intercept-log(Y)   4.1986  1.2841  3.2697   0.0043\n",
      "lag1-log(Y)        0.7081  0.2023  3.5005   0.0026\n",
      "lag2-log(Y)       -0.3009  0.3118 -0.9648   0.3474\n",
      "lag3-log(Y)        0.2788  0.4063  0.6861   0.5014\n",
      "lag4-log(Y)       -0.6113  0.2726 -2.2427   0.0377\n",
      "\n",
      "\n",
      "\n",
      "\n",
      " (unbiased) RMS \n",
      "0.07158 \n",
      " with no of data falling in the regime being \n",
      "23 \n",
      "\n",
      "\n",
      " (max. likelihood) RMS for each series (denominator=sample size in the regime)\n",
      "0.05602 \n",
      "\n",
      " Nominal AIC is  10.92 \n"
     ]
    }
   ],
   "source": [
    "model.d3 = tar(y=log(Y), p1=4, p2=4, d=3, a=.1, b=.9, print=T)"
   ]
  },
  {
   "cell_type": "markdown",
   "metadata": {},
   "source": [
    "The model estimated with delay $d = 2$ is selected as SETAR(2, 4, 3), and the threshold splits 26.4% of the data, while the model estimated with delay $d = 3$ is selected as SETAR(2, 1, 1), and the threshold splits 56.65% of the data; this means that the model with delay 3 is more balanced (with a split closer to 50%).\n",
    "\n",
    "Additionally, the estimated noise variances are generally smaller on the model with delay $d = 3$, and its AIC is also smaller. \n",
    "\n",
    "Finally, looking at the skeletons, the cycle doesn't quite converge within tolerances with default values for delay $d = 2$, though it appears to have a cycle of length 10.  Convergence within cycle 10 is achieved, and the skeleton looks almost piecewise linear."
   ]
  },
  {
   "cell_type": "code",
   "execution_count": 5,
   "metadata": {
    "scrolled": false
   },
   "outputs": [
    {
     "name": "stdout",
     "output_type": "stream",
     "text": [
      "\n",
      " no limit cycle \n",
      " \n",
      " tail part of the skeleton: \n",
      "  [1] 3.87 4.14 4.36 4.94 5.37 5.48 5.29 4.81 4.26 3.90 3.86 4.13 4.35 4.94 5.38\n",
      "[16] 5.49 5.30 4.81 4.26 3.89 3.85 4.12 4.34 4.94 5.39 5.51 5.31 4.82 4.26 3.88\n",
      "[31] 3.83 4.11 4.33 4.94 5.40 5.52 5.32 4.82 4.25 3.86 3.82 4.10 4.32 4.94 5.41\n",
      "[46] 5.54 5.34 4.83 4.25 3.85\n"
     ]
    },
    {
     "data": {
      "image/png": "[encoded data removed]",
      "text/plain": [
       "plot without title"
      ]
     },
     "metadata": {
      "image/png": {
       "height": 240,
       "width": 720
      }
     },
     "output_type": "display_data"
    }
   ],
   "source": [
    "options(repr.plot.width=12, repr.plot.height=4)\n",
    "\n",
    "tar.skeleton(model.d2, ntransient=500, n=500)"
   ]
  },
  {
   "cell_type": "code",
   "execution_count": 6,
   "metadata": {},
   "outputs": [
    {
     "name": "stdout",
     "output_type": "stream",
     "text": [
      " limit cycle of length  10  and it consists of  4.6805 4.3389 3.9227 3.8223 4.1513 4.4862 4.8269 5.1736 5.5264 5.1587 \n"
     ]
    },
    {
     "data": {
      "image/png": "[encoded data removed]",
      "text/plain": [
       "plot without title"
      ]
     },
     "metadata": {
      "image/png": {
       "height": 240,
       "width": 720
      }
     },
     "output_type": "display_data"
    }
   ],
   "source": [
    "options(repr.plot.width=12, repr.plot.height=4)\n",
    "\n",
    "tar.skeleton(model.d3)"
   ]
  },
  {
   "cell_type": "markdown",
   "metadata": {},
   "source": [
    "**Exercise 15.2**. Fit a TAR model to the square-root-transformed relative sunspot data, and examine its goodness of fit. Interpret the fitted TAR model. (The data file is named `spots`.)"
   ]
  },
  {
   "cell_type": "markdown",
   "metadata": {},
   "source": [
    "**Solution**."
   ]
  },
  {
   "cell_type": "markdown",
   "metadata": {},
   "source": [
    "As in Exhibit 15.11, we can search through models with multiple delays based on AIC:"
   ]
  },
  {
   "cell_type": "code",
   "execution_count": 7,
   "metadata": {},
   "outputs": [],
   "source": [
    "Y = fread('../data/spots.dat')[['spots']]"
   ]
  },
  {
   "cell_type": "code",
   "execution_count": 8,
   "metadata": {},
   "outputs": [
    {
     "data": {
      "text/html": [
       "<table>\n",
       "<caption>A matrix: 5 × 5 of type dbl</caption>\n",
       "<thead>\n",
       "\t<tr><th scope=col>d</th><th scope=col>Nominal AIC</th><th scope=col>r</th><th scope=col>p1</th><th scope=col>p2</th></tr>\n",
       "</thead>\n",
       "<tbody>\n",
       "\t<tr><td>1</td><td>149.9</td><td>5.882</td><td>5</td><td>5</td></tr>\n",
       "\t<tr><td>2</td><td>110.5</td><td>6.058</td><td>3</td><td>5</td></tr>\n",
       "\t<tr><td>3</td><td>124.6</td><td>6.595</td><td>2</td><td>5</td></tr>\n",
       "\t<tr><td>4</td><td>126.2</td><td>8.044</td><td>3</td><td>5</td></tr>\n",
       "\t<tr><td>5</td><td>150.5</td><td>8.155</td><td>4</td><td>5</td></tr>\n",
       "</tbody>\n",
       "</table>\n"
      ],
      "text/latex": [
       "A matrix: 5 × 5 of type dbl\n",
       "\\begin{tabular}{lllll}\n",
       " d & Nominal AIC & r & p1 & p2\\\\\n",
       "\\hline\n",
       "\t 1 & 149.9 & 5.882 & 5 & 5\\\\\n",
       "\t 2 & 110.5 & 6.058 & 3 & 5\\\\\n",
       "\t 3 & 124.6 & 6.595 & 2 & 5\\\\\n",
       "\t 4 & 126.2 & 8.044 & 3 & 5\\\\\n",
       "\t 5 & 150.5 & 8.155 & 4 & 5\\\\\n",
       "\\end{tabular}\n"
      ],
      "text/markdown": [
       "\n",
       "A matrix: 5 × 5 of type dbl\n",
       "\n",
       "| d | Nominal AIC | r | p1 | p2 |\n",
       "|---|---|---|---|---|\n",
       "| 1 | 149.9 | 5.882 | 5 | 5 |\n",
       "| 2 | 110.5 | 6.058 | 3 | 5 |\n",
       "| 3 | 124.6 | 6.595 | 2 | 5 |\n",
       "| 4 | 126.2 | 8.044 | 3 | 5 |\n",
       "| 5 | 150.5 | 8.155 | 4 | 5 |\n",
       "\n"
      ],
      "text/plain": [
       "     d Nominal AIC r     p1 p2\n",
       "[1,] 1 149.9       5.882 5  5 \n",
       "[2,] 2 110.5       6.058 3  5 \n",
       "[3,] 3 124.6       6.595 2  5 \n",
       "[4,] 4 126.2       8.044 3  5 \n",
       "[5,] 5 150.5       8.155 4  5 "
      ]
     },
     "metadata": {},
     "output_type": "display_data"
    }
   ],
   "source": [
    "max.d = 5\n",
    "max.p = 5\n",
    "\n",
    "AICM = NULL\n",
    "for (d in 1:max.d) {\n",
    "    model.spots = tar(y=sqrt(Y), p1=max.p, p2=max.p, d=d, a=.1, b=.9)\n",
    "    AICM = rbind(AICM, c(d, model.spots$AIC, signif(model.spots$thd,4), model.spots$p1, model.spots$p2))\n",
    "}\n",
    "colnames(AICM) = c('d','Nominal AIC','r','p1','p2')\n",
    "rownames(AICM) = NULL\n",
    "AICM"
   ]
  },
  {
   "cell_type": "markdown",
   "metadata": {},
   "source": [
    "The model with best AIC has delay 2, and is a SETAR(2, 3, 5) model:"
   ]
  },
  {
   "cell_type": "code",
   "execution_count": 9,
   "metadata": {},
   "outputs": [
    {
     "name": "stdout",
     "output_type": "stream",
     "text": [
      "time series included in this analysis is:  sqrt(Y) \n",
      "SETAR(2, 3 , 5 ) model delay = 2 \n",
      "estimated threshold =  6.058  from a Minimum AIC  fit with thresholds \n",
      "searched from the  12  percentile to the   79  percentile of all data.\n",
      "The estimated threshold is the  35.7  percentile of\n",
      "all data.\n",
      "lower regime: \n",
      "Residual Standard Error=0.9061\n",
      "R-Square=0.9894\n",
      "F-statistic (df=4, 16)=373.5257\n",
      "p-value=0\n",
      "\n",
      "                  Estimate Std.Err t-value Pr(>|t|)\n",
      "intercept-sqrt(Y)   9.5242  1.2796  7.4432   0.0000\n",
      "lag1-sqrt(Y)        1.0479  0.1699  6.1679   0.0000\n",
      "lag2-sqrt(Y)       -1.2022  0.2909 -4.1319   0.0008\n",
      "lag3-sqrt(Y)       -0.5555  0.2441 -2.2752   0.0370\n",
      "\n",
      "\n",
      "\n",
      "\n",
      " (unbiased) RMS \n",
      "0.8211 \n",
      " with no of data falling in the regime being \n",
      "sqrt(Y) 20 \n",
      "\n",
      "\n",
      " (max. likelihood) RMS for each series (denominator=sample size in the regime) \n",
      "sqrt(Y) 0.6569 \n",
      "\n",
      "\n",
      " upper regime: \n",
      "Residual Standard Error=0.4627\n",
      "R-Square=0.9977\n",
      "F-statistic (df=6, 30)=2149.376\n",
      "p-value=0\n",
      "\n",
      "                  Estimate Std.Err t-value Pr(>|t|)\n",
      "intercept-sqrt(Y)   5.6852  0.8608  6.6049   0.0000\n",
      "lag1-sqrt(Y)        0.3711  0.1070  3.4677   0.0016\n",
      "lag2-sqrt(Y)        0.3847  0.1183  3.2527   0.0028\n",
      "lag3-sqrt(Y)       -0.0656  0.1113 -0.5893   0.5601\n",
      "lag4-sqrt(Y)       -0.3634  0.1088 -3.3407   0.0022\n",
      "lag5-sqrt(Y)       -0.1118  0.0744 -1.5016   0.1437\n",
      "\n",
      "\n",
      "\n",
      "\n",
      " (unbiased) RMS \n",
      "0.2141 \n",
      " with no of data falling in the regime being \n",
      "36 \n",
      "\n",
      "\n",
      " (max. likelihood) RMS for each series (denominator=sample size in the regime)\n",
      "0.1784 \n",
      "\n",
      " Nominal AIC is  110.5 \n"
     ]
    }
   ],
   "source": [
    "model.spots = tar(y=sqrt(Y), p1=3, p2=5, d=2, a=.1, b=.9, print=T)"
   ]
  },
  {
   "cell_type": "markdown",
   "metadata": {},
   "source": [
    "Since the largest delay on the upper regime is not significant ($\\hat{\\phi}_{2, 5}$ has p-value 0.1437), we refit the model as a SETAR(2, 3, 4):"
   ]
  },
  {
   "cell_type": "code",
   "execution_count": 10,
   "metadata": {},
   "outputs": [
    {
     "name": "stdout",
     "output_type": "stream",
     "text": [
      "time series included in this analysis is:  sqrt(Y) \n",
      "SETAR(2, 3 , 4 ) model delay = 2 \n",
      "estimated threshold =  6.058  from a Minimum AIC  fit with thresholds \n",
      "searched from the  12  percentile to the   82  percentile of all data.\n",
      "The estimated threshold is the  35.1  percentile of\n",
      "all data.\n",
      "lower regime: \n",
      "Residual Standard Error=0.9061\n",
      "R-Square=0.9894\n",
      "F-statistic (df=4, 16)=373.5257\n",
      "p-value=0\n",
      "\n",
      "                  Estimate Std.Err t-value Pr(>|t|)\n",
      "intercept-sqrt(Y)   9.5242  1.2796  7.4432   0.0000\n",
      "lag1-sqrt(Y)        1.0479  0.1699  6.1679   0.0000\n",
      "lag2-sqrt(Y)       -1.2022  0.2909 -4.1319   0.0008\n",
      "lag3-sqrt(Y)       -0.5555  0.2441 -2.2752   0.0370\n",
      "\n",
      "\n",
      "\n",
      "\n",
      " (unbiased) RMS \n",
      "0.8211 \n",
      " with no of data falling in the regime being \n",
      "sqrt(Y) 20 \n",
      "\n",
      "\n",
      " (max. likelihood) RMS for each series (denominator=sample size in the regime) \n",
      "sqrt(Y) 0.6569 \n",
      "\n",
      "\n",
      " upper regime: \n",
      "Residual Standard Error=0.4804\n",
      "R-Square=0.9975\n",
      "F-statistic (df=5, 32)=2542.773\n",
      "p-value=0\n",
      "\n",
      "                  Estimate Std.Err t-value Pr(>|t|)\n",
      "intercept-sqrt(Y)   4.8070  0.6422  7.4847   0.0000\n",
      "lag1-sqrt(Y)        0.4025  0.1025  3.9278   0.0004\n",
      "lag2-sqrt(Y)        0.4166  0.1203  3.4618   0.0015\n",
      "lag3-sqrt(Y)       -0.0122  0.1104 -0.1109   0.9124\n",
      "lag4-sqrt(Y)       -0.4886  0.0844 -5.7925   0.0000\n",
      "\n",
      "\n",
      "\n",
      "\n",
      " (unbiased) RMS \n",
      "0.2308 \n",
      " with no of data falling in the regime being \n",
      "37 \n",
      "\n",
      "\n",
      " (max. likelihood) RMS for each series (denominator=sample size in the regime)\n",
      "0.1996 \n",
      "\n",
      " Nominal AIC is  113.7 \n"
     ]
    }
   ],
   "source": [
    "model.spots = tar(y=sqrt(Y), p1=3, p2=4, d=2, a=.1, b=.9, print=T)"
   ]
  },
  {
   "cell_type": "markdown",
   "metadata": {},
   "source": [
    "Next, running diagnostics:\n",
    "\n",
    "- The standardized residuals show no pattern\n",
    "- The ACF of the residuals do not display correlation\n",
    "- The p-values for the Portmanteau test shows all values above 0.05\n",
    "- The QQ plot looks reasonable, and the Shapiro-Wilk normality test cannot reject normality of the residuals."
   ]
  },
  {
   "cell_type": "code",
   "execution_count": 11,
   "metadata": {},
   "outputs": [
    {
     "data": {
      "image/png": "[encoded data removed]",
      "text/plain": [
       "Plot with title \"\""
      ]
     },
     "metadata": {
      "image/png": {
       "height": 720,
       "width": 720
      }
     },
     "output_type": "display_data"
    }
   ],
   "source": [
    "options(repr.plot.width=12, repr.plot.height=12)\n",
    "\n",
    "tsdiag(model.spots)"
   ]
  },
  {
   "cell_type": "code",
   "execution_count": 12,
   "metadata": {},
   "outputs": [
    {
     "data": {
      "image/png": "[encoded data removed]",
      "text/plain": [
       "Plot with title \"Normal Q-Q Plot\""
      ]
     },
     "metadata": {
      "image/png": {
       "height": 360,
       "width": 360
      }
     },
     "output_type": "display_data"
    }
   ],
   "source": [
    "options(repr.plot.width=6, repr.plot.height=6)\n",
    "qqnorm(model.spots$std.res); qqline(model.spots$std.res)"
   ]
  },
  {
   "cell_type": "code",
   "execution_count": 13,
   "metadata": {},
   "outputs": [
    {
     "data": {
      "text/plain": [
       "\n",
       "\tShapiro-Wilk normality test\n",
       "\n",
       "data:  model.spots$std.res\n",
       "W = 0.97439, p-value = 0.2667\n"
      ]
     },
     "metadata": {},
     "output_type": "display_data"
    }
   ],
   "source": [
    "shapiro.test(model.spots$std.res)"
   ]
  },
  {
   "cell_type": "markdown",
   "metadata": {},
   "source": [
    "**Exercise 15.3**. Predict the annual relative sunspot numbers for ten years using the fitted model obtained in Exercise 15.2. Draw the prediction intervals and the predicted medians. (The data file is named `spots`.)"
   ]
  },
  {
   "cell_type": "markdown",
   "metadata": {},
   "source": [
    "**Exercise 15.4**. Examine the long-run behavior of the skeleton of the fitted model for the relative sunspot data. Is the fitted model likely to be stationary? Explain your answer. "
   ]
  },
  {
   "cell_type": "markdown",
   "metadata": {},
   "source": [
    "**Exercise 15.5**. Simulate a series of size 1000 from the TAR model fitted to the relative sunspot data. Compute the spectrum of the simulated realization and compare it with the spectrum of the data. Does the fitted model capture the correlation structure of the data? "
   ]
  },
  {
   "cell_type": "markdown",
   "metadata": {},
   "source": [
    "**Exercise 15.6**. Draw the lagged regression plots for the square-root-transformed hare data. Is there any evidence that the hare data are nonlinear? (The data file is named `hare`.)"
   ]
  },
  {
   "cell_type": "markdown",
   "metadata": {},
   "source": [
    "**Exercise 15.7**. Carry out formal tests (Keenan’s test, Tsay’s test, and threshold likelihood ratio test) for nonlinearity for the hare data. Is the hare abundance process nonlinear? Explain your answer. (The data file is named `hare`.)"
   ]
  },
  {
   "cell_type": "markdown",
   "metadata": {},
   "source": [
    "**Exercise 15.8**. Assuming that the hare data are nonlinear, fit a TAR model to the hare data and examine the goodness of fit. (The data file is named `hare`.)"
   ]
  },
  {
   "cell_type": "markdown",
   "metadata": {},
   "source": [
    "**Exercise 15.9**. This exercise assumes that the reader is familiar with Markov chain theory. Consider a simple TAR model that is piecewise constant: \n",
    "\n",
    "$$\n",
    "Y_t = \\begin{cases}\n",
    "\\phi_{1,0} + \\sigma_1 e_t &\\text{if } Y_{t-1} \\leq r\\\\\n",
    "\\phi_{2,0} + \\sigma_2 e_t &\\text{if } Y_{t-1} > r\n",
    "\\end{cases}\n",
    "$$\n",
    "\n",
    "where $\\{e_t\\}$ are independent standard normal random variables. Let $R_t = 1$ if $Y_t \\leq r$ and 2 otherwise, which is a Markov chain.\n",
    "\n",
    "**(a)** Find the transition probability matrix of Rt and its stationary distribution.\n",
    "\n",
    "**(b)** Derive the stationary distribution of {Yt}.\n",
    "\n",
    "**(c)** Find the lag 1 autocovariance of the TAR process. "
   ]
  }
 ],
 "metadata": {
  "kernelspec": {
   "display_name": "R",
   "language": "R",
   "name": "ir"
  },
  "language_info": {
   "codemirror_mode": "r",
   "file_extension": ".r",
   "mimetype": "text/x-r-source",
   "name": "R",
   "pygments_lexer": "r",
   "version": "4.0.0"
  }
 },
 "nbformat": 4,
 "nbformat_minor": 2
}
