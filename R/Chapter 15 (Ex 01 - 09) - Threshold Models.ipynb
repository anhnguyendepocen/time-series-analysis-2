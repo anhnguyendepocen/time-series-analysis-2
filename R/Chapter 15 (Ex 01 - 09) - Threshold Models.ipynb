{
 "cells": [
  {
   "cell_type": "markdown",
   "metadata": {},
   "source": [
    "## 15. Threshold Models"
   ]
  },
  {
   "cell_type": "markdown",
   "metadata": {},
   "source": [
    "**Exercise 15.1**. Fit a TAR model for the predator series with delay set to 2, and interpret the findings by making use of the framework studied in Stenseth et al. (1998, 1999). (You may first want to check whether or not their framework is approximately valid for the TAR model.) Also, compare the fitted model with the TAR(2;1,4) model with delay 3 reported in the text. (The data file is named `veilleux`.)"
   ]
  },
  {
   "cell_type": "markdown",
   "metadata": {},
   "source": [
    "**Solution**."
   ]
  },
  {
   "cell_type": "markdown",
   "metadata": {},
   "source": [
    "Let's fit the data series for the predator numbers (without its starting points) to a TAR model with $d = 2$ and with $d = 3$, using the same methodology as in the text."
   ]
  },
  {
   "cell_type": "code",
   "execution_count": 1,
   "metadata": {},
   "outputs": [
    {
     "name": "stderr",
     "output_type": "stream",
     "text": [
      "Loading required package: ggplot2\n",
      "\n",
      "Loading required package: data.table\n",
      "\n",
      "Loading required package: TSA\n",
      "\n",
      "\n",
      "Attaching package: 'TSA'\n",
      "\n",
      "\n",
      "The following objects are masked from 'package:stats':\n",
      "\n",
      "    acf, arima\n",
      "\n",
      "\n",
      "The following object is masked from 'package:utils':\n",
      "\n",
      "    tar\n",
      "\n",
      "\n"
     ]
    }
   ],
   "source": [
    "require(ggplot2)\n",
    "require(data.table)\n",
    "require(TSA)"
   ]
  },
  {
   "cell_type": "code",
   "execution_count": 2,
   "metadata": {},
   "outputs": [],
   "source": [
    "# Load and select the predator data series\n",
    "Y <- fread('../data/veilleux.dat')[['Didinium']]\n",
    "\n",
    "# Filter out quasiperiodic start\n",
    "Y <- Y[15:length(Y)]"
   ]
  },
  {
   "cell_type": "code",
   "execution_count": 3,
   "metadata": {},
   "outputs": [
    {
     "name": "stdout",
     "output_type": "stream",
     "text": [
      "time series included in this analysis is:  log(Y) \n",
      "SETAR(2, 1 , 4 ) model delay = 2 \n",
      "estimated threshold =  4.048  from a Minimum AIC  fit with thresholds \n",
      "searched from the  17  percentile to the   81  percentile of all data.\n",
      "The estimated threshold is the  26.4  percentile of\n",
      "all data.\n",
      "lower regime: \n",
      "Residual Standard Error=0.2445\n",
      "R-Square=0.997\n",
      "F-statistic (df=2, 12)=2023.065\n",
      "p-value=0\n",
      "\n",
      "                 Estimate Std.Err t-value Pr(>|t|)\n",
      "intercept-log(Y)   0.9526  0.7856  1.2125   0.2487\n",
      "lag1-log(Y)        0.8230  0.2016  4.0817   0.0015\n",
      "\n",
      "\n",
      "\n",
      "\n",
      " (unbiased) RMS \n",
      "0.05979 \n",
      " with no of data falling in the regime being \n",
      "log(Y) 14 \n",
      "\n",
      "\n",
      " (max. likelihood) RMS for each series (denominator=sample size in the regime) \n",
      "log(Y) 0.05125 \n",
      "\n",
      "\n",
      " upper regime: \n",
      "Residual Standard Error=0.2526\n",
      "R-Square=0.9976\n",
      "F-statistic (df=5, 34)=2830.15\n",
      "p-value=0\n",
      "\n",
      "                 Estimate Std.Err t-value Pr(>|t|)\n",
      "intercept-log(Y)   4.0579  0.5716  7.0990   0.0000\n",
      "lag1-log(Y)        0.9122  0.1432  6.3692   0.0000\n",
      "lag2-log(Y)       -0.2616  0.2108 -1.2410   0.2231\n",
      "lag3-log(Y)       -0.1989  0.2024 -0.9825   0.3328\n",
      "lag4-log(Y)       -0.3178  0.1486 -2.1383   0.0398\n",
      "\n",
      "\n",
      "\n",
      "\n",
      " (unbiased) RMS \n",
      "0.06382 \n",
      " with no of data falling in the regime being \n",
      "39 \n",
      "\n",
      "\n",
      " (max. likelihood) RMS for each series (denominator=sample size in the regime)\n",
      "0.05564 \n",
      "\n",
      " Nominal AIC is  12.15 \n"
     ]
    }
   ],
   "source": [
    "model.d2 = tar(y=log(Y), p1=4, p2=4, d=2, a=.1, b=.9, print=T)"
   ]
  },
  {
   "cell_type": "code",
   "execution_count": 4,
   "metadata": {},
   "outputs": [
    {
     "name": "stdout",
     "output_type": "stream",
     "text": [
      "time series included in this analysis is:  log(Y) \n",
      "SETAR(2, 1 , 4 ) model delay = 3 \n",
      "estimated threshold =  4.661  from a Minimum AIC  fit with thresholds \n",
      "searched from the  17  percentile to the   81  percentile of all data.\n",
      "The estimated threshold is the  56.6  percentile of\n",
      "all data.\n",
      "lower regime: \n",
      "Residual Standard Error=0.2341\n",
      "R-Square=0.9978\n",
      "F-statistic (df=2, 28)=6355.76\n",
      "p-value=0\n",
      "\n",
      "                 Estimate Std.Err t-value Pr(>|t|)\n",
      "intercept-log(Y)   0.2621  0.3156  0.8305   0.4133\n",
      "lag1-log(Y)        1.0175  0.0704 14.4455   0.0000\n",
      "\n",
      "\n",
      "\n",
      "\n",
      " (unbiased) RMS \n",
      "0.05479 \n",
      " with no of data falling in the regime being \n",
      "log(Y) 30 \n",
      "\n",
      "\n",
      " (max. likelihood) RMS for each series (denominator=sample size in the regime) \n",
      "log(Y) 0.05114 \n",
      "\n",
      "\n",
      " upper regime: \n",
      "Residual Standard Error=0.2676\n",
      "R-Square=0.9971\n",
      "F-statistic (df=5, 18)=1253.556\n",
      "p-value=0\n",
      "\n",
      "                 Estimate Std.Err t-value Pr(>|t|)\n",
      "intercept-log(Y)   4.1986  1.2841  3.2697   0.0043\n",
      "lag1-log(Y)        0.7081  0.2023  3.5005   0.0026\n",
      "lag2-log(Y)       -0.3009  0.3118 -0.9648   0.3474\n",
      "lag3-log(Y)        0.2788  0.4063  0.6861   0.5014\n",
      "lag4-log(Y)       -0.6113  0.2726 -2.2427   0.0377\n",
      "\n",
      "\n",
      "\n",
      "\n",
      " (unbiased) RMS \n",
      "0.07158 \n",
      " with no of data falling in the regime being \n",
      "23 \n",
      "\n",
      "\n",
      " (max. likelihood) RMS for each series (denominator=sample size in the regime)\n",
      "0.05602 \n",
      "\n",
      " Nominal AIC is  10.92 \n"
     ]
    }
   ],
   "source": [
    "model.d3 = tar(y=log(Y), p1=4, p2=4, d=3, a=.1, b=.9, print=T)"
   ]
  },
  {
   "cell_type": "markdown",
   "metadata": {},
   "source": [
    "The model estimated with delay $d = 2$ is selected as SETAR(2, 4, 3), and the threshold splits 26.4% of the data, while the model estimated with delay $d = 3$ is selected as SETAR(2, 1, 1), and the threshold splits 56.65% of the data; this means that the model with delay 3 is more balanced (with a split closer to 50%).\n",
    "\n",
    "Additionally, the estimated noise variances are generally smaller on the model with delay $d = 3$, and its AIC is also smaller. \n",
    "\n",
    "Finally, looking at the skeletons, the cycle doesn't quite converge within tolerances with default values for delay $d = 2$, though it appears to have a cycle of length 10.  Convergence within cycle 10 is achieved, and the skeleton looks almost piecewise linear."
   ]
  },
  {
   "cell_type": "code",
   "execution_count": 5,
   "metadata": {
    "scrolled": false
   },
   "outputs": [
    {
     "name": "stdout",
     "output_type": "stream",
     "text": [
      "\n",
      " no limit cycle \n",
      " \n",
      " tail part of the skeleton: \n",
      "  [1] 3.87 4.14 4.36 4.94 5.37 5.48 5.29 4.81 4.26 3.90 3.86 4.13 4.35 4.94 5.38\n",
      "[16] 5.49 5.30 4.81 4.26 3.89 3.85 4.12 4.34 4.94 5.39 5.51 5.31 4.82 4.26 3.88\n",
      "[31] 3.83 4.11 4.33 4.94 5.40 5.52 5.32 4.82 4.25 3.86 3.82 4.10 4.32 4.94 5.41\n",
      "[46] 5.54 5.34 4.83 4.25 3.85\n"
     ]
    },
    {
     "data": {
      "image/png": "[encoded data removed]",
      "text/plain": [
       "plot without title"
      ]
     },
     "metadata": {
      "image/png": {
       "height": 240,
       "width": 720
      }
     },
     "output_type": "display_data"
    }
   ],
   "source": [
    "options(repr.plot.width=12, repr.plot.height=4)\n",
    "\n",
    "tar.skeleton(model.d2, ntransient=500, n=500)"
   ]
  },
  {
   "cell_type": "code",
   "execution_count": 6,
   "metadata": {},
   "outputs": [
    {
     "name": "stdout",
     "output_type": "stream",
     "text": [
      " limit cycle of length  10  and it consists of  4.6805 4.3389 3.9227 3.8223 4.1513 4.4862 4.8269 5.1736 5.5264 5.1587 \n"
     ]
    },
    {
     "data": {
      "image/png": "[encoded data removed]",
      "text/plain": [
       "plot without title"
      ]
     },
     "metadata": {
      "image/png": {
       "height": 240,
       "width": 720
      }
     },
     "output_type": "display_data"
    }
   ],
   "source": [
    "options(repr.plot.width=12, repr.plot.height=4)\n",
    "\n",
    "tar.skeleton(model.d3)"
   ]
  },
  {
   "cell_type": "markdown",
   "metadata": {},
   "source": [
    "**Exercise 15.2**. Fit a TAR model to the square-root-transformed relative sunspot data, and examine its goodness of fit. Interpret the fitted TAR model. (The data file is named `spots`.)"
   ]
  },
  {
   "cell_type": "markdown",
   "metadata": {},
   "source": [
    "**Solution**."
   ]
  },
  {
   "cell_type": "markdown",
   "metadata": {},
   "source": [
    "As in Exhibit 15.11, we can search through models with multiple delays based on AIC:"
   ]
  },
  {
   "cell_type": "code",
   "execution_count": 7,
   "metadata": {},
   "outputs": [],
   "source": [
    "Y = fread('../data/spots.dat')[['spots']]"
   ]
  },
  {
   "cell_type": "code",
   "execution_count": 8,
   "metadata": {},
   "outputs": [
    {
     "data": {
      "text/html": [
       "<table>\n",
       "<caption>A matrix: 5 × 5 of type dbl</caption>\n",
       "<thead>\n",
       "\t<tr><th scope=col>d</th><th scope=col>Nominal AIC</th><th scope=col>r</th><th scope=col>p1</th><th scope=col>p2</th></tr>\n",
       "</thead>\n",
       "<tbody>\n",
       "\t<tr><td>1</td><td>149.9</td><td>5.882</td><td>5</td><td>5</td></tr>\n",
       "\t<tr><td>2</td><td>110.5</td><td>6.058</td><td>3</td><td>5</td></tr>\n",
       "\t<tr><td>3</td><td>124.6</td><td>6.595</td><td>2</td><td>5</td></tr>\n",
       "\t<tr><td>4</td><td>126.2</td><td>8.044</td><td>3</td><td>5</td></tr>\n",
       "\t<tr><td>5</td><td>150.5</td><td>8.155</td><td>4</td><td>5</td></tr>\n",
       "</tbody>\n",
       "</table>\n"
      ],
      "text/latex": [
       "A matrix: 5 × 5 of type dbl\n",
       "\\begin{tabular}{lllll}\n",
       " d & Nominal AIC & r & p1 & p2\\\\\n",
       "\\hline\n",
       "\t 1 & 149.9 & 5.882 & 5 & 5\\\\\n",
       "\t 2 & 110.5 & 6.058 & 3 & 5\\\\\n",
       "\t 3 & 124.6 & 6.595 & 2 & 5\\\\\n",
       "\t 4 & 126.2 & 8.044 & 3 & 5\\\\\n",
       "\t 5 & 150.5 & 8.155 & 4 & 5\\\\\n",
       "\\end{tabular}\n"
      ],
      "text/markdown": [
       "\n",
       "A matrix: 5 × 5 of type dbl\n",
       "\n",
       "| d | Nominal AIC | r | p1 | p2 |\n",
       "|---|---|---|---|---|\n",
       "| 1 | 149.9 | 5.882 | 5 | 5 |\n",
       "| 2 | 110.5 | 6.058 | 3 | 5 |\n",
       "| 3 | 124.6 | 6.595 | 2 | 5 |\n",
       "| 4 | 126.2 | 8.044 | 3 | 5 |\n",
       "| 5 | 150.5 | 8.155 | 4 | 5 |\n",
       "\n"
      ],
      "text/plain": [
       "     d Nominal AIC r     p1 p2\n",
       "[1,] 1 149.9       5.882 5  5 \n",
       "[2,] 2 110.5       6.058 3  5 \n",
       "[3,] 3 124.6       6.595 2  5 \n",
       "[4,] 4 126.2       8.044 3  5 \n",
       "[5,] 5 150.5       8.155 4  5 "
      ]
     },
     "metadata": {},
     "output_type": "display_data"
    }
   ],
   "source": [
    "max.d = 5\n",
    "max.p = 5\n",
    "\n",
    "AICM = NULL\n",
    "for (d in 1:max.d) {\n",
    "    model.spots = tar(y=sqrt(Y), p1=max.p, p2=max.p, d=d, a=.1, b=.9)\n",
    "    AICM = rbind(AICM, c(d, model.spots$AIC, signif(model.spots$thd,4), model.spots$p1, model.spots$p2))\n",
    "}\n",
    "colnames(AICM) = c('d','Nominal AIC','r','p1','p2')\n",
    "rownames(AICM) = NULL\n",
    "AICM"
   ]
  },
  {
   "cell_type": "markdown",
   "metadata": {},
   "source": [
    "The model with best AIC has delay 2, and is a SETAR(2, 3, 5) model:"
   ]
  },
  {
   "cell_type": "code",
   "execution_count": 9,
   "metadata": {},
   "outputs": [
    {
     "name": "stdout",
     "output_type": "stream",
     "text": [
      "time series included in this analysis is:  sqrt(Y) \n",
      "SETAR(2, 3 , 5 ) model delay = 2 \n",
      "estimated threshold =  6.058  from a Minimum AIC  fit with thresholds \n",
      "searched from the  12  percentile to the   79  percentile of all data.\n",
      "The estimated threshold is the  35.7  percentile of\n",
      "all data.\n",
      "lower regime: \n",
      "Residual Standard Error=0.9061\n",
      "R-Square=0.9894\n",
      "F-statistic (df=4, 16)=373.5257\n",
      "p-value=0\n",
      "\n",
      "                  Estimate Std.Err t-value Pr(>|t|)\n",
      "intercept-sqrt(Y)   9.5242  1.2796  7.4432   0.0000\n",
      "lag1-sqrt(Y)        1.0479  0.1699  6.1679   0.0000\n",
      "lag2-sqrt(Y)       -1.2022  0.2909 -4.1319   0.0008\n",
      "lag3-sqrt(Y)       -0.5555  0.2441 -2.2752   0.0370\n",
      "\n",
      "\n",
      "\n",
      "\n",
      " (unbiased) RMS \n",
      "0.8211 \n",
      " with no of data falling in the regime being \n",
      "sqrt(Y) 20 \n",
      "\n",
      "\n",
      " (max. likelihood) RMS for each series (denominator=sample size in the regime) \n",
      "sqrt(Y) 0.6569 \n",
      "\n",
      "\n",
      " upper regime: \n",
      "Residual Standard Error=0.4627\n",
      "R-Square=0.9977\n",
      "F-statistic (df=6, 30)=2149.376\n",
      "p-value=0\n",
      "\n",
      "                  Estimate Std.Err t-value Pr(>|t|)\n",
      "intercept-sqrt(Y)   5.6852  0.8608  6.6049   0.0000\n",
      "lag1-sqrt(Y)        0.3711  0.1070  3.4677   0.0016\n",
      "lag2-sqrt(Y)        0.3847  0.1183  3.2527   0.0028\n",
      "lag3-sqrt(Y)       -0.0656  0.1113 -0.5893   0.5601\n",
      "lag4-sqrt(Y)       -0.3634  0.1088 -3.3407   0.0022\n",
      "lag5-sqrt(Y)       -0.1118  0.0744 -1.5016   0.1437\n",
      "\n",
      "\n",
      "\n",
      "\n",
      " (unbiased) RMS \n",
      "0.2141 \n",
      " with no of data falling in the regime being \n",
      "36 \n",
      "\n",
      "\n",
      " (max. likelihood) RMS for each series (denominator=sample size in the regime)\n",
      "0.1784 \n",
      "\n",
      " Nominal AIC is  110.5 \n"
     ]
    }
   ],
   "source": [
    "model.spots = tar(y=sqrt(Y), p1=3, p2=5, d=2, a=.1, b=.9, print=T)"
   ]
  },
  {
   "cell_type": "markdown",
   "metadata": {},
   "source": [
    "Since the largest delay on the upper regime is not significant ($\\hat{\\phi}_{2, 5}$ has p-value 0.1437), we refit the model as a SETAR(2, 3, 4):"
   ]
  },
  {
   "cell_type": "code",
   "execution_count": 10,
   "metadata": {},
   "outputs": [
    {
     "name": "stdout",
     "output_type": "stream",
     "text": [
      "time series included in this analysis is:  sqrt(Y) \n",
      "SETAR(2, 3 , 4 ) model delay = 2 \n",
      "estimated threshold =  6.058  from a Minimum AIC  fit with thresholds \n",
      "searched from the  12  percentile to the   82  percentile of all data.\n",
      "The estimated threshold is the  35.1  percentile of\n",
      "all data.\n",
      "lower regime: \n",
      "Residual Standard Error=0.9061\n",
      "R-Square=0.9894\n",
      "F-statistic (df=4, 16)=373.5257\n",
      "p-value=0\n",
      "\n",
      "                  Estimate Std.Err t-value Pr(>|t|)\n",
      "intercept-sqrt(Y)   9.5242  1.2796  7.4432   0.0000\n",
      "lag1-sqrt(Y)        1.0479  0.1699  6.1679   0.0000\n",
      "lag2-sqrt(Y)       -1.2022  0.2909 -4.1319   0.0008\n",
      "lag3-sqrt(Y)       -0.5555  0.2441 -2.2752   0.0370\n",
      "\n",
      "\n",
      "\n",
      "\n",
      " (unbiased) RMS \n",
      "0.8211 \n",
      " with no of data falling in the regime being \n",
      "sqrt(Y) 20 \n",
      "\n",
      "\n",
      " (max. likelihood) RMS for each series (denominator=sample size in the regime) \n",
      "sqrt(Y) 0.6569 \n",
      "\n",
      "\n",
      " upper regime: \n",
      "Residual Standard Error=0.4804\n",
      "R-Square=0.9975\n",
      "F-statistic (df=5, 32)=2542.773\n",
      "p-value=0\n",
      "\n",
      "                  Estimate Std.Err t-value Pr(>|t|)\n",
      "intercept-sqrt(Y)   4.8070  0.6422  7.4847   0.0000\n",
      "lag1-sqrt(Y)        0.4025  0.1025  3.9278   0.0004\n",
      "lag2-sqrt(Y)        0.4166  0.1203  3.4618   0.0015\n",
      "lag3-sqrt(Y)       -0.0122  0.1104 -0.1109   0.9124\n",
      "lag4-sqrt(Y)       -0.4886  0.0844 -5.7925   0.0000\n",
      "\n",
      "\n",
      "\n",
      "\n",
      " (unbiased) RMS \n",
      "0.2308 \n",
      " with no of data falling in the regime being \n",
      "37 \n",
      "\n",
      "\n",
      " (max. likelihood) RMS for each series (denominator=sample size in the regime)\n",
      "0.1996 \n",
      "\n",
      " Nominal AIC is  113.7 \n"
     ]
    }
   ],
   "source": [
    "model.spots = tar(y=sqrt(Y), p1=3, p2=4, d=2, a=.1, b=.9, print=T)"
   ]
  },
  {
   "cell_type": "markdown",
   "metadata": {},
   "source": [
    "Next, running diagnostics:\n",
    "\n",
    "- The standardized residuals show no pattern\n",
    "- The ACF of the residuals do not display correlation\n",
    "- The p-values for the Portmanteau test shows all values above 0.05\n",
    "- The QQ plot looks reasonable, and the Shapiro-Wilk normality test cannot reject normality of the residuals."
   ]
  },
  {
   "cell_type": "code",
   "execution_count": 11,
   "metadata": {},
   "outputs": [
    {
     "data": {
      "image/png": "[encoded data removed]",
      "text/plain": [
       "Plot with title \"\""
      ]
     },
     "metadata": {
      "image/png": {
       "height": 720,
       "width": 720
      }
     },
     "output_type": "display_data"
    }
   ],
   "source": [
    "options(repr.plot.width=12, repr.plot.height=12)\n",
    "\n",
    "tsdiag(model.spots)"
   ]
  },
  {
   "cell_type": "code",
   "execution_count": 12,
   "metadata": {},
   "outputs": [
    {
     "data": {
      "image/png": "[encoded data removed]",
      "text/plain": [
       "Plot with title \"Normal Q-Q Plot\""
      ]
     },
     "metadata": {
      "image/png": {
       "height": 360,
       "width": 360
      }
     },
     "output_type": "display_data"
    }
   ],
   "source": [
    "options(repr.plot.width=6, repr.plot.height=6)\n",
    "qqnorm(model.spots$std.res); qqline(model.spots$std.res)"
   ]
  },
  {
   "cell_type": "code",
   "execution_count": 13,
   "metadata": {},
   "outputs": [
    {
     "data": {
      "text/plain": [
       "\n",
       "\tShapiro-Wilk normality test\n",
       "\n",
       "data:  model.spots$std.res\n",
       "W = 0.97439, p-value = 0.2667\n"
      ]
     },
     "metadata": {},
     "output_type": "display_data"
    }
   ],
   "source": [
    "shapiro.test(model.spots$std.res)"
   ]
  },
  {
   "cell_type": "markdown",
   "metadata": {},
   "source": [
    "**Exercise 15.3**. Predict the annual relative sunspot numbers for ten years using the fitted model obtained in Exercise 15.2. Draw the prediction intervals and the predicted medians. (The data file is named `spots`.)"
   ]
  },
  {
   "cell_type": "markdown",
   "metadata": {},
   "source": [
    "**Solution**."
   ]
  },
  {
   "cell_type": "code",
   "execution_count": 14,
   "metadata": {},
   "outputs": [],
   "source": [
    "set.seed(0)\n",
    "model.spots.pred = predict(model.spots, n.ahead=10, n.sim=10000)"
   ]
  },
  {
   "cell_type": "code",
   "execution_count": 15,
   "metadata": {},
   "outputs": [],
   "source": [
    "Y_pred = model.spots.pred$fit**2\n",
    "Y_pred_lower = model.spots.pred$pred.interval[1, ]**2\n",
    "Y_pred_upper = model.spots.pred$pred.interval[2, ]**2"
   ]
  },
  {
   "cell_type": "code",
   "execution_count": 16,
   "metadata": {},
   "outputs": [
    {
     "data": {
      "image/png": "[encoded data removed]",
      "text/plain": [
       "plot without title"
      ]
     },
     "metadata": {
      "image/png": {
       "height": 240,
       "width": 720
      }
     },
     "output_type": "display_data"
    }
   ],
   "source": [
    "options(repr.plot.width=12, repr.plot.height=4)\n",
    "\n",
    "m = length(Y_pred)\n",
    "n = length(Y)\n",
    "\n",
    "# Prepend last element so line is continuous\n",
    "plot_data = c(tail(Y, n=1), Y_pred)\n",
    "\n",
    "ggplot() + \n",
    "  geom_line(aes(x=n:(n+m), y=plot_data), color='orange') +\n",
    "  geom_point(aes(x=n:(n+m), y=plot_data), color='orange') +\n",
    "  geom_line(aes(x=1:n, y=c(Y)), color='blue') +\n",
    "  geom_point(aes(x=1:n, y=c(Y)), color='blue') +\n",
    "  geom_ribbon(aes(\n",
    "      x=(n+1):(n+m), \n",
    "      ymin=Y_pred_lower, \n",
    "      ymax=Y_pred_upper\n",
    "  ), fill='orange', alpha=0.2) + \n",
    "  xlab('') + ylab('') +\n",
    "  theme_bw() + theme(text = element_text(size=16))"
   ]
  },
  {
   "cell_type": "markdown",
   "metadata": {},
   "source": [
    "**Exercise 15.4**. Examine the long-run behavior of the skeleton of the fitted model for the relative sunspot data. Is the fitted model likely to be stationary? Explain your answer. "
   ]
  },
  {
   "cell_type": "markdown",
   "metadata": {},
   "source": [
    "**Solution**."
   ]
  },
  {
   "cell_type": "code",
   "execution_count": 17,
   "metadata": {},
   "outputs": [
    {
     "name": "stdout",
     "output_type": "stream",
     "text": [
      " limit cycle of length  1  and it consists of  7.0503 \n"
     ]
    },
    {
     "data": {
      "image/png": "[encoded data removed]",
      "text/plain": [
       "plot without title"
      ]
     },
     "metadata": {
      "image/png": {
       "height": 240,
       "width": 720
      }
     },
     "output_type": "display_data"
    }
   ],
   "source": [
    "options(repr.plot.width=12, repr.plot.height=4)\n",
    "\n",
    "tar.skeleton(model.spots)"
   ]
  },
  {
   "cell_type": "markdown",
   "metadata": {},
   "source": [
    "The fitted model is stationary, and it converges to a constant value."
   ]
  },
  {
   "cell_type": "markdown",
   "metadata": {},
   "source": [
    "**Exercise 15.5**. Simulate a series of size 1000 from the TAR model fitted to the relative sunspot data. Compute the spectrum of the simulated realization and compare it with the spectrum of the data. Does the fitted model capture the correlation structure of the data? "
   ]
  },
  {
   "cell_type": "markdown",
   "metadata": {},
   "source": [
    "**Solution**."
   ]
  },
  {
   "cell_type": "code",
   "execution_count": 18,
   "metadata": {},
   "outputs": [],
   "source": [
    "# Simulate the series\n",
    "set.seed(0)\n",
    "Y_sim = tar.sim(n=1000, object=model.spots)$y^2"
   ]
  },
  {
   "cell_type": "code",
   "execution_count": 19,
   "metadata": {},
   "outputs": [
    {
     "data": {
      "image/png": "[encoded data removed]",
      "text/plain": [
       "plot without title"
      ]
     },
     "metadata": {
      "image/png": {
       "height": 240,
       "width": 720
      }
     },
     "output_type": "display_data"
    }
   ],
   "source": [
    "ggplot() +\n",
    "    geom_line(aes(x=1:1000, y=Y_sim), color='orange', size=1) +\n",
    "    xlab('t') + ylab('Simulated Series') +\n",
    "    theme_bw() + theme(text = element_text(size=16))"
   ]
  },
  {
   "cell_type": "code",
   "execution_count": 20,
   "metadata": {},
   "outputs": [
    {
     "data": {
      "image/png": "[encoded data removed]",
      "text/plain": [
       "plot without title"
      ]
     },
     "metadata": {
      "image/png": {
       "height": 240,
       "width": 720
      }
     },
     "output_type": "display_data"
    }
   ],
   "source": [
    "# Compute spectrum of the original data and of the simulation\n",
    "spec_orig = spec(Y, span=c(3, 3), taper=.1, plot=F);\n",
    "spec_sim = spec(Y_sim, span=c(21, 21), taper=.1, plot=F);\n",
    "\n",
    "ggplot() +\n",
    "    geom_line(aes(x=spec_orig$freq, y=spec_orig$spec), color='blue', size=1) +\n",
    "    geom_line(aes(x=spec_sim$freq, y=spec_sim$spec), color='orange', size=1) +\n",
    "    xlab('Frequency') + ylab('Spectral Density') +\n",
    "    scale_y_continuous(trans=\"log10\") +\n",
    "    theme_bw() + theme(text = element_text(size=16))"
   ]
  },
  {
   "cell_type": "markdown",
   "metadata": {},
   "source": [
    "The spectrums seem to be in general agreement."
   ]
  },
  {
   "cell_type": "markdown",
   "metadata": {},
   "source": [
    "**Exercise 15.6**. Draw the lagged regression plots for the square-root-transformed hare data. Is there any evidence that the hare data are nonlinear? (The data file is named `hare`.)"
   ]
  },
  {
   "cell_type": "markdown",
   "metadata": {},
   "source": [
    "**Solution**. Lagged regression plots for lags 2, 3, and 6 appear to indicate that the data are nonlinear."
   ]
  },
  {
   "cell_type": "code",
   "execution_count": 21,
   "metadata": {},
   "outputs": [],
   "source": [
    "Y = fread('../data/hare.dat')[['hare']]"
   ]
  },
  {
   "cell_type": "code",
   "execution_count": 22,
   "metadata": {},
   "outputs": [
    {
     "name": "stderr",
     "output_type": "stream",
     "text": [
      "Loading required package: locfit\n",
      "\n",
      "locfit 1.5-9.4 \t 2020-03-24\n",
      "\n"
     ]
    }
   ],
   "source": [
    "# Required for TSA's lagplot\n",
    "require(locfit)"
   ]
  },
  {
   "cell_type": "code",
   "execution_count": 23,
   "metadata": {},
   "outputs": [
    {
     "data": {
      "image/png": "[encoded data removed]",
      "text/plain": [
       "Plot with title \"lag-6 regression plot\""
      ]
     },
     "metadata": {
      "image/png": {
       "height": 720,
       "width": 720
      }
     },
     "output_type": "display_data"
    }
   ],
   "source": [
    "options(repr.plot.width=12, repr.plot.height=12)\n",
    "TSA::lagplot(sqrt(Y))"
   ]
  },
  {
   "cell_type": "markdown",
   "metadata": {},
   "source": [
    "**Exercise 15.7**. Carry out formal tests (Keenan’s test, Tsay’s test, and threshold likelihood ratio test) for nonlinearity for the hare data. Is the hare abundance process nonlinear? Explain your answer. (The data file is named `hare`.)"
   ]
  },
  {
   "cell_type": "markdown",
   "metadata": {},
   "source": [
    "**Solution**."
   ]
  },
  {
   "cell_type": "code",
   "execution_count": 24,
   "metadata": {},
   "outputs": [
    {
     "data": {
      "text/html": [
       "<dl>\n",
       "\t<dt>$test.stat</dt>\n",
       "\t\t<dd>8.08356844484904</dd>\n",
       "\t<dt>$p.value</dt>\n",
       "\t\t<dd>0.0092076126476321</dd>\n",
       "\t<dt>$order</dt>\n",
       "\t\t<dd>3</dd>\n",
       "</dl>\n"
      ],
      "text/latex": [
       "\\begin{description}\n",
       "\\item[\\$test.stat] 8.08356844484904\n",
       "\\item[\\$p.value] 0.0092076126476321\n",
       "\\item[\\$order] 3\n",
       "\\end{description}\n"
      ],
      "text/markdown": [
       "$test.stat\n",
       ":   8.08356844484904\n",
       "$p.value\n",
       ":   0.0092076126476321\n",
       "$order\n",
       ":   3\n",
       "\n",
       "\n"
      ],
      "text/plain": [
       "$test.stat\n",
       "[1] 8.083568\n",
       "\n",
       "$p.value\n",
       "[1] 0.009207613\n",
       "\n",
       "$order\n",
       "[1] 3\n"
      ]
     },
     "metadata": {},
     "output_type": "display_data"
    }
   ],
   "source": [
    "Keenan.test(sqrt(Y))"
   ]
  },
  {
   "cell_type": "code",
   "execution_count": 25,
   "metadata": {},
   "outputs": [
    {
     "data": {
      "text/html": [
       "<dl>\n",
       "\t<dt>$test.stat</dt>\n",
       "\t\t<dd>2.135</dd>\n",
       "\t<dt>$p.value</dt>\n",
       "\t\t<dd>0.09923</dd>\n",
       "\t<dt>$order</dt>\n",
       "\t\t<dd>3</dd>\n",
       "</dl>\n"
      ],
      "text/latex": [
       "\\begin{description}\n",
       "\\item[\\$test.stat] 2.135\n",
       "\\item[\\$p.value] 0.09923\n",
       "\\item[\\$order] 3\n",
       "\\end{description}\n"
      ],
      "text/markdown": [
       "$test.stat\n",
       ":   2.135\n",
       "$p.value\n",
       ":   0.09923\n",
       "$order\n",
       ":   3\n",
       "\n",
       "\n"
      ],
      "text/plain": [
       "$test.stat\n",
       "[1] 2.135\n",
       "\n",
       "$p.value\n",
       "[1] 0.09923\n",
       "\n",
       "$order\n",
       "[1] 3\n"
      ]
     },
     "metadata": {},
     "output_type": "display_data"
    }
   ],
   "source": [
    "Tsay.test(sqrt(Y))"
   ]
  },
  {
   "cell_type": "code",
   "execution_count": 26,
   "metadata": {},
   "outputs": [
    {
     "data": {
      "text/html": [
       "<table>\n",
       "<caption>A matrix: 3 × 3 of type dbl</caption>\n",
       "<tbody>\n",
       "\t<tr><th scope=row>d</th><td> 1.000</td><td> 2.000</td><td> 3.000</td></tr>\n",
       "\t<tr><th scope=row>test statistic</th><td>71.558</td><td>54.964</td><td>16.807</td></tr>\n",
       "\t<tr><th scope=row>p-value</th><td> 0.000</td><td> 0.000</td><td> 0.083</td></tr>\n",
       "</tbody>\n",
       "</table>\n"
      ],
      "text/latex": [
       "A matrix: 3 × 3 of type dbl\n",
       "\\begin{tabular}{r|lll}\n",
       "\td &  1.000 &  2.000 &  3.000\\\\\n",
       "\ttest statistic & 71.558 & 54.964 & 16.807\\\\\n",
       "\tp-value &  0.000 &  0.000 &  0.083\\\\\n",
       "\\end{tabular}\n"
      ],
      "text/markdown": [
       "\n",
       "A matrix: 3 × 3 of type dbl\n",
       "\n",
       "| d |  1.000 |  2.000 |  3.000 |\n",
       "| test statistic | 71.558 | 54.964 | 16.807 |\n",
       "| p-value |  0.000 |  0.000 |  0.083 |\n",
       "\n"
      ],
      "text/plain": [
       "               [,1]   [,2]   [,3]  \n",
       "d               1.000  2.000  3.000\n",
       "test statistic 71.558 54.964 16.807\n",
       "p-value         0.000  0.000  0.083"
      ]
     },
     "metadata": {},
     "output_type": "display_data"
    }
   ],
   "source": [
    "pvaluem = NULL\n",
    "for (d in 1:3) {\n",
    "    res = tlrt(sqrt(Y), p=5, d=d, a=0.25, b=0.75)\n",
    "    pvaluem = cbind(pvaluem, c(d,res$test.statistic, res$p.value))\n",
    "}\n",
    "rownames(pvaluem) = c('d','test statistic','p-value')\n",
    "round(pvaluem, 3)"
   ]
  },
  {
   "cell_type": "markdown",
   "metadata": {},
   "source": [
    "Keenan's test on the square roots of the hare series shows a p-value of 0.009, pointing to non-linearity.  Tsay's test presents a week result, with p-value a bit under 0.1, not rejecting linearity at 0.05.  Finally, the threshold likelihood test displays p-value under 0.001 for delays 1 and 2.\n",
    "\n",
    "The tests suggest that the process is nonlinear."
   ]
  },
  {
   "cell_type": "markdown",
   "metadata": {},
   "source": [
    "**Exercise 15.8**. Assuming that the hare data are nonlinear, fit a TAR model to the hare data and examine the goodness of fit. (The data file is named `hare`.)"
   ]
  },
  {
   "cell_type": "markdown",
   "metadata": {},
   "source": [
    "**Solution**.  Let's search through multiple delays, based on AIC:"
   ]
  },
  {
   "cell_type": "code",
   "execution_count": 27,
   "metadata": {},
   "outputs": [
    {
     "data": {
      "text/html": [
       "<table>\n",
       "<caption>A matrix: 5 × 5 of type dbl</caption>\n",
       "<thead>\n",
       "\t<tr><th scope=col>d</th><th scope=col>Nominal AIC</th><th scope=col>r</th><th scope=col>p1</th><th scope=col>p2</th></tr>\n",
       "</thead>\n",
       "<tbody>\n",
       "\t<tr><td>1</td><td>73.34</td><td>5.916</td><td>4</td><td>5</td></tr>\n",
       "\t<tr><td>2</td><td>76.22</td><td>5.292</td><td>4</td><td>4</td></tr>\n",
       "\t<tr><td>3</td><td>85.00</td><td>5.099</td><td>5</td><td>5</td></tr>\n",
       "\t<tr><td>4</td><td>80.85</td><td>5.099</td><td>5</td><td>5</td></tr>\n",
       "\t<tr><td>5</td><td>71.47</td><td>5.000</td><td>5</td><td>3</td></tr>\n",
       "</tbody>\n",
       "</table>\n"
      ],
      "text/latex": [
       "A matrix: 5 × 5 of type dbl\n",
       "\\begin{tabular}{lllll}\n",
       " d & Nominal AIC & r & p1 & p2\\\\\n",
       "\\hline\n",
       "\t 1 & 73.34 & 5.916 & 4 & 5\\\\\n",
       "\t 2 & 76.22 & 5.292 & 4 & 4\\\\\n",
       "\t 3 & 85.00 & 5.099 & 5 & 5\\\\\n",
       "\t 4 & 80.85 & 5.099 & 5 & 5\\\\\n",
       "\t 5 & 71.47 & 5.000 & 5 & 3\\\\\n",
       "\\end{tabular}\n"
      ],
      "text/markdown": [
       "\n",
       "A matrix: 5 × 5 of type dbl\n",
       "\n",
       "| d | Nominal AIC | r | p1 | p2 |\n",
       "|---|---|---|---|---|\n",
       "| 1 | 73.34 | 5.916 | 4 | 5 |\n",
       "| 2 | 76.22 | 5.292 | 4 | 4 |\n",
       "| 3 | 85.00 | 5.099 | 5 | 5 |\n",
       "| 4 | 80.85 | 5.099 | 5 | 5 |\n",
       "| 5 | 71.47 | 5.000 | 5 | 3 |\n",
       "\n"
      ],
      "text/plain": [
       "     d Nominal AIC r     p1 p2\n",
       "[1,] 1 73.34       5.916 4  5 \n",
       "[2,] 2 76.22       5.292 4  4 \n",
       "[3,] 3 85.00       5.099 5  5 \n",
       "[4,] 4 80.85       5.099 5  5 \n",
       "[5,] 5 71.47       5.000 5  3 "
      ]
     },
     "metadata": {},
     "output_type": "display_data"
    }
   ],
   "source": [
    "max.d = 5\n",
    "max.p = 5\n",
    "\n",
    "AICM = NULL\n",
    "for (d in 1:max.d) {\n",
    "    model.spots = tar(y=sqrt(Y), p1=max.p, p2=max.p, d=d, a=.1, b=.9)\n",
    "    AICM = rbind(AICM, c(d, model.spots$AIC, signif(model.spots$thd,4), model.spots$p1, model.spots$p2))\n",
    "}\n",
    "colnames(AICM) = c('d','Nominal AIC','r','p1','p2')\n",
    "rownames(AICM) = NULL\n",
    "AICM"
   ]
  },
  {
   "cell_type": "markdown",
   "metadata": {},
   "source": [
    "Next, let's fit a SETAR(2, 5, 3) model with delay $d = 5$:"
   ]
  },
  {
   "cell_type": "code",
   "execution_count": 28,
   "metadata": {},
   "outputs": [
    {
     "name": "stdout",
     "output_type": "stream",
     "text": [
      "time series included in this analysis is:  sqrt(Y) \n",
      "SETAR(2, 5 , 3 ) model delay = 5 \n",
      "estimated threshold =  5  from a Minimum AIC  fit with thresholds \n",
      "searched from the  42  percentile to the   69  percentile of all data.\n",
      "The estimated threshold is the  46.2  percentile of\n",
      "all data.\n",
      "lower regime: \n",
      "Residual Standard Error=0.5612\n",
      "R-Square=0.9976\n",
      "F-statistic (df=6, 6)=413.3832\n",
      "p-value=0\n",
      "\n",
      "                  Estimate Std.Err t-value Pr(>|t|)\n",
      "intercept-sqrt(Y)   0.8673  0.9600  0.9035   0.4011\n",
      "lag1-sqrt(Y)        1.0497  0.1763  5.9544   0.0010\n",
      "lag2-sqrt(Y)        0.1153  0.2674  0.4314   0.6812\n",
      "lag3-sqrt(Y)       -0.7305  0.2514 -2.9059   0.0271\n",
      "lag4-sqrt(Y)       -0.5737  0.3358 -1.7088   0.1384\n",
      "lag5-sqrt(Y)        1.2025  0.2632  4.5691   0.0038\n",
      "\n",
      "\n",
      "\n",
      "\n",
      " (unbiased) RMS \n",
      "0.3149 \n",
      " with no of data falling in the regime being \n",
      "sqrt(Y) 12 \n",
      "\n",
      "\n",
      " (max. likelihood) RMS for each series (denominator=sample size in the regime) \n",
      "sqrt(Y) 0.1575 \n",
      "\n",
      "\n",
      " upper regime: \n",
      "Residual Standard Error=1.0964\n",
      "R-Square=0.9605\n",
      "F-statistic (df=4, 10)=60.7245\n",
      "p-value=0\n",
      "\n",
      "                  Estimate Std.Err t-value Pr(>|t|)\n",
      "intercept-sqrt(Y)   2.4250  1.0534  2.3021   0.0441\n",
      "lag1-sqrt(Y)        1.0215  0.3385  3.0176   0.0129\n",
      "lag2-sqrt(Y)        0.0162  0.4781  0.0338   0.9737\n",
      "lag3-sqrt(Y)       -0.4920  0.3420 -1.4384   0.1809\n",
      "\n",
      "\n",
      "\n",
      "\n",
      " (unbiased) RMS \n",
      "1.202 \n",
      " with no of data falling in the regime being \n",
      "14 \n",
      "\n",
      "\n",
      " (max. likelihood) RMS for each series (denominator=sample size in the regime)\n",
      "0.8586 \n",
      "\n",
      " Nominal AIC is  71.47 \n"
     ]
    }
   ],
   "source": [
    "model.hare = tar(y=sqrt(Y), p1=5, p2=3, d=5, a=.1, b=.9, print=T)"
   ]
  },
  {
   "cell_type": "markdown",
   "metadata": {},
   "source": [
    "Since the two largest delays on the upper regime are not significant ($\\hat{\\phi}_{2, 3}$ has p-value 0.181 and $\\hat{\\phi}_{2, 2}$ has p-value 0.974), we refit the model as a SETAR(2, 5, 1):"
   ]
  },
  {
   "cell_type": "code",
   "execution_count": 29,
   "metadata": {},
   "outputs": [
    {
     "name": "stdout",
     "output_type": "stream",
     "text": [
      "time series included in this analysis is:  sqrt(Y) \n",
      "SETAR(2, 5 , 1 ) model delay = 5 \n",
      "estimated threshold =  5  from a Minimum AIC  fit with thresholds \n",
      "searched from the  42  percentile to the   77  percentile of all data.\n",
      "The estimated threshold is the  46.2  percentile of\n",
      "all data.\n",
      "lower regime: \n",
      "Residual Standard Error=0.5612\n",
      "R-Square=0.9976\n",
      "F-statistic (df=6, 6)=413.3832\n",
      "p-value=0\n",
      "\n",
      "                  Estimate Std.Err t-value Pr(>|t|)\n",
      "intercept-sqrt(Y)   0.8673  0.9600  0.9035   0.4011\n",
      "lag1-sqrt(Y)        1.0497  0.1763  5.9544   0.0010\n",
      "lag2-sqrt(Y)        0.1153  0.2674  0.4314   0.6812\n",
      "lag3-sqrt(Y)       -0.7305  0.2514 -2.9059   0.0271\n",
      "lag4-sqrt(Y)       -0.5737  0.3358 -1.7088   0.1384\n",
      "lag5-sqrt(Y)        1.2025  0.2632  4.5691   0.0038\n",
      "\n",
      "\n",
      "\n",
      "\n",
      " (unbiased) RMS \n",
      "0.3149 \n",
      " with no of data falling in the regime being \n",
      "sqrt(Y) 12 \n",
      "\n",
      "\n",
      " (max. likelihood) RMS for each series (denominator=sample size in the regime) \n",
      "sqrt(Y) 0.1575 \n",
      "\n",
      "\n",
      " upper regime: \n",
      "Residual Standard Error=1.2826\n",
      "R-Square=0.9351\n",
      "F-statistic (df=2, 12)=86.4047\n",
      "p-value=0\n",
      "\n",
      "                  Estimate Std.Err t-value Pr(>|t|)\n",
      "intercept-sqrt(Y)   0.8934  0.8369  1.0676   0.3067\n",
      "lag1-sqrt(Y)        0.7075  0.1611  4.3926   0.0009\n",
      "\n",
      "\n",
      "\n",
      "\n",
      " (unbiased) RMS \n",
      "1.645 \n",
      " with no of data falling in the regime being \n",
      "14 \n",
      "\n",
      "\n",
      " (max. likelihood) RMS for each series (denominator=sample size in the regime)\n",
      "1.41 \n",
      "\n",
      " Nominal AIC is  74.41 \n"
     ]
    }
   ],
   "source": [
    "model.hare = tar(y=sqrt(Y), p1=5, p2=1, d=5, a=.1, b=.9, print=T)"
   ]
  },
  {
   "cell_type": "markdown",
   "metadata": {},
   "source": [
    "Next, running diagnostics:\n",
    "\n",
    "- The standardized residuals show no obvious pattern\n",
    "- The ACF of the residuals do not display correlation\n",
    "- The p-values for the Portmanteau test shows all values above 0.05\n",
    "- The Shapiro-Wilk normality test cannot reject normality of the residuals."
   ]
  },
  {
   "cell_type": "code",
   "execution_count": 30,
   "metadata": {},
   "outputs": [
    {
     "data": {
      "image/png": "[encoded data removed]",
      "text/plain": [
       "Plot with title \"\""
      ]
     },
     "metadata": {
      "image/png": {
       "height": 720,
       "width": 720
      }
     },
     "output_type": "display_data"
    }
   ],
   "source": [
    "options(repr.plot.width=12, repr.plot.height=12)\n",
    "\n",
    "tsdiag(model.hare, gof.lag=20)"
   ]
  },
  {
   "cell_type": "code",
   "execution_count": 31,
   "metadata": {},
   "outputs": [
    {
     "data": {
      "text/plain": [
       "\n",
       "\tShapiro-Wilk normality test\n",
       "\n",
       "data:  model.hare$std.res\n",
       "W = 0.97873, p-value = 0.8459\n"
      ]
     },
     "metadata": {},
     "output_type": "display_data"
    }
   ],
   "source": [
    "shapiro.test(model.hare$std.res)"
   ]
  },
  {
   "cell_type": "markdown",
   "metadata": {},
   "source": [
    "**Exercise 15.9**. This exercise assumes that the reader is familiar with Markov chain theory. Consider a simple TAR model that is piecewise constant: \n",
    "\n",
    "$$\n",
    "Y_t = \\begin{cases}\n",
    "\\phi_{1,0} + \\sigma_1 e_t &\\text{if } Y_{t-1} \\leq r\\\\\n",
    "\\phi_{2,0} + \\sigma_2 e_t &\\text{if } Y_{t-1} > r\n",
    "\\end{cases}\n",
    "$$\n",
    "\n",
    "where $\\{e_t\\}$ are independent standard normal random variables. Let $R_t = 1$ if $Y_t \\leq r$ and 2 otherwise, which is a Markov chain.\n",
    "\n",
    "**(a)** Find the transition probability matrix of $R_t$ and its stationary distribution.\n",
    "\n",
    "**(b)** Derive the stationary distribution of $\\{Y_t\\}$.\n",
    "\n",
    "**(c)** Find the lag 1 autocovariance of the TAR process. "
   ]
  },
  {
   "cell_type": "markdown",
   "metadata": {},
   "source": [
    "**Solution**."
   ]
  },
  {
   "cell_type": "markdown",
   "metadata": {},
   "source": [
    "**(a)** We have:\n",
    "\n",
    "$$ p_{11} = \\text{Pr}\\left[ Y_t \\leq r | Y_{t-1} \\leq r \\right] = \\text{Pr}\\left[ \\phi_{1, 0} + \\sigma_1 e_t \\leq r \\right] = \\Phi\\left( \\frac{r - \\phi_{1, 0} }{\\sigma_1} \\right) $$\n",
    "\n",
    "and $$ p_{12} = 1 - p_{11} = 1 - \\Phi\\left( \\frac{r - \\phi_{1, 0} }{\\sigma_1} \\right) $$\n",
    "\n",
    "where $\\Phi$ is the cumulative distribution function of the standard normal.\n",
    "\n",
    "Similarly,\n",
    "\n",
    "$$ p_{21} = \\text{Pr}\\left[ Y_t \\leq r | Y_{t-1} > r \\right] = \\text{Pr}\\left[ \\phi_{2, 0} + \\sigma_2 e_t \\leq r \\right] = \\Phi\\left( \\frac{r - \\phi_{2, 0} }{\\sigma_2} \\right) $$\n",
    "\n",
    "and\n",
    "\n",
    "$$ p_{22} = 1 - p_{21} = 1 - \\Phi\\left( \\frac{r - \\phi_{2, 0} }{\\sigma_2} \\right) $$\n",
    "\n",
    "Therefore, the probability transition matrix is\n",
    "\n",
    "$$\n",
    "\\begin{bmatrix}\n",
    "p_{11} & p_{12} \\\\\n",
    "p_{21} & p_{22}\n",
    "\\end{bmatrix} = \\begin{bmatrix}\n",
    "\\Phi\\left( \\frac{r - \\phi_{1, 0} }{\\sigma_1} \\right) & 1 - \\Phi\\left( \\frac{r - \\phi_{1, 0} }{\\sigma_1} \\right) \\\\\n",
    "\\Phi\\left( \\frac{r - \\phi_{2, 0} }{\\sigma_2} \\right) & 1 - \\Phi\\left( \\frac{r - \\phi_{2, 0} }{\\sigma_2} \\right)\n",
    "\\end{bmatrix}\n",
    "$$\n",
    "\n",
    "If the stationary distribution is $\\begin{bmatrix} \\pi_1 \\pi_2 \\end{bmatrix}^T$, then the stationary distribution isn't affected by the transition operation, that is,\n",
    "\n",
    "$$ \\begin{bmatrix} \\pi_1 & \\pi_2 \\end{bmatrix} \\cdot \\begin{bmatrix}\n",
    "p_{11} & p_{12} \\\\\n",
    "p_{21} & p_{22}\n",
    "\\end{bmatrix} = \\begin{bmatrix} \\pi_1 & \\pi_2 \\end{bmatrix} $$\n",
    "\n",
    "Given that $\\pi_1 + \\pi_2 = 1$, we can solve to obtain the stationary distribution,\n",
    "\n",
    "$$\n",
    "\\begin{bmatrix} \\pi_1 \\\\ \\pi_2 \\end{bmatrix} = \n",
    "\\begin{bmatrix} \\frac{p_{21}}{p_{21} + p_{12}} \\\\ \\frac{p_{12}}{p_{21} + p_{12}} \\end{bmatrix}\n",
    "$$"
   ]
  },
  {
   "cell_type": "markdown",
   "metadata": {},
   "source": [
    "**(b)**  Let $F$ be the stationary distribution of $\\{Y_t\\}$.  Then $Y_{t+1}$ follows the same distribution as $Y_t$, so\n",
    "\n",
    "$$ \n",
    "\\text{Pr}(Y_{t+1} \\leq y) = \\text{Pr}(Y_t \\leq r) \\text{Pr}(Y_{t+1} \\leq y | Y_t \\leq r) \n",
    " + \\text{Pr}(Y_t > r) \\text{Pr}(Y_{t+1} \\leq y | Y_t > r)\n",
    "$$\n",
    "\n",
    "and, using $\\text{Pr}(Y_{t+1} \\leq y) = \\text{Pr}(Y_t \\leq y) = F(y)$, we get\n",
    "\n",
    "$$\n",
    "F(y) = F(r) \\Phi\\left(\\frac{y - \\phi_{1, 0}}{\\sigma_1}\\right) + (1 - F(r)) \\Phi\\left( \\frac{y - \\phi_{2, 0}}{\\sigma_2}\\right)\n",
    "$$\n",
    "\n",
    "For the case where $y = r$, we can solve for $F(r)$, obtaining:\n",
    "\n",
    "$$ F(r) = \\frac{ \\Phi\\left( \\frac{r - \\phi_{2, 0}}{\\sigma_2}\\right)}{1 - \\Phi\\left(\\frac{r - \\phi_{1, 0}}{\\sigma_1}\\right) +  \\Phi\\left( \\frac{r - \\phi_{2, 0}}{\\sigma_2}\\right)} $$\n",
    "\n",
    "Placing it back into the previous equation, we get an expression for $F(y)$ for any $y$,\n",
    "\n",
    "$$\n",
    "F(y) = \\frac{\n",
    "    \\Phi\\left( \\frac{r - \\phi_{2, 0}}{\\sigma_2}\\right) \\Phi\\left(\\frac{y - \\phi_{1, 0}}{\\sigma_1}\\right) \n",
    "    + \\left(1 - \\Phi\\left( \\frac{r - \\phi_{1, 0}}{\\sigma_1}\\right) \\right) \\Phi\\left( \\frac{y - \\phi_{2, 0}}{\\sigma_2}\\right)\n",
    "}{\n",
    "    1 - \\Phi\\left(\\frac{r - \\phi_{1, 0}}{\\sigma_1}\\right) +  \\Phi\\left( \\frac{r - \\phi_{2, 0}}{\\sigma_2}\\right)\n",
    "}\n",
    "$$"
   ]
  },
  {
   "cell_type": "markdown",
   "metadata": {},
   "source": [
    "**(c)**  We have:\n",
    "\n",
    "$$\n",
    "\\begin{align}\n",
    "\\text{E}[Y_t] &= \\text{E}[Y_t | Y_{t-1} \\leq r] \\cdot \\text{Pr}[Y_{t-1} \\leq r] + \\text{E}[Y_t | Y_{t-1} > r] \\cdot \\text{Pr}[Y_{t-1} > r] \\\\\n",
    "&= \\phi_{1, 0} F(r) + \\phi_{2, 0} (1 - F(r))\n",
    "\\end{align}\n",
    "$$\n",
    "\n",
    "and, since $Y_t$ and $Y_{t-1}$ are conditionally independent given $Y_{t-1} \\leq r$, or given $Y_{t-1} > r$, we have:\n",
    "\n",
    "$$\n",
    "\\begin{align}\n",
    "\\text{E}[Y_t Y_{t-1}] &= \\text{E}[Y_t Y_{t-1} | Y_{t-1} \\leq r] \\cdot \\text{Pr}[Y_{t-1} \\leq r] + \\text{E}[Y_t Y_{t-1} | Y_{t-1} > r] \\cdot \\text{Pr}[Y_{t-1} > r] \\\\\n",
    "&= \\text{E}[Y_t | Y_{t-1} \\leq r] \\cdot \\text{E}[Y_{t-1} | Y_{t-1} \\leq r] \\cdot \\text{Pr}[Y_{t-1} \\leq r] +\n",
    "   \\text{E}[Y_t | Y_{t-1} > r] \\cdot \\text{E}[Y_{t-1} | Y_{t-1} > r] \\cdot \\text{Pr}[Y_{t-1} > r] \\\\\n",
    "&= \\phi_{1, 0} \\left(\\int_{-\\infty}^{r} y dF(y) \\right) F(r)\n",
    "  + \\phi_{2, 0} \\left(\\int_r^{\\infty} y dF(y) \\right) (1 - F(r))\n",
    "\\end{align}\n",
    "$$\n",
    "\n",
    "Therefore, the autocovariance is\n",
    "\n",
    "$$\n",
    "\\begin{align}\n",
    "\\text{Cov}[Y_t, Y_{t-1}] &= \\text{E}[Y_t Y_{t-1}] - \\text{E}[Y_t] \\text{E}[Y_{t-1}] \\\\\n",
    "&= \\phi_{1, 0} F(r) \\left(\\int_{-\\infty}^{r} y dF(y) \\right) + \\phi_{2, 0} (1 - F(r)) \\left(\\int_r^{\\infty} y dF(y) \\right)\n",
    "  - \\left( \\phi_{1, 0} F(r) + \\phi_{2, 0} (1 - F(r)) \\right)^2\n",
    "\\end{align}\n",
    "$$"
   ]
  }
 ],
 "metadata": {
  "kernelspec": {
   "display_name": "R",
   "language": "R",
   "name": "ir"
  },
  "language_info": {
   "codemirror_mode": "r",
   "file_extension": ".r",
   "mimetype": "text/x-r-source",
   "name": "R",
   "pygments_lexer": "r",
   "version": "4.0.0"
  }
 },
 "nbformat": 4,
 "nbformat_minor": 2
}
