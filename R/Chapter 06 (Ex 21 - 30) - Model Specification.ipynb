{
 "cells": [
  {
   "cell_type": "markdown",
   "metadata": {},
   "source": [
    "**Exercise 6.21**.  Simulate an MA(1) time series with $n = 60$ and with $\\theta = 0.5$.\n",
    "\n",
    "**(a)**  Calculate the theoretical autocorrelation at lag 1 for this model.\n",
    "\n",
    "**(b)**  Calculate the sample autocorrelation at lag 1, and compare the value with its theoretical value. Use Exhibit 6.2 on page 112, to quantify the comparisons.\n",
    "\n",
    "**(c)**  Repeat part (b) with a new simulation. Describe how the precision of the estimate varies with different samples selected under identical conditions.\n",
    "\n",
    "**(d)**  If software permits, repeat the simulation of the series and calculation of $r_1$ many times and form the sampling distribution of $r_1$. Describe how the precision of the estimate varies with different samples selected under identical conditions. How well does the large-sample variance given in Exhibit 6.2 on page 112, approximate the variance in your sampling distribution?"
   ]
  },
  {
   "cell_type": "markdown",
   "metadata": {},
   "source": [
    "**Solution**."
   ]
  },
  {
   "cell_type": "code",
   "execution_count": 1,
   "metadata": {},
   "outputs": [
    {
     "name": "stderr",
     "output_type": "stream",
     "text": [
      "Loading required package: ggplot2\n",
      "\n"
     ]
    }
   ],
   "source": [
    "require(ggplot2)"
   ]
  },
  {
   "cell_type": "code",
   "execution_count": 2,
   "metadata": {},
   "outputs": [],
   "source": [
    "set.seed(10)\n",
    "Y = arima.sim(model=list(ma=-0.5), n=60)"
   ]
  },
  {
   "cell_type": "code",
   "execution_count": 3,
   "metadata": {},
   "outputs": [
    {
     "data": {
      "image/png": "[encoded data removed]",
      "text/plain": [
       "plot without title"
      ]
     },
     "metadata": {
      "image/png": {
       "height": 240,
       "width": 720
      }
     },
     "output_type": "display_data"
    }
   ],
   "source": [
    "options(repr.plot.width=12, repr.plot.height=4)\n",
    "\n",
    "ggplot() +\n",
    "    geom_line(aes(x=1:60, y=c(Y)), color='blue') +\n",
    "    xlab('') + ylab('') +\n",
    "    theme_bw() + theme(text = element_text(size=16), plot.title = element_text(hjust = 0.5))"
   ]
  },
  {
   "cell_type": "markdown",
   "metadata": {},
   "source": [
    "**(a)**  The theoretical autocorrelation is $\\rho_1 = -\\theta / (1 + \\theta^2) = -0.4$."
   ]
  },
  {
   "cell_type": "markdown",
   "metadata": {},
   "source": [
    "**(b)**"
   ]
  },
  {
   "cell_type": "code",
   "execution_count": 4,
   "metadata": {},
   "outputs": [
    {
     "data": {
      "text/plain": [
       "\n",
       "Autocorrelations of series 'Y', by lag\n",
       "\n",
       "     0      1 \n",
       " 1.000 -0.265 "
      ]
     },
     "metadata": {},
     "output_type": "display_data"
    },
    {
     "data": {
      "image/png": "[encoded data removed]",
      "text/plain": [
       "Plot with title \"Series  Y\""
      ]
     },
     "metadata": {
      "image/png": {
       "height": 240,
       "width": 720
      }
     },
     "output_type": "display_data"
    }
   ],
   "source": [
    "lags = acf(Y, lag.max=1)\n",
    "lags"
   ]
  },
  {
   "cell_type": "code",
   "execution_count": 5,
   "metadata": {},
   "outputs": [
    {
     "name": "stdout",
     "output_type": "stream",
     "text": [
      "[1] Standard deviation at lag 1:  0.148                        \n",
      "[1] Standard deviation distance on lag 1 measurement: \n",
      "[2] 0.91                                              \n"
     ]
    }
   ],
   "source": [
    "# Equation 6.1.9\n",
    "se_ma1 <- function(theta, k, n) {\n",
    "    rho = -theta / (1 + theta**2)\n",
    "    if (k == 0) {\n",
    "        sqrt((1 - 3 * rho**2 + 4 * rho**4)/n)\n",
    "    } else {\n",
    "        sqrt((1 + 2 * rho**2)/n)\n",
    "    }\n",
    "}\n",
    "\n",
    "t1 = -0.5 / (1 + 0.5**2)\n",
    "s1 = se_ma1(theta=0.5, k=1, n=60)\n",
    "\n",
    "print(c('Standard deviation at lag 1: ', round(s1, digits=3)), quote=F)\n",
    "\n",
    "r1 = lags$acf[2]\n",
    "\n",
    "print(c('Standard deviation distance on lag 1 measurement: ', round(((r1 - t1) / s1), digits=2)), quote=F)"
   ]
  },
  {
   "cell_type": "markdown",
   "metadata": {},
   "source": [
    "The sample autocorrelation is close to the theoretical value -- less than one standard deviation away."
   ]
  },
  {
   "cell_type": "markdown",
   "metadata": {},
   "source": [
    "**(c and d)**"
   ]
  },
  {
   "cell_type": "code",
   "execution_count": 6,
   "metadata": {},
   "outputs": [
    {
     "data": {
      "image/png": "[encoded data removed]",
      "text/plain": [
       "Plot with title \"Histogram of r1\""
      ]
     },
     "metadata": {
      "image/png": {
       "height": 240,
       "width": 720
      }
     },
     "output_type": "display_data"
    }
   ],
   "source": [
    "B = 100000\n",
    "set.seed(0)\n",
    "r1=rep(NA, B)\n",
    "\n",
    "for (k in 1:B) {\n",
    "    Yk = arima.sim(model=list(ma=-0.5), n=60)\n",
    "    lags = acf(Yk, lag.max=1, plot=F)\n",
    "    r1[k] = lags$acf[2]\n",
    "}\n",
    "hist(r1, breaks=100)"
   ]
  },
  {
   "cell_type": "markdown",
   "metadata": {},
   "source": [
    "The histogram again approaches (though not exactly) the theoretical approximation for the sample autocorrelation."
   ]
  },
  {
   "cell_type": "markdown",
   "metadata": {},
   "source": [
    "**Exercise 6.22**.  Simulate an AR(1) time series with $n = 48$, with\n",
    "\n",
    "**(a)** $\\phi = 0.9$, and calculate the theoretical autocorrelations at lag 1 and lag 5;\n",
    "\n",
    "**(b)** $\\phi = 0.6$, and calculate the theoretical autocorrelations at lag 1 and lag 5;\n",
    "\n",
    "**(c)** $\\phi = 0.3$, and calculate the theoretical autocorrelations at lag 1 and lag 5.\n",
    "\n",
    "**(d)**  For each of the series in parts (a), (b), and (c), calculate the sample autocorrelations at lag 1 and lag 5 and compare the values with their theoretical values.  Use Equations (6.1.5) and 6.1.6, page 111, to quantify the comparisons. In\n",
    "general, describe how the precision of the estimate varies with the value of $\\theta$."
   ]
  },
  {
   "cell_type": "markdown",
   "metadata": {},
   "source": [
    "**Solution**."
   ]
  },
  {
   "cell_type": "code",
   "execution_count": 7,
   "metadata": {},
   "outputs": [],
   "source": [
    "theoretical_acf_ar1 <- function(phi, k) { phi**k }"
   ]
  },
  {
   "cell_type": "markdown",
   "metadata": {},
   "source": [
    "**(a)**"
   ]
  },
  {
   "cell_type": "code",
   "execution_count": 8,
   "metadata": {},
   "outputs": [
    {
     "name": "stdout",
     "output_type": "stream",
     "text": [
      "[1] Theoretical ACF at lag 1:  0.9                       \n",
      "[1] Theoretical ACF at lag 5:  0.59049                   \n"
     ]
    }
   ],
   "source": [
    "phi = 0.9\n",
    "print(c('Theoretical ACF at lag 1: ', round(theoretical_acf_ar1(phi, 1), digits=5)), quote=F)\n",
    "print(c('Theoretical ACF at lag 5: ', round(theoretical_acf_ar1(phi, 5), digits=5)), quote=F)"
   ]
  },
  {
   "cell_type": "markdown",
   "metadata": {},
   "source": [
    "**(b)**"
   ]
  },
  {
   "cell_type": "code",
   "execution_count": 9,
   "metadata": {},
   "outputs": [
    {
     "name": "stdout",
     "output_type": "stream",
     "text": [
      "[1] Theoretical ACF at lag 1:  0.6                       \n",
      "[1] Theoretical ACF at lag 5:  0.07776                   \n"
     ]
    }
   ],
   "source": [
    "phi = 0.6\n",
    "print(c('Theoretical ACF at lag 1: ', round(theoretical_acf_ar1(phi, 1), digits=5)), quote=F)\n",
    "print(c('Theoretical ACF at lag 5: ', round(theoretical_acf_ar1(phi, 5), digits=5)), quote=F)"
   ]
  },
  {
   "cell_type": "markdown",
   "metadata": {},
   "source": [
    "**(c)**"
   ]
  },
  {
   "cell_type": "code",
   "execution_count": 10,
   "metadata": {},
   "outputs": [
    {
     "name": "stdout",
     "output_type": "stream",
     "text": [
      "[1] Theoretical ACF at lag 1:  0.3                       \n",
      "[1] Theoretical ACF at lag 5:  0.00243                   \n"
     ]
    }
   ],
   "source": [
    "phi = 0.3\n",
    "print(c('Theoretical ACF at lag 1: ', round(theoretical_acf_ar1(phi, 1), digits=5)), quote=F)\n",
    "print(c('Theoretical ACF at lag 5: ', round(theoretical_acf_ar1(phi, 5), digits=5)), quote=F)"
   ]
  },
  {
   "cell_type": "markdown",
   "metadata": {},
   "source": [
    "**(d)**"
   ]
  },
  {
   "cell_type": "code",
   "execution_count": 11,
   "metadata": {},
   "outputs": [],
   "source": [
    "# Equation 6.1.4\n",
    "se_ar1 <- function(phi, k, n) {\n",
    "    sqrt(((1 + phi**2) * (1 - phi**(2*k)) / (1 - phi**2) - 2 * k * phi**(2*k)) / n)\n",
    "}"
   ]
  },
  {
   "cell_type": "code",
   "execution_count": 12,
   "metadata": {},
   "outputs": [],
   "source": [
    "n = 48"
   ]
  },
  {
   "cell_type": "code",
   "execution_count": 13,
   "metadata": {},
   "outputs": [
    {
     "name": "stdout",
     "output_type": "stream",
     "text": [
      "[1] Sample autocorrelation at lag 1:  0.7963                           \n",
      "[1] Sample autocorrelation at lag 5:  0.14705                          \n",
      "[1] Standard deviation at lag 1:  0.063                        \n",
      "[1] Standard deviation at lag 5:  0.238                        \n",
      "[1] Standard deviation distance on lag 1 measurement: \n",
      "[2] -1.65                                             \n",
      "[1] Standard deviation distance on lag 5 measurement: \n",
      "[2] -1.86                                             \n"
     ]
    }
   ],
   "source": [
    "phi = 0.9\n",
    "\n",
    "set.seed(2020)\n",
    "Y = arima.sim(model=list(ar=phi), n=n)\n",
    "lags = acf(Y, lag.max=5, plot=F)\n",
    "\n",
    "t1 = theoretical_acf_ar1(phi, 1)\n",
    "t5 = theoretical_acf_ar1(phi, 5)\n",
    "\n",
    "r1 = lags$acf[2]\n",
    "r5 = lags$acf[6]\n",
    "\n",
    "print(c('Sample autocorrelation at lag 1: ', round(r1, digits=5)), quote=F)\n",
    "print(c('Sample autocorrelation at lag 5: ', round(r5, digits=5)), quote=F)\n",
    "\n",
    "s1 = se_ar1(phi, 1, n)\n",
    "s5 = se_ar1(phi, 5, n)\n",
    "\n",
    "print(c('Standard deviation at lag 1: ', round(s1, digits=3)), quote=F)\n",
    "print(c('Standard deviation at lag 5: ', round(s5, digits=3)), quote=F)\n",
    "\n",
    "print(c('Standard deviation distance on lag 1 measurement: ', round(((r1 - t1) / s1), digits=2)), quote=F)\n",
    "print(c('Standard deviation distance on lag 5 measurement: ', round(((r5 - t5) / s5), digits=2)), quote=F)"
   ]
  },
  {
   "cell_type": "code",
   "execution_count": 14,
   "metadata": {},
   "outputs": [
    {
     "name": "stdout",
     "output_type": "stream",
     "text": [
      "[1] Sample autocorrelation at lag 1:  0.54208                          \n",
      "[1] Sample autocorrelation at lag 5:  0.04593                          \n",
      "[1] Standard deviation at lag 1:  0.115                        \n",
      "[1] Standard deviation at lag 5:  0.207                        \n",
      "[1] Standard deviation distance on lag 1 measurement: \n",
      "[2] -0.5                                              \n",
      "[1] Standard deviation distance on lag 5 measurement: \n",
      "[2] -0.15                                             \n"
     ]
    }
   ],
   "source": [
    "phi = 0.6\n",
    "\n",
    "set.seed(2020)\n",
    "Y = arima.sim(model=list(ar=phi), n=n)\n",
    "lags = acf(Y, lag.max=5, plot=F)\n",
    "\n",
    "t1 = theoretical_acf_ar1(phi, 1)\n",
    "t5 = theoretical_acf_ar1(phi, 5)\n",
    "\n",
    "r1 = lags$acf[2]\n",
    "r5 = lags$acf[6]\n",
    "\n",
    "print(c('Sample autocorrelation at lag 1: ', round(r1, digits=5)), quote=F)\n",
    "print(c('Sample autocorrelation at lag 5: ', round(r5, digits=5)), quote=F)\n",
    "\n",
    "s1 = se_ar1(phi, 1, n)\n",
    "s5 = se_ar1(phi, 5, n)\n",
    "\n",
    "print(c('Standard deviation at lag 1: ', round(s1, digits=3)), quote=F)\n",
    "print(c('Standard deviation at lag 5: ', round(s5, digits=3)), quote=F)\n",
    "\n",
    "print(c('Standard deviation distance on lag 1 measurement: ', round(((r1 - t1) / s1), digits=2)), quote=F)\n",
    "print(c('Standard deviation distance on lag 5 measurement: ', round(((r5 - t5) / s5), digits=2)), quote=F)"
   ]
  },
  {
   "cell_type": "code",
   "execution_count": 15,
   "metadata": {},
   "outputs": [
    {
     "name": "stdout",
     "output_type": "stream",
     "text": [
      "[1] Sample autocorrelation at lag 1:  0.35554                          \n",
      "[1] Sample autocorrelation at lag 5:  0.01237                          \n",
      "[1] Standard deviation at lag 1:  0.138                        \n",
      "[1] Standard deviation at lag 5:  0.158                        \n",
      "[1] Standard deviation distance on lag 1 measurement: \n",
      "[2] 0.4                                               \n",
      "[1] Standard deviation distance on lag 5 measurement: \n",
      "[2] 0.06                                              \n"
     ]
    }
   ],
   "source": [
    "phi = 0.3\n",
    "\n",
    "set.seed(2020)\n",
    "Y = arima.sim(model=list(ar=phi), n=n)\n",
    "lags = acf(Y, lag.max=5, plot=F)\n",
    "\n",
    "t1 = theoretical_acf_ar1(phi, 1)\n",
    "t5 = theoretical_acf_ar1(phi, 5)\n",
    "\n",
    "r1 = lags$acf[2]\n",
    "r5 = lags$acf[6]\n",
    "\n",
    "print(c('Sample autocorrelation at lag 1: ', round(r1, digits=5)), quote=F)\n",
    "print(c('Sample autocorrelation at lag 5: ', round(r5, digits=5)), quote=F)\n",
    "\n",
    "s1 = se_ar1(phi, 1, n)\n",
    "s5 = se_ar1(phi, 5, n)\n",
    "\n",
    "print(c('Standard deviation at lag 1: ', round(s1, digits=3)), quote=F)\n",
    "print(c('Standard deviation at lag 5: ', round(s5, digits=3)), quote=F)\n",
    "\n",
    "print(c('Standard deviation distance on lag 1 measurement: ', round(((r1 - t1) / s1), digits=2)), quote=F)\n",
    "print(c('Standard deviation distance on lag 5 measurement: ', round(((r5 - t5) / s5), digits=2)), quote=F)"
   ]
  },
  {
   "cell_type": "markdown",
   "metadata": {},
   "source": [
    "All sample correlations are within two standard deviations of the theoretical estimates."
   ]
  },
  {
   "cell_type": "markdown",
   "metadata": {},
   "source": [
    "**Exercise 6.23**.  Simulate an AR(1) time series with $\\phi = 0.6$, with\n",
    "\n",
    "**(a)** $n = 24$, and estimate $\\rho_1 = \\phi = 0.6$ with $r_1$;\n",
    "\n",
    "**(b)** $n = 60$, and estimate $\\rho_1 = \\phi = 0.6$ with $r_1$;\n",
    "\n",
    "**(c)** $n = 120$, and estimate $\\rho_1 = \\phi = 0.6$ with $r_1$.\n",
    "\n",
    "**(d)** For each of the series in parts (a), (b), and (c), compare the estimated values with the theoretical value. Use Equation (6.1.5) on page 111, to quantify the comparisons. In general, describe how the precision of the estimate varies\n",
    "with the sample size."
   ]
  },
  {
   "cell_type": "markdown",
   "metadata": {},
   "source": [
    "**Solution**."
   ]
  },
  {
   "cell_type": "markdown",
   "metadata": {},
   "source": [
    "**(a)**"
   ]
  },
  {
   "cell_type": "code",
   "execution_count": 16,
   "metadata": {},
   "outputs": [
    {
     "data": {
      "text/html": [
       "0.487"
      ],
      "text/latex": [
       "0.487"
      ],
      "text/markdown": [
       "0.487"
      ],
      "text/plain": [
       "[1] 0.487"
      ]
     },
     "metadata": {},
     "output_type": "display_data"
    }
   ],
   "source": [
    "n = 24\n",
    "phi = 0.6\n",
    "\n",
    "set.seed(2020)\n",
    "r1 = acf(arima.sim(model=list(ar=phi), n=n), lag.max=1, plot=F)$acf[2]\n",
    "round(r1, digits=3)"
   ]
  },
  {
   "cell_type": "markdown",
   "metadata": {},
   "source": [
    "**(b)**"
   ]
  },
  {
   "cell_type": "code",
   "execution_count": 17,
   "metadata": {},
   "outputs": [
    {
     "data": {
      "text/html": [
       "0.508"
      ],
      "text/latex": [
       "0.508"
      ],
      "text/markdown": [
       "0.508"
      ],
      "text/plain": [
       "[1] 0.508"
      ]
     },
     "metadata": {},
     "output_type": "display_data"
    }
   ],
   "source": [
    "n = 60\n",
    "phi = 0.6\n",
    "\n",
    "set.seed(2020)\n",
    "r1 = acf(arima.sim(model=list(ar=phi), n=n), lag.max=1, plot=F)$acf[2]\n",
    "round(r1, digits=3)"
   ]
  },
  {
   "cell_type": "markdown",
   "metadata": {},
   "source": [
    "**(c)**"
   ]
  },
  {
   "cell_type": "code",
   "execution_count": 18,
   "metadata": {},
   "outputs": [
    {
     "data": {
      "text/html": [
       "0.562"
      ],
      "text/latex": [
       "0.562"
      ],
      "text/markdown": [
       "0.562"
      ],
      "text/plain": [
       "[1] 0.562"
      ]
     },
     "metadata": {},
     "output_type": "display_data"
    }
   ],
   "source": [
    "n = 120\n",
    "phi = 0.6\n",
    "\n",
    "set.seed(2020)\n",
    "r1 = acf(arima.sim(model=list(ar=phi), n=n), lag.max=1, plot=F)$acf[2]\n",
    "round(r1, digits=3)"
   ]
  },
  {
   "cell_type": "markdown",
   "metadata": {},
   "source": [
    "**(d)** The theoretical value is $\\rho_1 = \\phi = 0.6$, with an estimated standard deviation of $\\sqrt{\\text{Var}[r_1] / n} \\approx \\sqrt{(1 - \\phi^2)/n}$.  The values for the standard deviations are:\n",
    "\n",
    "- a. $n = 24$, so $\\text{se} \\approx 0.163$\n",
    "- b. $n = 60$, so $\\text{se} \\approx 0.103$\n",
    "- c. $n = 120$, so $\\text{se} \\approx 0.073$\n",
    "\n",
    "All measured values are within two standard deviations of the theoretical values.  In general, precision increases with increasing sample size."
   ]
  },
  {
   "cell_type": "markdown",
   "metadata": {},
   "source": [
    "**Exercise 6.24**.  Simulate an MA(1) time series with $\\theta = 0.7$, with\n",
    "\n",
    "**(a)** $n = 24$, and estimate $\\rho_1$ with $r_1$;\n",
    "\n",
    "**(b)** $n = 60$, and estimate $\\rho_1$ with $r_1$;\n",
    "\n",
    "**(c)** $n = 120$, and estimate $\\rho_1$ with $r_1$.\n",
    "\n",
    "**(d)** For each of the series in parts (a), (b), and (c), compare the estimated values of $\\rho_1$ with the theoretical value. Use Exhibit 6.2 on page 112, to quantify the comparisons. In general, describe how the precision of the estimate varies with the sample size."
   ]
  },
  {
   "cell_type": "markdown",
   "metadata": {},
   "source": [
    "**Solution**."
   ]
  },
  {
   "cell_type": "markdown",
   "metadata": {},
   "source": [
    "**(a)**"
   ]
  },
  {
   "cell_type": "code",
   "execution_count": 19,
   "metadata": {},
   "outputs": [
    {
     "data": {
      "text/html": [
       "-0.236"
      ],
      "text/latex": [
       "-0.236"
      ],
      "text/markdown": [
       "-0.236"
      ],
      "text/plain": [
       "[1] -0.236"
      ]
     },
     "metadata": {},
     "output_type": "display_data"
    }
   ],
   "source": [
    "n = 24\n",
    "theta = 0.7\n",
    "\n",
    "set.seed(0)\n",
    "r1 = acf(arima.sim(model=list(ma=-theta), n=n), lag.max=1, plot=F)$acf[2]\n",
    "round(r1, digits=3)"
   ]
  },
  {
   "cell_type": "markdown",
   "metadata": {},
   "source": [
    "**(b)**"
   ]
  },
  {
   "cell_type": "code",
   "execution_count": 20,
   "metadata": {},
   "outputs": [
    {
     "data": {
      "text/html": [
       "-0.328"
      ],
      "text/latex": [
       "-0.328"
      ],
      "text/markdown": [
       "-0.328"
      ],
      "text/plain": [
       "[1] -0.328"
      ]
     },
     "metadata": {},
     "output_type": "display_data"
    }
   ],
   "source": [
    "n = 60\n",
    "theta = 0.7\n",
    "\n",
    "set.seed(0)\n",
    "r1 = acf(arima.sim(model=list(ma=-theta), n=n), lag.max=1, plot=F)$acf[2]\n",
    "round(r1, digits=3)"
   ]
  },
  {
   "cell_type": "markdown",
   "metadata": {},
   "source": [
    "**(c)**"
   ]
  },
  {
   "cell_type": "code",
   "execution_count": 21,
   "metadata": {},
   "outputs": [
    {
     "data": {
      "text/html": [
       "-0.481"
      ],
      "text/latex": [
       "-0.481"
      ],
      "text/markdown": [
       "-0.481"
      ],
      "text/plain": [
       "[1] -0.481"
      ]
     },
     "metadata": {},
     "output_type": "display_data"
    }
   ],
   "source": [
    "n = 120\n",
    "theta = 0.7\n",
    "\n",
    "set.seed(0)\n",
    "r1 = acf(arima.sim(model=list(ma=-theta), n=n), lag.max=1, plot=F)$acf[2]\n",
    "round(r1, digits=3)"
   ]
  },
  {
   "cell_type": "markdown",
   "metadata": {},
   "source": [
    "**(d)**  The theoretical value for $\\rho_1$ is $-\\theta / (1 + \\theta^2) \\approx -0.470$, with an estimated standard deviation of $\\sqrt{\\text{Var}[r_1] / n} \\approx 1 - 3 \\rho_1^2 + 4 \\rho_1^4 \\approx 0.730 n^{-1/2}$.\n",
    "\n",
    "- a. $n = 24$, so $\\text{se} \\approx 0.149$\n",
    "- b. $n = 60$, so $\\text{se} \\approx 0.094$\n",
    "- c. $n = 120$, so $\\text{se} \\approx 0.067$\n",
    "\n",
    "All sampled values are within two standard deviations of the theoretical value.  Generally, increased sample size leads to increase in precision."
   ]
  },
  {
   "cell_type": "markdown",
   "metadata": {},
   "source": [
    "**Exercise 6.25**.  Simulate an AR(1) time series of length $n = 36$ with $\\phi = 0.7$.\n",
    "\n",
    "**(a)** Calculate and plot the theoretical autocorrelation function for this model. Plot sufficient lags until the correlations are negligible.\n",
    "\n",
    "**(b)** Calculate and plot the sample ACF for your simulated series. How well do the values and patterns match the theoretical ACF from part (a)?\n",
    "\n",
    "**(c)** What are the theoretical partial autocorrelations for this model?\n",
    "\n",
    "**(d)** Calculate and plot the sample ACF for your simulated series. How well do the values and patterns match the theoretical ACF from part (a)? Use the large-sample standard errors reported in Exhibit 6.1 on page 111, to quantify your answer.\n",
    "\n",
    "**(e)** Calculate and plot the sample PACF for your simulated series. How well do the values and patterns match the theoretical PACF from part (c)? Use the large-sample standard errors reported on page 115 to quantify your answer."
   ]
  },
  {
   "cell_type": "markdown",
   "metadata": {},
   "source": [
    "**Solution**."
   ]
  },
  {
   "cell_type": "code",
   "execution_count": 22,
   "metadata": {},
   "outputs": [
    {
     "name": "stderr",
     "output_type": "stream",
     "text": [
      "Loading required package: latex2exp\n",
      "\n"
     ]
    }
   ],
   "source": [
    "require(ggplot2)\n",
    "require(latex2exp)"
   ]
  },
  {
   "cell_type": "code",
   "execution_count": 23,
   "metadata": {},
   "outputs": [],
   "source": [
    "# Function to plot provided autocorrelations\n",
    "plot_acf <- function(acf, title='ACF') {\n",
    "    max_k = length(acf)\n",
    "    k = seq(1, max_k)\n",
    "    \n",
    "    options(repr.plot.width=12, repr.plot.height=4)\n",
    "    p = ggplot() +\n",
    "        geom_point(aes(x=k, y=acf), color='blue')\n",
    "    for (i in 1:max_k) {\n",
    "        p = p + geom_line(aes_string(x=k[i], y=c(0, acf[i])), color='blue')\n",
    "    }\n",
    "    p + geom_line(aes(x=k, y=0), color='blue', linetype='dashed') +\n",
    "        xlab('Lag') + ylab(TeX('$\\\\rho_k$')) +\n",
    "        ggtitle(title) +\n",
    "        theme_bw() + theme(text = element_text(size=16), plot.title = element_text(hjust = 0.5))\n",
    "}"
   ]
  },
  {
   "cell_type": "code",
   "execution_count": 24,
   "metadata": {},
   "outputs": [],
   "source": [
    "set.seed(0)\n",
    "Y = arima.sim(model=list(ar=0.7), n=36)"
   ]
  },
  {
   "cell_type": "markdown",
   "metadata": {},
   "source": [
    "**(a)**  The theoretical ACF is $\\rho_k = \\phi^k$ for $k \\geq 1$."
   ]
  },
  {
   "cell_type": "code",
   "execution_count": 25,
   "metadata": {},
   "outputs": [
    {
     "data": {
      "image/png": "[encoded data removed]",
      "text/plain": [
       "plot without title"
      ]
     },
     "metadata": {
      "image/png": {
       "height": 240,
       "width": 720
      }
     },
     "output_type": "display_data"
    }
   ],
   "source": [
    "plot_acf(ARMAacf(ar=0.7, lag.max=10), title='Theoretical ACF for AR(1)')"
   ]
  },
  {
   "cell_type": "markdown",
   "metadata": {},
   "source": [
    "**(b)**"
   ]
  },
  {
   "cell_type": "code",
   "execution_count": 26,
   "metadata": {},
   "outputs": [
    {
     "data": {
      "image/png": "[encoded data removed]",
      "text/plain": [
       "plot without title"
      ]
     },
     "metadata": {
      "image/png": {
       "height": 240,
       "width": 720
      }
     },
     "output_type": "display_data"
    }
   ],
   "source": [
    "plot_acf(acf(Y, lag.max=10, plot=F)$acf, title='Sample ACF for AR(1)')"
   ]
  },
  {
   "cell_type": "markdown",
   "metadata": {},
   "source": [
    "The sample ACF are still fairly noisy, though it is a good fit at lower lags."
   ]
  },
  {
   "cell_type": "markdown",
   "metadata": {},
   "source": [
    "**(c)**  For the AR(1) model, $\\phi_{11} = \\phi = 0.7$ and $\\phi_{kk} = 0$ for $k > 1$."
   ]
  },
  {
   "cell_type": "markdown",
   "metadata": {},
   "source": [
    "**(d)**  See (b).  The estimated standard deviation is \n",
    "\n",
    "$$ \\sqrt{\\text{Var}[r_k] / n} \\approx \\sqrt{\\frac{1}{n}\\left[\\frac{(1 + \\phi^2)(1 - \\phi^{2k})}{1 - \\phi^2} - 2k\\phi^{2k} \\right]} $$"
   ]
  },
  {
   "cell_type": "code",
   "execution_count": 27,
   "metadata": {},
   "outputs": [],
   "source": [
    "plot_acf_with_bounds <- function(acf, lower, upper, title='ACF') {\n",
    "    max_k = length(acf)\n",
    "    k = seq(1, max_k)\n",
    "    \n",
    "    options(repr.plot.width=12, repr.plot.height=4)\n",
    "    p = ggplot() + geom_ribbon(aes(x=k, ymin=lower, ymax=upper), fill='blue', alpha=0.1) +\n",
    "        geom_point(aes(x=k, y=acf), color='blue')\n",
    "    for (i in 1:max_k) {\n",
    "        p = p + geom_line(aes_string(x=k[i], y=c(0, acf[i])), color='blue')\n",
    "    }\n",
    "    p + geom_line(aes(x=k, y=0), color='blue', linetype='dashed') +\n",
    "        xlab('Lag') + ylab(TeX('$\\\\rho_k$')) +\n",
    "        ggtitle(title) +\n",
    "        theme_bw() + theme(text = element_text(size=16), plot.title = element_text(hjust = 0.5))\n",
    "}"
   ]
  },
  {
   "cell_type": "code",
   "execution_count": 28,
   "metadata": {},
   "outputs": [
    {
     "data": {
      "image/png": "[encoded data removed]",
      "text/plain": [
       "plot without title"
      ]
     },
     "metadata": {
      "image/png": {
       "height": 240,
       "width": 720
      }
     },
     "output_type": "display_data"
    }
   ],
   "source": [
    "a = acf(Y, lag.max=10, plot=F)$acf[2:11]\n",
    "rho = (0.7)**(1:10)\n",
    "se = sapply(1:10, function(k) { se_ar1(0.7, k, 36) })\n",
    "plot_acf_with_bounds(a, rho - 2 * se, rho + 2 * se, title='Sample ACF for AR(1)')"
   ]
  },
  {
   "cell_type": "markdown",
   "metadata": {},
   "source": [
    "**(e)**"
   ]
  },
  {
   "cell_type": "code",
   "execution_count": 29,
   "metadata": {},
   "outputs": [
    {
     "data": {
      "image/png": "[encoded data removed]",
      "text/plain": [
       "plot without title"
      ]
     },
     "metadata": {
      "image/png": {
       "height": 240,
       "width": 720
      }
     },
     "output_type": "display_data"
    }
   ],
   "source": [
    "a = pacf(Y, lag.max=10, plot=F)$acf[1:10]\n",
    "rho = c(0.7, rep(0, 9))\n",
    "se = 1 / sqrt(36)\n",
    "plot_acf_with_bounds(a, rho - 2 * se, rho + 2 * se, title='Sample PACF for AR(1)')"
   ]
  },
  {
   "cell_type": "markdown",
   "metadata": {},
   "source": [
    "The estimated values seem to suggest an AR(1) model."
   ]
  },
  {
   "cell_type": "markdown",
   "metadata": {},
   "source": [
    "**Exercise 6.26**.  Simulate an MA(1) time series of length $n = 48$ with $\\theta = 0.5$.\n",
    "\n",
    "**(a)** What are the theoretical autocorrelations for this model?\n",
    "\n",
    "**(b)** Calculate and plot the sample ACF for your simulated series. How well do the values and patterns match the theoretical ACF from part (a)?\n",
    "\n",
    "**(c)** Calculate and plot the theoretical partial autocorrelation function for this model. Plot sufficient lags until the correlations are negligible. (Hint: See Equation (6.2.6) on page 114.)\n",
    "\n",
    "**(d)** Calculate and plot the sample PACF for your simulated series. How well do the values and patterns match the theoretical PACF from part (c)?"
   ]
  },
  {
   "cell_type": "markdown",
   "metadata": {},
   "source": [
    "**Solution**."
   ]
  },
  {
   "cell_type": "code",
   "execution_count": 30,
   "metadata": {},
   "outputs": [],
   "source": [
    "set.seed(0)\n",
    "Y = arima.sim(model=list(ma=-0.5), n=48)"
   ]
  },
  {
   "cell_type": "markdown",
   "metadata": {},
   "source": [
    "**(a)**  The theoretical autocorrelations for the MA(1) process are $\\rho_1 = -\\theta / (1 + \\theta^2) = -0.4$ and $\\rho_k = 0$ for $k > 1$."
   ]
  },
  {
   "cell_type": "markdown",
   "metadata": {},
   "source": [
    "**(b)**"
   ]
  },
  {
   "cell_type": "code",
   "execution_count": 31,
   "metadata": {},
   "outputs": [
    {
     "data": {
      "image/png": "[encoded data removed]",
      "text/plain": [
       "plot without title"
      ]
     },
     "metadata": {
      "image/png": {
       "height": 240,
       "width": 720
      }
     },
     "output_type": "display_data"
    }
   ],
   "source": [
    "a = acf(Y, lag.max=10, plot=F)$acf[2:11]\n",
    "rho = c(-0.4, rep(0, 9))\n",
    "se = sapply(1:10, function(k) { se_ma1(0.5, k, 48) })\n",
    "plot_acf_with_bounds(a, rho - 2 * se, rho + 2 * se, title='Sample ACF for MA(1)')"
   ]
  },
  {
   "cell_type": "markdown",
   "metadata": {},
   "source": [
    "**(c)**  Equation (6.2.6) provides the formula for the PACF of the MA(1) process as\n",
    "\n",
    "$$ \\phi_{kk} = -\\frac{\\theta^k (1 - \\theta^2)}{1 - \\theta^{2(k+1)}} $$"
   ]
  },
  {
   "cell_type": "code",
   "execution_count": 32,
   "metadata": {},
   "outputs": [],
   "source": [
    "theoretical_pacf_ma1 <- function(theta, k){ -theta**k * (1 - theta**2) / (1 - theta**(2*(k+1))) }"
   ]
  },
  {
   "cell_type": "code",
   "execution_count": 33,
   "metadata": {},
   "outputs": [
    {
     "data": {
      "image/png": "[encoded data removed]",
      "text/plain": [
       "plot without title"
      ]
     },
     "metadata": {
      "image/png": {
       "height": 240,
       "width": 720
      }
     },
     "output_type": "display_data"
    }
   ],
   "source": [
    "plot_acf(sapply(1:10, function(k) {theoretical_pacf_ma1(0.5, k)}), title='Theoretical PACF for MA(1)')"
   ]
  },
  {
   "cell_type": "markdown",
   "metadata": {},
   "source": [
    "**(d)**"
   ]
  },
  {
   "cell_type": "code",
   "execution_count": 34,
   "metadata": {},
   "outputs": [
    {
     "data": {
      "image/png": "[encoded data removed]",
      "text/plain": [
       "plot without title"
      ]
     },
     "metadata": {
      "image/png": {
       "height": 240,
       "width": 720
      }
     },
     "output_type": "display_data"
    }
   ],
   "source": [
    "phi_hat = pacf(Y, lag.max=10, plot=F)$acf[1:10]\n",
    "phi_kk = sapply(1:10, function(k) {theoretical_pacf_ma1(0.5, k)})\n",
    "se = 1 / sqrt(48)\n",
    "plot_acf_with_bounds(phi_hat, phi_kk - 2 * se, phi_kk + 2 * se, title='Sample PACF for MA(1)')"
   ]
  },
  {
   "cell_type": "markdown",
   "metadata": {},
   "source": [
    "While the series is noisy, all values fall within 2 standard deviations from the theoretical values for the PACF."
   ]
  }
 ],
 "metadata": {
  "kernelspec": {
   "display_name": "R",
   "language": "R",
   "name": "ir"
  },
  "language_info": {
   "codemirror_mode": "r",
   "file_extension": ".r",
   "mimetype": "text/x-r-source",
   "name": "R",
   "pygments_lexer": "r",
   "version": "4.0.0"
  }
 },
 "nbformat": 4,
 "nbformat_minor": 2
}
