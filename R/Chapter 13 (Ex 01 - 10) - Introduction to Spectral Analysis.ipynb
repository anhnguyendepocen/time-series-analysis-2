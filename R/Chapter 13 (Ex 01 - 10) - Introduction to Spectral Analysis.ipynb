{
 "cells": [
  {
   "cell_type": "markdown",
   "metadata": {},
   "source": [
    "## 13. Introduction to Spectral Analysis"
   ]
  },
  {
   "cell_type": "markdown",
   "metadata": {},
   "source": [
    "**Exercise 13.1**.  Find $A$ and $B$ such that $3\\cos(2\\pi ft + 0.4) = A\\cos(2\\pi ft) + B\\sin (2\\pi ft)$."
   ]
  },
  {
   "cell_type": "markdown",
   "metadata": {},
   "source": [
    "**Solution**.  Since $\\cos(a + b) = \\cos a \\cos b - \\sin a \\sin b$, we have:\n",
    "\n",
    "$$\n",
    "\\begin{align}\n",
    "3 \\cos(2\\pi ft + 0.4) \n",
    "&= 3(\\cos (2\\pi ft) \\cos(0.4) - \\sin (2\\pi ft) \\sin(0.4)) \\\\\n",
    "&= (3 \\cos (0.4)) \\cos(2\\pi ft) + (-3 \\sin(0.4)) \\sin (2\\pi ft)\n",
    "\\end{align}\n",
    "$$\n",
    "\n",
    "and so $A = 3 \\cos 0.4 \\approx 2.763$ and $B = -3 \\sin 0.4 \\approx 1.168$."
   ]
  },
  {
   "cell_type": "markdown",
   "metadata": {},
   "source": [
    "**Exercise 13.2**.  Find $R$ and $\\Phi$ so that $R \\cos (2\\pi ft + \\Phi) = \\cos (2\\pi ft) + 3 \\sin(2\\pi ft)$."
   ]
  },
  {
   "cell_type": "markdown",
   "metadata": {},
   "source": [
    "**Solution**.  We have:\n",
    "\n",
    "$$ R \\cos (2\\pi ft + \\Phi) = R \\cos (2\\pi ft) \\cos \\Phi - R \\sin (2\\pi ft) \\sin \\Phi $$\n",
    "\n",
    "and so comparing with the given equation we get\n",
    "\n",
    "$$ R \\cos \\Phi = 1 \\quad \\text{and} \\quad R \\sin \\Phi = -3 $$\n",
    "\n",
    "Adding the squares of these,\n",
    "\n",
    "$$ R^2 = R^2 (\\cos^2 \\Phi + \\sin^2 \\Phi) = 1^2 + (-3)^2 = 10 $$\n",
    "\n",
    "so by selecting a positive magnitude rather than the negative one we obtain $R = \\sqrt{10} \\approx 3.1623$.\n",
    "\n",
    "Now, dividing the two equations above,\n",
    "\n",
    "$$ \\tan \\Phi = \\frac{\\sin \\Phi}{\\cos \\Phi} = -3 $$\n",
    "\n",
    "so $ \\Phi = \\tan^{-1} (-3) \\approx -1.249$."
   ]
  },
  {
   "cell_type": "markdown",
   "metadata": {},
   "source": [
    "**Exercise 13.3**.  Consider the series displayed in Exhibit 13.2 on page 320.\n",
    "\n",
    "**(a)** Verify that regressing the series on $\\cos (2\\pi ft)$ and $\\sin (2\\pi ft)$ for $f = 4/96$ provides perfect estimates of $A$ and $B$.\n",
    "\n",
    "**(b)** Use Equations (13.1.5) on page 321 to obtain the relationship between $R$, $\\Phi$, $A$ and $B$ for the cosine component at frequency $f = 4/96$. (For this component, the amplitude is 3 and the phase is $0.6 \\pi$.)\n",
    "\n",
    "**(c)** Verify that regressing the series on $\\cos (2\\pi ft)$ and $\\sin (2\\pi ft)$ for $f = 14/96$ provides perfect estimates of $A$ and $B$.\n",
    "\n",
    "**(d)** Verify that regressing the series on $\\cos (2\\pi ft)$ and $\\sin (2\\pi ft)$ for both $f = 4/96$ and $f = 14/96$ together provides perfect estimates of $A_4$, $B_4$, $A_{14}$ and $B_{14}$.\n",
    "\n",
    "**(e)** Verify that regressing the series on $\\cos (2\\pi ft)$ and $\\sin (2\\pi ft)$ for both $f = 3/96$ and $f = 13/96$ together provides perfect estimates of $A_3$, $B_3$, $A_{13}$ and $B_{13}$.\n",
    "\n",
    "**(f)** Repeat part (e) but add a third pair of cosine-sine predictor variables at any other Fourier frequency.  Verify that all of the regression coefficients are still estimated perfectly."
   ]
  },
  {
   "cell_type": "markdown",
   "metadata": {},
   "source": [
    "**Solution**."
   ]
  },
  {
   "cell_type": "code",
   "execution_count": 1,
   "metadata": {},
   "outputs": [
    {
     "name": "stderr",
     "output_type": "stream",
     "text": [
      "Loading required package: data.table\n",
      "\n",
      "Loading required package: ggplot2\n",
      "\n"
     ]
    }
   ],
   "source": [
    "require(data.table)\n",
    "require(ggplot2)"
   ]
  },
  {
   "cell_type": "code",
   "execution_count": 2,
   "metadata": {},
   "outputs": [],
   "source": [
    "n = 96\n",
    "t = 1:n\n",
    "Y = 2 * cos(2*pi*t*4/96) + 3 * cos(2*pi*(t*14/96 + 0.3))"
   ]
  },
  {
   "cell_type": "code",
   "execution_count": 3,
   "metadata": {},
   "outputs": [
    {
     "data": {
      "image/png": "[encoded data removed]",
      "text/plain": [
       "plot without title"
      ]
     },
     "metadata": {
      "image/png": {
       "height": 240,
       "width": 720
      }
     },
     "output_type": "display_data"
    }
   ],
   "source": [
    "options(repr.plot.width=12, repr.plot.height=4)\n",
    "\n",
    "ggplot() + \n",
    "  geom_line(aes(x=t, y=Y), color='blue') +\n",
    "  geom_point(aes(x=t, y=Y), color='blue') +\n",
    "  xlab('') + ylab('') +\n",
    "  theme_bw() + theme(text = element_text(size=16))"
   ]
  },
  {
   "cell_type": "markdown",
   "metadata": {},
   "source": [
    "**(a)**"
   ]
  },
  {
   "cell_type": "code",
   "execution_count": 4,
   "metadata": {},
   "outputs": [
    {
     "data": {
      "text/plain": [
       "\n",
       "Call:\n",
       "lm(formula = Y ~ cos4 + sin4 - 1, data = data)\n",
       "\n",
       "Residuals:\n",
       "   Min     1Q Median     3Q    Max \n",
       "-2.996 -2.063  0.000  2.063  2.996 \n",
       "\n",
       "Coefficients:\n",
       "      Estimate Std. Error t value Pr(>|t|)    \n",
       "cos4 2.000e+00  3.094e-01   6.464 4.51e-09 ***\n",
       "sin4 4.487e-16  3.094e-01   0.000        1    \n",
       "---\n",
       "Signif. codes:  0 '***' 0.001 '**' 0.01 '*' 0.05 '.' 0.1 ' ' 1\n",
       "\n",
       "Residual standard error: 2.144 on 94 degrees of freedom\n",
       "Multiple R-squared:  0.3077,\tAdjusted R-squared:  0.293 \n",
       "F-statistic: 20.89 on 2 and 94 DF,  p-value: 3.119e-08\n"
      ]
     },
     "metadata": {},
     "output_type": "display_data"
    }
   ],
   "source": [
    "data = data.table(\n",
    "    Y=Y,\n",
    "    cos4=cos(2*pi*t*4/96),\n",
    "    sin4=sin(2*pi*t*4/96)\n",
    ")\n",
    "\n",
    "model = lm(Y ~ cos4 + sin4 - 1, data=data)\n",
    "summary(model)"
   ]
  },
  {
   "cell_type": "markdown",
   "metadata": {},
   "source": [
    "This provides perfect estimates for $A = 2$ and $B = 0$."
   ]
  },
  {
   "cell_type": "markdown",
   "metadata": {},
   "source": [
    "**(b)**  Equation (13.1.5) states that, for\n",
    "\n",
    "$$ R \\cos(2\\pi ft + \\Phi) = A \\cos(2\\pi ft) + B \\sin(2\\pi ft) $$\n",
    "\n",
    "we have\n",
    "\n",
    "$$ A = R \\cos \\Phi \\quad \\text{and} \\quad B = -R \\sin \\Phi $$\n",
    "\n",
    "Then, for the cosine component at frequency $f = 4/96$,\n",
    "\n",
    "- $R = 3$\n",
    "- $\\Phi = 0.6\\pi$\n",
    "- $A = 3 \\cos (0.6 \\pi) \\approx -0.927$\n",
    "- $B = -3 \\sin (0.6 \\pi) \\approx -2.853$"
   ]
  },
  {
   "cell_type": "markdown",
   "metadata": {},
   "source": [
    "**(c)**"
   ]
  },
  {
   "cell_type": "code",
   "execution_count": 5,
   "metadata": {},
   "outputs": [
    {
     "data": {
      "text/plain": [
       "\n",
       "Call:\n",
       "lm(formula = Y ~ cos14 + sin14 - 1, data = data)\n",
       "\n",
       "Residuals:\n",
       "   Min     1Q Median     3Q    Max \n",
       "-2.000 -1.414  0.000  1.414  2.000 \n",
       "\n",
       "Coefficients:\n",
       "      Estimate Std. Error t value Pr(>|t|)    \n",
       "cos14  -0.9271     0.2063  -4.494 1.99e-05 ***\n",
       "sin14  -2.8532     0.2063 -13.831  < 2e-16 ***\n",
       "---\n",
       "Signif. codes:  0 '***' 0.001 '**' 0.01 '*' 0.05 '.' 0.1 ' ' 1\n",
       "\n",
       "Residual standard error: 1.429 on 94 degrees of freedom\n",
       "Multiple R-squared:  0.6923,\tAdjusted R-squared:  0.6858 \n",
       "F-statistic: 105.7 on 2 and 94 DF,  p-value: < 2.2e-16\n"
      ]
     },
     "metadata": {},
     "output_type": "display_data"
    }
   ],
   "source": [
    "data = data.table(\n",
    "    Y=Y,\n",
    "    cos14=cos(2*pi*t*14/96),\n",
    "    sin14=sin(2*pi*t*14/96)\n",
    ")\n",
    "\n",
    "model = lm(Y ~ cos14 + sin14 - 1, data=data)\n",
    "summary(model)"
   ]
  },
  {
   "cell_type": "markdown",
   "metadata": {},
   "source": [
    "**(d)**"
   ]
  },
  {
   "cell_type": "code",
   "execution_count": 6,
   "metadata": {},
   "outputs": [
    {
     "data": {
      "text/plain": [
       "\n",
       "Call:\n",
       "lm(formula = Y ~ cos4 + sin4 + cos14 + sin14 - 1, data = data)\n",
       "\n",
       "Residuals:\n",
       "       Min         1Q     Median         3Q        Max \n",
       "-5.136e-14 -6.091e-15 -5.960e-16  7.705e-15  2.852e-14 \n",
       "\n",
       "Coefficients:\n",
       "        Estimate Std. Error    t value Pr(>|t|)    \n",
       "cos4   2.000e+00  1.890e-15  1.058e+15   <2e-16 ***\n",
       "sin4  -1.229e-15  1.890e-15 -6.500e-01    0.517    \n",
       "cos14 -9.271e-01  1.890e-15 -4.905e+14   <2e-16 ***\n",
       "sin14 -2.853e+00  1.890e-15 -1.509e+15   <2e-16 ***\n",
       "---\n",
       "Signif. codes:  0 '***' 0.001 '**' 0.01 '*' 0.05 '.' 0.1 ' ' 1\n",
       "\n",
       "Residual standard error: 1.31e-14 on 92 degrees of freedom\n",
       "Multiple R-squared:      1,\tAdjusted R-squared:      1 \n",
       "F-statistic: 9.097e+29 on 4 and 92 DF,  p-value: < 2.2e-16\n"
      ]
     },
     "metadata": {},
     "output_type": "display_data"
    }
   ],
   "source": [
    "data = data.table(\n",
    "    Y=Y,\n",
    "    cos4=cos(2*pi*t*4/96),\n",
    "    sin4=sin(2*pi*t*4/96),\n",
    "    cos14=cos(2*pi*t*14/96),\n",
    "    sin14=sin(2*pi*t*14/96)\n",
    ")\n",
    "\n",
    "model = lm(Y ~ cos4 + sin4 + cos14 + sin14 - 1, data=data)\n",
    "summary(model)"
   ]
  },
  {
   "cell_type": "markdown",
   "metadata": {},
   "source": [
    "**(e)**"
   ]
  },
  {
   "cell_type": "code",
   "execution_count": 7,
   "metadata": {},
   "outputs": [
    {
     "data": {
      "text/plain": [
       "\n",
       "Call:\n",
       "lm(formula = Y ~ cos3 + sin3 + cos13 + sin13 - 1, data = data)\n",
       "\n",
       "Residuals:\n",
       "    Min      1Q  Median      3Q     Max \n",
       "-4.8532 -1.8291  0.1309  1.6302  4.7598 \n",
       "\n",
       "Coefficients:\n",
       "        Estimate Std. Error t value Pr(>|t|)\n",
       "cos3  -7.051e-16  3.759e-01       0        1\n",
       "sin3   2.243e-16  3.759e-01       0        1\n",
       "cos13 -2.884e-16  3.759e-01       0        1\n",
       "sin13 -5.128e-15  3.759e-01       0        1\n",
       "\n",
       "Residual standard error: 2.604 on 92 degrees of freedom\n",
       "Multiple R-squared:  1.784e-30,\tAdjusted R-squared:  -0.04348 \n",
       "F-statistic: 4.104e-29 on 4 and 92 DF,  p-value: 1\n"
      ]
     },
     "metadata": {},
     "output_type": "display_data"
    }
   ],
   "source": [
    "data = data.table(\n",
    "    Y=Y,\n",
    "    cos3=cos(2*pi*t*3/96),\n",
    "    sin3=sin(2*pi*t*3/96),\n",
    "    cos13=cos(2*pi*t*13/96),\n",
    "    sin13=sin(2*pi*t*13/96)\n",
    ")\n",
    "\n",
    "model = lm(Y ~ cos3 + sin3 + cos13 + sin13 - 1, data=data)\n",
    "summary(model)"
   ]
  },
  {
   "cell_type": "markdown",
   "metadata": {},
   "source": [
    "Note that the estimates are, correctly, all zero."
   ]
  },
  {
   "cell_type": "markdown",
   "metadata": {},
   "source": [
    "**(f)**"
   ]
  },
  {
   "cell_type": "code",
   "execution_count": 8,
   "metadata": {},
   "outputs": [
    {
     "data": {
      "text/plain": [
       "\n",
       "Call:\n",
       "lm(formula = Y ~ cos3 + sin3 + cos13 + sin13 + cos17 + sin17 - \n",
       "    1, data = data)\n",
       "\n",
       "Residuals:\n",
       "    Min      1Q  Median      3Q     Max \n",
       "-4.8532 -1.8291  0.1309  1.6302  4.7598 \n",
       "\n",
       "Coefficients:\n",
       "        Estimate Std. Error t value Pr(>|t|)\n",
       "cos3  -7.051e-16  3.801e-01       0        1\n",
       "sin3   2.243e-16  3.801e-01       0        1\n",
       "cos13 -2.884e-16  3.801e-01       0        1\n",
       "sin13 -5.128e-15  3.801e-01       0        1\n",
       "cos17 -1.410e-15  3.801e-01       0        1\n",
       "sin17  9.615e-17  3.801e-01       0        1\n",
       "\n",
       "Residual standard error: 2.633 on 90 degrees of freedom\n",
       "Multiple R-squared:  1.956e-30,\tAdjusted R-squared:  -0.06667 \n",
       "F-statistic: 2.934e-29 on 6 and 90 DF,  p-value: 1\n"
      ]
     },
     "metadata": {},
     "output_type": "display_data"
    }
   ],
   "source": [
    "data = data.table(\n",
    "    Y=Y,\n",
    "    cos3=cos(2*pi*t*3/96),\n",
    "    sin3=sin(2*pi*t*3/96),\n",
    "    cos13=cos(2*pi*t*13/96),\n",
    "    sin13=sin(2*pi*t*13/96),\n",
    "    cos17=cos(2*pi*t*17/96),\n",
    "    sin17=sin(2*pi*t*17/96)\n",
    ")\n",
    "\n",
    "model = lm(Y ~ cos3 + sin3 + cos13 + sin13 + cos17 + sin17 - 1, data=data)\n",
    "summary(model)"
   ]
  },
  {
   "cell_type": "markdown",
   "metadata": {},
   "source": [
    "Estimates are still, correctly, all zero."
   ]
  },
  {
   "cell_type": "markdown",
   "metadata": {},
   "source": [
    "**Exercise 13.4**.  Generate or choose any series of length n = 10. Show that the series may be fit exactly by a linear combination of enough cosine-sine curves at the Fourier frequencies."
   ]
  },
  {
   "cell_type": "markdown",
   "metadata": {},
   "source": [
    "**Solution**.  Let $\\{Y_1, Y_2, \\dots, Y_{10}\\}$ be the arbitrary series of length $n = 10$.  Also let\n",
    "\n",
    "$$ \\hat{A}_0 = \\overline{Y} = \\frac{1}{n} \\sum_{t=1}^n Y_t $$\n",
    "\n",
    "and in general\n",
    "\n",
    "$$ \\hat{A}_j = \\frac{2}{n} \\sum_{t=1}^n Y_t \\cos \\frac{2 \\pi t j}{n}\n",
    "\\quad \\text{and} \\quad\n",
    "\\hat{B}_j = \\frac{2}{n} \\sum_{t=1}^n Y_t \\sin \\frac{2 \\pi t j}{n}\n",
    "$$\n",
    "\n",
    "Then we have for each $t$\n",
    "\n",
    "$$ \n",
    "\\begin{align}\n",
    "& \\hat{A}_0 + \\sum_{j=1}^{n/2} \\left[ \\hat{A}_j \\cos \\frac{2 \\pi t j}{n} + \\hat{B}_j \\sin \\frac{2 \\pi t j}{n} \\right] \\\\\n",
    "&= \\left( \\frac{1}{n} \\sum_{j=1}^n Y_j \\right) + \\frac{2}{n} \\sum_{j=1}^{n/2} \\left[ \\sum_{s=1}^n Y_s \\left( \\cos \\frac{2 \\pi t j}{n} \\cos \\frac{2 \\pi s j}{n} + \\sin \\frac{2 \\pi t j}{n} \\sin \\frac{2 \\pi s j}{n} \\right) \\right] \\\\\n",
    "&= \\left( \\frac{1}{n} \\sum_{j=1}^n Y_j \\right) + \\frac{2}{n} \\sum_{j=1}^{n/2} \\sum_{s=1}^n Y_s \\cos \\frac{2\\pi (t - s) j}{n} \\\\\n",
    "&= \\frac{1}{n} \\sum_{s=1}^n Y_s \\left[ 1 + \\sum_{j=1}^n \\cos \\frac{2\\pi (t - s) j}{n} \\right] \\\\\n",
    "&= \\sum_{s=1}^n Y_s I(s = t) = Y_t\n",
    "\\end{align}\n",
    "$$"
   ]
  },
  {
   "cell_type": "markdown",
   "metadata": {},
   "source": [
    "**Exercise 13.5**.  Simulate a signal + noise time series from the model in Equation (13.2.4) on page 323. Use the same parameter values used in Exhibit 13.4 on page 324.\n",
    "\n",
    "**(a)** Plot the time series and look for the periodicities. Can you see them?\n",
    "\n",
    "**(b)** Plot the periodogram for the simulated series. Are the periodicities clear now?"
   ]
  },
  {
   "cell_type": "markdown",
   "metadata": {},
   "source": [
    "**Solution**.  The model from Equation (13.2.4) is\n",
    "\n",
    "$$ Y_t = A_1 \\cos(2\\pi f_1 t) + B_1 \\sin(2\\pi f_1 t) + A_2 \\cos(2\\pi f_2 t) + B_2 \\sin(2\\pi f_2 t) + W_t $$\n",
    "\n",
    "and the series in Exhibit 13.2.4 is reconstructed in R as follows:\n",
    "\n",
    "```\n",
    "set.seed(134); t=1:96; integer=sample(48,2)\n",
    "freq1=integer[1]/96; freq2=integer[2]/96\n",
    "A1=rnorm(1,0,2); B1=rnorm(1,0,2)\n",
    "A2=rnorm(1,0,3); B2=rnorm(1,0,3); w=2*pi*t\n",
    "y=A1*cos(w*freq1)+B1*sin(w*freq1)+A2*cos(w*freq2)+ B2*sin(w*freq2)+rnorm(96,0,1)\n",
    "write.csv(y, file='../data/exercise.13.5.dat', quote=F, row.names=F)\n",
    "```"
   ]
  },
  {
   "cell_type": "code",
   "execution_count": 9,
   "metadata": {},
   "outputs": [],
   "source": [
    "Y = fread('../data/exercise.13.5.dat')[['x']]\n",
    "t = 1:length(Y)"
   ]
  },
  {
   "cell_type": "markdown",
   "metadata": {},
   "source": [
    "**(a)**"
   ]
  },
  {
   "cell_type": "code",
   "execution_count": 10,
   "metadata": {},
   "outputs": [
    {
     "data": {
      "image/png": "[encoded data removed]",
      "text/plain": [
       "plot without title"
      ]
     },
     "metadata": {
      "image/png": {
       "height": 240,
       "width": 720
      }
     },
     "output_type": "display_data"
    }
   ],
   "source": [
    "options(repr.plot.width=12, repr.plot.height=4)\n",
    "\n",
    "ggplot() + \n",
    "  geom_line(aes(x=t, y=Y), color='blue') +\n",
    "  geom_point(aes(x=t, y=Y), color='blue') +\n",
    "  xlab('') + ylab('') +\n",
    "  theme_bw() + theme(text = element_text(size=16))"
   ]
  },
  {
   "cell_type": "markdown",
   "metadata": {},
   "source": [
    "Periodicity is somewhat visible, though separating both periods is difficult."
   ]
  },
  {
   "cell_type": "markdown",
   "metadata": {},
   "source": [
    "**(b)**"
   ]
  },
  {
   "cell_type": "code",
   "execution_count": 11,
   "metadata": {},
   "outputs": [],
   "source": [
    "source('periodogram.R')"
   ]
  },
  {
   "cell_type": "code",
   "execution_count": 12,
   "metadata": {},
   "outputs": [
    {
     "data": {
      "image/png": "[encoded data removed]",
      "text/plain": [
       "plot without title"
      ]
     },
     "metadata": {
      "image/png": {
       "height": 240,
       "width": 720
      }
     },
     "output_type": "display_data"
    }
   ],
   "source": [
    "periodogram(Y); abline(h=0)"
   ]
  },
  {
   "cell_type": "markdown",
   "metadata": {},
   "source": [
    "The two frequency components now are extremely salient as the two peaks in the graph."
   ]
  },
  {
   "cell_type": "markdown",
   "metadata": {},
   "source": [
    "**Exercise 13.6**. Show that the covariance function for the series defined by Equation (13.3.1) on page 327 is given by the expression in Equation (13.3.2)."
   ]
  }
 ],
 "metadata": {
  "kernelspec": {
   "display_name": "R",
   "language": "R",
   "name": "ir"
  },
  "language_info": {
   "codemirror_mode": "r",
   "file_extension": ".r",
   "mimetype": "text/x-r-source",
   "name": "R",
   "pygments_lexer": "r",
   "version": "4.0.0"
  }
 },
 "nbformat": 4,
 "nbformat_minor": 2
}
