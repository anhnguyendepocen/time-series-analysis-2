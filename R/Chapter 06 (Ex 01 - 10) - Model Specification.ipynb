{
 "cells": [
  {
   "cell_type": "markdown",
   "metadata": {},
   "source": [
    "## 6. Model Specification"
   ]
  },
  {
   "cell_type": "markdown",
   "metadata": {},
   "source": [
    "**Exercise 6.1**.  Verify Equation (6.1.3) on page 110 for the white noise process."
   ]
  },
  {
   "cell_type": "markdown",
   "metadata": {},
   "source": [
    "**Solution**.  Equation (6.1.3) states that, for the white noise process, we have\n",
    "\n",
    "$$ \\text{Var}[r_k] \\approx \\frac{1}{n} \\quad \\text{and} \\quad \\text{Corr}[r_k, r_j] \\approx 0 \\quad \\text{for } k \\neq j $$\n",
    "\n",
    "Equation (6.1.2) states that the joint distribution of\n",
    "\n",
    "$$ \\sqrt{n}(r_1 - \\rho_1), \\sqrt{n}(r_2 - \\rho_2), \\cdots, \\sqrt{n}(r_m - \\rho_m) $$\n",
    "\n",
    "approaches, as $n \\rightarrow \\infty$, a joint normal distribution with variances $c_{ii}$ and covariances $c_{ij}$, where\n",
    "\n",
    "$$ c_{ij} = \\sum_{k=-\\infty}^\\infty \\rho_{k+i} \\rho_{k+j} + \\rho_{k-i} \\rho_{k+j} - 2 \\rho_{i} \\rho_{k} \\rho_{k+j} - 2 \\rho_{j} \\rho_{k} \\rho_{k+i} + 2 \\rho_{i} \\rho_{j} \\rho_{k}^2 $$\n",
    "\n",
    "For a white noise process, $\\rho_0 = 1$ and $\\rho_a = 0$ for $a \\neq 0$, so the equation above reduces to only having a non-zero term when $k = -i = -j$, so $c_{ii} = \\rho_0^2 = 1$ and $c_{ij} = 0$ for $i \\neq j$.  So the above reduces to  $\\sqrt{n}r_k$ having variance 1 and covariance 0, from which Equation (6.1.3) follows."
   ]
  },
  {
   "cell_type": "markdown",
   "metadata": {},
   "source": [
    "**Exercise 6.2**.  Verify Equation (6.1.4) on page 110 for the AR(1) process."
   ]
  },
  {
   "cell_type": "markdown",
   "metadata": {},
   "source": [
    "**Solution**.  The AR(1) process satisfies $\\rho_k = \\phi^{|k|}$.  Therefore, for $j \\geq 1$, we have from Equation (6.1.2)\n",
    "\n",
    "$$\n",
    "\\begin{align}\n",
    "c_{jj} &= \\sum_{k=-\\infty}^\\infty \\rho_{k+j}^2 + \\rho_{k-j} \\rho_{k+j} - 4 \\rho_{j} \\rho_{k} \\rho_{k+j} + 2 \\rho_j^2 \\rho_{k}^2 \\\\\n",
    "&= (1 + 2 \\rho_j^2) \\sum_{k=-\\infty}^\\infty \\rho_k^2 + \\sum_{k=-\\infty}^\\infty \\rho_{k-j} \\rho_{k+j} -4 \\rho_j \\sum_{k=-\\infty}^\\infty \\rho_{k} \\rho_{k+j}\n",
    "\\end{align}\n",
    "$$\n",
    "\n",
    "Performing each of the geometric sums alluded to in the text, the first sum is\n",
    "\n",
    "$$\n",
    "\\sum_{k=-\\infty}^\\infty \\rho_k^2 = 1 + 2 \\sum_{k=1}^\\infty \\phi^{2k} = 1 + 2 \\frac{\\phi^2}{1 - \\phi^2} = \\frac{1 + \\phi^2}{1 - \\phi^2}\n",
    "$$\n",
    "\n",
    "The second sum is\n",
    "\n",
    "$$\n",
    "\\begin{align}\n",
    "\\sum_{k=-\\infty}^\\infty \\rho_{k-j} \\rho_{k+j} \n",
    "&= \\sum_{k=-\\infty}^{-j-1} \\rho_{k-j} \\rho_{k+j} + \\sum_{k=-j}^{j-1} \\rho_{k-j} \\rho_{k+j} + \\sum_{k=j}^\\infty \\rho_{k-j} \\rho_{k+j} \\\\\n",
    "&= \\sum_{k=-\\infty}^{-j-1} \\phi^{-(k-j)} \\phi^{-(k+j)} + \\sum_{k=-j}^{j-1} \\phi^{k-j} \\phi^{-(k+j)} + \\sum_{k=j}^\\infty \\phi^{k-j} \\phi^{k+j} \\\\\n",
    "&= \\sum_{k=-\\infty}^{-j-1} \\phi^{-2k} + \\sum_{k=-j}^{j-1} \\phi^{-2j} + \\sum_{k=j}^\\infty \\phi^{2k} \\\\\n",
    "&= \\frac{\\phi^{2j+2}}{1 - \\phi^2} + 2j \\phi^{2j} + \\frac{\\phi^{2j}}{1 - \\phi^2} \\\\\n",
    "&= \\phi^{2j} \\left( 2j + \\frac{1 + \\phi^2}{1 - \\phi^2} \\right)\n",
    "\\end{align}\n",
    "$$\n",
    "\n",
    "The third sum is\n",
    "\n",
    "$$\n",
    "\\begin{align}\n",
    "\\sum_{k=-\\infty}^\\infty \\rho_{k} \\rho_{k+j} \n",
    "&= \\sum_{k=-\\infty}^{-j} \\rho_{k} \\rho_{k+j} + \\sum_{k=-j+1}^{0} \\rho_{k} \\rho_{k+j} + \\sum_{k=1}^\\infty \\rho_{k} \\rho_{k+j} \\\\\n",
    "&= \\sum_{k=-\\infty}^{-j} \\phi^{-k} \\phi^{-(k+j)} + \\sum_{k=-j+1}^{0} \\phi^{-k} \\phi^{k+j} + \\sum_{k=1}^\\infty \\phi^{k} \\phi^{k+j} \\\\\n",
    "&= \\phi^{-j} \\sum_{k=-\\infty}^{-j-1} \\phi^{-2k} + \\sum_{k=-j+1}^{0} \\phi^{j} + \\phi^j \\sum_{k=1}^\\infty \\phi^{2k} \\\\\n",
    "&= \\phi^{-j} \\frac{\\phi^{2j}}{1 - \\phi^2} + j \\phi^j + \\phi^j \\frac{\\phi^2}{1 - \\phi^2} \\\\\n",
    "&= \\phi^j \\left( j + \\frac{1 + \\phi^2}{1 - \\phi^2} \\right)\n",
    "\\end{align}\n",
    "$$\n",
    "\n",
    "Replacing on the original expression,\n",
    "\n",
    "$$\\begin{align} \n",
    "c_{jj} &= (1 + 2 \\phi^{2j}) \\frac{1 + \\phi^2}{1 - \\phi^2} + \\phi^{2j} \\left( 2j + \\frac{1 + \\phi^2}{1 - \\phi^2} \\right) -4 \\phi^{2j} \\left( j + \\frac{1 + \\phi^2}{1 - \\phi^2} \\right) \\\\\n",
    "&= (1 - \\phi^{2j})\\frac{1 + \\phi^2}{1 - \\phi^2} - 2j\\phi^{2j}\n",
    "\\end{align}\n",
    "$$\n",
    "\n",
    "Since this refers to the limit of the variance of $\\sqrt{n} r_j$, we get the result\n",
    "\n",
    "$$ \\text{Var}[r_k] \\approx \\frac{1}{n}\\left[ (1 - \\phi^{2k})\\frac{1 + \\phi^2}{1 - \\phi^2} - 2k \\phi^{2k} \\right] $$"
   ]
  },
  {
   "cell_type": "markdown",
   "metadata": {},
   "source": [
    "**Exercise 6.3**.  Verify the line in Exhibit 6.1 on page 111, for values $\\phi = \\pm 0.9$."
   ]
  },
  {
   "cell_type": "markdown",
   "metadata": {},
   "source": [
    "**Solution**.  We will use Equation (6.1.2) for $k = 1, 2, 10$:\n",
    "\n",
    "$$ \\text{Var}[r_k] \\approx \\frac{1}{n}\\left[ (1 - \\phi^{2k})\\frac{1 + \\phi^2}{1 - \\phi^2} - 2k \\phi^{2k} \\right] $$\n",
    "\n",
    "and Equation (6.1.8):\n",
    "\n",
    "$$ \\text{Corr}[r_1, r_2] \\approx 2 \\phi \\sqrt{\\frac{1 - \\phi^2}{1 + 2\\phi^2 - 3\\phi^4}} $$"
   ]
  },
  {
   "cell_type": "code",
   "execution_count": 1,
   "metadata": {},
   "outputs": [],
   "source": [
    "ar1_se_rk <- function(phi, k) {\n",
    "    sqrt((1 - phi**(2*k)) * (1 + phi**2) / (1 - phi**2) - 2 * k * phi**(2*k))\n",
    "}\n",
    "\n",
    "ar1_corr <- function(phi) {\n",
    "    2 * phi * sqrt((1 - phi**2)/(1 + 2 * phi**2 - 3 * phi**4))\n",
    "}"
   ]
  },
  {
   "cell_type": "code",
   "execution_count": 2,
   "metadata": {},
   "outputs": [
    {
     "name": "stdout",
     "output_type": "stream",
     "text": [
      "[1] 0.44\n",
      "[1] 0.81\n",
      "[1] 0.97\n",
      "[1] 2.44\n"
     ]
    }
   ],
   "source": [
    "phi = 0.9\n",
    "\n",
    "for (x in c(ar1_se_rk(phi, 1), ar1_se_rk(phi, 2), ar1_corr(phi), ar1_se_rk(phi, 10))) {\n",
    "    print(round(x, digits=2))\n",
    "}"
   ]
  },
  {
   "cell_type": "markdown",
   "metadata": {},
   "source": [
    "**Exercise 6.4**.  Add new entries to Exhibit 6.1 on page 111, for the following values:\n",
    "\n",
    "**(a)** $\\phi = \\pm 0.99$\n",
    "\n",
    "**(b)** $\\phi = \\pm 0.5$\n",
    "\n",
    "**(c)** $\\phi = \\pm 0.1$"
   ]
  },
  {
   "cell_type": "markdown",
   "metadata": {},
   "source": [
    "**Solution**."
   ]
  },
  {
   "cell_type": "code",
   "execution_count": 3,
   "metadata": {},
   "outputs": [
    {
     "name": "stdout",
     "output_type": "stream",
     "text": [
      "[1] 0.14\n",
      "[1] 0.28\n",
      "[1] 1\n",
      "[1] 1.33\n"
     ]
    }
   ],
   "source": [
    "phi = 0.99\n",
    "\n",
    "for (x in c(ar1_se_rk(phi, 1), ar1_se_rk(phi, 2), ar1_corr(phi), ar1_se_rk(phi, 10))) {\n",
    "    print(round(x, digits=2))\n",
    "}"
   ]
  },
  {
   "cell_type": "code",
   "execution_count": 4,
   "metadata": {},
   "outputs": [
    {
     "name": "stdout",
     "output_type": "stream",
     "text": [
      "[1] 0.87\n",
      "[1] 1.15\n",
      "[1] 0.76\n",
      "[1] 1.29\n"
     ]
    }
   ],
   "source": [
    "phi = 0.5\n",
    "\n",
    "for (x in c(ar1_se_rk(phi, 1), ar1_se_rk(phi, 2), ar1_corr(phi), ar1_se_rk(phi, 10))) {\n",
    "    print(round(x, digits=2))\n",
    "}"
   ]
  },
  {
   "cell_type": "code",
   "execution_count": 5,
   "metadata": {},
   "outputs": [
    {
     "name": "stdout",
     "output_type": "stream",
     "text": [
      "[1] 0.99\n",
      "[1] 1.01\n",
      "[1] 0.2\n",
      "[1] 1.01\n"
     ]
    }
   ],
   "source": [
    "phi = 0.1\n",
    "\n",
    "for (x in c(ar1_se_rk(phi, 1), ar1_se_rk(phi, 2), ar1_corr(phi), ar1_se_rk(phi, 10))) {\n",
    "    print(round(x, digits=2))\n",
    "}"
   ]
  },
  {
   "cell_type": "markdown",
   "metadata": {},
   "source": [
    "$$\n",
    "\\begin{array}{ccccc}\n",
    "\\phi & \\sqrt{\\text{Var}[r_1]} & \\sqrt{\\text{Var}[r_2]} & \\text{Corr}[r_1, r_2] & \\sqrt{\\text{Var}[r_{10}]} \\\\\n",
    "\\pm 0.99 & 0.14 / \\sqrt{n} & 0.28 / \\sqrt{n} & \\pm 1.00 & 1.33 / \\sqrt{n} \\\\\n",
    "\\pm 0.9  & 0.44 / \\sqrt{n} & 0.81 / \\sqrt{n} & \\pm 0.97 & 2.44 / \\sqrt{n} \\\\\n",
    "\\pm 0.7  & 0.71 / \\sqrt{n} & 1.12 / \\sqrt{n} & \\pm 0.89 & 1.70 / \\sqrt{n} \\\\\n",
    "\\pm 0.5  & 0.87 / \\sqrt{n} & 1.15 / \\sqrt{n} & \\pm 0.76 & 1.29 / \\sqrt{n} \\\\\n",
    "\\pm 0.4  & 0.92 / \\sqrt{n} & 1.11 / \\sqrt{n} & \\pm 0.66 & 1.18 / \\sqrt{n} \\\\\n",
    "\\pm 0.2  & 0.98 / \\sqrt{n} & 1.04 / \\sqrt{n} & \\pm 0.38 & 1.04 / \\sqrt{n} \\\\\n",
    "\\pm 0.1  & 0.99 / \\sqrt{n} & 1.01 / \\sqrt{n} & \\pm 0.20 & 1.01 / \\sqrt{n}\n",
    "\\end{array}\n",
    "$$"
   ]
  },
  {
   "cell_type": "markdown",
   "metadata": {},
   "source": [
    "**Exercise 6.5**.  Verify Equation (6.1.9) on page 111 and Equation (6.1.10) for the MA(1) process."
   ]
  },
  {
   "cell_type": "markdown",
   "metadata": {},
   "source": [
    "**Solution**.  Equation (6.1.2) is that\n",
    "\n",
    "$$ c_{ij} = \\sum_{k=-\\infty}^\\infty \\rho_{k+i} \\rho_{k+j} + \\rho_{k-i} \\rho_{k+j} - 2 \\rho_{i} \\rho_{k} \\rho_{k+j} - 2 \\rho_{j} \\rho_{k} \\rho_{k+i} + 2 \\rho_{i} \\rho_{j} \\rho_{k}^2 $$\n",
    "\n",
    "and, in particular for $i = j$, we get\n",
    "\n",
    "$$ c_{jj} = \\sum_{k=-\\infty}^\\infty \\rho_{k+j}^2 + \\rho_{k-j} \\rho_{k+j} - 4 \\rho_{j} \\rho_{k} \\rho_{k+j} + 2 \\rho_j^2 \\rho_{k}^2 $$\n",
    "\n",
    "Equation (6.1.9) states that, for a MA(1) process,\n",
    "\n",
    "$$ c_{11} = 1 - 3 \\rho_1^2 + 4 \\rho_1^4 \\quad \\text{and} \\quad c_{kk} = 1 + 2\\rho_1^2 \\quad \\text{for } k > 1 $$\n",
    "\n",
    "But for the MA(1) process, the autocorrelation function is\n",
    "\n",
    "$$ \\rho_k = \\begin{cases}\n",
    "1 &\\text{for } k = 0 \\\\\n",
    "\\rho_1 &\\text{for } |k| = 1 \\\\\n",
    "0 &\\text{otherwise}\n",
    "\\end{cases} $$\n",
    "\n",
    "For $c_{11}$, the sums decompose as\n",
    "\n",
    "- $ \\sum_{k=-\\infty}^\\infty \\rho_{k+j}^2 = \\rho_{-1}^2 + \\rho_0^2 + \\rho_1^2 = 1 + 2\\rho_1^2 $\n",
    "- $ \\sum_{k=-\\infty}^\\infty \\rho_{k-j} \\rho_{k+j} = \\rho_{-1} \\rho_1 = \\rho_1^2 $\n",
    "- $ \\sum_{k=-\\infty}^\\infty \\rho_{j} \\rho_{k} \\rho_{k+j} = \\rho_{-1} \\rho_0 \\rho_1 = \\rho_1^2 $\n",
    "- $ \\sum_{k=-\\infty}^\\infty \\rho_j^2 \\rho_{k}^2 = \\rho_1^4 $\n",
    "\n",
    "and so we get the first half of Equation (6.1.9),\n",
    "\n",
    "$$ c_{11} = 1 + 2 \\rho_1^2 + \\rho_1^2 - 4 \\rho_1^2 + 4 \\rho_1^4 = 1 - 3 \\rho_1^2 + 4 \\rho_1^4 $$\n",
    "\n",
    "For $c_{jj}$, with $j > 1$, the sums decompose as\n",
    "\n",
    "- $ \\sum_{k=-\\infty}^\\infty \\rho_{k+j}^2 = \\rho_{-1}^2 + \\rho_0^2 + \\rho_1^2 = 1 + 2\\rho_1^2 $\n",
    "- $ \\sum_{k=-\\infty}^\\infty \\rho_{k-j} \\rho_{k+j} = 0 $\n",
    "- $ \\sum_{k=-\\infty}^\\infty \\rho_{j} \\rho_{k} \\rho_{k+j} = 0 $\n",
    "- $ \\sum_{k=-\\infty}^\\infty \\rho_j^2 \\rho_{k}^2 = 0$\n",
    "\n",
    "and so we get the second half of Equation (6.1.9),\n",
    "\n",
    "$$ c_{jj} = 1 + 2 \\rho_1^2 $$\n",
    "\n",
    "Equation (6.1.10) states that \n",
    "\n",
    "$$ c_{12} = 2 \\rho_1 (1 - \\rho_1^2) $$\n",
    "\n",
    "But we have\n",
    "\n",
    "$$ \n",
    "\\begin{align}\n",
    "c_{12} &= \\sum_{k=-\\infty}^\\infty \\rho_{k+1} \\rho_{k+2} + \\rho_{k-1} \\rho_{k+2} - 2 \\rho_{1} \\rho_{k} \\rho_{k+2} - 2 \\rho_{2} \\rho_{k} \\rho_{k+1} + 2 \\rho_{1} \\rho_{2} \\rho_{k}^2 \\\\\n",
    "&= \\rho_{-1}\\rho_0 + \\rho_0 \\rho_1 - 2\\rho_1 \\rho_{-1} \\rho_{1} \\\\\n",
    "&= \\rho_1 + \\rho_1 - 2 \\rho_1^3 \\\\\n",
    "&= 2 \\rho_1 (1 - \\rho_1^2)\n",
    "\\end{align}\n",
    "$$"
   ]
  },
  {
   "cell_type": "markdown",
   "metadata": {},
   "source": [
    "**Exercise 6.6**.  Verify the line in Exhibit 6.2 on page 112, for values $\\theta = \\pm 0.9$."
   ]
  },
  {
   "cell_type": "markdown",
   "metadata": {},
   "source": [
    "**Solution**.  We will use Equation (6.1.9) for the variance:\n",
    "\n",
    "$$ c_{11} = 1 - 3 \\rho_1^2 + 4 \\rho_1^4 \\quad \\text{and} \\quad c_{kk} = 1 + 2\\rho_1^2 \\quad \\text{for } k > 1 $$\n",
    "\n",
    "and Equation (6.1.10) for $\\text{Corr}[r_1, r_2]$:\n",
    "\n",
    "$$ c_{12} = 2 \\rho_1 (1 - \\rho_1^2) $$"
   ]
  },
  {
   "cell_type": "code",
   "execution_count": 6,
   "metadata": {},
   "outputs": [],
   "source": [
    "ma1_se_rk <- function(theta, k) {\n",
    "   rho = -theta / (1 + theta**2)\n",
    "    if (k == 1) {\n",
    "        sqrt(1 - 3 * rho**2 + 4 * rho**4)\n",
    "    } else {\n",
    "        sqrt(1 + 2 * rho**2)\n",
    "    }\n",
    "}\n",
    "\n",
    "ma1_corr <- function(theta) {\n",
    "    rho = -theta / (1 + theta**2)\n",
    "    2 * rho * (1 - rho**2) / sqrt((1 - 3 * rho**2 + 4 * rho**4) * (1 + 2 * rho**2))\n",
    "}"
   ]
  },
  {
   "cell_type": "code",
   "execution_count": 7,
   "metadata": {},
   "outputs": [
    {
     "name": "stdout",
     "output_type": "stream",
     "text": [
      "[1] 0.71\n",
      "[1] 1.22\n",
      "[1] -0.86\n"
     ]
    }
   ],
   "source": [
    "theta = 0.9\n",
    "\n",
    "for (x in c(ma1_se_rk(theta, 1), ma1_se_rk(theta, 2), ma1_corr(theta))) {\n",
    "    print(round(x, digits=2))\n",
    "}"
   ]
  },
  {
   "cell_type": "markdown",
   "metadata": {},
   "source": [
    "**Exercise 6.7**.  Add new entries to Exhibit 6.2 on page 112, for the following values:\n",
    "\n",
    "**(a)** $\\theta = \\pm 0.99$.\n",
    "\n",
    "**(b)** $\\theta = \\pm 0.8$.\n",
    "\n",
    "**(c)** $\\theta = \\pm 0.2$."
   ]
  },
  {
   "cell_type": "markdown",
   "metadata": {},
   "source": [
    "**Solution**."
   ]
  },
  {
   "cell_type": "code",
   "execution_count": 8,
   "metadata": {},
   "outputs": [
    {
     "name": "stdout",
     "output_type": "stream",
     "text": [
      "[1] 0.71\n",
      "[1] 1.22\n",
      "[1] -0.87\n"
     ]
    }
   ],
   "source": [
    "theta = 0.99\n",
    "\n",
    "for (x in c(ma1_se_rk(theta, 1), ma1_se_rk(theta, 2), ma1_corr(theta))) {\n",
    "    print(round(x, digits=2))\n",
    "}"
   ]
  },
  {
   "cell_type": "code",
   "execution_count": 9,
   "metadata": {},
   "outputs": [
    {
     "name": "stdout",
     "output_type": "stream",
     "text": [
      "[1] 0.72\n",
      "[1] 1.21\n",
      "[1] -0.85\n"
     ]
    }
   ],
   "source": [
    "theta = 0.8\n",
    "\n",
    "for (x in c(ma1_se_rk(theta, 1), ma1_se_rk(theta, 2), ma1_corr(theta))) {\n",
    "    print(round(x, digits=2))\n",
    "}"
   ]
  },
  {
   "cell_type": "code",
   "execution_count": 10,
   "metadata": {},
   "outputs": [
    {
     "name": "stdout",
     "output_type": "stream",
     "text": [
      "[1] 0.95\n",
      "[1] 1.04\n",
      "[1] -0.38\n"
     ]
    }
   ],
   "source": [
    "theta = 0.2\n",
    "\n",
    "for (x in c(ma1_se_rk(theta, 1), ma1_se_rk(theta, 2), ma1_corr(theta))) {\n",
    "    print(round(x, digits=2))\n",
    "}"
   ]
  },
  {
   "cell_type": "markdown",
   "metadata": {},
   "source": [
    "$$\n",
    "\\begin{array}{ccc}\n",
    "\\phi & \\sqrt{\\text{Var}[r_1]} & \\sqrt{\\text{Var}[r_k]} \\text{ for } k > 1 & \\text{Corr}[r_1, r_2] \\\\\n",
    "\\pm 0.99 & 0.71 / \\sqrt{n} & 1.22 / \\sqrt{n} & \\mp 0.87 \\\\\n",
    "\\pm 0.9  & 0.71 / \\sqrt{n} & 1.22 / \\sqrt{n} & \\mp 0.86 \\\\\n",
    "\\pm 0.8  & 0.72 / \\sqrt{n} & 1.21 / \\sqrt{n} & \\mp 0.85 \\\\\n",
    "\\pm 0.7  & 0.73 / \\sqrt{n} & 1.20 / \\sqrt{n} & \\mp 0.84 \\\\\n",
    "\\pm 0.5  & 0.79 / \\sqrt{n} & 1.15 / \\sqrt{n} & \\mp 0.74 \\\\\n",
    "\\pm 0.4  & 0.89 / \\sqrt{n} & 1.11 / \\sqrt{n} & \\mp 0.53 \\\\\n",
    "\\pm 0.2  & 0.95 / \\sqrt{n} & 1.04 / \\sqrt{n} & \\mp 0.38\n",
    "\\end{array}\n",
    "$$"
   ]
  },
  {
   "cell_type": "markdown",
   "metadata": {},
   "source": [
    "**Exercise 6.8**. Verify Equation (6.1.11) on page 112, for the general MA($q$) process."
   ]
  },
  {
   "cell_type": "markdown",
   "metadata": {},
   "source": [
    "**Solution**.  Equation (6.1.11) states that\n",
    "\n",
    "$$ \\text{Var}[r_k] = \\frac{1}{n}\\left[1 + 2 \\sum_{j=1}^q \\rho_j^2 \\right] \\quad \\text{for } k > q $$\n",
    "\n",
    "In general, from Equation (6.1.2),\n",
    "\n",
    "$$ c_{jj} = \\sum_{k=-\\infty}^\\infty \\rho_{k+j}^2 + \\rho_{k-j} \\rho_{k+j} - 4 \\rho_{j} \\rho_{k} \\rho_{k+j} + 2 \\rho_j^2 \\rho_{k}^2 $$\n",
    "\n",
    "For a MA($q$) process, the autocorrelations $\\rho_k$ are zero for $k > q$.  Then, the equation above reduces (for $j > k$) to $\\sum_{k=-\\infty}^\\infty \\rho_{k+j}^2 = 1 + 2 \\sum_{j=1}^q \\rho_j^2$, since all other terms will have an index that falls outside $\\{-q, -q-1, \\dots, q-1, q \\}$ and are therefore zero.  Therefore, since $\\sqrt{n} c_{jj}$ converges to the variance above, the result follows."
   ]
  },
  {
   "cell_type": "markdown",
   "metadata": {},
   "source": [
    "**Exercise 6.9**.  Use Equation (6.2.3) on page 113, to verify the value for the lag 2 partial autocorrelation function for the MA(1) process given in Equation (6.2.5) on page 114."
   ]
  },
  {
   "cell_type": "markdown",
   "metadata": {},
   "source": [
    "**Solution**.  Equation (6.2.3) gives us the formula for the lag 2 of the PACF for any stationary process:\n",
    "\n",
    "$$ \\phi_{22} = \\frac{\\rho_2 - \\rho_1^2}{1 - \\rho_1^2} $$\n",
    "\n",
    "Replacing in the values for the autocorrelation of the MA(1) process,\n",
    "\n",
    "$$ \\rho_1 = \\frac{-\\theta}{1 + \\theta^2} \\quad \\text{and} \\quad \\rho_2 = 0 $$\n",
    "\n",
    "we get Equation (6.2.5),\n",
    "\n",
    "$$ \\phi_{22} = \\frac{0 - \\left(\\frac{-\\theta}{1 + \\theta^2}\\right)^2}{1 - \\left(\\frac{-\\theta}{1 + \\theta^2}\\right)^2} \n",
    "= \\frac{-\\theta^2}{(1 + \\theta^2)^2 - \\theta^2} = \\frac{-\\theta^2}{1 + \\theta^2 + \\theta^4} $$"
   ]
  },
  {
   "cell_type": "markdown",
   "metadata": {},
   "source": [
    "**Exercise 6.10**.  Show that the general expression for the partial autocorrelation function of an MA(1) process given in Equation (6.2.6) on page 114, satisfies the Yule-Walker recursion given in Equation (6.2.7)."
   ]
  },
  {
   "cell_type": "markdown",
   "metadata": {},
   "source": [
    "**Solution**.  The general expression for the PACF of the MA(1) process is given in Equation (6.2.6) as\n",
    "\n",
    "$$ \\phi_{kk} = \\frac{\\theta^k (1 - \\theta^2)}{1 - \\theta^{2(k+1)}} \\quad \\text{for } k \\geq 1 $$\n",
    "\n",
    "and the Yule-Walker equations are, as in Equation (6.2.7), when written in matrix form,\n",
    "\n",
    "$$ \\begin{bmatrix}\n",
    "\\rho_1 \\\\\n",
    "\\rho_2 \\\\\n",
    "\\rho_3 \\\\\n",
    "\\vdots \\\\\n",
    "\\rho_k\n",
    "\\end{bmatrix} = \\begin{bmatrix}\n",
    "1 & \\rho_1 & \\rho_2 & \\cdots & \\rho_{k-1} \\\\\n",
    "\\rho_1 & 1 & \\rho_1 & \\cdots & \\rho_{k-2} \\\\\n",
    "\\rho_2 & \\rho_1 & 1 & \\cdots & \\rho_{k-3} \\\\\n",
    "\\vdots & \\vdots & \\vdots & \\ddots & \\vdots \\\\\n",
    "\\rho_{k-1} & \\rho_{k-2} & \\rho_{k-3} & \\cdots & 1\n",
    "\\end{bmatrix} \\begin{bmatrix}\n",
    "\\phi_{k1} \\\\\n",
    "\\phi_{k2} \\\\\n",
    "\\phi_{k3} \\\\\n",
    "\\vdots \\\\\n",
    "\\phi_{kk}\n",
    "\\end{bmatrix}\n",
    "$$\n",
    "\n",
    "For the MA(1) process, $\\rho_j = 0$ for $|j| > 1$, so the Yule-Walker equations can be rewritten as\n",
    "\n",
    "$$ \\begin{bmatrix}\n",
    "\\rho_1 \\\\\n",
    "0 \\\\\n",
    "0 \\\\\n",
    "\\vdots \\\\\n",
    "0\n",
    "\\end{bmatrix} = \\begin{bmatrix}\n",
    "1 & \\rho_1 & 0 & \\cdots & 0 \\\\\n",
    "\\rho_1 & 1 & \\rho_1 & \\cdots & 0 \\\\\n",
    "0 & \\rho_1 & 1 & \\cdots & 0 \\\\\n",
    "\\vdots & \\vdots & \\vdots & \\ddots & \\vdots \\\\\n",
    "0 & 0 & 0 & \\cdots & 1\n",
    "\\end{bmatrix} \\begin{bmatrix}\n",
    "\\phi_{k1} \\\\\n",
    "\\phi_{k2} \\\\\n",
    "\\phi_{k3} \\\\\n",
    "\\vdots \\\\\n",
    "\\phi_{kk}\n",
    "\\end{bmatrix}\n",
    "$$\n",
    "\n",
    "or\n",
    "\n",
    "$$ b = A_k x $$ \n",
    "\n",
    "We can use Cramer's rule to solve for $\\phi_{kk}$; we get $\\phi_{kk} = \\text{det}(B_k) / \\text{det}(A_k)$, where $A_k$ is the $k \\times k$ matrix above, with terms\n",
    "\n",
    "$$ (A_k)_{i, j} = \\begin{cases}\n",
    "1 &\\text{if } i = j \\\\\n",
    "\\rho_1 &\\text{if } |i - j| = 1 \\\\\n",
    "0 &\\text{otherwise}\n",
    "\\end{cases}$$\n",
    "\n",
    "and $B_k$ is the $A_k$ matrix with its last column replaced by the column vector $b$,\n",
    "\n",
    "$$ B_k = \\begin{bmatrix}\n",
    "1 & \\rho_1 & 0 & \\cdots & \\rho_1 \\\\\n",
    "\\rho_1 & 1 & \\rho_1 & \\cdots & 0 \\\\\n",
    "0 & \\rho_1 & 1 & \\cdots & 0 \\\\\n",
    "\\vdots & \\vdots & \\vdots & \\ddots & \\vdots \\\\\n",
    "0 & 0 & 0 & \\cdots & 0\n",
    "\\end{bmatrix} $$\n",
    "\n",
    "with terms given by \n",
    "\n",
    "$$ (B_k)_{i, j} = \\begin{cases}\n",
    "1 &\\text{if } i = j < k\\\\\n",
    "\\rho_1 &\\text{if } |i - j| = 1 \\text{ and } i < k \\\\\n",
    "\\rho_1 &\\text{if } i = 1 \\text{ and }  j = k \\\\\n",
    "0 &\\text{otherwise}\n",
    "\\end{cases}$$\n",
    "\n",
    "We can calculate the determinant of $A_k$ by recursion on $k$; the base cases are $\\text{det}(A_1) = 1$ and $\\text{det}(A_2) = 1 - \\rho_1^2$.  Expanding the determinant using the first row, we get to the recursive relation $\\text{det}(A_{k}) = \\text{det}(A_{k-1}) + \\rho_1^2 \\text{det}(A_{k-2})$.\n",
    "\n",
    "We can calculate the determinant of $B_k$ by expanding the last column, swapping the first column of the resulting matrix with the last, and using a recursion:\n",
    "\n",
    "$$ \\text{det}(B_k) = (-1)^{k+1} \\rho_1 \\begin{vmatrix}\n",
    "\\rho_1 & 1 & \\rho_1 & \\cdots & 0 & 0 \\\\\n",
    "0 & \\rho_1 & 1 & \\cdots & 0 & 0 \\\\\n",
    "0 & 0 & \\rho_1 & \\cdots & 0 & 0 \\\\\n",
    "\\vdots & \\vdots & \\vdots & \\ddots & \\vdots & \\vdots \\\\\n",
    "0 & 0 & 0 & \\cdots & \\rho_1 & 1 \\\\\n",
    "0 & 0 & 0 & \\cdots & 0 & \\rho_1\n",
    "\\end{vmatrix} = (-1)^{k+1} \\rho_1 \\begin{vmatrix}\n",
    "1 & \\rho_1 & 0 & \\cdots & \\rho_1 \\\\\n",
    "\\rho_1 & 1 & \\rho_1 & \\cdots & 0 \\\\\n",
    "0 & \\rho_1 & 1 & \\cdots & 0\\\\\n",
    "\\vdots & \\vdots & \\vdots & \\ddots & \\vdots \\\\\n",
    "0 & 0 & 0 & \\cdots & 0 \\\\\n",
    "0 & 0 & 0 & \\cdots & 0\n",
    "\\end{vmatrix} = -\\rho_1 \\text{det}(B_{k-1})$$\n",
    "\n",
    "and from the base case $\\text{det}(B_1) = \\rho_1$ we get $\\text{det}(B_k) = (-1)^{k+1} \\rho_1^k$.\n",
    "\n",
    "Now, we can obtain the result by induction on $k$.\n",
    "\n",
    "- For $k = 1$, we have\n",
    "\n",
    "$$ \\phi_{11} \n",
    "= \\frac{\\text{det}(B_1)}{\\text{det}(A_1)} \n",
    "= \\frac{\\rho_1}{1} \n",
    "= \\rho_1 \n",
    "= \\frac{-\\theta}{1 + \\theta^2} \n",
    "= \\frac{-\\theta}{1 + \\theta^2} \\frac{1 - \\theta^2}{1 - \\theta^2}\n",
    "= \\frac{-\\theta(1 - \\theta)^2}{1 + \\theta^4} \n",
    "$$\n",
    "\n",
    "- For $k = 2$, we have\n",
    "\n",
    "$$ \n",
    "\\phi_{22} \n",
    "= \\frac{\\text{det}(B_2)}{\\text{det}(A_2)} \n",
    "= \\frac{-\\rho_1^2}{1 - \\rho_1^2} \n",
    "= \\frac{-\\left(\\frac{-\\theta}{1 + \\theta^2}\\right)^2}{1 - \\left(\\frac{-\\theta}{1 + \\theta^2}\\right)^2} \n",
    "= \\frac{-\\theta^2}{1 + \\theta^2 + \\theta^4}\n",
    "= \\frac{-\\theta^2}{1 + \\theta^2 + \\theta^4} \\frac{1 - \\theta^2}{1 - \\theta^2}\n",
    "= \\frac{-\\theta^2(1 - \\theta^2)}{1 - \\theta^6}\n",
    "$$\n",
    "\n",
    "- Assuming $k > 2$ and that the result holds for $k-1$ and $k-2$, we have\n",
    "\n",
    "$$\n",
    "\\begin{align}\n",
    "\\phi_{kk} &= \\frac{\\text{det}(B_k)}{\\text{det}(A_k)} = \\frac{\\text{det}(B_k)}{\\text{det}(A_{k-1}) + \\rho_1^2 \\text{det}(A_{k-2})} \\\\\n",
    "&= \\left( \\frac{\\text{det}(A_{k-1})}{\\text{det}(B_k)} + \\rho_1^2 \\frac{\\text{det}(A_{k-2})}{\\text{det}(B_k)} \\right)^{-1} \\\\\n",
    "&= \\left( -\\frac{1}{\\rho_1} \\frac{\\text{det}(A_{k-1})}{\\text{det}(B_{k-1})} + \\rho_1^2 \\frac{1}{\\rho_1^2}\\frac{\\text{det}(A_{k-2})}{\\text{det}(B_{k-2})} \\right)^{-1} \\\\\n",
    "&= \\left( -\\frac{1}{\\rho_1} \\frac{1}{\\phi_{k-1, k-1}} + \\frac{1}{\\phi_{k-2, k-2}}\\right)^{-1} \\\\\n",
    "&= \\left( \\frac{1 + \\theta^2}{\\theta} \\frac{1 - \\theta^{2k}}{\\theta^{k-1}(1 - \\theta)^2} + \\frac{1 - \\theta^{2(k-1)}}{\\theta^{k-2}(1 - \\theta)^2} \\right)^{-1} \\\\\n",
    "&= \\left( \\frac{1 - \\theta^{2(k+1)}}{\\theta^k (1 - \\theta)^2} \\right)^{-1} \\\\\n",
    "&= \\frac{\\theta^k (1 - \\theta)^2}{1 - \\theta^{2(k+1)}}\n",
    "\\end{align}\n",
    "$$\n",
    "\n",
    "and so the result holds."
   ]
  }
 ],
 "metadata": {
  "kernelspec": {
   "display_name": "R",
   "language": "R",
   "name": "ir"
  },
  "language_info": {
   "codemirror_mode": "r",
   "file_extension": ".r",
   "mimetype": "text/x-r-source",
   "name": "R",
   "pygments_lexer": "r",
   "version": "4.0.0"
  }
 },
 "nbformat": 4,
 "nbformat_minor": 2
}
