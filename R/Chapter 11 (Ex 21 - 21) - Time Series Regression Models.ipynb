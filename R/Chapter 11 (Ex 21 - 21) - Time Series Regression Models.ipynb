{
 "cells": [
  {
   "cell_type": "markdown",
   "metadata": {},
   "source": [
    "**Exercise 11.21**.  In Chapters 5–8, we investigated an IMA(1,1) model for the logarithms of monthly oil prices.  Exhibit 8.3 on page 178 suggested that there may be several outliers in this series.  Investigate the IMA(1,1) model for this series for outliers using the techniques developed in this chapter.  Be sure to compare your results with those obtained earlier that ignored the outliers. The data are in the file named `oil.price`."
   ]
  },
  {
   "cell_type": "markdown",
   "metadata": {},
   "source": [
    "**Solution**."
   ]
  },
  {
   "cell_type": "code",
   "execution_count": 1,
   "metadata": {},
   "outputs": [
    {
     "name": "stderr",
     "output_type": "stream",
     "text": [
      "Loading required package: data.table\n",
      "\n",
      "Loading required package: lmtest\n",
      "\n",
      "Loading required package: zoo\n",
      "\n",
      "\n",
      "Attaching package: 'zoo'\n",
      "\n",
      "\n",
      "The following objects are masked from 'package:base':\n",
      "\n",
      "    as.Date, as.Date.numeric\n",
      "\n",
      "\n"
     ]
    }
   ],
   "source": [
    "require(data.table)\n",
    "require(lmtest)"
   ]
  },
  {
   "cell_type": "code",
   "execution_count": 2,
   "metadata": {},
   "outputs": [],
   "source": [
    "Y <- log(fread('../data/oil.price.dat')[['oil.price']])"
   ]
  },
  {
   "cell_type": "code",
   "execution_count": 3,
   "metadata": {},
   "outputs": [
    {
     "name": "stdout",
     "output_type": "stream",
     "text": [
      "\n",
      "Call:\n",
      "arima(x = Y, order = c(0, 1, 1))\n",
      "\n",
      "Coefficients:\n",
      "         ma1\n",
      "      0.2956\n",
      "s.e.  0.0693\n",
      "\n",
      "sigma^2 estimated as 0.006689:  log likelihood = 260.29,  aic = -516.58\n"
     ]
    },
    {
     "data": {
      "text/plain": [
       "\n",
       "z test of coefficients:\n",
       "\n",
       "    Estimate Std. Error z value Pr(>|z|)    \n",
       "ma1 0.295600   0.069347  4.2626 2.02e-05 ***\n",
       "---\n",
       "Signif. codes:  0 '***' 0.001 '**' 0.01 '*' 0.05 '.' 0.1 ' ' 1\n"
      ]
     },
     "metadata": {},
     "output_type": "display_data"
    }
   ],
   "source": [
    "model_m1 = arima(Y, c(0, 1, 1))\n",
    "print(model_m1)\n",
    "coeftest(model_m1)"
   ]
  },
  {
   "cell_type": "code",
   "execution_count": 4,
   "metadata": {},
   "outputs": [
    {
     "data": {
      "image/png": "[encoded data removed]",
      "text/plain": [
       "Plot with title \"p values for Ljung-Box statistic\""
      ]
     },
     "metadata": {
      "image/png": {
       "height": 720,
       "width": 720
      }
     },
     "output_type": "display_data"
    }
   ],
   "source": [
    "options(repr.plot.width=12, repr.plot.height=12)\n",
    "tsdiag(model_m1)"
   ]
  },
  {
   "cell_type": "code",
   "execution_count": 5,
   "metadata": {},
   "outputs": [],
   "source": [
    "source('outlier_detection.R')"
   ]
  },
  {
   "cell_type": "code",
   "execution_count": 6,
   "metadata": {},
   "outputs": [
    {
     "name": "stdout",
     "output_type": "stream",
     "text": [
      "             [,1]     [,2]     [,3]\n",
      "ind      2.000000 8.000000 56.00000\n",
      "lambda2 -4.326086 4.007243  4.07535\n"
     ]
    }
   ],
   "source": [
    "detectAO(model_m1)"
   ]
  },
  {
   "cell_type": "code",
   "execution_count": 7,
   "metadata": {},
   "outputs": [
    {
     "name": "stdout",
     "output_type": "stream",
     "text": [
      "             [,1]     [,2]      [,3]\n",
      "ind      2.000000 8.000000 56.000000\n",
      "lambda1 -4.875561 3.773707  4.570056\n"
     ]
    }
   ],
   "source": [
    "detectIO(model_m1)"
   ]
  },
  {
   "cell_type": "markdown",
   "metadata": {},
   "source": [
    "We will set IO outliers on index 56, and an AO outlier on indexes 2 and 8."
   ]
  },
  {
   "cell_type": "code",
   "execution_count": 8,
   "metadata": {},
   "outputs": [],
   "source": [
    "xreg = data.table(\n",
    "    IO_56 = rep(0, length(Y)),\n",
    "    AO_2 = rep(0, length(Y)),\n",
    "    AO_8 = rep(0, length(Y))\n",
    ")\n",
    "xreg[['IO_56']][56] = 1\n",
    "xreg[['AO_2']][2:length(Y)] = 1\n",
    "xreg[['AO_8']][8:length(Y)] = 1"
   ]
  },
  {
   "cell_type": "code",
   "execution_count": 9,
   "metadata": {
    "scrolled": false
   },
   "outputs": [
    {
     "name": "stdout",
     "output_type": "stream",
     "text": [
      "\n",
      "Call:\n",
      "arima(x = Y, order = c(0, 1, 1), xreg = xreg)\n",
      "\n",
      "Coefficients:\n",
      "         ma1   IO_56     AO_2    AO_8\n",
      "      0.2940  0.0886  -0.3388  0.2974\n",
      "s.e.  0.0665  0.0450   0.0763  0.0723\n",
      "\n",
      "sigma^2 estimated as 0.005715:  log likelihood = 279.18,  aic = -548.35\n"
     ]
    },
    {
     "data": {
      "text/plain": [
       "\n",
       "z test of coefficients:\n",
       "\n",
       "       Estimate Std. Error z value  Pr(>|z|)    \n",
       "ma1    0.294013   0.066540  4.4186 9.934e-06 ***\n",
       "IO_56  0.088607   0.044960  1.9708   0.04875 *  \n",
       "AO_2  -0.338814   0.076325 -4.4391 9.034e-06 ***\n",
       "AO_8   0.297446   0.072305  4.1138 3.892e-05 ***\n",
       "---\n",
       "Signif. codes:  0 '***' 0.001 '**' 0.01 '*' 0.05 '.' 0.1 ' ' 1\n"
      ]
     },
     "metadata": {},
     "output_type": "display_data"
    }
   ],
   "source": [
    "model_m2 = arima(Y, c(0, 1, 1), xreg=xreg)\n",
    "print(model_m2)\n",
    "coeftest(model_m2)"
   ]
  },
  {
   "cell_type": "code",
   "execution_count": 10,
   "metadata": {},
   "outputs": [
    {
     "name": "stdout",
     "output_type": "stream",
     "text": [
      "[1] \"No AO detected\"\n"
     ]
    }
   ],
   "source": [
    "detectAO(model_m2)"
   ]
  },
  {
   "cell_type": "code",
   "execution_count": 11,
   "metadata": {},
   "outputs": [
    {
     "name": "stdout",
     "output_type": "stream",
     "text": [
      "[1] \"No IO detected\"\n"
     ]
    }
   ],
   "source": [
    "detectIO(model_m2)"
   ]
  },
  {
   "cell_type": "markdown",
   "metadata": {},
   "source": [
    "All coefficients are significant and no further outliers were detected, so we will keep the model."
   ]
  }
 ],
 "metadata": {
  "kernelspec": {
   "display_name": "R",
   "language": "R",
   "name": "ir"
  },
  "language_info": {
   "codemirror_mode": "r",
   "file_extension": ".r",
   "mimetype": "text/x-r-source",
   "name": "R",
   "pygments_lexer": "r",
   "version": "4.0.0"
  }
 },
 "nbformat": 4,
 "nbformat_minor": 2
}
