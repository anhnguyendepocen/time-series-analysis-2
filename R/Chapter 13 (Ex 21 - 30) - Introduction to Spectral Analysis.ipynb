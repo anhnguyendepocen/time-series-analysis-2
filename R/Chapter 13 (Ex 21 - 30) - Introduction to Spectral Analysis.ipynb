{
 "cells": [
  {
   "cell_type": "markdown",
   "metadata": {},
   "source": [
    "**Exercise 13.21**. Graph the theoretical spectral density for an AR(2) process with $\\phi_1 = 0$ and $\\phi_2 = 0.8$. Interpret the implications of the shape of the spectrum on the possible plots of the time series values."
   ]
  },
  {
   "cell_type": "markdown",
   "metadata": {},
   "source": [
    "**Solution**."
   ]
  },
  {
   "cell_type": "code",
   "execution_count": 1,
   "metadata": {},
   "outputs": [
    {
     "name": "stderr",
     "output_type": "stream",
     "text": [
      "Loading required package: ggplot2\n",
      "\n"
     ]
    }
   ],
   "source": [
    "require(ggplot2)"
   ]
  },
  {
   "cell_type": "code",
   "execution_count": 2,
   "metadata": {},
   "outputs": [],
   "source": [
    "spectral_density_ar2 <- function(phi1, phi2) {\n",
    "    function(f) {\n",
    "       1 / (1 + phi1**2 + phi2**2 - 2 * phi1 * (1 - phi2) * cos(2 * pi * f) - 2 * phi2 * cos(4 * pi * f))\n",
    "    }\n",
    "}"
   ]
  },
  {
   "cell_type": "code",
   "execution_count": 3,
   "metadata": {},
   "outputs": [
    {
     "data": {
      "image/png": "[encoded data removed]",
      "text/plain": [
       "plot without title"
      ]
     },
     "metadata": {
      "image/png": {
       "height": 240,
       "width": 720
      }
     },
     "output_type": "display_data"
    }
   ],
   "source": [
    "options(repr.plot.width=12, repr.plot.height=4)\n",
    "\n",
    "f = 0:500 / 1000\n",
    "d = spectral_density_ar2(0, 0.8)(f)\n",
    "\n",
    "ggplot() + \n",
    "  geom_line(aes(x=f, y=d), color='purple') +\n",
    "  xlab('Frequency') + ylab('Spectral Density') +\n",
    "  theme_bw() + theme(text = element_text(size=16))\n",
    "\n",
    "# print(paste('Peak: ', f[which.max(d)]))"
   ]
  },
  {
   "cell_type": "markdown",
   "metadata": {},
   "source": [
    "This spectral density has peaks at both frequency 0 and 0.5. This suggests two components, one oscillating rapidly and one changing values slowly."
   ]
  },
  {
   "cell_type": "markdown",
   "metadata": {},
   "source": [
    "**Exercise 13.22**. Graph the theoretical spectral density for an AR(2) process with $\\phi_1 = 0.8$ and $\\phi_2 =\n",
    "−0.2$. Interpret the implications of the shape of the spectrum on the possible plots of the time series values."
   ]
  },
  {
   "cell_type": "markdown",
   "metadata": {},
   "source": [
    "**Solution**."
   ]
  },
  {
   "cell_type": "code",
   "execution_count": 4,
   "metadata": {},
   "outputs": [
    {
     "name": "stdout",
     "output_type": "stream",
     "text": [
      "[1] \"Peak:  0\"\n"
     ]
    },
    {
     "data": {
      "image/png": "[encoded data removed]",
      "text/plain": [
       "plot without title"
      ]
     },
     "metadata": {
      "image/png": {
       "height": 240,
       "width": 720
      }
     },
     "output_type": "display_data"
    }
   ],
   "source": [
    "options(repr.plot.width=12, repr.plot.height=4)\n",
    "\n",
    "f = 0:500 / 1000\n",
    "d = spectral_density_ar2(0.8, -0.2)(f)\n",
    "\n",
    "ggplot() + \n",
    "  geom_line(aes(x=f, y=d), color='red') +\n",
    "  xlab('Frequency') + ylab('Spectral Density') +\n",
    "  theme_bw() + theme(text = element_text(size=16))\n",
    "\n",
    "print(paste('Peak: ', f[which.max(d)]))"
   ]
  },
  {
   "cell_type": "markdown",
   "metadata": {},
   "source": [
    "The process has highest spectral density at frequency 0, with density much higher for lower frequencies than higher frequencies.  A process with this characteristic tends to change slowly."
   ]
  },
  {
   "cell_type": "markdown",
   "metadata": {},
   "source": [
    "**Exercise 13.23**.  Graph the theoretical spectral density for an ARMA(1,1) time series with $\\phi = 0.5$ and $\\theta = 0.8$. Interpret the implications of the shape of the spectrum on the possible plots of the time series values."
   ]
  },
  {
   "cell_type": "markdown",
   "metadata": {},
   "source": [
    "**Solution**.  We can combine the spectral density functions of the AR(1) and MA(1) process to obtain the spectral density function of the ARMA(1) process, also given in Equation (13.5.10):\n",
    "\n",
    "$$ S(f) = \\frac{1 + \\theta^2 - 2 \\theta \\cos (2 \\pi f)}{1 + \\phi^2 - 2 \\phi \\cos(2 \\pi f)} \\sigma_e^2 $$"
   ]
  },
  {
   "cell_type": "code",
   "execution_count": 5,
   "metadata": {},
   "outputs": [],
   "source": [
    "spectral_density_arma11 <- function(phi, theta) {\n",
    "    function(f) {\n",
    "        c = cos(2 * pi * f)\n",
    "        (1 + theta**2 - 2 * theta * c) / (1 + phi**2 - 2 * phi * c)\n",
    "    }\n",
    "}"
   ]
  },
  {
   "cell_type": "code",
   "execution_count": 6,
   "metadata": {},
   "outputs": [
    {
     "name": "stdout",
     "output_type": "stream",
     "text": [
      "[1] \"Peak:  0.5\"\n"
     ]
    },
    {
     "data": {
      "image/png": "[encoded data removed]",
      "text/plain": [
       "plot without title"
      ]
     },
     "metadata": {
      "image/png": {
       "height": 240,
       "width": 720
      }
     },
     "output_type": "display_data"
    }
   ],
   "source": [
    "options(repr.plot.width=12, repr.plot.height=4)\n",
    "\n",
    "f = 0:500 / 1000\n",
    "d = spectral_density_arma11(0.5, 0.8)(f)\n",
    "\n",
    "ggplot() + \n",
    "  geom_line(aes(x=f, y=d), color='blue') +\n",
    "  xlab('Frequency') + ylab('Spectral Density') +\n",
    "  theme_bw() + theme(text = element_text(size=16))\n",
    "\n",
    "print(paste('Peak: ', f[which.max(d)]))"
   ]
  },
  {
   "cell_type": "markdown",
   "metadata": {},
   "source": [
    "The process has highest spectral density at frequency 0, with density much higher for higher frequencies than lower frequencies. A process with this characteristic tends to oscillate quickly."
   ]
  },
  {
   "cell_type": "markdown",
   "metadata": {},
   "source": [
    "**Exercise 13.24**.  Graph the theoretical spectral density for an ARMA(1,1) process with $\\phi = 0.95$ and $\\theta = 0.8$. Interpret the implications of the shape of the spectrum on the possible plots of the time series values."
   ]
  },
  {
   "cell_type": "markdown",
   "metadata": {},
   "source": [
    "**Solution**."
   ]
  },
  {
   "cell_type": "code",
   "execution_count": 7,
   "metadata": {},
   "outputs": [
    {
     "name": "stdout",
     "output_type": "stream",
     "text": [
      "[1] \"Peak:  0\"\n"
     ]
    },
    {
     "data": {
      "image/png": "[encoded data removed]",
      "text/plain": [
       "plot without title"
      ]
     },
     "metadata": {
      "image/png": {
       "height": 240,
       "width": 720
      }
     },
     "output_type": "display_data"
    }
   ],
   "source": [
    "options(repr.plot.width=12, repr.plot.height=4)\n",
    "\n",
    "f = 0:500 / 1000\n",
    "d = spectral_density_arma11(0.95, 0.8)(f)\n",
    "\n",
    "ggplot() + \n",
    "  geom_line(aes(x=f, y=d), color='red') +\n",
    "  xlab('Frequency') + ylab('Spectral Density') +\n",
    "  theme_bw() + theme(text = element_text(size=16))\n",
    "\n",
    "print(paste('Peak: ', f[which.max(d)]))"
   ]
  },
  {
   "cell_type": "markdown",
   "metadata": {},
   "source": [
    "The process has highest spectral density at frequency 0, with density much higher for lower frequencies than higher frequencies. A process with this characteristic tends to change slowly."
   ]
  },
  {
   "cell_type": "markdown",
   "metadata": {},
   "source": [
    "**Exercise 13.25**.  Let $\\{X_t\\}$ be a stationary time series and $\\{Y_t\\}$ be defined by $Y_t = (X_t + X_{t-1}) / 2$.\n",
    "\n",
    "**(a)** Find the power transfer function for this linear filter.\n",
    "\n",
    "**(b)** Is this a causal filter?\n",
    "\n",
    "**(c)** Graph the power transfer function and describe the effect of using this filter.  That is, what frequencies will be retained (emphasized) and what frequencies will be deemphasized (attenuated) by this filtering?"
   ]
  }
 ],
 "metadata": {
  "kernelspec": {
   "display_name": "R",
   "language": "R",
   "name": "ir"
  },
  "language_info": {
   "codemirror_mode": "r",
   "file_extension": ".r",
   "mimetype": "text/x-r-source",
   "name": "R",
   "pygments_lexer": "r",
   "version": "4.0.0"
  }
 },
 "nbformat": 4,
 "nbformat_minor": 2
}
