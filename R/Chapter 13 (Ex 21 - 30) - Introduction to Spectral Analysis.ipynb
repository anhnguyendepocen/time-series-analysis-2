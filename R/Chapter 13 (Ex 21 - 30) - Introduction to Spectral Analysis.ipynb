{
 "cells": [
  {
   "cell_type": "markdown",
   "metadata": {},
   "source": [
    "**Exercise 13.21**. Graph the theoretical spectral density for an AR(2) process with $\\phi_1 = 0$ and $\\phi_2 = 0.8$. Interpret the implications of the shape of the spectrum on the possible plots of the time series values."
   ]
  },
  {
   "cell_type": "markdown",
   "metadata": {},
   "source": [
    "**Solution**."
   ]
  },
  {
   "cell_type": "code",
   "execution_count": 1,
   "metadata": {},
   "outputs": [
    {
     "name": "stderr",
     "output_type": "stream",
     "text": [
      "Loading required package: ggplot2\n",
      "\n"
     ]
    }
   ],
   "source": [
    "require(ggplot2)"
   ]
  },
  {
   "cell_type": "code",
   "execution_count": 2,
   "metadata": {},
   "outputs": [],
   "source": [
    "spectral_density_ar2 <- function(phi1, phi2) {\n",
    "    function(f) {\n",
    "       1 / (1 + phi1**2 + phi2**2 - 2 * phi1 * (1 - phi2) * cos(2 * pi * f) - 2 * phi2 * cos(4 * pi * f))\n",
    "    }\n",
    "}"
   ]
  },
  {
   "cell_type": "code",
   "execution_count": 3,
   "metadata": {},
   "outputs": [
    {
     "data": {
      "image/png": "[encoded data removed]",
      "text/plain": [
       "plot without title"
      ]
     },
     "metadata": {
      "image/png": {
       "height": 240,
       "width": 720
      }
     },
     "output_type": "display_data"
    }
   ],
   "source": [
    "options(repr.plot.width=12, repr.plot.height=4)\n",
    "\n",
    "f = 0:500 / 1000\n",
    "d = spectral_density_ar2(0, 0.8)(f)\n",
    "\n",
    "ggplot() + \n",
    "  geom_line(aes(x=f, y=d), color='purple') +\n",
    "  xlab('Frequency') + ylab('Spectral Density') +\n",
    "  theme_bw() + theme(text = element_text(size=16))\n",
    "\n",
    "# print(paste('Peak: ', f[which.max(d)]))"
   ]
  },
  {
   "cell_type": "markdown",
   "metadata": {},
   "source": [
    "This spectral density has peaks at both frequency 0 and 0.5. This suggests two components, one oscillating rapidly and one changing values slowly."
   ]
  },
  {
   "cell_type": "markdown",
   "metadata": {},
   "source": [
    "**Exercise 13.22**. Graph the theoretical spectral density for an AR(2) process with $\\phi_1 = 0.8$ and $\\phi_2 =\n",
    "−0.2$. Interpret the implications of the shape of the spectrum on the possible plots of the time series values."
   ]
  },
  {
   "cell_type": "markdown",
   "metadata": {},
   "source": [
    "**Solution**."
   ]
  },
  {
   "cell_type": "code",
   "execution_count": 4,
   "metadata": {},
   "outputs": [
    {
     "name": "stdout",
     "output_type": "stream",
     "text": [
      "[1] \"Peak:  0\"\n"
     ]
    },
    {
     "data": {
      "image/png": "[encoded data removed]",
      "text/plain": [
       "plot without title"
      ]
     },
     "metadata": {
      "image/png": {
       "height": 240,
       "width": 720
      }
     },
     "output_type": "display_data"
    }
   ],
   "source": [
    "options(repr.plot.width=12, repr.plot.height=4)\n",
    "\n",
    "f = 0:500 / 1000\n",
    "d = spectral_density_ar2(0.8, -0.2)(f)\n",
    "\n",
    "ggplot() + \n",
    "  geom_line(aes(x=f, y=d), color='red') +\n",
    "  xlab('Frequency') + ylab('Spectral Density') +\n",
    "  theme_bw() + theme(text = element_text(size=16))\n",
    "\n",
    "print(paste('Peak: ', f[which.max(d)]))"
   ]
  },
  {
   "cell_type": "markdown",
   "metadata": {},
   "source": [
    "The process has highest spectral density at frequency 0, with density much higher for lower frequencies than higher frequencies.  A process with this characteristic tends to change slowly."
   ]
  },
  {
   "cell_type": "markdown",
   "metadata": {},
   "source": [
    "**Exercise 13.23**.  Graph the theoretical spectral density for an ARMA(1,1) time series with $\\phi = 0.5$ and $\\theta = 0.8$. Interpret the implications of the shape of the spectrum on the possible plots of the time series values."
   ]
  },
  {
   "cell_type": "markdown",
   "metadata": {},
   "source": [
    "**Solution**.  We can combine the spectral density functions of the AR(1) and MA(1) process to obtain the spectral density function of the ARMA(1) process, also given in Equation (13.5.10):\n",
    "\n",
    "$$ S(f) = \\frac{1 + \\theta^2 - 2 \\theta \\cos (2 \\pi f)}{1 + \\phi^2 - 2 \\phi \\cos(2 \\pi f)} \\sigma_e^2 $$"
   ]
  },
  {
   "cell_type": "code",
   "execution_count": 5,
   "metadata": {},
   "outputs": [],
   "source": [
    "spectral_density_arma11 <- function(phi, theta) {\n",
    "    function(f) {\n",
    "        c = cos(2 * pi * f)\n",
    "        (1 + theta**2 - 2 * theta * c) / (1 + phi**2 - 2 * phi * c)\n",
    "    }\n",
    "}"
   ]
  },
  {
   "cell_type": "code",
   "execution_count": 6,
   "metadata": {},
   "outputs": [
    {
     "name": "stdout",
     "output_type": "stream",
     "text": [
      "[1] \"Peak:  0.5\"\n"
     ]
    },
    {
     "data": {
      "image/png": "[encoded data removed]",
      "text/plain": [
       "plot without title"
      ]
     },
     "metadata": {
      "image/png": {
       "height": 240,
       "width": 720
      }
     },
     "output_type": "display_data"
    }
   ],
   "source": [
    "options(repr.plot.width=12, repr.plot.height=4)\n",
    "\n",
    "f = 0:500 / 1000\n",
    "d = spectral_density_arma11(0.5, 0.8)(f)\n",
    "\n",
    "ggplot() + \n",
    "  geom_line(aes(x=f, y=d), color='blue') +\n",
    "  xlab('Frequency') + ylab('Spectral Density') +\n",
    "  theme_bw() + theme(text = element_text(size=16))\n",
    "\n",
    "print(paste('Peak: ', f[which.max(d)]))"
   ]
  },
  {
   "cell_type": "markdown",
   "metadata": {},
   "source": [
    "The process has highest spectral density at frequency 0, with density much higher for higher frequencies than lower frequencies. A process with this characteristic tends to oscillate quickly."
   ]
  },
  {
   "cell_type": "markdown",
   "metadata": {},
   "source": [
    "**Exercise 13.24**.  Graph the theoretical spectral density for an ARMA(1,1) process with $\\phi = 0.95$ and $\\theta = 0.8$. Interpret the implications of the shape of the spectrum on the possible plots of the time series values."
   ]
  },
  {
   "cell_type": "markdown",
   "metadata": {},
   "source": [
    "**Solution**."
   ]
  },
  {
   "cell_type": "code",
   "execution_count": 7,
   "metadata": {},
   "outputs": [
    {
     "name": "stdout",
     "output_type": "stream",
     "text": [
      "[1] \"Peak:  0\"\n"
     ]
    },
    {
     "data": {
      "image/png": "[encoded data removed]",
      "text/plain": [
       "plot without title"
      ]
     },
     "metadata": {
      "image/png": {
       "height": 240,
       "width": 720
      }
     },
     "output_type": "display_data"
    }
   ],
   "source": [
    "options(repr.plot.width=12, repr.plot.height=4)\n",
    "\n",
    "f = 0:500 / 1000\n",
    "d = spectral_density_arma11(0.95, 0.8)(f)\n",
    "\n",
    "ggplot() + \n",
    "  geom_line(aes(x=f, y=d), color='red') +\n",
    "  xlab('Frequency') + ylab('Spectral Density') +\n",
    "  theme_bw() + theme(text = element_text(size=16))\n",
    "\n",
    "print(paste('Peak: ', f[which.max(d)]))"
   ]
  },
  {
   "cell_type": "markdown",
   "metadata": {},
   "source": [
    "The process has highest spectral density at frequency 0, with density much higher for lower frequencies than higher frequencies. A process with this characteristic tends to change slowly."
   ]
  },
  {
   "cell_type": "markdown",
   "metadata": {},
   "source": [
    "**Exercise 13.25**.  Let $\\{X_t\\}$ be a stationary time series and $\\{Y_t\\}$ be defined by $Y_t = (X_t + X_{t-1}) / 2$.\n",
    "\n",
    "**(a)** Find the power transfer function for this linear filter.\n",
    "\n",
    "**(b)** Is this a causal filter?\n",
    "\n",
    "**(c)** Graph the power transfer function and describe the effect of using this filter.  That is, what frequencies will be retained (emphasized) and what frequencies will be deemphasized (attenuated) by this filtering?"
   ]
  },
  {
   "cell_type": "markdown",
   "metadata": {},
   "source": [
    "**Solution**."
   ]
  },
  {
   "cell_type": "markdown",
   "metadata": {},
   "source": [
    "**(a)**  We have $c_0 = 1/2$, $c_1 = 1/2$ and $Y_t = c_0 X_t + c_1 X_{t-1}$.  Therefore the power transfer function for the linear filter is given by\n",
    "\n",
    "$$ |C(e^{-2\\pi i f})|^2 = \\left|\\frac{1}{2} + \\frac{1}{2}e^{-2\\pi if}\\right|^2 = \\frac{1}{2} (1 + \\cos(2 \\pi f) $$"
   ]
  },
  {
   "cell_type": "markdown",
   "metadata": {},
   "source": [
    "**(b)** Yes, since $c_k = 0$ for $k < 0$ -- that is, values of $Y_t$ do not \"look ahead\" in the sequence of $X_t$."
   ]
  },
  {
   "cell_type": "markdown",
   "metadata": {},
   "source": [
    "**(c)**"
   ]
  },
  {
   "cell_type": "code",
   "execution_count": 8,
   "metadata": {},
   "outputs": [],
   "source": [
    "power_transfer_function <- function(f) { (1 + cos(2 * pi * f)) / 2 }"
   ]
  },
  {
   "cell_type": "code",
   "execution_count": 9,
   "metadata": {},
   "outputs": [
    {
     "name": "stdout",
     "output_type": "stream",
     "text": [
      "[1] \"Peak:  0\"\n"
     ]
    },
    {
     "data": {
      "image/png": "[encoded data removed]",
      "text/plain": [
       "plot without title"
      ]
     },
     "metadata": {
      "image/png": {
       "height": 240,
       "width": 720
      }
     },
     "output_type": "display_data"
    }
   ],
   "source": [
    "options(repr.plot.width=12, repr.plot.height=4)\n",
    "\n",
    "f = 0:500 / 1000\n",
    "d = power_transfer_function(f)\n",
    "\n",
    "ggplot() + \n",
    "  geom_line(aes(x=f, y=d), color='red') +\n",
    "  xlab('Frequency') + ylab('Spectral Density') +\n",
    "  theme_bw() + theme(text = element_text(size=16))\n",
    "\n",
    "print(paste('Peak: ', f[which.max(d)]))"
   ]
  },
  {
   "cell_type": "markdown",
   "metadata": {},
   "source": [
    "This behaves as a low-pass filter, smoothing out the sequence / retaining lower frequency components and dropping higher frequency components."
   ]
  },
  {
   "cell_type": "markdown",
   "metadata": {},
   "source": [
    "**Exercise 13.26**.  Let $\\{X_t\\}$ be a stationary time series and $\\{Y_t\\}$ be defined by $Y_t = X_t - X_{t-1}$.\n",
    "\n",
    "**(a)** Find the power transfer function for this linear filter.\n",
    "\n",
    "**(b)** Is this a causal filter?\n",
    "\n",
    "**(c)** Graph the power transfer function and describe the effect of using this filter.  That is, what frequencies will be retained (emphasized) and what frequencies will be deemphasized (attenuated) by this filtering?"
   ]
  },
  {
   "cell_type": "markdown",
   "metadata": {},
   "source": [
    "**Solution**."
   ]
  },
  {
   "cell_type": "markdown",
   "metadata": {},
   "source": [
    "**(a)**  We have $c_0 = 1$, $c_1 = -1$ and $Y_t = c_0 X_t + c_1 X_{t-1}$.  Therefore the power transfer function for the linear filter is given by\n",
    "\n",
    "$$ |C(e^{-2\\pi i f})|^2 = \\left|1 - e^{-2\\pi if}\\right|^2 = 2 - 2 \\cos(2 \\pi f) $$"
   ]
  },
  {
   "cell_type": "markdown",
   "metadata": {},
   "source": [
    "**(b)** Yes, since $c_k = 0$ for $k < 0$ -- that is, values of $Y_t$ do not \"look ahead\" in the sequence of $X_t$."
   ]
  },
  {
   "cell_type": "markdown",
   "metadata": {},
   "source": [
    "**(c)**"
   ]
  },
  {
   "cell_type": "code",
   "execution_count": 10,
   "metadata": {},
   "outputs": [],
   "source": [
    "power_transfer_function <- function(f) { 2 - 2 * cos(2 * pi * f) }"
   ]
  },
  {
   "cell_type": "code",
   "execution_count": 11,
   "metadata": {},
   "outputs": [
    {
     "name": "stdout",
     "output_type": "stream",
     "text": [
      "[1] \"Peak:  0.5\"\n"
     ]
    },
    {
     "data": {
      "image/png": "[encoded data removed]",
      "text/plain": [
       "plot without title"
      ]
     },
     "metadata": {
      "image/png": {
       "height": 240,
       "width": 720
      }
     },
     "output_type": "display_data"
    }
   ],
   "source": [
    "options(repr.plot.width=12, repr.plot.height=4)\n",
    "\n",
    "f = 0:500 / 1000\n",
    "d = power_transfer_function(f)\n",
    "\n",
    "ggplot() + \n",
    "  geom_line(aes(x=f, y=d), color='blue') +\n",
    "  xlab('Frequency') + ylab('Spectral Density') +\n",
    "  theme_bw() + theme(text = element_text(size=16))\n",
    "\n",
    "print(paste('Peak: ', f[which.max(d)]))"
   ]
  },
  {
   "cell_type": "markdown",
   "metadata": {},
   "source": [
    "This behaves as a high-pass filter, removing longer movements / lower frequencies and retaining higher frequencies."
   ]
  },
  {
   "cell_type": "markdown",
   "metadata": {},
   "source": [
    "**Exercise 13.27**.  Let $\\{X_t\\}$ be a stationary time series and $\\{Y_t\\}$ be defined by $Y_t = (X_{t+1} + X_t + X_{t-1}) / 3$.\n",
    "\n",
    "**(a)** Find the power transfer function for this linear filter.\n",
    "\n",
    "**(b)** Is this a causal filter?\n",
    "\n",
    "**(c)** Graph the power transfer function and describe the effect of using this filter.  That is, what frequencies will be retained (emphasized) and what frequencies will be deemphasized (attenuated) by this filtering?"
   ]
  },
  {
   "cell_type": "markdown",
   "metadata": {},
   "source": [
    "**Solution**."
   ]
  },
  {
   "cell_type": "markdown",
   "metadata": {},
   "source": [
    "**(a)**  We have $c_{-1} = c_0 = c_1 = 1/3$ and $Y_t = c_{-1} X_{t+1} + c_0 X_t + c_1 X_{t-1}$.  Therefore the power transfer function for the linear filter is given by\n",
    "\n",
    "$$ |C(e^{-2\\pi i f})|^2 = \\left|\\frac{1}{3} e^{2\\pi if} + \\frac{1}{3} + \\frac{1}{3} e^{-2\\pi if}\\right|^2 = \\frac{1}{9}(1 + 2 \\cos (2 \\pi f))^2 $$"
   ]
  },
  {
   "cell_type": "markdown",
   "metadata": {},
   "source": [
    "**(b)** Since $c_{-1} \\neq 0$, the filter isn't casual -- calculating $Y_t$ depends on the \"future value\" $X_{t+1}$."
   ]
  },
  {
   "cell_type": "markdown",
   "metadata": {},
   "source": [
    "**(c)**"
   ]
  },
  {
   "cell_type": "code",
   "execution_count": 12,
   "metadata": {},
   "outputs": [],
   "source": [
    "power_transfer_function <- function(f) { ((1 + 2 * cos(2 * pi * f))/3)**2 }"
   ]
  },
  {
   "cell_type": "code",
   "execution_count": 13,
   "metadata": {},
   "outputs": [
    {
     "data": {
      "image/png": "[encoded data removed]",
      "text/plain": [
       "plot without title"
      ]
     },
     "metadata": {
      "image/png": {
       "height": 240,
       "width": 720
      }
     },
     "output_type": "display_data"
    }
   ],
   "source": [
    "options(repr.plot.width=12, repr.plot.height=4)\n",
    "\n",
    "f = 0:500 / 1000\n",
    "d = power_transfer_function(f)\n",
    "\n",
    "ggplot() + \n",
    "  geom_line(aes(x=f, y=d), color='purple') +\n",
    "  xlab('Frequency') + ylab('Spectral Density') +\n",
    "  theme_bw() + theme(text = element_text(size=16))\n",
    "\n",
    "# print(paste('Peak: ', f[which.max(d)]))"
   ]
  },
  {
   "cell_type": "markdown",
   "metadata": {},
   "source": [
    "This function has a stronger lower frequency component, de-emphasizing frequencies around 0.3, 0.4, but less so for higher frequencies."
   ]
  },
  {
   "cell_type": "markdown",
   "metadata": {},
   "source": [
    "**Exercise 13.28**.  Let $\\{X_t\\}$ be a stationary time series and $\\{Y_t\\}$ be defined by $Y_t = (X_t + X_{t-1} + X_{t-2}) / 3$.\n",
    "\n",
    "**(a)** Show that the power transfer function of this filter is the same as the power transfer function of the filter defined in Exercise 13.27.\n",
    "\n",
    "**(b)** Is this a causal filter?"
   ]
  },
  {
   "cell_type": "markdown",
   "metadata": {},
   "source": [
    "**Solution**."
   ]
  },
  {
   "cell_type": "markdown",
   "metadata": {},
   "source": [
    "**(a)**  Now we have $c_0 = c_1 = c_2 = 1/3$, and $Y_t = c_0 X_t + c_1 X_{t-1} + c_2 X_{t-2}$, so the power function is\n",
    "\n",
    "$$ |C(e^{-2\\pi i f})|^2 = \\left|\\frac{1}{3} + \\frac{1}{3} e^{-2\\pi if} + \\frac{1}{3} e^{-4\\pi if}\\right|^2 = \\frac{1}{9}(1 + 2 \\cos (2 \\pi f))^2 $$\n",
    "\n",
    "which is the same as the power function obtained in Exercise 13.27."
   ]
  },
  {
   "cell_type": "markdown",
   "metadata": {},
   "source": [
    "**(b)** Yes -- now all $c_k = 0$ for $k < 0$."
   ]
  },
  {
   "cell_type": "markdown",
   "metadata": {},
   "source": [
    "**Exercise 13.29**.  Let $\\{X_t\\}$ be a stationary time series and let $Y_t = X_t - X_{t-4}$ define $\\{Y_t\\}$\n",
    "\n",
    "**(a)** Find the power transfer function for this linear filter.\n",
    "\n",
    "**(b)** Graph the power transfer function and describe the effect of using this filter.  That is, what frequencies will be retained (emphasized) and what frequencies will be deemphasized (attenuated) by this filtering?"
   ]
  },
  {
   "cell_type": "markdown",
   "metadata": {},
   "source": [
    "**Solution**."
   ]
  },
  {
   "cell_type": "markdown",
   "metadata": {},
   "source": [
    "**(a)**  We have $c_0 = 1$, $c_4 = -1$, and $Y_t = c_0 X_t + c_4 X_{t - 4}$, so the power transfer function is\n",
    "\n",
    "$$ |C(e^{-2\\pi if})|^2 = \\left(1 - e^{-8\\pi if} \\right)^2 = 2 - 2 \\cos(8 \\pi f)$$"
   ]
  },
  {
   "cell_type": "markdown",
   "metadata": {},
   "source": [
    "**(b)**"
   ]
  },
  {
   "cell_type": "code",
   "execution_count": 14,
   "metadata": {},
   "outputs": [],
   "source": [
    "power_transfer_function <- function(f) { 2 - 2 * cos(8 * pi * f) }"
   ]
  },
  {
   "cell_type": "code",
   "execution_count": 15,
   "metadata": {},
   "outputs": [
    {
     "data": {
      "image/png": "[encoded data removed]",
      "text/plain": [
       "plot without title"
      ]
     },
     "metadata": {
      "image/png": {
       "height": 240,
       "width": 720
      }
     },
     "output_type": "display_data"
    }
   ],
   "source": [
    "options(repr.plot.width=12, repr.plot.height=4)\n",
    "\n",
    "f = 0:500 / 1000\n",
    "d = power_transfer_function(f)\n",
    "\n",
    "ggplot() + \n",
    "  geom_line(aes(x=f, y=d), color='goldenrod') +\n",
    "  xlab('Frequency') + ylab('Spectral Density') +\n",
    "  theme_bw() + theme(text = element_text(size=16))\n",
    "\n",
    "# print(paste('Peak: ', f[which.max(d)]))"
   ]
  },
  {
   "cell_type": "markdown",
   "metadata": {},
   "source": [
    "The filter will attenuate low and high frequencies, but it will also attenuate frequencies around 1/4 -- instead retaining the frequencies around 1/8 and 3/8."
   ]
  },
  {
   "cell_type": "markdown",
   "metadata": {},
   "source": [
    "**Exercise 13.30**. Let $\\{X_t\\}$ be a stationary time series and let $\\{Y_t\\}$ be defined by $Y_t = (X_{t+1} - 2 X_t + X_{t-1})/3 $. \n",
    "\n",
    "**(a)** Find the power transfer function for this linear filter.\n",
    "\n",
    "**(b)** Graph the power transfer function and describe the effect of using this filter. That is, what frequencies will be retained (emphasized) and what frequencies will be deemphasized (attenuated) by this filtering?"
   ]
  },
  {
   "cell_type": "markdown",
   "metadata": {},
   "source": [
    "**Solution**."
   ]
  },
  {
   "cell_type": "markdown",
   "metadata": {},
   "source": [
    "**(a)**  We have $c_{-1} = 1/3$, $c_0 = -2/3$, and $c_1 = 1/3$, and $Y_t = c_{-1} X_{t+1} + c_0 X_t + c_1 X_{t-1}$, so the power transfer function is\n",
    "\n",
    "$$ |C(e^{-2\\pi if})|^2 = \\left|\\frac{1}{3}e^{2\\pi if} - \\frac{2}{3} + \\frac{1}{3}e^{-2\\pi if}\\right|^2 = \\left(\\frac{2}{3} (\\cos (2 \\pi f) - 1) \\right)^2 $$"
   ]
  },
  {
   "cell_type": "markdown",
   "metadata": {},
   "source": [
    "**(b)**"
   ]
  },
  {
   "cell_type": "code",
   "execution_count": 16,
   "metadata": {},
   "outputs": [],
   "source": [
    "power_transfer_function <- function(f) { ((2/3) * (cos(2 * pi * f) - 1))**2 }"
   ]
  },
  {
   "cell_type": "code",
   "execution_count": 17,
   "metadata": {
    "scrolled": true
   },
   "outputs": [
    {
     "name": "stdout",
     "output_type": "stream",
     "text": [
      "[1] \"Peak:  0.5\"\n"
     ]
    },
    {
     "data": {
      "image/png": "[encoded data removed]",
      "text/plain": [
       "plot without title"
      ]
     },
     "metadata": {
      "image/png": {
       "height": 240,
       "width": 720
      }
     },
     "output_type": "display_data"
    }
   ],
   "source": [
    "options(repr.plot.width=12, repr.plot.height=4)\n",
    "\n",
    "f = 0:500 / 1000\n",
    "d = power_transfer_function(f)\n",
    "\n",
    "ggplot() + \n",
    "  geom_line(aes(x=f, y=d), color='blue') +\n",
    "  xlab('Frequency') + ylab('Spectral Density') +\n",
    "  theme_bw() + theme(text = element_text(size=16))\n",
    "\n",
    "print(paste('Peak: ', f[which.max(d)]))"
   ]
  },
  {
   "cell_type": "markdown",
   "metadata": {},
   "source": [
    "This is a high-pass filter; it attenuates lower frequencies and maintains higher frequencies."
   ]
  }
 ],
 "metadata": {
  "kernelspec": {
   "display_name": "R",
   "language": "R",
   "name": "ir"
  },
  "language_info": {
   "codemirror_mode": "r",
   "file_extension": ".r",
   "mimetype": "text/x-r-source",
   "name": "R",
   "pygments_lexer": "r",
   "version": "4.0.0"
  }
 },
 "nbformat": 4,
 "nbformat_minor": 2
}
