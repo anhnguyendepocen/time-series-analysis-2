{
 "cells": [
  {
   "cell_type": "markdown",
   "metadata": {},
   "source": [
    "**Exercise 9.21**.  The data file named `deere3` contains 57 consecutive values from a complex machine tool process at Deere & Co.  The values given are deviations from a target value in units of ten millionths of an inch.  The process employs a control\n",
    "mechanism that resets some of the parameters of the machine tool depending on the magnitude of deviation from target of the last item produced.\n",
    "\n",
    "**(a)** Using an AR(1) model for this series, forecast the next ten values.\n",
    "\n",
    "**(b)** Plot the series, the forecasts, and 95% forecast limits, and interpret the results."
   ]
  },
  {
   "cell_type": "markdown",
   "metadata": {},
   "source": [
    "**Solution**."
   ]
  },
  {
   "cell_type": "code",
   "execution_count": 1,
   "metadata": {},
   "outputs": [
    {
     "name": "stderr",
     "output_type": "stream",
     "text": [
      "Loading required package: ggplot2\n",
      "\n"
     ]
    }
   ],
   "source": [
    "require(ggplot2)"
   ]
  },
  {
   "cell_type": "code",
   "execution_count": 2,
   "metadata": {},
   "outputs": [],
   "source": [
    "Y <- read.csv('../data/deere3.dat')[['deere3']]"
   ]
  },
  {
   "cell_type": "code",
   "execution_count": 3,
   "metadata": {},
   "outputs": [
    {
     "name": "stdout",
     "output_type": "stream",
     "text": [
      "\n",
      "Call:\n",
      "arima(x = Y, order = c(1, 0, 0))\n",
      "\n",
      "Coefficients:\n",
      "         ar1  intercept\n",
      "      0.5255   124.3832\n",
      "s.e.  0.1108   394.2067\n",
      "\n",
      "sigma^2 estimated as 2069355:  log likelihood = -495.51,  aic = 997.02\n"
     ]
    },
    {
     "data": {
      "image/png": "[encoded data removed]",
      "text/plain": [
       "plot without title"
      ]
     },
     "metadata": {
      "image/png": {
       "height": 240,
       "width": 720
      }
     },
     "output_type": "display_data"
    }
   ],
   "source": [
    "model = arima(Y, order=c(1, 0, 0))\n",
    "print(model)\n",
    "\n",
    "pred = predict(model, n.ahead=10, se.fit=TRUE)\n",
    "Y_pred = pred$pred\n",
    "se = pred$se\n",
    "z = qnorm(0.975)\n",
    "\n",
    "options(repr.plot.width=12, repr.plot.height=4)\n",
    "\n",
    "m = length(Y_pred)\n",
    "n = length(Y)\n",
    "\n",
    "# Prepend last element so line is continuous\n",
    "plot_data = c(tail(Y, n=1), Y_pred)\n",
    "\n",
    "ggplot() + \n",
    "  geom_line(aes(x=1:(m+n), y=mean(Y)), linetype='dashed') +\n",
    "  geom_line(aes(x=n:(n+m), y=plot_data), color='orange') +\n",
    "  geom_point(aes(x=n:(n+m), y=plot_data), color='orange') +\n",
    "  geom_line(aes(x=1:n, y=c(Y)), color='blue') +\n",
    "  geom_point(aes(x=1:n, y=c(Y)), color='blue') +\n",
    "  geom_ribbon(aes(\n",
    "      x=(n+1):(n+m), \n",
    "      ymin=Y_pred - z * se, \n",
    "      ymax=Y_pred + z * se\n",
    "  ), fill='orange', alpha=0.2) + \n",
    "  xlab('') + ylab('') +\n",
    "  theme_bw() + theme(text = element_text(size=16))"
   ]
  },
  {
   "cell_type": "markdown",
   "metadata": {},
   "source": [
    "The predicted values quickly converge to the process mean -- raising the question on whether it would be better to just use the process mean as a model for a specific application."
   ]
  },
  {
   "cell_type": "markdown",
   "metadata": {},
   "source": [
    "**Exercise 9.22**.  The data file named `days` contains accounting data from the Winegard Co. of Burlington, Iowa.  The data are the number of days until Winegard receives payment for 130 consecutive orders from a particular distributor of Winegard products.  (The name of the distributor must remain anonymous for confidentiality reasons.)  The time series contains outliers that are quite obvious in the time series plot.  Replace each of the unusual values at \"times\" 63, 106, and 129 with the much\n",
    "more typical value of 35 days.\n",
    "\n",
    "**(a)** Use an MA(2) model to forecast the next ten values of this modified series.\n",
    "\n",
    "**(b)** Plot the series, the forecasts, and 95% forecast limits, and interpret the results."
   ]
  },
  {
   "cell_type": "markdown",
   "metadata": {},
   "source": [
    "**Solution**."
   ]
  },
  {
   "cell_type": "code",
   "execution_count": 4,
   "metadata": {},
   "outputs": [],
   "source": [
    "Y <- read.csv('../data/days.dat')[['days']]\n",
    "Y[c(63, 106, 129)] = 35"
   ]
  },
  {
   "cell_type": "code",
   "execution_count": 5,
   "metadata": {},
   "outputs": [
    {
     "name": "stdout",
     "output_type": "stream",
     "text": [
      "\n",
      "Call:\n",
      "arima(x = Y, order = c(0, 0, 2))\n",
      "\n",
      "Coefficients:\n",
      "         ma1     ma2  intercept\n",
      "      0.1893  0.1958    28.1956\n",
      "s.e.  0.0894  0.0740     0.6980\n",
      "\n",
      "sigma^2 estimated as 33.22:  log likelihood = -412.23,  aic = 832.45\n"
     ]
    },
    {
     "data": {
      "image/png": "[encoded data removed]",
      "text/plain": [
       "plot without title"
      ]
     },
     "metadata": {
      "image/png": {
       "height": 240,
       "width": 720
      }
     },
     "output_type": "display_data"
    }
   ],
   "source": [
    "model = arima(Y, order=c(0, 0, 2))\n",
    "print(model)\n",
    "\n",
    "pred = predict(model, n.ahead=10, se.fit=TRUE)\n",
    "Y_pred = pred$pred\n",
    "se = pred$se\n",
    "z = qnorm(0.975)\n",
    "\n",
    "options(repr.plot.width=12, repr.plot.height=4)\n",
    "\n",
    "m = length(Y_pred)\n",
    "n = length(Y)\n",
    "\n",
    "# Prepend last element so line is continuous\n",
    "plot_data = c(tail(Y, n=1), Y_pred)\n",
    "\n",
    "ggplot() + \n",
    "  geom_line(aes(x=1:(m+n), y=mean(Y)), linetype='dashed') +\n",
    "  geom_line(aes(x=n:(n+m), y=plot_data), color='orange') +\n",
    "  geom_point(aes(x=n:(n+m), y=plot_data), color='orange') +\n",
    "  geom_line(aes(x=1:n, y=c(Y)), color='blue') +\n",
    "  geom_point(aes(x=1:n, y=c(Y)), color='blue') +\n",
    "  geom_ribbon(aes(\n",
    "      x=(n+1):(n+m), \n",
    "      ymin=Y_pred - z * se, \n",
    "      ymax=Y_pred + z * se\n",
    "  ), fill='orange', alpha=0.2) + \n",
    "  xlab('') + ylab('') +\n",
    "  theme_bw() + theme(text = element_text(size=16))"
   ]
  },
  {
   "cell_type": "markdown",
   "metadata": {},
   "source": [
    "The MA(2) forecast are literally the mean after 2 steps in the future."
   ]
  },
  {
   "cell_type": "markdown",
   "metadata": {},
   "source": [
    "**Exercise 9.23**.  The time series in the data file `robot` gives the final position in the \"x-direction\" after an industrial robot has finished a planned set of exercises.  The measurements are expressed as deviations from a target position.  The robot is put through this planned set of exercises in the hope that its behavior is repeatable and thus predictable.\n",
    "\n",
    "**(a)** Use an IMA(1,1) model to forecast five values ahead. Obtain 95% forecast limits also.\n",
    "\n",
    "**(b)** Display the forecasts, forecast limits, and actual values in a graph and interpret the results.\n",
    "\n",
    "**(c)** Now use an ARMA(1,1) model to forecast five values ahead and obtain 95% forecast limits.  Compare these results with those obtained in part (a)."
   ]
  },
  {
   "cell_type": "markdown",
   "metadata": {},
   "source": [
    "**Solution**."
   ]
  },
  {
   "cell_type": "code",
   "execution_count": 6,
   "metadata": {},
   "outputs": [],
   "source": [
    "Y <- read.csv('../data/robot.dat')[['robot']]"
   ]
  },
  {
   "cell_type": "code",
   "execution_count": 7,
   "metadata": {},
   "outputs": [
    {
     "name": "stdout",
     "output_type": "stream",
     "text": [
      "\n",
      "Call:\n",
      "arima(x = Y, order = c(0, 1, 1))\n",
      "\n",
      "Coefficients:\n",
      "          ma1\n",
      "      -0.8713\n",
      "s.e.   0.0389\n",
      "\n",
      "sigma^2 estimated as 6.069e-06:  log likelihood = 1480.95,  aic = -2957.9\n"
     ]
    },
    {
     "data": {
      "image/png": "[encoded data removed]",
      "text/plain": [
       "plot without title"
      ]
     },
     "metadata": {
      "image/png": {
       "height": 240,
       "width": 720
      }
     },
     "output_type": "display_data"
    }
   ],
   "source": [
    "model.ima11 = arima(Y, order=c(0, 1, 1))\n",
    "print(model.ima11)\n",
    "\n",
    "pred = predict(model.ima11, n.ahead=10, se.fit=TRUE)\n",
    "Y_pred = pred$pred\n",
    "se = pred$se\n",
    "z = qnorm(0.975)\n",
    "\n",
    "options(repr.plot.width=12, repr.plot.height=4)\n",
    "\n",
    "m = length(Y_pred)\n",
    "n = length(Y)\n",
    "\n",
    "# Prepend last element so line is continuous\n",
    "plot_data = c(tail(Y, n=1), Y_pred)\n",
    "\n",
    "ggplot() + \n",
    "  geom_line(aes(x=1:(m+n), y=mean(Y)), linetype='dashed') +\n",
    "  geom_line(aes(x=n:(n+m), y=plot_data), color='orange') +\n",
    "  geom_point(aes(x=n:(n+m), y=plot_data), color='orange') +\n",
    "  geom_line(aes(x=1:n, y=c(Y)), color='blue') +\n",
    "  geom_point(aes(x=1:n, y=c(Y)), color='blue') +\n",
    "  geom_ribbon(aes(\n",
    "      x=(n+1):(n+m), \n",
    "      ymin=Y_pred - z * se, \n",
    "      ymax=Y_pred + z * se\n",
    "  ), fill='orange', alpha=0.2) + \n",
    "  xlab('') + ylab('') +\n",
    "  theme_bw() + theme(text = element_text(size=16))"
   ]
  },
  {
   "cell_type": "code",
   "execution_count": 8,
   "metadata": {},
   "outputs": [
    {
     "name": "stdout",
     "output_type": "stream",
     "text": [
      "\n",
      "Call:\n",
      "arima(x = Y, order = c(1, 0, 1))\n",
      "\n",
      "Coefficients:\n",
      "         ar1      ma1  intercept\n",
      "      0.9472  -0.8062     0.0015\n",
      "s.e.  0.0309   0.0609     0.0005\n",
      "\n",
      "sigma^2 estimated as 5.948e-06:  log likelihood = 1489.3,  aic = -2970.61\n"
     ]
    },
    {
     "data": {
      "image/png": "[encoded data removed]",
      "text/plain": [
       "plot without title"
      ]
     },
     "metadata": {
      "image/png": {
       "height": 240,
       "width": 720
      }
     },
     "output_type": "display_data"
    }
   ],
   "source": [
    "model.arma11 = arima(Y, order=c(1, 0, 1))\n",
    "print(model.arma11)\n",
    "\n",
    "pred = predict(model.arma11, n.ahead=10, se.fit=TRUE)\n",
    "Y_pred = pred$pred\n",
    "se = pred$se\n",
    "z = qnorm(0.975)\n",
    "\n",
    "options(repr.plot.width=12, repr.plot.height=4)\n",
    "\n",
    "m = length(Y_pred)\n",
    "n = length(Y)\n",
    "\n",
    "# Prepend last element so line is continuous\n",
    "plot_data = c(tail(Y, n=1), Y_pred)\n",
    "\n",
    "ggplot() + \n",
    "  geom_line(aes(x=1:(m+n), y=mean(Y)), linetype='dashed') +\n",
    "  geom_line(aes(x=n:(n+m), y=plot_data), color='orange') +\n",
    "  geom_point(aes(x=n:(n+m), y=plot_data), color='orange') +\n",
    "  geom_line(aes(x=1:n, y=c(Y)), color='blue') +\n",
    "  geom_point(aes(x=1:n, y=c(Y)), color='blue') +\n",
    "  geom_ribbon(aes(\n",
    "      x=(n+1):(n+m), \n",
    "      ymin=Y_pred - z * se, \n",
    "      ymax=Y_pred + z * se\n",
    "  ), fill='orange', alpha=0.2) + \n",
    "  xlab('') + ylab('') +\n",
    "  theme_bw() + theme(text = element_text(size=16))"
   ]
  },
  {
   "cell_type": "markdown",
   "metadata": {},
   "source": [
    "Both processes provide a forecast very close to the process mean overall, though the ARMA(1, 1) model has lower AIC and higher log-likelihood."
   ]
  },
  {
   "cell_type": "markdown",
   "metadata": {},
   "source": [
    "**Exercise 9.24**.  Exhibit 9.4 on page 206 displayed the forecasts and 95% forecast limits for the square root of the Canadian hare abundance.  The data are in the file named `hare`.  Produce a similar plot in original terms.  That is, plot the original abundance values together with the squares of the forecasts and squares of the forecast limits."
   ]
  },
  {
   "cell_type": "markdown",
   "metadata": {},
   "source": [
    "**Solution**."
   ]
  },
  {
   "cell_type": "code",
   "execution_count": 9,
   "metadata": {},
   "outputs": [],
   "source": [
    "Y <- read.csv('../data/hare.dat')[['hare']]\n",
    "Y <- sqrt(Y)"
   ]
  },
  {
   "cell_type": "code",
   "execution_count": 10,
   "metadata": {},
   "outputs": [
    {
     "name": "stdout",
     "output_type": "stream",
     "text": [
      "\n",
      "Call:\n",
      "arima(x = Y, order = c(3, 0, 0))\n",
      "\n",
      "Coefficients:\n",
      "         ar1      ar2      ar3  intercept\n",
      "      1.0519  -0.2292  -0.3931     5.6923\n",
      "s.e.  0.1877   0.2942   0.1915     0.3371\n",
      "\n",
      "sigma^2 estimated as 1.066:  log likelihood = -46.54,  aic = 103.08\n"
     ]
    },
    {
     "data": {
      "image/png": "[encoded data removed]",
      "text/plain": [
       "plot without title"
      ]
     },
     "metadata": {
      "image/png": {
       "height": 240,
       "width": 720
      }
     },
     "output_type": "display_data"
    }
   ],
   "source": [
    "model = arima(Y, order=c(3, 0, 0))\n",
    "print(model)\n",
    "\n",
    "pred = predict(model, n.ahead=25, se.fit=TRUE)\n",
    "Y_pred = pred$pred\n",
    "se = pred$se\n",
    "z = qnorm(0.975)\n",
    "\n",
    "options(repr.plot.width=12, repr.plot.height=4)\n",
    "\n",
    "m = length(Y_pred)\n",
    "n = length(Y)\n",
    "\n",
    "start_x = 1904\n",
    "\n",
    "# Prepend last element so line is continuous\n",
    "plot_data = c(tail(Y, n=1), Y_pred)\n",
    "\n",
    "ggplot() + \n",
    "  geom_line(aes(x=start_x+1:(m+n), y=mean(Y**2)), linetype='dashed') +\n",
    "  geom_line(aes(x=start_x+n:(n+m), y=plot_data**2), color='orange') +\n",
    "  geom_point(aes(x=start_x+n:(n+m), y=plot_data**2), color='orange') +\n",
    "  geom_line(aes(x=start_x+1:n, y=c(Y)**2), color='blue') +\n",
    "  geom_point(aes(x=start_x+1:n, y=c(Y)**2), color='blue') +\n",
    "  geom_ribbon(aes(\n",
    "      x=start_x+(n+1):(n+m), \n",
    "      ymin=(Y_pred - z * se)**2, \n",
    "      ymax=(Y_pred + z * se)**2\n",
    "  ), fill='orange', alpha=0.2) + \n",
    "  xlab('') + ylab('') +\n",
    "  theme_bw() + theme(text = element_text(size=16))"
   ]
  },
  {
   "cell_type": "markdown",
   "metadata": {},
   "source": [
    "The squared plot presents confidence intervals that are obviously imbalanced, as the recursion was performed on the square root of the values."
   ]
  },
  {
   "cell_type": "markdown",
   "metadata": {},
   "source": [
    "**Exercise 9.25**.  Consider the seasonal means plus linear time trend model for the logarithms of the monthly electricity generation time series in Exercise 9.8.  (The data are in the file named `electricity`.)\n",
    "\n",
    "**(a)** Find the two-year forecasts and forecast limits in original terms.  That is, exponentiate (antilog) the results obtained in Exercise 9.8.\n",
    "\n",
    "**(b)** Plot the last five years of the original time series together with two years of forecasts and the 95% forecast limits, all in original terms.  Interpret the plot."
   ]
  },
  {
   "cell_type": "markdown",
   "metadata": {},
   "source": [
    "**Solution**."
   ]
  },
  {
   "cell_type": "code",
   "execution_count": 11,
   "metadata": {},
   "outputs": [
    {
     "name": "stderr",
     "output_type": "stream",
     "text": [
      "Loading required package: zoo\n",
      "\n",
      "\n",
      "Attaching package: 'zoo'\n",
      "\n",
      "\n",
      "The following objects are masked from 'package:base':\n",
      "\n",
      "    as.Date, as.Date.numeric\n",
      "\n",
      "\n",
      "Loading required package: data.table\n",
      "\n"
     ]
    }
   ],
   "source": [
    "require(ggplot2)\n",
    "require(zoo)\n",
    "require(data.table)"
   ]
  },
  {
   "cell_type": "code",
   "execution_count": 12,
   "metadata": {},
   "outputs": [],
   "source": [
    "data <- read.table(\"../data/electricity.dat\", header=TRUE)\n",
    "data['date'] = time(zooreg(1:nrow(data), as.yearmon(\"1973-01\"), freq = 12))\n",
    "data['t'] = as.numeric(format(data[['date']], \"%Y\")) + as.numeric(format(data[['date']], \"%m\"))/12\n",
    "data['month'] = as.factor(format(data[['date']], \"%m\"))"
   ]
  },
  {
   "cell_type": "code",
   "execution_count": 13,
   "metadata": {},
   "outputs": [
    {
     "data": {
      "text/plain": [
       "\n",
       "Call:\n",
       "lm(formula = log(electricity) ~ t + month, data = data)\n",
       "\n",
       "Residuals:\n",
       "      Min        1Q    Median        3Q       Max \n",
       "-0.096274 -0.029189  0.000315  0.025507  0.134976 \n",
       "\n",
       "Coefficients:\n",
       "              Estimate Std. Error t value Pr(>|t|)    \n",
       "(Intercept) -3.783e+01  4.283e-01 -88.323  < 2e-16 ***\n",
       "t            2.526e-02  2.153e-04 117.310  < 2e-16 ***\n",
       "month02     -1.246e-01  1.004e-02 -12.408  < 2e-16 ***\n",
       "month03     -9.080e-02  1.004e-02  -9.040  < 2e-16 ***\n",
       "month04     -1.642e-01  1.004e-02 -16.344  < 2e-16 ***\n",
       "month05     -1.000e-01  1.004e-02  -9.959  < 2e-16 ***\n",
       "month06     -2.016e-02  1.004e-02  -2.007   0.0455 *  \n",
       "month07      7.675e-02  1.004e-02   7.641 1.75e-13 ***\n",
       "month08      7.368e-02  1.004e-02   7.335 1.33e-12 ***\n",
       "month09     -6.473e-02  1.004e-02  -6.444 3.49e-10 ***\n",
       "month10     -1.148e-01  1.005e-02 -11.431  < 2e-16 ***\n",
       "month11     -1.346e-01  1.005e-02 -13.400  < 2e-16 ***\n",
       "month12     -4.481e-02  1.005e-02  -4.460 1.08e-05 ***\n",
       "---\n",
       "Signif. codes:  0 '***' 0.001 '**' 0.01 '*' 0.05 '.' 0.1 ' ' 1\n",
       "\n",
       "Residual standard error: 0.0408 on 383 degrees of freedom\n",
       "Multiple R-squared:  0.9753,\tAdjusted R-squared:  0.9746 \n",
       "F-statistic:  1262 on 12 and 383 DF,  p-value: < 2.2e-16\n"
      ]
     },
     "metadata": {},
     "output_type": "display_data"
    },
    {
     "data": {
      "image/png": "[encoded data removed]",
      "text/plain": [
       "plot without title"
      ]
     },
     "metadata": {
      "image/png": {
       "height": 240,
       "width": 720
      }
     },
     "output_type": "display_data"
    }
   ],
   "source": [
    "model = lm(log(electricity)~ t + month, data=data)\n",
    "summary(model)\n",
    "\n",
    "sigma_e = summary(model)$sigma\n",
    "z = qnorm(0.975)\n",
    "\n",
    "t = time(zooreg(1:(2*12), as.yearmon(\"2006-01\"), freq = 12))\n",
    "new_data = data.table(\n",
    "    'date' = t,\n",
    "    't' = as.numeric(format(t, \"%Y\")) + as.numeric(format(t, \"%m\"))/12,\n",
    "    'month' = as.factor(format(t, \"%m\"))\n",
    ")\n",
    "new_data[, 'electricity' := exp(predict.lm(model, new_data))]\n",
    "\n",
    "options(repr.plot.width=12, repr.plot.height=4)\n",
    "\n",
    "index = data['t'] >= 2001\n",
    "\n",
    "# Prepend last element so line is continuous\n",
    "plot_data = rbind(last(data), new_data)\n",
    "\n",
    "ggplot() + \n",
    "  geom_line(aes(x=data[['t']][index], y=data[['electricity']][index]), color='blue') +\n",
    "  geom_point(aes(x=data[['t']][index], y=data[['electricity']][index]), color='blue') +\n",
    "  geom_line(aes(x=plot_data[['t']], y=plot_data[['electricity']]), color='orange') +\n",
    "  geom_point(aes(x=plot_data[['t']], y=plot_data[['electricity']]), color='orange') +\n",
    "  geom_ribbon(aes(\n",
    "      x=new_data[['t']], \n",
    "      ymin=exp(log(new_data[['electricity']]) - z * sigma_e), \n",
    "      ymax=exp(log(new_data[['electricity']]) + z * sigma_e)\n",
    "  ), fill='orange', alpha=0.2) + \n",
    "  xlab('Date') + ylab('log Electricity') +\n",
    "  theme_bw() + theme(text = element_text(size=16))"
   ]
  },
  {
   "cell_type": "markdown",
   "metadata": {},
   "source": [
    "Results are very similar to the ones in exercise 9.8 -- the log / exponentiation does not make much of an impact visually for sufficiently large values that change over a small range."
   ]
  }
 ],
 "metadata": {
  "kernelspec": {
   "display_name": "R",
   "language": "R",
   "name": "ir"
  },
  "language_info": {
   "codemirror_mode": "r",
   "file_extension": ".r",
   "mimetype": "text/x-r-source",
   "name": "R",
   "pygments_lexer": "r",
   "version": "4.0.0"
  }
 },
 "nbformat": 4,
 "nbformat_minor": 2
}
