{
 "cells": [
  {
   "cell_type": "markdown",
   "metadata": {},
   "source": [
    "**Exercise 7.31**.  Simulate a time series of length $n = 48$ from an AR(1) model with $\\phi = 0.7$. Use that series as if it were real data.  Now compare the theoretical asymptotic distribution of the estimator of $\\phi$ with the distribution of the bootstrap estimator of $\\phi$."
   ]
  },
  {
   "cell_type": "markdown",
   "metadata": {},
   "source": [
    "**Solution**."
   ]
  },
  {
   "cell_type": "code",
   "execution_count": 1,
   "metadata": {},
   "outputs": [],
   "source": [
    "set.seed(0)\n",
    "\n",
    "Y = arima.sim(model=list(ar=0.7), n=48)\n",
    "model_ar1 = arima(Y, order=c(1,0,0))"
   ]
  },
  {
   "cell_type": "code",
   "execution_count": 2,
   "metadata": {},
   "outputs": [
    {
     "data": {
      "text/plain": [
       "\n",
       "Call:\n",
       "arima(x = Y, order = c(1, 0, 0))\n",
       "\n",
       "Coefficients:\n",
       "         ar1  intercept\n",
       "      0.6985    -0.2078\n",
       "s.e.  0.0992     0.4090\n",
       "\n",
       "sigma^2 estimated as 0.7986:  log likelihood = -63.05,  aic = 132.09"
      ]
     },
     "metadata": {},
     "output_type": "display_data"
    }
   ],
   "source": [
    "model_ar1"
   ]
  },
  {
   "cell_type": "code",
   "execution_count": 3,
   "metadata": {},
   "outputs": [
    {
     "name": "stdout",
     "output_type": "stream",
     "text": [
      "  |======================================================================| 100%"
     ]
    }
   ],
   "source": [
    "B = 10000\n",
    "estimates = rep(NA, B)\n",
    "\n",
    "phi_hat = model_ar1$coef[[1]]\n",
    "n = length(Y)\n",
    "\n",
    "set.seed(1)\n",
    "pb = txtProgressBar(1, B, style=3)\n",
    "for (i in 1:B) {\n",
    "    estimates[i] = arima(arima.sim(model=list(ar=phi_hat), n=n), order=c(1,0,0), method='ML')$coef[[1]]\n",
    "    setTxtProgressBar(pb, i)\n",
    "}"
   ]
  },
  {
   "cell_type": "code",
   "execution_count": 4,
   "metadata": {},
   "outputs": [
    {
     "data": {
      "image/png": "[encoded data removed]",
      "text/plain": [
       "Plot with title \"Histogram of estimates\""
      ]
     },
     "metadata": {
      "image/png": {
       "height": 240,
       "width": 720
      }
     },
     "output_type": "display_data"
    }
   ],
   "source": [
    "options(repr.plot.width=12, repr.plot.height=4)\n",
    "\n",
    "hist(estimates, breaks=100)"
   ]
  },
  {
   "cell_type": "code",
   "execution_count": 5,
   "metadata": {},
   "outputs": [
    {
     "name": "stdout",
     "output_type": "stream",
     "text": [
      "[1] Bootstrap estimate mean:  0.633                    \n",
      "[1] Bootstrap estimate SE:    0.116                    \n",
      "[1] 5% percentile:            0.424                    \n",
      "[1] 95% percentile:           0.8                      \n"
     ]
    }
   ],
   "source": [
    "print(c('Bootstrap estimate mean: ', round(mean(estimates), 3)), quote=F)\n",
    "print(c('Bootstrap estimate SE:   ', round(sqrt(var(estimates)), 3)), quote=F)\n",
    "print(c('5% percentile:           ', round(quantile(estimates, 0.05)[[1]], 3)), quote=F)\n",
    "print(c('95% percentile:          ', round(quantile(estimates, 0.95)[[1]], 3)), quote=F)"
   ]
  },
  {
   "cell_type": "markdown",
   "metadata": {},
   "source": [
    "The bootstrap estimate has a standard error of 0.116, somewhat above the original model standard error of 0.0992."
   ]
  },
  {
   "cell_type": "markdown",
   "metadata": {},
   "source": [
    "**Exercise 7.32**.  The industrial color property time series was fitted quite well by an AR(1) model.  However, the series is rather short, with $n = 35$. Compare the theoretical asymptotic distribution of the estimator of φ with the distribution of the bootstrap estimator of $\\phi$. The data are in the file named `color`."
   ]
  },
  {
   "cell_type": "markdown",
   "metadata": {},
   "source": [
    "**Solution**."
   ]
  },
  {
   "cell_type": "code",
   "execution_count": 6,
   "metadata": {},
   "outputs": [],
   "source": [
    "Y <- read.csv('../data/color.dat')[['color']]"
   ]
  },
  {
   "cell_type": "code",
   "execution_count": 7,
   "metadata": {},
   "outputs": [
    {
     "data": {
      "text/plain": [
       "\n",
       "Call:\n",
       "arima(x = Y, order = c(1, 0, 0))\n",
       "\n",
       "Coefficients:\n",
       "         ar1  intercept\n",
       "      0.5705    74.3293\n",
       "s.e.  0.1435     1.9151\n",
       "\n",
       "sigma^2 estimated as 24.83:  log likelihood = -106.07,  aic = 218.15"
      ]
     },
     "metadata": {},
     "output_type": "display_data"
    }
   ],
   "source": [
    "model_ar1 = arima(Y, order=c(1,0,0))\n",
    "model_ar1"
   ]
  },
  {
   "cell_type": "code",
   "execution_count": 8,
   "metadata": {},
   "outputs": [
    {
     "name": "stdout",
     "output_type": "stream",
     "text": [
      "  |======================================================================| 100%"
     ]
    }
   ],
   "source": [
    "B = 10000\n",
    "estimates = rep(NA, B)\n",
    "\n",
    "phi_hat = model_ar1$coef[[1]]\n",
    "n = length(Y)\n",
    "\n",
    "set.seed(1)\n",
    "pb = txtProgressBar(1, B, style=3)\n",
    "for (i in 1:B) {\n",
    "    estimates[i] = arima(arima.sim(model=list(ar=phi_hat), n=n), order=c(1,0,0), method='ML')$coef[[1]]\n",
    "    setTxtProgressBar(pb, i)\n",
    "}"
   ]
  },
  {
   "cell_type": "code",
   "execution_count": 9,
   "metadata": {},
   "outputs": [
    {
     "data": {
      "image/png": "[encoded data removed]",
      "text/plain": [
       "Plot with title \"Histogram of estimates\""
      ]
     },
     "metadata": {
      "image/png": {
       "height": 240,
       "width": 720
      }
     },
     "output_type": "display_data"
    }
   ],
   "source": [
    "options(repr.plot.width=12, repr.plot.height=4)\n",
    "\n",
    "hist(estimates, breaks=100)"
   ]
  },
  {
   "cell_type": "code",
   "execution_count": 10,
   "metadata": {},
   "outputs": [
    {
     "name": "stdout",
     "output_type": "stream",
     "text": [
      "[1] Bootstrap estimate mean:  0.492                    \n",
      "[1] Bootstrap estimate SE:    0.15                     \n",
      "[1] 5% percentile:            0.226                    \n",
      "[1] 95% percentile:           0.714                    \n"
     ]
    }
   ],
   "source": [
    "print(c('Bootstrap estimate mean: ', round(mean(estimates), 3)), quote=F)\n",
    "print(c('Bootstrap estimate SE:   ', round(sqrt(var(estimates)), 3)), quote=F)\n",
    "print(c('5% percentile:           ', round(quantile(estimates, 0.05)[[1]], 3)), quote=F)\n",
    "print(c('95% percentile:          ', round(quantile(estimates, 0.95)[[1]], 3)), quote=F)"
   ]
  },
  {
   "cell_type": "markdown",
   "metadata": {},
   "source": [
    "The bootstrap estimate has a standard error of 0.15, slightly above the original fit standard error of 0.1435."
   ]
  }
 ],
 "metadata": {
  "kernelspec": {
   "display_name": "R",
   "language": "R",
   "name": "ir"
  },
  "language_info": {
   "codemirror_mode": "r",
   "file_extension": ".r",
   "mimetype": "text/x-r-source",
   "name": "R",
   "pygments_lexer": "r",
   "version": "4.0.0"
  }
 },
 "nbformat": 4,
 "nbformat_minor": 2
}
