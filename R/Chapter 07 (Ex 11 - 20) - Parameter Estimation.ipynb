{
 "cells": [
  {
   "cell_type": "markdown",
   "metadata": {},
   "source": [
    "**Exercise 7.11**. Simulate an MA(1) series with $\\theta = −0.6$ and $n = 48$.\n",
    "\n",
    "**(a)** Find the maximum likelihood estimate of $\\theta$.\n",
    "\n",
    "**(b)** If your software permits, repeat part (a) many times with a new simulated series using the same parameters and same sample size.\n",
    "\n",
    "**(c)** Form the sampling distribution of the maximum likelihood estimates of $\\theta$.\n",
    "\n",
    "**(d)** Are the estimates (approximately) unbiased?\n",
    "\n",
    "**(e)** Calculate the variance of your sampling distribution and compare it with the large-sample result in Equation (7.4.11) on page 161."
   ]
  },
  {
   "cell_type": "markdown",
   "metadata": {},
   "source": [
    "**Solution**."
   ]
  },
  {
   "cell_type": "code",
   "execution_count": 1,
   "metadata": {},
   "outputs": [],
   "source": [
    "B = 10000\n",
    "estimates = rep(NA, B)\n",
    "\n",
    "set.seed(0)\n",
    "for (i in 1:B) {\n",
    "    estimates[i] = -arima(arima.sim(model=list(ma=0.6), n=48), order=c(0,0,1), method='ML')$coef[[1]]\n",
    "}"
   ]
  },
  {
   "cell_type": "code",
   "execution_count": 2,
   "metadata": {},
   "outputs": [
    {
     "data": {
      "image/png": "[encoded data removed]",
      "text/plain": [
       "Plot with title \"Histogram of estimates\""
      ]
     },
     "metadata": {
      "image/png": {
       "height": 240,
       "width": 720
      }
     },
     "output_type": "display_data"
    }
   ],
   "source": [
    "options(repr.plot.width=12, repr.plot.height=4)\n",
    "\n",
    "hist(estimates, breaks=100)"
   ]
  },
  {
   "cell_type": "code",
   "execution_count": 3,
   "metadata": {},
   "outputs": [
    {
     "name": "stdout",
     "output_type": "stream",
     "text": [
      "[1] Bootstrap estimate mean:  -0.605                   \n",
      "[1] Bootstrap estimate SE:    0.145                    \n",
      "[1] 5% percentile:            -0.851                   \n",
      "[1] 95% percentile:           -0.375                   \n"
     ]
    }
   ],
   "source": [
    "print(c('Bootstrap estimate mean: ', round(mean(estimates), 3)), quote=F)\n",
    "print(c('Bootstrap estimate SE:   ', round(sqrt(var(estimates)), 3)), quote=F)\n",
    "print(c('5% percentile:           ', round(quantile(estimates, 0.05)[[1]], 3)), quote=F)\n",
    "print(c('95% percentile:          ', round(quantile(estimates, 0.95)[[1]], 3)), quote=F)"
   ]
  },
  {
   "cell_type": "markdown",
   "metadata": {},
   "source": [
    "The large sample result from Equation (7.4.11) is \n",
    "\n",
    "$$ \\text{Var}[\\hat{\\theta}] \\approx \\frac{1 - \\theta^2}{n} $$\n",
    "\n",
    "which is a variance of 0.0133, or a standard error of 0.115.  The bootstrap process produces a sampling distribution that seems to have a bit higher standard error, but have mean results that are still within the original standard error -- results seem unbiased."
   ]
  },
  {
   "cell_type": "markdown",
   "metadata": {},
   "source": [
    "**Exercise 7.12**.  Repeat Exercise 7.11 using a sample size of n = 120."
   ]
  },
  {
   "cell_type": "markdown",
   "metadata": {},
   "source": [
    "**Solution**."
   ]
  },
  {
   "cell_type": "code",
   "execution_count": 4,
   "metadata": {},
   "outputs": [],
   "source": [
    "B = 10000\n",
    "estimates = rep(NA, B)\n",
    "\n",
    "set.seed(0)\n",
    "for (i in 1:B) {\n",
    "    estimates[i] = -arima(arima.sim(model=list(ma=0.6), n=120), order=c(0,0,1), method='ML')$coef[[1]]\n",
    "}"
   ]
  },
  {
   "cell_type": "code",
   "execution_count": 5,
   "metadata": {},
   "outputs": [
    {
     "data": {
      "image/png": "[encoded data removed]",
      "text/plain": [
       "Plot with title \"Histogram of estimates\""
      ]
     },
     "metadata": {
      "image/png": {
       "height": 240,
       "width": 720
      }
     },
     "output_type": "display_data"
    }
   ],
   "source": [
    "options(repr.plot.width=12, repr.plot.height=4)\n",
    "\n",
    "hist(estimates, breaks=100)"
   ]
  },
  {
   "cell_type": "code",
   "execution_count": 6,
   "metadata": {},
   "outputs": [
    {
     "name": "stdout",
     "output_type": "stream",
     "text": [
      "[1] Bootstrap estimate mean:  -0.603                   \n",
      "[1] Bootstrap estimate SE:    0.079                    \n",
      "[1] 5% percentile:            -0.733                   \n",
      "[1] 95% percentile:           -0.472                   \n"
     ]
    }
   ],
   "source": [
    "print(c('Bootstrap estimate mean: ', round(mean(estimates), 3)), quote=F)\n",
    "print(c('Bootstrap estimate SE:   ', round(sqrt(var(estimates)), 3)), quote=F)\n",
    "print(c('5% percentile:           ', round(quantile(estimates, 0.05)[[1]], 3)), quote=F)\n",
    "print(c('95% percentile:          ', round(quantile(estimates, 0.95)[[1]], 3)), quote=F)"
   ]
  },
  {
   "cell_type": "markdown",
   "metadata": {},
   "source": [
    "The large sample result from Equation (7.4.11) is \n",
    "\n",
    "$$ \\text{Var}[\\hat{\\theta}] \\approx \\frac{1 - \\theta^2}{n} $$\n",
    "\n",
    "which is a variance of 0.00533, or a standard error of 0.073.  The bootstrap process produces a sampling distribution that seems to have a variance in line with this value, and an unbiased result."
   ]
  },
  {
   "cell_type": "markdown",
   "metadata": {},
   "source": [
    "**Exercise 7.13**. Simulate an AR(1) series with $\\phi = 0.8$ and $n = 48$.\n",
    "\n",
    "**(a)** Find the method-of-moments estimate of φ.\n",
    "\n",
    "**(b)** Find the conditional least squares estimate of φ and compare it with part (a).\n",
    "\n",
    "**(c)** Find the maximum likelihood estimate of φ and compare it with parts (a) and (b).\n",
    "\n",
    "**(d)** Repeat parts (a), (b), and (c) with a new simulated series using the same parameters and same sample size. Compare your results with your results from the first simulation."
   ]
  },
  {
   "cell_type": "markdown",
   "metadata": {},
   "source": [
    "**Solution**."
   ]
  },
  {
   "cell_type": "code",
   "execution_count": 7,
   "metadata": {},
   "outputs": [],
   "source": [
    "estimate.ar1.mom <- function(x) {\n",
    "    acf(x, lag.max=1, plot=F)$acf[2]\n",
    "}"
   ]
  },
  {
   "cell_type": "code",
   "execution_count": 8,
   "metadata": {},
   "outputs": [],
   "source": [
    "set.seed(0)\n",
    "Y = arima.sim(model=list(ar=0.8), n=48)"
   ]
  },
  {
   "cell_type": "markdown",
   "metadata": {},
   "source": [
    "**(a)**"
   ]
  },
  {
   "cell_type": "code",
   "execution_count": 9,
   "metadata": {},
   "outputs": [
    {
     "name": "stdout",
     "output_type": "stream",
     "text": [
      "[1] Method of moments estimate:          0.76759                             \n"
     ]
    }
   ],
   "source": [
    "print(c('Method of moments estimate:         ', round(estimate.ar1.mom(Y), 5)), quote=F)"
   ]
  },
  {
   "cell_type": "markdown",
   "metadata": {},
   "source": [
    "**(b)**"
   ]
  },
  {
   "cell_type": "code",
   "execution_count": 10,
   "metadata": {},
   "outputs": [
    {
     "name": "stdout",
     "output_type": "stream",
     "text": [
      "[1] Conditional least squares estimate:  0.78563                             \n"
     ]
    }
   ],
   "source": [
    "print(c('Conditional least squares estimate: ', round(arima(Y, order=c(1,0,0), method='CSS')$coef[[1]], 5)), quote=F)"
   ]
  },
  {
   "cell_type": "markdown",
   "metadata": {},
   "source": [
    "This is a better estimate than the one obtained in part (a)."
   ]
  },
  {
   "cell_type": "markdown",
   "metadata": {},
   "source": [
    "**(c)**"
   ]
  },
  {
   "cell_type": "code",
   "execution_count": 11,
   "metadata": {},
   "outputs": [
    {
     "name": "stdout",
     "output_type": "stream",
     "text": [
      "[1] Maximum likelihood estimate:         0.77103                             \n"
     ]
    }
   ],
   "source": [
    "print(c('Maximum likelihood estimate:        ', round(arima(Y, order=c(1,0,0), method='ML')$coef[[1]], 5)), quote=F)"
   ]
  },
  {
   "cell_type": "markdown",
   "metadata": {},
   "source": [
    "This is a better estimate than the one obtained in part (a), but worse than the CSS estimate."
   ]
  },
  {
   "cell_type": "markdown",
   "metadata": {},
   "source": [
    "**(d)**"
   ]
  },
  {
   "cell_type": "code",
   "execution_count": 12,
   "metadata": {},
   "outputs": [
    {
     "name": "stdout",
     "output_type": "stream",
     "text": [
      "[1] Method of moments estimate:          0.57289                             \n",
      "[1] Conditional least squares estimate:  0.58319                             \n",
      "[1] Maximum likelihood estimate:         0.624                               \n"
     ]
    }
   ],
   "source": [
    "set.seed(1)\n",
    "Y = arima.sim(model=list(ar=0.8), n=48)\n",
    "print(c('Method of moments estimate:         ', round(estimate.ar1.mom(Y), 5)), quote=F)\n",
    "print(c('Conditional least squares estimate: ', round(arima(Y, order=c(1,0,0), method='CSS')$coef[[1]], 5)), quote=F)\n",
    "print(c('Maximum likelihood estimate:        ', round(arima(Y, order=c(1,0,0), method='ML')$coef[[1]], 5)), quote=F)"
   ]
  },
  {
   "cell_type": "markdown",
   "metadata": {},
   "source": [
    "For this random seed, all estimates seem poor -- though the MLE is better than the others."
   ]
  },
  {
   "cell_type": "markdown",
   "metadata": {},
   "source": [
    "**Exercise 7.14**.  Simulate an AR(1) series with $\\phi = −0.5$ and $n = 60$.\n",
    "\n",
    "**(a)** Find the method-of-moments estimate of $\\phi$.\n",
    "\n",
    "**(b)** Find the conditional least squares estimate of $\\phi$ and compare it with part (a).\n",
    "\n",
    "**(c)** Find the maximum likelihood estimate of $\\phi$ and compare it with parts (a) and (b).\n",
    "\n",
    "**(d)** Repeat parts (a), (b), and (c) with a new simulated series using the same parameters and same sample size. Compare your results with your results from the first simulation."
   ]
  },
  {
   "cell_type": "markdown",
   "metadata": {},
   "source": [
    "**Solution**."
   ]
  },
  {
   "cell_type": "code",
   "execution_count": 13,
   "metadata": {},
   "outputs": [],
   "source": [
    "set.seed(0)\n",
    "Y = arima.sim(model=list(ar=-0.5), n=60)"
   ]
  },
  {
   "cell_type": "markdown",
   "metadata": {},
   "source": [
    "**(a)**"
   ]
  },
  {
   "cell_type": "code",
   "execution_count": 14,
   "metadata": {},
   "outputs": [
    {
     "name": "stdout",
     "output_type": "stream",
     "text": [
      "[1] Method of moments estimate:          -0.46171                            \n"
     ]
    }
   ],
   "source": [
    "print(c('Method of moments estimate:         ', round(estimate.ar1.mom(Y), 5)), quote=F)"
   ]
  },
  {
   "cell_type": "markdown",
   "metadata": {},
   "source": [
    "**(b)**"
   ]
  },
  {
   "cell_type": "code",
   "execution_count": 15,
   "metadata": {},
   "outputs": [
    {
     "name": "stdout",
     "output_type": "stream",
     "text": [
      "[1] Conditional least squares estimate:  -0.46261                            \n"
     ]
    }
   ],
   "source": [
    "print(c('Conditional least squares estimate: ', round(arima(Y, order=c(1,0,0), method='CSS')$coef[[1]], 5)), quote=F)"
   ]
  },
  {
   "cell_type": "markdown",
   "metadata": {},
   "source": [
    "This result is almost the same as in (a)."
   ]
  },
  {
   "cell_type": "markdown",
   "metadata": {},
   "source": [
    "**(c)**"
   ]
  },
  {
   "cell_type": "code",
   "execution_count": 16,
   "metadata": {},
   "outputs": [
    {
     "name": "stdout",
     "output_type": "stream",
     "text": [
      "[1] Maximum likelihood estimate:         -0.456                              \n"
     ]
    }
   ],
   "source": [
    "print(c('Maximum likelihood estimate:        ', round(arima(Y, order=c(1,0,0), method='ML')$coef[[1]], 5)), quote=F)"
   ]
  },
  {
   "cell_type": "markdown",
   "metadata": {},
   "source": [
    "This result seems to be almost the same, but worse, than the other estimates obtained so far."
   ]
  },
  {
   "cell_type": "markdown",
   "metadata": {},
   "source": [
    "**(d)**"
   ]
  },
  {
   "cell_type": "code",
   "execution_count": 17,
   "metadata": {},
   "outputs": [
    {
     "name": "stdout",
     "output_type": "stream",
     "text": [
      "[1] Method of moments estimate:          -0.48559                            \n",
      "[1] Conditional least squares estimate:  -0.53617                            \n",
      "[1] Maximum likelihood estimate:         -0.54812                            \n"
     ]
    }
   ],
   "source": [
    "set.seed(1)\n",
    "Y = arima.sim(model=list(ar=-0.5), n=60)\n",
    "print(c('Method of moments estimate:         ', round(estimate.ar1.mom(Y), 5)), quote=F)\n",
    "print(c('Conditional least squares estimate: ', round(arima(Y, order=c(1,0,0), method='CSS')$coef[[1]], 5)), quote=F)\n",
    "print(c('Maximum likelihood estimate:        ', round(arima(Y, order=c(1,0,0), method='ML')$coef[[1]], 5)), quote=F)"
   ]
  },
  {
   "cell_type": "markdown",
   "metadata": {},
   "source": [
    "Once again the method of moments estimate appears to be better, in comparison with the others."
   ]
  },
  {
   "cell_type": "markdown",
   "metadata": {},
   "source": [
    "**Exercise 7.15**.  Simulate an AR(1) series with $\\phi = 0.7$ and $n = 100$.\n",
    "\n",
    "**(a)** Find the maximum likelihood estimate of $\\phi$.\n",
    "\n",
    "**(b)** If your software permits, repeat part (a) many times with a new simulated series using the same parameters and same sample size.\n",
    "\n",
    "**(c)** Form the sampling distribution of the maximum likelihood estimates of $\\phi$.\n",
    "\n",
    "**(d)** Are the estimates (approximately) unbiased?\n",
    "\n",
    "**(e)** Calculate the variance of your sampling distribution and compare it with the large-sample result in Equation (7.4.9) on page 161."
   ]
  },
  {
   "cell_type": "markdown",
   "metadata": {},
   "source": [
    "**Solution**."
   ]
  },
  {
   "cell_type": "code",
   "execution_count": 18,
   "metadata": {},
   "outputs": [],
   "source": [
    "B = 10000\n",
    "estimates = rep(NA, B)\n",
    "\n",
    "set.seed(0)\n",
    "for (i in 1:B) {\n",
    "    estimates[i] = arima(arima.sim(model=list(ar=0.7), n=100), order=c(1,0,0), method='ML')$coef[[1]]\n",
    "}"
   ]
  },
  {
   "cell_type": "code",
   "execution_count": 19,
   "metadata": {},
   "outputs": [
    {
     "data": {
      "image/png": "[encoded data removed]",
      "text/plain": [
       "Plot with title \"Histogram of estimates\""
      ]
     },
     "metadata": {
      "image/png": {
       "height": 240,
       "width": 720
      }
     },
     "output_type": "display_data"
    }
   ],
   "source": [
    "options(repr.plot.width=12, repr.plot.height=4)\n",
    "\n",
    "hist(estimates, breaks=100)"
   ]
  },
  {
   "cell_type": "code",
   "execution_count": 20,
   "metadata": {},
   "outputs": [
    {
     "name": "stdout",
     "output_type": "stream",
     "text": [
      "[1] Bootstrap estimate mean:  0.669                    \n",
      "[1] Bootstrap estimate SE:    0.076                    \n",
      "[1] 5% percentile:            0.53                     \n",
      "[1] 95% percentile:           0.78                     \n"
     ]
    }
   ],
   "source": [
    "print(c('Bootstrap estimate mean: ', round(mean(estimates), 3)), quote=F)\n",
    "print(c('Bootstrap estimate SE:   ', round(sqrt(var(estimates)), 3)), quote=F)\n",
    "print(c('5% percentile:           ', round(quantile(estimates, 0.05)[[1]], 3)), quote=F)\n",
    "print(c('95% percentile:          ', round(quantile(estimates, 0.95)[[1]], 3)), quote=F)"
   ]
  },
  {
   "cell_type": "markdown",
   "metadata": {},
   "source": [
    "The large sample result from Equation (7.4.9) is \n",
    "\n",
    "$$ \\text{Var}[\\hat{\\theta}] \\approx \\frac{1 - \\phi^2}{n} $$\n",
    "\n",
    "which is a variance of 0.0051, or a standard error of 0.0714.  The bootstrap process produces a sampling distribution that seems to have a variance in line with this value, and an unbiased result."
   ]
  }
 ],
 "metadata": {
  "kernelspec": {
   "display_name": "R",
   "language": "R",
   "name": "ir"
  },
  "language_info": {
   "codemirror_mode": "r",
   "file_extension": ".r",
   "mimetype": "text/x-r-source",
   "name": "R",
   "pygments_lexer": "r",
   "version": "4.0.0"
  }
 },
 "nbformat": 4,
 "nbformat_minor": 2
}
