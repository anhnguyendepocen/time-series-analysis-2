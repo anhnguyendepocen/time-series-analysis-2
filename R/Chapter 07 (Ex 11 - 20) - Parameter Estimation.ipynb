{
 "cells": [
  {
   "cell_type": "markdown",
   "metadata": {},
   "source": [
    "**Exercise 7.11**. Simulate an MA(1) series with $\\theta = −0.6$ and $n = 48$.\n",
    "\n",
    "**(a)** Find the maximum likelihood estimate of $\\theta$.\n",
    "\n",
    "**(b)** If your software permits, repeat part (a) many times with a new simulated series using the same parameters and same sample size.\n",
    "\n",
    "**(c)** Form the sampling distribution of the maximum likelihood estimates of $\\theta$.\n",
    "\n",
    "**(d)** Are the estimates (approximately) unbiased?\n",
    "\n",
    "**(e)** Calculate the variance of your sampling distribution and compare it with the large-sample result in Equation (7.4.11) on page 161."
   ]
  },
  {
   "cell_type": "markdown",
   "metadata": {},
   "source": [
    "**Solution**."
   ]
  },
  {
   "cell_type": "code",
   "execution_count": 1,
   "metadata": {},
   "outputs": [
    {
     "name": "stderr",
     "output_type": "stream",
     "text": [
      "Loading required package: ggplot2\n",
      "\n",
      "Loading required package: latex2exp\n",
      "\n"
     ]
    }
   ],
   "source": [
    "require(ggplot2)\n",
    "require(latex2exp)"
   ]
  },
  {
   "cell_type": "code",
   "execution_count": 2,
   "metadata": {},
   "outputs": [
    {
     "name": "stdout",
     "output_type": "stream",
     "text": [
      "  |======================================================================| 100%"
     ]
    }
   ],
   "source": [
    "B = 10000\n",
    "estimates = rep(NA, B)\n",
    "\n",
    "set.seed(0)\n",
    "pb = txtProgressBar(1, B, style=3)\n",
    "for (i in 1:B) {\n",
    "    estimates[i] = -arima(arima.sim(model=list(ma=0.6), n=48), order=c(0,0,1), method='ML')$coef[[1]]\n",
    "    setTxtProgressBar(pb, i)\n",
    "}"
   ]
  },
  {
   "cell_type": "code",
   "execution_count": 3,
   "metadata": {},
   "outputs": [
    {
     "data": {
      "image/png": "[encoded data removed]",
      "text/plain": [
       "Plot with title \"Histogram of estimates\""
      ]
     },
     "metadata": {
      "image/png": {
       "height": 240,
       "width": 720
      }
     },
     "output_type": "display_data"
    }
   ],
   "source": [
    "options(repr.plot.width=12, repr.plot.height=4)\n",
    "\n",
    "hist(estimates, breaks=100)"
   ]
  },
  {
   "cell_type": "code",
   "execution_count": 4,
   "metadata": {},
   "outputs": [
    {
     "name": "stdout",
     "output_type": "stream",
     "text": [
      "[1] Bootstrap estimate mean:  -0.605                   \n",
      "[1] Bootstrap estimate SE:    0.145                    \n",
      "[1] 5% percentile:            -0.851                   \n",
      "[1] 95% percentile:           -0.375                   \n"
     ]
    }
   ],
   "source": [
    "print(c('Bootstrap estimate mean: ', round(mean(estimates), 3)), quote=F)\n",
    "print(c('Bootstrap estimate SE:   ', round(sqrt(var(estimates)), 3)), quote=F)\n",
    "print(c('5% percentile:           ', round(quantile(estimates, 0.05)[[1]], 3)), quote=F)\n",
    "print(c('95% percentile:          ', round(quantile(estimates, 0.95)[[1]], 3)), quote=F)"
   ]
  },
  {
   "cell_type": "markdown",
   "metadata": {},
   "source": [
    "The large sample result from Equation (7.4.11) is \n",
    "\n",
    "$$ \\text{Var}[\\hat{\\theta}] \\approx \\frac{1 - \\theta^2}{n} $$\n",
    "\n",
    "which is a variance of 0.0133, or a standard error of 0.115.  The bootstrap process produces a sampling distribution that seems to have a bit higher standard error, but have mean results that are still within the original standard error -- results seem unbiased."
   ]
  },
  {
   "cell_type": "markdown",
   "metadata": {},
   "source": [
    "**Exercise 7.12**.  Repeat Exercise 7.11 using a sample size of n = 120."
   ]
  },
  {
   "cell_type": "markdown",
   "metadata": {},
   "source": [
    "**Solution**."
   ]
  },
  {
   "cell_type": "code",
   "execution_count": 5,
   "metadata": {},
   "outputs": [
    {
     "name": "stdout",
     "output_type": "stream",
     "text": [
      "  |======================================================================| 100%"
     ]
    }
   ],
   "source": [
    "B = 10000\n",
    "estimates = rep(NA, B)\n",
    "\n",
    "set.seed(0)\n",
    "pb = txtProgressBar(1, B, style=3)\n",
    "for (i in 1:B) {\n",
    "    estimates[i] = -arima(arima.sim(model=list(ma=0.6), n=120), order=c(0,0,1), method='ML')$coef[[1]]\n",
    "    setTxtProgressBar(pb, i)\n",
    "}"
   ]
  },
  {
   "cell_type": "code",
   "execution_count": 6,
   "metadata": {},
   "outputs": [
    {
     "data": {
      "image/png": "[encoded data removed]",
      "text/plain": [
       "Plot with title \"Histogram of estimates\""
      ]
     },
     "metadata": {
      "image/png": {
       "height": 240,
       "width": 720
      }
     },
     "output_type": "display_data"
    }
   ],
   "source": [
    "options(repr.plot.width=12, repr.plot.height=4)\n",
    "\n",
    "hist(estimates, breaks=100)"
   ]
  },
  {
   "cell_type": "code",
   "execution_count": 7,
   "metadata": {},
   "outputs": [
    {
     "name": "stdout",
     "output_type": "stream",
     "text": [
      "[1] Bootstrap estimate mean:  -0.603                   \n",
      "[1] Bootstrap estimate SE:    0.079                    \n",
      "[1] 5% percentile:            -0.733                   \n",
      "[1] 95% percentile:           -0.472                   \n"
     ]
    }
   ],
   "source": [
    "print(c('Bootstrap estimate mean: ', round(mean(estimates), 3)), quote=F)\n",
    "print(c('Bootstrap estimate SE:   ', round(sqrt(var(estimates)), 3)), quote=F)\n",
    "print(c('5% percentile:           ', round(quantile(estimates, 0.05)[[1]], 3)), quote=F)\n",
    "print(c('95% percentile:          ', round(quantile(estimates, 0.95)[[1]], 3)), quote=F)"
   ]
  },
  {
   "cell_type": "markdown",
   "metadata": {},
   "source": [
    "The large sample result from Equation (7.4.11) is \n",
    "\n",
    "$$ \\text{Var}[\\hat{\\theta}] \\approx \\frac{1 - \\theta^2}{n} $$\n",
    "\n",
    "which is a variance of 0.00533, or a standard error of 0.073.  The bootstrap process produces a sampling distribution that seems to have a variance in line with this value, and an unbiased result."
   ]
  },
  {
   "cell_type": "markdown",
   "metadata": {},
   "source": [
    "**Exercise 7.13**. Simulate an AR(1) series with $\\phi = 0.8$ and $n = 48$.\n",
    "\n",
    "**(a)** Find the method-of-moments estimate of φ.\n",
    "\n",
    "**(b)** Find the conditional least squares estimate of φ and compare it with part (a).\n",
    "\n",
    "**(c)** Find the maximum likelihood estimate of φ and compare it with parts (a) and (b).\n",
    "\n",
    "**(d)** Repeat parts (a), (b), and (c) with a new simulated series using the same parameters and same sample size. Compare your results with your results from the first simulation."
   ]
  },
  {
   "cell_type": "markdown",
   "metadata": {},
   "source": [
    "**Solution**."
   ]
  },
  {
   "cell_type": "code",
   "execution_count": 8,
   "metadata": {},
   "outputs": [],
   "source": [
    "estimate.ar1.mom <- function(x) {\n",
    "    acf(x, lag.max=1, plot=F)$acf[2]\n",
    "}"
   ]
  },
  {
   "cell_type": "code",
   "execution_count": 9,
   "metadata": {},
   "outputs": [],
   "source": [
    "set.seed(0)\n",
    "Y = arima.sim(model=list(ar=0.8), n=48)"
   ]
  },
  {
   "cell_type": "markdown",
   "metadata": {},
   "source": [
    "**(a)**"
   ]
  },
  {
   "cell_type": "code",
   "execution_count": 10,
   "metadata": {},
   "outputs": [
    {
     "name": "stdout",
     "output_type": "stream",
     "text": [
      "[1] Method of moments estimate:          0.76759                             \n"
     ]
    }
   ],
   "source": [
    "print(c('Method of moments estimate:         ', round(estimate.ar1.mom(Y), 5)), quote=F)"
   ]
  },
  {
   "cell_type": "markdown",
   "metadata": {},
   "source": [
    "**(b)**"
   ]
  },
  {
   "cell_type": "code",
   "execution_count": 11,
   "metadata": {},
   "outputs": [
    {
     "name": "stdout",
     "output_type": "stream",
     "text": [
      "[1] Conditional least squares estimate:  0.78563                             \n"
     ]
    }
   ],
   "source": [
    "print(c('Conditional least squares estimate: ', round(arima(Y, order=c(1,0,0), method='CSS')$coef[[1]], 5)), quote=F)"
   ]
  },
  {
   "cell_type": "markdown",
   "metadata": {},
   "source": [
    "This is a better estimate than the one obtained in part (a)."
   ]
  },
  {
   "cell_type": "markdown",
   "metadata": {},
   "source": [
    "**(c)**"
   ]
  },
  {
   "cell_type": "code",
   "execution_count": 12,
   "metadata": {},
   "outputs": [
    {
     "name": "stdout",
     "output_type": "stream",
     "text": [
      "[1] Maximum likelihood estimate:         0.77103                             \n"
     ]
    }
   ],
   "source": [
    "print(c('Maximum likelihood estimate:        ', round(arima(Y, order=c(1,0,0), method='ML')$coef[[1]], 5)), quote=F)"
   ]
  },
  {
   "cell_type": "markdown",
   "metadata": {},
   "source": [
    "This is a better estimate than the one obtained in part (a), but worse than the CSS estimate."
   ]
  },
  {
   "cell_type": "markdown",
   "metadata": {},
   "source": [
    "**(d)**"
   ]
  },
  {
   "cell_type": "code",
   "execution_count": 13,
   "metadata": {},
   "outputs": [
    {
     "name": "stdout",
     "output_type": "stream",
     "text": [
      "[1] Method of moments estimate:          0.57289                             \n",
      "[1] Conditional least squares estimate:  0.58319                             \n",
      "[1] Maximum likelihood estimate:         0.624                               \n"
     ]
    }
   ],
   "source": [
    "set.seed(1)\n",
    "Y = arima.sim(model=list(ar=0.8), n=48)\n",
    "print(c('Method of moments estimate:         ', round(estimate.ar1.mom(Y), 5)), quote=F)\n",
    "print(c('Conditional least squares estimate: ', round(arima(Y, order=c(1,0,0), method='CSS')$coef[[1]], 5)), quote=F)\n",
    "print(c('Maximum likelihood estimate:        ', round(arima(Y, order=c(1,0,0), method='ML')$coef[[1]], 5)), quote=F)"
   ]
  },
  {
   "cell_type": "markdown",
   "metadata": {},
   "source": [
    "For this random seed, all estimates seem poor -- though the MLE is better than the others."
   ]
  },
  {
   "cell_type": "markdown",
   "metadata": {},
   "source": [
    "**Exercise 7.14**.  Simulate an AR(1) series with $\\phi = −0.5$ and $n = 60$.\n",
    "\n",
    "**(a)** Find the method-of-moments estimate of $\\phi$.\n",
    "\n",
    "**(b)** Find the conditional least squares estimate of $\\phi$ and compare it with part (a).\n",
    "\n",
    "**(c)** Find the maximum likelihood estimate of $\\phi$ and compare it with parts (a) and (b).\n",
    "\n",
    "**(d)** Repeat parts (a), (b), and (c) with a new simulated series using the same parameters and same sample size. Compare your results with your results from the first simulation."
   ]
  },
  {
   "cell_type": "markdown",
   "metadata": {},
   "source": [
    "**Solution**."
   ]
  },
  {
   "cell_type": "code",
   "execution_count": 14,
   "metadata": {},
   "outputs": [],
   "source": [
    "set.seed(0)\n",
    "Y = arima.sim(model=list(ar=-0.5), n=60)"
   ]
  },
  {
   "cell_type": "markdown",
   "metadata": {},
   "source": [
    "**(a)**"
   ]
  },
  {
   "cell_type": "code",
   "execution_count": 15,
   "metadata": {},
   "outputs": [
    {
     "name": "stdout",
     "output_type": "stream",
     "text": [
      "[1] Method of moments estimate:          -0.46171                            \n"
     ]
    }
   ],
   "source": [
    "print(c('Method of moments estimate:         ', round(estimate.ar1.mom(Y), 5)), quote=F)"
   ]
  },
  {
   "cell_type": "markdown",
   "metadata": {},
   "source": [
    "**(b)**"
   ]
  },
  {
   "cell_type": "code",
   "execution_count": 16,
   "metadata": {},
   "outputs": [
    {
     "name": "stdout",
     "output_type": "stream",
     "text": [
      "[1] Conditional least squares estimate:  -0.46261                            \n"
     ]
    }
   ],
   "source": [
    "print(c('Conditional least squares estimate: ', round(arima(Y, order=c(1,0,0), method='CSS')$coef[[1]], 5)), quote=F)"
   ]
  },
  {
   "cell_type": "markdown",
   "metadata": {},
   "source": [
    "This result is almost the same as in (a)."
   ]
  },
  {
   "cell_type": "markdown",
   "metadata": {},
   "source": [
    "**(c)**"
   ]
  },
  {
   "cell_type": "code",
   "execution_count": 17,
   "metadata": {},
   "outputs": [
    {
     "name": "stdout",
     "output_type": "stream",
     "text": [
      "[1] Maximum likelihood estimate:         -0.456                              \n"
     ]
    }
   ],
   "source": [
    "print(c('Maximum likelihood estimate:        ', round(arima(Y, order=c(1,0,0), method='ML')$coef[[1]], 5)), quote=F)"
   ]
  },
  {
   "cell_type": "markdown",
   "metadata": {},
   "source": [
    "This result seems to be almost the same, but worse, than the other estimates obtained so far."
   ]
  },
  {
   "cell_type": "markdown",
   "metadata": {},
   "source": [
    "**(d)**"
   ]
  },
  {
   "cell_type": "code",
   "execution_count": 18,
   "metadata": {},
   "outputs": [
    {
     "name": "stdout",
     "output_type": "stream",
     "text": [
      "[1] Method of moments estimate:          -0.48559                            \n",
      "[1] Conditional least squares estimate:  -0.53617                            \n",
      "[1] Maximum likelihood estimate:         -0.54812                            \n"
     ]
    }
   ],
   "source": [
    "set.seed(1)\n",
    "Y = arima.sim(model=list(ar=-0.5), n=60)\n",
    "print(c('Method of moments estimate:         ', round(estimate.ar1.mom(Y), 5)), quote=F)\n",
    "print(c('Conditional least squares estimate: ', round(arima(Y, order=c(1,0,0), method='CSS')$coef[[1]], 5)), quote=F)\n",
    "print(c('Maximum likelihood estimate:        ', round(arima(Y, order=c(1,0,0), method='ML')$coef[[1]], 5)), quote=F)"
   ]
  },
  {
   "cell_type": "markdown",
   "metadata": {},
   "source": [
    "Once again the method of moments estimate appears to be better, in comparison with the others."
   ]
  },
  {
   "cell_type": "markdown",
   "metadata": {},
   "source": [
    "**Exercise 7.15**.  Simulate an AR(1) series with $\\phi = 0.7$ and $n = 100$.\n",
    "\n",
    "**(a)** Find the maximum likelihood estimate of $\\phi$.\n",
    "\n",
    "**(b)** If your software permits, repeat part (a) many times with a new simulated series using the same parameters and same sample size.\n",
    "\n",
    "**(c)** Form the sampling distribution of the maximum likelihood estimates of $\\phi$.\n",
    "\n",
    "**(d)** Are the estimates (approximately) unbiased?\n",
    "\n",
    "**(e)** Calculate the variance of your sampling distribution and compare it with the large-sample result in Equation (7.4.9) on page 161."
   ]
  },
  {
   "cell_type": "markdown",
   "metadata": {},
   "source": [
    "**Solution**."
   ]
  },
  {
   "cell_type": "code",
   "execution_count": 19,
   "metadata": {},
   "outputs": [
    {
     "name": "stdout",
     "output_type": "stream",
     "text": [
      "  |======================================================================| 100%"
     ]
    }
   ],
   "source": [
    "B = 10000\n",
    "estimates = rep(NA, B)\n",
    "\n",
    "set.seed(0)\n",
    "pb = txtProgressBar(1, B, style=3)\n",
    "for (i in 1:B) {\n",
    "    estimates[i] = arima(arima.sim(model=list(ar=0.7), n=100), order=c(1,0,0), method='ML')$coef[[1]]\n",
    "    setTxtProgressBar(pb, i)\n",
    "}"
   ]
  },
  {
   "cell_type": "code",
   "execution_count": 20,
   "metadata": {},
   "outputs": [
    {
     "data": {
      "image/png": "[encoded data removed]",
      "text/plain": [
       "Plot with title \"Histogram of estimates\""
      ]
     },
     "metadata": {
      "image/png": {
       "height": 240,
       "width": 720
      }
     },
     "output_type": "display_data"
    }
   ],
   "source": [
    "options(repr.plot.width=12, repr.plot.height=4)\n",
    "\n",
    "hist(estimates, breaks=100)"
   ]
  },
  {
   "cell_type": "code",
   "execution_count": 21,
   "metadata": {},
   "outputs": [
    {
     "name": "stdout",
     "output_type": "stream",
     "text": [
      "[1] Bootstrap estimate mean:  0.669                    \n",
      "[1] Bootstrap estimate SE:    0.076                    \n",
      "[1] 5% percentile:            0.53                     \n",
      "[1] 95% percentile:           0.78                     \n"
     ]
    }
   ],
   "source": [
    "print(c('Bootstrap estimate mean: ', round(mean(estimates), 3)), quote=F)\n",
    "print(c('Bootstrap estimate SE:   ', round(sqrt(var(estimates)), 3)), quote=F)\n",
    "print(c('5% percentile:           ', round(quantile(estimates, 0.05)[[1]], 3)), quote=F)\n",
    "print(c('95% percentile:          ', round(quantile(estimates, 0.95)[[1]], 3)), quote=F)"
   ]
  },
  {
   "cell_type": "markdown",
   "metadata": {},
   "source": [
    "The large sample result from Equation (7.4.9) is \n",
    "\n",
    "$$ \\text{Var}[\\hat{\\theta}] \\approx \\frac{1 - \\phi^2}{n} $$\n",
    "\n",
    "which is a variance of 0.0051, or a standard error of 0.0714.  The bootstrap process produces a sampling distribution that seems to have a variance in line with this value, and an unbiased result."
   ]
  },
  {
   "cell_type": "markdown",
   "metadata": {},
   "source": [
    "**Exercise 7.16**.  Simulate an AR(2) series with $\\phi_1 = 0.6$, $\\phi_2 = 0.3$, and $n = 60$.\n",
    "\n",
    "**(a)** Find the method-of-moments estimates of $\\phi_1$ and $\\phi_2$.\n",
    "\n",
    "**(b)** Find the conditional least squares estimates of $\\phi_1$ and $\\phi_2$ and compare them with part (a).\n",
    "\n",
    "**(c)** Find the maximum likelihood estimates of φ1 and φ2 and compare them with parts (a) and (b).\n",
    "\n",
    "**(d)** Repeat parts (a), (b), and (c) with a new simulated series using the same parameters and same sample size. Compare these results to your results from the first simulation."
   ]
  },
  {
   "cell_type": "markdown",
   "metadata": {},
   "source": [
    "**Solution**."
   ]
  },
  {
   "cell_type": "code",
   "execution_count": 22,
   "metadata": {},
   "outputs": [],
   "source": [
    "set.seed(0)\n",
    "Y = arima.sim(model=list(ar=c(0.6, 0.3)), n=60)"
   ]
  },
  {
   "cell_type": "markdown",
   "metadata": {},
   "source": [
    "**(a)**"
   ]
  },
  {
   "cell_type": "code",
   "execution_count": 23,
   "metadata": {},
   "outputs": [],
   "source": [
    "estimate.ar2.mom <- function(x) {\n",
    "    ar(x, aic=F, order.max=2, method='yw')[[2]]\n",
    "}"
   ]
  },
  {
   "cell_type": "code",
   "execution_count": 24,
   "metadata": {},
   "outputs": [
    {
     "name": "stdout",
     "output_type": "stream",
     "text": [
      "[1] Method of moments estimate (phi1):  0.40076                            \n",
      "[1] Method of moments estimate (phi2):  0.26428                            \n"
     ]
    }
   ],
   "source": [
    "phi = estimate.ar2.mom(Y)\n",
    "\n",
    "print(c('Method of moments estimate (phi1): ', round(phi[1], 5)), quote=F)\n",
    "print(c('Method of moments estimate (phi2): ', round(phi[2], 5)), quote=F)"
   ]
  },
  {
   "cell_type": "markdown",
   "metadata": {},
   "source": [
    "**(b)**"
   ]
  },
  {
   "cell_type": "code",
   "execution_count": 25,
   "metadata": {},
   "outputs": [
    {
     "name": "stdout",
     "output_type": "stream",
     "text": [
      "[1] Conditional least squares estimate (phi1): \n",
      "[2] 0.35454                                    \n",
      "[1] Conditional least squares estimate (phi2): \n",
      "[2] 0.34858                                    \n"
     ]
    }
   ],
   "source": [
    "phi = arima(Y, order=c(2,0,0), method='CSS')$coef[-3]\n",
    "\n",
    "print(c('Conditional least squares estimate (phi1): ', round(phi[[1]], 5)), quote=F)\n",
    "print(c('Conditional least squares estimate (phi2): ', round(phi[[2]], 5)), quote=F)"
   ]
  },
  {
   "cell_type": "markdown",
   "metadata": {},
   "source": [
    "Both estimate methods seem off from the true values, though the estimate for $\\phi_2$ is slightly better on both."
   ]
  },
  {
   "cell_type": "markdown",
   "metadata": {},
   "source": [
    "**(c)**"
   ]
  },
  {
   "cell_type": "code",
   "execution_count": 26,
   "metadata": {},
   "outputs": [
    {
     "name": "stdout",
     "output_type": "stream",
     "text": [
      "[1] Maximum likelihood estimate (phi1):  0.41872                             \n",
      "[1] Maximum likelihood estimate (phi2):  0.38248                             \n"
     ]
    }
   ],
   "source": [
    "phi = arima(Y, order=c(2,0,0), method='ML')$coef[-3]\n",
    "\n",
    "print(c('Maximum likelihood estimate (phi1): ', round(phi[[1]], 5)), quote=F)\n",
    "print(c('Maximum likelihood estimate (phi2): ', round(phi[[2]], 5)), quote=F)"
   ]
  },
  {
   "cell_type": "markdown",
   "metadata": {},
   "source": [
    "The estimate still seems fairly off."
   ]
  },
  {
   "cell_type": "markdown",
   "metadata": {},
   "source": [
    "**(d)**"
   ]
  },
  {
   "cell_type": "code",
   "execution_count": 27,
   "metadata": {},
   "outputs": [
    {
     "name": "stdout",
     "output_type": "stream",
     "text": [
      "[1] Method of moments estimate (phi1):  0.54073                            \n",
      "[1] Method of moments estimate (phi2):  0.26176                            \n",
      "[1] Conditional least squares estimate (phi1): \n",
      "[2] 0.53274                                    \n",
      "[1] Conditional least squares estimate (phi2): \n",
      "[2] 0.38063                                    \n",
      "[1] Maximum likelihood estimate (phi1):  0.52336                             \n",
      "[1] Maximum likelihood estimate (phi2):  0.36674                             \n"
     ]
    }
   ],
   "source": [
    "set.seed(1)\n",
    "Y = arima.sim(model=list(ar=c(0.6, 0.3)), n=60)\n",
    "\n",
    "phi = estimate.ar2.mom(Y)\n",
    "print(c('Method of moments estimate (phi1): ', round(phi[1], 5)), quote=F)\n",
    "print(c('Method of moments estimate (phi2): ', round(phi[2], 5)), quote=F)\n",
    "\n",
    "phi = arima(Y, order=c(2,0,0), method='CSS')$coef[-3]\n",
    "print(c('Conditional least squares estimate (phi1): ', round(phi[[1]], 5)), quote=F)\n",
    "print(c('Conditional least squares estimate (phi2): ', round(phi[[2]], 5)), quote=F)\n",
    "\n",
    "phi = arima(Y, order=c(2,0,0), method='ML')$coef[-3]\n",
    "print(c('Maximum likelihood estimate (phi1): ', round(phi[[1]], 5)), quote=F)\n",
    "print(c('Maximum likelihood estimate (phi2): ', round(phi[[2]], 5)), quote=F)"
   ]
  },
  {
   "cell_type": "markdown",
   "metadata": {},
   "source": [
    "Values are somewhat closer to the true values, with some small differences in the results obtained by each method."
   ]
  },
  {
   "cell_type": "markdown",
   "metadata": {},
   "source": [
    "**Exercise 7.17**.  Simulate an ARMA(1,1) series with $\\phi = 0.7$, $\\theta = 0.4$, and $n = 72$.\n",
    "\n",
    "**(a)** Find the method-of-moments estimates of $\\phi$ and $\\theta$.\n",
    "\n",
    "**(b)** Find the conditional least squares estimates of $\\phi$ and $\\theta$ and compare them with part (a).\n",
    "\n",
    "**(c)** Find the maximum likelihood estimates of $\\phi$ and $\\theta$ and compare them with parts (a) and (b).\n",
    "\n",
    "**(d)** Repeat parts (a), (b), and (c) with a new simulated series using the same parameters and same sample size. Compare your new results with your results from the first simulation."
   ]
  },
  {
   "cell_type": "markdown",
   "metadata": {},
   "source": [
    "**Solution**."
   ]
  },
  {
   "cell_type": "code",
   "execution_count": 28,
   "metadata": {},
   "outputs": [],
   "source": [
    "set.seed(2000)\n",
    "Y = arima.sim(model=list(ar=0.7, ma=-0.4), n=72)"
   ]
  },
  {
   "cell_type": "markdown",
   "metadata": {},
   "source": [
    "**(a)**"
   ]
  },
  {
   "cell_type": "code",
   "execution_count": 29,
   "metadata": {},
   "outputs": [],
   "source": [
    "estimate.arma11.mom <- function(x) {\n",
    "    # estimate of phi:  r2 / r1\n",
    "    # estimate of theta: solve r1 = (1 - theta phi) (phi - theta) / (1 - 2 theta phi + theta^2)\n",
    "    #    (if it has real roots)\n",
    "    \n",
    "    r = acf(x, lag.max=2, plot=F)$acf[-1]\n",
    "    r1 = r[1]\n",
    "    r2 = r[2]\n",
    "    phi = r2 / r1\n",
    "    delta = (phi**2 - 1)*(phi**2 - 4 *phi *r1 + 4*r1**2 - 1)\n",
    "    if (delta < 0) {\n",
    "        theta = NA\n",
    "    } else {\n",
    "        theta = ((phi**2 - 2 * phi * r1 + 1) - sqrt(delta)) / (2 * (phi - r1))\n",
    "    }\n",
    "    return(c(phi, theta))\n",
    "}"
   ]
  },
  {
   "cell_type": "code",
   "execution_count": 30,
   "metadata": {},
   "outputs": [
    {
     "name": "stdout",
     "output_type": "stream",
     "text": [
      "[1] Method of moments estimate (phi):  0.43128                           \n",
      "[1] Method of moments estimate (theta):  -0.06424                            \n"
     ]
    }
   ],
   "source": [
    "res = estimate.arma11.mom(Y)\n",
    "print(c('Method of moments estimate (phi): ', round(res[1], 5)), quote=F)\n",
    "print(c('Method of moments estimate (theta): ', round(res[2], 5)), quote=F)"
   ]
  },
  {
   "cell_type": "markdown",
   "metadata": {},
   "source": [
    "**(b)**"
   ]
  },
  {
   "cell_type": "code",
   "execution_count": 31,
   "metadata": {},
   "outputs": [
    {
     "name": "stdout",
     "output_type": "stream",
     "text": [
      "[1] Conditional least squares estimate (phi): \n",
      "[2] 0.42449                                   \n",
      "[1] Conditional least squares estimate (theta): \n",
      "[2] -0.07356                                    \n"
     ]
    }
   ],
   "source": [
    "res = arima(Y, order=c(1,0,1), method='CSS')$coef\n",
    "\n",
    "print(c('Conditional least squares estimate (phi): ', round(res[[1]], 5)), quote=F)\n",
    "print(c('Conditional least squares estimate (theta): ', round(-res[[2]], 5)), quote=F)"
   ]
  },
  {
   "cell_type": "markdown",
   "metadata": {},
   "source": [
    "Estimates for $\\theta$ seem very off in both methods.  Estimates for $\\phi$ are also very off, but at least has the right sign."
   ]
  },
  {
   "cell_type": "markdown",
   "metadata": {},
   "source": [
    "**(c)**"
   ]
  },
  {
   "cell_type": "code",
   "execution_count": 32,
   "metadata": {},
   "outputs": [
    {
     "name": "stdout",
     "output_type": "stream",
     "text": [
      "[1] Maximum likelihood estimate (phi):  0.43128                            \n",
      "[1] Maximum likelihood estimate (theta):  -0.05791                             \n"
     ]
    }
   ],
   "source": [
    "res = arima(Y, order=c(1,0,1), method='ML')$coef\n",
    "\n",
    "print(c('Maximum likelihood estimate (phi): ', round(res[[1]], 5)), quote=F)\n",
    "print(c('Maximum likelihood estimate (theta): ', round(-res[[2]], 5)), quote=F)"
   ]
  },
  {
   "cell_type": "markdown",
   "metadata": {},
   "source": [
    "Estimates are very similar to the estimates using CSS (and also very off the true values)."
   ]
  },
  {
   "cell_type": "markdown",
   "metadata": {},
   "source": [
    "**(d)**"
   ]
  },
  {
   "cell_type": "code",
   "execution_count": 33,
   "metadata": {},
   "outputs": [
    {
     "name": "stdout",
     "output_type": "stream",
     "text": [
      "[1] Method of moments estimate (phi):  0.47988                           \n",
      "[1] Method of moments estimate (theta):  0.30173                             \n",
      "[1] Conditional least squares estimate (phi): \n",
      "[2] 0.36282                                   \n",
      "[1] Conditional least squares estimate (theta): \n",
      "[2] 0.17727                                     \n",
      "[1] Maximum likelihood estimate (phi):  0.35213                            \n",
      "[1] Maximum likelihood estimate (theta):  0.15978                              \n"
     ]
    }
   ],
   "source": [
    "set.seed(10000)\n",
    "Y = arima.sim(model=list(ar=0.7, ma=-0.4), n=72)\n",
    "\n",
    "res = estimate.arma11.mom(Y)\n",
    "print(c('Method of moments estimate (phi): ', round(res[1], 5)), quote=F)\n",
    "print(c('Method of moments estimate (theta): ', round(res[2], 5)), quote=F)\n",
    "\n",
    "res = arima(Y, order=c(1,0,1), method='CSS')$coef\n",
    "print(c('Conditional least squares estimate (phi): ', round(res[[1]], 5)), quote=F)\n",
    "print(c('Conditional least squares estimate (theta): ', round(-res[[2]], 5)), quote=F)\n",
    "\n",
    "res = arima(Y, order=c(1,0,1), method='ML')$coef\n",
    "print(c('Maximum likelihood estimate (phi): ', round(res[[1]], 5)), quote=F)\n",
    "print(c('Maximum likelihood estimate (theta): ', round(-res[[2]], 5)), quote=F)"
   ]
  },
  {
   "cell_type": "markdown",
   "metadata": {},
   "source": [
    "The method of moment estimates are now much closer to the real values, while the other estimates are still fairly off."
   ]
  },
  {
   "cell_type": "markdown",
   "metadata": {},
   "source": [
    "**Exercise 7.18**.  Simulate an AR(1) series with $\\phi = 0.6$, $n = 36$ but with error terms from a t-distribution with 3 degrees of freedom.\n",
    "\n",
    "**(a)** Display the sample PACF of the series. Is an AR(1) model suggested?\n",
    "\n",
    "**(b)** Estimate $\\phi$ from the series and comment on the results.\n",
    "\n",
    "**(c)** Repeat parts (a) and (b) with a new simulated series under the same conditions."
   ]
  },
  {
   "cell_type": "markdown",
   "metadata": {},
   "source": [
    "**Solution**."
   ]
  },
  {
   "cell_type": "code",
   "execution_count": 34,
   "metadata": {},
   "outputs": [],
   "source": [
    "set.seed(1000)\n",
    "Y = arima.sim(model=list(ar=0.6), n=36, innov=rt(36, 3))"
   ]
  },
  {
   "cell_type": "code",
   "execution_count": 35,
   "metadata": {},
   "outputs": [],
   "source": [
    "plot_acf_with_bounds <- function(acf, lower, upper, title='ACF') {\n",
    "    max_k = length(acf)\n",
    "    k = seq(1, max_k)\n",
    "    \n",
    "    options(repr.plot.width=12, repr.plot.height=4)\n",
    "    p = ggplot() + geom_ribbon(aes(x=k, ymin=lower, ymax=upper), fill='blue', alpha=0.1) +\n",
    "        geom_point(aes(x=k, y=acf), color='blue')\n",
    "    for (i in 1:max_k) {\n",
    "        p = p + geom_line(aes_string(x=k[i], y=c(0, acf[i])), color='blue')\n",
    "    }\n",
    "    p + geom_line(aes(x=k, y=0), color='blue', linetype='dashed') +\n",
    "        xlab('Lag') + ylab(TeX('$\\\\rho_k$')) +\n",
    "        ggtitle(title) +\n",
    "        theme_bw() + theme(text = element_text(size=16), plot.title = element_text(hjust = 0.5))\n",
    "}"
   ]
  },
  {
   "cell_type": "markdown",
   "metadata": {},
   "source": [
    "**(a)**"
   ]
  },
  {
   "cell_type": "code",
   "execution_count": 36,
   "metadata": {},
   "outputs": [
    {
     "data": {
      "image/png": "[encoded data removed]",
      "text/plain": [
       "plot without title"
      ]
     },
     "metadata": {
      "image/png": {
       "height": 240,
       "width": 720
      }
     },
     "output_type": "display_data"
    }
   ],
   "source": [
    "r = pacf(Y, lag.max=15, plot=F)$acf\n",
    "se = 1 / sqrt(length(Y))\n",
    "\n",
    "plot_acf_with_bounds(r, - 2 * se, + 2*se, title='Sample PACF for AR(1)')"
   ]
  },
  {
   "cell_type": "markdown",
   "metadata": {},
   "source": [
    "This PACF suggests an AR(1) process."
   ]
  },
  {
   "cell_type": "markdown",
   "metadata": {},
   "source": [
    "**(b)**"
   ]
  },
  {
   "cell_type": "code",
   "execution_count": 37,
   "metadata": {},
   "outputs": [
    {
     "name": "stdout",
     "output_type": "stream",
     "text": [
      "[1] Method of moments estimate:   0.61083                      \n",
      "[1] Maximum likelihood estimate:  0.61296                      \n"
     ]
    }
   ],
   "source": [
    "print(c('Method of moments estimate:  ', round(estimate.ar1.mom(Y), 5)), quote=F)\n",
    "print(c('Maximum likelihood estimate: ', round(arima(Y, order=c(1,0,0), method='ML')$coef[[1]], 5)), quote=F)"
   ]
  },
  {
   "cell_type": "markdown",
   "metadata": {},
   "source": [
    "The maximum likelihood and the method of moments estimates suggest $\\phi = 0.61$, very close to the true value despite errors not being normal."
   ]
  },
  {
   "cell_type": "markdown",
   "metadata": {},
   "source": [
    "**(c)**"
   ]
  },
  {
   "cell_type": "code",
   "execution_count": 38,
   "metadata": {},
   "outputs": [
    {
     "name": "stdout",
     "output_type": "stream",
     "text": [
      "[1] Method of moments estimate:   0.45793                      \n",
      "[1] Maximum likelihood estimate:  0.47753                      \n"
     ]
    },
    {
     "data": {
      "image/png": "[encoded data removed]",
      "text/plain": [
       "plot without title"
      ]
     },
     "metadata": {
      "image/png": {
       "height": 240,
       "width": 720
      }
     },
     "output_type": "display_data"
    }
   ],
   "source": [
    "set.seed(1001)\n",
    "Y = arima.sim(model=list(ar=0.6), n=36, innov=rt(36, 3))\n",
    "r = pacf(Y, lag.max=15, plot=F)$acf\n",
    "se = 1 / sqrt(length(Y))\n",
    "plot_acf_with_bounds(r, - 2 * se, + 2*se, title='Sample PACF for AR(1)')\n",
    "print(c('Method of moments estimate:  ', round(estimate.ar1.mom(Y), 5)), quote=F)\n",
    "print(c('Maximum likelihood estimate: ', round(arima(Y, order=c(1,0,0), method='ML')$coef[[1]], 5)), quote=F)"
   ]
  },
  {
   "cell_type": "markdown",
   "metadata": {},
   "source": [
    "PACF again suggests AR(1), but now method of moments suggests $\\theta=0.458$ and maximum likelihood suggests $\\phi=0.478$, which is not as close to the true value."
   ]
  },
  {
   "cell_type": "markdown",
   "metadata": {},
   "source": [
    "**Exercise 7.19**.  Simulate an MA(1) series with $\\theta = −0.8$, $n = 60$ but with error terms from a t-distribution with 4 degrees of freedom.\n",
    "\n",
    "**(a)** Display the sample ACF of the series. Is an MA(1) model suggested?\n",
    "\n",
    "**(b)** Estimate θ from the series and comment on the results.\n",
    "\n",
    "**(c)** Repeat parts (a) and (b) with a new simulated series under the same conditions."
   ]
  },
  {
   "cell_type": "markdown",
   "metadata": {},
   "source": [
    "**Solution**."
   ]
  },
  {
   "cell_type": "code",
   "execution_count": 39,
   "metadata": {},
   "outputs": [],
   "source": [
    "set.seed(1000)\n",
    "Y = arima.sim(model=list(ma=0.8), n=60, innov=rt(60, 4))"
   ]
  },
  {
   "cell_type": "code",
   "execution_count": 40,
   "metadata": {},
   "outputs": [],
   "source": [
    "estimate.ma1.mom <- function(x) {\n",
    "    r = acf(x, lag.max=1, plot=F)$acf[2]; \n",
    "    if (abs(r) < 0.5) {\n",
    "        return((-1+sqrt(1-4*r^2))/(2*r)) \n",
    "    } else {\n",
    "        return(NA)\n",
    "    }\n",
    "}"
   ]
  },
  {
   "cell_type": "markdown",
   "metadata": {},
   "source": [
    "**(a)**"
   ]
  },
  {
   "cell_type": "code",
   "execution_count": 41,
   "metadata": {},
   "outputs": [
    {
     "data": {
      "image/png": "[encoded data removed]",
      "text/plain": [
       "plot without title"
      ]
     },
     "metadata": {
      "image/png": {
       "height": 240,
       "width": 720
      }
     },
     "output_type": "display_data"
    }
   ],
   "source": [
    "r = acf(Y, lag.max=15, plot=F)$acf[-1]\n",
    "se = 1 / sqrt(length(Y))\n",
    "plot_acf_with_bounds(r, - 2 * se, + 2*se, title='Sample ACF for MA(1)')"
   ]
  },
  {
   "cell_type": "markdown",
   "metadata": {},
   "source": [
    "ACF suggests an MA(1) process -- though lags at 3, 4 might need to be investigated."
   ]
  },
  {
   "cell_type": "markdown",
   "metadata": {},
   "source": [
    "**(b)**"
   ]
  },
  {
   "cell_type": "code",
   "execution_count": 42,
   "metadata": {},
   "outputs": [
    {
     "name": "stdout",
     "output_type": "stream",
     "text": [
      "[1] Method of moments estimate:   <NA>                         \n",
      "[1] Maximum likelihood estimate:  -1                           \n"
     ]
    }
   ],
   "source": [
    "print(c('Method of moments estimate:  ', round(estimate.ma1.mom(Y), 5)), quote=F)\n",
    "print(c('Maximum likelihood estimate: ', round(-arima(Y, order=c(0,0,1), method='ML')$coef[[1]], 5)), quote=F)"
   ]
  },
  {
   "cell_type": "markdown",
   "metadata": {},
   "source": [
    "The maximum likelihood estimate estimate is just $\\theta = -1$, which is not invertible, while the method of moments estimate fails to provide an estimate."
   ]
  },
  {
   "cell_type": "markdown",
   "metadata": {},
   "source": [
    "**(c)**"
   ]
  },
  {
   "cell_type": "code",
   "execution_count": 43,
   "metadata": {},
   "outputs": [
    {
     "name": "stdout",
     "output_type": "stream",
     "text": [
      "[1] Method of moments estimate:   -0.74515                     \n",
      "[1] Maximum likelihood estimate:  -0.89504                     \n"
     ]
    },
    {
     "data": {
      "image/png": "[encoded data removed]",
      "text/plain": [
       "plot without title"
      ]
     },
     "metadata": {
      "image/png": {
       "height": 240,
       "width": 720
      }
     },
     "output_type": "display_data"
    }
   ],
   "source": [
    "set.seed(1001)\n",
    "Y = arima.sim(model=list(ma=0.8), n=60, innov=rt(60, 4))\n",
    "r = acf(Y, lag.max=15, plot=F)$acf[-1]\n",
    "se = 1 / sqrt(length(Y))\n",
    "plot_acf_with_bounds(r, - 2 * se, + 2*se, title='Sample ACF for MA(1)')\n",
    "print(c('Method of moments estimate:  ', round(estimate.ma1.mom(Y), 5)), quote=F)\n",
    "print(c('Maximum likelihood estimate: ', round(-arima(Y, order=c(0,0,1), method='ML')$coef[[1]], 5)), quote=F)"
   ]
  },
  {
   "cell_type": "markdown",
   "metadata": {},
   "source": [
    "ACF still suggests an MA(1) process.  The method of moments estimate is very off at $\\theta=-0.74$, but the maximum likelihood estimate is closer to the true value, estimating $\\theta = -0.895$."
   ]
  },
  {
   "cell_type": "markdown",
   "metadata": {},
   "source": [
    "**Exercise 7.20**. Simulate an AR(2) series with $\\phi_1 = 1.0$, $\\phi_2 = −0.6$, $n = 48$ but with error terms from a t-distribution with 5 degrees of freedom.\n",
    "\n",
    "**(a)** Display the sample PACF of the series. Is an AR(2) model suggested?\n",
    "\n",
    "**(b)** Estimate $\\phi_1$ and $\\phi_2$ from the series and comment on the results.\n",
    "\n",
    "**(c)** Repeat parts (a) and (b) with a new simulated series under the same conditions."
   ]
  },
  {
   "cell_type": "markdown",
   "metadata": {},
   "source": [
    "**Solution**."
   ]
  },
  {
   "cell_type": "code",
   "execution_count": 44,
   "metadata": {},
   "outputs": [],
   "source": [
    "set.seed(5000)\n",
    "Y = arima.sim(model=list(ar=c(1, -0.6)), n=48, innov=rt(48, 5))"
   ]
  },
  {
   "cell_type": "markdown",
   "metadata": {},
   "source": [
    "**(a)**"
   ]
  },
  {
   "cell_type": "code",
   "execution_count": 45,
   "metadata": {},
   "outputs": [
    {
     "data": {
      "image/png": "[encoded data removed]",
      "text/plain": [
       "plot without title"
      ]
     },
     "metadata": {
      "image/png": {
       "height": 240,
       "width": 720
      }
     },
     "output_type": "display_data"
    }
   ],
   "source": [
    "r = pacf(Y, lag.max=15, plot=F)$acf\n",
    "se = 1 / sqrt(length(Y))\n",
    "\n",
    "plot_acf_with_bounds(r, - 2 * se, + 2*se, title='Sample PACF for AR(2)')"
   ]
  },
  {
   "cell_type": "markdown",
   "metadata": {},
   "source": [
    "The PACF plot does suggest an AR(2) process."
   ]
  },
  {
   "cell_type": "code",
   "execution_count": 46,
   "metadata": {},
   "outputs": [
    {
     "name": "stdout",
     "output_type": "stream",
     "text": [
      "[1] Method of moments estimate (phi1):  0.96136                            \n",
      "[1] Method of moments estimate (phi2):  -0.6357                            \n",
      "[1] Maximum likelihood estimate (phi1):  0.96626                             \n",
      "[1] Maximum likelihood estimate (phi2):  -0.64433                            \n"
     ]
    }
   ],
   "source": [
    "phi = estimate.ar2.mom(Y)\n",
    "print(c('Method of moments estimate (phi1): ', round(phi[1], 5)), quote=F)\n",
    "print(c('Method of moments estimate (phi2): ', round(phi[2], 5)), quote=F)\n",
    "\n",
    "phi = arima(Y, order=c(2,0,0), method='ML')$coef[-3]\n",
    "print(c('Maximum likelihood estimate (phi1): ', round(phi[[1]], 5)), quote=F)\n",
    "print(c('Maximum likelihood estimate (phi2): ', round(phi[[2]], 5)), quote=F)"
   ]
  },
  {
   "cell_type": "markdown",
   "metadata": {},
   "source": [
    "The estimates from both the method of moments and from maximum likelihood are reasonable, respectively being $(\\phi_1, \\phi_2) = (0.961, -0.356)$ and $(\\phi_1, \\phi_2) = (0.988, -0.644)$."
   ]
  },
  {
   "cell_type": "markdown",
   "metadata": {},
   "source": [
    "**(c)**"
   ]
  },
  {
   "cell_type": "code",
   "execution_count": 47,
   "metadata": {},
   "outputs": [
    {
     "name": "stdout",
     "output_type": "stream",
     "text": [
      "[1] Method of moments estimate (phi1):  1.09227                            \n",
      "[1] Method of moments estimate (phi2):  -0.53049                           \n",
      "[1] Maximum likelihood estimate (phi1):  1.09576                             \n",
      "[1] Maximum likelihood estimate (phi2):  -0.54674                            \n"
     ]
    },
    {
     "data": {
      "image/png": "[encoded data removed]",
      "text/plain": [
       "plot without title"
      ]
     },
     "metadata": {
      "image/png": {
       "height": 240,
       "width": 720
      }
     },
     "output_type": "display_data"
    }
   ],
   "source": [
    "set.seed(5001)\n",
    "Y = arima.sim(model=list(ar=c(1, -0.6)), n=48, innov=rt(48, 5))\n",
    "\n",
    "r = pacf(Y, lag.max=15, plot=F)$acf\n",
    "se = 1 / sqrt(length(Y))\n",
    "plot_acf_with_bounds(r, - 2 * se, + 2*se, title='Sample PACF for AR(2)')\n",
    "\n",
    "phi = estimate.ar2.mom(Y)\n",
    "print(c('Method of moments estimate (phi1): ', round(phi[1], 5)), quote=F)\n",
    "print(c('Method of moments estimate (phi2): ', round(phi[2], 5)), quote=F)\n",
    "\n",
    "phi = arima(Y, order=c(2,0,0), method='ML')$coef[-3]\n",
    "print(c('Maximum likelihood estimate (phi1): ', round(phi[[1]], 5)), quote=F)\n",
    "print(c('Maximum likelihood estimate (phi2): ', round(phi[[2]], 5)), quote=F)"
   ]
  },
  {
   "cell_type": "markdown",
   "metadata": {},
   "source": [
    "PACF still indicates an AR(2) process.  The estimates now are less accurate, with method of moments estimating $(\\phi_1, \\phi_2) = (1.092, -0.53)$ and maximum likelihood estimating $(\\phi_1, \\phi_2) = (1.096, -0.547)$."
   ]
  }
 ],
 "metadata": {
  "kernelspec": {
   "display_name": "R",
   "language": "R",
   "name": "ir"
  },
  "language_info": {
   "codemirror_mode": "r",
   "file_extension": ".r",
   "mimetype": "text/x-r-source",
   "name": "R",
   "pygments_lexer": "r",
   "version": "4.0.0"
  }
 },
 "nbformat": 4,
 "nbformat_minor": 2
}
