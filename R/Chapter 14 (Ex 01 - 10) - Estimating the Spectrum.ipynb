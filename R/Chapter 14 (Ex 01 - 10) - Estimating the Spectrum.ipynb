{
 "cells": [
  {
   "cell_type": "markdown",
   "metadata": {},
   "source": [
    "## 14. Estimating the Spectrum"
   ]
  },
  {
   "cell_type": "markdown",
   "metadata": {},
   "source": [
    "**Exercise 14.1**. Consider the variance of $\\overline{S}(f)$ with the Daniell spectral window. Instead of using Equation (14.2.4) on page 355, use the fact that $2 \\hat{S}(f) / S(f)$ has approximately a chi-square distribution with two degrees of freedom to show that the smoothed sample spectral density has an approximate variance of $S^2(f) / (2m + 1)$."
   ]
  },
  {
   "cell_type": "markdown",
   "metadata": {},
   "source": [
    "**Solution**.  The smoothed estimator of the spectral density is\n",
    "\n",
    "$$ \\overline{S}(f) = \\sum_{k=-m}^m W_m(k) \\hat{S}\\left( f + \\frac{k}{n} \\right) \\tag{14.1.3} $$\n",
    "\n",
    "and the Daniell spectral window corresponds to weights\n",
    "\n",
    "$$ W_m(k) = \\frac{1}{2m + 1} \\quad \\text{for } -m \\leq k \\leq m \\tag{14.1.4} $$\n",
    "\n",
    "Therefore, using this smoothing window,\n",
    "\n",
    "$$ \\frac{\\overline{S}(f)}{S(f)} = \\frac{1}{2(2m + 1)} \\sum_{k=-m}^m \\frac{2 \\hat{S}\\left( f + \\frac{k}{n} \\right)}{S(f)} $$\n",
    "\n",
    "Taking the variance,\n",
    "\n",
    "$$ \n",
    "\\begin{align}\n",
    "\\text{Var}\\left[ \\frac{\\overline{S}(f)}{S(f)} \\right] \n",
    "&= \\frac{1}{4(2m+1)^2} \\text{Var}\\left[ \\sum_{k=-m}^m \\frac{2 \\hat{S}\\left( f + \\frac{k}{n} \\right)}{S(f)} \\right] \\\\\n",
    "&\\approx \\frac{1}{4(2m+1)^2} \\sum_{k=-m}^m  \\text{Var}\\left[ \\frac{2 \\hat{S}\\left( f + \\frac{k}{n} \\right)}{S(f)} \\right] \\\\\n",
    "&\\approx \\frac{1}{4(2m+1)^2} \\sum_{k=-m}^m 2 \\cdot 2 \\\\\n",
    "&= \\frac{1}{2m + 1}\n",
    "\\end{align}\n",
    "$$\n",
    "\n",
    "since the spectral sample density values at Fourier frequencies are approximately uncorrelated, and since the variance of a chi-square variable with 2 degrees of freedom is $2 \\cdot \\text{df} = 4$.\n",
    "\n",
    "Therefore, taking $S(f)$ out as a constant factor, we obtain the result\n",
    "\n",
    "$$ \\text{Var}\\left[\\overline{S}(f)\\right] \\approx \\frac{S^2(f)}{2m + 1} $$"
   ]
  },
  {
   "cell_type": "markdown",
   "metadata": {},
   "source": [
    "**Exercise 14.2**. Consider various convolutions of the simple Daniell rectangular spectral window.\n",
    "\n",
    "**(a)** Construct a panel of three plots similar to those shown in Exhibit 14.3 on page 354 but with the Daniell spectral window and with $m = 5$. The middle graph should be the convolution of two Daniell windows and the leftmost graph the convolution of three Daniell windows.\n",
    "\n",
    "**(b)** Evaluate the bandwidths and degrees of freedom for each of the spectral windows constructed in part (a). Use $n = 100$.\n",
    "\n",
    "**(c)** Construct another panel of three plots similar to those shown in Exhibit 14.3 but with the modified Daniell spectral window. This time use $m = 5$ for the first graph and convolve two with $m = 5$ and $m = 7$ for the second. Convolve three windows with $m$’s of 5, 7, and 11 for the third graph.\n",
    "\n",
    "**(d)** Evaluate the bandwidths and degrees of freedom for each of the spectral windows constructed in part (c). Use $n = 100$."
   ]
  },
  {
   "cell_type": "markdown",
   "metadata": {},
   "source": [
    "**Solution**.  For integer $k$ and positive integer $m$, the Daniell regular spectral window for $m$ is defined as\n",
    "\n",
    "$$ W_m(k) = \\begin{cases}\n",
    "1 / (2m + 1) &\\text{for } -m \\leq k \\leq m \\\\\n",
    "0 &\\text{otherwise}\n",
    "\\end{cases} $$\n",
    "\n",
    "while the modified Daniell regular spectral window divides in half the extreme weights and renormalizes the values so that they add up to 1, that is,\n",
    "\n",
    "$$ W_m^{*}(k) = \\begin{cases}\n",
    "1 / (4m) &\\text{for } k \\in \\{ -m, m \\} \\\\\n",
    "1 / (2m) &\\text{for } -m < k < m \\\\\n",
    "0 &\\text{otherwise}\n",
    "\\end{cases} $$"
   ]
  },
  {
   "cell_type": "code",
   "execution_count": 1,
   "metadata": {},
   "outputs": [
    {
     "name": "stderr",
     "output_type": "stream",
     "text": [
      "Loading required package: ggplot2\n",
      "\n",
      "Loading required package: ggpubr\n",
      "\n",
      "Loading required package: magrittr\n",
      "\n",
      "Loading required package: data.table\n",
      "\n"
     ]
    }
   ],
   "source": [
    "require(ggplot2)\n",
    "require(ggpubr)\n",
    "require(data.table)"
   ]
  },
  {
   "cell_type": "code",
   "execution_count": 2,
   "metadata": {},
   "outputs": [],
   "source": [
    "m = 5\n",
    "\n",
    "# Create lag vectors\n",
    "k1 = -m:m\n",
    "k2 = (-2*m):(2*m)\n",
    "k3 = (-3*m):(3*m)\n",
    "\n",
    "# Use stats::kernel function to compute the coefficients for us\n",
    "w1 = stats::kernel('daniell', c(m))$coef\n",
    "w2 = stats::kernel('daniell', c(m, m))$coef\n",
    "w3 = stats::kernel('daniell', c(m, m, m))$coef\n",
    "\n",
    "# Translate to symmetric representation\n",
    "w1 = c(rev(w1[-1]), w1)\n",
    "w2 = c(rev(w2[-1]), w2)\n",
    "w3 = c(rev(w3[-1]), w3)"
   ]
  },
  {
   "cell_type": "code",
   "execution_count": 3,
   "metadata": {},
   "outputs": [
    {
     "data": {
      "image/png": "[encoded data removed]",
      "text/plain": [
       "plot without title"
      ]
     },
     "metadata": {
      "image/png": {
       "height": 240,
       "width": 840
      }
     },
     "output_type": "display_data"
    }
   ],
   "source": [
    "plot_kernel <- function(k, w) {\n",
    "  ggplot() +\n",
    "    geom_hline(yintercept=0, color='black') +\n",
    "    geom_point(aes(x=k, y=w), color='blue') +\n",
    "    geom_segment(aes(x=k, y=w, xend=k, yend=0), color='blue') +\n",
    "    xlab('k') + ylab('W(k)') +\n",
    "    theme_bw() + theme(text = element_text(size=16))\n",
    "}\n",
    "\n",
    "p1 <- plot_kernel(k=k1, w=w1)\n",
    "p2 <- plot_kernel(k=k2, w=w2)\n",
    "p3 <- plot_kernel(k=k3, w=w3)\n",
    "\n",
    "options(repr.plot.width=14, repr.plot.height=4)\n",
    "ggarrange(p1, p2, p3, nrow=1, ncol=3)"
   ]
  },
  {
   "cell_type": "markdown",
   "metadata": {},
   "source": [
    "**(b)**  The bandwidth of the spectral window is defined as\n",
    "\n",
    "$$ BW = \\frac{1}{n} \\sqrt{\\sum_{k=-m}^m k^2 W_m(k)} \\tag{14.3.1} $$\n",
    "\n",
    "and the degrees of freedom are given as\n",
    "\n",
    "$$ \\nu = \\frac{2}{\\sum_{k=-m}^m W_m^2(k)} \\tag{14.4.2} $$"
   ]
  },
  {
   "cell_type": "code",
   "execution_count": 4,
   "metadata": {},
   "outputs": [],
   "source": [
    "spectral_window_bandwidth <- function(k, w, n) {\n",
    "    sqrt(sum(k**2 * w)) / n\n",
    "}\n",
    "\n",
    "spectral_window_df <- function(w) {\n",
    "    2 / sum(w**2)\n",
    "}"
   ]
  },
  {
   "cell_type": "code",
   "execution_count": 5,
   "metadata": {},
   "outputs": [
    {
     "name": "stdout",
     "output_type": "stream",
     "text": [
      "[1] Window 1\n",
      "[1]   Bandwidth: 0.03162\n",
      "[1]   Degrees of freedom: 22\n",
      "[1] Window 2\n",
      "[1]   Bandwidth: 0.04472\n",
      "[1]   Degrees of freedom: 32.8642\n",
      "[1] Window 3\n",
      "[1]   Bandwidth: 0.05477\n",
      "[1]   Degrees of freedom: 39.84931\n"
     ]
    }
   ],
   "source": [
    "print_results <- function(title, w, k) {\n",
    "    bw = spectral_window_bandwidth(k=k, w=w, n=100)\n",
    "    df = spectral_window_df(w=w)\n",
    "    print(title, quote=F)\n",
    "    print(paste(c('  Bandwidth: ', round(bw, 5)), collapse=''), quote=F)\n",
    "    print(paste(c('  Degrees of freedom: ', round(df, 5)), collapse=''), quote=F)\n",
    "}\n",
    "\n",
    "print_results(title='Window 1', k=k1, w=w1)\n",
    "print_results(title='Window 2', k=k2, w=w2)\n",
    "print_results(title='Window 3', k=k3, w=w3)"
   ]
  },
  {
   "cell_type": "markdown",
   "metadata": {},
   "source": [
    "**(c)**"
   ]
  },
  {
   "cell_type": "code",
   "execution_count": 6,
   "metadata": {},
   "outputs": [],
   "source": [
    "m = 5\n",
    "\n",
    "# Create lag vectors\n",
    "k1 = -5:5\n",
    "k2 = (-(5+7)):(5+7)\n",
    "k3 = (-(5+7+11)):(5+7+11)\n",
    "\n",
    "# Use stats::kernel function to compute the coefficients for us\n",
    "w1 = stats::kernel('modified.daniell', c(5))$coef\n",
    "w2 = stats::kernel('modified.daniell', c(5, 7))$coef\n",
    "w3 = stats::kernel('modified.daniell', c(5, 7, 11))$coef\n",
    "\n",
    "# Translate to symmetric representation\n",
    "w1 = c(rev(w1[-1]), w1)\n",
    "w2 = c(rev(w2[-1]), w2)\n",
    "w3 = c(rev(w3[-1]), w3)"
   ]
  },
  {
   "cell_type": "code",
   "execution_count": 7,
   "metadata": {},
   "outputs": [
    {
     "data": {
      "image/png": "[encoded data removed]",
      "text/plain": [
       "plot without title"
      ]
     },
     "metadata": {
      "image/png": {
       "height": 240,
       "width": 840
      }
     },
     "output_type": "display_data"
    }
   ],
   "source": [
    "plot_kernel <- function(k, w) {\n",
    "  ggplot() +\n",
    "    geom_hline(yintercept=0, color='black') +\n",
    "    geom_point(aes(x=k, y=w), color='blue') +\n",
    "    geom_segment(aes(x=k, y=w, xend=k, yend=0), color='blue') +\n",
    "    xlab('k') + ylab('W(k)') +\n",
    "    theme_bw() + theme(text = element_text(size=16))\n",
    "}\n",
    "\n",
    "p1 <- plot_kernel(k=k1, w=w1)\n",
    "p2 <- plot_kernel(k=k2, w=w2)\n",
    "p3 <- plot_kernel(k=k3, w=w3)\n",
    "\n",
    "options(repr.plot.width=14, repr.plot.height=4)\n",
    "ggarrange(p1, p2, p3, nrow=1, ncol=3)"
   ]
  },
  {
   "cell_type": "markdown",
   "metadata": {},
   "source": [
    "**(d)**"
   ]
  },
  {
   "cell_type": "code",
   "execution_count": 8,
   "metadata": {},
   "outputs": [
    {
     "name": "stdout",
     "output_type": "stream",
     "text": [
      "[1] Window 1\n",
      "[1]   Bandwidth: 0.02915\n",
      "[1]   Degrees of freedom: 21.05263\n",
      "[1] Window 2\n",
      "[1]   Bandwidth: 0.05\n",
      "[1]   Degrees of freedom: 36.97241\n",
      "[1] Window 3\n",
      "[1]   Bandwidth: 0.08093\n",
      "[1]   Degrees of freedom: 59.53696\n"
     ]
    }
   ],
   "source": [
    "print_results(title='Window 1', k=k1, w=w1)\n",
    "print_results(title='Window 2', k=k2, w=w2)\n",
    "print_results(title='Window 3', k=k3, w=w3)"
   ]
  },
  {
   "cell_type": "markdown",
   "metadata": {},
   "source": [
    "**Exercise 14.3**. For the Daniell rectangular spectral window show that\n",
    "\n",
    "**(a)** \n",
    "\n",
    "$$ \\frac{1}{n^2} \\sum_{k=-m}^m k^2 W_m(k) = \\frac{2}{n^2(2m+1)} \\left( \\frac{m^3}{3} + \\frac{m^2}{2} + \\frac{m}{6} \\right) $$\n",
    "\n",
    "**(b)** Show that if $m$ is chosen as $m = c\\sqrt{n}$ for any constant $c$, then the right-hand side of the expression in part (a) tends to zero as $n$ goes to infinity.\n",
    "\n",
    "**(c)** Show that if $m = c\\sqrt{n}$ for any constant $c$, then the approximate variance of the smoothed spectral density given by the right-hand side of Equation (14.2.4) on page 355 tends to zero as n tends to infinity."
   ]
  },
  {
   "cell_type": "markdown",
   "metadata": {},
   "source": [
    "**Solution**."
   ]
  },
  {
   "cell_type": "markdown",
   "metadata": {},
   "source": [
    "**(a)**\n",
    "\n",
    "$$\n",
    "\\begin{align}\n",
    "\\frac{1}{n^2} \\sum_{k=-m}^m k^2 W_m(k) &= \\frac{1}{2m+1} \\frac{1}{n^2} \\sum_{k=-m}^m k^2 \\\\\n",
    "&= \\frac{2}{2m+1} \\frac{1}{n^2} \\sum_{k=1}^m k^2 \\\\\n",
    "&= \\frac{2}{n^2(2m+1)} \\left( \\frac{m(m+1)(2m+1)}{6} \\right) \\\\\n",
    "&= \\frac{2}{n^2(2m+1)} \\left( \\frac{m^3}{3} + \\frac{m^2}{2} + \\frac{m}{6} \\right)\n",
    "\\end{align}\n",
    "$$\n",
    "\n",
    "where the formula for the sum of consecutive squares may be proved by induction on $m$:\n",
    "\n",
    "$$ \\sum_{k=1}^m k^2 = \\frac{m(m+1)(2m+1)}{6} $$\n",
    "\n",
    "The result holds for $m = 1$, as $1 = 1$, and if the result holds for $m$,\n",
    "\n",
    "$$ \\sum_{k=1}^{m+1} k^2 = (m+1)^2 + \\sum_{k=1}^m k^2 = (m+1)^2 + \\frac{m(m+1)(2m+1)}{6} = \\frac{(m+1)(m+2)(2m+3)}{6} $$\n",
    "\n",
    "showing our result."
   ]
  },
  {
   "cell_type": "markdown",
   "metadata": {},
   "source": [
    "**(b)**  The right hand side of the expression is $O(m^2 / n^2)$, so if $m = c \\sqrt{n}$ for some constant $c$, the expression overall is $O(1 / n)$, and so it tends to zero as $n$ tends to infinity."
   ]
  },
  {
   "cell_type": "markdown",
   "metadata": {},
   "source": [
    "**(c)** Equation (14.2.4) provides an estimate for the variance of the smoothed spectral density,\n",
    "\n",
    "$$ \\text{Var}\\left[ \\overline{S}(f) \\right] \\approx S^2(f) \\sum_{k=-m}^m W_m^2(k) \\tag{14.2.4} $$\n",
    "\n",
    "But for the Daniell window, $W_m(k) = 1 / (2m + 1)$ for these values of $k$, so the right-hand side becomes\n",
    "\n",
    "$$ S^2(f) \\sum_{k=-m}^m W_m^2(k) = \\frac{S^2(f)}{2m + 1} $$\n",
    "\n",
    "If $m = c \\sqrt{n}$, then this expression tends to 0 as $n \\rightarrow \\infty$."
   ]
  },
  {
   "cell_type": "markdown",
   "metadata": {},
   "source": [
    "**Exercise 14.4**.  Suppose that the distribution of $\\overline{S}(f)$ is to be approximated by a multiple of a chi-square variable with degrees of freedom $\\nu$, so that $\\overline{S}(f) \\approx c \\chi_\\nu^2$. Using the approximate variance of given in Equation (14.2.4) on page 355 and the fact that $\\overline{S}(f)$ is approximately unbiased, equate means and variances and find the values for $c$ and $\\nu$ (thus establishing Equation (14.4.2) on page 356)."
   ]
  },
  {
   "cell_type": "markdown",
   "metadata": {},
   "source": [
    "**Solution**.  Using the given approximation, we have\n",
    "\n",
    "$$ \\text{E}\\left[\\overline{S}(f)\\right] \\approx \\text{E}\\left[c \\chi_\\nu^2\\right] = c \\nu $$\n",
    "\n",
    "but the approximate unbiasedness also tells us that $\\text{E}\\left[\\overline{S}(f)\\right] \\approx S(f)$, so we have \n",
    "\n",
    "$$ c \\nu \\approx S(f) $$\n",
    "\n",
    "Using the given approximation, we have\n",
    "\n",
    "$$ \\text{Var}\\left[ \\overline{S}(f) \\right] \\approx \\text{Var}\\left[c \\chi_\\nu^2 \\right] = 2 c^2 \\nu $$\n",
    "\n",
    "but the approximation from Equation (14.2.4) also tells us that\n",
    "\n",
    "$$ \\text{Var}\\left[ \\overline{S}(f) \\right] \\approx S^2(f) \\sum_{k=-m}^m W_m^2(k) $$\n",
    "\n",
    "so we have\n",
    "\n",
    "$$ c^2 \\nu \\approx \\frac{S^2(f)}{2} \\sum_{k=-m}^m W_m^2(k) $$\n",
    "\n",
    "From the approximations for $c\\nu$ and $c^2 \\nu$ we get\n",
    "\n",
    "$$\n",
    "c \\approx \\frac{S(f)}{2} \\sum_{k=-m}^m W_m^2(k) \n",
    "\\quad \\text{and} \\quad\n",
    "\\nu \\approx \\frac{2}{\\sum_{k=-m}^m W_m^2(k)}\n",
    "$$\n",
    "\n",
    "establishing the approximation for $\\nu$ from Equation (14.4.2)."
   ]
  },
  {
   "cell_type": "markdown",
   "metadata": {},
   "source": [
    "**Exercise 14.5**.  Construct a time series of length $n = 48$ according to the expression \n",
    "\n",
    "$$ Y_t = \\sin \\left[ 2 \\pi (0.28) t \\right] $$\n",
    "\n",
    "Display the periodogram of the series and explain its appearance."
   ]
  },
  {
   "cell_type": "markdown",
   "metadata": {},
   "source": [
    "**Solution**."
   ]
  },
  {
   "cell_type": "code",
   "execution_count": 9,
   "metadata": {},
   "outputs": [],
   "source": [
    "source('periodogram.R')"
   ]
  },
  {
   "cell_type": "code",
   "execution_count": 10,
   "metadata": {},
   "outputs": [
    {
     "data": {
      "image/png": "[encoded data removed]",
      "text/plain": [
       "plot without title"
      ]
     },
     "metadata": {
      "image/png": {
       "height": 240,
       "width": 840
      }
     },
     "output_type": "display_data"
    }
   ],
   "source": [
    "n = 48\n",
    "t = 1:n\n",
    "Y = sin(2 * pi * 0.28 * t)\n",
    "\n",
    "p = periodogram(Y, plot=F)\n",
    "f = p$freq\n",
    "Pxx = p$spec\n",
    "\n",
    "ggplot() + \n",
    "  geom_hline(yintercept=0, color='black') +\n",
    "  geom_point(aes(x=f, y=Pxx), color='blue') +\n",
    "  geom_segment(aes(x=f, y=Pxx, xend=f, yend=0), color='blue') +\n",
    "  xlab('Frequency') + ylab('Spectral Density') +\n",
    "  theme_bw() + theme(text = element_text(size=16))"
   ]
  },
  {
   "cell_type": "markdown",
   "metadata": {},
   "source": [
    "Rather than displaying a single peak, the frequencies are smoothed around Fourier frequencies near 0.28.  This occurs as the series of sines as defined with phase $2 \\pi \\cdot 0.28$ is no longer orthogonal to the series of cosines and sines with phases corresponding to the Fourier frequencies."
   ]
  },
  {
   "cell_type": "markdown",
   "metadata": {},
   "source": [
    "**Exercise 14.6**.  Estimate the spectrum of the Los Angeles annual rainfall time series. The data are in the file named `larain`. Because of the skewness in the series, use the logarithms of the raw rainfall values. The square root of the series length suggests a value for the *span* of about 11. Use the modified Daniell spectral window, and be sure to set the vertical limits of the plot so that you can see the whole confidence interval guide. Comment on the estimated spectrum."
   ]
  },
  {
   "cell_type": "markdown",
   "metadata": {},
   "source": [
    "**Solution**."
   ]
  },
  {
   "cell_type": "code",
   "execution_count": 11,
   "metadata": {},
   "outputs": [],
   "source": [
    "Y = log(fread('../data/larain.dat')[['larain']])"
   ]
  },
  {
   "cell_type": "code",
   "execution_count": 12,
   "metadata": {},
   "outputs": [
    {
     "data": {
      "image/png": "[encoded data removed]",
      "text/plain": [
       "Plot with title \"Series: x\n",
       "Smoothed Periodogram\""
      ]
     },
     "metadata": {
      "image/png": {
       "height": 240,
       "width": 840
      }
     },
     "output_type": "display_data"
    }
   ],
   "source": [
    "# Using same methodology as in Exhibit 14.21, with taper of 0.1, \n",
    "# and stats::spec default kernel as a modified.daniell\n",
    "\n",
    "s = spec(Y, spans=c(11), taper=.1, ylim=c(0.08, 0.5), sub='', xlab='Frequency', ylab='Log(Spectrum)')"
   ]
  },
  {
   "cell_type": "markdown",
   "metadata": {},
   "source": [
    "**Exercise 14.7**. The file named `spots1` contains annual sunspot numbers for 306 years from 1700 through 2005.\n",
    "\n",
    "**(a)** Display the time series plot of these data. Does stationarity seem reasonable for this series?\n",
    "\n",
    "**(b)** Estimate the spectrum using a modified Daniell spectral window convoluted with itself and a *span* of 3 for both. Interpret the plot.\n",
    "\n",
    "**(c)** Estimate the spectrum using an AR model with the order chosen to minimize the AIC. Interpret the plot. What order was selected?\n",
    "\n",
    "**(d)** Overlay the estimates obtained in parts (b) and (c) above onto one plot. Do they agree to a reasonable degree?"
   ]
  },
  {
   "cell_type": "markdown",
   "metadata": {},
   "source": [
    "**Exercise 14.8**. Consider the time series of average monthly temperatures in Dubuque, Iowa. The data are in the file named `tempdub` and cover from January 1964 to December 1975 for an $n$ of 144.\n",
    "\n",
    "**(a)** Estimate the spectrum using a variety of span values for the modified Daniell spectral window.\n",
    "\n",
    "**(b)** In your opinion, which of the estimates in part (a) best represents the spectrum of the process? Be sure to use bandwidth considerations and confidence limits to back up your argument."
   ]
  },
  {
   "cell_type": "markdown",
   "metadata": {},
   "source": [
    "**Exercise 14.9**. An EEG (electroencephalogram) time series is given in the data file named `eeg`. An electroencephalogram is a noninvasive test used to detect and record the electrical activity generated in the brain. These data were measured at a sampling rate of 256 per second and came from a patient suffering a seizure. The total record length is $n = \\text{13,000}$ -- or slightly less than one minute.\n",
    "\n",
    "**(a)** Display the time series plot and decide if stationarity seems reasonable.\n",
    "\n",
    "**(b)** Estimate the spectrum using a modified Daniell spectral window convolved with itself and a *span* of 51 for both components of the convolution. Interpret the plot.\n",
    "\n",
    "**(c)** Estimate the spectrum using an AR model with the order chosen to minimize the AIC. Interpret the plot. What order was selected?\n",
    "\n",
    "**(d)** Overlay the estimates obtained in parts (b) and (c) above onto one plot. Do they agree to a reasonable degree?"
   ]
  },
  {
   "cell_type": "markdown",
   "metadata": {},
   "source": [
    "**Exercise 14.10**. The file named `electricity` contains monthly U. S. electricity production values from January 1994 to December 2005. A time series plot of the logarithms of these values is shown in Exhibit 11.14 on page 264. Since there is an upward trend and increasing variability at higher levels in these data, use the first difference of the logarithms for the remaining analysis.\n",
    "\n",
    "**(a)** Construct a time series plot of the first difference of the logarithms of the electricity values. Does a stationary model seem warranted at this point?\n",
    "\n",
    "**(b)** Display the smoothed spectrum of the first difference of the logarithms using a modified Daniell spectral window and *span* values of 25, 13, and 7. Interpret the results.\n",
    "\n",
    "**(c)** Now use a spectral window that is a convolution of two modified Daniell windows each with *span* $= 3$. Also use a 10% taper. Interpret the results.\n",
    "\n",
    "**(d)** Estimate the spectrum using an AR model with the order chosen to minimize the AIC. Interpret the plot. What order was selected?\n",
    "\n",
    "**(e)** Overlay the estimates obtained in parts (c) and (d) above onto one plot. Do they agree to a reasonable degree?"
   ]
  }
 ],
 "metadata": {
  "kernelspec": {
   "display_name": "R",
   "language": "R",
   "name": "ir"
  },
  "language_info": {
   "codemirror_mode": "r",
   "file_extension": ".r",
   "mimetype": "text/x-r-source",
   "name": "R",
   "pygments_lexer": "r",
   "version": "4.0.0"
  }
 },
 "nbformat": 4,
 "nbformat_minor": 2
}
