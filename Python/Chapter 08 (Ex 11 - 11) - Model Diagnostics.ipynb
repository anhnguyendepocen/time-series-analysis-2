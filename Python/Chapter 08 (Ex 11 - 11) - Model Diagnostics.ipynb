{
 "cells": [
  {
   "cell_type": "markdown",
   "metadata": {},
   "source": [
    "**Exercise 8.11**  Exhibit 6.31 on page 139, suggested specifying either an AR(1) or possibly an AR(4) model for the difference of the logarithms of the oil price series. (The filename is `oil.price`).\n",
    "\n",
    "**(a)** Estimate both of these models using maximum likelihood and compare the results using the diagnostic tests considered in this chapter.\n",
    "\n",
    "**(b)** Exhibit 6.32 on page 140, suggested specifying an MA(1) model for the difference of the logs. Estimate this model by maximum likelihood and perform the diagnostic tests considered in this chapter.\n",
    "\n",
    "**(c)** Which of the three models AR(1), AR(4), or MA(1) would you prefer given the results of parts (a) and (b)?"
   ]
  },
  {
   "cell_type": "markdown",
   "metadata": {},
   "source": [
    "**Solution**."
   ]
  },
  {
   "cell_type": "code",
   "execution_count": 1,
   "metadata": {},
   "outputs": [],
   "source": [
    "import numpy as np\n",
    "import pandas as pd\n",
    "from statsmodels.tsa.arima_process import ArmaProcess\n",
    "from statsmodels.tsa.arima_model import ARIMA\n",
    "from statsmodels.tsa.stattools import acf, pacf\n",
    "from scipy.stats import chi2, shapiro\n",
    "\n",
    "import matplotlib.pyplot as plt\n",
    "%matplotlib inline"
   ]
  },
  {
   "cell_type": "code",
   "execution_count": 2,
   "metadata": {},
   "outputs": [],
   "source": [
    "def plot_acf_with_bounds(acf, lower, upper, title='ACF'):\n",
    "    max_k = len(acf)\n",
    "    k = range(1, len(acf)+1)\n",
    "    \n",
    "    plt.figure(figsize=(12, 4))\n",
    "    plt.fill_between(k, lower, upper, color='C0', alpha=0.2)\n",
    "\n",
    "    plt.plot(k, acf, marker='o', linestyle='none', color='C0')\n",
    "    plt.plot([1, max_k], [0, 0], ls=':', color='C0')\n",
    "    for i_k, i_rho in zip(k, acf):\n",
    "        plt.plot([i_k, i_k], [0, i_rho], color='C0')    \n",
    "    \n",
    "    plt.xlabel('Lag')\n",
    "    plt.ylabel(r'$\\rho_k$')\n",
    "    plt.title(title)\n",
    "    plt.show()\n",
    "    \n",
    "def plot_residuals_acf(resid, title, nlags=15):\n",
    "    r = acf(resid, fft=False, nlags=nlags)[1:]\n",
    "    se = 1 / np.sqrt(len(resid))\n",
    "    plot_acf_with_bounds(r, -2*se, 2*se, title=title)"
   ]
  },
  {
   "cell_type": "code",
   "execution_count": 3,
   "metadata": {},
   "outputs": [],
   "source": [
    "def ljung_box_test(r, n, k_ar=0, k_ma=0):\n",
    "    nlags = len(r)\n",
    "    denominators = np.arange(n-1, n-1-nlags, step=-1)\n",
    "    Qstar = n * (n-2) * np.sum(r**2 / denominators)\n",
    "    df = nlags - k_ar - k_ma\n",
    "    p_value = 1 - chi2.cdf(Qstar, df=df)\n",
    "    \n",
    "    return {\n",
    "        'X-squared': Qstar,\n",
    "        'df': df,\n",
    "        'p-value': p_value\n",
    "    }"
   ]
  },
  {
   "cell_type": "code",
   "execution_count": 4,
   "metadata": {},
   "outputs": [],
   "source": [
    "Y = pd.read_csv('../data/oil.price.dat')['oil.price']\n",
    "Y = np.diff(np.log(Y))"
   ]
  },
  {
   "cell_type": "code",
   "execution_count": 5,
   "metadata": {},
   "outputs": [
    {
     "data": {
      "text/html": [
       "<table class=\"simpletable\">\n",
       "<caption>ARMA Model Results</caption>\n",
       "<tr>\n",
       "  <th>Dep. Variable:</th>         <td>y</td>        <th>  No. Observations:  </th>    <td>240</td>  \n",
       "</tr>\n",
       "<tr>\n",
       "  <th>Model:</th>            <td>ARMA(1, 0)</td>    <th>  Log Likelihood     </th>  <td>258.717</td>\n",
       "</tr>\n",
       "<tr>\n",
       "  <th>Method:</th>               <td>mle</td>       <th>  S.D. of innovations</th>   <td>0.082</td> \n",
       "</tr>\n",
       "<tr>\n",
       "  <th>Date:</th>          <td>Tue, 12 May 2020</td> <th>  AIC                </th> <td>-511.434</td>\n",
       "</tr>\n",
       "<tr>\n",
       "  <th>Time:</th>              <td>14:13:19</td>     <th>  BIC                </th> <td>-500.992</td>\n",
       "</tr>\n",
       "<tr>\n",
       "  <th>Sample:</th>                <td>0</td>        <th>  HQIC               </th> <td>-507.227</td>\n",
       "</tr>\n",
       "<tr>\n",
       "  <th></th>                       <td> </td>        <th>                     </th>     <td> </td>   \n",
       "</tr>\n",
       "</table>\n",
       "<table class=\"simpletable\">\n",
       "<tr>\n",
       "     <td></td>        <th>coef</th>     <th>std err</th>      <th>z</th>      <th>P>|z|</th>  <th>[0.025</th>    <th>0.975]</th>  \n",
       "</tr>\n",
       "<tr>\n",
       "  <th>const</th>   <td>    0.0040</td> <td>    0.007</td> <td>    0.575</td> <td> 0.565</td> <td>   -0.010</td> <td>    0.018</td>\n",
       "</tr>\n",
       "<tr>\n",
       "  <th>ar.L1.y</th> <td>    0.2337</td> <td>    0.066</td> <td>    3.536</td> <td> 0.000</td> <td>    0.104</td> <td>    0.363</td>\n",
       "</tr>\n",
       "</table>\n",
       "<table class=\"simpletable\">\n",
       "<caption>Roots</caption>\n",
       "<tr>\n",
       "    <td></td>   <th>            Real</th>  <th>         Imaginary</th> <th>         Modulus</th>  <th>        Frequency</th>\n",
       "</tr>\n",
       "<tr>\n",
       "  <th>AR.1</th> <td>           4.2788</td> <td>          +0.0000j</td> <td>           4.2788</td> <td>           0.0000</td>\n",
       "</tr>\n",
       "</table>"
      ],
      "text/plain": [
       "<class 'statsmodels.iolib.summary.Summary'>\n",
       "\"\"\"\n",
       "                              ARMA Model Results                              \n",
       "==============================================================================\n",
       "Dep. Variable:                      y   No. Observations:                  240\n",
       "Model:                     ARMA(1, 0)   Log Likelihood                 258.717\n",
       "Method:                           mle   S.D. of innovations              0.082\n",
       "Date:                Tue, 12 May 2020   AIC                           -511.434\n",
       "Time:                        14:13:19   BIC                           -500.992\n",
       "Sample:                             0   HQIC                          -507.227\n",
       "                                                                              \n",
       "==============================================================================\n",
       "                 coef    std err          z      P>|z|      [0.025      0.975]\n",
       "------------------------------------------------------------------------------\n",
       "const          0.0040      0.007      0.575      0.565      -0.010       0.018\n",
       "ar.L1.y        0.2337      0.066      3.536      0.000       0.104       0.363\n",
       "                                    Roots                                    \n",
       "=============================================================================\n",
       "                  Real          Imaginary           Modulus         Frequency\n",
       "-----------------------------------------------------------------------------\n",
       "AR.1            4.2788           +0.0000j            4.2788            0.0000\n",
       "-----------------------------------------------------------------------------\n",
       "\"\"\""
      ]
     },
     "execution_count": 5,
     "metadata": {},
     "output_type": "execute_result"
    }
   ],
   "source": [
    "model_ar1 = ARIMA(Y, order=(1, 0, 0)).fit(method='mle')\n",
    "model_ar1.summary()"
   ]
  },
  {
   "cell_type": "code",
   "execution_count": 6,
   "metadata": {},
   "outputs": [
    {
     "data": {
      "text/html": [
       "<table class=\"simpletable\">\n",
       "<caption>ARMA Model Results</caption>\n",
       "<tr>\n",
       "  <th>Dep. Variable:</th>         <td>y</td>        <th>  No. Observations:  </th>    <td>240</td>  \n",
       "</tr>\n",
       "<tr>\n",
       "  <th>Model:</th>            <td>ARMA(4, 0)</td>    <th>  Log Likelihood     </th>  <td>262.161</td>\n",
       "</tr>\n",
       "<tr>\n",
       "  <th>Method:</th>               <td>mle</td>       <th>  S.D. of innovations</th>   <td>0.081</td> \n",
       "</tr>\n",
       "<tr>\n",
       "  <th>Date:</th>          <td>Tue, 12 May 2020</td> <th>  AIC                </th> <td>-512.321</td>\n",
       "</tr>\n",
       "<tr>\n",
       "  <th>Time:</th>              <td>14:13:19</td>     <th>  BIC                </th> <td>-491.438</td>\n",
       "</tr>\n",
       "<tr>\n",
       "  <th>Sample:</th>                <td>0</td>        <th>  HQIC               </th> <td>-503.907</td>\n",
       "</tr>\n",
       "<tr>\n",
       "  <th></th>                       <td> </td>        <th>                     </th>     <td> </td>   \n",
       "</tr>\n",
       "</table>\n",
       "<table class=\"simpletable\">\n",
       "<tr>\n",
       "     <td></td>        <th>coef</th>     <th>std err</th>      <th>z</th>      <th>P>|z|</th>  <th>[0.025</th>    <th>0.975]</th>  \n",
       "</tr>\n",
       "<tr>\n",
       "  <th>const</th>   <td>    0.0045</td> <td>    0.005</td> <td>    0.837</td> <td> 0.403</td> <td>   -0.006</td> <td>    0.015</td>\n",
       "</tr>\n",
       "<tr>\n",
       "  <th>ar.L1.y</th> <td>    0.2638</td> <td>    0.067</td> <td>    3.942</td> <td> 0.000</td> <td>    0.133</td> <td>    0.395</td>\n",
       "</tr>\n",
       "<tr>\n",
       "  <th>ar.L2.y</th> <td>   -0.1583</td> <td>    0.069</td> <td>   -2.292</td> <td> 0.022</td> <td>   -0.294</td> <td>   -0.023</td>\n",
       "</tr>\n",
       "<tr>\n",
       "  <th>ar.L3.y</th> <td>    0.0203</td> <td>    0.069</td> <td>    0.293</td> <td> 0.770</td> <td>   -0.115</td> <td>    0.156</td>\n",
       "</tr>\n",
       "<tr>\n",
       "  <th>ar.L4.y</th> <td>   -0.1008</td> <td>    0.068</td> <td>   -1.480</td> <td> 0.139</td> <td>   -0.234</td> <td>    0.033</td>\n",
       "</tr>\n",
       "</table>\n",
       "<table class=\"simpletable\">\n",
       "<caption>Roots</caption>\n",
       "<tr>\n",
       "    <td></td>   <th>            Real</th>  <th>         Imaginary</th> <th>         Modulus</th>  <th>        Frequency</th>\n",
       "</tr>\n",
       "<tr>\n",
       "  <th>AR.1</th> <td>           1.1461</td> <td>          -1.1905j</td> <td>           1.6525</td> <td>          -0.1280</td>\n",
       "</tr>\n",
       "<tr>\n",
       "  <th>AR.2</th> <td>           1.1461</td> <td>          +1.1905j</td> <td>           1.6525</td> <td>           0.1280</td>\n",
       "</tr>\n",
       "<tr>\n",
       "  <th>AR.3</th> <td>          -1.0456</td> <td>          -1.5938j</td> <td>           1.9061</td> <td>          -0.3424</td>\n",
       "</tr>\n",
       "<tr>\n",
       "  <th>AR.4</th> <td>          -1.0456</td> <td>          +1.5938j</td> <td>           1.9061</td> <td>           0.3424</td>\n",
       "</tr>\n",
       "</table>"
      ],
      "text/plain": [
       "<class 'statsmodels.iolib.summary.Summary'>\n",
       "\"\"\"\n",
       "                              ARMA Model Results                              \n",
       "==============================================================================\n",
       "Dep. Variable:                      y   No. Observations:                  240\n",
       "Model:                     ARMA(4, 0)   Log Likelihood                 262.161\n",
       "Method:                           mle   S.D. of innovations              0.081\n",
       "Date:                Tue, 12 May 2020   AIC                           -512.321\n",
       "Time:                        14:13:19   BIC                           -491.438\n",
       "Sample:                             0   HQIC                          -503.907\n",
       "                                                                              \n",
       "==============================================================================\n",
       "                 coef    std err          z      P>|z|      [0.025      0.975]\n",
       "------------------------------------------------------------------------------\n",
       "const          0.0045      0.005      0.837      0.403      -0.006       0.015\n",
       "ar.L1.y        0.2638      0.067      3.942      0.000       0.133       0.395\n",
       "ar.L2.y       -0.1583      0.069     -2.292      0.022      -0.294      -0.023\n",
       "ar.L3.y        0.0203      0.069      0.293      0.770      -0.115       0.156\n",
       "ar.L4.y       -0.1008      0.068     -1.480      0.139      -0.234       0.033\n",
       "                                    Roots                                    \n",
       "=============================================================================\n",
       "                  Real          Imaginary           Modulus         Frequency\n",
       "-----------------------------------------------------------------------------\n",
       "AR.1            1.1461           -1.1905j            1.6525           -0.1280\n",
       "AR.2            1.1461           +1.1905j            1.6525            0.1280\n",
       "AR.3           -1.0456           -1.5938j            1.9061           -0.3424\n",
       "AR.4           -1.0456           +1.5938j            1.9061            0.3424\n",
       "-----------------------------------------------------------------------------\n",
       "\"\"\""
      ]
     },
     "execution_count": 6,
     "metadata": {},
     "output_type": "execute_result"
    }
   ],
   "source": [
    "model_ar4 = ARIMA(Y, order=(4, 0, 0)).fit(method='mle')\n",
    "model_ar4.summary()"
   ]
  },
  {
   "cell_type": "markdown",
   "metadata": {},
   "source": [
    "AR(4) presents a lower AIC, but the coefficients for $\\phi_3$ and $\\phi_4$ are not significant in the AR(4) model.  Let's try an AR(2) model:"
   ]
  },
  {
   "cell_type": "code",
   "execution_count": 7,
   "metadata": {},
   "outputs": [
    {
     "data": {
      "text/html": [
       "<table class=\"simpletable\">\n",
       "<caption>ARMA Model Results</caption>\n",
       "<tr>\n",
       "  <th>Dep. Variable:</th>         <td>y</td>        <th>  No. Observations:  </th>    <td>240</td>  \n",
       "</tr>\n",
       "<tr>\n",
       "  <th>Model:</th>            <td>ARMA(2, 0)</td>    <th>  Log Likelihood     </th>  <td>261.071</td>\n",
       "</tr>\n",
       "<tr>\n",
       "  <th>Method:</th>               <td>mle</td>       <th>  S.D. of innovations</th>   <td>0.082</td> \n",
       "</tr>\n",
       "<tr>\n",
       "  <th>Date:</th>          <td>Tue, 12 May 2020</td> <th>  AIC                </th> <td>-514.142</td>\n",
       "</tr>\n",
       "<tr>\n",
       "  <th>Time:</th>              <td>14:13:19</td>     <th>  BIC                </th> <td>-500.220</td>\n",
       "</tr>\n",
       "<tr>\n",
       "  <th>Sample:</th>                <td>0</td>        <th>  HQIC               </th> <td>-508.532</td>\n",
       "</tr>\n",
       "<tr>\n",
       "  <th></th>                       <td> </td>        <th>                     </th>     <td> </td>   \n",
       "</tr>\n",
       "</table>\n",
       "<table class=\"simpletable\">\n",
       "<tr>\n",
       "     <td></td>        <th>coef</th>     <th>std err</th>      <th>z</th>      <th>P>|z|</th>  <th>[0.025</th>    <th>0.975]</th>  \n",
       "</tr>\n",
       "<tr>\n",
       "  <th>const</th>   <td>    0.0043</td> <td>    0.006</td> <td>    0.731</td> <td> 0.465</td> <td>   -0.007</td> <td>    0.016</td>\n",
       "</tr>\n",
       "<tr>\n",
       "  <th>ar.L1.y</th> <td>    0.2603</td> <td>    0.067</td> <td>    3.908</td> <td> 0.000</td> <td>    0.130</td> <td>    0.391</td>\n",
       "</tr>\n",
       "<tr>\n",
       "  <th>ar.L2.y</th> <td>   -0.1469</td> <td>    0.067</td> <td>   -2.181</td> <td> 0.029</td> <td>   -0.279</td> <td>   -0.015</td>\n",
       "</tr>\n",
       "</table>\n",
       "<table class=\"simpletable\">\n",
       "<caption>Roots</caption>\n",
       "<tr>\n",
       "    <td></td>   <th>            Real</th>  <th>         Imaginary</th> <th>         Modulus</th>  <th>        Frequency</th>\n",
       "</tr>\n",
       "<tr>\n",
       "  <th>AR.1</th> <td>           0.8858</td> <td>          -2.4537j</td> <td>           2.6087</td> <td>          -0.1949</td>\n",
       "</tr>\n",
       "<tr>\n",
       "  <th>AR.2</th> <td>           0.8858</td> <td>          +2.4537j</td> <td>           2.6087</td> <td>           0.1949</td>\n",
       "</tr>\n",
       "</table>"
      ],
      "text/plain": [
       "<class 'statsmodels.iolib.summary.Summary'>\n",
       "\"\"\"\n",
       "                              ARMA Model Results                              \n",
       "==============================================================================\n",
       "Dep. Variable:                      y   No. Observations:                  240\n",
       "Model:                     ARMA(2, 0)   Log Likelihood                 261.071\n",
       "Method:                           mle   S.D. of innovations              0.082\n",
       "Date:                Tue, 12 May 2020   AIC                           -514.142\n",
       "Time:                        14:13:19   BIC                           -500.220\n",
       "Sample:                             0   HQIC                          -508.532\n",
       "                                                                              \n",
       "==============================================================================\n",
       "                 coef    std err          z      P>|z|      [0.025      0.975]\n",
       "------------------------------------------------------------------------------\n",
       "const          0.0043      0.006      0.731      0.465      -0.007       0.016\n",
       "ar.L1.y        0.2603      0.067      3.908      0.000       0.130       0.391\n",
       "ar.L2.y       -0.1469      0.067     -2.181      0.029      -0.279      -0.015\n",
       "                                    Roots                                    \n",
       "=============================================================================\n",
       "                  Real          Imaginary           Modulus         Frequency\n",
       "-----------------------------------------------------------------------------\n",
       "AR.1            0.8858           -2.4537j            2.6087           -0.1949\n",
       "AR.2            0.8858           +2.4537j            2.6087            0.1949\n",
       "-----------------------------------------------------------------------------\n",
       "\"\"\""
      ]
     },
     "execution_count": 7,
     "metadata": {},
     "output_type": "execute_result"
    }
   ],
   "source": [
    "model_ar2 = ARIMA(Y, order=(2, 0, 0)).fit(method='mle')\n",
    "model_ar2.summary()"
   ]
  },
  {
   "cell_type": "markdown",
   "metadata": {},
   "source": [
    "Let's also look at the MA(1) model:"
   ]
  },
  {
   "cell_type": "code",
   "execution_count": 8,
   "metadata": {},
   "outputs": [
    {
     "data": {
      "text/html": [
       "<table class=\"simpletable\">\n",
       "<caption>ARMA Model Results</caption>\n",
       "<tr>\n",
       "  <th>Dep. Variable:</th>         <td>y</td>        <th>  No. Observations:  </th>    <td>240</td>  \n",
       "</tr>\n",
       "<tr>\n",
       "  <th>Model:</th>            <td>ARMA(0, 1)</td>    <th>  Log Likelihood     </th>  <td>260.468</td>\n",
       "</tr>\n",
       "<tr>\n",
       "  <th>Method:</th>               <td>mle</td>       <th>  S.D. of innovations</th>   <td>0.082</td> \n",
       "</tr>\n",
       "<tr>\n",
       "  <th>Date:</th>          <td>Tue, 12 May 2020</td> <th>  AIC                </th> <td>-514.936</td>\n",
       "</tr>\n",
       "<tr>\n",
       "  <th>Time:</th>              <td>14:13:19</td>     <th>  BIC                </th> <td>-504.494</td>\n",
       "</tr>\n",
       "<tr>\n",
       "  <th>Sample:</th>                <td>0</td>        <th>  HQIC               </th> <td>-510.729</td>\n",
       "</tr>\n",
       "<tr>\n",
       "  <th></th>                       <td> </td>        <th>                     </th>     <td> </td>   \n",
       "</tr>\n",
       "</table>\n",
       "<table class=\"simpletable\">\n",
       "<tr>\n",
       "     <td></td>        <th>coef</th>     <th>std err</th>      <th>z</th>      <th>P>|z|</th>  <th>[0.025</th>    <th>0.975]</th>  \n",
       "</tr>\n",
       "<tr>\n",
       "  <th>const</th>   <td>    0.0041</td> <td>    0.007</td> <td>    0.595</td> <td> 0.552</td> <td>   -0.009</td> <td>    0.017</td>\n",
       "</tr>\n",
       "<tr>\n",
       "  <th>ma.L1.y</th> <td>    0.2939</td> <td>    0.070</td> <td>    4.226</td> <td> 0.000</td> <td>    0.158</td> <td>    0.430</td>\n",
       "</tr>\n",
       "</table>\n",
       "<table class=\"simpletable\">\n",
       "<caption>Roots</caption>\n",
       "<tr>\n",
       "    <td></td>   <th>            Real</th>  <th>         Imaginary</th> <th>         Modulus</th>  <th>        Frequency</th>\n",
       "</tr>\n",
       "<tr>\n",
       "  <th>MA.1</th> <td>          -3.4025</td> <td>          +0.0000j</td> <td>           3.4025</td> <td>           0.5000</td>\n",
       "</tr>\n",
       "</table>"
      ],
      "text/plain": [
       "<class 'statsmodels.iolib.summary.Summary'>\n",
       "\"\"\"\n",
       "                              ARMA Model Results                              \n",
       "==============================================================================\n",
       "Dep. Variable:                      y   No. Observations:                  240\n",
       "Model:                     ARMA(0, 1)   Log Likelihood                 260.468\n",
       "Method:                           mle   S.D. of innovations              0.082\n",
       "Date:                Tue, 12 May 2020   AIC                           -514.936\n",
       "Time:                        14:13:19   BIC                           -504.494\n",
       "Sample:                             0   HQIC                          -510.729\n",
       "                                                                              \n",
       "==============================================================================\n",
       "                 coef    std err          z      P>|z|      [0.025      0.975]\n",
       "------------------------------------------------------------------------------\n",
       "const          0.0041      0.007      0.595      0.552      -0.009       0.017\n",
       "ma.L1.y        0.2939      0.070      4.226      0.000       0.158       0.430\n",
       "                                    Roots                                    \n",
       "=============================================================================\n",
       "                  Real          Imaginary           Modulus         Frequency\n",
       "-----------------------------------------------------------------------------\n",
       "MA.1           -3.4025           +0.0000j            3.4025            0.5000\n",
       "-----------------------------------------------------------------------------\n",
       "\"\"\""
      ]
     },
     "execution_count": 8,
     "metadata": {},
     "output_type": "execute_result"
    }
   ],
   "source": [
    "model_ma1 = ARIMA(Y, order=(0, 0, 1)).fit(method='mle')\n",
    "model_ma1.summary()"
   ]
  },
  {
   "cell_type": "markdown",
   "metadata": {},
   "source": [
    "Coefficients are also significant, and this model presents the smallest AIC.\n",
    "\n",
    "Let's look at the residuals ACF for each model:"
   ]
  },
  {
   "cell_type": "code",
   "execution_count": 9,
   "metadata": {},
   "outputs": [
    {
     "data": {
      "image/png": "[encoded data removed]",
      "text/plain": [
       "<Figure size 864x288 with 1 Axes>"
      ]
     },
     "metadata": {
      "needs_background": "light"
     },
     "output_type": "display_data"
    },
    {
     "data": {
      "image/png": "[encoded data removed]",
      "text/plain": [
       "<Figure size 864x288 with 1 Axes>"
      ]
     },
     "metadata": {
      "needs_background": "light"
     },
     "output_type": "display_data"
    },
    {
     "data": {
      "image/png": "[encoded data removed]",
      "text/plain": [
       "<Figure size 864x288 with 1 Axes>"
      ]
     },
     "metadata": {
      "needs_background": "light"
     },
     "output_type": "display_data"
    },
    {
     "data": {
      "image/png": "[encoded data removed]",
      "text/plain": [
       "<Figure size 864x288 with 1 Axes>"
      ]
     },
     "metadata": {
      "needs_background": "light"
     },
     "output_type": "display_data"
    }
   ],
   "source": [
    "plot_residuals_acf(model_ar1.resid, 'AR(1) residuals ACF', nlags=25)\n",
    "plot_residuals_acf(model_ar2.resid, 'AR(2) residuals ACF', nlags=25)\n",
    "plot_residuals_acf(model_ar4.resid, 'AR(4) residuals ACF', nlags=25)\n",
    "plot_residuals_acf(model_ma1.resid, 'MA(1) residuals ACF', nlags=25)"
   ]
  },
  {
   "cell_type": "markdown",
   "metadata": {},
   "source": [
    "Residuals for the AR(1) model display significant autocorrelation at lag 2.  This is not the issue for all other models.  Residuals do appear to present significant autocorrelation at lags 13, 15, and 20 in all models."
   ]
  },
  {
   "cell_type": "code",
   "execution_count": 10,
   "metadata": {},
   "outputs": [
    {
     "name": "stdout",
     "output_type": "stream",
     "text": [
      "AR(1) {'X-squared': 12.226203136717597, 'df': 11, 'p-value': 0.3468827464001606}\n",
      "AR(2) {'X-squared': 8.655069443291948, 'df': 10, 'p-value': 0.5651213347208631}\n",
      "AR(4) {'X-squared': 5.527952129752027, 'df': 8, 'p-value': 0.6999412037710242}\n",
      "MA(1) {'X-squared': 9.267658459397873, 'df': 11, 'p-value': 0.5972011680510516}\n"
     ]
    }
   ],
   "source": [
    "models = [\n",
    "    {'name': 'AR(1)', 'model': model_ar1, 'k_ar': 1, 'k_ma': 0},\n",
    "    {'name': 'AR(2)', 'model': model_ar2, 'k_ar': 2, 'k_ma': 0},\n",
    "    {'name': 'AR(4)', 'model': model_ar4, 'k_ar': 4, 'k_ma': 0},\n",
    "    {'name': 'MA(1)', 'model': model_ma1, 'k_ar': 0, 'k_ma': 1},\n",
    "]\n",
    "\n",
    "for m in models:\n",
    "    res = ljung_box_test(r=acf(m['model'].resid, fft=False, nlags=12)[1:], n=len(Y), k_ar=m['k_ar'], k_ma=m['k_ma'])\n",
    "    print(m['name'], res)"
   ]
  },
  {
   "cell_type": "markdown",
   "metadata": {},
   "source": [
    "Residuals do not appear to collectively display too much autocorrelation in any of the models."
   ]
  },
  {
   "cell_type": "code",
   "execution_count": 11,
   "metadata": {},
   "outputs": [
    {
     "name": "stdout",
     "output_type": "stream",
     "text": [
      "AR(1) Shapiro-Wilk p-value:  1.2860200513387099e-05\n",
      "AR(2) Shapiro-Wilk p-value:  2.0121793568250723e-05\n",
      "AR(4) Shapiro-Wilk p-value:  2.3066428184392862e-05\n",
      "MA(1) Shapiro-Wilk p-value:  1.7934182324097492e-05\n"
     ]
    }
   ],
   "source": [
    "for m in models:\n",
    "    print(m['name'] + ' Shapiro-Wilk p-value: ', shapiro(m['model'].resid)[1])"
   ]
  },
  {
   "cell_type": "markdown",
   "metadata": {},
   "source": [
    "Shapiro-Wilk p-value rejects normality on residuals for all models, however -- indicating there are more patterns not captured."
   ]
  },
  {
   "cell_type": "markdown",
   "metadata": {},
   "source": [
    "Based on these results, we'd select the MA(1) model for the difference of log prices -- keeping in mind that more modeling may be needed to achieve residual normality."
   ]
  }
 ],
 "metadata": {
  "kernelspec": {
   "display_name": "Python 3",
   "language": "python",
   "name": "python3"
  },
  "language_info": {
   "codemirror_mode": {
    "name": "ipython",
    "version": 3
   },
   "file_extension": ".py",
   "mimetype": "text/x-python",
   "name": "python",
   "nbconvert_exporter": "python",
   "pygments_lexer": "ipython3",
   "version": "3.7.3"
  }
 },
 "nbformat": 4,
 "nbformat_minor": 2
}
