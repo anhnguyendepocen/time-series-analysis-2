{
 "cells": [
  {
   "cell_type": "markdown",
   "metadata": {},
   "source": [
    "**Exercise 11.11**.  Simulate 100 pairs of $(X_t, Y_t)$ from the model of Equation (11.3.1) on page 261 with $d = 3$, $β_0 = 0$, and $β_1 = 1$.  Use $\\sigma_X = 2$ and $\\sigma_e = 1$.  Display and interpret the sample CCF between these two series."
   ]
  },
  {
   "cell_type": "markdown",
   "metadata": {},
   "source": [
    "**Solution**.  The model of Equation (11.3.1) is\n",
    "\n",
    "$$ Y_t = \\beta_0 + \\beta_1 X_{t - d} + e_t $$\n",
    "\n",
    "where $\\{X_t\\}$ are independent, identically distributed random variables with variance $\\sigma_X$ and the errors $\\{ e_t \\}$ are also white noise with variance $\\sigma_e^2$ and are independent of the $X$'s."
   ]
  },
  {
   "cell_type": "code",
   "execution_count": 1,
   "metadata": {},
   "outputs": [],
   "source": [
    "import numpy as np\n",
    "\n",
    "import matplotlib.pyplot as plt\n",
    "%matplotlib inline"
   ]
  },
  {
   "cell_type": "code",
   "execution_count": 2,
   "metadata": {},
   "outputs": [],
   "source": [
    "np.random.seed(123456)\n",
    "\n",
    "n = 100\n",
    "sigma_e = 1\n",
    "sigma_X = 2\n",
    "beta_0 = 0\n",
    "beta_1 = 1\n",
    "d = 3\n",
    "\n",
    "X_t = np.random.normal(scale=sigma_X, size=n+d)\n",
    "e_t = np.random.normal(scale=sigma_e, size=n)\n",
    "\n",
    "Y_t = beta_0 + beta_1 * X_t[d:] + e_t"
   ]
  },
  {
   "cell_type": "code",
   "execution_count": 3,
   "metadata": {},
   "outputs": [],
   "source": [
    "%%capture\n",
    "%run plot_ccf.py"
   ]
  },
  {
   "cell_type": "code",
   "execution_count": 4,
   "metadata": {},
   "outputs": [
    {
     "data": {
      "image/png": "[encoded data removed]",
      "text/plain": [
       "<Figure size 864x576 with 1 Axes>"
      ]
     },
     "metadata": {
      "needs_background": "light"
     },
     "output_type": "display_data"
    }
   ],
   "source": [
    "plt.figure(figsize=(12, 8))\n",
    "plot_ccf(Y_t, X_t[:100], ax=plt.gca(), lags=16)\n",
    "plt.show()"
   ]
  },
  {
   "cell_type": "markdown",
   "metadata": {},
   "source": [
    "The most statistically significant cross-correlation occurs at lag -3.  This coincides with the theoretical analysis -- all cross-correlations should be zero, other than $\\rho_{-3}(X, Y) = 2 / \\sqrt{4 + 1} \\approx 0.894$."
   ]
  }
 ],
 "metadata": {
  "kernelspec": {
   "display_name": "Python 3",
   "language": "python",
   "name": "python3"
  },
  "language_info": {
   "codemirror_mode": {
    "name": "ipython",
    "version": 3
   },
   "file_extension": ".py",
   "mimetype": "text/x-python",
   "name": "python",
   "nbconvert_exporter": "python",
   "pygments_lexer": "ipython3",
   "version": "3.7.3"
  }
 },
 "nbformat": 4,
 "nbformat_minor": 2
}
