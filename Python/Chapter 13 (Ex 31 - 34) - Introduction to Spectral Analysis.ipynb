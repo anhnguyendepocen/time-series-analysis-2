{
 "cells": [
  {
   "cell_type": "markdown",
   "metadata": {},
   "source": [
    "**Exercise 13.31**. Suppose that $\\{Y_t\\}$ is a white noise process not necessarily normal. Use the orthogonality properties given in Appendix J to establish the following at the Fourier frequencies.\n",
    "\n",
    "**(a)** The sample spectral density is an unbiased estimator of the theoretical spectral density.\n",
    "\n",
    "**(b)** The variables $\\hat{A}_{f_1}$ and  $\\hat{B}_{f_2}$ are uncorrelated for any Fourier frequencies $f_1$, $f_2$.\n",
    "\n",
    "**(c)** If the Fourier frequencies $f_1 \\neq f_2$, the variables $\\hat{A}_{f_1}$ and  $\\hat{A}_{f_2}$ are uncorrelated."
   ]
  },
  {
   "cell_type": "markdown",
   "metadata": {},
   "source": [
    "**Solution**."
   ]
  },
  {
   "cell_type": "markdown",
   "metadata": {},
   "source": [
    "**(a)**  The sample spectral density is\n",
    "\n",
    "$$ \\hat{S}(f) = \\frac{n}{4}\\left(\\hat{A}_f^2 + \\hat{B}_f^2\\right) $$\n",
    "\n",
    "where\n",
    "\n",
    "$$\n",
    "\\hat{A}_f = \\frac{2}{n} \\sum_{t=1}^n Y_t \\cos (2 \\pi t f)\n",
    "\\quad \\text{and} \\quad\n",
    "\\hat{B}_f = \\frac{2}{n} \\sum_{t=1}^n Y_t \\sin (2 \\pi t f)\n",
    "$$\n",
    "\n",
    "Therefore,\n",
    "\n",
    "$$\n",
    "\\begin{align}\n",
    "\\text{E}[\\hat{S}(f)]& = \\frac{n}{4}  \\text{E}\\left[\\left( \\frac{2}{n} \\sum_{t=1}^n Y_t \\cos (2 \\pi t f) \\right)^2 + \\left( \\frac{2}{n} \\sum_{t=1}^n Y_t \\sin (2 \\pi t f) \\right)^2 \\right] \\\\\n",
    "&= \\frac{1}{n} \\text{E}\\left[ \\sum_{t=1}^n Y_t^2 + 2 \\sum_{i < j} Y_i Y_j \\cos (2 \\pi (i - j) f) \\right] \\\\\n",
    "&= \\frac{1}{n} \\sum_{t=1}^n \\text{E}[Y_t^2] +  2 \\sum_{i < j} \\text{E}[Y_i Y_j] \\cos (2 \\pi (i - j) f) \\\\\n",
    "&= \\gamma_0 +  2 \\sum_{k=1}^\\infty 0 \\cdot \\cos (2 \\pi k f) \\\\\n",
    "&= S(f)\n",
    "\\end{align}\n",
    "$$\n",
    "\n",
    "so the sample spectral density has an estimated value equal to the theoretical spectral density."
   ]
  },
  {
   "cell_type": "markdown",
   "metadata": {},
   "source": [
    "**(b)**  We have:\n",
    "\n",
    "$$ \n",
    "\\begin{align}\n",
    "\\text{Cov}\\left[\\hat{A}_{f_1}, \\hat{B}_{f_2}\\right] &= \\text{Cov}\\left[\\frac{2}{n} \\sum_{t=1}^n Y_t \\cos (2 \\pi t f_1),  \\frac{2}{n} \\sum_{t=1}^n Y_t \\sin (2 \\pi t f_2) \\right] \\\\\n",
    "&= \\frac{4}{n^2} \\sum_{t=1}^n \\text{Var}[Y_t] \\cos (2 \\pi t f_1) \\sin (2 \\pi t f_2) \\\\\n",
    "&= \\frac{4 \\gamma_0}{n^2} \\sum_{t=1}^n \\cos \\left(2 \\pi \\frac{j}{n} t\\right) \\sin \\left(2 \\pi \\frac{k}{n} t \\right) \\\\\n",
    "&= 0\n",
    "\\end{align}\n",
    "$$\n",
    "\n",
    "where we used the representation of the Fourier sequences $f_1 = j/n$, $f_2 = k/n$, and the orthogonality statement from Equation (13.J.3):\n",
    "\n",
    "$$ \\sum_{t=1}^n \\cos \\left(2 \\pi \\frac{j}{n} t\\right) \\sin \\left(2 \\pi \\frac{k}{n} t \\right) = 0 \\tag{13.J.3} $$"
   ]
  },
  {
   "cell_type": "markdown",
   "metadata": {},
   "source": [
    "**(c)**  We have:\n",
    "\n",
    "$$ \n",
    "\\begin{align}\n",
    "\\text{Cov}\\left[\\hat{A}_{f_1}, \\hat{A}_{f_2}\\right] &= \\text{Cov}\\left[\\frac{2}{n} \\sum_{t=1}^n Y_t \\cos (2 \\pi t f_1),  \\frac{2}{n} \\sum_{t=1}^n Y_t \\cos (2 \\pi t f_2) \\right] \\\\\n",
    "&= \\frac{4}{n^2} \\sum_{t=1}^n \\text{Var}[Y_t] \\cos (2 \\pi t f_1) \\cos (2 \\pi t f_2) \\\\\n",
    "&= \\frac{4 \\gamma_0}{n^2} \\sum_{t=1}^n \\cos \\left(2 \\pi \\frac{j}{n} t\\right) \\cos \\left(2 \\pi \\frac{k}{n} t \\right) \\\\\n",
    "&= 0\n",
    "\\end{align}\n",
    "$$\n",
    "\n",
    "where we used the representation of the Fourier sequences $f_1 = j/n$, $f_2 = k/n$, and the orthogonality statement from Equation (13.J.4):\n",
    "\n",
    "$$ \\sum_{t=1}^n \\cos \\left(2 \\pi \\frac{j}{n} t\\right) \\cos \\left(2 \\pi \\frac{k}{n} t \\right) = \\begin{cases}\n",
    "n/2 &\\text{for } j = k \\; (j \\neq 0, j \\neq n/2) \\\\\n",
    "n &\\text{for } j = k = 0 \\\\\n",
    "0 &\\text{for } j \\neq k\n",
    "\\end{cases} \\tag{13.J.4} $$"
   ]
  },
  {
   "cell_type": "markdown",
   "metadata": {},
   "source": [
    "**Exercise 13.32**. Carry out a simulation analysis similar to those reported in Exhibits 13.21, 13.22, 13.23, and 13.24. Use an AR(2) model with $\\phi_1 = 0.5$, $\\phi_2 = −0.8$, and $n = 48$. Replicate the series 1000 times.\n",
    "\n",
    "**(a)** Display the average sample spectral density by frequency and compare it with large sample theory.\n",
    "\n",
    "**(b)** Display the standard deviation of the sample spectral density by frequency and compare it with large sample theory.\n",
    "\n",
    "**(c)** Display the QQ plot of the appropriately scaled sample spectral density compared with large sample theory at several frequencies. Discuss your results."
   ]
  },
  {
   "cell_type": "markdown",
   "metadata": {},
   "source": [
    "**Exercise 13.33**. Carry out a simulation analysis similar to those reported in Exhibits 13.21, 13.22, 13.23, and 13.24. Use an AR(2) model with $\\phi_1 = -1$, $\\phi_2 = −0.75$, and $n = 96$. Replicate the series 1000 times.\n",
    "\n",
    "**(a)** Display the average sample spectral density by frequency and compare it with large sample theory.\n",
    "\n",
    "**(b)** Display the standard deviation of the sample spectral density by frequency and compare it with large sample theory.\n",
    "\n",
    "**(c)** Display the QQ plot of the appropriately scaled sample spectral density compared with large sample theory at several frequencies. Discuss your results."
   ]
  },
  {
   "cell_type": "markdown",
   "metadata": {},
   "source": [
    "**Exercise 13.34**.  Simulate a zero-mean, unit-variance, normal white noise time series of length $n = 1000$. Display the periodogram of the series, and comment on the results."
   ]
  }
 ],
 "metadata": {
  "kernelspec": {
   "display_name": "Python 3",
   "language": "python",
   "name": "python3"
  },
  "language_info": {
   "codemirror_mode": {
    "name": "ipython",
    "version": 3
   },
   "file_extension": ".py",
   "mimetype": "text/x-python",
   "name": "python",
   "nbconvert_exporter": "python",
   "pygments_lexer": "ipython3",
   "version": "3.7.3"
  }
 },
 "nbformat": 4,
 "nbformat_minor": 2
}
