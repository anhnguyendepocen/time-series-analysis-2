{
 "cells": [
  {
   "cell_type": "markdown",
   "metadata": {},
   "source": [
    "**Exercise 7.31**.  Simulate a time series of length $n = 48$ from an AR(1) model with $\\phi = 0.7$. Use that series as if it were real data.  Now compare the theoretical asymptotic distribution of the estimator of $\\phi$ with the distribution of the bootstrap estimator of $\\phi$."
   ]
  },
  {
   "cell_type": "markdown",
   "metadata": {},
   "source": [
    "**Solution**."
   ]
  },
  {
   "cell_type": "code",
   "execution_count": 1,
   "metadata": {},
   "outputs": [],
   "source": [
    "import numpy as np\n",
    "import pandas as pd\n",
    "from statsmodels.tsa.arima_process import ArmaProcess\n",
    "from statsmodels.tsa.arima_model import ARIMA\n",
    "from tqdm import tqdm_notebook\n",
    "import warnings\n",
    "\n",
    "import matplotlib.pyplot as plt\n",
    "%matplotlib inline"
   ]
  },
  {
   "cell_type": "code",
   "execution_count": 2,
   "metadata": {},
   "outputs": [],
   "source": [
    "def generate_arima(phi=[], d=0, theta=[], n=100, distrvs=None):\n",
    "    \"\"\"\n",
    "    Generates an ARIMA distribution with specified phi, d, and theta parameters,\n",
    "    using the optimally provided random function generator.\n",
    "    \"\"\"\n",
    "    \n",
    "    ar = np.r_[1, -np.array(phi)]\n",
    "    ma = np.r_[1, -np.array(theta)]\n",
    "    Y = ArmaProcess(ar, ma).generate_sample(nsample=n, distrvs=distrvs)\n",
    "    for i in range(d):\n",
    "        Y = np.cumsum(Y)\n",
    "    return Y"
   ]
  },
  {
   "cell_type": "markdown",
   "metadata": {},
   "source": [
    "**(a)**"
   ]
  },
  {
   "cell_type": "code",
   "execution_count": 3,
   "metadata": {},
   "outputs": [
    {
     "name": "stdout",
     "output_type": "stream",
     "text": [
      "                              ARMA Model Results                              \n",
      "==============================================================================\n",
      "Dep. Variable:                      y   No. Observations:                   48\n",
      "Model:                     ARMA(1, 0)   Log Likelihood                 -73.054\n",
      "Method:                           mle   S.D. of innovations              1.100\n",
      "Date:                Mon, 11 May 2020   AIC                            152.108\n",
      "Time:                        19:30:49   BIC                            157.721\n",
      "Sample:                             0   HQIC                           154.229\n",
      "                                                                              \n",
      "==============================================================================\n",
      "                 coef    std err          z      P>|z|      [0.025      0.975]\n",
      "------------------------------------------------------------------------------\n",
      "const          0.6383      0.542      1.178      0.239      -0.423       1.700\n",
      "ar.L1.y        0.7215      0.097      7.449      0.000       0.532       0.911\n",
      "                                    Roots                                    \n",
      "=============================================================================\n",
      "                  Real          Imaginary           Modulus         Frequency\n",
      "-----------------------------------------------------------------------------\n",
      "AR.1            1.3859           +0.0000j            1.3859            0.0000\n",
      "-----------------------------------------------------------------------------\n"
     ]
    }
   ],
   "source": [
    "np.random.seed(0)\n",
    "Y = generate_arima(phi=[0.7], n=48)\n",
    "fitted_model = ARIMA(Y, order=(1, 0, 0)).fit(method='mle')\n",
    "print(fitted_model.summary())"
   ]
  },
  {
   "cell_type": "code",
   "execution_count": 4,
   "metadata": {},
   "outputs": [
    {
     "data": {
      "application/vnd.jupyter.widget-view+json": {
       "model_id": "cb602569e58d43569b63c2c275017397",
       "version_major": 2,
       "version_minor": 0
      },
      "text/plain": [
       "HBox(children=(IntProgress(value=0, description='Estimate', max=10000, style=ProgressStyle(description_width='…"
      ]
     },
     "metadata": {},
     "output_type": "display_data"
    },
    {
     "name": "stdout",
     "output_type": "stream",
     "text": [
      "\n"
     ]
    }
   ],
   "source": [
    "B = 10000\n",
    "\n",
    "phi_hat = fitted_model.arparams\n",
    "estimates = np.empty(B)\n",
    "\n",
    "np.random.seed(1)\n",
    "n = len(Y)\n",
    "\n",
    "# Filter out MLE convergence warnings, \n",
    "# as in https://www.statsmodels.org/stable/examples/notebooks/generated/mixed_lm_example.html\n",
    "with warnings.catch_warnings():\n",
    "    warnings.filterwarnings(\"ignore\")\n",
    "    for i in tqdm_notebook(range(B), 'Estimate'):\n",
    "        Yb = generate_arima(phi=phi_hat, n=n)\n",
    "        estimates[i] = ARIMA(Yb, order=(1, 0, 0)).fit(method='mle').arparams[0]"
   ]
  },
  {
   "cell_type": "code",
   "execution_count": 5,
   "metadata": {},
   "outputs": [
    {
     "data": {
      "image/png": "[encoded data removed]",
      "text/plain": [
       "<Figure size 864x288 with 1 Axes>"
      ]
     },
     "metadata": {
      "needs_background": "light"
     },
     "output_type": "display_data"
    }
   ],
   "source": [
    "plt.figure(figsize=(12, 4))\n",
    "plt.hist(estimates, bins=100, edgecolor='black', color='lightgrey')\n",
    "plt.show()"
   ]
  },
  {
   "cell_type": "code",
   "execution_count": 6,
   "metadata": {},
   "outputs": [
    {
     "name": "stdout",
     "output_type": "stream",
     "text": [
      "Bootstrap estimate mean: 0.645\n",
      "Bootstrap estimate SE:\t 0.116\n",
      "5% percentile:\t\t 0.433\n",
      "95% percentile:\t\t 0.808\n"
     ]
    }
   ],
   "source": [
    "print('Bootstrap estimate mean: %.3f' % estimates.mean())\n",
    "print('Bootstrap estimate SE:\\t %.3f' % estimates.std())\n",
    "print('5%% percentile:\\t\\t %.3f' % (np.percentile(estimates, 5)))\n",
    "print('95%% percentile:\\t\\t %.3f' % (np.percentile(estimates, 95)))"
   ]
  },
  {
   "cell_type": "markdown",
   "metadata": {},
   "source": [
    "The bootstrap confidence standard error is 0.116, a bit over the ARMA fitted confidence of 0.097."
   ]
  },
  {
   "cell_type": "markdown",
   "metadata": {},
   "source": [
    "**Exercise 7.32**.  The industrial color property time series was fitted quite well by an AR(1) model.  However, the series is rather short, with $n = 35$. Compare the theoretical asymptotic distribution of the estimator of φ with the distribution of the bootstrap estimator of $\\phi$. The data are in the file named `color`."
   ]
  },
  {
   "cell_type": "markdown",
   "metadata": {},
   "source": [
    "**Solution**."
   ]
  },
  {
   "cell_type": "code",
   "execution_count": 7,
   "metadata": {},
   "outputs": [],
   "source": [
    "Y = pd.read_csv('../data/color.dat')[['color']]"
   ]
  },
  {
   "cell_type": "code",
   "execution_count": 8,
   "metadata": {},
   "outputs": [
    {
     "name": "stdout",
     "output_type": "stream",
     "text": [
      "                              ARMA Model Results                              \n",
      "==============================================================================\n",
      "Dep. Variable:                  color   No. Observations:                   35\n",
      "Model:                     ARMA(1, 0)   Log Likelihood                -106.074\n",
      "Method:                           mle   S.D. of innovations              4.983\n",
      "Date:                Mon, 11 May 2020   AIC                            218.147\n",
      "Time:                        19:32:38   BIC                            222.813\n",
      "Sample:                             0   HQIC                           219.758\n",
      "                                                                              \n",
      "===============================================================================\n",
      "                  coef    std err          z      P>|z|      [0.025      0.975]\n",
      "-------------------------------------------------------------------------------\n",
      "const          74.3293      1.915     38.813      0.000      70.576      78.083\n",
      "ar.L1.color     0.5705      0.144      3.975      0.000       0.289       0.852\n",
      "                                    Roots                                    \n",
      "=============================================================================\n",
      "                  Real          Imaginary           Modulus         Frequency\n",
      "-----------------------------------------------------------------------------\n",
      "AR.1            1.7527           +0.0000j            1.7527            0.0000\n",
      "-----------------------------------------------------------------------------\n"
     ]
    }
   ],
   "source": [
    "fitted_model = ARIMA(Y, order=(1, 0, 0)).fit(method='mle')\n",
    "print(fitted_model.summary())"
   ]
  },
  {
   "cell_type": "code",
   "execution_count": 9,
   "metadata": {},
   "outputs": [
    {
     "data": {
      "application/vnd.jupyter.widget-view+json": {
       "model_id": "913805af5c09405b81788b3be21ff8c6",
       "version_major": 2,
       "version_minor": 0
      },
      "text/plain": [
       "HBox(children=(IntProgress(value=0, description='Estimate', max=10000, style=ProgressStyle(description_width='…"
      ]
     },
     "metadata": {},
     "output_type": "display_data"
    },
    {
     "name": "stdout",
     "output_type": "stream",
     "text": [
      "\n"
     ]
    }
   ],
   "source": [
    "B = 10000\n",
    "\n",
    "phi_hat = fitted_model.arparams\n",
    "estimates = np.empty(B)\n",
    "\n",
    "np.random.seed(1)\n",
    "n = len(Y)\n",
    "\n",
    "# Filter out MLE convergence warnings, \n",
    "# as in https://www.statsmodels.org/stable/examples/notebooks/generated/mixed_lm_example.html\n",
    "with warnings.catch_warnings():\n",
    "    warnings.filterwarnings(\"ignore\")\n",
    "    for i in tqdm_notebook(range(B), 'Estimate'):\n",
    "        Yb = generate_arima(phi=phi_hat, n=n)\n",
    "        estimates[i] = ARIMA(Yb, order=(1, 0, 0)).fit(method='mle').arparams[0]"
   ]
  },
  {
   "cell_type": "code",
   "execution_count": 10,
   "metadata": {},
   "outputs": [
    {
     "data": {
      "image/png": "[encoded data removed]",
      "text/plain": [
       "<Figure size 864x288 with 1 Axes>"
      ]
     },
     "metadata": {
      "needs_background": "light"
     },
     "output_type": "display_data"
    }
   ],
   "source": [
    "plt.figure(figsize=(12, 4))\n",
    "plt.hist(estimates, bins=100, edgecolor='black', color='lightgrey')\n",
    "plt.show()"
   ]
  },
  {
   "cell_type": "code",
   "execution_count": 11,
   "metadata": {},
   "outputs": [
    {
     "name": "stdout",
     "output_type": "stream",
     "text": [
      "Bootstrap estimate mean: 0.487\n",
      "Bootstrap estimate SE:\t 0.152\n",
      "5% percentile:\t\t 0.213\n",
      "95% percentile:\t\t 0.710\n"
     ]
    }
   ],
   "source": [
    "print('Bootstrap estimate mean: %.3f' % estimates.mean())\n",
    "print('Bootstrap estimate SE:\\t %.3f' % estimates.std())\n",
    "print('5%% percentile:\\t\\t %.3f' % (np.percentile(estimates, 5)))\n",
    "print('95%% percentile:\\t\\t %.3f' % (np.percentile(estimates, 95)))"
   ]
  },
  {
   "cell_type": "markdown",
   "metadata": {},
   "source": [
    "The bootstrap estimate has a standard error of 0.152, a bit above the original model fit standard error if 0.144."
   ]
  }
 ],
 "metadata": {
  "kernelspec": {
   "display_name": "Python 3",
   "language": "python",
   "name": "python3"
  },
  "language_info": {
   "codemirror_mode": {
    "name": "ipython",
    "version": 3
   },
   "file_extension": ".py",
   "mimetype": "text/x-python",
   "name": "python",
   "nbconvert_exporter": "python",
   "pygments_lexer": "ipython3",
   "version": "3.7.3"
  }
 },
 "nbformat": 4,
 "nbformat_minor": 2
}
