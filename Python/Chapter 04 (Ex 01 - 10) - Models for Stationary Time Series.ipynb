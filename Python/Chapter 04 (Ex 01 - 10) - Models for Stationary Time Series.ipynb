{
 "cells": [
  {
   "cell_type": "markdown",
   "metadata": {},
   "source": [
    "## 4. Models for Stationary Time Series"
   ]
  },
  {
   "cell_type": "markdown",
   "metadata": {},
   "source": [
    "**Exercise 4.1**.  Use first principles to find the autocorrelation function for the stationary process defined by\n",
    "\n",
    "$$ Y_t = 5 + e_t - \\frac{1}{2} e_{t - 1} + \\frac{1}{4} e_{t - 2} $$"
   ]
  },
  {
   "cell_type": "markdown",
   "metadata": {},
   "source": [
    "**Solution**. \n",
    "\n",
    "The variance is\n",
    "\n",
    "$$ \\gamma_0 \n",
    "= \\text{Var}[Y_t] \n",
    "= \\text{Var}\\left[ 5 + e_t - \\frac{1}{2} e_{t - 1} + \\frac{1}{4} e_{t - 2} \\right]\n",
    "= \\text{Var}[e_t] + \\frac{1}{4} \\text{Var}[e_{t - 1}] + \\frac{1}{16} \\text{Var}[e_{t-2}] \n",
    "= \\frac{21}{16} \\sigma_e^2\n",
    "$$\n",
    "\n",
    "and the autocovariance is\n",
    "\n",
    "$$ \\gamma_k =\n",
    "\\text{Cov}[Y_t, Y_{t - k}] = \\text{Cov}\\left[ e_t - \\frac{1}{2} e_{t - 1} + \\frac{1}{4} e_{t - 2}, e_{t - k} - \\frac{1}{2} e_{t - k - 1} + \\frac{1}{4} e_{t - k - 2}\\right]\n",
    "$$\n",
    "\n",
    "For $k = 1$,\n",
    "\n",
    "$$ \\gamma_1 = -\\frac{1}{2} \\text{Var}[e_{t - 1}] -\\frac{1}{8} \\text{Var}[e_{t - 2}] = -\\frac{5}{8} \\sigma_e^2 $$\n",
    "\n",
    "For $k = 2$,\n",
    "\n",
    "$$ \\gamma_2 = \\frac{1}{4} \\text{Var}[e_{t - 2}] = \\frac{1}{4} \\sigma_e^2 $$\n",
    "\n",
    "and the autocovariance is 0 for $k > 2$.\n",
    "\n",
    "Therefore\n",
    "\n",
    "$$ \\gamma_k = \\begin{cases}\n",
    "(21 / 16) \\sigma_e^2 &\\text{for } k = 0 \\\\\n",
    "-(5 / 8) \\sigma_e^2 &\\text{for } k = 1 \\\\\n",
    "(1 / 4) \\sigma_e^2 &\\text{for } k = 2 \\\\\n",
    "0 &\\text{for } k > 2\n",
    "\\end{cases} $$\n",
    "\n",
    "and the autocorrelation is\n",
    "\n",
    "$$ \\rho_k = \\frac{\\gamma_k}{\\gamma_0} = \\begin{cases}\n",
    "1 &\\text{for } k = 0 \\\\\n",
    "-10 / 21 &\\text{for } k = 1 \\\\\n",
    "4 / 21 &\\text{for } k = 2\\\\\n",
    "0 &\\text{for } k > 3\n",
    "\\end{cases} $$"
   ]
  },
  {
   "cell_type": "markdown",
   "metadata": {},
   "source": [
    "**Exercise 4.2**.  Sketch the autocorrelation functions for the following MA(2) models with parameters as specified:\n",
    "\n",
    "**(a)** $\\theta_1 = 0.5$ and $\\theta_2 = 0.4$.\n",
    "\n",
    "**(b)** $\\theta_1 = 1.2$ and $\\theta_2 = -0.7$.\n",
    "\n",
    "**(c)** $\\theta_1 = -1$ and $\\theta_2 = -0.6$."
   ]
  },
  {
   "cell_type": "markdown",
   "metadata": {},
   "source": [
    "**Solution**."
   ]
  },
  {
   "cell_type": "code",
   "execution_count": 1,
   "metadata": {},
   "outputs": [],
   "source": [
    "import matplotlib.pyplot as plt\n",
    "%matplotlib inline\n",
    "\n",
    "# Function to compute autocorrelation from theta for MA(2)\n",
    "def ma2_rho(theta_1, theta_2):\n",
    "    def f(k):\n",
    "        if k == 0:\n",
    "            return 1\n",
    "        if k == 1:\n",
    "            return (-theta_1 + theta_1 * theta_2) / (1 + theta_1**2 + theta_2**2)\n",
    "        if k == 2:\n",
    "            return -theta_2 / (1 + theta_1**2 + theta_2**2)\n",
    "        return 0\n",
    "    \n",
    "    return f\n",
    "\n",
    "# Function to plot MA(2) autocorrelations for k = 1 to 12\n",
    "def plot_ma2_acf(theta_1, theta_2):\n",
    "    max_k = 12\n",
    "    f = ma2_rho(theta_1, theta_2)\n",
    "    k = [n for n in range(1, max_k + 1)]\n",
    "    rho = [f(k) for k in range(1, max_k + 1)]\n",
    "    \n",
    "    plt.figure(figsize=(12, 4))\n",
    "    plt.plot(k, rho, marker='o', linestyle='none', color='C0')\n",
    "    plt.plot([1, max_k], [0, 0], ls=':', color='C0')\n",
    "    for i_k, i_rho in zip(k, rho):\n",
    "        plt.plot([i_k, i_k], [0, i_rho], color='C0')\n",
    "    plt.xlabel('Lag')\n",
    "    plt.ylabel(r'$\\rho_k$')\n",
    "    plt.show()"
   ]
  },
  {
   "cell_type": "markdown",
   "metadata": {},
   "source": [
    "**(a)**"
   ]
  },
  {
   "cell_type": "code",
   "execution_count": 2,
   "metadata": {
    "scrolled": true
   },
   "outputs": [
    {
     "data": {
      "image/png": "[encoded data removed]",
      "text/plain": [
       "<Figure size 864x288 with 1 Axes>"
      ]
     },
     "metadata": {
      "needs_background": "light"
     },
     "output_type": "display_data"
    }
   ],
   "source": [
    "plot_ma2_acf(0.5, 0.4)"
   ]
  },
  {
   "cell_type": "markdown",
   "metadata": {},
   "source": [
    "**(b)**"
   ]
  },
  {
   "cell_type": "code",
   "execution_count": 3,
   "metadata": {},
   "outputs": [
    {
     "data": {
      "image/png": "[encoded data removed]",
      "text/plain": [
       "<Figure size 864x288 with 1 Axes>"
      ]
     },
     "metadata": {
      "needs_background": "light"
     },
     "output_type": "display_data"
    }
   ],
   "source": [
    "plot_ma2_acf(1.2, -0.7)"
   ]
  },
  {
   "cell_type": "markdown",
   "metadata": {},
   "source": [
    "**(c)**"
   ]
  },
  {
   "cell_type": "code",
   "execution_count": 4,
   "metadata": {},
   "outputs": [
    {
     "data": {
      "image/png": "[encoded data removed]",
      "text/plain": [
       "<Figure size 864x288 with 1 Axes>"
      ]
     },
     "metadata": {
      "needs_background": "light"
     },
     "output_type": "display_data"
    }
   ],
   "source": [
    "plot_ma2_acf(-1, -0.6)"
   ]
  },
  {
   "cell_type": "markdown",
   "metadata": {},
   "source": [
    "**Exercise 4.3**.  Verify that for an MA(1) process\n",
    "\n",
    "$$ \\max_{-\\infty < \\theta < \\infty} \\rho_1 = 0.5 \n",
    "\\quad \\text{and} \\quad\n",
    "\\min_{-\\infty < \\theta < \\infty} \\rho_1 = -0.5 $$"
   ]
  },
  {
   "cell_type": "markdown",
   "metadata": {},
   "source": [
    "**Solution**.  For a MA(1) process,\n",
    "\n",
    "$$ \\rho_1(\\theta) = \\frac{-\\theta}{1 + \\theta^2} $$\n",
    "\n",
    "The derivative of this function is \n",
    "\n",
    "$$ \\frac{d \\rho_1(\\theta)}{d\\theta} = \\frac{\\theta^2 - 1}{(1 + \\theta^2)^2} $$\n",
    "\n",
    "which is only equal to zero on $\\theta^2 = 1$, or $\\theta = \\pm 1$.  Therefore all global minimum and maximum values of $\\rho_1$ are within $\\theta \\in \\{-1, 1\\}$.  It's easy to verify that $\\rho_1(\\theta_1 = -1) = 0.5$ and $\\rho_1(\\theta_1 = 1) = -0.5$, and so the result follows."
   ]
  },
  {
   "cell_type": "markdown",
   "metadata": {},
   "source": [
    "**Exercise 4.4**.  Show that when $\\theta$ is replaced by $1 / \\theta$, the autocorrelation function for an MA(1) process does not change."
   ]
  },
  {
   "cell_type": "markdown",
   "metadata": {},
   "source": [
    "**Solution**.  For a MA(1) process,\n",
    "\n",
    "$$ \\rho_1(\\theta) = \\frac{-\\theta}{1 + \\theta^2} $$\n",
    "\n",
    "Therefore,\n",
    "\n",
    "$$ \\rho_1\\left(\\frac{1}{\\theta}\\right) = \\frac{-\\frac{1}{\\theta}}{1 + \\left(\\frac{1}{\\theta}\\right)^2} =  \\frac{-\\theta}{1 + \\theta^2} = \\rho_1(\\theta) $$"
   ]
  }
 ],
 "metadata": {
  "kernelspec": {
   "display_name": "Python 3",
   "language": "python",
   "name": "python3"
  },
  "language_info": {
   "codemirror_mode": {
    "name": "ipython",
    "version": 3
   },
   "file_extension": ".py",
   "mimetype": "text/x-python",
   "name": "python",
   "nbconvert_exporter": "python",
   "pygments_lexer": "ipython3",
   "version": "3.7.3"
  }
 },
 "nbformat": 4,
 "nbformat_minor": 2
}
