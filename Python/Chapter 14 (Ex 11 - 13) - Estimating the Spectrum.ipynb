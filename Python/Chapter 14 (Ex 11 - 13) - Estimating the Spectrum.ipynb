{
 "cells": [
  {
   "cell_type": "markdown",
   "metadata": {},
   "source": [
    "**Exercise 14.11**. Consider the monthly milk production time series used in Exhibit 14.24 on page 374. The data are in the file named `milk`.\n",
    "\n",
    "**(a)** Estimate the spectrum using a spectral window that is a convolution of two modified Daniell windows each with *span* $= 7$. Compare these results with those shown in Exhibit 14.24.\n",
    "\n",
    "**(b)** Estimate the spectrum using a single modified Daniell spectral window with *span* $= 7$. Compare these results with those shown in Exhibit 14.24 and those in part (a).\n",
    "\n",
    "**(c)** Finally, estimate the spectrum using a single modified Daniell spectral window with span = 11. Compare these results with those shown in Exhibit 14.24 and those in parts (a) and (b).\n",
    "\n",
    "**(d)** Among the four different estimates considered here, which do you prefer andwhy?"
   ]
  },
  {
   "cell_type": "markdown",
   "metadata": {},
   "source": [
    "**Exercise 14.12**. Consider the river flow series displayed in Exhibit 14.22 on page 372. An estimate of the spectrum is shown in Exhibit 14.23 on page 373. The data are in the file named `flow`.\n",
    "\n",
    "**(a)** Here $n = 576$ and $\\sqrt{n} = 24$. Estimate the spectrum using span = 25 with the modified Daniell spectral window. Compare your results with those shown in Exhibit 14.23.\n",
    "\n",
    "**(b)** Estimate the spectrum using *span* $= 13$ with the modified Daniell spectral window and compare your results to those obtained in part (a) and in Exhibit 14.23."
   ]
  },
  {
   "cell_type": "markdown",
   "metadata": {},
   "source": [
    "**Exercise 14.13**.  The time series in the file named `tuba` contains about 0.4 seconds of digitized sound from a tuba playing a B flat one octave and one note below middle C.\n",
    "\n",
    "**(a)** Display a time series plot of the first 400 of these data and compare your results with those shown in Exhibit 14.25 on page 375, for the trombone and euphonium.\n",
    "\n",
    "**(b)** Estimate the spectrum of the tuba time series using a convolution of two modified Daniell spectral windows, each with *span* $= 11$.\n",
    "\n",
    "**(c)** Compare the estimated spectrum obtained in part (b) with those of the trombone and euphonium shown in Exhibit 14.26 on page 376. (You may want to overlay several of these spectra.) Remember that the tuba is playing one octave lower than the two other instruments.\n",
    "\n",
    "**(d)** Do the higher-frequency components of the spectrum for the tuba look more like those of the trombone or those of the euphonium? (Hint: The euphonium is sometimes called a tenor tuba!)"
   ]
  }
 ],
 "metadata": {
  "kernelspec": {
   "display_name": "Python 3",
   "language": "python",
   "name": "python3"
  },
  "language_info": {
   "codemirror_mode": {
    "name": "ipython",
    "version": 3
   },
   "file_extension": ".py",
   "mimetype": "text/x-python",
   "name": "python",
   "nbconvert_exporter": "python",
   "pygments_lexer": "ipython3",
   "version": "3.7.3"
  }
 },
 "nbformat": 4,
 "nbformat_minor": 2
}
