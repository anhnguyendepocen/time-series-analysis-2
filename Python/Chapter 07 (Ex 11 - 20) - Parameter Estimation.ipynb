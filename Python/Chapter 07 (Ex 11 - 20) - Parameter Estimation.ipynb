{
 "cells": [
  {
   "cell_type": "markdown",
   "metadata": {},
   "source": [
    "**Exercise 7.11**. Simulate an MA(1) series with $\\theta = −0.6$ and $n = 48$.\n",
    "\n",
    "**(a)** Find the maximum likelihood estimate of $\\theta$.\n",
    "\n",
    "**(b)** If your software permits, repeat part (a) many times with a new simulated series using the same parameters and same sample size.\n",
    "\n",
    "**(c)** Form the sampling distribution of the maximum likelihood estimates of $\\theta$.\n",
    "\n",
    "**(d)** Are the estimates (approximately) unbiased?\n",
    "\n",
    "**(e)** Calculate the variance of your sampling distribution and compare it with the large-sample result in Equation (7.4.11) on page 161."
   ]
  },
  {
   "cell_type": "markdown",
   "metadata": {},
   "source": [
    "**Solution**."
   ]
  },
  {
   "cell_type": "code",
   "execution_count": 1,
   "metadata": {},
   "outputs": [],
   "source": [
    "import numpy as np\n",
    "from statsmodels.tsa.arima_process import ArmaProcess\n",
    "from statsmodels.tsa.arima_model import ARIMA\n",
    "from tqdm import tqdm_notebook\n",
    "\n",
    "import warnings\n",
    "\n",
    "import matplotlib.pyplot as plt\n",
    "%matplotlib inline\n",
    "\n",
    "def generate_arima(phi=[], d=0, theta=[], n=100):\n",
    "    ar = np.r_[1, -np.array(phi)]\n",
    "    ma = np.r_[1, -np.array(theta)]\n",
    "    Y = ArmaProcess(ar, ma).generate_sample(nsample=n)\n",
    "    for i in range(d):\n",
    "        Y = np.cumsum(Y)\n",
    "    return Y"
   ]
  },
  {
   "cell_type": "code",
   "execution_count": 2,
   "metadata": {},
   "outputs": [
    {
     "data": {
      "application/vnd.jupyter.widget-view+json": {
       "model_id": "fc1f23ff2b6441d3bd8c0fe7d3a17838",
       "version_major": 2,
       "version_minor": 0
      },
      "text/plain": [
       "HBox(children=(IntProgress(value=0, description='Estimate', max=10000, style=ProgressStyle(description_width='…"
      ]
     },
     "metadata": {},
     "output_type": "display_data"
    },
    {
     "name": "stdout",
     "output_type": "stream",
     "text": [
      "\n"
     ]
    }
   ],
   "source": [
    "np.random.seed(0)\n",
    "\n",
    "B = 10000\n",
    "\n",
    "estimates = np.empty(B)\n",
    "\n",
    "# Filter out MLE convergence warnings, \n",
    "# as in https://www.statsmodels.org/stable/examples/notebooks/generated/mixed_lm_example.html\n",
    "with warnings.catch_warnings():\n",
    "    warnings.filterwarnings(\"ignore\")\n",
    "    for i in tqdm_notebook(range(B), 'Estimate'):\n",
    "        estimates[i] = -ARIMA(generate_arima(theta=[-0.6], n=48), order=(0, 0, 1)).fit(method='mle', disp=-1).maparams[0]"
   ]
  },
  {
   "cell_type": "code",
   "execution_count": 3,
   "metadata": {},
   "outputs": [
    {
     "data": {
      "image/png": "[encoded data removed]",
      "text/plain": [
       "<Figure size 864x288 with 1 Axes>"
      ]
     },
     "metadata": {
      "needs_background": "light"
     },
     "output_type": "display_data"
    }
   ],
   "source": [
    "plt.figure(figsize=(12, 4))\n",
    "plt.hist(estimates, bins=100, edgecolor='black', color='lightgrey')\n",
    "plt.show()"
   ]
  },
  {
   "cell_type": "code",
   "execution_count": 4,
   "metadata": {},
   "outputs": [
    {
     "name": "stdout",
     "output_type": "stream",
     "text": [
      "Bootstrap estimate mean: -0.608\n",
      "Bootstrap estimate SE:\t 0.144\n",
      "5% percentile:\t\t -0.851\n",
      "95% percentile:\t\t -0.380\n"
     ]
    }
   ],
   "source": [
    "print('Bootstrap estimate mean: %.3f' % estimates.mean())\n",
    "print('Bootstrap estimate SE:\\t %.3f' % estimates.std())\n",
    "print('5%% percentile:\\t\\t %.3f' % (np.percentile(estimates, 5)))\n",
    "print('95%% percentile:\\t\\t %.3f' % (np.percentile(estimates, 95)))"
   ]
  },
  {
   "cell_type": "markdown",
   "metadata": {},
   "source": [
    "The large sample result from Equation (7.4.11) is \n",
    "\n",
    "$$ \\text{Var}[\\hat{\\theta}] \\approx \\frac{1 - \\theta^2}{n} $$\n",
    "\n",
    "which is a variance of 0.0133, or a standard error of 0.115.  The bootstrap process produces a sampling distribution that seems to have a bit higher standard error, but have mean results that are still within the original standard error -- results seem unbiased."
   ]
  },
  {
   "cell_type": "markdown",
   "metadata": {},
   "source": [
    "**Exercise 7.12**.  Repeat Exercise 7.11 using a sample size of n = 120."
   ]
  },
  {
   "cell_type": "markdown",
   "metadata": {},
   "source": [
    "**Solution**."
   ]
  },
  {
   "cell_type": "code",
   "execution_count": 5,
   "metadata": {},
   "outputs": [
    {
     "data": {
      "application/vnd.jupyter.widget-view+json": {
       "model_id": "62aa92d52ce64715ab8cd3c6c8227c9f",
       "version_major": 2,
       "version_minor": 0
      },
      "text/plain": [
       "HBox(children=(IntProgress(value=0, description='Estimate', max=10000, style=ProgressStyle(description_width='…"
      ]
     },
     "metadata": {},
     "output_type": "display_data"
    },
    {
     "name": "stdout",
     "output_type": "stream",
     "text": [
      "\n"
     ]
    }
   ],
   "source": [
    "np.random.seed(0)\n",
    "\n",
    "B = 10000\n",
    "\n",
    "estimates = np.empty(B)\n",
    "\n",
    "# Filter out MLE convergence warnings, \n",
    "# as in https://www.statsmodels.org/stable/examples/notebooks/generated/mixed_lm_example.html\n",
    "with warnings.catch_warnings():\n",
    "    warnings.filterwarnings(\"ignore\")\n",
    "    for i in tqdm_notebook(range(B), 'Estimate'):\n",
    "        estimates[i] = -ARIMA(generate_arima(theta=[-0.6], n=120), order=(0, 0, 1)).fit(method='mle', disp=-1).maparams[0]"
   ]
  },
  {
   "cell_type": "code",
   "execution_count": 6,
   "metadata": {},
   "outputs": [
    {
     "data": {
      "image/png": "[encoded data removed]",
      "text/plain": [
       "<Figure size 864x288 with 1 Axes>"
      ]
     },
     "metadata": {
      "needs_background": "light"
     },
     "output_type": "display_data"
    }
   ],
   "source": [
    "plt.figure(figsize=(12, 4))\n",
    "plt.hist(estimates, bins=100, edgecolor='black', color='lightgrey')\n",
    "plt.show()"
   ]
  },
  {
   "cell_type": "code",
   "execution_count": 7,
   "metadata": {},
   "outputs": [
    {
     "name": "stdout",
     "output_type": "stream",
     "text": [
      "Bootstrap estimate mean: -0.604\n",
      "Bootstrap estimate SE:\t 0.079\n",
      "5% percentile:\t\t -0.733\n",
      "95% percentile:\t\t -0.476\n"
     ]
    }
   ],
   "source": [
    "print('Bootstrap estimate mean: %.3f' % estimates.mean())\n",
    "print('Bootstrap estimate SE:\\t %.3f' % estimates.std())\n",
    "print('5%% percentile:\\t\\t %.3f' % (np.percentile(estimates, 5)))\n",
    "print('95%% percentile:\\t\\t %.3f' % (np.percentile(estimates, 95)))"
   ]
  },
  {
   "cell_type": "markdown",
   "metadata": {},
   "source": [
    "The large sample result from Equation (7.4.11) is \n",
    "\n",
    "$$ \\text{Var}[\\hat{\\theta}] \\approx \\frac{1 - \\theta^2}{n} $$\n",
    "\n",
    "which is a variance of 0.00533, or a standard error of 0.073.  The bootstrap process produces a sampling distribution that seems to have a variance in line with this value, and an unbiased result."
   ]
  },
  {
   "cell_type": "markdown",
   "metadata": {},
   "source": [
    "**Exercise 7.13**. Simulate an AR(1) series with $\\phi = 0.8$ and $n = 48$.\n",
    "\n",
    "**(a)** Find the method-of-moments estimate of φ.\n",
    "\n",
    "**(b)** Find the conditional least squares estimate of φ and compare it with part (a).\n",
    "\n",
    "**(c)** Find the maximum likelihood estimate of φ and compare it with parts (a) and (b).\n",
    "\n",
    "**(d)** Repeat parts (a), (b), and (c) with a new simulated series using the same parameters and same sample size. Compare your results with your results from the first simulation."
   ]
  },
  {
   "cell_type": "markdown",
   "metadata": {},
   "source": [
    "**Solution**."
   ]
  },
  {
   "cell_type": "code",
   "execution_count": 8,
   "metadata": {},
   "outputs": [],
   "source": [
    "from statsmodels.tsa.stattools import acf\n",
    "\n",
    "def estimate_ar1_mom(x):\n",
    "    return acf(x, fft=False, nlags=1)[1]"
   ]
  },
  {
   "cell_type": "code",
   "execution_count": 9,
   "metadata": {},
   "outputs": [],
   "source": [
    "np.random.seed(0)\n",
    "Y = generate_arima(phi=[0.8], n=48)"
   ]
  },
  {
   "cell_type": "markdown",
   "metadata": {},
   "source": [
    "**(a)**"
   ]
  },
  {
   "cell_type": "code",
   "execution_count": 10,
   "metadata": {},
   "outputs": [
    {
     "name": "stdout",
     "output_type": "stream",
     "text": [
      "Method of moments estimate: \t\t0.79884\n"
     ]
    }
   ],
   "source": [
    "print('Method of moments estimate: \\t\\t%.5f' % estimate_ar1_mom(Y))"
   ]
  },
  {
   "cell_type": "markdown",
   "metadata": {},
   "source": [
    "**(b)**"
   ]
  },
  {
   "cell_type": "code",
   "execution_count": 11,
   "metadata": {},
   "outputs": [
    {
     "name": "stdout",
     "output_type": "stream",
     "text": [
      "Conditional least squares estimate: \t0.82019\n"
     ]
    }
   ],
   "source": [
    "print('Conditional least squares estimate: \\t%.5f' % ARIMA(Y, order=(1, 0, 0)).fit(method='css').arparams[0])"
   ]
  },
  {
   "cell_type": "markdown",
   "metadata": {},
   "source": [
    "Results are both close to the true value of $\\phi = 0.8$, but for this series the method-of-moments method produced a better estimate."
   ]
  },
  {
   "cell_type": "markdown",
   "metadata": {},
   "source": [
    "**(c)**"
   ]
  },
  {
   "cell_type": "code",
   "execution_count": 12,
   "metadata": {},
   "outputs": [
    {
     "name": "stdout",
     "output_type": "stream",
     "text": [
      "Maximum likelihood estimate: \t\t0.80559\n"
     ]
    }
   ],
   "source": [
    "print('Maximum likelihood estimate: \\t\\t%.5f' % ARIMA(Y, order=(1, 0, 0)).fit(method='mle').arparams[0])"
   ]
  },
  {
   "cell_type": "markdown",
   "metadata": {},
   "source": [
    "Result is still close to the true value of $\\phi = 0.8$ -- closer than the CSS method, but the method-of-moments still produced a better estimate."
   ]
  },
  {
   "cell_type": "markdown",
   "metadata": {},
   "source": [
    "**(d)**"
   ]
  },
  {
   "cell_type": "code",
   "execution_count": 13,
   "metadata": {},
   "outputs": [
    {
     "name": "stdout",
     "output_type": "stream",
     "text": [
      "Method of moments estimate: \t\t0.49153\n",
      "Conditional least squares estimate: \t0.55163\n",
      "Maximum likelihood estimate: \t\t0.58561\n"
     ]
    }
   ],
   "source": [
    "np.random.seed(1)\n",
    "Y = generate_arima(phi=[0.8], n=48)\n",
    "print('Method of moments estimate: \\t\\t%.5f' % estimate_ar1_mom(Y))\n",
    "print('Conditional least squares estimate: \\t%.5f' % ARIMA(Y, order=(1, 0, 0)).fit(method='css').arparams[0])\n",
    "print('Maximum likelihood estimate: \\t\\t%.5f' % ARIMA(Y, order=(1, 0, 0)).fit(method='mle').arparams[0])"
   ]
  },
  {
   "cell_type": "markdown",
   "metadata": {},
   "source": [
    "**Exercise 7.14**.  Simulate an AR(1) series with $\\phi = −0.5$ and $n = 60$.\n",
    "\n",
    "**(a)** Find the method-of-moments estimate of $\\phi$.\n",
    "\n",
    "**(b)** Find the conditional least squares estimate of $\\phi$ and compare it with part (a).\n",
    "\n",
    "**(c)** Find the maximum likelihood estimate of $\\phi$ and compare it with parts (a) and (b).\n",
    "\n",
    "**(d)** Repeat parts (a), (b), and (c) with a new simulated series using the same parameters and same sample size. Compare your results with your results from the first simulation."
   ]
  },
  {
   "cell_type": "markdown",
   "metadata": {},
   "source": [
    "**Solution**."
   ]
  },
  {
   "cell_type": "code",
   "execution_count": 14,
   "metadata": {},
   "outputs": [],
   "source": [
    "np.random.seed(0)\n",
    "Y = generate_arima(phi=[-0.5], n=60)"
   ]
  },
  {
   "cell_type": "markdown",
   "metadata": {},
   "source": [
    "**(a)**"
   ]
  },
  {
   "cell_type": "code",
   "execution_count": 15,
   "metadata": {},
   "outputs": [
    {
     "name": "stdout",
     "output_type": "stream",
     "text": [
      "Method of moments estimate: \t\t-0.47478\n"
     ]
    }
   ],
   "source": [
    "print('Method of moments estimate: \\t\\t%.5f' % estimate_ar1_mom(Y))"
   ]
  },
  {
   "cell_type": "markdown",
   "metadata": {},
   "source": [
    "**(b)**"
   ]
  },
  {
   "cell_type": "code",
   "execution_count": 16,
   "metadata": {},
   "outputs": [
    {
     "name": "stdout",
     "output_type": "stream",
     "text": [
      "Conditional least squares estimate: \t-0.47478\n"
     ]
    }
   ],
   "source": [
    "print('Conditional least squares estimate: \\t%.5f' % ARIMA(Y, order=(1, 0, 0)).fit(method='css').arparams[0])"
   ]
  },
  {
   "cell_type": "markdown",
   "metadata": {},
   "source": [
    "The estimate produced by the CSS method appears to be almost identical to the one produced by the method-of-moments method."
   ]
  },
  {
   "cell_type": "markdown",
   "metadata": {},
   "source": [
    "**(c)**"
   ]
  },
  {
   "cell_type": "code",
   "execution_count": 17,
   "metadata": {},
   "outputs": [
    {
     "name": "stdout",
     "output_type": "stream",
     "text": [
      "Maximum likelihood estimate: \t\t-0.48328\n"
     ]
    }
   ],
   "source": [
    "print('Maximum likelihood estimate: \\t\\t%.5f' % ARIMA(Y, order=(1, 0, 0)).fit(method='mle').arparams[0])"
   ]
  },
  {
   "cell_type": "markdown",
   "metadata": {},
   "source": [
    "The estimate produced by the ML method is closer to the true value than the estimates produced by the other methods."
   ]
  },
  {
   "cell_type": "markdown",
   "metadata": {},
   "source": [
    "**(d)**"
   ]
  },
  {
   "cell_type": "code",
   "execution_count": 18,
   "metadata": {},
   "outputs": [
    {
     "name": "stdout",
     "output_type": "stream",
     "text": [
      "Method of moments estimate: \t\t-0.50269\n",
      "Conditional least squares estimate: \t-0.50371\n",
      "Maximum likelihood estimate: \t\t-0.51714\n"
     ]
    }
   ],
   "source": [
    "np.random.seed(100)\n",
    "Y = generate_arima(phi=[-0.5], n=60)\n",
    "print('Method of moments estimate: \\t\\t%.5f' % estimate_ar1_mom(Y))\n",
    "print('Conditional least squares estimate: \\t%.5f' % ARIMA(Y, order=(1, 0, 0)).fit(method='css').arparams[0])\n",
    "print('Maximum likelihood estimate: \\t\\t%.5f' % ARIMA(Y, order=(1, 0, 0)).fit(method='mle').arparams[0])"
   ]
  },
  {
   "cell_type": "markdown",
   "metadata": {},
   "source": [
    "The method of moments this time appears to provide the better estimate; CSS and ML estimates are worse, though still close."
   ]
  },
  {
   "cell_type": "markdown",
   "metadata": {},
   "source": [
    "**Exercise 7.15**.  Simulate an AR(1) series with $\\phi = 0.7$ and $n = 100$.\n",
    "\n",
    "**(a)** Find the maximum likelihood estimate of $\\phi$.\n",
    "\n",
    "**(b)** If your software permits, repeat part (a) many times with a new simulated series using the same parameters and same sample size.\n",
    "\n",
    "**(c)** Form the sampling distribution of the maximum likelihood estimates of $\\phi$.\n",
    "\n",
    "**(d)** Are the estimates (approximately) unbiased?\n",
    "\n",
    "**(e)** Calculate the variance of your sampling distribution and compare it with the large-sample result in Equation (7.4.9) on page 161."
   ]
  },
  {
   "cell_type": "markdown",
   "metadata": {},
   "source": [
    "**Solution**."
   ]
  },
  {
   "cell_type": "code",
   "execution_count": 19,
   "metadata": {},
   "outputs": [
    {
     "data": {
      "application/vnd.jupyter.widget-view+json": {
       "model_id": "0fc8b35703864d4ea8adc3866948b653",
       "version_major": 2,
       "version_minor": 0
      },
      "text/plain": [
       "HBox(children=(IntProgress(value=0, description='Estimate', max=10000, style=ProgressStyle(description_width='…"
      ]
     },
     "metadata": {},
     "output_type": "display_data"
    },
    {
     "name": "stdout",
     "output_type": "stream",
     "text": [
      "\n"
     ]
    }
   ],
   "source": [
    "np.random.seed(0)\n",
    "\n",
    "B = 10000\n",
    "\n",
    "estimates = np.empty(B)\n",
    "\n",
    "# Filter out MLE convergence warnings, \n",
    "# as in https://www.statsmodels.org/stable/examples/notebooks/generated/mixed_lm_example.html\n",
    "with warnings.catch_warnings():\n",
    "    warnings.filterwarnings(\"ignore\")\n",
    "    for i in tqdm_notebook(range(B), 'Estimate'):\n",
    "        estimates[i] = -ARIMA(generate_arima(phi=[0.7], n=100), order=(1, 0, 0)).fit(method='mle', disp=-1).arparams[0]"
   ]
  },
  {
   "cell_type": "code",
   "execution_count": 20,
   "metadata": {},
   "outputs": [
    {
     "data": {
      "image/png": "[encoded data removed]",
      "text/plain": [
       "<Figure size 864x288 with 1 Axes>"
      ]
     },
     "metadata": {
      "needs_background": "light"
     },
     "output_type": "display_data"
    }
   ],
   "source": [
    "plt.figure(figsize=(12, 4))\n",
    "plt.hist(estimates, bins=100, edgecolor='black', color='lightgrey')\n",
    "plt.show()"
   ]
  },
  {
   "cell_type": "code",
   "execution_count": 21,
   "metadata": {},
   "outputs": [
    {
     "name": "stdout",
     "output_type": "stream",
     "text": [
      "Bootstrap estimate mean: -0.666\n",
      "Bootstrap estimate SE:\t 0.077\n",
      "5% percentile:\t\t -0.780\n",
      "95% percentile:\t\t -0.532\n"
     ]
    }
   ],
   "source": [
    "print('Bootstrap estimate mean: %.3f' % estimates.mean())\n",
    "print('Bootstrap estimate SE:\\t %.3f' % estimates.std())\n",
    "print('5%% percentile:\\t\\t %.3f' % (np.percentile(estimates, 5)))\n",
    "print('95%% percentile:\\t\\t %.3f' % (np.percentile(estimates, 95)))"
   ]
  },
  {
   "cell_type": "markdown",
   "metadata": {},
   "source": [
    "The large sample result from Equation (7.4.9) is \n",
    "\n",
    "$$ \\text{Var}[\\hat{\\theta}] \\approx \\frac{1 - \\phi^2}{n} $$\n",
    "\n",
    "which is a variance of 0.0051, or a standard error of 0.0714.  The bootstrap process produces a sampling distribution that seems to have a variance in line with this value, and an unbiased result."
   ]
  }
 ],
 "metadata": {
  "kernelspec": {
   "display_name": "Python 3",
   "language": "python",
   "name": "python3"
  },
  "language_info": {
   "codemirror_mode": {
    "name": "ipython",
    "version": 3
   },
   "file_extension": ".py",
   "mimetype": "text/x-python",
   "name": "python",
   "nbconvert_exporter": "python",
   "pygments_lexer": "ipython3",
   "version": "3.7.3"
  }
 },
 "nbformat": 4,
 "nbformat_minor": 2
}
