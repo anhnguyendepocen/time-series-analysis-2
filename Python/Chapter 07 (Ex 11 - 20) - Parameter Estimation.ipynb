{
 "cells": [
  {
   "cell_type": "markdown",
   "metadata": {},
   "source": [
    "**Exercise 7.11**. Simulate an MA(1) series with $\\theta = −0.6$ and $n = 48$.\n",
    "\n",
    "**(a)** Find the maximum likelihood estimate of $\\theta$.\n",
    "\n",
    "**(b)** If your software permits, repeat part (a) many times with a new simulated series using the same parameters and same sample size.\n",
    "\n",
    "**(c)** Form the sampling distribution of the maximum likelihood estimates of $\\theta$.\n",
    "\n",
    "**(d)** Are the estimates (approximately) unbiased?\n",
    "\n",
    "**(e)** Calculate the variance of your sampling distribution and compare it with the large-sample result in Equation (7.4.11) on page 161."
   ]
  },
  {
   "cell_type": "markdown",
   "metadata": {},
   "source": [
    "**Solution**."
   ]
  },
  {
   "cell_type": "code",
   "execution_count": 1,
   "metadata": {},
   "outputs": [],
   "source": [
    "import numpy as np\n",
    "from statsmodels.tsa.arima_process import ArmaProcess\n",
    "from statsmodels.tsa.arima_model import ARIMA\n",
    "from tqdm import tqdm_notebook\n",
    "\n",
    "import warnings\n",
    "\n",
    "import matplotlib.pyplot as plt\n",
    "%matplotlib inline\n",
    "\n",
    "def generate_arima(phi=[], d=0, theta=[], n=100):\n",
    "    ar = np.r_[1, -np.array(phi)]\n",
    "    ma = np.r_[1, -np.array(theta)]\n",
    "    Y = ArmaProcess(ar, ma).generate_sample(nsample=n)\n",
    "    for i in range(d):\n",
    "        Y = np.cumsum(Y)\n",
    "    return Y"
   ]
  },
  {
   "cell_type": "code",
   "execution_count": 2,
   "metadata": {},
   "outputs": [
    {
     "data": {
      "application/vnd.jupyter.widget-view+json": {
       "model_id": "e376cf64f47a4fbb87410c62417519bf",
       "version_major": 2,
       "version_minor": 0
      },
      "text/plain": [
       "HBox(children=(IntProgress(value=0, description='Estimate', max=10000, style=ProgressStyle(description_width='…"
      ]
     },
     "metadata": {},
     "output_type": "display_data"
    },
    {
     "name": "stdout",
     "output_type": "stream",
     "text": [
      "\n"
     ]
    }
   ],
   "source": [
    "np.random.seed(0)\n",
    "\n",
    "B = 10000\n",
    "\n",
    "estimates = np.empty(B)\n",
    "\n",
    "# Filter out MLE convergence warnings, \n",
    "# as in https://www.statsmodels.org/stable/examples/notebooks/generated/mixed_lm_example.html\n",
    "with warnings.catch_warnings():\n",
    "    warnings.filterwarnings(\"ignore\")\n",
    "    for i in tqdm_notebook(range(B), 'Estimate'):\n",
    "        estimates[i] = -ARIMA(generate_arima(theta=[-0.6], n=48), order=(0, 0, 1)).fit(method='mle', disp=-1).maparams[0]"
   ]
  },
  {
   "cell_type": "code",
   "execution_count": 3,
   "metadata": {},
   "outputs": [
    {
     "data": {
      "image/png": "[encoded data removed]",
      "text/plain": [
       "<Figure size 864x288 with 1 Axes>"
      ]
     },
     "metadata": {
      "needs_background": "light"
     },
     "output_type": "display_data"
    }
   ],
   "source": [
    "plt.figure(figsize=(12, 4))\n",
    "plt.hist(estimates, bins=100, edgecolor='black', color='lightgrey')\n",
    "plt.show()"
   ]
  },
  {
   "cell_type": "code",
   "execution_count": 4,
   "metadata": {},
   "outputs": [
    {
     "name": "stdout",
     "output_type": "stream",
     "text": [
      "Bootstrap estimate mean: -0.608\n",
      "Bootstrap estimate SE:\t 0.144\n",
      "5% percentile:\t\t -0.851\n",
      "95% percentile:\t\t -0.380\n"
     ]
    }
   ],
   "source": [
    "print('Bootstrap estimate mean: %.3f' % estimates.mean())\n",
    "print('Bootstrap estimate SE:\\t %.3f' % estimates.std())\n",
    "print('5%% percentile:\\t\\t %.3f' % (np.percentile(estimates, 5)))\n",
    "print('95%% percentile:\\t\\t %.3f' % (np.percentile(estimates, 95)))"
   ]
  },
  {
   "cell_type": "markdown",
   "metadata": {},
   "source": [
    "The large sample result from Equation (7.4.11) is \n",
    "\n",
    "$$ \\text{Var}[\\hat{\\theta}] \\approx \\frac{1 - \\theta^2}{n} $$\n",
    "\n",
    "which is a variance of 0.0133, or a standard error of 0.115.  The bootstrap process produces a sampling distribution that seems to have a bit higher standard error, but have mean results that are still within the original standard error -- results seem unbiased."
   ]
  },
  {
   "cell_type": "markdown",
   "metadata": {},
   "source": [
    "**Exercise 7.12**.  Repeat Exercise 7.11 using a sample size of n = 120."
   ]
  },
  {
   "cell_type": "markdown",
   "metadata": {},
   "source": [
    "**Solution**."
   ]
  },
  {
   "cell_type": "code",
   "execution_count": 5,
   "metadata": {},
   "outputs": [
    {
     "data": {
      "application/vnd.jupyter.widget-view+json": {
       "model_id": "d849068caa2940c6974a7114dbc7654b",
       "version_major": 2,
       "version_minor": 0
      },
      "text/plain": [
       "HBox(children=(IntProgress(value=0, description='Estimate', max=10000, style=ProgressStyle(description_width='…"
      ]
     },
     "metadata": {},
     "output_type": "display_data"
    },
    {
     "name": "stdout",
     "output_type": "stream",
     "text": [
      "\n"
     ]
    }
   ],
   "source": [
    "np.random.seed(0)\n",
    "\n",
    "B = 10000\n",
    "\n",
    "estimates = np.empty(B)\n",
    "\n",
    "# Filter out MLE convergence warnings, \n",
    "# as in https://www.statsmodels.org/stable/examples/notebooks/generated/mixed_lm_example.html\n",
    "with warnings.catch_warnings():\n",
    "    warnings.filterwarnings(\"ignore\")\n",
    "    for i in tqdm_notebook(range(B), 'Estimate'):\n",
    "        estimates[i] = -ARIMA(generate_arima(theta=[-0.6], n=120), order=(0, 0, 1)).fit(method='mle', disp=-1).maparams[0]"
   ]
  },
  {
   "cell_type": "code",
   "execution_count": 6,
   "metadata": {},
   "outputs": [
    {
     "data": {
      "image/png": "[encoded data removed]",
      "text/plain": [
       "<Figure size 864x288 with 1 Axes>"
      ]
     },
     "metadata": {
      "needs_background": "light"
     },
     "output_type": "display_data"
    }
   ],
   "source": [
    "plt.figure(figsize=(12, 4))\n",
    "plt.hist(estimates, bins=100, edgecolor='black', color='lightgrey')\n",
    "plt.show()"
   ]
  },
  {
   "cell_type": "code",
   "execution_count": 7,
   "metadata": {},
   "outputs": [
    {
     "name": "stdout",
     "output_type": "stream",
     "text": [
      "Bootstrap estimate mean: -0.604\n",
      "Bootstrap estimate SE:\t 0.079\n",
      "5% percentile:\t\t -0.733\n",
      "95% percentile:\t\t -0.476\n"
     ]
    }
   ],
   "source": [
    "print('Bootstrap estimate mean: %.3f' % estimates.mean())\n",
    "print('Bootstrap estimate SE:\\t %.3f' % estimates.std())\n",
    "print('5%% percentile:\\t\\t %.3f' % (np.percentile(estimates, 5)))\n",
    "print('95%% percentile:\\t\\t %.3f' % (np.percentile(estimates, 95)))"
   ]
  },
  {
   "cell_type": "markdown",
   "metadata": {},
   "source": [
    "The large sample result from Equation (7.4.11) is \n",
    "\n",
    "$$ \\text{Var}[\\hat{\\theta}] \\approx \\frac{1 - \\theta^2}{n} $$\n",
    "\n",
    "which is a variance of 0.00533, or a standard error of 0.073.  The bootstrap process produces a sampling distribution that seems to have a variance in line with this value, and an unbiased result."
   ]
  },
  {
   "cell_type": "markdown",
   "metadata": {},
   "source": [
    "**Exercise 7.13**. Simulate an AR(1) series with $\\phi = 0.8$ and $n = 48$.\n",
    "\n",
    "**(a)** Find the method-of-moments estimate of φ.\n",
    "\n",
    "**(b)** Find the conditional least squares estimate of φ and compare it with part (a).\n",
    "\n",
    "**(c)** Find the maximum likelihood estimate of φ and compare it with parts (a) and (b).\n",
    "\n",
    "**(d)** Repeat parts (a), (b), and (c) with a new simulated series using the same parameters and same sample size. Compare your results with your results from the first simulation."
   ]
  },
  {
   "cell_type": "markdown",
   "metadata": {},
   "source": [
    "**Solution**."
   ]
  },
  {
   "cell_type": "code",
   "execution_count": 8,
   "metadata": {},
   "outputs": [],
   "source": [
    "from statsmodels.tsa.stattools import acf\n",
    "\n",
    "def estimate_ar1_mom(x):\n",
    "    return acf(x, fft=False, nlags=1)[1]"
   ]
  },
  {
   "cell_type": "code",
   "execution_count": 9,
   "metadata": {},
   "outputs": [],
   "source": [
    "np.random.seed(0)\n",
    "Y = generate_arima(phi=[0.8], n=48)"
   ]
  },
  {
   "cell_type": "markdown",
   "metadata": {},
   "source": [
    "**(a)**"
   ]
  },
  {
   "cell_type": "code",
   "execution_count": 10,
   "metadata": {},
   "outputs": [
    {
     "name": "stdout",
     "output_type": "stream",
     "text": [
      "Method of moments estimate: \t\t0.79884\n"
     ]
    }
   ],
   "source": [
    "print('Method of moments estimate: \\t\\t%.5f' % estimate_ar1_mom(Y))"
   ]
  },
  {
   "cell_type": "markdown",
   "metadata": {},
   "source": [
    "**(b)**"
   ]
  },
  {
   "cell_type": "code",
   "execution_count": 11,
   "metadata": {},
   "outputs": [
    {
     "name": "stdout",
     "output_type": "stream",
     "text": [
      "Conditional least squares estimate: \t0.82019\n"
     ]
    }
   ],
   "source": [
    "print('Conditional least squares estimate: \\t%.5f' % ARIMA(Y, order=(1, 0, 0)).fit(method='css').arparams[0])"
   ]
  },
  {
   "cell_type": "markdown",
   "metadata": {},
   "source": [
    "Results are both close to the true value of $\\phi = 0.8$, but for this series the method-of-moments method produced a better estimate."
   ]
  },
  {
   "cell_type": "markdown",
   "metadata": {},
   "source": [
    "**(c)**"
   ]
  },
  {
   "cell_type": "code",
   "execution_count": 12,
   "metadata": {},
   "outputs": [
    {
     "name": "stdout",
     "output_type": "stream",
     "text": [
      "Maximum likelihood estimate: \t\t0.80559\n"
     ]
    }
   ],
   "source": [
    "print('Maximum likelihood estimate: \\t\\t%.5f' % ARIMA(Y, order=(1, 0, 0)).fit(method='mle').arparams[0])"
   ]
  },
  {
   "cell_type": "markdown",
   "metadata": {},
   "source": [
    "Result is still close to the true value of $\\phi = 0.8$ -- closer than the CSS method, but the method-of-moments still produced a better estimate."
   ]
  },
  {
   "cell_type": "markdown",
   "metadata": {},
   "source": [
    "**(d)**"
   ]
  },
  {
   "cell_type": "code",
   "execution_count": 13,
   "metadata": {},
   "outputs": [
    {
     "name": "stdout",
     "output_type": "stream",
     "text": [
      "Method of moments estimate: \t\t0.49153\n",
      "Conditional least squares estimate: \t0.55163\n",
      "Maximum likelihood estimate: \t\t0.58561\n"
     ]
    }
   ],
   "source": [
    "np.random.seed(1)\n",
    "Y = generate_arima(phi=[0.8], n=48)\n",
    "print('Method of moments estimate: \\t\\t%.5f' % estimate_ar1_mom(Y))\n",
    "print('Conditional least squares estimate: \\t%.5f' % ARIMA(Y, order=(1, 0, 0)).fit(method='css').arparams[0])\n",
    "print('Maximum likelihood estimate: \\t\\t%.5f' % ARIMA(Y, order=(1, 0, 0)).fit(method='mle').arparams[0])"
   ]
  },
  {
   "cell_type": "markdown",
   "metadata": {},
   "source": [
    "**Exercise 7.14**.  Simulate an AR(1) series with $\\phi = −0.5$ and $n = 60$.\n",
    "\n",
    "**(a)** Find the method-of-moments estimate of $\\phi$.\n",
    "\n",
    "**(b)** Find the conditional least squares estimate of $\\phi$ and compare it with part (a).\n",
    "\n",
    "**(c)** Find the maximum likelihood estimate of $\\phi$ and compare it with parts (a) and (b).\n",
    "\n",
    "**(d)** Repeat parts (a), (b), and (c) with a new simulated series using the same parameters and same sample size. Compare your results with your results from the first simulation."
   ]
  },
  {
   "cell_type": "markdown",
   "metadata": {},
   "source": [
    "**Solution**."
   ]
  },
  {
   "cell_type": "code",
   "execution_count": 14,
   "metadata": {},
   "outputs": [],
   "source": [
    "np.random.seed(0)\n",
    "Y = generate_arima(phi=[-0.5], n=60)"
   ]
  },
  {
   "cell_type": "markdown",
   "metadata": {},
   "source": [
    "**(a)**"
   ]
  },
  {
   "cell_type": "code",
   "execution_count": 15,
   "metadata": {},
   "outputs": [
    {
     "name": "stdout",
     "output_type": "stream",
     "text": [
      "Method of moments estimate: \t\t-0.47478\n"
     ]
    }
   ],
   "source": [
    "print('Method of moments estimate: \\t\\t%.5f' % estimate_ar1_mom(Y))"
   ]
  },
  {
   "cell_type": "markdown",
   "metadata": {},
   "source": [
    "**(b)**"
   ]
  },
  {
   "cell_type": "code",
   "execution_count": 16,
   "metadata": {},
   "outputs": [
    {
     "name": "stdout",
     "output_type": "stream",
     "text": [
      "Conditional least squares estimate: \t-0.47478\n"
     ]
    }
   ],
   "source": [
    "print('Conditional least squares estimate: \\t%.5f' % ARIMA(Y, order=(1, 0, 0)).fit(method='css').arparams[0])"
   ]
  },
  {
   "cell_type": "markdown",
   "metadata": {},
   "source": [
    "The estimate produced by the CSS method appears to be almost identical to the one produced by the method-of-moments method."
   ]
  },
  {
   "cell_type": "markdown",
   "metadata": {},
   "source": [
    "**(c)**"
   ]
  },
  {
   "cell_type": "code",
   "execution_count": 17,
   "metadata": {},
   "outputs": [
    {
     "name": "stdout",
     "output_type": "stream",
     "text": [
      "Maximum likelihood estimate: \t\t-0.48328\n"
     ]
    }
   ],
   "source": [
    "print('Maximum likelihood estimate: \\t\\t%.5f' % ARIMA(Y, order=(1, 0, 0)).fit(method='mle').arparams[0])"
   ]
  },
  {
   "cell_type": "markdown",
   "metadata": {},
   "source": [
    "The estimate produced by the ML method is closer to the true value than the estimates produced by the other methods."
   ]
  },
  {
   "cell_type": "markdown",
   "metadata": {},
   "source": [
    "**(d)**"
   ]
  },
  {
   "cell_type": "code",
   "execution_count": 18,
   "metadata": {},
   "outputs": [
    {
     "name": "stdout",
     "output_type": "stream",
     "text": [
      "Method of moments estimate: \t\t-0.50269\n",
      "Conditional least squares estimate: \t-0.50371\n",
      "Maximum likelihood estimate: \t\t-0.51714\n"
     ]
    }
   ],
   "source": [
    "np.random.seed(100)\n",
    "Y = generate_arima(phi=[-0.5], n=60)\n",
    "print('Method of moments estimate: \\t\\t%.5f' % estimate_ar1_mom(Y))\n",
    "print('Conditional least squares estimate: \\t%.5f' % ARIMA(Y, order=(1, 0, 0)).fit(method='css').arparams[0])\n",
    "print('Maximum likelihood estimate: \\t\\t%.5f' % ARIMA(Y, order=(1, 0, 0)).fit(method='mle').arparams[0])"
   ]
  },
  {
   "cell_type": "markdown",
   "metadata": {},
   "source": [
    "The method of moments this time appears to provide the better estimate; CSS and ML estimates are worse, though still close."
   ]
  },
  {
   "cell_type": "markdown",
   "metadata": {},
   "source": [
    "**Exercise 7.15**.  Simulate an AR(1) series with $\\phi = 0.7$ and $n = 100$.\n",
    "\n",
    "**(a)** Find the maximum likelihood estimate of $\\phi$.\n",
    "\n",
    "**(b)** If your software permits, repeat part (a) many times with a new simulated series using the same parameters and same sample size.\n",
    "\n",
    "**(c)** Form the sampling distribution of the maximum likelihood estimates of $\\phi$.\n",
    "\n",
    "**(d)** Are the estimates (approximately) unbiased?\n",
    "\n",
    "**(e)** Calculate the variance of your sampling distribution and compare it with the large-sample result in Equation (7.4.9) on page 161."
   ]
  },
  {
   "cell_type": "markdown",
   "metadata": {},
   "source": [
    "**Solution**."
   ]
  },
  {
   "cell_type": "code",
   "execution_count": 19,
   "metadata": {},
   "outputs": [
    {
     "data": {
      "application/vnd.jupyter.widget-view+json": {
       "model_id": "1e0b9b2712fa4af6b7dc1ff5df55eef1",
       "version_major": 2,
       "version_minor": 0
      },
      "text/plain": [
       "HBox(children=(IntProgress(value=0, description='Estimate', max=10000, style=ProgressStyle(description_width='…"
      ]
     },
     "metadata": {},
     "output_type": "display_data"
    },
    {
     "name": "stdout",
     "output_type": "stream",
     "text": [
      "\n"
     ]
    }
   ],
   "source": [
    "np.random.seed(0)\n",
    "\n",
    "B = 10000\n",
    "\n",
    "estimates = np.empty(B)\n",
    "\n",
    "# Filter out MLE convergence warnings, \n",
    "# as in https://www.statsmodels.org/stable/examples/notebooks/generated/mixed_lm_example.html\n",
    "with warnings.catch_warnings():\n",
    "    warnings.filterwarnings(\"ignore\")\n",
    "    for i in tqdm_notebook(range(B), 'Estimate'):\n",
    "        estimates[i] = -ARIMA(generate_arima(phi=[0.7], n=100), order=(1, 0, 0)).fit(method='mle', disp=-1).arparams[0]"
   ]
  },
  {
   "cell_type": "code",
   "execution_count": 20,
   "metadata": {},
   "outputs": [
    {
     "data": {
      "image/png": "[encoded data removed]",
      "text/plain": [
       "<Figure size 864x288 with 1 Axes>"
      ]
     },
     "metadata": {
      "needs_background": "light"
     },
     "output_type": "display_data"
    }
   ],
   "source": [
    "plt.figure(figsize=(12, 4))\n",
    "plt.hist(estimates, bins=100, edgecolor='black', color='lightgrey')\n",
    "plt.show()"
   ]
  },
  {
   "cell_type": "code",
   "execution_count": 21,
   "metadata": {},
   "outputs": [
    {
     "name": "stdout",
     "output_type": "stream",
     "text": [
      "Bootstrap estimate mean: -0.666\n",
      "Bootstrap estimate SE:\t 0.077\n",
      "5% percentile:\t\t -0.780\n",
      "95% percentile:\t\t -0.532\n"
     ]
    }
   ],
   "source": [
    "print('Bootstrap estimate mean: %.3f' % estimates.mean())\n",
    "print('Bootstrap estimate SE:\\t %.3f' % estimates.std())\n",
    "print('5%% percentile:\\t\\t %.3f' % (np.percentile(estimates, 5)))\n",
    "print('95%% percentile:\\t\\t %.3f' % (np.percentile(estimates, 95)))"
   ]
  },
  {
   "cell_type": "markdown",
   "metadata": {},
   "source": [
    "The large sample result from Equation (7.4.9) is \n",
    "\n",
    "$$ \\text{Var}[\\hat{\\theta}] \\approx \\frac{1 - \\phi^2}{n} $$\n",
    "\n",
    "which is a variance of 0.0051, or a standard error of 0.0714.  The bootstrap process produces a sampling distribution that seems to have a variance in line with this value, and an unbiased result."
   ]
  },
  {
   "cell_type": "markdown",
   "metadata": {},
   "source": [
    "**Exercise 7.16**.  Simulate an AR(2) series with $\\phi_1 = 0.6$, $\\phi_2 = 0.3$, and $n = 60$.\n",
    "\n",
    "**(a)** Find the method-of-moments estimates of $\\phi_1$ and $\\phi_2$.\n",
    "\n",
    "**(b)** Find the conditional least squares estimates of $\\phi_1$ and $\\phi_2$ and compare them with part (a).\n",
    "\n",
    "**(c)** Find the maximum likelihood estimates of φ1 and φ2 and compare them with parts (a) and (b).\n",
    "\n",
    "**(d)** Repeat parts (a), (b), and (c) with a new simulated series using the same parameters and same sample size. Compare these results to your results from the first simulation."
   ]
  },
  {
   "cell_type": "markdown",
   "metadata": {},
   "source": [
    "**Solution**."
   ]
  },
  {
   "cell_type": "code",
   "execution_count": 22,
   "metadata": {},
   "outputs": [],
   "source": [
    "np.random.seed(0)\n",
    "Y = generate_arima(phi=[0.6, 0.3], n=60)"
   ]
  },
  {
   "cell_type": "markdown",
   "metadata": {},
   "source": [
    "**(a)**"
   ]
  },
  {
   "cell_type": "code",
   "execution_count": 23,
   "metadata": {},
   "outputs": [],
   "source": [
    "from statsmodels.regression.linear_model import yule_walker\n",
    "\n",
    "def estimate_ar2_mom(x):\n",
    "    rho, sigma = yule_walker(x, order=2)\n",
    "    return rho"
   ]
  },
  {
   "cell_type": "code",
   "execution_count": 24,
   "metadata": {},
   "outputs": [
    {
     "name": "stdout",
     "output_type": "stream",
     "text": [
      "Method of moments estimate (phi1): \t\t0.64453\n",
      "Method of moments estimate (phi2): \t\t0.28471\n"
     ]
    }
   ],
   "source": [
    "phi1, phi2 = estimate_ar2_mom(Y)\n",
    "\n",
    "print('Method of moments estimate (phi1): \\t\\t%.5f' % phi1)\n",
    "print('Method of moments estimate (phi2): \\t\\t%.5f' % phi2)"
   ]
  },
  {
   "cell_type": "markdown",
   "metadata": {},
   "source": [
    "**(b)**"
   ]
  },
  {
   "cell_type": "code",
   "execution_count": 25,
   "metadata": {},
   "outputs": [
    {
     "name": "stdout",
     "output_type": "stream",
     "text": [
      "Conditional least squares estimate (phi1): \t0.64526\n",
      "Conditional least squares estimate (phi2): \t0.30684\n"
     ]
    }
   ],
   "source": [
    "phi1, phi2 = ARIMA(Y, order=(2, 0, 0)).fit(method='css').arparams\n",
    "\n",
    "print('Conditional least squares estimate (phi1): \\t%.5f' % phi1)\n",
    "print('Conditional least squares estimate (phi2): \\t%.5f' % phi2)"
   ]
  },
  {
   "cell_type": "markdown",
   "metadata": {},
   "source": [
    "The estimate for $\\phi_1$ is almost the same, while the estimate for $\\phi_2$ is closer to the true value of 0.3."
   ]
  },
  {
   "cell_type": "markdown",
   "metadata": {},
   "source": [
    "**(c)**"
   ]
  },
  {
   "cell_type": "code",
   "execution_count": 26,
   "metadata": {},
   "outputs": [
    {
     "name": "stdout",
     "output_type": "stream",
     "text": [
      "Maximum likelihood estimate (phi1): \t\t0.63821\n",
      "Maximum likelihood estimate (phi2): \t\t0.29124\n"
     ]
    }
   ],
   "source": [
    "phi1, phi2 = ARIMA(Y, order=(2, 0, 0)).fit(method='mle').arparams\n",
    "\n",
    "print('Maximum likelihood estimate (phi1): \\t\\t%.5f' % phi1)\n",
    "print('Maximum likelihood estimate (phi2): \\t\\t%.5f' % phi2)"
   ]
  },
  {
   "cell_type": "markdown",
   "metadata": {},
   "source": [
    "The estimate for $\\phi_1$ is the closest of the 3 methods, while the estimate for $\\phi_2$ is close to the true vallue but worse than the CSS estimate."
   ]
  },
  {
   "cell_type": "markdown",
   "metadata": {},
   "source": [
    "**(d)**"
   ]
  },
  {
   "cell_type": "code",
   "execution_count": 27,
   "metadata": {},
   "outputs": [
    {
     "name": "stdout",
     "output_type": "stream",
     "text": [
      "Method of moments estimate (phi1): \t\t0.37488\n",
      "Method of moments estimate (phi2): \t\t0.35973\n",
      "Conditional least squares estimate (phi1): \t0.40320\n",
      "Conditional least squares estimate (phi2): \t0.40327\n",
      "Maximum likelihood estimate (phi1): \t\t0.40218\n",
      "Maximum likelihood estimate (phi2): \t\t0.41149\n"
     ]
    }
   ],
   "source": [
    "np.random.seed(1)\n",
    "Y = generate_arima(phi=[0.6, 0.3], n=60)\n",
    "\n",
    "phi1, phi2 = estimate_ar2_mom(Y)\n",
    "print('Method of moments estimate (phi1): \\t\\t%.5f' % phi1)\n",
    "print('Method of moments estimate (phi2): \\t\\t%.5f' % phi2)\n",
    "\n",
    "phi1, phi2 = ARIMA(Y, order=(2, 0, 0)).fit(method='css').arparams\n",
    "print('Conditional least squares estimate (phi1): \\t%.5f' % phi1)\n",
    "print('Conditional least squares estimate (phi2): \\t%.5f' % phi2)\n",
    "\n",
    "phi1, phi2 = ARIMA(Y, order=(2, 0, 0)).fit(method='mle').arparams\n",
    "print('Maximum likelihood estimate (phi1): \\t\\t%.5f' % phi1)\n",
    "print('Maximum likelihood estimate (phi2): \\t\\t%.5f' % phi2)"
   ]
  },
  {
   "cell_type": "markdown",
   "metadata": {},
   "source": [
    "The estimates seem overall very off in all 3 methods."
   ]
  },
  {
   "cell_type": "markdown",
   "metadata": {},
   "source": [
    "**Exercise 7.17**.  Simulate an ARMA(1,1) series with $\\phi = 0.7$, $\\theta = 0.4$, and $n = 72$.\n",
    "\n",
    "**(a)** Find the method-of-moments estimates of $\\phi$ and $\\theta$.\n",
    "\n",
    "**(b)** Find the conditional least squares estimates of $\\phi$ and $\\theta$ and compare them with part (a).\n",
    "\n",
    "**(c)** Find the maximum likelihood estimates of $\\phi$ and $\\theta$ and compare them with parts (a) and (b).\n",
    "\n",
    "**(d)** Repeat parts (a), (b), and (c) with a new simulated series using the same parameters and same sample size. Compare your new results with your results from the first simulation."
   ]
  },
  {
   "cell_type": "markdown",
   "metadata": {},
   "source": [
    "**Solution**."
   ]
  },
  {
   "cell_type": "code",
   "execution_count": 28,
   "metadata": {},
   "outputs": [],
   "source": [
    "np.random.seed(0)\n",
    "Y = generate_arima(phi=[0.7], theta=[0.4], n=72)"
   ]
  },
  {
   "cell_type": "markdown",
   "metadata": {},
   "source": [
    "**(a)**"
   ]
  },
  {
   "cell_type": "code",
   "execution_count": 29,
   "metadata": {},
   "outputs": [],
   "source": [
    "def estimate_arma11_mom(x):\n",
    "    # estimate of phi:  r2 / r1\n",
    "    # estimate of theta: solve r1 = (1 - theta phi) (phi - theta) / (1 - 2 theta phi + theta^2)\n",
    "    #    (if it has real roots)\n",
    "    \n",
    "    r1, r2 = acf(Y, fft=False, nlags=2)[1:]\n",
    "    phi = r2 / r1\n",
    "    delta = (phi**2 - 1)*(phi**2 - 4 *phi *r1 + 4*r1**2 - 1)\n",
    "    if delta < 0:\n",
    "        # Complex roots, no MOM estimate for theta\n",
    "        theta = np.nan\n",
    "    else:\n",
    "        theta = ((phi**2 - 2 * phi * r1 + 1) - np.sqrt(delta)) / (2 * (phi - r1))\n",
    "    return phi, theta"
   ]
  },
  {
   "cell_type": "code",
   "execution_count": 30,
   "metadata": {},
   "outputs": [
    {
     "name": "stdout",
     "output_type": "stream",
     "text": [
      "Method of moments estimate (phi): \t\t0.83994\n",
      "Method of moments estimate (theta): \t\t0.48077\n"
     ]
    }
   ],
   "source": [
    "phi, theta = estimate_arma11_mom(Y)\n",
    "\n",
    "print('Method of moments estimate (phi): \\t\\t%.5f' % phi)\n",
    "print('Method of moments estimate (theta): \\t\\t%.5f' % theta)"
   ]
  },
  {
   "cell_type": "markdown",
   "metadata": {},
   "source": [
    "**(b)**"
   ]
  },
  {
   "cell_type": "code",
   "execution_count": 31,
   "metadata": {},
   "outputs": [
    {
     "name": "stdout",
     "output_type": "stream",
     "text": [
      "Conditional least squares estimate (phi): \t0.96856\n",
      "Conditional least squares estimate (theta): \t-1.00000\n"
     ]
    }
   ],
   "source": [
    "res = ARIMA(Y, order=(1, 0, 1)).fit(method='css')\n",
    "phi, theta = res.arparams[0], res.maparams[0]\n",
    "\n",
    "print('Conditional least squares estimate (phi): \\t%.5f' % phi)\n",
    "print('Conditional least squares estimate (theta): \\t%.5f' % theta)"
   ]
  },
  {
   "cell_type": "markdown",
   "metadata": {},
   "source": [
    "For this particular series, the method of moments provided much better estimates than CSS, which seem very off."
   ]
  },
  {
   "cell_type": "markdown",
   "metadata": {},
   "source": [
    "**(c)**"
   ]
  },
  {
   "cell_type": "code",
   "execution_count": 32,
   "metadata": {},
   "outputs": [
    {
     "name": "stdout",
     "output_type": "stream",
     "text": [
      "Conditional least squares estimate (phi): \t0.86969\n",
      "Conditional least squares estimate (theta): \t-0.53178\n"
     ]
    }
   ],
   "source": [
    "res = ARIMA(Y, order=(1, 0, 1)).fit(method='mle')\n",
    "phi, theta = res.arparams[0], res.maparams[0]\n",
    "\n",
    "print('Conditional least squares estimate (phi): \\t%.5f' % phi)\n",
    "print('Conditional least squares estimate (theta): \\t%.5f' % theta)"
   ]
  },
  {
   "cell_type": "markdown",
   "metadata": {},
   "source": [
    "MLE also provided very poor estimates in this scenario for $\\theta$, though the estimate for $\\phi$ is similar to the estimate obtained by the method of moments."
   ]
  },
  {
   "cell_type": "markdown",
   "metadata": {},
   "source": [
    "**(d)**"
   ]
  },
  {
   "cell_type": "code",
   "execution_count": 33,
   "metadata": {},
   "outputs": [
    {
     "name": "stdout",
     "output_type": "stream",
     "text": [
      "Method of moments estimate (phi): \t\t0.84827\n",
      "Method of moments estimate (theta): \t\t0.65714\n",
      "Conditional least squares estimate (phi): \t0.42877\n",
      "Conditional least squares estimate (theta): \t-0.16134\n",
      "Conditional least squares estimate (phi): \t0.57390\n",
      "Conditional least squares estimate (theta): \t-0.31879\n"
     ]
    }
   ],
   "source": [
    "np.random.seed(1)\n",
    "Y = generate_arima(phi=[0.7], theta=[0.4], n=72)\n",
    "\n",
    "phi, theta = estimate_arma11_mom(Y)\n",
    "print('Method of moments estimate (phi): \\t\\t%.5f' % phi)\n",
    "print('Method of moments estimate (theta): \\t\\t%.5f' % theta)\n",
    "\n",
    "res = ARIMA(Y, order=(1, 0, 1)).fit(method='css')\n",
    "phi, theta = res.arparams[0], res.maparams[0]\n",
    "print('Conditional least squares estimate (phi): \\t%.5f' % phi)\n",
    "print('Conditional least squares estimate (theta): \\t%.5f' % theta)\n",
    "\n",
    "res = ARIMA(Y, order=(1, 0, 1)).fit(method='mle')\n",
    "phi, theta = res.arparams[0], res.maparams[0]\n",
    "print('Conditional least squares estimate (phi): \\t%.5f' % phi)\n",
    "print('Conditional least squares estimate (theta): \\t%.5f' % theta)"
   ]
  },
  {
   "cell_type": "markdown",
   "metadata": {},
   "source": [
    "The estimates for $\\theta$ are all over the place, but the ones for the method of moments seem better.  Estimates for $\\phi$ are also very noisy, but somewhat better."
   ]
  },
  {
   "cell_type": "markdown",
   "metadata": {},
   "source": [
    "**Exercise 7.18**.  Simulate an AR(1) series with $\\phi = 0.6$, $n = 36$ but with error terms from a t-distribution with 3 degrees of freedom.\n",
    "\n",
    "**(a)** Display the sample PACF of the series. Is an AR(1) model suggested?\n",
    "\n",
    "**(b)** Estimate $\\phi$ from the series and comment on the results.\n",
    "\n",
    "**(c)** Repeat parts (a) and (b) with a new simulated series under the same conditions."
   ]
  },
  {
   "cell_type": "markdown",
   "metadata": {},
   "source": [
    "**Solution**."
   ]
  },
  {
   "cell_type": "code",
   "execution_count": 34,
   "metadata": {},
   "outputs": [],
   "source": [
    "def generate_arima(phi=[], d=0, theta=[], n=100, distrvs=None):\n",
    "    \"\"\"\n",
    "    Generates an ARIMA distribution with specified phi, d, and theta parameters,\n",
    "    using the optimally provided random function generator.\n",
    "    \"\"\"\n",
    "    \n",
    "    ar = np.r_[1, -np.array(phi)]\n",
    "    ma = np.r_[1, -np.array(theta)]\n",
    "    Y = ArmaProcess(ar, ma).generate_sample(nsample=n, distrvs=distrvs)\n",
    "    for i in range(d):\n",
    "        Y = np.cumsum(Y)\n",
    "    return Y"
   ]
  },
  {
   "cell_type": "code",
   "execution_count": 35,
   "metadata": {},
   "outputs": [],
   "source": [
    "from scipy.stats import t\n",
    "\n",
    "def rt(df):\n",
    "    \"\"\" \n",
    "    Returns a function that generates random variables from a t-distribution\n",
    "    with df degrees of freedom, with signature compatible with the argument\n",
    "    distrvs in ArmaProcess.generate_sample.\n",
    "    \"\"\"\n",
    "    \n",
    "    def f(size=None):\n",
    "        return t.rvs(df, size=size)\n",
    "    \n",
    "    return f"
   ]
  },
  {
   "cell_type": "code",
   "execution_count": 36,
   "metadata": {},
   "outputs": [],
   "source": [
    "from statsmodels.tsa.stattools import acf, pacf\n",
    "\n",
    "def plot_acf_with_bounds(acf, lower, upper, title='ACF'):\n",
    "    max_k = len(acf)\n",
    "    k = range(1, len(acf)+1)\n",
    "    \n",
    "    plt.figure(figsize=(12, 4))\n",
    "    plt.fill_between(k, lower, upper, color='C0', alpha=0.2)\n",
    "\n",
    "    plt.plot(k, acf, marker='o', linestyle='none', color='C0')\n",
    "    plt.plot([1, max_k], [0, 0], ls=':', color='C0')\n",
    "    for i_k, i_rho in zip(k, acf):\n",
    "        plt.plot([i_k, i_k], [0, i_rho], color='C0')    \n",
    "    \n",
    "    plt.xlabel('Lag')\n",
    "    plt.ylabel(r'$\\rho_k$')\n",
    "    plt.title(title)\n",
    "    plt.show()"
   ]
  },
  {
   "cell_type": "code",
   "execution_count": 37,
   "metadata": {},
   "outputs": [],
   "source": [
    "np.random.seed(1000)\n",
    "Y = generate_arima(phi=[0.6], n=36, distrvs=rt(3))"
   ]
  },
  {
   "cell_type": "markdown",
   "metadata": {},
   "source": [
    "**(a)**"
   ]
  },
  {
   "cell_type": "code",
   "execution_count": 38,
   "metadata": {},
   "outputs": [
    {
     "data": {
      "image/png": "[encoded data removed]",
      "text/plain": [
       "<Figure size 864x288 with 1 Axes>"
      ]
     },
     "metadata": {
      "needs_background": "light"
     },
     "output_type": "display_data"
    }
   ],
   "source": [
    "r = pacf(Y, nlags=15)[1:]\n",
    "se = 1 / np.sqrt(len(Y))\n",
    "plot_acf_with_bounds(r, -2*se, 2*se, title='Sample PACF for AR(1)')"
   ]
  },
  {
   "cell_type": "markdown",
   "metadata": {},
   "source": [
    "Yes -- PACF suggests an AR(1) process, though the lag at $k=14$ may need investigation."
   ]
  },
  {
   "cell_type": "markdown",
   "metadata": {},
   "source": [
    "**(b)**"
   ]
  },
  {
   "cell_type": "code",
   "execution_count": 39,
   "metadata": {},
   "outputs": [
    {
     "name": "stdout",
     "output_type": "stream",
     "text": [
      "Method of moments estimate: \t\t0.38835\n",
      "Maximum likelihood estimate: \t\t0.39221\n"
     ]
    }
   ],
   "source": [
    "print('Method of moments estimate: \\t\\t%.5f' % estimate_ar1_mom(Y))\n",
    "print('Maximum likelihood estimate: \\t\\t%.5f' % ARIMA(Y, order=(1, 0, 0)).fit(method='mle').arparams[0])"
   ]
  },
  {
   "cell_type": "markdown",
   "metadata": {},
   "source": [
    "Both estimates from method of moments and maximum likelihood are a bit off from the true value."
   ]
  },
  {
   "cell_type": "markdown",
   "metadata": {},
   "source": [
    "**(c)**"
   ]
  },
  {
   "cell_type": "code",
   "execution_count": 40,
   "metadata": {},
   "outputs": [
    {
     "data": {
      "image/png": "[encoded data removed]",
      "text/plain": [
       "<Figure size 864x288 with 1 Axes>"
      ]
     },
     "metadata": {
      "needs_background": "light"
     },
     "output_type": "display_data"
    },
    {
     "name": "stdout",
     "output_type": "stream",
     "text": [
      "Method of moments estimate: \t\t0.14268\n",
      "Maximum likelihood estimate: \t\t0.14235\n"
     ]
    }
   ],
   "source": [
    "np.random.seed(1001)\n",
    "Y = generate_arima(phi=[0.6], n=36, distrvs=rt(3))\n",
    "\n",
    "r = pacf(Y, nlags=15)[1:]\n",
    "se = 1 / np.sqrt(len(Y))\n",
    "plot_acf_with_bounds(r, -2*se, 2*se, title='Sample PACF for AR(1)')\n",
    "\n",
    "print('Method of moments estimate: \\t\\t%.5f' % estimate_ar1_mom(Y))\n",
    "print('Maximum likelihood estimate: \\t\\t%.5f' % ARIMA(Y, order=(1, 0, 0)).fit(method='mle').arparams[0])"
   ]
  },
  {
   "cell_type": "markdown",
   "metadata": {},
   "source": [
    "PACF now suggests a white noise process (with potential lags to investigate at 6 and 10), while method of moment and maximum lileihood estimates are a bit off at $\\phi = 0.143$, $\\phi=0.142$."
   ]
  },
  {
   "cell_type": "markdown",
   "metadata": {},
   "source": [
    "**Exercise 7.19**.  Simulate an MA(1) series with $\\theta = −0.8$, $n = 60$ but with error terms from a t-distribution with 4 degrees of freedom.\n",
    "\n",
    "**(a)** Display the sample ACF of the series. Is an MA(1) model suggested?\n",
    "\n",
    "**(b)** Estimate θ from the series and comment on the results.\n",
    "\n",
    "**(c)** Repeat parts (a) and (b) with a new simulated series under the same conditions."
   ]
  },
  {
   "cell_type": "markdown",
   "metadata": {},
   "source": [
    "**Solution**."
   ]
  },
  {
   "cell_type": "code",
   "execution_count": 41,
   "metadata": {},
   "outputs": [],
   "source": [
    "np.random.seed(5000)\n",
    "Y = generate_arima(theta=[-0.8], n=60, distrvs=rt(4))"
   ]
  },
  {
   "cell_type": "markdown",
   "metadata": {},
   "source": [
    "**(a)**"
   ]
  },
  {
   "cell_type": "code",
   "execution_count": 42,
   "metadata": {},
   "outputs": [
    {
     "data": {
      "image/png": "[encoded data removed]",
      "text/plain": [
       "<Figure size 864x288 with 1 Axes>"
      ]
     },
     "metadata": {
      "needs_background": "light"
     },
     "output_type": "display_data"
    }
   ],
   "source": [
    "r = acf(Y, fft=False, nlags=15)[1:]\n",
    "se = 1 / np.sqrt(len(Y))\n",
    "plot_acf_with_bounds(r, -2*se, 2*se, title='Sample ACF for MA(1)')"
   ]
  },
  {
   "cell_type": "markdown",
   "metadata": {},
   "source": [
    "ACF suggests an MA(2) process, rather than the actual MA(1) process."
   ]
  },
  {
   "cell_type": "markdown",
   "metadata": {},
   "source": [
    "**(b)**"
   ]
  },
  {
   "cell_type": "code",
   "execution_count": 43,
   "metadata": {},
   "outputs": [],
   "source": [
    "def estimate_ma1_mom(x):\n",
    "    r = acf(x, fft=False, nlags=1)[1]\n",
    "    if np.abs(r) < 0.5:\n",
    "        return (-1 + np.sqrt(1 - 4 * r**2))/(2*r)\n",
    "    return np.nan"
   ]
  },
  {
   "cell_type": "code",
   "execution_count": 44,
   "metadata": {},
   "outputs": [
    {
     "name": "stdout",
     "output_type": "stream",
     "text": [
      "Method of moments estimate: \t\t-0.32257\n",
      "Maximum likelihood estimate: \t\t-0.89825\n"
     ]
    }
   ],
   "source": [
    "print('Method of moments estimate: \\t\\t%.5f' % estimate_ma1_mom(Y))\n",
    "print('Maximum likelihood estimate: \\t\\t%.5f' % -ARIMA(Y, order=(0, 0, 1)).fit(method='mle').maparams[0])"
   ]
  },
  {
   "cell_type": "markdown",
   "metadata": {},
   "source": [
    "Both estimates seem to be off, with the method of moments estimate at $\\theta = -0.322$ and the maximum likelihood estimate with $\\theta = -0.898$."
   ]
  },
  {
   "cell_type": "markdown",
   "metadata": {},
   "source": [
    "**(c)**"
   ]
  },
  {
   "cell_type": "code",
   "execution_count": 45,
   "metadata": {},
   "outputs": [
    {
     "data": {
      "image/png": "[encoded data removed]",
      "text/plain": [
       "<Figure size 864x288 with 1 Axes>"
      ]
     },
     "metadata": {
      "needs_background": "light"
     },
     "output_type": "display_data"
    },
    {
     "name": "stdout",
     "output_type": "stream",
     "text": [
      "Method of moments estimate: \t\t-0.64415\n",
      "Maximum likelihood estimate: \t\t-0.78173\n"
     ]
    }
   ],
   "source": [
    "np.random.seed(5001)\n",
    "Y = generate_arima(theta=[-0.8], n=60, distrvs=rt(4))\n",
    "\n",
    "r = acf(Y, fft=False, nlags=15)[1:]\n",
    "se = 1 / np.sqrt(len(Y))\n",
    "plot_acf_with_bounds(r, -2*se, 2*se, title='Sample ACF for MA(1)')\n",
    "\n",
    "print('Method of moments estimate: \\t\\t%.5f' % estimate_ma1_mom(Y))\n",
    "print('Maximum likelihood estimate: \\t\\t%.5f' % -ARIMA(Y, order=(0, 0, 1)).fit(method='mle').maparams[0])"
   ]
  },
  {
   "cell_type": "markdown",
   "metadata": {},
   "source": [
    "This time the ACF is less clear cut; it suggests MA(1) but the lags at 3, 4 may need to be investigated.\n",
    "\n",
    "Method of moment estimates and maximum likelihood estimates for $\\theta$ are closer to the true value, at $\\theta = -0.644$ and $\\theta = -0.782$."
   ]
  },
  {
   "cell_type": "markdown",
   "metadata": {},
   "source": [
    "**Exercise 7.20**. Simulate an AR(2) series with $\\phi_1 = 1.0$, $\\phi_2 = −0.6$, $n = 48$ but with error terms from a t-distribution with 5 degrees of freedom.\n",
    "\n",
    "**(a)** Display the sample PACF of the series. Is an AR(2) model suggested?\n",
    "\n",
    "**(b)** Estimate $\\phi_1$ and $\\phi_2$ from the series and comment on the results.\n",
    "\n",
    "**(c)** Repeat parts (a) and (b) with a new simulated series under the same conditions."
   ]
  },
  {
   "cell_type": "markdown",
   "metadata": {},
   "source": [
    "**Solution**."
   ]
  },
  {
   "cell_type": "code",
   "execution_count": 46,
   "metadata": {},
   "outputs": [],
   "source": [
    "np.random.seed(5000)\n",
    "Y = generate_arima(phi=[1, -0.6], n=48, distrvs=rt(5))"
   ]
  },
  {
   "cell_type": "markdown",
   "metadata": {},
   "source": [
    "**(a)**"
   ]
  },
  {
   "cell_type": "code",
   "execution_count": 47,
   "metadata": {},
   "outputs": [
    {
     "data": {
      "image/png": "[encoded data removed]",
      "text/plain": [
       "<Figure size 864x288 with 1 Axes>"
      ]
     },
     "metadata": {
      "needs_background": "light"
     },
     "output_type": "display_data"
    }
   ],
   "source": [
    "r = pacf(Y, nlags=15)[1:]\n",
    "se = 1 / np.sqrt(len(Y))\n",
    "plot_acf_with_bounds(r, -2*se, 2*se, title='Sample PACF for AR(2)')"
   ]
  },
  {
   "cell_type": "markdown",
   "metadata": {},
   "source": [
    "Yes, the PACF suggests an AR(2) model."
   ]
  },
  {
   "cell_type": "markdown",
   "metadata": {},
   "source": [
    "**(b)**"
   ]
  },
  {
   "cell_type": "code",
   "execution_count": 48,
   "metadata": {},
   "outputs": [
    {
     "name": "stdout",
     "output_type": "stream",
     "text": [
      "Method of moments estimate (phi1): \t\t0.64004\n",
      "Method of moments estimate (phi2): \t\t-0.56157\n",
      "Maximum likelihood estimate (phi1): \t\t0.69446\n",
      "Maximum likelihood estimate (phi2): \t\t-0.60242\n"
     ]
    }
   ],
   "source": [
    "phi1, phi2 = estimate_ar2_mom(Y)\n",
    "print('Method of moments estimate (phi1): \\t\\t%.5f' % phi1)\n",
    "print('Method of moments estimate (phi2): \\t\\t%.5f' % phi2)\n",
    "\n",
    "phi1, phi2 = ARIMA(Y, order=(2, 0, 0)).fit(method='mle').arparams\n",
    "print('Maximum likelihood estimate (phi1): \\t\\t%.5f' % phi1)\n",
    "print('Maximum likelihood estimate (phi2): \\t\\t%.5f' % phi2)"
   ]
  },
  {
   "cell_type": "markdown",
   "metadata": {},
   "source": [
    "Both estimates for $\\phi_1$ are a bit off, while the estimates for $\\phi_2$ are closer to the true value."
   ]
  },
  {
   "cell_type": "markdown",
   "metadata": {},
   "source": [
    "**(c)**"
   ]
  },
  {
   "cell_type": "code",
   "execution_count": 49,
   "metadata": {},
   "outputs": [],
   "source": [
    "np.random.seed(5001)\n",
    "Y = generate_arima(phi=[1, -0.6], n=48, distrvs=rt(5))"
   ]
  },
  {
   "cell_type": "code",
   "execution_count": 50,
   "metadata": {},
   "outputs": [
    {
     "name": "stderr",
     "output_type": "stream",
     "text": [
      "c:\\programdata\\miniconda3\\lib\\site-packages\\statsmodels\\regression\\linear_model.py:1406: RuntimeWarning: invalid value encountered in sqrt\n",
      "  return rho, np.sqrt(sigmasq)\n"
     ]
    },
    {
     "data": {
      "image/png": "[encoded data removed]",
      "text/plain": [
       "<Figure size 864x288 with 1 Axes>"
      ]
     },
     "metadata": {
      "needs_background": "light"
     },
     "output_type": "display_data"
    },
    {
     "name": "stdout",
     "output_type": "stream",
     "text": [
      "Method of moments estimate (phi1): \t\t1.23578\n",
      "Method of moments estimate (phi2): \t\t-0.80324\n",
      "Maximum likelihood estimate (phi1): \t\t1.15184\n",
      "Maximum likelihood estimate (phi2): \t\t-0.72105\n"
     ]
    }
   ],
   "source": [
    "r = pacf(Y, nlags=15)[1:]\n",
    "se = 1 / np.sqrt(len(Y))\n",
    "plot_acf_with_bounds(r, -2*se, 2*se, title='Sample PACF for AR(2)')\n",
    "\n",
    "phi1, phi2 = estimate_ar2_mom(Y)\n",
    "print('Method of moments estimate (phi1): \\t\\t%.5f' % phi1)\n",
    "print('Method of moments estimate (phi2): \\t\\t%.5f' % phi2)\n",
    "\n",
    "phi1, phi2 = ARIMA(Y, order=(2, 0, 0)).fit(method='mle').arparams\n",
    "print('Maximum likelihood estimate (phi1): \\t\\t%.5f' % phi1)\n",
    "print('Maximum likelihood estimate (phi2): \\t\\t%.5f' % phi2)"
   ]
  },
  {
   "cell_type": "markdown",
   "metadata": {},
   "source": [
    "This time, PACF displays multiple invalid lags, with some numerical issues in the computation -- as a result of the not-so-rare fat tails in the t-distribution.\n",
    "\n",
    "Estimates for $\\phi_1, \\phi_2$ are a bit off as well, but at least have the right sign and order of magnitude."
   ]
  }
 ],
 "metadata": {
  "kernelspec": {
   "display_name": "Python 3",
   "language": "python",
   "name": "python3"
  },
  "language_info": {
   "codemirror_mode": {
    "name": "ipython",
    "version": 3
   },
   "file_extension": ".py",
   "mimetype": "text/x-python",
   "name": "python",
   "nbconvert_exporter": "python",
   "pygments_lexer": "ipython3",
   "version": "3.7.3"
  }
 },
 "nbformat": 4,
 "nbformat_minor": 2
}
