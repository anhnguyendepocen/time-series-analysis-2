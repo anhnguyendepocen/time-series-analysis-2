{
 "cells": [
  {
   "cell_type": "markdown",
   "metadata": {},
   "source": [
    "## 8. Model Diagnostics"
   ]
  },
  {
   "cell_type": "markdown",
   "metadata": {},
   "source": [
    "**Exercise 8.1**.  For an AR(1) model with $\\phi \\approx 0.5$ and $n = 100$, the lag 1 sample autocorrelation of the residuals is 0.5.  Should we consider this unusual?  Why or why not?"
   ]
  },
  {
   "cell_type": "markdown",
   "metadata": {},
   "source": [
    "**Solution**.  From Equation (8.1.5),\n",
    "\n",
    "$$ \\text{Var}[\\hat{r}_1] \\approx \\frac{\\phi^2}{n} $$\n",
    "\n",
    "so the standard error of the sample correlation to be approximately 0.05, and we should expect the lag 1 sample autocorrelation to be within 2 standard errors, $\\pm 0.1$.  A value of 0.5 is unusual."
   ]
  },
  {
   "cell_type": "markdown",
   "metadata": {},
   "source": [
    "**Exercise 8.2**.  Repeat Exercise 8.1 for an MA(1) model with $\\theta \\approx 0.5$ and and $n = 100$."
   ]
  },
  {
   "cell_type": "markdown",
   "metadata": {},
   "source": [
    "**Solution**.  Page 183 indicates that we can replace $\\phi$ with $\\theta$ for MA(1) models, so\n",
    "\n",
    "$$ \\text{Var}[\\hat{r}_1] \\approx \\frac{\\theta^2}{n} $$\n",
    "\n",
    "Once again the standard error of the sample correlation is approximately 0.05, and we should expect the lag 1 sample autocorrelation to be within 2 standard errors, $\\pm 0.1$.  A value of 0.5 is unusual."
   ]
  },
  {
   "cell_type": "markdown",
   "metadata": {},
   "source": [
    "**Exercise 8.3**.  Based on a series of length $n = 200$, we fit an AR(2) model and obtain residual autocorrelations of $\\hat{r}_1 = 0.13$, $\\hat{r}_2 = 0.13$, and $\\hat{r}_3 = 0.12$.  If $\\hat{\\phi}_1 = 1.1$ and $\\hat{\\phi}_2 = −0.8$, do these residual autocorrelations support the AR(2) specification?  Individually  Jointly?"
   ]
  },
  {
   "cell_type": "markdown",
   "metadata": {},
   "source": [
    "**Solution**.  Equations (8.1.8), (8.1.9) and (8.1.10) state that, for the AR(2) model,\n",
    "\n",
    "$$\n",
    "\\text{Var}[\\hat{r}_1] \\approx \\frac{\\phi_2^2}{n},\n",
    "\\quad\n",
    "\\text{Var}[\\hat{r}_2] \\approx \\frac{\\phi_2^2 + \\phi_1^2(1 + \\phi_2)^2}{n},\n",
    "\\quad\n",
    "\\text{Var}[\\hat{r}_k] \\approx \\frac{1}{n} \\quad \\text{for } k \\geq 3\n",
    "$$\n",
    "\n",
    "Replacing in the given values, we get\n",
    "\n",
    "$$\n",
    "2 \\sqrt{\\text{Var}[\\hat{r}_1]} \\approx 0.113,\n",
    "\\quad\n",
    "2 \\sqrt{\\text{Var}[\\hat{r}_2]} \\approx 0.117,\n",
    "\\quad\n",
    "2 \\sqrt{\\text{Var}[\\hat{r}_k]} \\approx 0.141 \\quad \\text{for } k \\geq 3\n",
    "$$\n",
    "\n",
    "The residual autocorrelations for $\\hat{r}_1$ and $\\hat{r}_2$ are above those thresholds, while the residual autocorrelation for $\\hat{r}_3$ is under the corresponding threshold.\n",
    "\n",
    "The Ljung-Box statistic is\n",
    "\n",
    "$$ Q_* = n(n+2) \\left( \\frac{\\hat{r}_1^2}{n - 1} + \\frac{\\hat{r}_2^2}{n - 2} + \\frac{\\hat{r}_3^2}{n - 3} \\right) $$\n",
    "\n",
    "which, replacing values, gives $Q_* \\approx 9.832$.  If the AR(2) speficication is correct, then $Q_*$ should have approximately a chi-square distribution with 3 - 2 = 1 degree of freedom.  But $\\text{Pr}[\\chi_1^2 > Q_*] \\approx 0.0017$, so the residual correlations are jointly too large to support the AR(2) specification at p-value 0.01."
   ]
  },
  {
   "cell_type": "code",
   "execution_count": 1,
   "metadata": {},
   "outputs": [
    {
     "name": "stdout",
     "output_type": "stream",
     "text": [
      "9.832334048852683\n"
     ]
    }
   ],
   "source": [
    "n = 200\n",
    "r1, r2, r3 = 0.13, 0.13, 0.12\n",
    "Qstar = n * (n + 2) * (r1**2/(n-1) + r2**2/(n-2) + r3**2/(n-3))\n",
    "\n",
    "print(Qstar)"
   ]
  },
  {
   "cell_type": "code",
   "execution_count": 2,
   "metadata": {},
   "outputs": [
    {
     "name": "stdout",
     "output_type": "stream",
     "text": [
      "0.0017147062472285812\n"
     ]
    }
   ],
   "source": [
    "from scipy.stats import chi2\n",
    "\n",
    "print(1 - chi2.cdf(Qstar, df=1))"
   ]
  },
  {
   "cell_type": "markdown",
   "metadata": {},
   "source": [
    "**Exercise 8.4**.  Simulate an AR(1) model with $n = 30$ and $\\phi = 0.5$.\n",
    "\n",
    "**(a)** Fit the correctly specified AR(1) model and look at a time series plot of the residuals.  Does the plot support the AR(1) specification?\n",
    "\n",
    "**(b)** Display a normal quantile-quantile plot of the standardized residuals.  Does the plot support the AR(1) specification?\n",
    "\n",
    "**(c)** Display the sample ACF of the residuals.  Does the plot support the AR(1) specification?\n",
    "\n",
    "**(d)** Calculate the Ljung-Box statistic summing to $K = 8$.  Does this statistic support the AR(1) specification?"
   ]
  },
  {
   "cell_type": "markdown",
   "metadata": {},
   "source": [
    "**Solution**."
   ]
  },
  {
   "cell_type": "code",
   "execution_count": 3,
   "metadata": {},
   "outputs": [],
   "source": [
    "import numpy as np\n",
    "import pandas as pd\n",
    "from statsmodels.tsa.arima_process import ArmaProcess\n",
    "from statsmodels.tsa.arima_model import ARIMA\n",
    "from tqdm import tqdm_notebook\n",
    "import warnings\n",
    "\n",
    "import matplotlib.pyplot as plt\n",
    "%matplotlib inline"
   ]
  },
  {
   "cell_type": "code",
   "execution_count": 4,
   "metadata": {},
   "outputs": [],
   "source": [
    "def generate_arima(phi=[], d=0, theta=[], n=100):\n",
    "    \"\"\"\n",
    "    Generates an ARIMA distribution with specified phi, d, and theta parameters.\n",
    "    \"\"\"\n",
    "    \n",
    "    ar = np.r_[1, -np.array(phi)]\n",
    "    ma = np.r_[1, -np.array(theta)]\n",
    "    Y = ArmaProcess(ar, ma).generate_sample(nsample=n)\n",
    "    for i in range(d):\n",
    "        Y = np.cumsum(Y)\n",
    "    return Y"
   ]
  },
  {
   "cell_type": "code",
   "execution_count": 5,
   "metadata": {},
   "outputs": [],
   "source": [
    "np.random.seed(0)\n",
    "Y = generate_arima(phi=[0.5], n=30)"
   ]
  },
  {
   "cell_type": "markdown",
   "metadata": {},
   "source": [
    "**(a)**"
   ]
  },
  {
   "cell_type": "code",
   "execution_count": 6,
   "metadata": {},
   "outputs": [],
   "source": [
    "fitted_model = ARIMA(Y, order=(1, 0, 0)).fit(method='mle')"
   ]
  },
  {
   "cell_type": "code",
   "execution_count": 7,
   "metadata": {},
   "outputs": [
    {
     "data": {
      "image/png": "[encoded data removed]",
      "text/plain": [
       "<Figure size 864x288 with 1 Axes>"
      ]
     },
     "metadata": {
      "needs_background": "light"
     },
     "output_type": "display_data"
    }
   ],
   "source": [
    "plt.figure(figsize=(12, 4))\n",
    "plt.plot(range(1, len(fitted_model.resid) + 1), fitted_model.resid)\n",
    "plt.show()"
   ]
  },
  {
   "cell_type": "markdown",
   "metadata": {},
   "source": [
    "These residuals look \"random\"."
   ]
  },
  {
   "cell_type": "markdown",
   "metadata": {},
   "source": [
    "**(b)**"
   ]
  },
  {
   "cell_type": "code",
   "execution_count": 8,
   "metadata": {},
   "outputs": [],
   "source": [
    "import statsmodels.api as sm"
   ]
  },
  {
   "cell_type": "code",
   "execution_count": 9,
   "metadata": {},
   "outputs": [
    {
     "data": {
      "image/png": "[encoded data removed]",
      "text/plain": [
       "<Figure size 432x288 with 1 Axes>"
      ]
     },
     "metadata": {
      "needs_background": "light"
     },
     "output_type": "display_data"
    }
   ],
   "source": [
    "probplot = sm.ProbPlot(fitted_model.resid, fit=True)\n",
    "fig = probplot.qqplot(line='45')\n",
    "plt.show()"
   ]
  },
  {
   "cell_type": "markdown",
   "metadata": {},
   "source": [
    "The lower tail looks suspect; the plot otherwise looks sensible.  Doing a Shapiro-Wilk test to verify normality:"
   ]
  },
  {
   "cell_type": "code",
   "execution_count": 10,
   "metadata": {},
   "outputs": [],
   "source": [
    "from scipy.stats import shapiro"
   ]
  },
  {
   "cell_type": "code",
   "execution_count": 11,
   "metadata": {},
   "outputs": [
    {
     "data": {
      "text/plain": [
       "0.4845081865787506"
      ]
     },
     "execution_count": 11,
     "metadata": {},
     "output_type": "execute_result"
    }
   ],
   "source": [
    "W, p_value = shapiro(fitted_model.resid)\n",
    "p_value"
   ]
  },
  {
   "cell_type": "markdown",
   "metadata": {},
   "source": [
    "Shapiro-Wilk fails to reject normality."
   ]
  },
  {
   "cell_type": "markdown",
   "metadata": {},
   "source": [
    "**(c)**"
   ]
  },
  {
   "cell_type": "code",
   "execution_count": 12,
   "metadata": {},
   "outputs": [],
   "source": [
    "from statsmodels.tsa.stattools import acf, pacf\n",
    "\n",
    "def plot_acf_with_bounds(acf, lower, upper, title='ACF'):\n",
    "    max_k = len(acf)\n",
    "    k = range(1, len(acf)+1)\n",
    "    \n",
    "    plt.figure(figsize=(12, 4))\n",
    "    plt.fill_between(k, lower, upper, color='C0', alpha=0.2)\n",
    "\n",
    "    plt.plot(k, acf, marker='o', linestyle='none', color='C0')\n",
    "    plt.plot([1, max_k], [0, 0], ls=':', color='C0')\n",
    "    for i_k, i_rho in zip(k, acf):\n",
    "        plt.plot([i_k, i_k], [0, i_rho], color='C0')    \n",
    "    \n",
    "    plt.xlabel('Lag')\n",
    "    plt.ylabel(r'$\\rho_k$')\n",
    "    plt.title(title)\n",
    "    plt.show()"
   ]
  },
  {
   "cell_type": "code",
   "execution_count": 13,
   "metadata": {},
   "outputs": [
    {
     "data": {
      "image/png": "[encoded data removed]",
      "text/plain": [
       "<Figure size 864x288 with 1 Axes>"
      ]
     },
     "metadata": {
      "needs_background": "light"
     },
     "output_type": "display_data"
    }
   ],
   "source": [
    "r = acf(fitted_model.resid, fft=False, nlags=15)[1:]\n",
    "se = 1 / np.sqrt(len(fitted_model.resid))\n",
    "plot_acf_with_bounds(r, -2*se, 2*se, title='Sample ACF for residuals')"
   ]
  },
  {
   "cell_type": "markdown",
   "metadata": {},
   "source": [
    "The sample ACF supports the residuals being random."
   ]
  },
  {
   "cell_type": "markdown",
   "metadata": {},
   "source": [
    "**(d)**"
   ]
  },
  {
   "cell_type": "code",
   "execution_count": 14,
   "metadata": {},
   "outputs": [],
   "source": [
    "from scipy.stats import chi2\n",
    "\n",
    "def ljung_box_test(r, n, k_ar=0, k_ma=0):\n",
    "    nlags = len(r)\n",
    "    denominators = np.arange(n-1, n-1-nlags, step=-1)\n",
    "    Qstar = n * (n-2) * np.sum(r**2 / denominators)\n",
    "    df = nlags - k_ar - k_ma\n",
    "    p_value = 1 - chi2.cdf(Qstar, df=df)\n",
    "    \n",
    "    return {\n",
    "        'X-squared': Qstar,\n",
    "        'df': df,\n",
    "        'p-value': p_value\n",
    "    }"
   ]
  },
  {
   "cell_type": "code",
   "execution_count": 15,
   "metadata": {},
   "outputs": [
    {
     "data": {
      "text/plain": [
       "{'X-squared': 2.0225685691662245, 'df': 7, 'p-value': 0.9585806863868557}"
      ]
     },
     "execution_count": 15,
     "metadata": {},
     "output_type": "execute_result"
    }
   ],
   "source": [
    "ljung_box_test(r=acf(fitted_model.resid, fft=False, nlags=8)[1:], n=len(Y), k_ar=1)"
   ]
  },
  {
   "cell_type": "markdown",
   "metadata": {},
   "source": [
    "The test does not reject randomness of error based on the first 8 autocorrelations."
   ]
  },
  {
   "cell_type": "markdown",
   "metadata": {},
   "source": [
    "**Exercise 8.5**. Simulate an MA(1) model with $n = 36$ and $\\theta = −0.5$.\n",
    "\n",
    "**(a)** Fit the correctly specified MA(1) model and look at a time series plot of the residuals.  Does the plot support the MA(1) specification?\n",
    "\n",
    "**(b)** Display a normal quantile-quantile plot of the standardized residuals.  Does the plot support the MA(1) specification?\n",
    "\n",
    "**(c)** Display the sample ACF of the residuals.  Does the plot support the MA(1) specification?\n",
    "\n",
    "**(d)** Calculate the Ljung-Box statistic summing to K = 6.  Does this statistic support the MA(1) specification?"
   ]
  },
  {
   "cell_type": "markdown",
   "metadata": {},
   "source": [
    "**Solution**."
   ]
  },
  {
   "cell_type": "code",
   "execution_count": 16,
   "metadata": {},
   "outputs": [],
   "source": [
    "np.random.seed(1000)\n",
    "Y = generate_arima(theta=[-0.5], n=36)"
   ]
  },
  {
   "cell_type": "markdown",
   "metadata": {},
   "source": [
    "**(a)**"
   ]
  },
  {
   "cell_type": "code",
   "execution_count": 17,
   "metadata": {},
   "outputs": [],
   "source": [
    "fitted_model = ARIMA(Y, order=(0, 0, 1)).fit(method='mle')"
   ]
  },
  {
   "cell_type": "code",
   "execution_count": 18,
   "metadata": {},
   "outputs": [
    {
     "data": {
      "image/png": "[encoded data removed]",
      "text/plain": [
       "<Figure size 864x288 with 1 Axes>"
      ]
     },
     "metadata": {
      "needs_background": "light"
     },
     "output_type": "display_data"
    }
   ],
   "source": [
    "plt.figure(figsize=(12, 4))\n",
    "plt.plot(range(1, len(fitted_model.resid) + 1), fitted_model.resid)\n",
    "plt.show()"
   ]
  },
  {
   "cell_type": "markdown",
   "metadata": {},
   "source": [
    "These residuals look random."
   ]
  },
  {
   "cell_type": "markdown",
   "metadata": {},
   "source": [
    "**(b)**"
   ]
  },
  {
   "cell_type": "code",
   "execution_count": 19,
   "metadata": {},
   "outputs": [
    {
     "data": {
      "image/png": "[encoded data removed]",
      "text/plain": [
       "<Figure size 432x288 with 1 Axes>"
      ]
     },
     "metadata": {
      "needs_background": "light"
     },
     "output_type": "display_data"
    }
   ],
   "source": [
    "probplot = sm.ProbPlot(fitted_model.resid, fit=True)\n",
    "fig = probplot.qqplot(line='45')\n",
    "plt.show()"
   ]
  },
  {
   "cell_type": "markdown",
   "metadata": {},
   "source": [
    "The upper tail looks suspect, but the residuals do look random.  Doing a Shapiro-Wilk test to confirm:"
   ]
  },
  {
   "cell_type": "code",
   "execution_count": 20,
   "metadata": {},
   "outputs": [
    {
     "data": {
      "text/plain": [
       "0.16901949048042297"
      ]
     },
     "execution_count": 20,
     "metadata": {},
     "output_type": "execute_result"
    }
   ],
   "source": [
    "W, p_value = shapiro(fitted_model.resid)\n",
    "p_value"
   ]
  },
  {
   "cell_type": "markdown",
   "metadata": {},
   "source": [
    "Shapiro-Walk fails to reject normality."
   ]
  },
  {
   "cell_type": "markdown",
   "metadata": {},
   "source": [
    "**(c)**"
   ]
  },
  {
   "cell_type": "code",
   "execution_count": 21,
   "metadata": {},
   "outputs": [
    {
     "data": {
      "image/png": "[encoded data removed]",
      "text/plain": [
       "<Figure size 864x288 with 1 Axes>"
      ]
     },
     "metadata": {
      "needs_background": "light"
     },
     "output_type": "display_data"
    }
   ],
   "source": [
    "r = acf(fitted_model.resid, fft=False, nlags=15)[1:]\n",
    "se = 1 / np.sqrt(len(fitted_model.resid))\n",
    "plot_acf_with_bounds(r, -2*se, 2*se, title='Sample ACF for residuals')"
   ]
  },
  {
   "cell_type": "markdown",
   "metadata": {},
   "source": [
    "ACF supports residuals being random."
   ]
  },
  {
   "cell_type": "markdown",
   "metadata": {},
   "source": [
    "**(d)**"
   ]
  },
  {
   "cell_type": "code",
   "execution_count": 22,
   "metadata": {},
   "outputs": [
    {
     "data": {
      "text/plain": [
       "{'X-squared': 3.1238224861745865, 'df': 5, 'p-value': 0.680902808042148}"
      ]
     },
     "execution_count": 22,
     "metadata": {},
     "output_type": "execute_result"
    }
   ],
   "source": [
    "ljung_box_test(r=acf(fitted_model.resid, fft=False, nlags=6)[1:], n=len(Y), k_ma=1)"
   ]
  },
  {
   "cell_type": "markdown",
   "metadata": {},
   "source": [
    "The test does not reject randomness of error based on the first 6 autocorrelations."
   ]
  },
  {
   "cell_type": "markdown",
   "metadata": {},
   "source": [
    "**Exercise 8.6**.  Simulate an AR(2) model with $n = 48$, $\\phi_1 = 1.5$, and $\\phi_2 = −0.75$.\n",
    "\n",
    "**(a)** Fit the correctly specified AR(2) model and look at a time series plot of the residuals.  Does the plot support the AR(2) specification?\n",
    "\n",
    "**(b)** Display a normal quantile-quantile plot of the standardized residuals.  Does the plot support the AR(2) specification?\n",
    "\n",
    "**(c)** Display the sample ACF of the residuals.  Does the plot support the AR(2) specification?\n",
    "\n",
    "**(d)** Calculate the Ljung-Box statistic summing to K = 12.  Does this statistic support the AR(2) specification?"
   ]
  },
  {
   "cell_type": "markdown",
   "metadata": {},
   "source": [
    "**Solution**."
   ]
  },
  {
   "cell_type": "code",
   "execution_count": 23,
   "metadata": {},
   "outputs": [],
   "source": [
    "np.random.seed(2000)\n",
    "Y = generate_arima(phi=[1.5, -0.75], n=48)"
   ]
  },
  {
   "cell_type": "markdown",
   "metadata": {},
   "source": [
    "**(a)**"
   ]
  },
  {
   "cell_type": "code",
   "execution_count": 24,
   "metadata": {},
   "outputs": [],
   "source": [
    "fitted_model = ARIMA(Y, order=(2, 0, 0)).fit(method='mle')"
   ]
  },
  {
   "cell_type": "code",
   "execution_count": 25,
   "metadata": {},
   "outputs": [
    {
     "data": {
      "image/png": "[encoded data removed]",
      "text/plain": [
       "<Figure size 864x288 with 1 Axes>"
      ]
     },
     "metadata": {
      "needs_background": "light"
     },
     "output_type": "display_data"
    }
   ],
   "source": [
    "plt.figure(figsize=(12, 4))\n",
    "plt.plot(range(1, len(fitted_model.resid) + 1), fitted_model.resid)\n",
    "plt.show()"
   ]
  },
  {
   "cell_type": "markdown",
   "metadata": {},
   "source": [
    "The residuals look random."
   ]
  },
  {
   "cell_type": "markdown",
   "metadata": {},
   "source": [
    "**(b)**"
   ]
  },
  {
   "cell_type": "code",
   "execution_count": 26,
   "metadata": {},
   "outputs": [
    {
     "data": {
      "image/png": "[encoded data removed]",
      "text/plain": [
       "<Figure size 432x288 with 1 Axes>"
      ]
     },
     "metadata": {
      "needs_background": "light"
     },
     "output_type": "display_data"
    }
   ],
   "source": [
    "probplot = sm.ProbPlot(fitted_model.resid, fit=True)\n",
    "fig = probplot.qqplot(line='45')\n",
    "plt.show()"
   ]
  },
  {
   "cell_type": "markdown",
   "metadata": {},
   "source": [
    "Tails are a bit suspect in both directions.  Doing Shapiro-Wilk test for normality:"
   ]
  },
  {
   "cell_type": "code",
   "execution_count": 27,
   "metadata": {},
   "outputs": [
    {
     "data": {
      "text/plain": [
       "0.8312253952026367"
      ]
     },
     "execution_count": 27,
     "metadata": {},
     "output_type": "execute_result"
    }
   ],
   "source": [
    "W, p_value = shapiro(fitted_model.resid)\n",
    "p_value"
   ]
  },
  {
   "cell_type": "markdown",
   "metadata": {},
   "source": [
    "The test fails to reject normality in residuals."
   ]
  },
  {
   "cell_type": "markdown",
   "metadata": {},
   "source": [
    "**(c)**"
   ]
  },
  {
   "cell_type": "code",
   "execution_count": 28,
   "metadata": {},
   "outputs": [
    {
     "data": {
      "image/png": "[encoded data removed]",
      "text/plain": [
       "<Figure size 864x288 with 1 Axes>"
      ]
     },
     "metadata": {
      "needs_background": "light"
     },
     "output_type": "display_data"
    }
   ],
   "source": [
    "r = acf(fitted_model.resid, fft=False, nlags=15)[1:]\n",
    "se = 1 / np.sqrt(len(fitted_model.resid))\n",
    "plot_acf_with_bounds(r, -2*se, 2*se, title='Sample ACF for residuals')"
   ]
  },
  {
   "cell_type": "markdown",
   "metadata": {},
   "source": [
    "The ACF plot supports residuals being random."
   ]
  },
  {
   "cell_type": "markdown",
   "metadata": {},
   "source": [
    "**(d)**"
   ]
  },
  {
   "cell_type": "code",
   "execution_count": 29,
   "metadata": {},
   "outputs": [
    {
     "data": {
      "text/plain": [
       "{'X-squared': 4.33538315392091, 'df': 10, 'p-value': 0.9309516131660488}"
      ]
     },
     "execution_count": 29,
     "metadata": {},
     "output_type": "execute_result"
    }
   ],
   "source": [
    "ljung_box_test(r=acf(fitted_model.resid, fft=False, nlags=12)[1:], n=len(Y), k_ar=2)"
   ]
  },
  {
   "cell_type": "markdown",
   "metadata": {},
   "source": [
    "The test does not reject randomness of error based on the first 12 autocorrelations."
   ]
  },
  {
   "cell_type": "markdown",
   "metadata": {},
   "source": [
    "**Exercise 8.7**.  Fit an AR(3) model by maximum likelihood to the square root of the hare abundance series (filename `hare`).\n",
    "\n",
    "**(a)** Plot the sample ACF of the residuals. Comment on the size of the correlations.\n",
    "\n",
    "**(b)** Calculate the Ljung-Box statistic summing to $K = 9$.  Does this statistic support the AR(3) specification?\n",
    "\n",
    "**(c)** Perform a runs test on the residuals and comment on the results.\n",
    "\n",
    "**(d)** Display the quantile-quantile normal plot of the residuals. Comment on the plot.\n",
    "\n",
    "**(e)** Perform the Shapiro-Wilk test of normality on the residuals."
   ]
  },
  {
   "cell_type": "markdown",
   "metadata": {},
   "source": [
    "**Solution**."
   ]
  },
  {
   "cell_type": "code",
   "execution_count": 30,
   "metadata": {},
   "outputs": [],
   "source": [
    "Y = pd.read_csv('../data/hare.dat')['hare']\n",
    "fitted_model = ARIMA(Y, order=(3, 0, 0)).fit(method='mle')"
   ]
  },
  {
   "cell_type": "markdown",
   "metadata": {},
   "source": [
    "**(a)**"
   ]
  },
  {
   "cell_type": "code",
   "execution_count": 31,
   "metadata": {},
   "outputs": [
    {
     "data": {
      "image/png": "[encoded data removed]",
      "text/plain": [
       "<Figure size 864x288 with 1 Axes>"
      ]
     },
     "metadata": {
      "needs_background": "light"
     },
     "output_type": "display_data"
    }
   ],
   "source": [
    "r = acf(fitted_model.resid, fft=False, nlags=15)[1:]\n",
    "se = 1 / np.sqrt(len(fitted_model.resid))\n",
    "plot_acf_with_bounds(r, -2*se, 2*se, title='Sample ACF for residuals')"
   ]
  },
  {
   "cell_type": "markdown",
   "metadata": {},
   "source": [
    "Autocorrelation on residuals are small, and suggest no significant values."
   ]
  },
  {
   "cell_type": "markdown",
   "metadata": {},
   "source": [
    "**(b)**"
   ]
  },
  {
   "cell_type": "code",
   "execution_count": 32,
   "metadata": {},
   "outputs": [
    {
     "data": {
      "text/plain": [
       "{'X-squared': 6.263336107723415, 'df': 6, 'p-value': 0.3943468413694613}"
      ]
     },
     "execution_count": 32,
     "metadata": {},
     "output_type": "execute_result"
    }
   ],
   "source": [
    "ljung_box_test(r=acf(fitted_model.resid, fft=False, nlags=9)[1:], n=len(Y), k_ar=3)"
   ]
  },
  {
   "cell_type": "markdown",
   "metadata": {},
   "source": [
    "The statistic supports the specification."
   ]
  },
  {
   "cell_type": "markdown",
   "metadata": {},
   "source": [
    "**(c)**"
   ]
  },
  {
   "cell_type": "code",
   "execution_count": 33,
   "metadata": {},
   "outputs": [
    {
     "name": "stdout",
     "output_type": "stream",
     "text": [
      "Z statistic:\t 0.715\n",
      "p-value:\t 0.475\n"
     ]
    }
   ],
   "source": [
    "from statsmodels.sandbox.stats.runs import runstest_1samp\n",
    "\n",
    "z_stat, p_value = runstest_1samp(fitted_model.resid, cutoff='mean', correction=False)\n",
    "print('Z statistic:\\t %.3f' % z_stat)\n",
    "print('p-value:\\t %.3f' % p_value)"
   ]
  },
  {
   "cell_type": "markdown",
   "metadata": {},
   "source": [
    "The p-value does not reject independence of terms."
   ]
  },
  {
   "cell_type": "markdown",
   "metadata": {},
   "source": [
    "**(d)**"
   ]
  },
  {
   "cell_type": "code",
   "execution_count": 34,
   "metadata": {},
   "outputs": [
    {
     "data": {
      "image/png": "[encoded data removed]",
      "text/plain": [
       "<Figure size 432x288 with 1 Axes>"
      ]
     },
     "metadata": {
      "needs_background": "light"
     },
     "output_type": "display_data"
    }
   ],
   "source": [
    "probplot = sm.ProbPlot(fitted_model.resid, fit=True)\n",
    "fig = probplot.qqplot(line='45')\n",
    "plt.show()"
   ]
  },
  {
   "cell_type": "markdown",
   "metadata": {},
   "source": [
    "Residuals look normal."
   ]
  },
  {
   "cell_type": "markdown",
   "metadata": {},
   "source": [
    "**(e)**"
   ]
  },
  {
   "cell_type": "code",
   "execution_count": 35,
   "metadata": {},
   "outputs": [
    {
     "data": {
      "text/plain": [
       "0.9186546802520752"
      ]
     },
     "execution_count": 35,
     "metadata": {},
     "output_type": "execute_result"
    }
   ],
   "source": [
    "W, p_value = shapiro(fitted_model.resid)\n",
    "p_value"
   ]
  },
  {
   "cell_type": "markdown",
   "metadata": {},
   "source": [
    "Shapiro-Wilk fails to reject normality of residuals."
   ]
  },
  {
   "cell_type": "markdown",
   "metadata": {},
   "source": [
    "**Exercise 8.8**.  Consider the oil filter sales data shown in Exhibit 1.8 on page 7.  The data are in the file named `oilfilters`.\n",
    "\n",
    "**(a)** Fit an AR(1) model to this series. Is the estimate of the $\\phi$ parameter significantly different from zero statistically?\n",
    "\n",
    "**(b)** Display the sample ACF of the residuals from the AR(1) fitted model. Comment on the display."
   ]
  },
  {
   "cell_type": "markdown",
   "metadata": {},
   "source": [
    "**Solution**."
   ]
  },
  {
   "cell_type": "code",
   "execution_count": 36,
   "metadata": {},
   "outputs": [],
   "source": [
    "Y = pd.read_csv('../data/oilfilters.dat')['oilfilters']"
   ]
  },
  {
   "cell_type": "markdown",
   "metadata": {},
   "source": [
    "**(a)**"
   ]
  },
  {
   "cell_type": "code",
   "execution_count": 37,
   "metadata": {},
   "outputs": [
    {
     "data": {
      "text/html": [
       "<table class=\"simpletable\">\n",
       "<caption>ARMA Model Results</caption>\n",
       "<tr>\n",
       "  <th>Dep. Variable:</th>    <td>oilfilters</td>    <th>  No. Observations:  </th>    <td>48</td>   \n",
       "</tr>\n",
       "<tr>\n",
       "  <th>Model:</th>            <td>ARMA(1, 0)</td>    <th>  Log Likelihood     </th> <td>-409.187</td>\n",
       "</tr>\n",
       "<tr>\n",
       "  <th>Method:</th>               <td>mle</td>       <th>  S.D. of innovations</th> <td>1217.703</td>\n",
       "</tr>\n",
       "<tr>\n",
       "  <th>Date:</th>          <td>Tue, 12 May 2020</td> <th>  AIC                </th>  <td>824.373</td>\n",
       "</tr>\n",
       "<tr>\n",
       "  <th>Time:</th>              <td>13:39:04</td>     <th>  BIC                </th>  <td>829.987</td>\n",
       "</tr>\n",
       "<tr>\n",
       "  <th>Sample:</th>                <td>0</td>        <th>  HQIC               </th>  <td>826.495</td>\n",
       "</tr>\n",
       "<tr>\n",
       "  <th></th>                       <td> </td>        <th>                     </th>     <td> </td>   \n",
       "</tr>\n",
       "</table>\n",
       "<table class=\"simpletable\">\n",
       "<tr>\n",
       "          <td></td>            <th>coef</th>     <th>std err</th>      <th>z</th>      <th>P>|z|</th>  <th>[0.025</th>    <th>0.975]</th>  \n",
       "</tr>\n",
       "<tr>\n",
       "  <th>const</th>            <td> 3370.5394</td> <td>  253.156</td> <td>   13.314</td> <td> 0.000</td> <td> 2874.363</td> <td> 3866.715</td>\n",
       "</tr>\n",
       "<tr>\n",
       "  <th>ar.L1.oilfilters</th> <td>    0.3116</td> <td>    0.137</td> <td>    2.277</td> <td> 0.023</td> <td>    0.043</td> <td>    0.580</td>\n",
       "</tr>\n",
       "</table>\n",
       "<table class=\"simpletable\">\n",
       "<caption>Roots</caption>\n",
       "<tr>\n",
       "    <td></td>   <th>            Real</th>  <th>         Imaginary</th> <th>         Modulus</th>  <th>        Frequency</th>\n",
       "</tr>\n",
       "<tr>\n",
       "  <th>AR.1</th> <td>           3.2098</td> <td>          +0.0000j</td> <td>           3.2098</td> <td>           0.0000</td>\n",
       "</tr>\n",
       "</table>"
      ],
      "text/plain": [
       "<class 'statsmodels.iolib.summary.Summary'>\n",
       "\"\"\"\n",
       "                              ARMA Model Results                              \n",
       "==============================================================================\n",
       "Dep. Variable:             oilfilters   No. Observations:                   48\n",
       "Model:                     ARMA(1, 0)   Log Likelihood                -409.187\n",
       "Method:                           mle   S.D. of innovations           1217.703\n",
       "Date:                Tue, 12 May 2020   AIC                            824.373\n",
       "Time:                        13:39:04   BIC                            829.987\n",
       "Sample:                             0   HQIC                           826.495\n",
       "                                                                              \n",
       "====================================================================================\n",
       "                       coef    std err          z      P>|z|      [0.025      0.975]\n",
       "------------------------------------------------------------------------------------\n",
       "const             3370.5394    253.156     13.314      0.000    2874.363    3866.715\n",
       "ar.L1.oilfilters     0.3116      0.137      2.277      0.023       0.043       0.580\n",
       "                                    Roots                                    \n",
       "=============================================================================\n",
       "                  Real          Imaginary           Modulus         Frequency\n",
       "-----------------------------------------------------------------------------\n",
       "AR.1            3.2098           +0.0000j            3.2098            0.0000\n",
       "-----------------------------------------------------------------------------\n",
       "\"\"\""
      ]
     },
     "execution_count": 37,
     "metadata": {},
     "output_type": "execute_result"
    }
   ],
   "source": [
    "fitted_model = ARIMA(Y, order=(1, 0, 0)).fit(method='mle')\n",
    "fitted_model.summary()"
   ]
  },
  {
   "cell_type": "markdown",
   "metadata": {},
   "source": [
    "Yes -- the estimate for $\\phi$ is more than 2 standard errors away from zero."
   ]
  },
  {
   "cell_type": "markdown",
   "metadata": {},
   "source": [
    "**(b)**"
   ]
  },
  {
   "cell_type": "code",
   "execution_count": 38,
   "metadata": {},
   "outputs": [
    {
     "data": {
      "image/png": "[encoded data removed]",
      "text/plain": [
       "<Figure size 864x288 with 1 Axes>"
      ]
     },
     "metadata": {
      "needs_background": "light"
     },
     "output_type": "display_data"
    }
   ],
   "source": [
    "r = acf(fitted_model.resid, fft=False, nlags=15)[1:]\n",
    "se = 1 / np.sqrt(len(fitted_model.resid))\n",
    "plot_acf_with_bounds(r, -2*se, 2*se, title='Sample ACF for residuals')"
   ]
  },
  {
   "cell_type": "markdown",
   "metadata": {},
   "source": [
    "There is a significant autocorrelation lag at 12.  This suggests the series may contain seasonality not captured by the model."
   ]
  },
  {
   "cell_type": "markdown",
   "metadata": {},
   "source": [
    "**Exercise 8.9**.  The data file named `robot` contains a time series obtained from an industrial robot.  The robot was put through a sequence of maneuvers, and the distance from a desired ending point was recorded in inches.  This was repeated 324 times to form the time series.  Compare the fits of an AR(1) model and an IMA(1, 1) model for these data in terms of the diagnostic tests discussed in this chapter."
   ]
  },
  {
   "cell_type": "markdown",
   "metadata": {},
   "source": [
    "**Solution**."
   ]
  },
  {
   "cell_type": "code",
   "execution_count": 39,
   "metadata": {},
   "outputs": [],
   "source": [
    "Y = pd.read_csv('../data/robot.dat')['robot']"
   ]
  },
  {
   "cell_type": "code",
   "execution_count": 40,
   "metadata": {},
   "outputs": [
    {
     "data": {
      "text/html": [
       "<table class=\"simpletable\">\n",
       "<caption>ARMA Model Results</caption>\n",
       "<tr>\n",
       "  <th>Dep. Variable:</th>       <td>robot</td>      <th>  No. Observations:  </th>    <td>324</td>   \n",
       "</tr>\n",
       "<tr>\n",
       "  <th>Model:</th>            <td>ARMA(1, 0)</td>    <th>  Log Likelihood     </th> <td>1475.539</td> \n",
       "</tr>\n",
       "<tr>\n",
       "  <th>Method:</th>               <td>mle</td>       <th>  S.D. of innovations</th>   <td>0.003</td>  \n",
       "</tr>\n",
       "<tr>\n",
       "  <th>Date:</th>          <td>Tue, 12 May 2020</td> <th>  AIC                </th> <td>-2945.078</td>\n",
       "</tr>\n",
       "<tr>\n",
       "  <th>Time:</th>              <td>13:39:05</td>     <th>  BIC                </th> <td>-2933.735</td>\n",
       "</tr>\n",
       "<tr>\n",
       "  <th>Sample:</th>                <td>0</td>        <th>  HQIC               </th> <td>-2940.550</td>\n",
       "</tr>\n",
       "<tr>\n",
       "  <th></th>                       <td> </td>        <th>                     </th>     <td> </td>    \n",
       "</tr>\n",
       "</table>\n",
       "<table class=\"simpletable\">\n",
       "<tr>\n",
       "       <td></td>          <th>coef</th>     <th>std err</th>      <th>z</th>      <th>P>|z|</th>  <th>[0.025</th>    <th>0.975]</th>  \n",
       "</tr>\n",
       "<tr>\n",
       "  <th>const</th>       <td>    0.0015</td> <td>    0.000</td> <td>    7.128</td> <td> 0.000</td> <td>    0.001</td> <td>    0.002</td>\n",
       "</tr>\n",
       "<tr>\n",
       "  <th>ar.L1.robot</th> <td>    0.3075</td> <td>    0.053</td> <td>    5.823</td> <td> 0.000</td> <td>    0.204</td> <td>    0.411</td>\n",
       "</tr>\n",
       "</table>\n",
       "<table class=\"simpletable\">\n",
       "<caption>Roots</caption>\n",
       "<tr>\n",
       "    <td></td>   <th>            Real</th>  <th>         Imaginary</th> <th>         Modulus</th>  <th>        Frequency</th>\n",
       "</tr>\n",
       "<tr>\n",
       "  <th>AR.1</th> <td>           3.2519</td> <td>          +0.0000j</td> <td>           3.2519</td> <td>           0.0000</td>\n",
       "</tr>\n",
       "</table>"
      ],
      "text/plain": [
       "<class 'statsmodels.iolib.summary.Summary'>\n",
       "\"\"\"\n",
       "                              ARMA Model Results                              \n",
       "==============================================================================\n",
       "Dep. Variable:                  robot   No. Observations:                  324\n",
       "Model:                     ARMA(1, 0)   Log Likelihood                1475.539\n",
       "Method:                           mle   S.D. of innovations              0.003\n",
       "Date:                Tue, 12 May 2020   AIC                          -2945.078\n",
       "Time:                        13:39:05   BIC                          -2933.735\n",
       "Sample:                             0   HQIC                         -2940.550\n",
       "                                                                              \n",
       "===============================================================================\n",
       "                  coef    std err          z      P>|z|      [0.025      0.975]\n",
       "-------------------------------------------------------------------------------\n",
       "const           0.0015      0.000      7.128      0.000       0.001       0.002\n",
       "ar.L1.robot     0.3075      0.053      5.823      0.000       0.204       0.411\n",
       "                                    Roots                                    \n",
       "=============================================================================\n",
       "                  Real          Imaginary           Modulus         Frequency\n",
       "-----------------------------------------------------------------------------\n",
       "AR.1            3.2519           +0.0000j            3.2519            0.0000\n",
       "-----------------------------------------------------------------------------\n",
       "\"\"\""
      ]
     },
     "execution_count": 40,
     "metadata": {},
     "output_type": "execute_result"
    }
   ],
   "source": [
    "model_ar1 = ARIMA(Y, order=(1, 0, 0)).fit(method='mle')\n",
    "model_ar1.summary()"
   ]
  },
  {
   "cell_type": "code",
   "execution_count": 41,
   "metadata": {},
   "outputs": [
    {
     "data": {
      "text/html": [
       "<table class=\"simpletable\">\n",
       "<caption>ARIMA Model Results</caption>\n",
       "<tr>\n",
       "  <th>Dep. Variable:</th>      <td>D.robot</td>     <th>  No. Observations:  </th>    <td>323</td>   \n",
       "</tr>\n",
       "<tr>\n",
       "  <th>Model:</th>          <td>ARIMA(0, 1, 1)</td>  <th>  Log Likelihood     </th> <td>1480.953</td> \n",
       "</tr>\n",
       "<tr>\n",
       "  <th>Method:</th>               <td>mle</td>       <th>  S.D. of innovations</th>   <td>0.002</td>  \n",
       "</tr>\n",
       "<tr>\n",
       "  <th>Date:</th>          <td>Tue, 12 May 2020</td> <th>  AIC                </th> <td>-2955.906</td>\n",
       "</tr>\n",
       "<tr>\n",
       "  <th>Time:</th>              <td>13:39:05</td>     <th>  BIC                </th> <td>-2944.573</td>\n",
       "</tr>\n",
       "<tr>\n",
       "  <th>Sample:</th>                <td>1</td>        <th>  HQIC               </th> <td>-2951.382</td>\n",
       "</tr>\n",
       "<tr>\n",
       "  <th></th>                       <td> </td>        <th>                     </th>     <td> </td>    \n",
       "</tr>\n",
       "</table>\n",
       "<table class=\"simpletable\">\n",
       "<tr>\n",
       "        <td></td>           <th>coef</th>     <th>std err</th>      <th>z</th>      <th>P>|z|</th>  <th>[0.025</th>    <th>0.975]</th>  \n",
       "</tr>\n",
       "<tr>\n",
       "  <th>const</th>         <td>-1.275e-06</td> <td> 1.81e-05</td> <td>   -0.071</td> <td> 0.944</td> <td>-3.67e-05</td> <td> 3.41e-05</td>\n",
       "</tr>\n",
       "<tr>\n",
       "  <th>ma.L1.D.robot</th> <td>   -0.8716</td> <td>    0.039</td> <td>  -22.178</td> <td> 0.000</td> <td>   -0.949</td> <td>   -0.795</td>\n",
       "</tr>\n",
       "</table>\n",
       "<table class=\"simpletable\">\n",
       "<caption>Roots</caption>\n",
       "<tr>\n",
       "    <td></td>   <th>            Real</th>  <th>         Imaginary</th> <th>         Modulus</th>  <th>        Frequency</th>\n",
       "</tr>\n",
       "<tr>\n",
       "  <th>MA.1</th> <td>           1.1473</td> <td>          +0.0000j</td> <td>           1.1473</td> <td>           0.0000</td>\n",
       "</tr>\n",
       "</table>"
      ],
      "text/plain": [
       "<class 'statsmodels.iolib.summary.Summary'>\n",
       "\"\"\"\n",
       "                             ARIMA Model Results                              \n",
       "==============================================================================\n",
       "Dep. Variable:                D.robot   No. Observations:                  323\n",
       "Model:                 ARIMA(0, 1, 1)   Log Likelihood                1480.953\n",
       "Method:                           mle   S.D. of innovations              0.002\n",
       "Date:                Tue, 12 May 2020   AIC                          -2955.906\n",
       "Time:                        13:39:05   BIC                          -2944.573\n",
       "Sample:                             1   HQIC                         -2951.382\n",
       "                                                                              \n",
       "=================================================================================\n",
       "                    coef    std err          z      P>|z|      [0.025      0.975]\n",
       "---------------------------------------------------------------------------------\n",
       "const         -1.275e-06   1.81e-05     -0.071      0.944   -3.67e-05    3.41e-05\n",
       "ma.L1.D.robot    -0.8716      0.039    -22.178      0.000      -0.949      -0.795\n",
       "                                    Roots                                    \n",
       "=============================================================================\n",
       "                  Real          Imaginary           Modulus         Frequency\n",
       "-----------------------------------------------------------------------------\n",
       "MA.1            1.1473           +0.0000j            1.1473            0.0000\n",
       "-----------------------------------------------------------------------------\n",
       "\"\"\""
      ]
     },
     "execution_count": 41,
     "metadata": {},
     "output_type": "execute_result"
    }
   ],
   "source": [
    "model_ima11 = ARIMA(Y, order=(0, 1, 1)).fit(method='mle')\n",
    "model_ima11.summary()"
   ]
  },
  {
   "cell_type": "markdown",
   "metadata": {},
   "source": [
    "Both models have significant estimates for their coefficients.  The AIC score for the IMA(1, 1) model is slightly smaller."
   ]
  },
  {
   "cell_type": "code",
   "execution_count": 42,
   "metadata": {},
   "outputs": [
    {
     "data": {
      "image/png": "[encoded data removed]",
      "text/plain": [
       "<Figure size 864x288 with 1 Axes>"
      ]
     },
     "metadata": {
      "needs_background": "light"
     },
     "output_type": "display_data"
    },
    {
     "data": {
      "image/png": "[encoded data removed]",
      "text/plain": [
       "<Figure size 864x288 with 1 Axes>"
      ]
     },
     "metadata": {
      "needs_background": "light"
     },
     "output_type": "display_data"
    }
   ],
   "source": [
    "def plot_residuals_acf(resid, title, nlags=15):\n",
    "    r = acf(resid, fft=False, nlags=nlags)[1:]\n",
    "    se = 1 / np.sqrt(len(resid))\n",
    "    plot_acf_with_bounds(r, -2*se, 2*se, title=title)\n",
    "\n",
    "plot_residuals_acf(model_ar1.resid, 'AR(1) residuals ACF')\n",
    "plot_residuals_acf(model_ima11.resid, 'IMA(1, 1) residuals ACF')"
   ]
  },
  {
   "cell_type": "markdown",
   "metadata": {},
   "source": [
    "The residuals for the AR(1) model have too much autocorrelation; the residuals for the IMA(1, 1) model show too much correlation only at lag 10.\n",
    "\n",
    "This conclusion is confirmed by the Ljung-Box tests: the AR(1) residuals have, collectively, too much correlation, while the residuals from the IMA(1, 1) fit do not."
   ]
  },
  {
   "cell_type": "code",
   "execution_count": 43,
   "metadata": {},
   "outputs": [
    {
     "data": {
      "text/plain": [
       "{'X-squared': 51.83936482204375, 'df': 11, 'p-value': 2.9153070468801445e-07}"
      ]
     },
     "execution_count": 43,
     "metadata": {},
     "output_type": "execute_result"
    }
   ],
   "source": [
    "ljung_box_test(r=acf(model_ar1.resid, fft=False, nlags=12)[1:], n=len(Y), k_ar=1)"
   ]
  },
  {
   "cell_type": "code",
   "execution_count": 44,
   "metadata": {},
   "outputs": [
    {
     "data": {
      "text/plain": [
       "{'X-squared': 16.76306765065655, 'df': 11, 'p-value': 0.11508196360689282}"
      ]
     },
     "execution_count": 44,
     "metadata": {},
     "output_type": "execute_result"
    }
   ],
   "source": [
    "ljung_box_test(r=acf(model_ima11.resid, fft=False, nlags=12)[1:], n=len(Y), k_ma=1)"
   ]
  },
  {
   "cell_type": "markdown",
   "metadata": {},
   "source": [
    "Finally, Shapiro-Wilk test p-values do not reject normality in either of the residuals:"
   ]
  },
  {
   "cell_type": "code",
   "execution_count": 45,
   "metadata": {},
   "outputs": [
    {
     "data": {
      "text/plain": [
       "0.9192295074462891"
      ]
     },
     "execution_count": 45,
     "metadata": {},
     "output_type": "execute_result"
    }
   ],
   "source": [
    "shapiro(model_ar1.resid)[1]"
   ]
  },
  {
   "cell_type": "code",
   "execution_count": 46,
   "metadata": {
    "scrolled": true
   },
   "outputs": [
    {
     "data": {
      "text/plain": [
       "0.8087267875671387"
      ]
     },
     "execution_count": 46,
     "metadata": {},
     "output_type": "execute_result"
    }
   ],
   "source": [
    "shapiro(model_ima11.resid)[1]"
   ]
  },
  {
   "cell_type": "markdown",
   "metadata": {},
   "source": [
    "**Exercise 8.10**.  The data file named `deere3` contains 57 consecutive values from a complex machine tool at Deere & Co.  The values given are deviations from a target value in units of ten millionths of an inch.  The process employs a control mechanism\n",
    "that resets some of the parameters of the machine tool depending on the magnitude of deviation from target of the last item produced.  Diagnose the fit of an AR(1) model for these data in terms of the tests discussed in this chapter."
   ]
  },
  {
   "cell_type": "markdown",
   "metadata": {},
   "source": [
    "**Solution**."
   ]
  },
  {
   "cell_type": "code",
   "execution_count": 47,
   "metadata": {},
   "outputs": [],
   "source": [
    "Y = pd.read_csv('../data/deere3.dat')['deere3']"
   ]
  },
  {
   "cell_type": "code",
   "execution_count": 48,
   "metadata": {},
   "outputs": [
    {
     "data": {
      "text/html": [
       "<table class=\"simpletable\">\n",
       "<caption>ARMA Model Results</caption>\n",
       "<tr>\n",
       "  <th>Dep. Variable:</th>      <td>deere3</td>      <th>  No. Observations:  </th>    <td>57</td>   \n",
       "</tr>\n",
       "<tr>\n",
       "  <th>Model:</th>            <td>ARMA(1, 0)</td>    <th>  Log Likelihood     </th> <td>-495.509</td>\n",
       "</tr>\n",
       "<tr>\n",
       "  <th>Method:</th>               <td>mle</td>       <th>  S.D. of innovations</th> <td>1438.526</td>\n",
       "</tr>\n",
       "<tr>\n",
       "  <th>Date:</th>          <td>Tue, 12 May 2020</td> <th>  AIC                </th>  <td>997.019</td>\n",
       "</tr>\n",
       "<tr>\n",
       "  <th>Time:</th>              <td>13:39:05</td>     <th>  BIC                </th> <td>1003.148</td>\n",
       "</tr>\n",
       "<tr>\n",
       "  <th>Sample:</th>                <td>0</td>        <th>  HQIC               </th>  <td>999.401</td>\n",
       "</tr>\n",
       "<tr>\n",
       "  <th></th>                       <td> </td>        <th>                     </th>     <td> </td>   \n",
       "</tr>\n",
       "</table>\n",
       "<table class=\"simpletable\">\n",
       "<tr>\n",
       "        <td></td>          <th>coef</th>     <th>std err</th>      <th>z</th>      <th>P>|z|</th>  <th>[0.025</th>    <th>0.975]</th>  \n",
       "</tr>\n",
       "<tr>\n",
       "  <th>const</th>        <td>  125.1317</td> <td>  394.191</td> <td>    0.317</td> <td> 0.751</td> <td> -647.468</td> <td>  897.732</td>\n",
       "</tr>\n",
       "<tr>\n",
       "  <th>ar.L1.deere3</th> <td>    0.5255</td> <td>    0.111</td> <td>    4.741</td> <td> 0.000</td> <td>    0.308</td> <td>    0.743</td>\n",
       "</tr>\n",
       "</table>\n",
       "<table class=\"simpletable\">\n",
       "<caption>Roots</caption>\n",
       "<tr>\n",
       "    <td></td>   <th>            Real</th>  <th>         Imaginary</th> <th>         Modulus</th>  <th>        Frequency</th>\n",
       "</tr>\n",
       "<tr>\n",
       "  <th>AR.1</th> <td>           1.9028</td> <td>          +0.0000j</td> <td>           1.9028</td> <td>           0.0000</td>\n",
       "</tr>\n",
       "</table>"
      ],
      "text/plain": [
       "<class 'statsmodels.iolib.summary.Summary'>\n",
       "\"\"\"\n",
       "                              ARMA Model Results                              \n",
       "==============================================================================\n",
       "Dep. Variable:                 deere3   No. Observations:                   57\n",
       "Model:                     ARMA(1, 0)   Log Likelihood                -495.509\n",
       "Method:                           mle   S.D. of innovations           1438.526\n",
       "Date:                Tue, 12 May 2020   AIC                            997.019\n",
       "Time:                        13:39:05   BIC                           1003.148\n",
       "Sample:                             0   HQIC                           999.401\n",
       "                                                                              \n",
       "================================================================================\n",
       "                   coef    std err          z      P>|z|      [0.025      0.975]\n",
       "--------------------------------------------------------------------------------\n",
       "const          125.1317    394.191      0.317      0.751    -647.468     897.732\n",
       "ar.L1.deere3     0.5255      0.111      4.741      0.000       0.308       0.743\n",
       "                                    Roots                                    \n",
       "=============================================================================\n",
       "                  Real          Imaginary           Modulus         Frequency\n",
       "-----------------------------------------------------------------------------\n",
       "AR.1            1.9028           +0.0000j            1.9028            0.0000\n",
       "-----------------------------------------------------------------------------\n",
       "\"\"\""
      ]
     },
     "execution_count": 48,
     "metadata": {},
     "output_type": "execute_result"
    }
   ],
   "source": [
    "model = ARIMA(Y, order=(1, 0, 0)).fit(method='mle')\n",
    "model.summary()"
   ]
  },
  {
   "cell_type": "markdown",
   "metadata": {},
   "source": [
    "Coefficient seems significant."
   ]
  },
  {
   "cell_type": "code",
   "execution_count": 49,
   "metadata": {},
   "outputs": [
    {
     "data": {
      "image/png": "[encoded data removed]",
      "text/plain": [
       "<Figure size 864x288 with 1 Axes>"
      ]
     },
     "metadata": {
      "needs_background": "light"
     },
     "output_type": "display_data"
    }
   ],
   "source": [
    "plot_residuals_acf(model.resid, 'AR(1) residuals ACF')"
   ]
  },
  {
   "cell_type": "markdown",
   "metadata": {},
   "source": [
    "Residuals do not display significant autocorrelation individually."
   ]
  },
  {
   "cell_type": "code",
   "execution_count": 50,
   "metadata": {},
   "outputs": [
    {
     "data": {
      "text/plain": [
       "{'X-squared': 6.469692567225901, 'df': 11, 'p-value': 0.8402616225542638}"
      ]
     },
     "execution_count": 50,
     "metadata": {},
     "output_type": "execute_result"
    }
   ],
   "source": [
    "ljung_box_test(r=acf(model.resid, fft=False, nlags=12)[1:], n=len(Y), k_ar=1)"
   ]
  },
  {
   "cell_type": "markdown",
   "metadata": {},
   "source": [
    "Residuals do not display significant autocorrelation collectively."
   ]
  },
  {
   "cell_type": "code",
   "execution_count": 51,
   "metadata": {},
   "outputs": [
    {
     "data": {
      "image/png": "[encoded data removed]",
      "text/plain": [
       "<Figure size 432x288 with 1 Axes>"
      ]
     },
     "metadata": {
      "needs_background": "light"
     },
     "output_type": "display_data"
    }
   ],
   "source": [
    "probplot = sm.ProbPlot(model.resid, fit=True)\n",
    "fig = probplot.qqplot(line='45')\n",
    "plt.show()"
   ]
  },
  {
   "cell_type": "markdown",
   "metadata": {},
   "source": [
    "Q-Q plot is a bit questionable near the bottom tail."
   ]
  },
  {
   "cell_type": "code",
   "execution_count": 52,
   "metadata": {},
   "outputs": [
    {
     "data": {
      "text/plain": [
       "0.5840598940849304"
      ]
     },
     "execution_count": 52,
     "metadata": {},
     "output_type": "execute_result"
    }
   ],
   "source": [
    "shapiro(model.resid)[1]"
   ]
  },
  {
   "cell_type": "markdown",
   "metadata": {},
   "source": [
    "Shapiro-Wilk does not reject the hypothesis that residuals are normally distributed."
   ]
  }
 ],
 "metadata": {
  "kernelspec": {
   "display_name": "Python 3",
   "language": "python",
   "name": "python3"
  },
  "language_info": {
   "codemirror_mode": {
    "name": "ipython",
    "version": 3
   },
   "file_extension": ".py",
   "mimetype": "text/x-python",
   "name": "python",
   "nbconvert_exporter": "python",
   "pygments_lexer": "ipython3",
   "version": "3.7.3"
  }
 },
 "nbformat": 4,
 "nbformat_minor": 2
}
