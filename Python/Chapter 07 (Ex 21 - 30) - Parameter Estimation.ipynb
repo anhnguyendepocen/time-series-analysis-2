{
 "cells": [
  {
   "cell_type": "markdown",
   "metadata": {},
   "source": [
    "**Exercise 7.21**. Simulate an ARMA(1,1) series with $\\phi = 0.7$, $\\theta = −0.6$, $n = 48$ but with error terms from a t-distribution with 6 degrees of freedom.\n",
    "\n",
    "**(a)** Display the sample EACF of the series. Is an ARMA(1,1) model suggested?\n",
    "\n",
    "**(b)** Estimate $\\phi$ and $\\theta$ from the series and comment on the results.\n",
    "\n",
    "**(c)** Repeat parts (a) and (b) with a new simulated series under the same conditions."
   ]
  },
  {
   "cell_type": "markdown",
   "metadata": {},
   "source": [
    "**Solution**."
   ]
  },
  {
   "cell_type": "code",
   "execution_count": 1,
   "metadata": {},
   "outputs": [],
   "source": [
    "import numpy as np\n",
    "from statsmodels.tsa.arima_process import ArmaProcess\n",
    "from statsmodels.tsa.arima_model import ARIMA\n",
    "\n",
    "import matplotlib.pyplot as plt\n",
    "%matplotlib inline"
   ]
  },
  {
   "cell_type": "code",
   "execution_count": 2,
   "metadata": {},
   "outputs": [],
   "source": [
    "def generate_arima(phi=[], d=0, theta=[], n=100, distrvs=None):\n",
    "    \"\"\"\n",
    "    Generates an ARIMA distribution with specified phi, d, and theta parameters,\n",
    "    using the optimally provided random function generator.\n",
    "    \"\"\"\n",
    "    \n",
    "    ar = np.r_[1, -np.array(phi)]\n",
    "    ma = np.r_[1, -np.array(theta)]\n",
    "    Y = ArmaProcess(ar, ma).generate_sample(nsample=n, distrvs=distrvs)\n",
    "    for i in range(d):\n",
    "        Y = np.cumsum(Y)\n",
    "    return Y"
   ]
  },
  {
   "cell_type": "code",
   "execution_count": 3,
   "metadata": {},
   "outputs": [],
   "source": [
    "from scipy.stats import t\n",
    "\n",
    "def rt(df):\n",
    "    \"\"\" \n",
    "    Returns a function that generates random variables from a t-distribution\n",
    "    with df degrees of freedom, with signature compatible with the argument\n",
    "    distrvs in ArmaProcess.generate_sample.\n",
    "    \"\"\"\n",
    "    \n",
    "    def f(size=None):\n",
    "        return t.rvs(df, size=size)\n",
    "    \n",
    "    return f"
   ]
  },
  {
   "cell_type": "code",
   "execution_count": 4,
   "metadata": {},
   "outputs": [],
   "source": [
    "from statsmodels.tsa.stattools import acf, pacf\n",
    "\n",
    "def plot_acf_with_bounds(acf, lower, upper, title='ACF'):\n",
    "    max_k = len(acf)\n",
    "    k = range(1, len(acf)+1)\n",
    "    \n",
    "    plt.figure(figsize=(12, 4))\n",
    "    plt.fill_between(k, lower, upper, color='C0', alpha=0.2)\n",
    "\n",
    "    plt.plot(k, acf, marker='o', linestyle='none', color='C0')\n",
    "    plt.plot([1, max_k], [0, 0], ls=':', color='C0')\n",
    "    for i_k, i_rho in zip(k, acf):\n",
    "        plt.plot([i_k, i_k], [0, i_rho], color='C0')    \n",
    "    \n",
    "    plt.xlabel('Lag')\n",
    "    plt.ylabel(r'$\\rho_k$')\n",
    "    plt.title(title)\n",
    "    plt.show()"
   ]
  },
  {
   "cell_type": "code",
   "execution_count": 5,
   "metadata": {},
   "outputs": [],
   "source": [
    "%%capture\n",
    "%run eacf.py"
   ]
  },
  {
   "cell_type": "code",
   "execution_count": 6,
   "metadata": {},
   "outputs": [],
   "source": [
    "np.random.seed(1000)\n",
    "Y = generate_arima(phi=[0.7], theta=[-0.6], n=48, distrvs=rt(6))"
   ]
  },
  {
   "cell_type": "markdown",
   "metadata": {},
   "source": [
    "**(a)**"
   ]
  },
  {
   "cell_type": "code",
   "execution_count": 7,
   "metadata": {},
   "outputs": [
    {
     "name": "stdout",
     "output_type": "stream",
     "text": [
      "AR / MA\n",
      "   0  1  2  3  4  5  6  7  8  9 10 11 12 13\n",
      "0  x  o  o  o  o  o  o  o  o  o  o  o  o  o\n",
      "1  x  o  o  o  o  o  o  o  o  o  o  o  o  o\n",
      "2  o  o  o  o  o  o  o  o  o  o  o  o  o  o\n",
      "3  x  o  o  o  o  o  o  o  o  o  o  o  o  o\n",
      "4  o  o  x  o  o  o  o  o  o  o  o  o  o  o\n",
      "5  x  x  o  o  o  o  o  o  o  o  o  o  o  o\n",
      "6  x  x  o  o  o  o  o  o  o  o  o  o  o  o\n",
      "7  x  o  o  o  o  o  o  o  o  o  o  o  o  o\n"
     ]
    }
   ],
   "source": [
    "eacf(Y);"
   ]
  },
  {
   "cell_type": "markdown",
   "metadata": {},
   "source": [
    "The EACF suggests an MA(1) process, rather than the actual ARMA(1, 1) process."
   ]
  },
  {
   "cell_type": "markdown",
   "metadata": {},
   "source": [
    "**(b)**"
   ]
  },
  {
   "cell_type": "code",
   "execution_count": 8,
   "metadata": {},
   "outputs": [],
   "source": [
    "def estimate_arma11_mom(x):\n",
    "    # estimate of phi:  r2 / r1\n",
    "    # estimate of theta: solve r1 = (1 - theta phi) (phi - theta) / (1 - 2 theta phi + theta^2)\n",
    "    #    (if it has real roots)\n",
    "    \n",
    "    r1, r2 = acf(Y, fft=False, nlags=2)[1:]\n",
    "    phi = r2 / r1\n",
    "    delta = (phi**2 - 1)*(phi**2 - 4 *phi *r1 + 4*r1**2 - 1)\n",
    "    if delta < 0:\n",
    "        # Complex roots, no MOM estimate for theta\n",
    "        theta = np.nan\n",
    "    else:\n",
    "        theta = ((phi**2 - 2 * phi * r1 + 1) - np.sqrt(delta)) / (2 * (phi - r1))\n",
    "    return phi, theta"
   ]
  },
  {
   "cell_type": "code",
   "execution_count": 9,
   "metadata": {},
   "outputs": [
    {
     "name": "stdout",
     "output_type": "stream",
     "text": [
      "Method of moments estimate (phi): \t\t0.39305\n",
      "Method of moments estimate (theta): \t\tnan\n",
      "Conditional least squares estimate (phi): \t0.28005\n",
      "Conditional least squares estimate (theta): \t-0.99994\n"
     ]
    }
   ],
   "source": [
    "phi, theta = estimate_arma11_mom(Y)\n",
    "print('Method of moments estimate (phi): \\t\\t%.5f' % phi)\n",
    "print('Method of moments estimate (theta): \\t\\t%.5f' % theta)\n",
    "\n",
    "res = ARIMA(Y, order=(1, 0, 1)).fit(method='mle')\n",
    "phi, theta = res.arparams[0], -res.maparams[0]\n",
    "print('Conditional least squares estimate (phi): \\t%.5f' % phi)\n",
    "print('Conditional least squares estimate (theta): \\t%.5f' % theta)"
   ]
  },
  {
   "cell_type": "markdown",
   "metadata": {},
   "source": [
    "Both methods fail to provide reasonable estimates."
   ]
  },
  {
   "cell_type": "markdown",
   "metadata": {},
   "source": [
    "**(c)**"
   ]
  },
  {
   "cell_type": "code",
   "execution_count": 10,
   "metadata": {},
   "outputs": [
    {
     "name": "stdout",
     "output_type": "stream",
     "text": [
      "AR / MA\n",
      "   0  1  2  3  4  5  6  7  8  9 10 11 12 13\n",
      "0  x  o  o  o  o  o  o  o  o  o  o  o  o  o\n",
      "1  x  o  o  o  o  o  o  o  o  x  o  o  o  o\n",
      "2  x  o  o  o  o  o  o  o  o  o  o  o  o  o\n",
      "3  x  o  o  o  o  o  o  o  o  o  o  o  o  o\n",
      "4  x  o  o  o  o  o  o  o  o  o  o  o  o  o\n",
      "5  x  o  o  o  o  o  o  o  o  o  o  o  o  o\n",
      "6  x  o  o  o  o  o  o  o  o  o  o  o  o  o\n",
      "7  o  o  o  o  o  o  o  o  o  o  o  o  o  o\n",
      "Method of moments estimate (phi): \t\t0.07195\n",
      "Method of moments estimate (theta): \t\tnan\n",
      "Conditional least squares estimate (phi): \t0.18839\n",
      "Conditional least squares estimate (theta): \t-0.71427\n"
     ]
    }
   ],
   "source": [
    "np.random.seed(1001)\n",
    "Y = generate_arima(phi=[0.7], theta=[-0.6], n=48, distrvs=rt(6))\n",
    "\n",
    "eacf(Y);\n",
    "\n",
    "phi, theta = estimate_arma11_mom(Y)\n",
    "print('Method of moments estimate (phi): \\t\\t%.5f' % phi)\n",
    "print('Method of moments estimate (theta): \\t\\t%.5f' % theta)\n",
    "\n",
    "res = ARIMA(Y, order=(1, 0, 1)).fit(method='mle')\n",
    "phi, theta = res.arparams[0], -res.maparams[0]\n",
    "print('Conditional least squares estimate (phi): \\t%.5f' % phi)\n",
    "print('Conditional least squares estimate (theta): \\t%.5f' % theta)"
   ]
  },
  {
   "cell_type": "markdown",
   "metadata": {},
   "source": [
    "Again EACF suggests a MA(1) process, and again we do not get reasonable parameter estimates."
   ]
  },
  {
   "cell_type": "markdown",
   "metadata": {},
   "source": [
    "**Exercise 7.22**.  Simulate an AR(1) series with $\\phi = 0.6$, $n = 36$ but with error terms from a chi-square distribution with 6 degrees of freedom.\n",
    "\n",
    "**(a)** Display the sample PACF of the series. Is an AR(1) model suggested?\n",
    "\n",
    "**(b)** Estimate $\\phi$ from the series and comment on the results.\n",
    "\n",
    "**(c)** Repeat parts (a) and (b) with a new simulated series under the same conditions."
   ]
  },
  {
   "cell_type": "markdown",
   "metadata": {},
   "source": [
    "**Solution**."
   ]
  },
  {
   "cell_type": "code",
   "execution_count": 11,
   "metadata": {},
   "outputs": [],
   "source": [
    "from scipy.stats import chi2\n",
    "\n",
    "def rchisq(df):\n",
    "    \"\"\" \n",
    "    Returns a function that generates random variables from a chi square\n",
    "    distribution with df degrees of freedom, with signature compatible with \n",
    "    the argument distrvs in ArmaProcess.generate_sample.\n",
    "    \"\"\"\n",
    "    \n",
    "    def f(size=None):\n",
    "        return chi2.rvs(df=df, size=size)\n",
    "    \n",
    "    return f"
   ]
  },
  {
   "cell_type": "code",
   "execution_count": 12,
   "metadata": {},
   "outputs": [],
   "source": [
    "np.random.seed(1000)\n",
    "Y = generate_arima(phi=[0.6], n=36, distrvs=rchisq(6))"
   ]
  },
  {
   "cell_type": "markdown",
   "metadata": {},
   "source": [
    "**(a)**"
   ]
  },
  {
   "cell_type": "code",
   "execution_count": 13,
   "metadata": {},
   "outputs": [
    {
     "data": {
      "image/png": "[encoded data removed]",
      "text/plain": [
       "<Figure size 864x288 with 1 Axes>"
      ]
     },
     "metadata": {
      "needs_background": "light"
     },
     "output_type": "display_data"
    }
   ],
   "source": [
    "r = pacf(Y, nlags=15)[1:]\n",
    "se = 1 / np.sqrt(len(Y))\n",
    "plot_acf_with_bounds(r, -2*se, 2*se, title='Sample PACF for AR(1)')"
   ]
  },
  {
   "cell_type": "markdown",
   "metadata": {},
   "source": [
    "PACF hints at an AR(1) process, though large lags at 12 and 14 should be investigated."
   ]
  },
  {
   "cell_type": "markdown",
   "metadata": {},
   "source": [
    "**(b)**"
   ]
  },
  {
   "cell_type": "code",
   "execution_count": 14,
   "metadata": {},
   "outputs": [],
   "source": [
    "def estimate_ar1_mom(x):\n",
    "    return acf(x, fft=False, nlags=1)[1]"
   ]
  },
  {
   "cell_type": "code",
   "execution_count": 15,
   "metadata": {},
   "outputs": [
    {
     "name": "stdout",
     "output_type": "stream",
     "text": [
      "Method of moments estimate: \t\t0.68190\n",
      "Maximum likelihood estimate: \t\t0.74849\n"
     ]
    }
   ],
   "source": [
    "print('Method of moments estimate: \\t\\t%.5f' % estimate_ar1_mom(Y))\n",
    "print('Maximum likelihood estimate: \\t\\t%.5f' % ARIMA(Y, order=(1, 0, 0)).fit(method='mle').arparams[0])"
   ]
  },
  {
   "cell_type": "markdown",
   "metadata": {},
   "source": [
    "Both methods provide sensible estimates, though method of moments is closer to the actual value for $\\theta$."
   ]
  },
  {
   "cell_type": "markdown",
   "metadata": {},
   "source": [
    "**(c)**"
   ]
  },
  {
   "cell_type": "code",
   "execution_count": 16,
   "metadata": {},
   "outputs": [
    {
     "data": {
      "image/png": "[encoded data removed]",
      "text/plain": [
       "<Figure size 864x288 with 1 Axes>"
      ]
     },
     "metadata": {
      "needs_background": "light"
     },
     "output_type": "display_data"
    },
    {
     "name": "stdout",
     "output_type": "stream",
     "text": [
      "Method of moments estimate: \t\t0.62945\n",
      "Maximum likelihood estimate: \t\t0.80560\n"
     ]
    }
   ],
   "source": [
    "np.random.seed(1001)\n",
    "Y = generate_arima(phi=[0.6], n=36, distrvs=rchisq(6))\n",
    "\n",
    "r = pacf(Y, nlags=15)[1:]\n",
    "se = 1 / np.sqrt(len(Y))\n",
    "plot_acf_with_bounds(r, -2*se, 2*se, title='Sample PACF for AR(1)')\n",
    "\n",
    "print('Method of moments estimate: \\t\\t%.5f' % estimate_ar1_mom(Y))\n",
    "print('Maximum likelihood estimate: \\t\\t%.5f' % ARIMA(Y, order=(1, 0, 0)).fit(method='mle').arparams[0])"
   ]
  },
  {
   "cell_type": "markdown",
   "metadata": {},
   "source": [
    "Again PACF suggests AR(1) but with large lags later in the series.\n",
    "\n",
    "Both estimates are off by about 0.1, but are generally pointing in the right direction."
   ]
  },
  {
   "cell_type": "markdown",
   "metadata": {},
   "source": [
    "**Exercise 7.23**.  Simulate an MA(1) series with $\\theta = −0.8$, $n = 60$ but with error terms from a chi-square distribution with 7 degrees of freedom.\n",
    "\n",
    "**(a)** Display the sample ACF of the series. Is an MA(1) model suggested?\n",
    "\n",
    "**(b)** Estimate $\\theta$ from the series and comment on the results.\n",
    "\n",
    "**(c)** Repeat parts (a) and (b) with a new simulated series under the same conditions."
   ]
  },
  {
   "cell_type": "markdown",
   "metadata": {},
   "source": [
    "**Solution**."
   ]
  },
  {
   "cell_type": "code",
   "execution_count": 17,
   "metadata": {},
   "outputs": [],
   "source": [
    "np.random.seed(1000)\n",
    "Y = generate_arima(theta=[-0.8], n=60, distrvs=rchisq(7))"
   ]
  },
  {
   "cell_type": "markdown",
   "metadata": {},
   "source": [
    "**(a)**"
   ]
  },
  {
   "cell_type": "code",
   "execution_count": 18,
   "metadata": {},
   "outputs": [
    {
     "data": {
      "image/png": "[encoded data removed]",
      "text/plain": [
       "<Figure size 864x288 with 1 Axes>"
      ]
     },
     "metadata": {
      "needs_background": "light"
     },
     "output_type": "display_data"
    }
   ],
   "source": [
    "r = acf(Y, fft=False, nlags=15)[1:]\n",
    "se = 1 / np.sqrt(len(Y))\n",
    "plot_acf_with_bounds(r, -2*se, 2*se, title='Sample ACF for MA(1)')"
   ]
  },
  {
   "cell_type": "markdown",
   "metadata": {},
   "source": [
    "Yes, the MA(1) model is suggested (despite large lags later in the series)."
   ]
  },
  {
   "cell_type": "markdown",
   "metadata": {},
   "source": [
    "**(b)**"
   ]
  },
  {
   "cell_type": "code",
   "execution_count": 19,
   "metadata": {},
   "outputs": [],
   "source": [
    "def estimate_ma1_mom(x):\n",
    "    r = acf(x, fft=False, nlags=1)[1]\n",
    "    if np.abs(r) < 0.5:\n",
    "        return (-1 + np.sqrt(1 - 4 * r**2))/(2*r)\n",
    "    return np.nan"
   ]
  },
  {
   "cell_type": "code",
   "execution_count": 20,
   "metadata": {},
   "outputs": [
    {
     "name": "stdout",
     "output_type": "stream",
     "text": [
      "Method of moments estimate: \t\tnan\n",
      "Maximum likelihood estimate: \t\t-0.73749\n"
     ]
    }
   ],
   "source": [
    "print('Method of moments estimate: \\t\\t%.5f' % estimate_ma1_mom(Y))\n",
    "print('Maximum likelihood estimate: \\t\\t%.5f' % -ARIMA(Y, order=(0, 0, 1)).fit(method='mle').maparams[0])"
   ]
  },
  {
   "cell_type": "markdown",
   "metadata": {},
   "source": [
    "The method of moments fails to provide an estimate, but hte maximum likelihood method provides a reasonable estimate at $\\theta = -0.738$."
   ]
  },
  {
   "cell_type": "markdown",
   "metadata": {},
   "source": [
    "**(c)**"
   ]
  },
  {
   "cell_type": "code",
   "execution_count": 21,
   "metadata": {},
   "outputs": [
    {
     "data": {
      "image/png": "[encoded data removed]",
      "text/plain": [
       "<Figure size 864x288 with 1 Axes>"
      ]
     },
     "metadata": {
      "needs_background": "light"
     },
     "output_type": "display_data"
    },
    {
     "name": "stdout",
     "output_type": "stream",
     "text": [
      "Method of moments estimate: \t\tnan\n",
      "Maximum likelihood estimate: \t\t-0.87484\n"
     ]
    }
   ],
   "source": [
    "np.random.seed(1001)\n",
    "Y = generate_arima(theta=[-0.8], n=60, distrvs=rchisq(7))\n",
    "\n",
    "r = acf(Y, fft=False, nlags=15)[1:]\n",
    "se = 1 / np.sqrt(len(Y))\n",
    "plot_acf_with_bounds(r, -2*se, 2*se, title='Sample ACF for MA(1)')\n",
    "\n",
    "print('Method of moments estimate: \\t\\t%.5f' % estimate_ma1_mom(Y))\n",
    "print('Maximum likelihood estimate: \\t\\t%.5f' % -ARIMA(Y, order=(0, 0, 1)).fit(method='mle').maparams[0])"
   ]
  },
  {
   "cell_type": "markdown",
   "metadata": {},
   "source": [
    "Again the ACF suggests MA(1) but it has large values later in the series.\n",
    "\n",
    "Again the method of moments fails to provide an estimate, while the estimate for the maximum likelihood method is reasonable but a bit far from the true value."
   ]
  },
  {
   "cell_type": "markdown",
   "metadata": {},
   "source": [
    "**Exercise 7.24**.  Simulate an AR(2) series with $\\phi_1 = 1.0$, $\\phi_2 = −0.6$, $n = 48$ but with error terms from a chi-square distribution with 8 degrees of freedom.\n",
    "\n",
    "**(a)** Display the sample PACF of the series. Is an AR(2) model suggested?\n",
    "\n",
    "**(b)** Estimate $\\phi_1$ and $\\phi_2$ from the series and comment on the results.\n",
    "\n",
    "**(c)** Repeat parts (a) and (b) with a new simulated series under the same conditions"
   ]
  },
  {
   "cell_type": "markdown",
   "metadata": {},
   "source": [
    "**Solution**."
   ]
  },
  {
   "cell_type": "code",
   "execution_count": 22,
   "metadata": {},
   "outputs": [],
   "source": [
    "np.random.seed(2000)\n",
    "Y = generate_arima(phi=[1.0, -0.6], n=48, distrvs=rchisq(8))"
   ]
  },
  {
   "cell_type": "markdown",
   "metadata": {},
   "source": [
    "**(a)**"
   ]
  },
  {
   "cell_type": "code",
   "execution_count": 23,
   "metadata": {},
   "outputs": [
    {
     "data": {
      "image/png": "[encoded data removed]",
      "text/plain": [
       "<Figure size 864x288 with 1 Axes>"
      ]
     },
     "metadata": {
      "needs_background": "light"
     },
     "output_type": "display_data"
    }
   ],
   "source": [
    "r = pacf(Y, nlags=15)[1:]\n",
    "se = 1 / np.sqrt(len(Y))\n",
    "plot_acf_with_bounds(r, -2*se, 2*se, title='Sample PACF for AR(2)')"
   ]
  },
  {
   "cell_type": "markdown",
   "metadata": {},
   "source": [
    "Yes, the PACF suggests an AR(2) process."
   ]
  },
  {
   "cell_type": "markdown",
   "metadata": {},
   "source": [
    "**(b)**"
   ]
  },
  {
   "cell_type": "code",
   "execution_count": 24,
   "metadata": {},
   "outputs": [],
   "source": [
    "from statsmodels.regression.linear_model import yule_walker\n",
    "\n",
    "def estimate_ar2_mom(x):\n",
    "    rho, sigma = yule_walker(x, order=2)\n",
    "    return rho"
   ]
  },
  {
   "cell_type": "code",
   "execution_count": 25,
   "metadata": {},
   "outputs": [
    {
     "name": "stdout",
     "output_type": "stream",
     "text": [
      "Method of moments estimate (phi1): \t\t0.96254\n",
      "Method of moments estimate (phi2): \t\t-0.60917\n",
      "Maximum likelihood estimate (phi1): \t\t0.96638\n",
      "Maximum likelihood estimate (phi2): \t\t-0.65240\n"
     ]
    }
   ],
   "source": [
    "phi1, phi2 = estimate_ar2_mom(Y)\n",
    "print('Method of moments estimate (phi1): \\t\\t%.5f' % phi1)\n",
    "print('Method of moments estimate (phi2): \\t\\t%.5f' % phi2)\n",
    "\n",
    "phi1, phi2 = ARIMA(Y, order=(2, 0, 0)).fit(method='mle').arparams\n",
    "print('Maximum likelihood estimate (phi1): \\t\\t%.5f' % phi1)\n",
    "print('Maximum likelihood estimate (phi2): \\t\\t%.5f' % phi2)"
   ]
  },
  {
   "cell_type": "markdown",
   "metadata": {},
   "source": [
    "Both methods provide reasonable estimates for $\\phi_1$ and $\\phi_2$, though method of moment estimates is closer."
   ]
  },
  {
   "cell_type": "markdown",
   "metadata": {},
   "source": [
    "**(c)**"
   ]
  },
  {
   "cell_type": "code",
   "execution_count": 26,
   "metadata": {},
   "outputs": [
    {
     "data": {
      "image/png": "[encoded data removed]",
      "text/plain": [
       "<Figure size 864x288 with 1 Axes>"
      ]
     },
     "metadata": {
      "needs_background": "light"
     },
     "output_type": "display_data"
    },
    {
     "name": "stdout",
     "output_type": "stream",
     "text": [
      "Method of moments estimate (phi1): \t\t1.04191\n",
      "Method of moments estimate (phi2): \t\t-0.69835\n",
      "Maximum likelihood estimate (phi1): \t\t1.15671\n",
      "Maximum likelihood estimate (phi2): \t\t-0.80994\n"
     ]
    }
   ],
   "source": [
    "np.random.seed(2001)\n",
    "Y = generate_arima(phi=[1.0, -0.6], n=48, distrvs=rchisq(8))\n",
    "\n",
    "r = pacf(Y, nlags=15)[1:]\n",
    "se = 1 / np.sqrt(len(Y))\n",
    "plot_acf_with_bounds(r, -2*se, 2*se, title='Sample PACF for AR(2)')\n",
    "\n",
    "phi1, phi2 = estimate_ar2_mom(Y)\n",
    "print('Method of moments estimate (phi1): \\t\\t%.5f' % phi1)\n",
    "print('Method of moments estimate (phi2): \\t\\t%.5f' % phi2)\n",
    "\n",
    "phi1, phi2 = ARIMA(Y, order=(2, 0, 0)).fit(method='mle').arparams\n",
    "print('Maximum likelihood estimate (phi1): \\t\\t%.5f' % phi1)\n",
    "print('Maximum likelihood estimate (phi2): \\t\\t%.5f' % phi2)"
   ]
  },
  {
   "cell_type": "markdown",
   "metadata": {},
   "source": [
    "Again, the PACF suggests an AR(2) process.\n",
    "\n",
    "The estimates obtained by the method of moments are, again, better than the estimates obtained by the maximum likelihood."
   ]
  },
  {
   "cell_type": "markdown",
   "metadata": {},
   "source": [
    "**Exercise 7.25**.  Simulate an ARMA(1,1) series with $\\phi = 0.7$, $\\theta = −0.6$, $n = 48$ but with error terms from a chi-square distribution with 9 degrees of freedom.\n",
    "\n",
    "**(a)** Display the sample EACF of the series. Is an ARMA(1,1) model suggested?\n",
    "\n",
    "**(b)** Estimate $\\phi$ and $\\theta$ from the series and comment on the results.\n",
    "\n",
    "**(c)** Repeat parts (a) and (b) with a new series under the same conditions."
   ]
  },
  {
   "cell_type": "markdown",
   "metadata": {},
   "source": [
    "**Solution**."
   ]
  },
  {
   "cell_type": "code",
   "execution_count": 27,
   "metadata": {},
   "outputs": [],
   "source": [
    "np.random.seed(3000)\n",
    "Y = generate_arima(phi=[0.7], theta=[-0.6], n=48, distrvs=rchisq(9))"
   ]
  },
  {
   "cell_type": "markdown",
   "metadata": {},
   "source": [
    "**(a)**"
   ]
  },
  {
   "cell_type": "code",
   "execution_count": 28,
   "metadata": {},
   "outputs": [
    {
     "name": "stdout",
     "output_type": "stream",
     "text": [
      "AR / MA\n",
      "   0  1  2  3  4  5  6  7  8  9 10 11 12 13\n",
      "0  x  o  o  o  o  o  o  o  o  o  o  o  o  o\n",
      "1  x  o  o  o  o  o  o  o  o  o  o  o  o  o\n",
      "2  x  x  o  o  o  o  o  o  o  o  o  o  o  o\n",
      "3  x  x  x  o  o  o  o  o  o  o  o  o  o  o\n",
      "4  o  o  o  o  o  o  o  o  o  o  o  o  o  o\n",
      "5  o  o  o  o  o  o  o  o  o  o  o  o  o  o\n",
      "6  x  o  o  o  o  o  o  o  o  o  o  o  o  o\n",
      "7  o  x  o  o  o  o  o  o  o  o  o  o  o  o\n"
     ]
    }
   ],
   "source": [
    "eacf(Y);"
   ]
  },
  {
   "cell_type": "markdown",
   "metadata": {},
   "source": [
    "No -- EACF suggests a MA(1) process, rather than the actual ARMA(1, 1) process."
   ]
  },
  {
   "cell_type": "markdown",
   "metadata": {},
   "source": [
    "**(b)**"
   ]
  },
  {
   "cell_type": "code",
   "execution_count": 29,
   "metadata": {},
   "outputs": [
    {
     "name": "stdout",
     "output_type": "stream",
     "text": [
      "Method of moments estimate (phi): \t\t0.30373\n",
      "Method of moments estimate (theta): \t\tnan\n",
      "Conditional least squares estimate (phi): \t0.63179\n",
      "Conditional least squares estimate (theta): \t-0.84143\n"
     ]
    }
   ],
   "source": [
    "phi, theta = estimate_arma11_mom(Y)\n",
    "print('Method of moments estimate (phi): \\t\\t%.5f' % phi)\n",
    "print('Method of moments estimate (theta): \\t\\t%.5f' % theta)\n",
    "\n",
    "res = ARIMA(Y, order=(1, 0, 1)).fit(method='mle')\n",
    "phi, theta = res.arparams[0], -res.maparams[0]\n",
    "print('Conditional least squares estimate (phi): \\t%.5f' % phi)\n",
    "print('Conditional least squares estimate (theta): \\t%.5f' % theta)"
   ]
  },
  {
   "cell_type": "markdown",
   "metadata": {},
   "source": [
    "Method of moment fails to provide an estimate for $\\theta$.  The maximum likelihood estimate values are not too far from the actual values."
   ]
  },
  {
   "cell_type": "markdown",
   "metadata": {},
   "source": [
    "**(c)**"
   ]
  },
  {
   "cell_type": "code",
   "execution_count": 30,
   "metadata": {},
   "outputs": [
    {
     "name": "stdout",
     "output_type": "stream",
     "text": [
      "AR / MA\n",
      "   0  1  2  3  4  5  6  7  8  9 10 11 12 13\n",
      "0  x  x  o  o  o  o  o  o  o  o  o  o  o  o\n",
      "1  x  o  o  o  o  o  o  o  o  o  o  o  o  o\n",
      "2  x  o  o  o  o  o  o  o  o  o  o  o  o  o\n",
      "3  x  o  o  o  o  o  o  o  o  o  o  o  o  o\n",
      "4  x  o  o  o  o  o  o  o  o  o  o  o  o  o\n",
      "5  x  o  o  o  o  o  o  o  o  o  o  o  o  o\n",
      "6  x  o  o  o  o  o  o  o  o  o  o  o  o  o\n",
      "7  o  x  o  o  o  o  o  o  o  o  o  o  o  o\n",
      "Method of moments estimate (phi): \t\t0.50659\n",
      "Method of moments estimate (theta): \t\t-0.26861\n",
      "Conditional least squares estimate (phi): \t0.73325\n",
      "Conditional least squares estimate (theta): \t-0.65583\n"
     ]
    }
   ],
   "source": [
    "np.random.seed(3001)\n",
    "Y = generate_arima(phi=[0.7], theta=[-0.6], n=48, distrvs=rchisq(9))\n",
    "\n",
    "eacf(Y);\n",
    "\n",
    "phi, theta = estimate_arma11_mom(Y)\n",
    "print('Method of moments estimate (phi): \\t\\t%.5f' % phi)\n",
    "print('Method of moments estimate (theta): \\t\\t%.5f' % theta)\n",
    "\n",
    "res = ARIMA(Y, order=(1, 0, 1)).fit(method='mle')\n",
    "phi, theta = res.arparams[0], -res.maparams[0]\n",
    "print('Conditional least squares estimate (phi): \\t%.5f' % phi)\n",
    "print('Conditional least squares estimate (theta): \\t%.5f' % theta)"
   ]
  },
  {
   "cell_type": "markdown",
   "metadata": {},
   "source": [
    "EACF suggests an ARMA(1, 1) process.\n",
    "\n",
    "Both methods provide estimates, but the estimates for the maximum likelihood are much better."
   ]
  }
 ],
 "metadata": {
  "kernelspec": {
   "display_name": "Python 3",
   "language": "python",
   "name": "python3"
  },
  "language_info": {
   "codemirror_mode": {
    "name": "ipython",
    "version": 3
   },
   "file_extension": ".py",
   "mimetype": "text/x-python",
   "name": "python",
   "nbconvert_exporter": "python",
   "pygments_lexer": "ipython3",
   "version": "3.7.3"
  }
 },
 "nbformat": 4,
 "nbformat_minor": 2
}
