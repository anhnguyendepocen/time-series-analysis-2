{
 "cells": [
  {
   "cell_type": "markdown",
   "metadata": {},
   "source": [
    "## 6. Model Specification"
   ]
  },
  {
   "cell_type": "markdown",
   "metadata": {},
   "source": [
    "**Exercise 6.1**.  Verify Equation (6.1.3) on page 110 for the white noise process."
   ]
  },
  {
   "cell_type": "markdown",
   "metadata": {},
   "source": [
    "**Solution**.  Equation (6.1.3) states that, for the white noise process, we have\n",
    "\n",
    "$$ \\text{Var}[r_k] \\approx \\frac{1}{n} \\quad \\text{and} \\quad \\text{Corr}[r_k, r_j] \\approx 0 \\quad \\text{for } k \\neq j $$\n",
    "\n",
    "Equation (6.1.2) states that the joint distribution of\n",
    "\n",
    "$$ \\sqrt{n}(r_1 - \\rho_1), \\sqrt{n}(r_2 - \\rho_2), \\cdots, \\sqrt{n}(r_m - \\rho_m) $$\n",
    "\n",
    "approaches, as $n \\rightarrow \\infty$, a joint normal distribution with variances $c_{ii}$ and covariances $c_{ij}$, where\n",
    "\n",
    "$$ c_{ij} = \\sum_{k=-\\infty}^\\infty \\rho_{k+i} \\rho_{k+j} + \\rho_{k-i} \\rho_{k+j} - 2 \\rho_{i} \\rho_{k} \\rho_{k+j} - 2 \\rho_{j} \\rho_{k} \\rho_{k+i} + 2 \\rho_{i} \\rho_{j} \\rho_{k}^2 $$\n",
    "\n",
    "For a white noise process, $\\rho_0 = 1$ and $\\rho_a = 0$ for $a \\neq 0$, so the equation above reduces to only having a non-zero term when $k = -i = -j$, so $c_{ii} = \\rho_0^2 = 1$ and $c_{ij} = 0$ for $i \\neq j$.  So the above reduces to  $\\sqrt{n}r_k$ having variance 1 and covariance 0, from which Equation (6.1.3) follows."
   ]
  },
  {
   "cell_type": "markdown",
   "metadata": {},
   "source": [
    "**Exercise 6.2**.  Verify Equation (6.1.4) on page 110 for the AR(1) process."
   ]
  },
  {
   "cell_type": "markdown",
   "metadata": {},
   "source": [
    "**Solution**.  The AR(1) process satisfies $\\rho_k = \\phi^{|k|}$.  Therefore, for $j \\geq 1$, we have from Equation (6.1.2)\n",
    "\n",
    "$$\n",
    "\\begin{align}\n",
    "c_{jj} &= \\sum_{k=-\\infty}^\\infty \\rho_{k+j}^2 + \\rho_{k-j} \\rho_{k+j} - 4 \\rho_{j} \\rho_{k} \\rho_{k+j} + 2 \\rho_j^2 \\rho_{k}^2 \\\\\n",
    "&= (1 + 2 \\rho_j^2) \\sum_{k=-\\infty}^\\infty \\rho_k^2 + \\sum_{k=-\\infty}^\\infty \\rho_{k-j} \\rho_{k+j} -4 \\rho_j \\sum_{k=-\\infty}^\\infty \\rho_{k} \\rho_{k+j}\n",
    "\\end{align}\n",
    "$$\n",
    "\n",
    "Performing each of the geometric sums alluded to in the text, the first sum is\n",
    "\n",
    "$$\n",
    "\\sum_{k=-\\infty}^\\infty \\rho_k^2 = 1 + 2 \\sum_{k=1}^\\infty \\phi^{2k} = 1 + 2 \\frac{\\phi^2}{1 - \\phi^2} = \\frac{1 + \\phi^2}{1 - \\phi^2}\n",
    "$$\n",
    "\n",
    "The second sum is\n",
    "\n",
    "$$\n",
    "\\begin{align}\n",
    "\\sum_{k=-\\infty}^\\infty \\rho_{k-j} \\rho_{k+j} \n",
    "&= \\sum_{k=-\\infty}^{-j-1} \\rho_{k-j} \\rho_{k+j} + \\sum_{k=-j}^{j-1} \\rho_{k-j} \\rho_{k+j} + \\sum_{k=j}^\\infty \\rho_{k-j} \\rho_{k+j} \\\\\n",
    "&= \\sum_{k=-\\infty}^{-j-1} \\phi^{-(k-j)} \\phi^{-(k+j)} + \\sum_{k=-j}^{j-1} \\phi^{k-j} \\phi^{-(k+j)} + \\sum_{k=j}^\\infty \\phi^{k-j} \\phi^{k+j} \\\\\n",
    "&= \\sum_{k=-\\infty}^{-j-1} \\phi^{-2k} + \\sum_{k=-j}^{j-1} \\phi^{-2j} + \\sum_{k=j}^\\infty \\phi^{2k} \\\\\n",
    "&= \\frac{\\phi^{2j+2}}{1 - \\phi^2} + 2j \\phi^{2j} + \\frac{\\phi^{2j}}{1 - \\phi^2} \\\\\n",
    "&= \\phi^{2j} \\left( 2j + \\frac{1 + \\phi^2}{1 - \\phi^2} \\right)\n",
    "\\end{align}\n",
    "$$\n",
    "\n",
    "The third sum is\n",
    "\n",
    "$$\n",
    "\\begin{align}\n",
    "\\sum_{k=-\\infty}^\\infty \\rho_{k} \\rho_{k+j} \n",
    "&= \\sum_{k=-\\infty}^{-j} \\rho_{k} \\rho_{k+j} + \\sum_{k=-j+1}^{0} \\rho_{k} \\rho_{k+j} + \\sum_{k=1}^\\infty \\rho_{k} \\rho_{k+j} \\\\\n",
    "&= \\sum_{k=-\\infty}^{-j} \\phi^{-k} \\phi^{-(k+j)} + \\sum_{k=-j+1}^{0} \\phi^{-k} \\phi^{k+j} + \\sum_{k=1}^\\infty \\phi^{k} \\phi^{k+j} \\\\\n",
    "&= \\phi^{-j} \\sum_{k=-\\infty}^{-j-1} \\phi^{-2k} + \\sum_{k=-j+1}^{0} \\phi^{j} + \\phi^j \\sum_{k=1}^\\infty \\phi^{2k} \\\\\n",
    "&= \\phi^{-j} \\frac{\\phi^{2j}}{1 - \\phi^2} + j \\phi^j + \\phi^j \\frac{\\phi^2}{1 - \\phi^2} \\\\\n",
    "&= \\phi^j \\left( j + \\frac{1 + \\phi^2}{1 - \\phi^2} \\right)\n",
    "\\end{align}\n",
    "$$\n",
    "\n",
    "Replacing on the original expression,\n",
    "\n",
    "$$\\begin{align} \n",
    "c_{jj} &= (1 + 2 \\phi^{2j}) \\frac{1 + \\phi^2}{1 - \\phi^2} + \\phi^{2j} \\left( 2j + \\frac{1 + \\phi^2}{1 - \\phi^2} \\right) -4 \\phi^{2j} \\left( j + \\frac{1 + \\phi^2}{1 - \\phi^2} \\right) \\\\\n",
    "&= (1 - \\phi^{2j})\\frac{1 + \\phi^2}{1 - \\phi^2} - 2j\\phi^{2j}\n",
    "\\end{align}\n",
    "$$\n",
    "\n",
    "Since this refers to the limit of the variance of $\\sqrt{n} r_j$, we get the result\n",
    "\n",
    "$$ \\text{Var}[r_k] \\approx \\frac{1}{n}\\left[ (1 - \\phi^{2k})\\frac{1 + \\phi^2}{1 - \\phi^2} - 2k \\phi^{2k} \\right] $$"
   ]
  },
  {
   "cell_type": "markdown",
   "metadata": {},
   "source": [
    "**Exercise 6.3**.  Verify the line in Exhibit 6.1 on page 111, for values $\\phi = \\pm 0.9$."
   ]
  },
  {
   "cell_type": "markdown",
   "metadata": {},
   "source": [
    "**Solution**.  We will use Equation (6.1.2) for $k = 1, 2, 10$:\n",
    "\n",
    "$$ \\text{Var}[r_k] \\approx \\frac{1}{n}\\left[ (1 - \\phi^{2k})\\frac{1 + \\phi^2}{1 - \\phi^2} - 2k \\phi^{2k} \\right] $$\n",
    "\n",
    "and Equation (6.1.8):\n",
    "\n",
    "$$ \\text{Corr}[r_1, r_2] \\approx 2 \\phi \\sqrt{\\frac{1 - \\phi^2}{1 + 2\\phi^2 - 3\\phi^4}} $$"
   ]
  },
  {
   "cell_type": "code",
   "execution_count": 1,
   "metadata": {},
   "outputs": [],
   "source": [
    "import numpy as np\n",
    "\n",
    "def se_rk(phi, k):\n",
    "    return np.sqrt((1 - phi**(2*k)) * (1 + phi**2) / (1 - phi**2) - 2 * k * phi**(2*k))\n",
    "\n",
    "def corr(phi):\n",
    "    return 2 * phi * np.sqrt((1 - phi**2)/(1 + 2 * phi**2 - 3 * phi**4))"
   ]
  },
  {
   "cell_type": "code",
   "execution_count": 2,
   "metadata": {},
   "outputs": [
    {
     "name": "stdout",
     "output_type": "stream",
     "text": [
      "0.44\n",
      "0.81\n",
      "0.97\n",
      "2.44\n"
     ]
    }
   ],
   "source": [
    "phi = 0.9\n",
    "\n",
    "for value in [se_rk(phi, 1), se_rk(phi, 2), corr(phi), se_rk(phi, 10)]:\n",
    "    print(round(value, 2))"
   ]
  },
  {
   "cell_type": "markdown",
   "metadata": {},
   "source": [
    "**Exercise 6.4**.  Add new entries to Exhibit 6.1 on page 111, for the following values:\n",
    "\n",
    "**(a)** $\\phi = \\pm 0.99$\n",
    "\n",
    "**(b)** $\\phi = \\pm 0.5$\n",
    "\n",
    "**(c)** $\\phi = \\pm 0.1$"
   ]
  },
  {
   "cell_type": "markdown",
   "metadata": {},
   "source": [
    "**Solution**."
   ]
  },
  {
   "cell_type": "code",
   "execution_count": 3,
   "metadata": {},
   "outputs": [
    {
     "name": "stdout",
     "output_type": "stream",
     "text": [
      "0.14\n",
      "0.28\n",
      "1.0\n",
      "1.33\n"
     ]
    }
   ],
   "source": [
    "phi = 0.99\n",
    "\n",
    "for value in [se_rk(phi, 1), se_rk(phi, 2), corr(phi), se_rk(phi, 10)]:\n",
    "    print(round(value, 2))"
   ]
  },
  {
   "cell_type": "code",
   "execution_count": 4,
   "metadata": {},
   "outputs": [
    {
     "name": "stdout",
     "output_type": "stream",
     "text": [
      "0.87\n",
      "1.15\n",
      "0.76\n",
      "1.29\n"
     ]
    }
   ],
   "source": [
    "phi = 0.5\n",
    "\n",
    "for value in [se_rk(phi, 1), se_rk(phi, 2), corr(phi), se_rk(phi, 10)]:\n",
    "    print(round(value, 2))"
   ]
  },
  {
   "cell_type": "code",
   "execution_count": 5,
   "metadata": {},
   "outputs": [
    {
     "name": "stdout",
     "output_type": "stream",
     "text": [
      "0.99\n",
      "1.01\n",
      "0.2\n",
      "1.01\n"
     ]
    }
   ],
   "source": [
    "phi = 0.1\n",
    "\n",
    "for value in [se_rk(phi, 1), se_rk(phi, 2), corr(phi), se_rk(phi, 10)]:\n",
    "    print(round(value, 2))"
   ]
  },
  {
   "cell_type": "markdown",
   "metadata": {},
   "source": [
    "$$\n",
    "\\begin{array}{ccccc}\n",
    "\\phi & \\sqrt{\\text{Var}[r_1]} & \\sqrt{\\text{Var}[r_2]} & \\text{Corr}[r_1, r_2] & \\sqrt{\\text{Var}[r_{10}]} \\\\\n",
    "\\pm 0.99 & 0.14 / \\sqrt{n} & 0.28 / \\sqrt{n} & \\pm 1.00 & 1.33 / \\sqrt{n} \\\\\n",
    "\\pm 0.9  & 0.44 / \\sqrt{n} & 0.81 / \\sqrt{n} & \\pm 0.97 & 2.44 / \\sqrt{n} \\\\\n",
    "\\pm 0.7  & 0.71 / \\sqrt{n} & 1.12 / \\sqrt{n} & \\pm 0.89 & 1.70 / \\sqrt{n} \\\\\n",
    "\\pm 0.5  & 0.87 / \\sqrt{n} & 1.15 / \\sqrt{n} & \\pm 0.76 & 1.29 / \\sqrt{n} \\\\\n",
    "\\pm 0.4  & 0.92 / \\sqrt{n} & 1.11 / \\sqrt{n} & \\pm 0.66 & 1.18 / \\sqrt{n} \\\\\n",
    "\\pm 0.2  & 0.98 / \\sqrt{n} & 1.04 / \\sqrt{n} & \\pm 0.38 & 1.04 / \\sqrt{n} \\\\\n",
    "\\pm 0.1  & 0.99 / \\sqrt{n} & 1.01 / \\sqrt{n} & \\pm 0.20 & 1.01 / \\sqrt{n}\n",
    "\\end{array}\n",
    "$$"
   ]
  },
  {
   "cell_type": "markdown",
   "metadata": {},
   "source": [
    "**Exercise 6.5**.  Verify Equation (6.1.9) on page 111 and Equation (6.1.10) for the MA(1) process."
   ]
  },
  {
   "cell_type": "markdown",
   "metadata": {},
   "source": [
    "**Solution**.  Equation (6.1.2) is that\n",
    "\n",
    "$$ c_{ij} = \\sum_{k=-\\infty}^\\infty \\rho_{k+i} \\rho_{k+j} + \\rho_{k-i} \\rho_{k+j} - 2 \\rho_{i} \\rho_{k} \\rho_{k+j} - 2 \\rho_{j} \\rho_{k} \\rho_{k+i} + 2 \\rho_{i} \\rho_{j} \\rho_{k}^2 $$\n",
    "\n",
    "and, in particular for $i = j$, we get\n",
    "\n",
    "$$ c_{jj} = \\sum_{k=-\\infty}^\\infty \\rho_{k+j}^2 + \\rho_{k-j} \\rho_{k+j} - 4 \\rho_{j} \\rho_{k} \\rho_{k+j} + 2 \\rho_j^2 \\rho_{k}^2 $$\n",
    "\n",
    "Equation (6.1.9) states that, for a MA(1) process,\n",
    "\n",
    "$$ c_{11} = 1 - 3 \\rho_1^2 + 4 \\rho_1^4 \\quad \\text{and} \\quad c_{kk} = 1 + 2\\rho_1^2 \\quad \\text{for } k > 1 $$\n",
    "\n",
    "But for the MA(1) process, the autocorrelation function is\n",
    "\n",
    "$$ \\rho_k = \\begin{cases}\n",
    "1 &\\text{for } k = 0 \\\\\n",
    "\\theta &\\text{for } |k| = 1 \\\\\n",
    "0 &\\text{otherwise}\n",
    "\\end{cases} $$\n",
    "\n",
    "For $c_{11}$, the sums decompose as\n",
    "\n",
    "- $ \\sum_{k=-\\infty}^\\infty \\rho_{k+j}^2 = \\rho_{-1}^2 + \\rho_0^2 + \\rho_1^2 = 1 + 2\\theta^2 $\n",
    "- $ \\sum_{k=-\\infty}^\\infty \\rho_{k-j} \\rho_{k+j} = \\rho_{-1} \\rho_1 = \\theta^2 $\n",
    "- $ \\sum_{k=-\\infty}^\\infty \\rho_{j} \\rho_{k} \\rho_{k+j} = \\rho_{-1} \\rho_0 \\rho_1 = \\theta^2 $\n",
    "- $ \\sum_{k=-\\infty}^\\infty \\rho_j^2 \\rho_{k}^2 = \\theta^4 $\n",
    "\n",
    "and so we get the first half of Equation (6.1.9),\n",
    "\n",
    "$$ c_{11} = 1 + 2 \\theta^2 + \\theta^2 - 4 \\theta^2 + 4 \\theta^4 = 1 - 3 \\theta^2 + 4 \\theta^4 $$\n",
    "\n",
    "For $c_{jj}$, with $j > 1$, the sums decompose as\n",
    "\n",
    "- $ \\sum_{k=-\\infty}^\\infty \\rho_{k+j}^2 = \\rho_{-1}^2 + \\rho_0^2 + \\rho_1^2 = 1 + 2\\theta^2 $\n",
    "- $ \\sum_{k=-\\infty}^\\infty \\rho_{k-j} \\rho_{k+j} = 0 $\n",
    "- $ \\sum_{k=-\\infty}^\\infty \\rho_{j} \\rho_{k} \\rho_{k+j} = 0 $\n",
    "- $ \\sum_{k=-\\infty}^\\infty \\rho_j^2 \\rho_{k}^2 = 0$\n",
    "\n",
    "and so we get the second half of Equation (6.1.9),\n",
    "\n",
    "$$ c_{jj} = 1 + 2 \\theta^2 $$\n",
    "\n",
    "Equation (6.1.10) states that \n",
    "\n",
    "$$ c_{12} = 2 \\rho_1 (1 - \\rho_1^2) $$\n",
    "\n",
    "But we have\n",
    "\n",
    "$$ \n",
    "\\begin{align}\n",
    "c_{12} &= \\sum_{k=-\\infty}^\\infty \\rho_{k+1} \\rho_{k+2} + \\rho_{k-1} \\rho_{k+2} - 2 \\rho_{1} \\rho_{k} \\rho_{k+2} - 2 \\rho_{2} \\rho_{k} \\rho_{k+1} + 2 \\rho_{1} \\rho_{2} \\rho_{k}^2 \\\\\n",
    "&= \\rho_{-1}\\rho_0 + \\rho_0 \\rho_1 - 2\\rho_1 \\rho_{-1} \\rho_{1} \\\\\n",
    "&= \\theta + \\theta - 2 \\theta^3 \\\\\n",
    "&= 2 \\theta (1 - \\theta^3)\n",
    "\\end{align}\n",
    "$$"
   ]
  }
 ],
 "metadata": {
  "kernelspec": {
   "display_name": "Python 3",
   "language": "python",
   "name": "python3"
  },
  "language_info": {
   "codemirror_mode": {
    "name": "ipython",
    "version": 3
   },
   "file_extension": ".py",
   "mimetype": "text/x-python",
   "name": "python",
   "nbconvert_exporter": "python",
   "pygments_lexer": "ipython3",
   "version": "3.7.3"
  }
 },
 "nbformat": 4,
 "nbformat_minor": 2
}
