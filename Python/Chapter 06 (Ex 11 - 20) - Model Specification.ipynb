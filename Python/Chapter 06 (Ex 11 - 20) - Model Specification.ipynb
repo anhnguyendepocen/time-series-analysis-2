{
 "cells": [
  {
   "cell_type": "markdown",
   "metadata": {},
   "source": [
    "**Exercise 6.11**. Use Equation (6.2.8) on page 114, to find the (theoretical) partial autocorrelation function for an AR(2) model in terms of $\\phi_1$ and $\\phi_2$ and lag $k = 1, 2, 3, \\dots$."
   ]
  },
  {
   "cell_type": "markdown",
   "metadata": {},
   "source": [
    "**Solution**.  Equation (6.2.8), the Yule-Walker equations, state that\n",
    "\n",
    "$$ \\begin{bmatrix}\n",
    "\\rho_1 \\\\\n",
    "\\rho_2 \\\\\n",
    "\\rho_3 \\\\\n",
    "\\vdots \\\\\n",
    "\\rho_k\n",
    "\\end{bmatrix} = \\begin{bmatrix}\n",
    "1 & \\rho_1 & \\rho_2 & \\cdots & \\rho_{k-1} \\\\\n",
    "\\rho_1 & 1 & \\rho_1 & \\cdots & \\rho_{k-2} \\\\\n",
    "\\rho_2 & \\rho_1 & 1 & \\cdots & \\rho_{k-3} \\\\\n",
    "\\vdots & \\vdots & \\vdots & \\ddots & \\vdots \\\\\n",
    "\\rho_{k-1} & \\rho_{k-2} & \\rho_{k-3} & \\cdots & 1\n",
    "\\end{bmatrix} \\begin{bmatrix}\n",
    "\\phi_{k1} \\\\\n",
    "\\phi_{k2} \\\\\n",
    "\\phi_{k3} \\\\\n",
    "\\vdots \\\\\n",
    "\\phi_{kk}\n",
    "\\end{bmatrix}\n",
    "$$\n",
    "\n",
    "For $k = 1$, we get $\\phi_{11} = \\rho_1 = \\phi_1$.\n",
    "\n",
    "For $k = 2$, we get \n",
    "\n",
    "$$\n",
    "\\begin{align}\n",
    "\\rho_1 = \\phi_{21} + \\phi_{22} \\rho_1 \\\\\n",
    "\\rho_2 = \\phi_{21} \\rho_1 + \\phi_{22}\n",
    "\\end{align}\n",
    "$$\n",
    "\n",
    "But since the process is AR(2), we have\n",
    "\n",
    "$$\n",
    "\\begin{align}\n",
    "\\rho_1 = \\phi_1 + \\phi_2 \\rho_1 \\\\\n",
    "\\rho_2 = \\phi_1 \\rho_1 + \\phi_2\n",
    "\\end{align}\n",
    "$$\n",
    "\n",
    "we must have $\\phi_{22} = \\phi_2$.\n",
    "\n",
    "In general, if we know that $\\phi_{kk} = \\phi_k$ for $k \\leq n - 1$, we have\n",
    "\n",
    "$$ \\begin{bmatrix}\n",
    "\\rho_1 \\\\\n",
    "\\rho_2 \\\\\n",
    "\\rho_3 \\\\\n",
    "\\vdots \\\\\n",
    "\\rho_n\n",
    "\\end{bmatrix} = \\begin{bmatrix}\n",
    "1 & \\rho_1 & \\rho_2 & \\cdots & \\rho_{n-1} \\\\\n",
    "\\rho_1 & 1 & \\rho_1 & \\cdots & \\rho_{n-2} \\\\\n",
    "\\rho_2 & \\rho_1 & 1 & \\cdots & \\rho_{n-3} \\\\\n",
    "\\vdots & \\vdots & \\vdots & \\ddots & \\vdots \\\\\n",
    "\\rho_{n-1} & \\rho_{n-2} & \\rho_{n-3} & \\cdots & 1\n",
    "\\end{bmatrix} \\begin{bmatrix}\n",
    "\\phi_{n1} \\\\\n",
    "\\phi_{n2} \\\\\n",
    "\\phi_{n3} \\\\\n",
    "\\vdots \\\\\n",
    "\\phi_{nn}\n",
    "\\end{bmatrix}\n",
    "$$\n",
    "\n",
    "but since the process is AR(2) we know hat\n",
    "\n",
    "$$ \\begin{bmatrix}\n",
    "\\rho_1 \\\\\n",
    "\\rho_2 \\\\\n",
    "\\rho_3 \\\\\n",
    "\\vdots \\\\\n",
    "\\rho_n\n",
    "\\end{bmatrix} = \\begin{bmatrix}\n",
    "1 & \\rho_1 & \\rho_2 & \\cdots & \\rho_{n-1} \\\\\n",
    "\\rho_1 & 1 & \\rho_1 & \\cdots & \\rho_{n-2} \\\\\n",
    "\\rho_2 & \\rho_1 & 1 & \\cdots & \\rho_{n-3} \\\\\n",
    "\\vdots & \\vdots & \\vdots & \\ddots & \\vdots \\\\\n",
    "\\rho_{n-1} & \\rho_{n-2} & \\rho_{n-3} & \\cdots & 1\n",
    "\\end{bmatrix} \\begin{bmatrix}\n",
    "\\phi_1 \\\\\n",
    "\\phi_2 \\\\\n",
    "\\phi_3 \\\\\n",
    "\\vdots \\\\\n",
    "\\phi_n\n",
    "\\end{bmatrix}\n",
    "$$\n",
    "\n",
    "and so $\\phi_{nn} = \\phi_n = 0$ for $n > 2$."
   ]
  },
  {
   "cell_type": "markdown",
   "metadata": {},
   "source": [
    "**Exercise 6.12**.  From a time series of 100 observations, we calculate $r_1 = -0.49$, $r_2 = 0.31$, $r_3 = -0.21$, $r_4 = 0.11$, and $|r_k| < 0.09$ for $k > 4$.  On this basis alone, what ARIMA model would we tentatively specify for the series?"
   ]
  },
  {
   "cell_type": "markdown",
   "metadata": {},
   "source": [
    "**Solution**.  Using $2 / \\sqrt{n} = 2 / 10 = 0.2$ as a guideline, $|r_i| > 0.2$ for $i = 1, 2, 3$ and $|r_i| < 0.2$ for $i > 3$, so we would consider MA(2) and MA(3).  Assuming MA(2), Equation (6.1.11) gives $\\text{Var}[r_3] \\approx (100)^{-1}(1 + 2(-0.49)^2 + 2(0.31)^2) \\approx 0.016724$, so $r_3 / \\sqrt{\\text{Var}[r_3]} = \\approx -1.62$, and MA(2) is not rejected."
   ]
  },
  {
   "cell_type": "markdown",
   "metadata": {},
   "source": [
    "**Exercise 6.13**.  A stationary time series of length 121 produced sample partial autocorrelation of $\\hat{\\phi}_{11} = 0.8$, $\\hat{\\phi}_{22} = -0.6$, $\\hat{\\phi}_{33} = 0.08$, and $\\hat{\\phi}_{44} = 0.0$.  Based on this information alone, what model would we tentatively specify for the series?"
   ]
  },
  {
   "cell_type": "markdown",
   "metadata": {},
   "source": [
    "**Solution**.  The guideline threshold is $2 / \\sqrt{n} = 2 / 11 \\approx 0.181$, and since $|\\hat{\\phi}_{jj}| > 0.181$ for $j \\leq 2$ and $|\\hat{\\phi}_{jj}| < 0.181$ for $j > 2$, an AR(2) model should be selected."
   ]
  },
  {
   "cell_type": "markdown",
   "metadata": {},
   "source": [
    "**Exercise 6.14**.  For a series of length 169, we find that $r_1 = 0.41$, $r_2 = 0.32$, $r_3 = 0.26$, $r_4 = 0.21$, and $r_5 = 0.16$.  What ARIMA model fits this pattern of observations?"
   ]
  },
  {
   "cell_type": "markdown",
   "metadata": {},
   "source": [
    "**Solution**.  Using $2 / \\sqrt{n} = 2 / 13 \\approx 0.154$ as a guideline, $|r_k| > 0.154$ for all measured lags, so no small MA model is suggested.  We do note that $r_k$ does seems to follow an exponential decay like $r_k = \\theta \\phi^k$, since\n",
    "\n",
    "$$ \\frac{r_2}{r_1} \\approx 0.78\n",
    "\\quad\n",
    "\\frac{r_3}{r_2} \\approx 0.81\n",
    "\\quad\n",
    "\\frac{r_4}{r_3} \\approx 0.80\n",
    "\\quad\n",
    "\\frac{r_5}{r_4} \\approx 0.76\n",
    "\\quad\n",
    "$$\n",
    "\n",
    "Therefore we'd consider fitting the series as ARMA(1, 1), with $\\theta = 0.5$ and $\\phi = 0.8$."
   ]
  },
  {
   "cell_type": "markdown",
   "metadata": {},
   "source": [
    "**Exercise 6.15**.  The sample ACF for a series and its first difference are given in the following table.  Here $n = 100$.\n",
    "\n",
    "$$\n",
    "\\begin{array}{crrrrrr}\n",
    "\\text{lag} & 1 & 2 & 3 & 4 & 5 & 6 \\\\\n",
    "\\text{ACF for } Y_t        & 0.97  & 0.97 & 0.93  & 0.85 &  0.80 & 0.71 \\\\\n",
    "\\text{ACF for } \\nabla Y_t & -0.42 & 0.18 & -0.02 & 0.07 & -0.10 & -0.09\n",
    "\\end{array}\n",
    "$$\n",
    "\n",
    "Based on this information alone, which ARIMA model(s) would we consider for the series?"
   ]
  },
  {
   "cell_type": "markdown",
   "metadata": {},
   "source": [
    "**Solution**.  The guideline threshold for MA model selection would be $2 / \\sqrt{n} = 2 / 10 = 0.2$; all lags for $Y_t$ presented are over that threshold, but only the first lag for $\\nabla Y_t$ is over that threshold (in absolute value).  Therefore we'd consider a IMA(1, 1) model for this series.  In particular, $\\text{Var}[r_2] \\approx (100)^{-1}(1 + 2(-0.42)^2) = 0.013528$ and so $r_2 / \\sqrt{\\text{Var}[r_2]} \\approx 1.55$, not rejecting MA(1) for the $\\{ \\nabla Y_t\\}$ series."
   ]
  },
  {
   "cell_type": "markdown",
   "metadata": {},
   "source": [
    "**Exercise 6.16**.  For a series of length 64, the sample partial autocorrelations are given as:\n",
    "\n",
    "$$\n",
    "\\begin{array}{crrrrr}\n",
    "\\text{lag}  & 1 & 2 & 3 & 4 & 5 \\\\\n",
    "\\text{PACF} & 0.47 & -0.34 & 0.20 & 0.02 & -0.06\n",
    "\\end{array}\n",
    "$$\n",
    "\n",
    "Which models would you consider in this case?"
   ]
  },
  {
   "cell_type": "markdown",
   "metadata": {},
   "source": [
    "**Solution**.  Using $2 / \\sqrt{n} = 2/8 = 0.25$ as a guideline threshold, the first two lags are over the threshold, and the remaining lags are not, suggesting an AR(2) model."
   ]
  }
 ],
 "metadata": {
  "kernelspec": {
   "display_name": "Python 3",
   "language": "python",
   "name": "python3"
  },
  "language_info": {
   "codemirror_mode": {
    "name": "ipython",
    "version": 3
   },
   "file_extension": ".py",
   "mimetype": "text/x-python",
   "name": "python",
   "nbconvert_exporter": "python",
   "pygments_lexer": "ipython3",
   "version": "3.7.3"
  }
 },
 "nbformat": 4,
 "nbformat_minor": 2
}
