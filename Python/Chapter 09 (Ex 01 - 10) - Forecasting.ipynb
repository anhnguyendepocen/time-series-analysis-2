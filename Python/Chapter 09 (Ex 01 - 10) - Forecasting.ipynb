{
 "cells": [
  {
   "cell_type": "markdown",
   "metadata": {},
   "source": [
    "## 9. Forecasting"
   ]
  },
  {
   "cell_type": "markdown",
   "metadata": {},
   "source": [
    "**Exercise 9.1**. For an AR(1) model with $Y_t = 12.2$, $\\phi = −0.5$, and $\\mu = 10.8$,\n",
    "\n",
    "**(a)** Find $\\hat{Y}_t(1)$.\n",
    "\n",
    "**(b)** Calculate $\\hat{Y}_t(2)$ in two different ways.\n",
    "\n",
    "**(c)** Calculate $\\hat{Y}_t(10)$."
   ]
  },
  {
   "cell_type": "markdown",
   "metadata": {},
   "source": [
    "**Solution**."
   ]
  },
  {
   "cell_type": "markdown",
   "metadata": {},
   "source": [
    "**(a)**  $$\\hat{Y}_t(1) = \\mu + \\phi (Y_t - \\mu) = 10.09 $$"
   ]
  },
  {
   "cell_type": "markdown",
   "metadata": {},
   "source": [
    "**(b)**  Calculating the estimate from the previous estimate,\n",
    "\n",
    "$$ \\hat{Y}_t(2) = \\mu + \\phi (\\hat{Y}_t(1) - \\mu) = 11.155 $$\n",
    "\n",
    "Alternatively, calculating it directly,\n",
    "\n",
    "$$ \\hat{Y}_t(2) = \\mu + \\phi^2 (Y_t - \\mu) = 11.155 $$"
   ]
  },
  {
   "cell_type": "markdown",
   "metadata": {},
   "source": [
    "**(c)**  Calculating it directly,\n",
    "\n",
    "$$ \\hat{Y}_t(10) = \\mu + \\phi^{10} (Y_t - \\mu) \\approx 10.801367 \\approx \\mu $$"
   ]
  },
  {
   "cell_type": "markdown",
   "metadata": {},
   "source": [
    "**Exercise 9.2**.  Suppose that annual sales (in millions of dollars) of the Acme Corporation follow the AR(2) model $Y_t = 5  + 1.1 Y_{t-1} - 0.5 Y_{t-2} + e_t$ with $\\sigma_e^2 = 2$.\n",
    "\n",
    "**(a)** If sales for 2005, 2006, and 2007 were \\\\$9 million, \\\\$11 million, and \\\\$10 million, respectively, forecast sales for 2008 and 2009.\n",
    "\n",
    "**(b)** Show that $\\psi_1 = 1.1$ for this model.\n",
    "\n",
    "**(c)** Calculate 95% prediction limits for your forecast in part (a) for 2008.\n",
    "\n",
    "**(d)** If sales in 2008 turn out to be \\\\$12 million, update your forecast for 2009."
   ]
  },
  {
   "cell_type": "markdown",
   "metadata": {},
   "source": [
    "**Solution**."
   ]
  },
  {
   "cell_type": "markdown",
   "metadata": {},
   "source": [
    "**(a)**  Forecasts are:\n",
    "\n",
    "$$ \\hat{Y}_{2008} = 5 + 1.1 Y_{2007} - 0.5 Y_{2006} = 10.5 $$\n",
    "\n",
    "and\n",
    "\n",
    "$$ \\hat{Y}_{2009} = 5 + 1.1 \\hat{Y}_{2008} - 0.5 Y_{2007} = 11.55 $$"
   ]
  },
  {
   "cell_type": "markdown",
   "metadata": {},
   "source": [
    "**(b)**  From Equation (4.3.21) for the AR(2) model, $\\psi_1 - \\phi_1 \\psi_0 = 0$ and $\\psi_0 = 1$.  For this model, $\\phi_1 = 1.1$, so $\\psi_1 = 1.1$."
   ]
  },
  {
   "cell_type": "markdown",
   "metadata": {},
   "source": [
    "**(c)**   We have:\n",
    "\n",
    "$$ \\text{Var}[e_t(\\ell)] = \\sigma_e^2 \\sum_{j=0}^{\\ell-1} \\psi_j^2 $$\n",
    "\n",
    "so, in particular, $\\text{Var}[e_t(1)] = \\sigma_e^2 = 2$ for the one-lag prediction of 2008.  The prediction bounds are $\\pm z_{\\alpha / 2} \\sigma_e = \\pm \\Phi(0.975) \\sqrt{2} \\approx 2.7718$, so a 95% confidence interval would be \n",
    "\n",
    "$$ (\\hat{Y}_{2008} - z_{\\alpha / 2} \\sigma_e, \\hat{Y}_{2008} - z_{\\alpha / 2} \\sigma_e ) \\approx (7.7282, 13.2718) $$"
   ]
  },
  {
   "cell_type": "markdown",
   "metadata": {},
   "source": [
    "**(d)**  We can update the forecast according to Equation (9.6.1),\n",
    "\n",
    "$$ \\hat{Y}_{t+1}(\\ell) = \\hat{Y}_{t}(\\ell + 1) + \\psi_\\ell [Y_{t+1} - \\hat{Y}_t(1)] $$\n",
    "\n",
    "In our case,\n",
    "\n",
    "$$ \\hat{Y}_{2008}(1) = \\hat{Y}_{2007}(2) + \\psi_1 [Y_{2008} - \\hat{Y}_{2007}(1)] = 11.55 + 1.1 \\cdot [12 - 10.5] = 13.2 $$"
   ]
  },
  {
   "cell_type": "markdown",
   "metadata": {},
   "source": [
    "**Exercise 9.3**.  Using the estimated cosine trend on page 192:\n",
    "\n",
    "**(a)** Forecast the average monthly temperature in Dubuque, Iowa, for April 1976.\n",
    "\n",
    "**(b)** Find a 95% prediction interval for that April forecast. (The estimate of $\\sqrt{\\gamma_0}$ for this model is 3.719°F.)\n",
    "\n",
    "**(c)** What is the forecast for April, 1977? For April 2009?"
   ]
  },
  {
   "cell_type": "markdown",
   "metadata": {},
   "source": [
    "**Solution**.  The cosine trend is given as\n",
    "\n",
    "$$ \\hat{\\mu}_t = 46.2660 + (-26.7079) \\cos (2 \\pi t) + (-2.1697) \\sin (2 \\pi t) $$\n",
    "\n",
    "where time $t$ is measured in years, with $t = 0$ for January 1964, frequency $f = 1$ per year, and the final observed value is for December 1975."
   ]
  },
  {
   "cell_type": "markdown",
   "metadata": {},
   "source": [
    "**(a)**  There are 12 years and 3 months from Jan 1964 until Apr 1976; so we can use $t = 12 + 3/12$."
   ]
  },
  {
   "cell_type": "code",
   "execution_count": 1,
   "metadata": {},
   "outputs": [
    {
     "name": "stdout",
     "output_type": "stream",
     "text": [
      "44.1°F or 6.7°C\n"
     ]
    }
   ],
   "source": [
    "import numpy as np\n",
    "\n",
    "def mu_t(t):\n",
    "    return 46.2660 + (-26.7079) * np.cos(2 * np.pi * t) + (-2.1697) * np.sin(2 * np.pi * t)\n",
    "\n",
    "def farenheit_to_celsius(t_f):\n",
    "    return (t_f - 32) * 5 / 9\n",
    "\n",
    "def temperature_to_string(t_f):\n",
    "    return str(round(t_f, 1)) + '°F or ' + str(round(farenheit_to_celsius(t_f), 1)) + '°C'\n",
    "\n",
    "t = 12 + 3/12\n",
    "estimate = mu_t(t)\n",
    "print(temperature_to_string(estimate))"
   ]
  },
  {
   "cell_type": "markdown",
   "metadata": {},
   "source": [
    "The forecast is 44.1°F or 6.7°C."
   ]
  },
  {
   "cell_type": "markdown",
   "metadata": {},
   "source": [
    "**(b)**  The 95% prediction limits are $\\hat{\\mu}_t \\pm z_{\\alpha/2} \\sqrt{\\gamma_0} $"
   ]
  },
  {
   "cell_type": "code",
   "execution_count": 2,
   "metadata": {},
   "outputs": [
    {
     "name": "stdout",
     "output_type": "stream",
     "text": [
      "Lower estimate: 36.8°F or 2.7°C\n",
      "Upper estimate: 51.4°F or 10.8°C\n"
     ]
    }
   ],
   "source": [
    "from scipy.stats import norm\n",
    "\n",
    "z = norm.ppf(0.975)\n",
    "se = 3.719\n",
    "\n",
    "estimate = mu_t(t)\n",
    "lower_estimate = estimate - z * se\n",
    "upper_estimate = estimate + z * se\n",
    "\n",
    "print('Lower estimate: ' + temperature_to_string(lower_estimate))\n",
    "print('Upper estimate: ' + temperature_to_string(upper_estimate))"
   ]
  },
  {
   "cell_type": "markdown",
   "metadata": {},
   "source": [
    "The 95\\% confidence interval is from 36.8°F to 51.4°F, or 2.7°C to 10.8°C."
   ]
  },
  {
   "cell_type": "markdown",
   "metadata": {},
   "source": [
    "**(c)**  All forecasts for April are the same, 44.1°F or 6.7°C."
   ]
  },
  {
   "cell_type": "markdown",
   "metadata": {},
   "source": [
    "**Exercise 9.4**.  Using the estimated cosine trend on page 192:\n",
    "\n",
    "**(a)** Forecast the average monthly temperature in Dubuque, Iowa, for May 1976.\n",
    "\n",
    "**(b)** Find a 95% prediction interval for that May 1976 forecast. (The estimate of for this model is 3.719°F.)"
   ]
  },
  {
   "cell_type": "markdown",
   "metadata": {},
   "source": [
    "**Solution**."
   ]
  },
  {
   "cell_type": "markdown",
   "metadata": {},
   "source": [
    "**(a)**"
   ]
  },
  {
   "cell_type": "code",
   "execution_count": 3,
   "metadata": {},
   "outputs": [
    {
     "name": "stdout",
     "output_type": "stream",
     "text": [
      "57.7°F or 14.3°C\n"
     ]
    }
   ],
   "source": [
    "t = 12 + 4/12\n",
    "estimate = mu_t(t)\n",
    "print(temperature_to_string(estimate))"
   ]
  },
  {
   "cell_type": "markdown",
   "metadata": {},
   "source": [
    "The forecast temperature is 57.7°F or 14.3°C."
   ]
  },
  {
   "cell_type": "markdown",
   "metadata": {},
   "source": [
    "**(b)**"
   ]
  },
  {
   "cell_type": "code",
   "execution_count": 4,
   "metadata": {},
   "outputs": [
    {
     "name": "stdout",
     "output_type": "stream",
     "text": [
      "Lower estimate: 50.5°F or 10.3°C\n",
      "Upper estimate: 65.0°F or 18.4°C\n"
     ]
    }
   ],
   "source": [
    "z = norm.ppf(0.975)\n",
    "se = 3.719\n",
    "\n",
    "estimate = mu_t(t)\n",
    "lower_estimate = estimate - z * se\n",
    "upper_estimate = estimate + z * se\n",
    "\n",
    "print('Lower estimate: ' + temperature_to_string(lower_estimate))\n",
    "print('Upper estimate: ' + temperature_to_string(upper_estimate))"
   ]
  },
  {
   "cell_type": "markdown",
   "metadata": {},
   "source": [
    "The 95\\% confidence interval is from 50.5°F to 65.5°F, or 10.3°C to 18.4°C."
   ]
  },
  {
   "cell_type": "markdown",
   "metadata": {},
   "source": [
    "**Exercise 9.5**.  Using the seasonal means model without an intercept shown in Exhibit 3.3 on page 32:\n",
    "\n",
    "**(a)** Forecast the average monthly temperature in Dubuque, Iowa, for April, 1976.\n",
    "\n",
    "**(b)** Find a 95% prediction interval for that April forecast. (The estimate of $\\sqrt{\\gamma_0}$ for this model is 3.419°F.)\n",
    "\n",
    "**(c)** Compare your forecast with the one obtained in Exercise 9.3.\n",
    "\n",
    "**(d)** What is the forecast for April 1977? April 2009?"
   ]
  },
  {
   "cell_type": "markdown",
   "metadata": {},
   "source": [
    "**Solution**.  The model is:\n",
    "\n",
    "$$\n",
    "\\begin{array}{lcccc}\n",
    " & \\text{Estimate} & \\text{Std. Error} & t\\text{-value} & \\text{Pr}[>|t|] \\\\\n",
    "\\hline\n",
    "\\text{January}   & 16.608 & 0.987 & 16.8 & < 0.0001 \\\\\n",
    "\\text{February}  & 20.650 & 0.987 & 20.9 & < 0.0001 \\\\\n",
    "\\text{March}     & 32.475 & 0.987 & 32.9 & < 0.0001 \\\\\n",
    "\\text{April}     & 46.525 & 0.987 & 47.1 & < 0.0001 \\\\\n",
    "\\text{May}       & 58.092 & 0.987 & 58.9 & < 0.0001 \\\\\n",
    "\\text{June}      & 67.500 & 0.987 & 68.4 & < 0.0001 \\\\\n",
    "\\text{July}      & 71.717 & 0.987 & 72.7 & < 0.0001 \\\\\n",
    "\\text{August}    & 69.333 & 0.987 & 70.2 & < 0.0001 \\\\\n",
    "\\text{September} & 61.025 & 0.987 & 61.8 & < 0.0001 \\\\\n",
    "\\text{October}   & 50.975 & 0.987 & 51.6 & < 0.0001 \\\\\n",
    "\\text{November}  & 36.650 & 0.987 & 37.1 & < 0.0001 \\\\\n",
    "\\text{December}  & 23.642 & 0.987 & 24.0 & < 0.0001\n",
    "\\end{array}\n",
    "$$"
   ]
  },
  {
   "cell_type": "markdown",
   "metadata": {},
   "source": [
    "**(a)**"
   ]
  },
  {
   "cell_type": "code",
   "execution_count": 5,
   "metadata": {},
   "outputs": [
    {
     "data": {
      "text/plain": [
       "'46.5°F or 8.1°C'"
      ]
     },
     "execution_count": 5,
     "metadata": {},
     "output_type": "execute_result"
    }
   ],
   "source": [
    "temperature_to_string(46.525)"
   ]
  },
  {
   "cell_type": "markdown",
   "metadata": {},
   "source": [
    "The estimate for April is just the coefficient for April, 46.5°F or 8.1°C."
   ]
  },
  {
   "cell_type": "markdown",
   "metadata": {},
   "source": [
    "**(b)**"
   ]
  },
  {
   "cell_type": "code",
   "execution_count": 6,
   "metadata": {},
   "outputs": [
    {
     "name": "stdout",
     "output_type": "stream",
     "text": [
      "Lower estimate: 39.8°F or 4.3°C\n",
      "Upper estimate: 53.2°F or 11.8°C\n"
     ]
    }
   ],
   "source": [
    "z = norm.ppf(0.975)\n",
    "se = 3.419\n",
    "\n",
    "estimate = 46.525\n",
    "lower_estimate = estimate - z * se\n",
    "upper_estimate = estimate + z * se\n",
    "\n",
    "print('Lower estimate: ' + temperature_to_string(lower_estimate))\n",
    "print('Upper estimate: ' + temperature_to_string(upper_estimate))"
   ]
  },
  {
   "cell_type": "markdown",
   "metadata": {},
   "source": [
    "The 95\\% prediction interval for the April forecast is 39.8°F to 53.2°F, or 4.3°C to 11.8°C."
   ]
  },
  {
   "cell_type": "markdown",
   "metadata": {},
   "source": [
    "**(c)**  This model predicts a slightly higher temperature, with a slightly smaller prediction interval."
   ]
  },
  {
   "cell_type": "markdown",
   "metadata": {},
   "source": [
    "**(d)** Forecast for all April months are the same: 46.5°F or 8.1°C."
   ]
  },
  {
   "cell_type": "markdown",
   "metadata": {},
   "source": [
    "**Exercise 9.6**.  Using the seasonal means model with an intercept shown in Exhibit 3.4 on page 33:\n",
    "\n",
    "**(a)** Forecast the average monthly temperature in Dubuque, Iowa, for April 1976.\n",
    "\n",
    "**(b)** Find a 95% prediction interval for that April forecast. (The estimate of $\\sqrt{\\gamma_0}$ for this model is 3.419°F.)\n",
    "\n",
    "**(c)** Compare your forecast with the one obtained in Exercise 9.5."
   ]
  },
  {
   "cell_type": "markdown",
   "metadata": {},
   "source": [
    "**Solution**.  The model is:\n",
    "\n",
    "$$\n",
    "\\begin{array}{lcccc}\n",
    " & \\text{Estimate} & \\text{Std. Error} & t\\text{-value} & \\text{Pr}[>|t|] \\\\\n",
    "\\hline\n",
    "\\text{Intercept} & 16.608 & 0.987 & 16.83 & < 0.0001 \\\\\n",
    "\\text{February}  &  4.042 & 1.396 &  2.90 &  0.00443 \\\\\n",
    "\\text{March}     & 15.867 & 1.396 & 11.37 & < 0.0001 \\\\\n",
    "\\text{April}     & 29.917 & 1.396 & 21.43 & < 0.0001 \\\\\n",
    "\\text{May}       & 41.483 & 1.396 & 29.72 & < 0.0001 \\\\\n",
    "\\text{June}      & 50.892 & 1.396 & 36.46 & < 0.0001 \\\\\n",
    "\\text{July}      & 55.108 & 1.396 & 39.48 & < 0.0001 \\\\\n",
    "\\text{August}    & 52.725 & 1.396 & 37.78 & < 0.0001 \\\\\n",
    "\\text{September} & 44.417 & 1.396 & 31.82 & < 0.0001 \\\\\n",
    "\\text{October}   & 34.367 & 1.396 & 24.62 & < 0.0001 \\\\\n",
    "\\text{November}  & 20.042 & 1.396 & 14.36 & < 0.0001 \\\\\n",
    "\\text{December}  &  7.033 & 1.396 &  5.04 & < 0.0001\n",
    "\\end{array}\n",
    "$$"
   ]
  },
  {
   "cell_type": "markdown",
   "metadata": {},
   "source": [
    "**(a)**"
   ]
  },
  {
   "cell_type": "code",
   "execution_count": 7,
   "metadata": {},
   "outputs": [
    {
     "data": {
      "text/plain": [
       "'46.5°F or 8.1°C'"
      ]
     },
     "execution_count": 7,
     "metadata": {},
     "output_type": "execute_result"
    }
   ],
   "source": [
    "temperature_to_string(16.608 + 29.917)"
   ]
  },
  {
   "cell_type": "markdown",
   "metadata": {},
   "source": [
    "The estimate for April is 46.5°F or 8.1°C."
   ]
  },
  {
   "cell_type": "markdown",
   "metadata": {},
   "source": [
    "**(b)**"
   ]
  },
  {
   "cell_type": "code",
   "execution_count": 8,
   "metadata": {},
   "outputs": [
    {
     "name": "stdout",
     "output_type": "stream",
     "text": [
      "Lower estimate: 39.8°F or 4.3°C\n",
      "Upper estimate: 53.2°F or 11.8°C\n"
     ]
    }
   ],
   "source": [
    "z = norm.ppf(0.975)\n",
    "se = 3.419\n",
    "\n",
    "estimate = 16.608 + 29.917\n",
    "lower_estimate = estimate - z * se\n",
    "upper_estimate = estimate + z * se\n",
    "\n",
    "print('Lower estimate: ' + temperature_to_string(lower_estimate))\n",
    "print('Upper estimate: ' + temperature_to_string(upper_estimate))"
   ]
  },
  {
   "cell_type": "markdown",
   "metadata": {},
   "source": [
    "The 95% prediction interval for the April forecast is 39.8°F to 53.2°F, or 4.3°C to 11.8°C."
   ]
  },
  {
   "cell_type": "markdown",
   "metadata": {},
   "source": [
    "**(c)**  The forecasts between the two models are always identical."
   ]
  },
  {
   "cell_type": "markdown",
   "metadata": {},
   "source": [
    "**Exercise 9.7**.  Using the seasonal means model with an intercept shown in Exhibit 3.4 on page 33\n",
    "\n",
    "**(a)** Forecast the average monthly temperature in Dubuque, Iowa, for January 1976.\n",
    "\n",
    "**(b)** Find a 95% prediction interval for that January forecast. (The estimate of $\\sqrt{\\gamma_0}$ for this model is 3.419°F.)"
   ]
  },
  {
   "cell_type": "markdown",
   "metadata": {},
   "source": [
    "**Solution**."
   ]
  },
  {
   "cell_type": "markdown",
   "metadata": {},
   "source": [
    "**(a)**"
   ]
  },
  {
   "cell_type": "code",
   "execution_count": 9,
   "metadata": {},
   "outputs": [
    {
     "data": {
      "text/plain": [
       "'16.6°F or -8.6°C'"
      ]
     },
     "execution_count": 9,
     "metadata": {},
     "output_type": "execute_result"
    }
   ],
   "source": [
    "temperature_to_string(16.608)"
   ]
  },
  {
   "cell_type": "markdown",
   "metadata": {},
   "source": [
    "The estimate for January is 16.6°F or -8.6°C."
   ]
  },
  {
   "cell_type": "markdown",
   "metadata": {},
   "source": [
    "**(b)**"
   ]
  },
  {
   "cell_type": "code",
   "execution_count": 10,
   "metadata": {},
   "outputs": [
    {
     "name": "stdout",
     "output_type": "stream",
     "text": [
      "Lower estimate: 9.9°F or -12.3°C\n",
      "Upper estimate: 23.3°F or -4.8°C\n"
     ]
    }
   ],
   "source": [
    "z = norm.ppf(0.975)\n",
    "se = 3.419\n",
    "\n",
    "estimate = 16.608\n",
    "lower_estimate = estimate - z * se\n",
    "upper_estimate = estimate + z * se\n",
    "\n",
    "print('Lower estimate: ' + temperature_to_string(lower_estimate))\n",
    "print('Upper estimate: ' + temperature_to_string(upper_estimate))"
   ]
  },
  {
   "cell_type": "markdown",
   "metadata": {},
   "source": [
    "The 95% prediction interval for the January forecast is 9.9°F to 23.3°F, or -12.3°C to -4.8°C."
   ]
  },
  {
   "cell_type": "markdown",
   "metadata": {},
   "source": [
    "**Exercise 9.8**.  Consider the monthly electricity generation time series shown in Exhibit 5.8 on page 99. The data are in the file named `electricity`.\n",
    "\n",
    "**(a)** Fit a deterministic trend model containing seasonal means together with a linear time trend to the logarithms of the electricity values.\n",
    "\n",
    "**(b)** Plot the last five years of the series together with two years of forecasts and the 95% forecast limits. Interpret the plot."
   ]
  }
 ],
 "metadata": {
  "kernelspec": {
   "display_name": "Python 3",
   "language": "python",
   "name": "python3"
  },
  "language_info": {
   "codemirror_mode": {
    "name": "ipython",
    "version": 3
   },
   "file_extension": ".py",
   "mimetype": "text/x-python",
   "name": "python",
   "nbconvert_exporter": "python",
   "pygments_lexer": "ipython3",
   "version": "3.7.3"
  }
 },
 "nbformat": 4,
 "nbformat_minor": 2
}
