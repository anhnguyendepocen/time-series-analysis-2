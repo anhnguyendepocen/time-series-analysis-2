{
 "cells": [
  {
   "cell_type": "markdown",
   "metadata": {},
   "source": [
    "## 9. Forecasting"
   ]
  },
  {
   "cell_type": "markdown",
   "metadata": {},
   "source": [
    "**Exercise 9.1**. For an AR(1) model with $Y_t = 12.2$, $\\phi = −0.5$, and $\\mu = 10.8$,\n",
    "\n",
    "**(a)** Find $\\hat{Y}_t(1)$.\n",
    "\n",
    "**(b)** Calculate $\\hat{Y}_t(2)$ in two different ways.\n",
    "\n",
    "**(c)** Calculate $\\hat{Y}_t(10)$."
   ]
  },
  {
   "cell_type": "markdown",
   "metadata": {},
   "source": [
    "**Solution**."
   ]
  },
  {
   "cell_type": "markdown",
   "metadata": {},
   "source": [
    "**(a)**  $$\\hat{Y}_t(1) = \\mu + \\phi (Y_t - \\mu) = 10.09 $$"
   ]
  },
  {
   "cell_type": "markdown",
   "metadata": {},
   "source": [
    "**(b)**  Calculating the estimate from the previous estimate,\n",
    "\n",
    "$$ \\hat{Y}_t(2) = \\mu + \\phi (\\hat{Y}_t(1) - \\mu) = 11.155 $$\n",
    "\n",
    "Alternatively, calculating it directly,\n",
    "\n",
    "$$ \\hat{Y}_t(2) = \\mu + \\phi^2 (Y_t - \\mu) = 11.155 $$"
   ]
  },
  {
   "cell_type": "markdown",
   "metadata": {},
   "source": [
    "**(c)**  Calculating it directly,\n",
    "\n",
    "$$ \\hat{Y}_t(10) = \\mu + \\phi^{10} (Y_t - \\mu) \\approx 10.801367 \\approx \\mu $$"
   ]
  },
  {
   "cell_type": "markdown",
   "metadata": {},
   "source": [
    "**Exercise 9.2**.  Suppose that annual sales (in millions of dollars) of the Acme Corporation follow the AR(2) model $Y_t = 5  + 1.1 Y_{t-1} - 0.5 Y_{t-2} + e_t$ with $\\sigma_e^2 = 2$.\n",
    "\n",
    "**(a)** If sales for 2005, 2006, and 2007 were \\\\$9 million, \\\\$11 million, and \\\\$10 million, respectively, forecast sales for 2008 and 2009.\n",
    "\n",
    "**(b)** Show that $\\psi_1 = 1.1$ for this model.\n",
    "\n",
    "**(c)** Calculate 95% prediction limits for your forecast in part (a) for 2008.\n",
    "\n",
    "**(d)** If sales in 2008 turn out to be \\\\$12 million, update your forecast for 2009."
   ]
  },
  {
   "cell_type": "markdown",
   "metadata": {},
   "source": [
    "**Solution**."
   ]
  },
  {
   "cell_type": "markdown",
   "metadata": {},
   "source": [
    "**(a)**  Forecasts are:\n",
    "\n",
    "$$ \\hat{Y}_{2008} = 5 + 1.1 Y_{2007} - 0.5 Y_{2006} = 10.5 $$\n",
    "\n",
    "and\n",
    "\n",
    "$$ \\hat{Y}_{2009} = 5 + 1.1 \\hat{Y}_{2008} - 0.5 Y_{2007} = 11.55 $$"
   ]
  },
  {
   "cell_type": "markdown",
   "metadata": {},
   "source": [
    "**(b)**  From Equation (4.3.21) for the AR(2) model, $\\psi_1 - \\phi_1 \\psi_0 = 0$ and $\\psi_0 = 1$.  For this model, $\\phi_1 = 1.1$, so $\\psi_1 = 1.1$."
   ]
  },
  {
   "cell_type": "markdown",
   "metadata": {},
   "source": [
    "**(c)**   We have:\n",
    "\n",
    "$$ \\text{Var}[e_t(\\ell)] = \\sigma_e^2 \\sum_{j=0}^{\\ell-1} \\psi_j^2 $$\n",
    "\n",
    "so, in particular, $\\text{Var}[e_t(1)] = \\sigma_e^2 = 2$ for the one-lag prediction of 2008.  The prediction bounds are $\\pm z_{\\alpha / 2} \\sigma_e = \\pm \\Phi(0.975) \\sqrt{2} \\approx 2.7718$, so a 95% confidence interval would be \n",
    "\n",
    "$$ (\\hat{Y}_{2008} - z_{\\alpha / 2} \\sigma_e, \\hat{Y}_{2008} - z_{\\alpha / 2} \\sigma_e ) \\approx (7.7282, 13.2718) $$"
   ]
  },
  {
   "cell_type": "markdown",
   "metadata": {},
   "source": [
    "**(d)**  We can update the forecast according to Equation (9.6.1),\n",
    "\n",
    "$$ \\hat{Y}_{t+1}(\\ell) = \\hat{Y}_{t}(\\ell + 1) + \\psi_\\ell [Y_{t+1} - \\hat{Y}_t(1)] $$\n",
    "\n",
    "In our case,\n",
    "\n",
    "$$ \\hat{Y}_{2008}(1) = \\hat{Y}_{2007}(2) + \\psi_1 [Y_{2008} - \\hat{Y}_{2007}(1)] = 11.55 + 1.1 \\cdot [12 - 10.5] = 13.2 $$"
   ]
  },
  {
   "cell_type": "markdown",
   "metadata": {},
   "source": [
    "**Exercise 9.3**.  Using the estimated cosine trend on page 192:\n",
    "\n",
    "**(a)** Forecast the average monthly temperature in Dubuque, Iowa, for April 1976.\n",
    "\n",
    "**(b)** Find a 95% prediction interval for that April forecast. (The estimate of $\\sqrt{\\gamma_0}$ for this model is 3.719°F.)\n",
    "\n",
    "**(c)** What is the forecast for April, 1977? For April 2009?"
   ]
  },
  {
   "cell_type": "markdown",
   "metadata": {},
   "source": [
    "**Solution**.  The cosine trend is given as\n",
    "\n",
    "$$ \\hat{\\mu}_t = 46.2660 + (-26.7079) \\cos (2 \\pi t) + (-2.1697) \\sin (2 \\pi t) $$\n",
    "\n",
    "where time $t$ is measured in years, with $t = 0$ for January 1964, frequency $f = 1$ per year, and the final observed value is for December 1975."
   ]
  },
  {
   "cell_type": "markdown",
   "metadata": {},
   "source": [
    "**(a)**  There are 12 years and 3 months from Jan 1964 until Apr 1976; so we can use $t = 12 + 3/12$."
   ]
  },
  {
   "cell_type": "code",
   "execution_count": 1,
   "metadata": {},
   "outputs": [
    {
     "name": "stdout",
     "output_type": "stream",
     "text": [
      "44.1°F or 6.7°C\n"
     ]
    }
   ],
   "source": [
    "import numpy as np\n",
    "\n",
    "def mu_t(t):\n",
    "    return 46.2660 + (-26.7079) * np.cos(2 * np.pi * t) + (-2.1697) * np.sin(2 * np.pi * t)\n",
    "\n",
    "def farenheit_to_celsius(t_f):\n",
    "    return (t_f - 32) * 5 / 9\n",
    "\n",
    "def temperature_to_string(t_f):\n",
    "    return str(round(t_f, 1)) + '°F or ' + str(round(farenheit_to_celsius(t_f), 1)) + '°C'\n",
    "\n",
    "t = 12 + 3/12\n",
    "estimate = mu_t(t)\n",
    "print(temperature_to_string(estimate))"
   ]
  },
  {
   "cell_type": "markdown",
   "metadata": {},
   "source": [
    "The forecast is 44.1°F or 6.7°C."
   ]
  },
  {
   "cell_type": "markdown",
   "metadata": {},
   "source": [
    "**(b)**  The 95% prediction limits are $\\hat{\\mu}_t \\pm z_{\\alpha/2} \\sqrt{\\gamma_0} $"
   ]
  },
  {
   "cell_type": "code",
   "execution_count": 2,
   "metadata": {},
   "outputs": [
    {
     "name": "stdout",
     "output_type": "stream",
     "text": [
      "Lower estimate: 36.8°F or 2.7°C\n",
      "Upper estimate: 51.4°F or 10.8°C\n"
     ]
    }
   ],
   "source": [
    "from scipy.stats import norm\n",
    "\n",
    "z = norm.ppf(0.975)\n",
    "se = 3.719\n",
    "\n",
    "estimate = mu_t(t)\n",
    "lower_estimate = estimate - z * se\n",
    "upper_estimate = estimate + z * se\n",
    "\n",
    "print('Lower estimate: ' + temperature_to_string(lower_estimate))\n",
    "print('Upper estimate: ' + temperature_to_string(upper_estimate))"
   ]
  },
  {
   "cell_type": "markdown",
   "metadata": {},
   "source": [
    "The 95\\% confidence interval is from 36.8°F to 51.4°F, or 2.7°C to 10.8°C."
   ]
  },
  {
   "cell_type": "markdown",
   "metadata": {},
   "source": [
    "**(c)**  All forecasts for April are the same, 44.1°F or 6.7°C."
   ]
  },
  {
   "cell_type": "markdown",
   "metadata": {},
   "source": [
    "**Exercise 9.4**.  Using the estimated cosine trend on page 192:\n",
    "\n",
    "**(a)** Forecast the average monthly temperature in Dubuque, Iowa, for May 1976.\n",
    "\n",
    "**(b)** Find a 95% prediction interval for that May 1976 forecast. (The estimate of for this model is 3.719°F.)"
   ]
  },
  {
   "cell_type": "markdown",
   "metadata": {},
   "source": [
    "**Solution**."
   ]
  },
  {
   "cell_type": "markdown",
   "metadata": {},
   "source": [
    "**(a)**"
   ]
  },
  {
   "cell_type": "code",
   "execution_count": 3,
   "metadata": {},
   "outputs": [
    {
     "name": "stdout",
     "output_type": "stream",
     "text": [
      "57.7°F or 14.3°C\n"
     ]
    }
   ],
   "source": [
    "t = 12 + 4/12\n",
    "estimate = mu_t(t)\n",
    "print(temperature_to_string(estimate))"
   ]
  },
  {
   "cell_type": "markdown",
   "metadata": {},
   "source": [
    "The forecast temperature is 57.7°F or 14.3°C."
   ]
  },
  {
   "cell_type": "markdown",
   "metadata": {},
   "source": [
    "**(b)**"
   ]
  },
  {
   "cell_type": "code",
   "execution_count": 4,
   "metadata": {},
   "outputs": [
    {
     "name": "stdout",
     "output_type": "stream",
     "text": [
      "Lower estimate: 50.5°F or 10.3°C\n",
      "Upper estimate: 65.0°F or 18.4°C\n"
     ]
    }
   ],
   "source": [
    "z = norm.ppf(0.975)\n",
    "se = 3.719\n",
    "\n",
    "estimate = mu_t(t)\n",
    "lower_estimate = estimate - z * se\n",
    "upper_estimate = estimate + z * se\n",
    "\n",
    "print('Lower estimate: ' + temperature_to_string(lower_estimate))\n",
    "print('Upper estimate: ' + temperature_to_string(upper_estimate))"
   ]
  },
  {
   "cell_type": "markdown",
   "metadata": {},
   "source": [
    "The 95\\% confidence interval is from 50.5°F to 65.5°F, or 10.3°C to 18.4°C."
   ]
  },
  {
   "cell_type": "markdown",
   "metadata": {},
   "source": [
    "**Exercise 9.5**.  Using the seasonal means model without an intercept shown in Exhibit 3.3 on page 32:\n",
    "\n",
    "**(a)** Forecast the average monthly temperature in Dubuque, Iowa, for April, 1976.\n",
    "\n",
    "**(b)** Find a 95% prediction interval for that April forecast. (The estimate of $\\sqrt{\\gamma_0}$ for this model is 3.419°F.)\n",
    "\n",
    "**(c)** Compare your forecast with the one obtained in Exercise 9.3.\n",
    "\n",
    "**(d)** What is the forecast for April 1977? April 2009?"
   ]
  },
  {
   "cell_type": "markdown",
   "metadata": {},
   "source": [
    "**Solution**.  The model is:\n",
    "\n",
    "$$\n",
    "\\begin{array}{lcccc}\n",
    " & \\text{Estimate} & \\text{Std. Error} & t\\text{-value} & \\text{Pr}[>|t|] \\\\\n",
    "\\hline\n",
    "\\text{January}   & 16.608 & 0.987 & 16.8 & < 0.0001 \\\\\n",
    "\\text{February}  & 20.650 & 0.987 & 20.9 & < 0.0001 \\\\\n",
    "\\text{March}     & 32.475 & 0.987 & 32.9 & < 0.0001 \\\\\n",
    "\\text{April}     & 46.525 & 0.987 & 47.1 & < 0.0001 \\\\\n",
    "\\text{May}       & 58.092 & 0.987 & 58.9 & < 0.0001 \\\\\n",
    "\\text{June}      & 67.500 & 0.987 & 68.4 & < 0.0001 \\\\\n",
    "\\text{July}      & 71.717 & 0.987 & 72.7 & < 0.0001 \\\\\n",
    "\\text{August}    & 69.333 & 0.987 & 70.2 & < 0.0001 \\\\\n",
    "\\text{September} & 61.025 & 0.987 & 61.8 & < 0.0001 \\\\\n",
    "\\text{October}   & 50.975 & 0.987 & 51.6 & < 0.0001 \\\\\n",
    "\\text{November}  & 36.650 & 0.987 & 37.1 & < 0.0001 \\\\\n",
    "\\text{December}  & 23.642 & 0.987 & 24.0 & < 0.0001\n",
    "\\end{array}\n",
    "$$"
   ]
  },
  {
   "cell_type": "markdown",
   "metadata": {},
   "source": [
    "**(a)**"
   ]
  },
  {
   "cell_type": "code",
   "execution_count": 5,
   "metadata": {},
   "outputs": [
    {
     "data": {
      "text/plain": [
       "'46.5°F or 8.1°C'"
      ]
     },
     "execution_count": 5,
     "metadata": {},
     "output_type": "execute_result"
    }
   ],
   "source": [
    "temperature_to_string(46.525)"
   ]
  },
  {
   "cell_type": "markdown",
   "metadata": {},
   "source": [
    "The estimate for April is just the coefficient for April, 46.5°F or 8.1°C."
   ]
  },
  {
   "cell_type": "markdown",
   "metadata": {},
   "source": [
    "**(b)**"
   ]
  },
  {
   "cell_type": "code",
   "execution_count": 6,
   "metadata": {},
   "outputs": [
    {
     "name": "stdout",
     "output_type": "stream",
     "text": [
      "Lower estimate: 39.8°F or 4.3°C\n",
      "Upper estimate: 53.2°F or 11.8°C\n"
     ]
    }
   ],
   "source": [
    "z = norm.ppf(0.975)\n",
    "se = 3.419\n",
    "\n",
    "estimate = 46.525\n",
    "lower_estimate = estimate - z * se\n",
    "upper_estimate = estimate + z * se\n",
    "\n",
    "print('Lower estimate: ' + temperature_to_string(lower_estimate))\n",
    "print('Upper estimate: ' + temperature_to_string(upper_estimate))"
   ]
  },
  {
   "cell_type": "markdown",
   "metadata": {},
   "source": [
    "The 95\\% prediction interval for the April forecast is 39.8°F to 53.2°F, or 4.3°C to 11.8°C."
   ]
  },
  {
   "cell_type": "markdown",
   "metadata": {},
   "source": [
    "**(c)**  This model predicts a slightly higher temperature, with a slightly smaller prediction interval."
   ]
  },
  {
   "cell_type": "markdown",
   "metadata": {},
   "source": [
    "**(d)** Forecast for all April months are the same: 46.5°F or 8.1°C."
   ]
  },
  {
   "cell_type": "markdown",
   "metadata": {},
   "source": [
    "**Exercise 9.6**.  Using the seasonal means model with an intercept shown in Exhibit 3.4 on page 33:\n",
    "\n",
    "**(a)** Forecast the average monthly temperature in Dubuque, Iowa, for April 1976.\n",
    "\n",
    "**(b)** Find a 95% prediction interval for that April forecast. (The estimate of $\\sqrt{\\gamma_0}$ for this model is 3.419°F.)\n",
    "\n",
    "**(c)** Compare your forecast with the one obtained in Exercise 9.5."
   ]
  },
  {
   "cell_type": "markdown",
   "metadata": {},
   "source": [
    "**Solution**.  The model is:\n",
    "\n",
    "$$\n",
    "\\begin{array}{lcccc}\n",
    " & \\text{Estimate} & \\text{Std. Error} & t\\text{-value} & \\text{Pr}[>|t|] \\\\\n",
    "\\hline\n",
    "\\text{Intercept} & 16.608 & 0.987 & 16.83 & < 0.0001 \\\\\n",
    "\\text{February}  &  4.042 & 1.396 &  2.90 &  0.00443 \\\\\n",
    "\\text{March}     & 15.867 & 1.396 & 11.37 & < 0.0001 \\\\\n",
    "\\text{April}     & 29.917 & 1.396 & 21.43 & < 0.0001 \\\\\n",
    "\\text{May}       & 41.483 & 1.396 & 29.72 & < 0.0001 \\\\\n",
    "\\text{June}      & 50.892 & 1.396 & 36.46 & < 0.0001 \\\\\n",
    "\\text{July}      & 55.108 & 1.396 & 39.48 & < 0.0001 \\\\\n",
    "\\text{August}    & 52.725 & 1.396 & 37.78 & < 0.0001 \\\\\n",
    "\\text{September} & 44.417 & 1.396 & 31.82 & < 0.0001 \\\\\n",
    "\\text{October}   & 34.367 & 1.396 & 24.62 & < 0.0001 \\\\\n",
    "\\text{November}  & 20.042 & 1.396 & 14.36 & < 0.0001 \\\\\n",
    "\\text{December}  &  7.033 & 1.396 &  5.04 & < 0.0001\n",
    "\\end{array}\n",
    "$$"
   ]
  },
  {
   "cell_type": "markdown",
   "metadata": {},
   "source": [
    "**(a)**"
   ]
  },
  {
   "cell_type": "code",
   "execution_count": 7,
   "metadata": {},
   "outputs": [
    {
     "data": {
      "text/plain": [
       "'46.5°F or 8.1°C'"
      ]
     },
     "execution_count": 7,
     "metadata": {},
     "output_type": "execute_result"
    }
   ],
   "source": [
    "temperature_to_string(16.608 + 29.917)"
   ]
  },
  {
   "cell_type": "markdown",
   "metadata": {},
   "source": [
    "The estimate for April is 46.5°F or 8.1°C."
   ]
  },
  {
   "cell_type": "markdown",
   "metadata": {},
   "source": [
    "**(b)**"
   ]
  },
  {
   "cell_type": "code",
   "execution_count": 8,
   "metadata": {},
   "outputs": [
    {
     "name": "stdout",
     "output_type": "stream",
     "text": [
      "Lower estimate: 39.8°F or 4.3°C\n",
      "Upper estimate: 53.2°F or 11.8°C\n"
     ]
    }
   ],
   "source": [
    "z = norm.ppf(0.975)\n",
    "se = 3.419\n",
    "\n",
    "estimate = 16.608 + 29.917\n",
    "lower_estimate = estimate - z * se\n",
    "upper_estimate = estimate + z * se\n",
    "\n",
    "print('Lower estimate: ' + temperature_to_string(lower_estimate))\n",
    "print('Upper estimate: ' + temperature_to_string(upper_estimate))"
   ]
  },
  {
   "cell_type": "markdown",
   "metadata": {},
   "source": [
    "The 95% prediction interval for the April forecast is 39.8°F to 53.2°F, or 4.3°C to 11.8°C."
   ]
  },
  {
   "cell_type": "markdown",
   "metadata": {},
   "source": [
    "**(c)**  The forecasts between the two models are always identical."
   ]
  },
  {
   "cell_type": "markdown",
   "metadata": {},
   "source": [
    "**Exercise 9.7**.  Using the seasonal means model with an intercept shown in Exhibit 3.4 on page 33\n",
    "\n",
    "**(a)** Forecast the average monthly temperature in Dubuque, Iowa, for January 1976.\n",
    "\n",
    "**(b)** Find a 95% prediction interval for that January forecast. (The estimate of $\\sqrt{\\gamma_0}$ for this model is 3.419°F.)"
   ]
  },
  {
   "cell_type": "markdown",
   "metadata": {},
   "source": [
    "**Solution**."
   ]
  },
  {
   "cell_type": "markdown",
   "metadata": {},
   "source": [
    "**(a)**"
   ]
  },
  {
   "cell_type": "code",
   "execution_count": 9,
   "metadata": {},
   "outputs": [
    {
     "data": {
      "text/plain": [
       "'16.6°F or -8.6°C'"
      ]
     },
     "execution_count": 9,
     "metadata": {},
     "output_type": "execute_result"
    }
   ],
   "source": [
    "temperature_to_string(16.608)"
   ]
  },
  {
   "cell_type": "markdown",
   "metadata": {},
   "source": [
    "The estimate for January is 16.6°F or -8.6°C."
   ]
  },
  {
   "cell_type": "markdown",
   "metadata": {},
   "source": [
    "**(b)**"
   ]
  },
  {
   "cell_type": "code",
   "execution_count": 10,
   "metadata": {},
   "outputs": [
    {
     "name": "stdout",
     "output_type": "stream",
     "text": [
      "Lower estimate: 9.9°F or -12.3°C\n",
      "Upper estimate: 23.3°F or -4.8°C\n"
     ]
    }
   ],
   "source": [
    "z = norm.ppf(0.975)\n",
    "se = 3.419\n",
    "\n",
    "estimate = 16.608\n",
    "lower_estimate = estimate - z * se\n",
    "upper_estimate = estimate + z * se\n",
    "\n",
    "print('Lower estimate: ' + temperature_to_string(lower_estimate))\n",
    "print('Upper estimate: ' + temperature_to_string(upper_estimate))"
   ]
  },
  {
   "cell_type": "markdown",
   "metadata": {},
   "source": [
    "The 95% prediction interval for the January forecast is 9.9°F to 23.3°F, or -12.3°C to -4.8°C."
   ]
  },
  {
   "cell_type": "markdown",
   "metadata": {},
   "source": [
    "**Exercise 9.8**.  Consider the monthly electricity generation time series shown in Exhibit 5.8 on page 99. The data are in the file named `electricity`.\n",
    "\n",
    "**(a)** Fit a deterministic trend model containing seasonal means together with a linear time trend to the logarithms of the electricity values.\n",
    "\n",
    "**(b)** Plot the last five years of the series together with two years of forecasts and the 95% forecast limits. Interpret the plot."
   ]
  },
  {
   "cell_type": "markdown",
   "metadata": {},
   "source": [
    "**Solution**."
   ]
  },
  {
   "cell_type": "code",
   "execution_count": 11,
   "metadata": {},
   "outputs": [],
   "source": [
    "import pandas as pd"
   ]
  },
  {
   "cell_type": "code",
   "execution_count": 12,
   "metadata": {},
   "outputs": [],
   "source": [
    "data = pd.read_csv('../data/electricity.dat')\n",
    "data['date'] = pd.date_range('1973-01', periods=len(data), freq='M')\n",
    "data['t'] = data['date'].dt.year + (data['date'].dt.month - 1) / 12\n",
    "data['month'] = data['date'].dt.month"
   ]
  },
  {
   "cell_type": "code",
   "execution_count": 13,
   "metadata": {},
   "outputs": [],
   "source": [
    "from statsmodels.formula.api import ols"
   ]
  },
  {
   "cell_type": "code",
   "execution_count": 14,
   "metadata": {},
   "outputs": [
    {
     "name": "stdout",
     "output_type": "stream",
     "text": [
      "                             OLS Regression Results                            \n",
      "===============================================================================\n",
      "Dep. Variable:     np.log(electricity)   R-squared:                       0.975\n",
      "Model:                             OLS   Adj. R-squared:                  0.975\n",
      "Method:                  Least Squares   F-statistic:                     1262.\n",
      "Date:                 Thu, 14 May 2020   Prob (F-statistic):          2.63e-299\n",
      "Time:                         10:06:59   Log-Likelihood:                 711.56\n",
      "No. Observations:                  396   AIC:                            -1397.\n",
      "Df Residuals:                      383   BIC:                            -1345.\n",
      "Df Model:                           12                                         \n",
      "Covariance Type:             nonrobust                                         \n",
      "==================================================================================\n",
      "                     coef    std err          t      P>|t|      [0.025      0.975]\n",
      "----------------------------------------------------------------------------------\n",
      "Intercept        -37.8299      0.428    -88.321      0.000     -38.672     -36.988\n",
      "C(month)[T.2]     -0.1246      0.010    -12.408      0.000      -0.144      -0.105\n",
      "C(month)[T.3]     -0.0908      0.010     -9.040      0.000      -0.111      -0.071\n",
      "C(month)[T.4]     -0.1642      0.010    -16.344      0.000      -0.184      -0.144\n",
      "C(month)[T.5]     -0.1000      0.010     -9.959      0.000      -0.120      -0.080\n",
      "C(month)[T.6]     -0.0202      0.010     -2.007      0.045      -0.040      -0.000\n",
      "C(month)[T.7]      0.0768      0.010      7.641      0.000       0.057       0.097\n",
      "C(month)[T.8]      0.0737      0.010      7.335      0.000       0.054       0.093\n",
      "C(month)[T.9]     -0.0647      0.010     -6.444      0.000      -0.084      -0.045\n",
      "C(month)[T.10]    -0.1148      0.010    -11.431      0.000      -0.135      -0.095\n",
      "C(month)[T.11]    -0.1346      0.010    -13.400      0.000      -0.154      -0.115\n",
      "C(month)[T.12]    -0.0448      0.010     -4.460      0.000      -0.065      -0.025\n",
      "t                  0.0253      0.000    117.310      0.000       0.025       0.026\n",
      "==============================================================================\n",
      "Omnibus:                        1.688   Durbin-Watson:                   0.470\n",
      "Prob(Omnibus):                  0.430   Jarque-Bera (JB):                1.746\n",
      "Skew:                           0.121   Prob(JB):                        0.418\n",
      "Kurtosis:                       2.784   Cond. No.                     4.16e+05\n",
      "==============================================================================\n",
      "\n",
      "Warnings:\n",
      "[1] Standard Errors assume that the covariance matrix of the errors is correctly specified.\n",
      "[2] The condition number is large, 4.16e+05. This might indicate that there are\n",
      "strong multicollinearity or other numerical problems.\n"
     ]
    }
   ],
   "source": [
    "model = ols(\"np.log(electricity) ~ t + C(month)\", data=data).fit()\n",
    "print(model.summary())"
   ]
  },
  {
   "cell_type": "markdown",
   "metadata": {},
   "source": [
    "**(b)**"
   ]
  },
  {
   "cell_type": "code",
   "execution_count": 15,
   "metadata": {},
   "outputs": [],
   "source": [
    "sigma_e = np.sqrt(model.scale)\n",
    "z = norm.ppf(0.975)"
   ]
  },
  {
   "cell_type": "code",
   "execution_count": 16,
   "metadata": {},
   "outputs": [],
   "source": [
    "new_data = pd.DataFrame()\n",
    "new_data['date'] = pd.date_range('2006-01', periods=12*2, freq='M')\n",
    "new_data['t'] = new_data['date'].dt.year + (new_data['date'].dt.month - 1) / 12\n",
    "new_data['month'] = new_data['date'].dt.month\n",
    "\n",
    "new_data['electricity'] = np.exp(model.predict(new_data))"
   ]
  },
  {
   "cell_type": "code",
   "execution_count": 17,
   "metadata": {},
   "outputs": [],
   "source": [
    "import matplotlib.pyplot as plt\n",
    "%matplotlib inline"
   ]
  },
  {
   "cell_type": "code",
   "execution_count": 18,
   "metadata": {},
   "outputs": [
    {
     "data": {
      "image/png": "[encoded data removed]",
      "text/plain": [
       "<Figure size 864x288 with 1 Axes>"
      ]
     },
     "metadata": {
      "needs_background": "light"
     },
     "output_type": "display_data"
    }
   ],
   "source": [
    "plt.figure(figsize=(12, 4))\n",
    "\n",
    "# Prepend last element so line is continuous\n",
    "plot_data = pd.concat([data.tail(1), new_data])\n",
    "\n",
    "plt.plot(\n",
    "    plot_data['date'], np.log(plot_data['electricity']), \n",
    "    marker='o', color='C1', label='Predicted'\n",
    ")\n",
    "\n",
    "plt.plot(\n",
    "    data[data['t'] >= 2001]['date'], np.log(data[data['t'] >= 2001]['electricity']), \n",
    "    marker='o', color='C0', label='Original'\n",
    ")\n",
    "plt.fill_between(\n",
    "    new_data['date'], \n",
    "    np.log(new_data['electricity']) - z * sigma_e, \n",
    "    np.log(new_data['electricity']) + z * sigma_e,\n",
    "    color='C1',\n",
    "    alpha=0.2,\n",
    "    label='95% confidence interval'\n",
    ")\n",
    "\n",
    "plt.legend(loc='upper left')\n",
    "plt.show()"
   ]
  },
  {
   "cell_type": "markdown",
   "metadata": {},
   "source": [
    "The forecast seems to follow the seasonality and trend of the series well, with a tight confidence interval."
   ]
  },
  {
   "cell_type": "markdown",
   "metadata": {},
   "source": [
    "**Exercise 9.9**.  Simulate an AR(1) process with $\\phi = 0.8$ and $\\mu = 100$. Simulate 48 values but set aside the last 8 values to compare forecasts to actual values.\n",
    "\n",
    "**(a)** Using the first 40 values of the series, find the values for the maximum likelihood estimates of $\\phi$ and $\\mu$.\n",
    "\n",
    "**(b)** Using the estimated model, forecast the next eight values of the series.  Plot the series together with the eight forecasts. Place a horizontal line at the estimate of the process mean.\n",
    "\n",
    "**(c)** Compare the eight forecasts with the actual values that you set aside.\n",
    "\n",
    "**(d)** Plot the forecasts together with 95% forecast limits. Do the actual values fall within the forecast limits?\n",
    "\n",
    "**(e)** Repeat parts (a) through (d) with a new simulated series using the same values of the parameters and the same sample size."
   ]
  },
  {
   "cell_type": "markdown",
   "metadata": {},
   "source": [
    "**Solution**."
   ]
  },
  {
   "cell_type": "code",
   "execution_count": 19,
   "metadata": {},
   "outputs": [],
   "source": [
    "from statsmodels.tsa.arima_process import ArmaProcess\n",
    "from statsmodels.tsa.arima_model import ARIMA"
   ]
  },
  {
   "cell_type": "code",
   "execution_count": 20,
   "metadata": {},
   "outputs": [],
   "source": [
    "def generate_arima(phi=[], d=0, theta=[], n=100):\n",
    "    \"\"\"\n",
    "    Generates an ARIMA distribution with specified phi, d, and theta parameters.\n",
    "    \"\"\"\n",
    "    \n",
    "    ar = np.r_[1, -np.array(phi)]\n",
    "    ma = np.r_[1, -np.array(theta)]\n",
    "    Y = ArmaProcess(ar, ma).generate_sample(nsample=n)\n",
    "    for i in range(d):\n",
    "        Y = np.cumsum(Y)\n",
    "    return Y"
   ]
  },
  {
   "cell_type": "code",
   "execution_count": 21,
   "metadata": {},
   "outputs": [],
   "source": [
    "np.random.seed(2000)\n",
    "Y = generate_arima(phi=0.8, n=48) + 100"
   ]
  },
  {
   "cell_type": "markdown",
   "metadata": {},
   "source": [
    "**(a)**"
   ]
  },
  {
   "cell_type": "code",
   "execution_count": 22,
   "metadata": {},
   "outputs": [
    {
     "name": "stdout",
     "output_type": "stream",
     "text": [
      "                              ARMA Model Results                              \n",
      "==============================================================================\n",
      "Dep. Variable:                      y   No. Observations:                   40\n",
      "Model:                     ARMA(1, 0)   Log Likelihood                 -61.783\n",
      "Method:                           mle   S.D. of innovations              1.127\n",
      "Date:                Thu, 14 May 2020   AIC                            129.567\n",
      "Time:                        10:06:59   BIC                            134.633\n",
      "Sample:                             0   HQIC                           131.399\n",
      "                                                                              \n",
      "==============================================================================\n",
      "                 coef    std err          z      P>|z|      [0.025      0.975]\n",
      "------------------------------------------------------------------------------\n",
      "const         99.2652      0.438    226.386      0.000      98.406     100.125\n",
      "ar.L1.y        0.6060      0.129      4.700      0.000       0.353       0.859\n",
      "                                    Roots                                    \n",
      "=============================================================================\n",
      "                  Real          Imaginary           Modulus         Frequency\n",
      "-----------------------------------------------------------------------------\n",
      "AR.1            1.6500           +0.0000j            1.6500            0.0000\n",
      "-----------------------------------------------------------------------------\n"
     ]
    }
   ],
   "source": [
    "model = ARIMA(Y[:40], order=(1, 0, 0)).fit(method='mle')\n",
    "print(model.summary())"
   ]
  },
  {
   "cell_type": "markdown",
   "metadata": {},
   "source": [
    "**(b)**"
   ]
  },
  {
   "cell_type": "code",
   "execution_count": 23,
   "metadata": {},
   "outputs": [],
   "source": [
    "Y_pred, se, _ = model.forecast(steps=8)"
   ]
  },
  {
   "cell_type": "code",
   "execution_count": 24,
   "metadata": {},
   "outputs": [
    {
     "data": {
      "image/png": "[encoded data removed]",
      "text/plain": [
       "<Figure size 864x288 with 1 Axes>"
      ]
     },
     "metadata": {
      "needs_background": "light"
     },
     "output_type": "display_data"
    }
   ],
   "source": [
    "process_mean = np.mean(Y)\n",
    "z = norm.ppf(0.975)\n",
    "\n",
    "plt.figure(figsize=(12, 4))\n",
    "plt.plot(np.arange(1, len(Y)+1), Y, marker='o', color='C0')\n",
    "plt.plot(np.arange(41, 49), Y_pred, marker='o', color='C1')\n",
    "plt.fill_between(np.arange(41, 49), Y_pred - z * se, Y_pred + z * se, alpha=0.2, color='C1')\n",
    "plt.plot([0, 48], [process_mean, process_mean], ls=':', color='black')\n",
    "plt.show()"
   ]
  },
  {
   "cell_type": "markdown",
   "metadata": {},
   "source": [
    "**(c)**  Actual values are almost all still within the 95% confidence interval."
   ]
  },
  {
   "cell_type": "markdown",
   "metadata": {},
   "source": [
    "**(d)**  See (b)."
   ]
  },
  {
   "cell_type": "markdown",
   "metadata": {},
   "source": [
    "**(e)**"
   ]
  },
  {
   "cell_type": "code",
   "execution_count": 25,
   "metadata": {},
   "outputs": [
    {
     "name": "stdout",
     "output_type": "stream",
     "text": [
      "                              ARMA Model Results                              \n",
      "==============================================================================\n",
      "Dep. Variable:                      y   No. Observations:                   40\n",
      "Model:                     ARMA(1, 0)   Log Likelihood                 -57.219\n",
      "Method:                           mle   S.D. of innovations              1.005\n",
      "Date:                Thu, 14 May 2020   AIC                            120.439\n",
      "Time:                        10:07:00   BIC                            125.506\n",
      "Sample:                             0   HQIC                           122.271\n",
      "                                                                              \n",
      "==============================================================================\n",
      "                 coef    std err          z      P>|z|      [0.025      0.975]\n",
      "------------------------------------------------------------------------------\n",
      "const        100.0090      0.414    241.391      0.000      99.197     100.821\n",
      "ar.L1.y        0.6318      0.122      5.165      0.000       0.392       0.872\n",
      "                                    Roots                                    \n",
      "=============================================================================\n",
      "                  Real          Imaginary           Modulus         Frequency\n",
      "-----------------------------------------------------------------------------\n",
      "AR.1            1.5827           +0.0000j            1.5827            0.0000\n",
      "-----------------------------------------------------------------------------\n"
     ]
    },
    {
     "data": {
      "image/png": "[encoded data removed]",
      "text/plain": [
       "<Figure size 864x288 with 1 Axes>"
      ]
     },
     "metadata": {
      "needs_background": "light"
     },
     "output_type": "display_data"
    }
   ],
   "source": [
    "np.random.seed(2001)\n",
    "Y = generate_arima(phi=0.8, n=48) + 100\n",
    "model = ARIMA(Y[:40], order=(1, 0, 0)).fit(method='mle')\n",
    "print(model.summary())\n",
    "Y_pred, se, _ = model.forecast(steps=8)\n",
    "\n",
    "process_mean = np.mean(Y)\n",
    "z = norm.ppf(0.975)\n",
    "\n",
    "plt.figure(figsize=(12, 4))\n",
    "plt.plot(np.arange(1, len(Y)+1), Y, marker='o', color='C0')\n",
    "plt.plot(np.arange(41, 49), Y_pred, marker='o', color='C1')\n",
    "plt.fill_between(np.arange(41, 49), Y_pred - z * se, Y_pred + z * se, alpha=0.2, color='C1')\n",
    "plt.plot([0, 48], [process_mean, process_mean], ls=':', color='black')\n",
    "plt.show()"
   ]
  },
  {
   "cell_type": "markdown",
   "metadata": {},
   "source": [
    "Results are again within the 95% confidence interval."
   ]
  },
  {
   "cell_type": "markdown",
   "metadata": {},
   "source": [
    "**Exercise 9.10**.  Simulate an AR(2) process with $\\phi_1 = 1.5$, $\\phi_2 = −0.75$, and $\\mu = 100$.  Simulate 52 values but set aside the last 12 values to compare forecasts to actual values.\n",
    "\n",
    "**(a)** Using the first 40 values of the series, find the values for the maximum likelihood estimates of the $\\phi$'s and $\\mu$.\n",
    "\n",
    "**(b)** Using the estimated model, forecast the next 12 values of the series.  Plot the series together with the 12 forecasts. Place a horizontal line at the estimate of the process mean.\n",
    "\n",
    "**(c)** Compare the 12 forecasts with the actual values that you set aside.\n",
    "\n",
    "**(d)** Plot the forecasts together with 95% forecast limits. Do the actual values fall within the forecast limits?\n",
    "\n",
    "**(e)** Repeat parts (a) through (d) with a new simulated series using the same values of the parameters and same sample size."
   ]
  },
  {
   "cell_type": "markdown",
   "metadata": {},
   "source": [
    "**Solution**."
   ]
  },
  {
   "cell_type": "code",
   "execution_count": 26,
   "metadata": {},
   "outputs": [],
   "source": [
    "np.random.seed(2000)\n",
    "Y = generate_arima(phi=[1.5, -0.75], n=52) + 100"
   ]
  },
  {
   "cell_type": "markdown",
   "metadata": {},
   "source": [
    "**(a)**"
   ]
  },
  {
   "cell_type": "code",
   "execution_count": 27,
   "metadata": {},
   "outputs": [
    {
     "name": "stdout",
     "output_type": "stream",
     "text": [
      "                              ARMA Model Results                              \n",
      "==============================================================================\n",
      "Dep. Variable:                      y   No. Observations:                   40\n",
      "Model:                     ARMA(2, 0)   Log Likelihood                 -62.484\n",
      "Method:                           mle   S.D. of innovations              1.114\n",
      "Date:                Thu, 14 May 2020   AIC                            132.968\n",
      "Time:                        10:07:00   BIC                            139.724\n",
      "Sample:                             0   HQIC                           135.411\n",
      "                                                                              \n",
      "==============================================================================\n",
      "                 coef    std err          z      P>|z|      [0.025      0.975]\n",
      "------------------------------------------------------------------------------\n",
      "const         99.0537      0.546    181.391      0.000      97.983     100.124\n",
      "ar.L1.y        1.4383      0.104     13.877      0.000       1.235       1.641\n",
      "ar.L2.y       -0.7633      0.106     -7.200      0.000      -0.971      -0.556\n",
      "                                    Roots                                    \n",
      "=============================================================================\n",
      "                  Real          Imaginary           Modulus         Frequency\n",
      "-----------------------------------------------------------------------------\n",
      "AR.1            0.9421           -0.6500j            1.1446           -0.0961\n",
      "AR.2            0.9421           +0.6500j            1.1446            0.0961\n",
      "-----------------------------------------------------------------------------\n"
     ]
    }
   ],
   "source": [
    "model = ARIMA(Y[:40], order=(2, 0, 0)).fit(method='mle')\n",
    "print(model.summary())"
   ]
  },
  {
   "cell_type": "markdown",
   "metadata": {},
   "source": [
    "**(b)**"
   ]
  },
  {
   "cell_type": "code",
   "execution_count": 28,
   "metadata": {},
   "outputs": [],
   "source": [
    "Y_pred, se, _ = model.forecast(steps=12)"
   ]
  },
  {
   "cell_type": "code",
   "execution_count": 29,
   "metadata": {},
   "outputs": [
    {
     "data": {
      "image/png": "[encoded data removed]",
      "text/plain": [
       "<Figure size 864x288 with 1 Axes>"
      ]
     },
     "metadata": {
      "needs_background": "light"
     },
     "output_type": "display_data"
    }
   ],
   "source": [
    "process_mean = np.mean(Y)\n",
    "z = norm.ppf(0.975)\n",
    "\n",
    "plt.figure(figsize=(12, 4))\n",
    "plt.plot(np.arange(1, len(Y)+1), Y, marker='o', color='C0')\n",
    "plt.plot(np.arange(41, 53), Y_pred, marker='o', color='C1')\n",
    "plt.fill_between(np.arange(41, 53), Y_pred - z * se, Y_pred + z * se, alpha=0.2, color='C1')\n",
    "plt.plot([0, 52], [process_mean, process_mean], ls=':', color='black')\n",
    "plt.show()"
   ]
  },
  {
   "cell_type": "markdown",
   "metadata": {},
   "source": [
    "**(c)** A few of the points are away from the confidence interval region."
   ]
  },
  {
   "cell_type": "markdown",
   "metadata": {},
   "source": [
    "**(d)** See (b)."
   ]
  },
  {
   "cell_type": "markdown",
   "metadata": {},
   "source": [
    "**(e)**"
   ]
  },
  {
   "cell_type": "code",
   "execution_count": 30,
   "metadata": {},
   "outputs": [
    {
     "name": "stdout",
     "output_type": "stream",
     "text": [
      "                              ARMA Model Results                              \n",
      "==============================================================================\n",
      "Dep. Variable:                      y   No. Observations:                   40\n",
      "Model:                     ARMA(2, 0)   Log Likelihood                 -56.626\n",
      "Method:                           mle   S.D. of innovations              0.951\n",
      "Date:                Thu, 14 May 2020   AIC                            121.252\n",
      "Time:                        10:07:00   BIC                            128.007\n",
      "Sample:                             0   HQIC                           123.694\n",
      "                                                                              \n",
      "==============================================================================\n",
      "                 coef    std err          z      P>|z|      [0.025      0.975]\n",
      "------------------------------------------------------------------------------\n",
      "const         99.9954      0.528    189.537      0.000      98.961     101.029\n",
      "ar.L1.y        1.5550      0.077     20.308      0.000       1.405       1.705\n",
      "ar.L2.y       -0.8442      0.076    -11.165      0.000      -0.992      -0.696\n",
      "                                    Roots                                    \n",
      "=============================================================================\n",
      "                  Real          Imaginary           Modulus         Frequency\n",
      "-----------------------------------------------------------------------------\n",
      "AR.1            0.9210           -0.5800j            1.0884           -0.0894\n",
      "AR.2            0.9210           +0.5800j            1.0884            0.0894\n",
      "-----------------------------------------------------------------------------\n"
     ]
    },
    {
     "data": {
      "image/png": "[encoded data removed]",
      "text/plain": [
       "<Figure size 864x288 with 1 Axes>"
      ]
     },
     "metadata": {
      "needs_background": "light"
     },
     "output_type": "display_data"
    }
   ],
   "source": [
    "np.random.seed(2001)\n",
    "Y = generate_arima(phi=[1.5, -0.75], n=52) + 100\n",
    "\n",
    "model = ARIMA(Y[:40], order=(2, 0, 0)).fit(method='mle')\n",
    "print(model.summary())\n",
    "\n",
    "Y_pred, se, _ = model.forecast(steps=12)\n",
    "\n",
    "process_mean = np.mean(Y)\n",
    "z = norm.ppf(0.975)\n",
    "\n",
    "plt.figure(figsize=(12, 4))\n",
    "plt.plot(np.arange(1, len(Y)+1), Y, marker='o', color='C0')\n",
    "plt.plot(np.arange(41, 53), Y_pred, marker='o', color='C1')\n",
    "plt.fill_between(np.arange(41, 53), Y_pred - z * se, Y_pred + z * se, alpha=0.2, color='C1')\n",
    "plt.plot([0, 52], [process_mean, process_mean], ls=':', color='black')\n",
    "plt.show()"
   ]
  },
  {
   "cell_type": "markdown",
   "metadata": {},
   "source": [
    "The actual values are now all within the confidence interval."
   ]
  }
 ],
 "metadata": {
  "kernelspec": {
   "display_name": "Python 3",
   "language": "python",
   "name": "python3"
  },
  "language_info": {
   "codemirror_mode": {
    "name": "ipython",
    "version": 3
   },
   "file_extension": ".py",
   "mimetype": "text/x-python",
   "name": "python",
   "nbconvert_exporter": "python",
   "pygments_lexer": "ipython3",
   "version": "3.7.3"
  }
 },
 "nbformat": 4,
 "nbformat_minor": 2
}
