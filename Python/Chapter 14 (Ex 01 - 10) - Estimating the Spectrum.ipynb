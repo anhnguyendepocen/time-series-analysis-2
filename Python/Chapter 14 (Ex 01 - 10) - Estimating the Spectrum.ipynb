{
 "cells": [
  {
   "cell_type": "markdown",
   "metadata": {},
   "source": [
    "## 14. Estimating the Spectrum"
   ]
  },
  {
   "cell_type": "markdown",
   "metadata": {},
   "source": [
    "**Exercise 14.1**. Consider the variance of $\\overline{S}(f)$ with the Daniell spectral window. Instead of using Equation (14.2.4) on page 355, use the fact that $2 \\hat{S}(f) / S(f)$ has approximately a chi-square distribution with two degrees of freedom to show that the smoothed sample spectral density has an approximate variance of $S^2(f) / (2m + 1)$."
   ]
  },
  {
   "cell_type": "markdown",
   "metadata": {},
   "source": [
    "**Solution**.  The smoothed estimator of the spectral density is\n",
    "\n",
    "$$ \\overline{S}(f) = \\sum_{k=-m}^m W_m(k) \\hat{S}\\left( f + \\frac{k}{n} \\right) \\tag{14.1.3} $$\n",
    "\n",
    "and the Daniell spectral window corresponds to weights\n",
    "\n",
    "$$ W_m(k) = \\frac{1}{2m + 1} \\quad \\text{for } -m \\leq k \\leq m \\tag{14.1.4} $$\n",
    "\n",
    "Therefore, using this smoothing window,\n",
    "\n",
    "$$ \\frac{\\overline{S}(f)}{S(f)} = \\frac{1}{2(2m + 1)} \\sum_{k=-m}^m \\frac{2 \\hat{S}\\left( f + \\frac{k}{n} \\right)}{S(f)} $$\n",
    "\n",
    "Taking the variance,\n",
    "\n",
    "$$ \n",
    "\\begin{align}\n",
    "\\text{Var}\\left[ \\frac{\\overline{S}(f)}{S(f)} \\right] \n",
    "&= \\frac{1}{4(2m+1)^2} \\text{Var}\\left[ \\sum_{k=-m}^m \\frac{2 \\hat{S}\\left( f + \\frac{k}{n} \\right)}{S(f)} \\right] \\\\\n",
    "&\\approx \\frac{1}{4(2m+1)^2} \\sum_{k=-m}^m  \\text{Var}\\left[ \\frac{2 \\hat{S}\\left( f + \\frac{k}{n} \\right)}{S(f)} \\right] \\\\\n",
    "&\\approx \\frac{1}{4(2m+1)^2} \\sum_{k=-m}^m 2 \\cdot 2 \\\\\n",
    "&= \\frac{1}{2m + 1}\n",
    "\\end{align}\n",
    "$$\n",
    "\n",
    "since the spectral sample density values at Fourier frequencies are approximately uncorrelated, and since the variance of a chi-square variable with 2 degrees of freedom is $2 \\cdot \\text{df} = 4$.\n",
    "\n",
    "Therefore, taking $S(f)$ out as a constant factor, we obtain the result\n",
    "\n",
    "$$ \\text{Var}\\left[\\overline{S}(f)\\right] \\approx \\frac{S^2(f)}{2m + 1} $$"
   ]
  },
  {
   "cell_type": "markdown",
   "metadata": {},
   "source": [
    "**Exercise 14.2**. Consider various convolutions of the simple Daniell rectangular spectral window.\n",
    "\n",
    "**(a)** Construct a panel of three plots similar to those shown in Exhibit 14.3 on page 354 but with the Daniell spectral window and with $m = 5$. The middle graph should be the convolution of two Daniell windows and the leftmost graph the convolution of three Daniell windows.\n",
    "\n",
    "**(b)** Evaluate the bandwidths and degrees of freedom for each of the spectral windows constructed in part (a). Use $n = 100$.\n",
    "\n",
    "**(c)** Construct another panel of three plots similar to those shown in Exhibit 14.3 but with the modified Daniell spectral window. This time use $m = 5$ for the first graph and convolve two with $m = 5$ and $m = 7$ for the second. Convolve three windows with $m$’s of 5, 7, and 11 for the third graph.\n",
    "\n",
    "**(d)** Evaluate the bandwidths and degrees of freedom for each of the spectral windows constructed in part (c). Use $n = 100$."
   ]
  },
  {
   "cell_type": "markdown",
   "metadata": {},
   "source": [
    "**Solution**.  For integer $k$ and positive integer $m$, the Daniell regular spectral window for $m$ is defined as\n",
    "\n",
    "$$ W_m(k) = \\begin{cases}\n",
    "1 / (2m + 1) &\\text{for } -m \\leq k \\leq m \\\\\n",
    "0 &\\text{otherwise}\n",
    "\\end{cases} $$\n",
    "\n",
    "while the modified Daniell regular spectral window divides in half the extreme weights and renormalizes the values so that they add up to 1, that is,\n",
    "\n",
    "$$ W_m^{*}(k) = \\begin{cases}\n",
    "1 / (4m) &\\text{for } k \\in \\{ -m, m \\} \\\\\n",
    "1 / (2m) &\\text{for } -m < k < m \\\\\n",
    "0 &\\text{otherwise}\n",
    "\\end{cases} $$"
   ]
  },
  {
   "cell_type": "code",
   "execution_count": 1,
   "metadata": {},
   "outputs": [],
   "source": [
    "import numpy as np\n",
    "from scipy.signal import convolve\n",
    "\n",
    "import matplotlib.pyplot as plt\n",
    "%matplotlib inline"
   ]
  },
  {
   "cell_type": "code",
   "execution_count": 2,
   "metadata": {},
   "outputs": [],
   "source": [
    "def daniell_window(m):\n",
    "    def w(k):\n",
    "        return np.where(np.abs(k) <= m, 1 / (2*m + 1), 0)\n",
    "    \n",
    "    return w(np.arange(-m, m+1))\n",
    "\n",
    "def daniell_window_modified(m):\n",
    "    def w(k):\n",
    "        return np.where(np.abs(k) < m, 1 / (2*m), np.where(np.abs(k) == m, 1/(4*m), 0))\n",
    "    \n",
    "    return w(np.arange(-m, m+1))"
   ]
  },
  {
   "cell_type": "markdown",
   "metadata": {},
   "source": [
    "**(a)**"
   ]
  },
  {
   "cell_type": "code",
   "execution_count": 3,
   "metadata": {},
   "outputs": [
    {
     "data": {
      "image/png": "[encoded data removed]",
      "text/plain": [
       "<Figure size 864x288 with 3 Axes>"
      ]
     },
     "metadata": {
      "needs_background": "light"
     },
     "output_type": "display_data"
    }
   ],
   "source": [
    "m = 5\n",
    "\n",
    "# Create lag vectors\n",
    "k1 = np.arange(-m, m+1)\n",
    "k2 = np.arange(-2*m, 2*m+1)\n",
    "k3 = np.arange(-3*m, 3*m+1)\n",
    "\n",
    "# Create and convolve kernel weights\n",
    "w_m = daniell_window(m)\n",
    "\n",
    "w1 = w_m\n",
    "w2 = convolve(w_m, w_m)\n",
    "w3 = convolve(convolve(w_m, w_m), w_m)\n",
    "\n",
    "def plot_kernel(k, w, ax=None):\n",
    "    if ax is None:\n",
    "        ax = plt.gca()\n",
    "    ax.plot(k, w, ls='None', marker='.')\n",
    "    ax.vlines(x=k, ymin=0, ymax=w, color='C0')\n",
    "    ax.axhline(y=0, xmin=0, xmax=1, color='black', lw=0.5)\n",
    "    ax.set_xlabel('k')\n",
    "    ax.set_ylabel('W(k)')\n",
    "    \n",
    "plt.figure(figsize=(12, 4))\n",
    "\n",
    "plot_kernel(k=k1, w=w1, ax=plt.subplot(131))\n",
    "plot_kernel(k=k2, w=w2, ax=plt.subplot(132))\n",
    "plot_kernel(k=k3, w=w3, ax=plt.subplot(133))\n",
    "\n",
    "plt.tight_layout()\n",
    "plt.show()"
   ]
  },
  {
   "cell_type": "markdown",
   "metadata": {},
   "source": [
    "**(b)**  The bandwidth of the spectral window is defined as\n",
    "\n",
    "$$ BW = \\frac{1}{n} \\sqrt{\\sum_{k=-m}^m k^2 W_m(k)} \\tag{14.3.1} $$\n",
    "\n",
    "and the degrees of freedom are given as\n",
    "\n",
    "$$ \\nu = \\frac{2}{\\sum_{k=-m}^m W_m^2(k)} \\tag{14.4.2} $$"
   ]
  },
  {
   "cell_type": "code",
   "execution_count": 4,
   "metadata": {},
   "outputs": [],
   "source": [
    "def spectral_window_bandwidth(k, w, n):\n",
    "    return np.sqrt(np.sum(k**2 * w)) / n\n",
    "\n",
    "def spectral_window_df(w):\n",
    "    return 2 / np.sum(w**2)"
   ]
  },
  {
   "cell_type": "code",
   "execution_count": 5,
   "metadata": {},
   "outputs": [
    {
     "name": "stdout",
     "output_type": "stream",
     "text": [
      "Window 1\n",
      " Bandwidth: \t\t 0.03162\n",
      " Degrees of freedom:\t 22.0\n",
      "Window 2\n",
      " Bandwidth: \t\t 0.04472\n",
      " Degrees of freedom:\t 32.8642\n",
      "Window 3\n",
      " Bandwidth: \t\t 0.05477\n",
      " Degrees of freedom:\t 39.84931\n"
     ]
    }
   ],
   "source": [
    "def print_results(title, w, k):\n",
    "    bw = spectral_window_bandwidth(k=k, w=w, n=100)\n",
    "    df = spectral_window_df(w=w)\n",
    "    print(title)\n",
    "    print(' Bandwidth: \\t\\t', round(bw, 5))\n",
    "    print(' Degrees of freedom:\\t', round(df, 5))\n",
    "\n",
    "\n",
    "print_results(title='Window 1', k=k1, w=w1)\n",
    "print_results(title='Window 2', k=k2, w=w2)\n",
    "print_results(title='Window 3', k=k3, w=w3)"
   ]
  },
  {
   "cell_type": "markdown",
   "metadata": {},
   "source": [
    "**(c)**"
   ]
  },
  {
   "cell_type": "code",
   "execution_count": 6,
   "metadata": {},
   "outputs": [
    {
     "data": {
      "image/png": "[encoded data removed]",
      "text/plain": [
       "<Figure size 864x288 with 3 Axes>"
      ]
     },
     "metadata": {
      "needs_background": "light"
     },
     "output_type": "display_data"
    }
   ],
   "source": [
    "m1 = 5\n",
    "m2 = 7\n",
    "m3 = 11\n",
    "\n",
    "# Create lag vectors\n",
    "k1 = np.arange(-m1, m1+1)\n",
    "k2 = np.arange(-(m1+m2), (m1+m2)+1)\n",
    "k3 = np.arange(-(m1+m2+m3), (m1+m2+m3)+1)\n",
    "\n",
    "# Create and convolve kernel weights\n",
    "w_m1 = daniell_window_modified(m1)\n",
    "w_m2 = daniell_window_modified(m2)\n",
    "w_m3 = daniell_window_modified(m3)\n",
    "\n",
    "w1 = w_m1\n",
    "w2 = convolve(w_m1, w_m2)\n",
    "w3 = convolve(convolve(w_m1, w_m2), w_m3)\n",
    "\n",
    "def plot_kernel(k, w, ax=None):\n",
    "    if ax is None:\n",
    "        ax = plt.gca()\n",
    "    ax.plot(k, w, ls='None', marker='.')\n",
    "    ax.vlines(x=k, ymin=0, ymax=w, color='C0')\n",
    "    ax.axhline(y=0, xmin=0, xmax=1, color='black', lw=0.5)\n",
    "    ax.set_xlabel('k')\n",
    "    ax.set_ylabel('W(k)')\n",
    "    \n",
    "plt.figure(figsize=(12, 4))\n",
    "\n",
    "plot_kernel(k=k1, w=w1, ax=plt.subplot(131))\n",
    "plot_kernel(k=k2, w=w2, ax=plt.subplot(132))\n",
    "plot_kernel(k=k3, w=w3, ax=plt.subplot(133))\n",
    "\n",
    "plt.tight_layout()\n",
    "plt.show()"
   ]
  },
  {
   "cell_type": "markdown",
   "metadata": {},
   "source": [
    "**(d)**"
   ]
  },
  {
   "cell_type": "code",
   "execution_count": 7,
   "metadata": {},
   "outputs": [
    {
     "name": "stdout",
     "output_type": "stream",
     "text": [
      "Window 1\n",
      " Bandwidth: \t\t 0.02915\n",
      " Degrees of freedom:\t 21.05263\n",
      "Window 2\n",
      " Bandwidth: \t\t 0.05\n",
      " Degrees of freedom:\t 36.97241\n",
      "Window 3\n",
      " Bandwidth: \t\t 0.08093\n",
      " Degrees of freedom:\t 59.53696\n"
     ]
    }
   ],
   "source": [
    "print_results(title='Window 1', k=k1, w=w1)\n",
    "print_results(title='Window 2', k=k2, w=w2)\n",
    "print_results(title='Window 3', k=k3, w=w3)"
   ]
  },
  {
   "cell_type": "markdown",
   "metadata": {},
   "source": [
    "**Exercise 14.3**. For the Daniell rectangular spectral window show that\n",
    "\n",
    "**(a)** \n",
    "\n",
    "$$ \\frac{1}{n^2} \\sum_{k=-m}^m k^2 W_m(k) = \\frac{2}{n^2(2m+1)} \\left( \\frac{m^3}{3} + \\frac{m^2}{2} + \\frac{m}{6} \\right) $$\n",
    "\n",
    "**(b)** Show that if $m$ is chosen as $m = c\\sqrt{n}$ for any constant $c$, then the right-hand side of the expression in part (a) tends to zero as $n$ goes to infinity.\n",
    "\n",
    "**(c)** Show that if $m = c\\sqrt{n}$ for any constant $c$, then the approximate variance of the smoothed spectral density given by the right-hand side of Equation (14.2.4) on page 355 tends to zero as n tends to infinity."
   ]
  },
  {
   "cell_type": "markdown",
   "metadata": {},
   "source": [
    "**Solution**."
   ]
  },
  {
   "cell_type": "markdown",
   "metadata": {},
   "source": [
    "**(a)**\n",
    "\n",
    "$$\n",
    "\\begin{align}\n",
    "\\frac{1}{n^2} \\sum_{k=-m}^m k^2 W_m(k) &= \\frac{1}{2m+1} \\frac{1}{n^2} \\sum_{k=-m}^m k^2 \\\\\n",
    "&= \\frac{2}{2m+1} \\frac{1}{n^2} \\sum_{k=1}^m k^2 \\\\\n",
    "&= \\frac{2}{n^2(2m+1)} \\left( \\frac{m(m+1)(2m+1)}{6} \\right) \\\\\n",
    "&= \\frac{2}{n^2(2m+1)} \\left( \\frac{m^3}{3} + \\frac{m^2}{2} + \\frac{m}{6} \\right)\n",
    "\\end{align}\n",
    "$$\n",
    "\n",
    "where the formula for the sum of consecutive squares may be proved by induction on $m$:\n",
    "\n",
    "$$ \\sum_{k=1}^m k^2 = \\frac{m(m+1)(2m+1)}{6} $$\n",
    "\n",
    "The result holds for $m = 1$, as $1 = 1$, and if the result holds for $m$,\n",
    "\n",
    "$$ \\sum_{k=1}^{m+1} k^2 = (m+1)^2 + \\sum_{k=1}^m k^2 = (m+1)^2 + \\frac{m(m+1)(2m+1)}{6} = \\frac{(m+1)(m+2)(2m+3)}{6} $$\n",
    "\n",
    "showing our result."
   ]
  },
  {
   "cell_type": "markdown",
   "metadata": {},
   "source": [
    "**(b)**  The right hand side of the expression is $O(m^2 / n^2)$, so if $m = c \\sqrt{n}$ for some constant $c$, the expression overall is $O(1 / n)$, and so it tends to zero as $n$ tends to infinity."
   ]
  },
  {
   "cell_type": "markdown",
   "metadata": {},
   "source": [
    "**(c)** Equation (14.2.4) provides an estimate for the variance of the smoothed spectral density,\n",
    "\n",
    "$$ \\text{Var}\\left[ \\overline{S}(f) \\right] \\approx S^2(f) \\sum_{k=-m}^m W_m^2(k) \\tag{14.2.4} $$\n",
    "\n",
    "But for the Daniell window, $W_m(k) = 1 / (2m + 1)$ for these values of $k$, so the right-hand side becomes\n",
    "\n",
    "$$ S^2(f) \\sum_{k=-m}^m W_m^2(k) = \\frac{S^2(f)}{2m + 1} $$\n",
    "\n",
    "If $m = c \\sqrt{n}$, then this expression tends to 0 as $n \\rightarrow \\infty$."
   ]
  },
  {
   "cell_type": "markdown",
   "metadata": {},
   "source": [
    "**Exercise 14.4**.  Suppose that the distribution of $\\overline{S}(f)$ is to be approximated by a multiple of a chi-square variable with degrees of freedom $\\nu$, so that $\\overline{S}(f) \\approx c \\chi_\\nu^2$. Using the approximate variance of given in Equation (14.2.4) on page 355 and the fact that $\\overline{S}(f)$ is approximately unbiased, equate means and variances and find the values for $c$ and $\\nu$ (thus establishing Equation (14.4.2) on page 356)."
   ]
  },
  {
   "cell_type": "markdown",
   "metadata": {},
   "source": [
    "**Solution**.  Using the given approximation, we have\n",
    "\n",
    "$$ \\text{E}\\left[\\overline{S}(f)\\right] \\approx \\text{E}\\left[c \\chi_\\nu^2\\right] = c \\nu $$\n",
    "\n",
    "but the approximate unbiasedness also tells us that $\\text{E}\\left[\\overline{S}(f)\\right] \\approx S(f)$, so we have \n",
    "\n",
    "$$ c \\nu \\approx S(f) $$\n",
    "\n",
    "Using the given approximation, we have\n",
    "\n",
    "$$ \\text{Var}\\left[ \\overline{S}(f) \\right] \\approx \\text{Var}\\left[c \\chi_\\nu^2 \\right] = 2 c^2 \\nu $$\n",
    "\n",
    "but the approximation from Equation (14.2.4) also tells us that\n",
    "\n",
    "$$ \\text{Var}\\left[ \\overline{S}(f) \\right] \\approx S^2(f) \\sum_{k=-m}^m W_m^2(k) $$\n",
    "\n",
    "so we have\n",
    "\n",
    "$$ c^2 \\nu \\approx \\frac{S^2(f)}{2} \\sum_{k=-m}^m W_m^2(k) $$\n",
    "\n",
    "From the approximations for $c\\nu$ and $c^2 \\nu$ we get\n",
    "\n",
    "$$\n",
    "c \\approx \\frac{S(f)}{2} \\sum_{k=-m}^m W_m^2(k) \n",
    "\\quad \\text{and} \\quad\n",
    "\\nu \\approx \\frac{2}{\\sum_{k=-m}^m W_m^2(k)}\n",
    "$$\n",
    "\n",
    "establishing the approximation for $\\nu$ from Equation (14.4.2)."
   ]
  },
  {
   "cell_type": "markdown",
   "metadata": {},
   "source": [
    "**Exercise 14.5**.  Construct a time series of length $n = 48$ according to the expression \n",
    "\n",
    "$$ Y_t = \\sin \\left[ 2 \\pi (0.28) t \\right] $$\n",
    "\n",
    "Display the periodogram of the series and explain its appearance."
   ]
  },
  {
   "cell_type": "markdown",
   "metadata": {},
   "source": [
    "**Solution**."
   ]
  },
  {
   "cell_type": "code",
   "execution_count": 8,
   "metadata": {},
   "outputs": [],
   "source": [
    "from scipy.signal import periodogram"
   ]
  },
  {
   "cell_type": "code",
   "execution_count": 9,
   "metadata": {},
   "outputs": [
    {
     "data": {
      "image/png": "[encoded data removed]",
      "text/plain": [
       "<Figure size 864x288 with 1 Axes>"
      ]
     },
     "metadata": {
      "needs_background": "light"
     },
     "output_type": "display_data"
    }
   ],
   "source": [
    "n = 48\n",
    "t = np.arange(n) + 1\n",
    "Y = np.sin(2 * np.pi * 0.28 * t)\n",
    "\n",
    "f, Pxx = periodogram(Y)\n",
    "\n",
    "plt.figure(figsize=(12, 4))\n",
    "\n",
    "plt.vlines(x=f, ymin=0, ymax=Pxx, color='C0')\n",
    "plt.plot(f, Pxx, ls='none', marker='.', color='C0')\n",
    "plt.axhline(y=0, xmin=0, xmax=1, color='black', lw=0.5)\n",
    "\n",
    "plt.ylabel('Periodogram')\n",
    "plt.xlabel('Frequency')\n",
    "plt.show()"
   ]
  },
  {
   "cell_type": "markdown",
   "metadata": {},
   "source": [
    "Rather than displaying a single peak, the frequencies are smoothed around Fourier frequencies near 0.28.  This occurs as the series of sines as defined with phase $2 \\pi \\cdot 0.28$ is no longer orthogonal to the series of cosines and sines with phases corresponding to the Fourier frequencies."
   ]
  },
  {
   "cell_type": "markdown",
   "metadata": {},
   "source": [
    "**Exercise 14.6**.  Estimate the spectrum of the Los Angeles annual rainfall time series. The data are in the file named `larain`. Because of the skewness in the series, use the logarithms of the raw rainfall values. The square root of the series length suggests a value for the *span* of about 11. Use the modified Daniell spectral window, and be sure to set the vertical limits of the plot so that you can see the whole confidence interval guide. Comment on the estimated spectrum."
   ]
  },
  {
   "cell_type": "markdown",
   "metadata": {},
   "source": [
    "**Solution**."
   ]
  },
  {
   "cell_type": "code",
   "execution_count": 10,
   "metadata": {},
   "outputs": [],
   "source": [
    "import pandas as pd\n",
    "\n",
    "Y = np.log(np.r_[pd.read_csv('../data/larain.dat')['larain']])"
   ]
  },
  {
   "cell_type": "code",
   "execution_count": 11,
   "metadata": {},
   "outputs": [],
   "source": [
    "# TODO: Compare with R stats::spec\n",
    "# Implementation at https://github.com/SurajGupta/r-source/blob/master/src/library/stats/R/spectrum.R\n",
    "# To implement:\n",
    "# - Default tapering of 0.1\n",
    "# - Kernel convolution with selected modified.daniell spans\n",
    "# - Confidence intervals based on chi-squared distribution\n",
    "# - Cross-based display of confidence intervals, where\n",
    "#     width: max freq minus bandwidth\n",
    "#     height: 1 - \\alpha confidence interval for estimated spectral density"
   ]
  },
  {
   "cell_type": "code",
   "execution_count": 12,
   "metadata": {},
   "outputs": [
    {
     "data": {
      "image/png": "[encoded data removed]",
      "text/plain": [
       "<Figure size 864x288 with 1 Axes>"
      ]
     },
     "metadata": {
      "needs_background": "light"
     },
     "output_type": "display_data"
    }
   ],
   "source": [
    "# Display only the periodogram for now\n",
    "f, Pxx = periodogram(Y)\n",
    "\n",
    "plt.figure(figsize=(12, 4))\n",
    "plt.vlines(x=f, ymin=0, ymax=Pxx, color='C0')\n",
    "plt.plot(f, Pxx, ls='none', marker='.', color='C0')\n",
    "plt.axhline(y=0, xmin=0, xmax=1, color='black', lw=0.5)\n",
    "plt.show()"
   ]
  },
  {
   "cell_type": "markdown",
   "metadata": {},
   "source": [
    "**Exercise 14.7**. The file named `spots1` contains annual sunspot numbers for 306 years from 1700 through 2005.\n",
    "\n",
    "**(a)** Display the time series plot of these data. Does stationarity seem reasonable for this series?\n",
    "\n",
    "**(b)** Estimate the spectrum using a modified Daniell spectral window convoluted with itself and a *span* of 3 for both. Interpret the plot.\n",
    "\n",
    "**(c)** Estimate the spectrum using an AR model with the order chosen to minimize the AIC. Interpret the plot. What order was selected?\n",
    "\n",
    "**(d)** Overlay the estimates obtained in parts (b) and (c) above onto one plot. Do they agree to a reasonable degree?"
   ]
  },
  {
   "cell_type": "markdown",
   "metadata": {},
   "source": [
    "**Exercise 14.8**. Consider the time series of average monthly temperatures in Dubuque, Iowa. The data are in the file named `tempdub` and cover from January 1964 to December 1975 for an $n$ of 144.\n",
    "\n",
    "**(a)** Estimate the spectrum using a variety of span values for the modified Daniell spectral window.\n",
    "\n",
    "**(b)** In your opinion, which of the estimates in part (a) best represents the spectrum of the process? Be sure to use bandwidth considerations and confidence limits to back up your argument."
   ]
  },
  {
   "cell_type": "markdown",
   "metadata": {},
   "source": [
    "**Exercise 14.9**. An EEG (electroencephalogram) time series is given in the data file named `eeg`. An electroencephalogram is a noninvasive test used to detect and record the electrical activity generated in the brain. These data were measured at a sampling rate of 256 per second and came from a patient suffering a seizure. The total record length is $n = \\text{13,000}$ -- or slightly less than one minute.\n",
    "\n",
    "**(a)** Display the time series plot and decide if stationarity seems reasonable.\n",
    "\n",
    "**(b)** Estimate the spectrum using a modified Daniell spectral window convolved with itself and a *span* of 51 for both components of the convolution. Interpret the plot.\n",
    "\n",
    "**(c)** Estimate the spectrum using an AR model with the order chosen to minimize the AIC. Interpret the plot. What order was selected?\n",
    "\n",
    "**(d)** Overlay the estimates obtained in parts (b) and (c) above onto one plot. Do they agree to a reasonable degree?"
   ]
  },
  {
   "cell_type": "markdown",
   "metadata": {},
   "source": [
    "**Exercise 14.10**. The file named `electricity` contains monthly U. S. electricity production values from January 1994 to December 2005. A time series plot of the logarithms of these values is shown in Exhibit 11.14 on page 264. Since there is an upward trend and increasing variability at higher levels in these data, use the first difference of the logarithms for the remaining analysis.\n",
    "\n",
    "**(a)** Construct a time series plot of the first difference of the logarithms of the electricity values. Does a stationary model seem warranted at this point?\n",
    "\n",
    "**(b)** Display the smoothed spectrum of the first difference of the logarithms using a modified Daniell spectral window and *span* values of 25, 13, and 7. Interpret the results.\n",
    "\n",
    "**(c)** Now use a spectral window that is a convolution of two modified Daniell windows each with *span* $= 3$. Also use a 10% taper. Interpret the results.\n",
    "\n",
    "**(d)** Estimate the spectrum using an AR model with the order chosen to minimize the AIC. Interpret the plot. What order was selected?\n",
    "\n",
    "**(e)** Overlay the estimates obtained in parts (c) and (d) above onto one plot. Do they agree to a reasonable degree?"
   ]
  }
 ],
 "metadata": {
  "kernelspec": {
   "display_name": "Python 3",
   "language": "python",
   "name": "python3"
  },
  "language_info": {
   "codemirror_mode": {
    "name": "ipython",
    "version": 3
   },
   "file_extension": ".py",
   "mimetype": "text/x-python",
   "name": "python",
   "nbconvert_exporter": "python",
   "pygments_lexer": "ipython3",
   "version": "3.7.3"
  }
 },
 "nbformat": 4,
 "nbformat_minor": 2
}
