{
 "cells": [
  {
   "cell_type": "markdown",
   "metadata": {},
   "source": [
    "## 14. Estimating the Spectrum"
   ]
  },
  {
   "cell_type": "markdown",
   "metadata": {},
   "source": [
    "**Exercise 14.1**. Consider the variance of $\\overline{S}(f)$ with the Daniell spectral window. Instead of using Equation (14.2.4) on page 355, use the fact that $2 \\hat{S}(f) / S(f)$ has approximately a chi-square distribution with two degrees of freedom to show that the smoothed sample spectral density has an approximate variance of $S^2(f) / (2m + 1)$."
   ]
  },
  {
   "cell_type": "markdown",
   "metadata": {},
   "source": [
    "**Solution**.  The smoothed estimator of the spectral density is\n",
    "\n",
    "$$ \\overline{S}(f) = \\sum_{k=-m}^m W_m(k) \\hat{S}\\left( f + \\frac{k}{n} \\right) \\tag{14.1.3} $$\n",
    "\n",
    "and the Daniell spectral window corresponds to weights\n",
    "\n",
    "$$ W_m(k) = \\frac{1}{2m + 1} \\quad \\text{for } -m \\leq k \\leq m \\tag{14.1.4} $$\n",
    "\n",
    "Therefore, using this smoothing window,\n",
    "\n",
    "$$ \\frac{\\overline{S}(f)}{S(f)} = \\frac{1}{2(2m + 1)} \\sum_{k=-m}^m \\frac{2 \\hat{S}\\left( f + \\frac{k}{n} \\right)}{S(f)} $$\n",
    "\n",
    "Taking the variance,\n",
    "\n",
    "$$ \n",
    "\\begin{align}\n",
    "\\text{Var}\\left[ \\frac{\\overline{S}(f)}{S(f)} \\right] \n",
    "&= \\frac{1}{4(2m+1)^2} \\text{Var}\\left[ \\sum_{k=-m}^m \\frac{2 \\hat{S}\\left( f + \\frac{k}{n} \\right)}{S(f)} \\right] \\\\\n",
    "&\\approx \\frac{1}{4(2m+1)^2} \\sum_{k=-m}^m  \\text{Var}\\left[ \\frac{2 \\hat{S}\\left( f + \\frac{k}{n} \\right)}{S(f)} \\right] \\\\\n",
    "&\\approx \\frac{1}{4(2m+1)^2} \\sum_{k=-m}^m 2 \\cdot 2 \\\\\n",
    "&= \\frac{1}{2m + 1}\n",
    "\\end{align}\n",
    "$$\n",
    "\n",
    "since the spectral sample density values at Fourier frequencies are approximately uncorrelated, and since the variance of a chi-square variable with 2 degrees of freedom is $2 \\cdot \\text{df} = 4$.\n",
    "\n",
    "Therefore, taking $S(f)$ out as a constant factor, we obtain the result\n",
    "\n",
    "$$ \\text{Var}\\left[\\overline{S}(f)\\right] \\approx \\frac{S^2(f)}{2m + 1} $$"
   ]
  },
  {
   "cell_type": "markdown",
   "metadata": {},
   "source": [
    "**Exercise 14.2**. Consider various convolutions of the simple Daniell rectangular spectral window.\n",
    "\n",
    "**(a)** Construct a panel of three plots similar to those shown in Exhibit 14.3 on page 354 but with the Daniell spectral window and with $m = 5$. The middle graph should be the convolution of two Daniell windows and the leftmost graph the convolution of three Daniell windows.\n",
    "\n",
    "**(b)** Evaluate the bandwidths and degrees of freedom for each of the spectral windows constructed in part (a). Use $n = 100$.\n",
    "\n",
    "**(c)** Construct another panel of three plots similar to those shown in Exhibit 14.3 but with the modified Daniell spectral window. This time use $m = 5$ for the first graph and convolve two with $m = 5$ and $m = 7$ for the second. Convolve three windows with $m$’s of 5, 7, and 11 for the third graph.\n",
    "\n",
    "**(d)** Evaluate the bandwidths and degrees of freedom for each of the spectral windows constructed in part (c). Use $n = 100$."
   ]
  }
 ],
 "metadata": {
  "kernelspec": {
   "display_name": "Python 3",
   "language": "python",
   "name": "python3"
  },
  "language_info": {
   "codemirror_mode": {
    "name": "ipython",
    "version": 3
   },
   "file_extension": ".py",
   "mimetype": "text/x-python",
   "name": "python",
   "nbconvert_exporter": "python",
   "pygments_lexer": "ipython3",
   "version": "3.7.3"
  }
 },
 "nbformat": 4,
 "nbformat_minor": 2
}
