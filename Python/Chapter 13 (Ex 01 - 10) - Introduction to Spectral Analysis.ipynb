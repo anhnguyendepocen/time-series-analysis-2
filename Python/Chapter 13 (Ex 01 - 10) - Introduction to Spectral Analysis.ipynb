{
 "cells": [
  {
   "cell_type": "markdown",
   "metadata": {},
   "source": [
    "## 13. Introduction to Spectral Analysis"
   ]
  },
  {
   "cell_type": "markdown",
   "metadata": {},
   "source": [
    "**Exercise 13.1**.  Find $A$ and $B$ such that $3\\cos(2\\pi ft + 0.4) = A\\cos(2\\pi ft) + B\\sin (2\\pi ft)$."
   ]
  },
  {
   "cell_type": "markdown",
   "metadata": {},
   "source": [
    "**Solution**.  Since $\\cos(a + b) = \\cos a \\cos b - \\sin a \\sin b$, we have:\n",
    "\n",
    "$$\n",
    "\\begin{align}\n",
    "3 \\cos(2\\pi ft + 0.4) \n",
    "&= 3(\\cos (2\\pi ft) \\cos(0.4) - \\sin (2\\pi ft) \\sin(0.4)) \\\\\n",
    "&= (3 \\cos (0.4)) \\cos(2\\pi ft) + (-3 \\sin(0.4)) \\sin (2\\pi ft)\n",
    "\\end{align}\n",
    "$$\n",
    "\n",
    "and so $A = 3 \\cos 0.4 \\approx 2.763$ and $B = -3 \\sin 0.4 \\approx 1.168$."
   ]
  },
  {
   "cell_type": "markdown",
   "metadata": {},
   "source": [
    "**Exercise 13.2**.  Find $R$ and $\\Phi$ so that $R \\cos (2\\pi ft + \\Phi) = \\cos (2\\pi ft) + 3 \\sin(2\\pi ft)$."
   ]
  },
  {
   "cell_type": "markdown",
   "metadata": {},
   "source": [
    "**Solution**.  We have:\n",
    "\n",
    "$$ R \\cos (2\\pi ft + \\Phi) = R \\cos (2\\pi ft) \\cos \\Phi - R \\sin (2\\pi ft) \\sin \\Phi $$\n",
    "\n",
    "and so comparing with the given equation we get\n",
    "\n",
    "$$ R \\cos \\Phi = 1 \\quad \\text{and} \\quad R \\sin \\Phi = -3 $$\n",
    "\n",
    "Adding the squares of these,\n",
    "\n",
    "$$ R^2 = R^2 (\\cos^2 \\Phi + \\sin^2 \\Phi) = 1^2 + (-3)^2 = 10 $$\n",
    "\n",
    "so by selecting a positive magnitude rather than the negative one we obtain $R = \\sqrt{10} \\approx 3.1623$.\n",
    "\n",
    "Now, dividing the two equations above,\n",
    "\n",
    "$$ \\tan \\Phi = \\frac{\\sin \\Phi}{\\cos \\Phi} = -3 $$\n",
    "\n",
    "so $ \\Phi = \\tan^{-1} (-3) \\approx -1.249$."
   ]
  },
  {
   "cell_type": "markdown",
   "metadata": {},
   "source": [
    "**Exercise 13.3**.  Consider the series displayed in Exhibit 13.2 on page 320.\n",
    "\n",
    "**(a)** Verify that regressing the series on $\\cos (2\\pi ft)$ and $\\sin (2\\pi ft)$ for $f = 4/96$ provides perfect estimates of $A$ and $B$.\n",
    "\n",
    "**(b)** Use Equations (13.1.5) on page 321 to obtain the relationship between $R$, $\\Phi$, $A$ and $B$ for the cosine component at frequency $f = 4/96$. (For this component, the amplitude is 1 and the phase is $0.6 \\phi$.)\n",
    "\n",
    "**(c)** Verify that regressing the series on $\\cos (2\\pi ft)$ and $\\sin (2\\pi ft)$ for $f = 14/96$ provides perfect estimates of $A$ and $B$.\n",
    "\n",
    "**(d)** Verify that regressing the series on $\\cos (2\\pi ft)$ and $\\sin (2\\pi ft)$ for both $f = 4/96$ and $f = 14/96$ together provides perfect estimates of $A_4$, $B_4$, $A_{14}$ and $B_{14}$.\n",
    "\n",
    "**(e)** Verify that regressing the series on $\\cos (2\\pi ft)$ and $\\sin (2\\pi ft)$ for both $f = 3/96$ and $f = 13/96$ together provides perfect estimates of $A_3$, $B_3$, $A_{13}$ and $B_{13}$.\n",
    "\n",
    "**(f)** Repeat part (e) but add a third pair of cosine-sine predictor variables at any other Fourier frequency.  Verify that all of the regression coefficients are still estimated perfectly."
   ]
  }
 ],
 "metadata": {
  "kernelspec": {
   "display_name": "Python 3",
   "language": "python",
   "name": "python3"
  },
  "language_info": {
   "codemirror_mode": {
    "name": "ipython",
    "version": 3
   },
   "file_extension": ".py",
   "mimetype": "text/x-python",
   "name": "python",
   "nbconvert_exporter": "python",
   "pygments_lexer": "ipython3",
   "version": "3.7.3"
  }
 },
 "nbformat": 4,
 "nbformat_minor": 2
}
