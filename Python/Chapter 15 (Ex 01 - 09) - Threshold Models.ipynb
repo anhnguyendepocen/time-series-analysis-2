{
 "cells": [
  {
   "cell_type": "markdown",
   "metadata": {},
   "source": [
    "## 15. Threshold Models"
   ]
  },
  {
   "cell_type": "markdown",
   "metadata": {},
   "source": [
    "**Exercise 15.1**. Fit a TAR model for the predator series with delay set to 2, and interpret the findings by making use of the framework studied in Stenseth et al. (1998, 1999). (You may first want to check whether or not their framework is approximately valid for the TAR model.) Also, compare the fitted model with the TAR(2;1,4) model with delay 3 reported in the text. (The data file is named `veilleux`.)"
   ]
  },
  {
   "cell_type": "markdown",
   "metadata": {},
   "source": [
    "**Solution**."
   ]
  },
  {
   "cell_type": "markdown",
   "metadata": {},
   "source": [
    "Let's fit the data series for the predator numbers (without its starting points) to a TAR model with $d = 2$ and with $d = 3$, using the same methodology as in the text."
   ]
  },
  {
   "cell_type": "code",
   "execution_count": 1,
   "metadata": {},
   "outputs": [],
   "source": [
    "import numpy as np\n",
    "import pandas as pd\n",
    "\n",
    "import matplotlib.pyplot as plt\n",
    "%matplotlib inline"
   ]
  },
  {
   "cell_type": "code",
   "execution_count": 2,
   "metadata": {},
   "outputs": [],
   "source": [
    "%%capture\n",
    "%run tar.py"
   ]
  },
  {
   "cell_type": "code",
   "execution_count": 3,
   "metadata": {},
   "outputs": [],
   "source": [
    "# Load and select the predator data series\n",
    "Y = pd.read_csv('../data/veilleux.dat', sep=' ')['Didinium']\n",
    "\n",
    "# Filter out quasiperiodic start\n",
    "Y = np.r_[Y[14:]]"
   ]
  },
  {
   "cell_type": "code",
   "execution_count": 4,
   "metadata": {},
   "outputs": [
    {
     "name": "stdout",
     "output_type": "stream",
     "text": [
      "Model: SETAR(2, 1, 4), with model delay 2\n",
      "Estimated threshold 4.048, from a Minimum AIC fit with thresholds.\n",
      "Searched from the 17.0 percentile to the 81.1 percentile of all data.\n",
      "The estimated threshold is 26.4 percentile of all data.\n",
      "Nominal AIC: 12.15\n",
      "\n",
      "\n",
      "==============================================================================\n",
      "|                               Lower Regime                                 |\n",
      "==============================================================================\n",
      "\n",
      "                            OLS Regression Results                            \n",
      "==============================================================================\n",
      "Dep. Variable:                      y   R-squared:                       0.581\n",
      "Model:                            OLS   Adj. R-squared:                  0.546\n",
      "Method:                 Least Squares   F-statistic:                     16.66\n",
      "Date:                Tue, 02 Jun 2020   Prob (F-statistic):            0.00152\n",
      "Time:                        16:42:11   Log-Likelihood:                0.93279\n",
      "No. Observations:                  14   AIC:                             2.134\n",
      "Df Residuals:                      12   BIC:                             3.413\n",
      "Df Model:                           1                                         \n",
      "Covariance Type:            nonrobust                                         \n",
      "==============================================================================\n",
      "                 coef    std err          t      P>|t|      [0.025      0.975]\n",
      "------------------------------------------------------------------------------\n",
      "const          0.9526      0.786      1.212      0.249      -0.759       2.664\n",
      "x1             0.8230      0.202      4.082      0.002       0.384       1.262\n",
      "==============================================================================\n",
      "Omnibus:                        3.807   Durbin-Watson:                   2.348\n",
      "Prob(Omnibus):                  0.149   Jarque-Bera (JB):                1.405\n",
      "Skew:                          -0.649   Prob(JB):                        0.495\n",
      "Kurtosis:                       3.852   Cond. No.                         49.9\n",
      "==============================================================================\n",
      "\n",
      "Warnings:\n",
      "[1] Standard Errors assume that the covariance matrix of the errors is correctly specified.\n",
      "\n",
      "(Unbiased) RMS:\n",
      "0.05979\n",
      "with number of data falling into the regime:\n",
      "14\n",
      "(Max. likelihood) RMS for each series (denominator=sample size in the regime):\n",
      "0.05125\n",
      "\n",
      "==============================================================================\n",
      "|                               Upper Regime                                 |\n",
      "==============================================================================\n",
      "\n",
      "                            OLS Regression Results                            \n",
      "==============================================================================\n",
      "Dep. Variable:                      y   R-squared:                       0.888\n",
      "Model:                            OLS   Adj. R-squared:                  0.875\n",
      "Method:                 Least Squares   F-statistic:                     67.32\n",
      "Date:                Tue, 02 Jun 2020   Prob (F-statistic):           1.12e-15\n",
      "Time:                        16:42:11   Log-Likelihood:                0.99381\n",
      "No. Observations:                  39   AIC:                             8.012\n",
      "Df Residuals:                      34   BIC:                             16.33\n",
      "Df Model:                           4                                         \n",
      "Covariance Type:            nonrobust                                         \n",
      "==============================================================================\n",
      "                 coef    std err          t      P>|t|      [0.025      0.975]\n",
      "------------------------------------------------------------------------------\n",
      "const          4.0579      0.572      7.099      0.000       2.896       5.220\n",
      "x1             0.9122      0.143      6.369      0.000       0.621       1.203\n",
      "x2            -0.2616      0.211     -1.241      0.223      -0.690       0.167\n",
      "x3            -0.1989      0.202     -0.982      0.333      -0.610       0.212\n",
      "x4            -0.3178      0.149     -2.138      0.040      -0.620      -0.016\n",
      "==============================================================================\n",
      "Omnibus:                        3.124   Durbin-Watson:                   1.861\n",
      "Prob(Omnibus):                  0.210   Jarque-Bera (JB):                2.000\n",
      "Skew:                           0.323   Prob(JB):                        0.368\n",
      "Kurtosis:                       3.902   Cond. No.                         141.\n",
      "==============================================================================\n",
      "\n",
      "Warnings:\n",
      "[1] Standard Errors assume that the covariance matrix of the errors is correctly specified.\n",
      "\n",
      "(Unbiased) RMS:\n",
      "0.06382\n",
      "with number of data falling into the regime:\n",
      "39\n",
      "(Max. likelihood) RMS for each series (denominator=sample size in the regime):\n",
      "0.05564\n"
     ]
    },
    {
     "name": "stderr",
     "output_type": "stream",
     "text": [
      "c:\\programdata\\miniconda3\\lib\\site-packages\\scipy\\stats\\stats.py:1535: UserWarning: kurtosistest only valid for n>=20 ... continuing anyway, n=14\n",
      "  \"anyway, n=%i\" % int(n))\n"
     ]
    }
   ],
   "source": [
    "model_d2 = tar(np.log(Y), p1=4, p2=4, d=2, a=.1, b=.9, display=True)"
   ]
  },
  {
   "cell_type": "code",
   "execution_count": 5,
   "metadata": {},
   "outputs": [
    {
     "name": "stdout",
     "output_type": "stream",
     "text": [
      "Model: SETAR(2, 1, 4), with model delay 3\n",
      "Estimated threshold 4.661, from a Minimum AIC fit with thresholds.\n",
      "Searched from the 17.0 percentile to the 81.1 percentile of all data.\n",
      "The estimated threshold is 56.6 percentile of all data.\n",
      "Nominal AIC: 10.92\n",
      "\n",
      "\n",
      "==============================================================================\n",
      "|                               Lower Regime                                 |\n",
      "==============================================================================\n",
      "\n",
      "                            OLS Regression Results                            \n",
      "==============================================================================\n",
      "Dep. Variable:                      y   R-squared:                       0.882\n",
      "Model:                            OLS   Adj. R-squared:                  0.877\n",
      "Method:                 Least Squares   F-statistic:                     208.7\n",
      "Date:                Tue, 02 Jun 2020   Prob (F-statistic):           1.67e-14\n",
      "Time:                        16:42:11   Log-Likelihood:                 2.0310\n",
      "No. Observations:                  30   AIC:                          -0.06204\n",
      "Df Residuals:                      28   BIC:                             2.740\n",
      "Df Model:                           1                                         \n",
      "Covariance Type:            nonrobust                                         \n",
      "==============================================================================\n",
      "                 coef    std err          t      P>|t|      [0.025      0.975]\n",
      "------------------------------------------------------------------------------\n",
      "const          0.2621      0.316      0.830      0.413      -0.384       0.908\n",
      "x1             1.0175      0.070     14.445      0.000       0.873       1.162\n",
      "==============================================================================\n",
      "Omnibus:                        3.579   Durbin-Watson:                   2.277\n",
      "Prob(Omnibus):                  0.167   Jarque-Bera (JB):                2.219\n",
      "Skew:                          -0.623   Prob(JB):                        0.330\n",
      "Kurtosis:                       3.474   Cond. No.                         34.7\n",
      "==============================================================================\n",
      "\n",
      "Warnings:\n",
      "[1] Standard Errors assume that the covariance matrix of the errors is correctly specified.\n",
      "\n",
      "(Unbiased) RMS:\n",
      "0.05479\n",
      "with number of data falling into the regime:\n",
      "30\n",
      "(Max. likelihood) RMS for each series (denominator=sample size in the regime):\n",
      "0.05114\n",
      "\n",
      "==============================================================================\n",
      "|                               Upper Regime                                 |\n",
      "==============================================================================\n",
      "\n",
      "                            OLS Regression Results                            \n",
      "==============================================================================\n",
      "Dep. Variable:                      y   R-squared:                       0.870\n",
      "Model:                            OLS   Adj. R-squared:                  0.841\n",
      "Method:                 Least Squares   F-statistic:                     30.11\n",
      "Date:                Tue, 02 Jun 2020   Prob (F-statistic):           9.38e-08\n",
      "Time:                        16:42:11   Log-Likelihood:                0.50745\n",
      "No. Observations:                  23   AIC:                             8.985\n",
      "Df Residuals:                      18   BIC:                             14.66\n",
      "Df Model:                           4                                         \n",
      "Covariance Type:            nonrobust                                         \n",
      "==============================================================================\n",
      "                 coef    std err          t      P>|t|      [0.025      0.975]\n",
      "------------------------------------------------------------------------------\n",
      "const          4.1986      1.284      3.270      0.004       1.501       6.896\n",
      "x1             0.7081      0.202      3.501      0.003       0.283       1.133\n",
      "x2            -0.3009      0.312     -0.965      0.347      -0.956       0.354\n",
      "x3             0.2788      0.406      0.686      0.501      -0.575       1.132\n",
      "x4            -0.6113      0.273     -2.243      0.038      -1.184      -0.039\n",
      "==============================================================================\n",
      "Omnibus:                        0.233   Durbin-Watson:                   2.651\n",
      "Prob(Omnibus):                  0.890   Jarque-Bera (JB):                0.422\n",
      "Skew:                          -0.139   Prob(JB):                        0.810\n",
      "Kurtosis:                       2.398   Cond. No.                         238.\n",
      "==============================================================================\n",
      "\n",
      "Warnings:\n",
      "[1] Standard Errors assume that the covariance matrix of the errors is correctly specified.\n",
      "\n",
      "(Unbiased) RMS:\n",
      "0.07158\n",
      "with number of data falling into the regime:\n",
      "23\n",
      "(Max. likelihood) RMS for each series (denominator=sample size in the regime):\n",
      "0.05602\n"
     ]
    }
   ],
   "source": [
    "model_d3 = tar(np.log(Y), p1=4, p2=4, d=3, a=.1, b=.9, display=True)"
   ]
  },
  {
   "cell_type": "markdown",
   "metadata": {},
   "source": [
    "The model estimated with delay $d = 2$ is selected as SETAR(2, 4, 3), and the threshold splits 26.4% of the data, while the model estimated with delay $d = 3$ is selected as SETAR(2, 1, 1), and the threshold splits 56.65% of the data; this means that the model with delay 3 is more balanced (with a split closer to 50%).\n",
    "\n",
    "Additionally, the estimated noise variances are generally smaller on the model with delay $d = 3$, and its AIC is also smaller. \n",
    "\n",
    "Finally, looking at the skeletons, the cycle doesn't quite converge within tolerances with default values for delay $d = 2$, though it appears to have a cycle of length 10.  Convergence within cycle 10 is achieved, and the skeleton looks almost piecewise linear."
   ]
  },
  {
   "cell_type": "code",
   "execution_count": 6,
   "metadata": {},
   "outputs": [
    {
     "name": "stdout",
     "output_type": "stream",
     "text": [
      "No limit cycle\n",
      "Tail part of the skeleton:\n",
      "[3.87258113 4.13952893 4.35921497 4.93962869 5.36941061 5.48107754\n",
      " 5.28526672 4.80753307 4.26420804 3.89704364 3.86149858 4.13040849\n",
      " 4.35170926 4.9405048  5.37750886 5.49262611 5.29589319 4.81231603\n",
      " 4.26092083 3.88701083 3.84887901 4.12002315 4.34316259 4.94112353\n",
      " 5.38638465 5.50556021 5.30796204 4.81797937 4.25753672 3.87593218\n",
      " 3.8346974  4.10835232 4.33355803 4.94175655 5.39630225 5.52005974\n",
      " 5.32151961 4.82437941 4.25379276 3.86353905 3.81879132 4.09526234\n",
      " 4.32278556 4.94245616 5.40741635 5.53631648 5.3367249  4.83156362\n",
      " 4.24960336 3.84964839]\n"
     ]
    },
    {
     "data": {
      "image/png": "[encoded data removed]",
      "text/plain": [
       "<Figure size 864x288 with 1 Axes>"
      ]
     },
     "metadata": {
      "needs_background": "light"
     },
     "output_type": "display_data"
    }
   ],
   "source": [
    "plt.figure(figsize=(12, 4))\n",
    "tar_skeleton(model_d2);"
   ]
  },
  {
   "cell_type": "code",
   "execution_count": 7,
   "metadata": {},
   "outputs": [
    {
     "name": "stdout",
     "output_type": "stream",
     "text": [
      "Limit cycle of length 10\n",
      "Cycle:\n",
      "[4.68050044 4.33893353 3.92274183 3.82226981 4.15134606 4.48619123\n",
      " 4.82690646 5.17359465 5.52636052 5.15865704]\n"
     ]
    },
    {
     "data": {
      "image/png": "[encoded data removed]",
      "text/plain": [
       "<Figure size 864x288 with 1 Axes>"
      ]
     },
     "metadata": {
      "needs_background": "light"
     },
     "output_type": "display_data"
    }
   ],
   "source": [
    "plt.figure(figsize=(12, 4))\n",
    "tar_skeleton(model_d3);"
   ]
  },
  {
   "cell_type": "markdown",
   "metadata": {},
   "source": [
    "**Exercise 15.2**. Fit a TAR model to the square-root-transformed relative sunspot data, and examine its goodness of fit. Interpret the fitted TAR model. (The data file is named `spots`.)"
   ]
  },
  {
   "cell_type": "markdown",
   "metadata": {},
   "source": [
    "**Solution**."
   ]
  },
  {
   "cell_type": "markdown",
   "metadata": {},
   "source": [
    "As in Exhibit 15.11, we can search through models with multiple delays based on AIC:"
   ]
  },
  {
   "cell_type": "code",
   "execution_count": 8,
   "metadata": {},
   "outputs": [],
   "source": [
    "Y = pd.read_csv('../data/spots.dat')['spots'].to_numpy()"
   ]
  },
  {
   "cell_type": "code",
   "execution_count": 9,
   "metadata": {},
   "outputs": [
    {
     "data": {
      "text/html": [
       "<div>\n",
       "<style scoped>\n",
       "    .dataframe tbody tr th:only-of-type {\n",
       "        vertical-align: middle;\n",
       "    }\n",
       "\n",
       "    .dataframe tbody tr th {\n",
       "        vertical-align: top;\n",
       "    }\n",
       "\n",
       "    .dataframe thead th {\n",
       "        text-align: right;\n",
       "    }\n",
       "</style>\n",
       "<table border=\"1\" class=\"dataframe\">\n",
       "  <thead>\n",
       "    <tr style=\"text-align: right;\">\n",
       "      <th></th>\n",
       "      <th>d</th>\n",
       "      <th>Nominal AIC</th>\n",
       "      <th>r</th>\n",
       "      <th>p1</th>\n",
       "      <th>p2</th>\n",
       "    </tr>\n",
       "  </thead>\n",
       "  <tbody>\n",
       "    <tr>\n",
       "      <th>0</th>\n",
       "      <td>1.0</td>\n",
       "      <td>149.921169</td>\n",
       "      <td>5.882176</td>\n",
       "      <td>5.0</td>\n",
       "      <td>5.0</td>\n",
       "    </tr>\n",
       "    <tr>\n",
       "      <th>1</th>\n",
       "      <td>2.0</td>\n",
       "      <td>110.459146</td>\n",
       "      <td>6.058052</td>\n",
       "      <td>3.0</td>\n",
       "      <td>5.0</td>\n",
       "    </tr>\n",
       "    <tr>\n",
       "      <th>2</th>\n",
       "      <td>3.0</td>\n",
       "      <td>124.569568</td>\n",
       "      <td>6.595453</td>\n",
       "      <td>2.0</td>\n",
       "      <td>5.0</td>\n",
       "    </tr>\n",
       "    <tr>\n",
       "      <th>3</th>\n",
       "      <td>4.0</td>\n",
       "      <td>126.195863</td>\n",
       "      <td>8.043631</td>\n",
       "      <td>3.0</td>\n",
       "      <td>5.0</td>\n",
       "    </tr>\n",
       "    <tr>\n",
       "      <th>4</th>\n",
       "      <td>5.0</td>\n",
       "      <td>150.467085</td>\n",
       "      <td>8.154753</td>\n",
       "      <td>4.0</td>\n",
       "      <td>5.0</td>\n",
       "    </tr>\n",
       "  </tbody>\n",
       "</table>\n",
       "</div>"
      ],
      "text/plain": [
       "     d  Nominal AIC         r   p1   p2\n",
       "0  1.0   149.921169  5.882176  5.0  5.0\n",
       "1  2.0   110.459146  6.058052  3.0  5.0\n",
       "2  3.0   124.569568  6.595453  2.0  5.0\n",
       "3  4.0   126.195863  8.043631  3.0  5.0\n",
       "4  5.0   150.467085  8.154753  4.0  5.0"
      ]
     },
     "execution_count": 9,
     "metadata": {},
     "output_type": "execute_result"
    }
   ],
   "source": [
    "max_d = 5\n",
    "max_p = 5\n",
    "\n",
    "AICM = pd.DataFrame(columns=['d', 'Nominal AIC', 'r', 'p1', 'p2'])\n",
    "\n",
    "for d in range(1, max_d + 1):\n",
    "    model_spots = tar(np.sqrt(Y), p1=max_p, p2=max_p, d=d, a=.1, b=.9)\n",
    "    AICM = AICM.append({\n",
    "        'd': d, 'Nominal AIC': model_spots['AIC'], \n",
    "        'r': model_spots['thd'], 'p1': model_spots['p1'], 'p2': model_spots['p2']\n",
    "    }, ignore_index=True)\n",
    "\n",
    "AICM"
   ]
  },
  {
   "cell_type": "markdown",
   "metadata": {},
   "source": [
    "The model with best AIC has delay 2, and is a SETAR(2, 3, 5) model:"
   ]
  },
  {
   "cell_type": "code",
   "execution_count": 10,
   "metadata": {},
   "outputs": [
    {
     "name": "stdout",
     "output_type": "stream",
     "text": [
      "Model: SETAR(2, 3, 5), with model delay 2\n",
      "Estimated threshold 6.058, from a Minimum AIC fit with thresholds.\n",
      "Searched from the 12.5 percentile to the 78.6 percentile of all data.\n",
      "The estimated threshold is 35.7 percentile of all data.\n",
      "Nominal AIC: 110.5\n",
      "\n",
      "\n",
      "==============================================================================\n",
      "|                               Lower Regime                                 |\n",
      "==============================================================================\n",
      "\n",
      "                            OLS Regression Results                            \n",
      "==============================================================================\n",
      "Dep. Variable:                      y   R-squared:                       0.948\n",
      "Model:                            OLS   Adj. R-squared:                  0.938\n",
      "Method:                 Least Squares   F-statistic:                     97.07\n",
      "Date:                Tue, 02 Jun 2020   Prob (F-statistic):           1.77e-10\n",
      "Time:                        16:42:13   Log-Likelihood:                -24.176\n",
      "No. Observations:                  20   AIC:                             56.35\n",
      "Df Residuals:                      16   BIC:                             60.33\n",
      "Df Model:                           3                                         \n",
      "Covariance Type:            nonrobust                                         \n",
      "==============================================================================\n",
      "                 coef    std err          t      P>|t|      [0.025      0.975]\n",
      "------------------------------------------------------------------------------\n",
      "const          9.5242      1.280      7.443      0.000       6.812      12.237\n",
      "x1             1.0479      0.170      6.168      0.000       0.688       1.408\n",
      "x2            -1.2022      0.291     -4.132      0.001      -1.819      -0.585\n",
      "x3            -0.5555      0.244     -2.275      0.037      -1.073      -0.038\n",
      "==============================================================================\n",
      "Omnibus:                        0.342   Durbin-Watson:                   2.370\n",
      "Prob(Omnibus):                  0.843   Jarque-Bera (JB):                0.470\n",
      "Skew:                           0.241   Prob(JB):                        0.790\n",
      "Kurtosis:                       2.424   Cond. No.                         55.8\n",
      "==============================================================================\n",
      "\n",
      "Warnings:\n",
      "[1] Standard Errors assume that the covariance matrix of the errors is correctly specified.\n",
      "\n",
      "(Unbiased) RMS:\n",
      "0.8211\n",
      "with number of data falling into the regime:\n",
      "20\n",
      "(Max. likelihood) RMS for each series (denominator=sample size in the regime):\n",
      "0.6569\n",
      "\n",
      "==============================================================================\n",
      "|                               Upper Regime                                 |\n",
      "==============================================================================\n",
      "\n",
      "                            OLS Regression Results                            \n",
      "==============================================================================\n",
      "Dep. Variable:                      y   R-squared:                       0.978\n",
      "Model:                            OLS   Adj. R-squared:                  0.974\n",
      "Method:                 Least Squares   F-statistic:                     262.7\n",
      "Date:                Tue, 02 Jun 2020   Prob (F-statistic):           8.16e-24\n",
      "Time:                        16:42:13   Log-Likelihood:                -20.054\n",
      "No. Observations:                  36   AIC:                             52.11\n",
      "Df Residuals:                      30   BIC:                             61.61\n",
      "Df Model:                           5                                         \n",
      "Covariance Type:            nonrobust                                         \n",
      "==============================================================================\n",
      "                 coef    std err          t      P>|t|      [0.025      0.975]\n",
      "------------------------------------------------------------------------------\n",
      "const          5.6852      0.861      6.605      0.000       3.927       7.443\n",
      "x1             0.3711      0.107      3.468      0.002       0.153       0.590\n",
      "x2             0.3847      0.118      3.253      0.003       0.143       0.626\n",
      "x3            -0.0656      0.111     -0.589      0.560      -0.293       0.162\n",
      "x4            -0.3634      0.109     -3.341      0.002      -0.585      -0.141\n",
      "x5            -0.1118      0.074     -1.502      0.144      -0.264       0.040\n",
      "==============================================================================\n",
      "Omnibus:                        0.683   Durbin-Watson:                   2.829\n",
      "Prob(Omnibus):                  0.711   Jarque-Bera (JB):                0.738\n",
      "Skew:                           0.145   Prob(JB):                        0.691\n",
      "Kurtosis:                       2.361   Cond. No.                         239.\n",
      "==============================================================================\n",
      "\n",
      "Warnings:\n",
      "[1] Standard Errors assume that the covariance matrix of the errors is correctly specified.\n",
      "\n",
      "(Unbiased) RMS:\n",
      "0.2141\n",
      "with number of data falling into the regime:\n",
      "36\n",
      "(Max. likelihood) RMS for each series (denominator=sample size in the regime):\n",
      "0.1784\n"
     ]
    }
   ],
   "source": [
    "model_spots = tar(np.sqrt(Y), p1=3, p2=5, d=2, a=.1, b=.9, display=True)"
   ]
  },
  {
   "cell_type": "markdown",
   "metadata": {},
   "source": [
    "Since the largest delay on the upper regime is not significant ($\\hat{\\phi}_{2, 5}$ has p-value 0.144), we refit the model as a SETAR(2, 3, 4):"
   ]
  },
  {
   "cell_type": "code",
   "execution_count": 11,
   "metadata": {},
   "outputs": [
    {
     "name": "stdout",
     "output_type": "stream",
     "text": [
      "Model: SETAR(2, 3, 4), with model delay 2\n",
      "Estimated threshold 6.058, from a Minimum AIC fit with thresholds.\n",
      "Searched from the 12.3 percentile to the 82.5 percentile of all data.\n",
      "The estimated threshold is 35.1 percentile of all data.\n",
      "Nominal AIC: 113.7\n",
      "\n",
      "\n",
      "==============================================================================\n",
      "|                               Lower Regime                                 |\n",
      "==============================================================================\n",
      "\n",
      "                            OLS Regression Results                            \n",
      "==============================================================================\n",
      "Dep. Variable:                      y   R-squared:                       0.948\n",
      "Model:                            OLS   Adj. R-squared:                  0.938\n",
      "Method:                 Least Squares   F-statistic:                     97.07\n",
      "Date:                Tue, 02 Jun 2020   Prob (F-statistic):           1.77e-10\n",
      "Time:                        16:42:13   Log-Likelihood:                -24.176\n",
      "No. Observations:                  20   AIC:                             56.35\n",
      "Df Residuals:                      16   BIC:                             60.33\n",
      "Df Model:                           3                                         \n",
      "Covariance Type:            nonrobust                                         \n",
      "==============================================================================\n",
      "                 coef    std err          t      P>|t|      [0.025      0.975]\n",
      "------------------------------------------------------------------------------\n",
      "const          9.5242      1.280      7.443      0.000       6.812      12.237\n",
      "x1             1.0479      0.170      6.168      0.000       0.688       1.408\n",
      "x2            -1.2022      0.291     -4.132      0.001      -1.819      -0.585\n",
      "x3            -0.5555      0.244     -2.275      0.037      -1.073      -0.038\n",
      "==============================================================================\n",
      "Omnibus:                        0.342   Durbin-Watson:                   2.370\n",
      "Prob(Omnibus):                  0.843   Jarque-Bera (JB):                0.470\n",
      "Skew:                           0.241   Prob(JB):                        0.790\n",
      "Kurtosis:                       2.424   Cond. No.                         55.8\n",
      "==============================================================================\n",
      "\n",
      "Warnings:\n",
      "[1] Standard Errors assume that the covariance matrix of the errors is correctly specified.\n",
      "\n",
      "(Unbiased) RMS:\n",
      "0.8211\n",
      "with number of data falling into the regime:\n",
      "20\n",
      "(Max. likelihood) RMS for each series (denominator=sample size in the regime):\n",
      "0.6569\n",
      "\n",
      "==============================================================================\n",
      "|                               Upper Regime                                 |\n",
      "==============================================================================\n",
      "\n",
      "                            OLS Regression Results                            \n",
      "==============================================================================\n",
      "Dep. Variable:                      y   R-squared:                       0.976\n",
      "Model:                            OLS   Adj. R-squared:                  0.973\n",
      "Method:                 Least Squares   F-statistic:                     328.9\n",
      "Date:                Tue, 02 Jun 2020   Prob (F-statistic):           1.70e-25\n",
      "Time:                        16:42:13   Log-Likelihood:                -22.687\n",
      "No. Observations:                  37   AIC:                             55.37\n",
      "Df Residuals:                      32   BIC:                             63.43\n",
      "Df Model:                           4                                         \n",
      "Covariance Type:            nonrobust                                         \n",
      "==============================================================================\n",
      "                 coef    std err          t      P>|t|      [0.025      0.975]\n",
      "------------------------------------------------------------------------------\n",
      "const          4.8070      0.642      7.485      0.000       3.499       6.115\n",
      "x1             0.4025      0.102      3.928      0.000       0.194       0.611\n",
      "x2             0.4166      0.120      3.462      0.002       0.171       0.662\n",
      "x3            -0.0122      0.110     -0.111      0.912      -0.237       0.213\n",
      "x4            -0.4886      0.084     -5.793      0.000      -0.660      -0.317\n",
      "==============================================================================\n",
      "Omnibus:                        2.991   Durbin-Watson:                   2.677\n",
      "Prob(Omnibus):                  0.224   Jarque-Bera (JB):                1.581\n",
      "Skew:                           0.176   Prob(JB):                        0.454\n",
      "Kurtosis:                       2.051   Cond. No.                         162.\n",
      "==============================================================================\n",
      "\n",
      "Warnings:\n",
      "[1] Standard Errors assume that the covariance matrix of the errors is correctly specified.\n",
      "\n",
      "(Unbiased) RMS:\n",
      "0.2308\n",
      "with number of data falling into the regime:\n",
      "37\n",
      "(Max. likelihood) RMS for each series (denominator=sample size in the regime):\n",
      "0.1996\n"
     ]
    }
   ],
   "source": [
    "model_spots = tar(np.sqrt(Y), p1=3, p2=4, d=2, a=.1, b=.9, display=True)"
   ]
  },
  {
   "cell_type": "markdown",
   "metadata": {},
   "source": [
    "Next, running diagnostics:\n",
    "\n",
    "- The standardized residuals show no pattern\n",
    "- The ACF of the residuals do not display correlation\n",
    "- The p-values for the Portmanteau test shows all values above 0.05\n",
    "- The QQ plot looks reasonable, and the Shapiro-Wilk normality test cannot reject normality of the residuals."
   ]
  },
  {
   "cell_type": "code",
   "execution_count": 12,
   "metadata": {},
   "outputs": [],
   "source": [
    "from statsmodels.graphics.tsaplots import plot_acf\n",
    "from scipy.stats import shapiro"
   ]
  },
  {
   "cell_type": "code",
   "execution_count": 13,
   "metadata": {},
   "outputs": [
    {
     "data": {
      "image/png": "[encoded data removed]",
      "text/plain": [
       "<Figure size 864x288 with 1 Axes>"
      ]
     },
     "metadata": {
      "needs_background": "light"
     },
     "output_type": "display_data"
    }
   ],
   "source": [
    "plt.figure(figsize=(12, 4))\n",
    "plt.plot(np.arange(len(model_spots['std_res']))+1, model_spots['std_res'], linestyle='none', marker='o')\n",
    "plt.axhline(color='black', linewidth=0.5)\n",
    "plt.xlabel('Lag')\n",
    "plt.ylabel('Standard Residual')\n",
    "plt.show()"
   ]
  },
  {
   "cell_type": "code",
   "execution_count": 14,
   "metadata": {},
   "outputs": [
    {
     "data": {
      "image/png": "[encoded data removed]",
      "text/plain": [
       "<Figure size 864x288 with 1 Axes>"
      ]
     },
     "metadata": {
      "needs_background": "light"
     },
     "output_type": "display_data"
    }
   ],
   "source": [
    "plt.figure(figsize=(12, 4))\n",
    "plot_acf(model_spots['std_res'], zero=False, ax=plt.gca())\n",
    "plt.show();"
   ]
  },
  {
   "cell_type": "code",
   "execution_count": 15,
   "metadata": {},
   "outputs": [
    {
     "data": {
      "image/png": "[encoded data removed]",
      "text/plain": [
       "<Figure size 864x288 with 1 Axes>"
      ]
     },
     "metadata": {
      "needs_background": "light"
     },
     "output_type": "display_data"
    }
   ],
   "source": [
    "# TAR-specific generalized Portmanteau test\n",
    "plt.figure(figsize=(12, 4))\n",
    "gBox_tar(model_spots);"
   ]
  },
  {
   "cell_type": "code",
   "execution_count": 16,
   "metadata": {},
   "outputs": [
    {
     "data": {
      "text/plain": [
       "0.26674342155456543"
      ]
     },
     "execution_count": 16,
     "metadata": {},
     "output_type": "execute_result"
    }
   ],
   "source": [
    "# Shapiro-Wilk normality test\n",
    "\n",
    "W, p_value = shapiro(model_spots['std_res'])\n",
    "p_value"
   ]
  },
  {
   "cell_type": "markdown",
   "metadata": {},
   "source": [
    "**Exercise 15.3**. Predict the annual relative sunspot numbers for ten years using the fitted model obtained in Exercise 15.2. Draw the prediction intervals and the predicted medians. (The data file is named `spots`.)"
   ]
  },
  {
   "cell_type": "markdown",
   "metadata": {},
   "source": [
    "**Solution**."
   ]
  },
  {
   "cell_type": "code",
   "execution_count": 17,
   "metadata": {},
   "outputs": [],
   "source": [
    "model_spots_pred = tar_predict(model_spots, alpha=0.05, n_ahead=10, n_sim=10000)"
   ]
  },
  {
   "cell_type": "code",
   "execution_count": 18,
   "metadata": {},
   "outputs": [],
   "source": [
    "Y_pred = model_spots_pred['fit']**2\n",
    "Y_pred_lower = model_spots_pred['lower']**2\n",
    "Y_pred_upper = model_spots_pred['upper']**2"
   ]
  },
  {
   "cell_type": "code",
   "execution_count": 19,
   "metadata": {},
   "outputs": [
    {
     "data": {
      "image/png": "[encoded data removed]",
      "text/plain": [
       "<Figure size 864x288 with 1 Axes>"
      ]
     },
     "metadata": {
      "needs_background": "light"
     },
     "output_type": "display_data"
    }
   ],
   "source": [
    "# Prepend last element so line is continuous\n",
    "plot_data = np.r_[Y[-1], Y_pred]\n",
    "\n",
    "n = len(Y)\n",
    "m = len(Y_pred)\n",
    "\n",
    "plt.figure(figsize=(12, 4))\n",
    "plt.plot(np.arange(n, n+m+1), plot_data, marker='o', color='C1')\n",
    "plt.plot(np.arange(1, n+1), Y, marker='o', color='C0')\n",
    "plt.fill_between(np.arange(n+1, n+m+1), Y_pred_lower, Y_pred_upper, alpha=0.2, color='C1')\n",
    "plt.show()"
   ]
  },
  {
   "cell_type": "markdown",
   "metadata": {},
   "source": [
    "**Exercise 15.4**. Examine the long-run behavior of the skeleton of the fitted model for the relative sunspot data. Is the fitted model likely to be stationary? Explain your answer. "
   ]
  },
  {
   "cell_type": "markdown",
   "metadata": {},
   "source": [
    "**Exercise 15.5**. Simulate a series of size 1000 from the TAR model fitted to the relative sunspot data. Compute the spectrum of the simulated realization and compare it with the spectrum of the data. Does the fitted model capture the correlation structure of the data? "
   ]
  },
  {
   "cell_type": "markdown",
   "metadata": {},
   "source": [
    "**Exercise 15.6**. Draw the lagged regression plots for the square-root-transformed hare data. Is there any evidence that the hare data are nonlinear? (The data file is named `hare`.)"
   ]
  },
  {
   "cell_type": "markdown",
   "metadata": {},
   "source": [
    "**Exercise 15.7**. Carry out formal tests (Keenan’s test, Tsay’s test, and threshold likelihood ratio test) for nonlinearity for the hare data. Is the hare abundance process nonlinear? Explain your answer. (The data file is named `hare`.)"
   ]
  },
  {
   "cell_type": "markdown",
   "metadata": {},
   "source": [
    "**Exercise 15.8**. Assuming that the hare data are nonlinear, fit a TAR model to the hare data and examine the goodness of fit. (The data file is named `hare`.)"
   ]
  },
  {
   "cell_type": "markdown",
   "metadata": {},
   "source": [
    "**Exercise 15.9**. This exercise assumes that the reader is familiar with Markov chain theory. Consider a simple TAR model that is piecewise constant: \n",
    "\n",
    "$$\n",
    "Y_t = \\begin{cases}\n",
    "\\phi_{1,0} + \\sigma_1 e_t &\\text{if } Y_{t-1} \\leq r\\\\\n",
    "\\phi_{2,0} + \\sigma_2 e_t &\\text{if } Y_{t-1} > r\n",
    "\\end{cases}\n",
    "$$\n",
    "\n",
    "where $\\{e_t\\}$ are independent standard normal random variables. Let $R_t = 1$ if $Y_t \\leq r$ and 2 otherwise, which is a Markov chain.\n",
    "\n",
    "**(a)** Find the transition probability matrix of Rt and its stationary distribution.\n",
    "\n",
    "**(b)** Derive the stationary distribution of {Yt}.\n",
    "\n",
    "**(c)** Find the lag 1 autocovariance of the TAR process. "
   ]
  }
 ],
 "metadata": {
  "kernelspec": {
   "display_name": "Python 3",
   "language": "python",
   "name": "python3"
  },
  "language_info": {
   "codemirror_mode": {
    "name": "ipython",
    "version": 3
   },
   "file_extension": ".py",
   "mimetype": "text/x-python",
   "name": "python",
   "nbconvert_exporter": "python",
   "pygments_lexer": "ipython3",
   "version": "3.7.3"
  }
 },
 "nbformat": 4,
 "nbformat_minor": 2
}
